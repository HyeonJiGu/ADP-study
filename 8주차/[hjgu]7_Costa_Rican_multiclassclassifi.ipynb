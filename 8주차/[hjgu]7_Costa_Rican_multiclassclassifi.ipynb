{
  "nbformat": 4,
  "nbformat_minor": 0,
  "metadata": {
    "colab": {
      "provenance": [],
      "toc_visible": true
    },
    "kernelspec": {
      "name": "python3",
      "display_name": "Python 3"
    },
    "language_info": {
      "name": "python"
    },
    "accelerator": "GPU",
    "gpuClass": "standard"
  },
  "cells": [
    {
      "cell_type": "markdown",
      "source": [
        "<코스타리카 가구 빈곤 수준 예측>\n",
        "> 목표 : 사호 복지 지원이 가장 필요한 가구 식별\n",
        "\n",
        "\n",
        "\n",
        "<컬럼 설명>\n",
        "\n",
        "> Target: 소득 수준 그룹 나타내는 변수\n",
        "- 1=극심한빈곤\n",
        "- 2=보통빈곤\n",
        "- 3= 취약가구\n",
        "- 4=비취약가구\n",
        "\n",
        "> idhogar: 각 가구에 대한 고유 식별자\n",
        "\n",
        "> parentesco1:세대주여부\n",
        "\n",
        "<주의점>\n",
        ">  가장만 점수를 매기는 데 사용된다 == 가구 단위로 빈곤을 예측\n",
        "\n",
        ">  동일한 가구의 개인이 서로 다른 레이블을 갖는 오류는 각 가구의 가장에 대한 레이블을 사용\n",
        "\n",
        "> **분류 데이터이므로 종속변수는 scaler 하든 안하든 간에 scale 당할 가능성이 없도록 (1,2,3,4 -> 0.25, 0.5, ...) string 처리 또는 의미(1,2,3,4-> 극심한 빈곤, 보통빈곤, ...)를 해두는 것이 현명.**\n",
        "- <-**종속변수가 숫자여도 숫자의미를 갖지 않으므로 문자열로 변환.**"
      ],
      "metadata": {
        "id": "z2bn-kHYABJZ"
      }
    },
    {
      "cell_type": "markdown",
      "source": [
        "##### 데이터 로드"
      ],
      "metadata": {
        "id": "4QxNB8TwOcHn"
      }
    },
    {
      "cell_type": "code",
      "execution_count": 1,
      "metadata": {
        "colab": {
          "base_uri": "https://localhost:8080/"
        },
        "id": "T4dnt3Le552_",
        "outputId": "2fa29480-685e-4e09-c437-d607a76cabeb"
      },
      "outputs": [
        {
          "output_type": "stream",
          "name": "stdout",
          "text": [
            "Mounted at /content/drive\n"
          ]
        }
      ],
      "source": [
        "from google.colab import drive\n",
        "drive.mount('/content/drive')"
      ]
    },
    {
      "cell_type": "code",
      "source": [
        "file_path='./drive/MyDrive/data/'\n",
        "train_filename='train_Costa_Rican.csv'"
      ],
      "metadata": {
        "id": "XnMbgnfJ--VV"
      },
      "execution_count": 2,
      "outputs": []
    },
    {
      "cell_type": "code",
      "source": [
        "import pandas as pd\n",
        "import os\n",
        "train = pd.read_csv(os.path.join(file_path, train_filename))"
      ],
      "metadata": {
        "id": "LCMhJFdy-CKI"
      },
      "execution_count": 3,
      "outputs": []
    },
    {
      "cell_type": "code",
      "source": [
        "train.info()"
      ],
      "metadata": {
        "colab": {
          "base_uri": "https://localhost:8080/"
        },
        "id": "LU6es3Lh-FbN",
        "outputId": "f37dffc2-fb12-4719-e10f-41b8ca1481e1"
      },
      "execution_count": 4,
      "outputs": [
        {
          "output_type": "stream",
          "name": "stdout",
          "text": [
            "<class 'pandas.core.frame.DataFrame'>\n",
            "RangeIndex: 9557 entries, 0 to 9556\n",
            "Columns: 143 entries, Id to Target\n",
            "dtypes: float64(8), int64(130), object(5)\n",
            "memory usage: 10.4+ MB\n"
          ]
        }
      ]
    },
    {
      "cell_type": "code",
      "source": [
        "train.head(2)"
      ],
      "metadata": {
        "colab": {
          "base_uri": "https://localhost:8080/",
          "height": 142
        },
        "id": "A5yigDJGGX5G",
        "outputId": "392804f5-bfa8-477d-ae05-1f05c13f9e48"
      },
      "execution_count": 5,
      "outputs": [
        {
          "output_type": "execute_result",
          "data": {
            "text/plain": [
              "             Id      v2a1  hacdor  rooms  hacapo  v14a  refrig  v18q  v18q1  \\\n",
              "0  ID_279628684  190000.0       0      3       0     1       1     0    NaN   \n",
              "1  ID_f29eb3ddd  135000.0       0      4       0     1       1     1    1.0   \n",
              "\n",
              "   r4h1  ...  SQBescolari  SQBage  SQBhogar_total  SQBedjefe  SQBhogar_nin  \\\n",
              "0     0  ...          100    1849               1        100             0   \n",
              "1     0  ...          144    4489               1        144             0   \n",
              "\n",
              "   SQBovercrowding  SQBdependency  SQBmeaned  agesq  Target  \n",
              "0              1.0            0.0      100.0   1849       4  \n",
              "1              1.0           64.0      144.0   4489       4  \n",
              "\n",
              "[2 rows x 143 columns]"
            ],
            "text/html": [
              "\n",
              "\n",
              "  <div id=\"df-92efa526-cb7e-4dcb-9f6d-8d76870e65b8\">\n",
              "    <div class=\"colab-df-container\">\n",
              "      <div>\n",
              "<style scoped>\n",
              "    .dataframe tbody tr th:only-of-type {\n",
              "        vertical-align: middle;\n",
              "    }\n",
              "\n",
              "    .dataframe tbody tr th {\n",
              "        vertical-align: top;\n",
              "    }\n",
              "\n",
              "    .dataframe thead th {\n",
              "        text-align: right;\n",
              "    }\n",
              "</style>\n",
              "<table border=\"1\" class=\"dataframe\">\n",
              "  <thead>\n",
              "    <tr style=\"text-align: right;\">\n",
              "      <th></th>\n",
              "      <th>Id</th>\n",
              "      <th>v2a1</th>\n",
              "      <th>hacdor</th>\n",
              "      <th>rooms</th>\n",
              "      <th>hacapo</th>\n",
              "      <th>v14a</th>\n",
              "      <th>refrig</th>\n",
              "      <th>v18q</th>\n",
              "      <th>v18q1</th>\n",
              "      <th>r4h1</th>\n",
              "      <th>...</th>\n",
              "      <th>SQBescolari</th>\n",
              "      <th>SQBage</th>\n",
              "      <th>SQBhogar_total</th>\n",
              "      <th>SQBedjefe</th>\n",
              "      <th>SQBhogar_nin</th>\n",
              "      <th>SQBovercrowding</th>\n",
              "      <th>SQBdependency</th>\n",
              "      <th>SQBmeaned</th>\n",
              "      <th>agesq</th>\n",
              "      <th>Target</th>\n",
              "    </tr>\n",
              "  </thead>\n",
              "  <tbody>\n",
              "    <tr>\n",
              "      <th>0</th>\n",
              "      <td>ID_279628684</td>\n",
              "      <td>190000.0</td>\n",
              "      <td>0</td>\n",
              "      <td>3</td>\n",
              "      <td>0</td>\n",
              "      <td>1</td>\n",
              "      <td>1</td>\n",
              "      <td>0</td>\n",
              "      <td>NaN</td>\n",
              "      <td>0</td>\n",
              "      <td>...</td>\n",
              "      <td>100</td>\n",
              "      <td>1849</td>\n",
              "      <td>1</td>\n",
              "      <td>100</td>\n",
              "      <td>0</td>\n",
              "      <td>1.0</td>\n",
              "      <td>0.0</td>\n",
              "      <td>100.0</td>\n",
              "      <td>1849</td>\n",
              "      <td>4</td>\n",
              "    </tr>\n",
              "    <tr>\n",
              "      <th>1</th>\n",
              "      <td>ID_f29eb3ddd</td>\n",
              "      <td>135000.0</td>\n",
              "      <td>0</td>\n",
              "      <td>4</td>\n",
              "      <td>0</td>\n",
              "      <td>1</td>\n",
              "      <td>1</td>\n",
              "      <td>1</td>\n",
              "      <td>1.0</td>\n",
              "      <td>0</td>\n",
              "      <td>...</td>\n",
              "      <td>144</td>\n",
              "      <td>4489</td>\n",
              "      <td>1</td>\n",
              "      <td>144</td>\n",
              "      <td>0</td>\n",
              "      <td>1.0</td>\n",
              "      <td>64.0</td>\n",
              "      <td>144.0</td>\n",
              "      <td>4489</td>\n",
              "      <td>4</td>\n",
              "    </tr>\n",
              "  </tbody>\n",
              "</table>\n",
              "<p>2 rows × 143 columns</p>\n",
              "</div>\n",
              "      <button class=\"colab-df-convert\" onclick=\"convertToInteractive('df-92efa526-cb7e-4dcb-9f6d-8d76870e65b8')\"\n",
              "              title=\"Convert this dataframe to an interactive table.\"\n",
              "              style=\"display:none;\">\n",
              "\n",
              "  <svg xmlns=\"http://www.w3.org/2000/svg\" height=\"24px\"viewBox=\"0 0 24 24\"\n",
              "       width=\"24px\">\n",
              "    <path d=\"M0 0h24v24H0V0z\" fill=\"none\"/>\n",
              "    <path d=\"M18.56 5.44l.94 2.06.94-2.06 2.06-.94-2.06-.94-.94-2.06-.94 2.06-2.06.94zm-11 1L8.5 8.5l.94-2.06 2.06-.94-2.06-.94L8.5 2.5l-.94 2.06-2.06.94zm10 10l.94 2.06.94-2.06 2.06-.94-2.06-.94-.94-2.06-.94 2.06-2.06.94z\"/><path d=\"M17.41 7.96l-1.37-1.37c-.4-.4-.92-.59-1.43-.59-.52 0-1.04.2-1.43.59L10.3 9.45l-7.72 7.72c-.78.78-.78 2.05 0 2.83L4 21.41c.39.39.9.59 1.41.59.51 0 1.02-.2 1.41-.59l7.78-7.78 2.81-2.81c.8-.78.8-2.07 0-2.86zM5.41 20L4 18.59l7.72-7.72 1.47 1.35L5.41 20z\"/>\n",
              "  </svg>\n",
              "      </button>\n",
              "\n",
              "\n",
              "\n",
              "    <div id=\"df-a147a8eb-135a-4376-a935-3a340031e95c\">\n",
              "      <button class=\"colab-df-quickchart\" onclick=\"quickchart('df-a147a8eb-135a-4376-a935-3a340031e95c')\"\n",
              "              title=\"Suggest charts.\"\n",
              "              style=\"display:none;\">\n",
              "\n",
              "<svg xmlns=\"http://www.w3.org/2000/svg\" height=\"24px\"viewBox=\"0 0 24 24\"\n",
              "     width=\"24px\">\n",
              "    <g>\n",
              "        <path d=\"M19 3H5c-1.1 0-2 .9-2 2v14c0 1.1.9 2 2 2h14c1.1 0 2-.9 2-2V5c0-1.1-.9-2-2-2zM9 17H7v-7h2v7zm4 0h-2V7h2v10zm4 0h-2v-4h2v4z\"/>\n",
              "    </g>\n",
              "</svg>\n",
              "      </button>\n",
              "    </div>\n",
              "\n",
              "<style>\n",
              "  .colab-df-quickchart {\n",
              "    background-color: #E8F0FE;\n",
              "    border: none;\n",
              "    border-radius: 50%;\n",
              "    cursor: pointer;\n",
              "    display: none;\n",
              "    fill: #1967D2;\n",
              "    height: 32px;\n",
              "    padding: 0 0 0 0;\n",
              "    width: 32px;\n",
              "  }\n",
              "\n",
              "  .colab-df-quickchart:hover {\n",
              "    background-color: #E2EBFA;\n",
              "    box-shadow: 0px 1px 2px rgba(60, 64, 67, 0.3), 0px 1px 3px 1px rgba(60, 64, 67, 0.15);\n",
              "    fill: #174EA6;\n",
              "  }\n",
              "\n",
              "  [theme=dark] .colab-df-quickchart {\n",
              "    background-color: #3B4455;\n",
              "    fill: #D2E3FC;\n",
              "  }\n",
              "\n",
              "  [theme=dark] .colab-df-quickchart:hover {\n",
              "    background-color: #434B5C;\n",
              "    box-shadow: 0px 1px 3px 1px rgba(0, 0, 0, 0.15);\n",
              "    filter: drop-shadow(0px 1px 2px rgba(0, 0, 0, 0.3));\n",
              "    fill: #FFFFFF;\n",
              "  }\n",
              "</style>\n",
              "\n",
              "    <script>\n",
              "      async function quickchart(key) {\n",
              "        const containerElement = document.querySelector('#' + key);\n",
              "        const charts = await google.colab.kernel.invokeFunction(\n",
              "            'suggestCharts', [key], {});\n",
              "      }\n",
              "    </script>\n",
              "\n",
              "      <script>\n",
              "\n",
              "function displayQuickchartButton(domScope) {\n",
              "  let quickchartButtonEl =\n",
              "    domScope.querySelector('#df-a147a8eb-135a-4376-a935-3a340031e95c button.colab-df-quickchart');\n",
              "  quickchartButtonEl.style.display =\n",
              "    google.colab.kernel.accessAllowed ? 'block' : 'none';\n",
              "}\n",
              "\n",
              "        displayQuickchartButton(document);\n",
              "      </script>\n",
              "      <style>\n",
              "    .colab-df-container {\n",
              "      display:flex;\n",
              "      flex-wrap:wrap;\n",
              "      gap: 12px;\n",
              "    }\n",
              "\n",
              "    .colab-df-convert {\n",
              "      background-color: #E8F0FE;\n",
              "      border: none;\n",
              "      border-radius: 50%;\n",
              "      cursor: pointer;\n",
              "      display: none;\n",
              "      fill: #1967D2;\n",
              "      height: 32px;\n",
              "      padding: 0 0 0 0;\n",
              "      width: 32px;\n",
              "    }\n",
              "\n",
              "    .colab-df-convert:hover {\n",
              "      background-color: #E2EBFA;\n",
              "      box-shadow: 0px 1px 2px rgba(60, 64, 67, 0.3), 0px 1px 3px 1px rgba(60, 64, 67, 0.15);\n",
              "      fill: #174EA6;\n",
              "    }\n",
              "\n",
              "    [theme=dark] .colab-df-convert {\n",
              "      background-color: #3B4455;\n",
              "      fill: #D2E3FC;\n",
              "    }\n",
              "\n",
              "    [theme=dark] .colab-df-convert:hover {\n",
              "      background-color: #434B5C;\n",
              "      box-shadow: 0px 1px 3px 1px rgba(0, 0, 0, 0.15);\n",
              "      filter: drop-shadow(0px 1px 2px rgba(0, 0, 0, 0.3));\n",
              "      fill: #FFFFFF;\n",
              "    }\n",
              "  </style>\n",
              "\n",
              "      <script>\n",
              "        const buttonEl =\n",
              "          document.querySelector('#df-92efa526-cb7e-4dcb-9f6d-8d76870e65b8 button.colab-df-convert');\n",
              "        buttonEl.style.display =\n",
              "          google.colab.kernel.accessAllowed ? 'block' : 'none';\n",
              "\n",
              "        async function convertToInteractive(key) {\n",
              "          const element = document.querySelector('#df-92efa526-cb7e-4dcb-9f6d-8d76870e65b8');\n",
              "          const dataTable =\n",
              "            await google.colab.kernel.invokeFunction('convertToInteractive',\n",
              "                                                     [key], {});\n",
              "          if (!dataTable) return;\n",
              "\n",
              "          const docLinkHtml = 'Like what you see? Visit the ' +\n",
              "            '<a target=\"_blank\" href=https://colab.research.google.com/notebooks/data_table.ipynb>data table notebook</a>'\n",
              "            + ' to learn more about interactive tables.';\n",
              "          element.innerHTML = '';\n",
              "          dataTable['output_type'] = 'display_data';\n",
              "          await google.colab.output.renderOutput(dataTable, element);\n",
              "          const docLink = document.createElement('div');\n",
              "          docLink.innerHTML = docLinkHtml;\n",
              "          element.appendChild(docLink);\n",
              "        }\n",
              "      </script>\n",
              "    </div>\n",
              "  </div>\n"
            ]
          },
          "metadata": {},
          "execution_count": 5
        }
      ]
    },
    {
      "cell_type": "code",
      "source": [
        "train['Target'].value_counts()"
      ],
      "metadata": {
        "colab": {
          "base_uri": "https://localhost:8080/"
        },
        "id": "8mIob1JX-fqP",
        "outputId": "117ba533-bb89-4dbd-915e-7d9059ab3531"
      },
      "execution_count": 7,
      "outputs": [
        {
          "output_type": "execute_result",
          "data": {
            "text/plain": [
              "4    5996\n",
              "2    1597\n",
              "3    1209\n",
              "1     755\n",
              "Name: Target, dtype: int64"
            ]
          },
          "metadata": {},
          "execution_count": 7
        }
      ]
    },
    {
      "cell_type": "code",
      "source": [
        "a = train.groupby(['idhogar','parentesco1', 'Target'])['Id'].count().reset_index() # groupby 할 때 Target도 같이 넣어야지 target count 하지 않음음\n",
        "a"
      ],
      "metadata": {
        "colab": {
          "base_uri": "https://localhost:8080/",
          "height": 424
        },
        "id": "Jim1eokjMJOM",
        "outputId": "0aabbb80-14ea-4f03-fe2d-cc9ccd425e9b"
      },
      "execution_count": 8,
      "outputs": [
        {
          "output_type": "execute_result",
          "data": {
            "text/plain": [
              "        idhogar  parentesco1  Target  Id\n",
              "0     001ff74ca            0       4   1\n",
              "1     001ff74ca            1       4   1\n",
              "2     003123ec2            0       2   3\n",
              "3     003123ec2            1       2   1\n",
              "4     004616164            0       2   1\n",
              "...         ...          ...     ...  ..\n",
              "5625  ffae4a097            1       4   1\n",
              "5626  ffe90d46f            0       1   3\n",
              "5627  ffe90d46f            1       1   1\n",
              "5628  fff7d6be1            0       4   3\n",
              "5629  fff7d6be1            1       4   1\n",
              "\n",
              "[5630 rows x 4 columns]"
            ],
            "text/html": [
              "\n",
              "\n",
              "  <div id=\"df-868350d7-e1b4-44e1-8d97-a0baf58bdfae\">\n",
              "    <div class=\"colab-df-container\">\n",
              "      <div>\n",
              "<style scoped>\n",
              "    .dataframe tbody tr th:only-of-type {\n",
              "        vertical-align: middle;\n",
              "    }\n",
              "\n",
              "    .dataframe tbody tr th {\n",
              "        vertical-align: top;\n",
              "    }\n",
              "\n",
              "    .dataframe thead th {\n",
              "        text-align: right;\n",
              "    }\n",
              "</style>\n",
              "<table border=\"1\" class=\"dataframe\">\n",
              "  <thead>\n",
              "    <tr style=\"text-align: right;\">\n",
              "      <th></th>\n",
              "      <th>idhogar</th>\n",
              "      <th>parentesco1</th>\n",
              "      <th>Target</th>\n",
              "      <th>Id</th>\n",
              "    </tr>\n",
              "  </thead>\n",
              "  <tbody>\n",
              "    <tr>\n",
              "      <th>0</th>\n",
              "      <td>001ff74ca</td>\n",
              "      <td>0</td>\n",
              "      <td>4</td>\n",
              "      <td>1</td>\n",
              "    </tr>\n",
              "    <tr>\n",
              "      <th>1</th>\n",
              "      <td>001ff74ca</td>\n",
              "      <td>1</td>\n",
              "      <td>4</td>\n",
              "      <td>1</td>\n",
              "    </tr>\n",
              "    <tr>\n",
              "      <th>2</th>\n",
              "      <td>003123ec2</td>\n",
              "      <td>0</td>\n",
              "      <td>2</td>\n",
              "      <td>3</td>\n",
              "    </tr>\n",
              "    <tr>\n",
              "      <th>3</th>\n",
              "      <td>003123ec2</td>\n",
              "      <td>1</td>\n",
              "      <td>2</td>\n",
              "      <td>1</td>\n",
              "    </tr>\n",
              "    <tr>\n",
              "      <th>4</th>\n",
              "      <td>004616164</td>\n",
              "      <td>0</td>\n",
              "      <td>2</td>\n",
              "      <td>1</td>\n",
              "    </tr>\n",
              "    <tr>\n",
              "      <th>...</th>\n",
              "      <td>...</td>\n",
              "      <td>...</td>\n",
              "      <td>...</td>\n",
              "      <td>...</td>\n",
              "    </tr>\n",
              "    <tr>\n",
              "      <th>5625</th>\n",
              "      <td>ffae4a097</td>\n",
              "      <td>1</td>\n",
              "      <td>4</td>\n",
              "      <td>1</td>\n",
              "    </tr>\n",
              "    <tr>\n",
              "      <th>5626</th>\n",
              "      <td>ffe90d46f</td>\n",
              "      <td>0</td>\n",
              "      <td>1</td>\n",
              "      <td>3</td>\n",
              "    </tr>\n",
              "    <tr>\n",
              "      <th>5627</th>\n",
              "      <td>ffe90d46f</td>\n",
              "      <td>1</td>\n",
              "      <td>1</td>\n",
              "      <td>1</td>\n",
              "    </tr>\n",
              "    <tr>\n",
              "      <th>5628</th>\n",
              "      <td>fff7d6be1</td>\n",
              "      <td>0</td>\n",
              "      <td>4</td>\n",
              "      <td>3</td>\n",
              "    </tr>\n",
              "    <tr>\n",
              "      <th>5629</th>\n",
              "      <td>fff7d6be1</td>\n",
              "      <td>1</td>\n",
              "      <td>4</td>\n",
              "      <td>1</td>\n",
              "    </tr>\n",
              "  </tbody>\n",
              "</table>\n",
              "<p>5630 rows × 4 columns</p>\n",
              "</div>\n",
              "      <button class=\"colab-df-convert\" onclick=\"convertToInteractive('df-868350d7-e1b4-44e1-8d97-a0baf58bdfae')\"\n",
              "              title=\"Convert this dataframe to an interactive table.\"\n",
              "              style=\"display:none;\">\n",
              "\n",
              "  <svg xmlns=\"http://www.w3.org/2000/svg\" height=\"24px\"viewBox=\"0 0 24 24\"\n",
              "       width=\"24px\">\n",
              "    <path d=\"M0 0h24v24H0V0z\" fill=\"none\"/>\n",
              "    <path d=\"M18.56 5.44l.94 2.06.94-2.06 2.06-.94-2.06-.94-.94-2.06-.94 2.06-2.06.94zm-11 1L8.5 8.5l.94-2.06 2.06-.94-2.06-.94L8.5 2.5l-.94 2.06-2.06.94zm10 10l.94 2.06.94-2.06 2.06-.94-2.06-.94-.94-2.06-.94 2.06-2.06.94z\"/><path d=\"M17.41 7.96l-1.37-1.37c-.4-.4-.92-.59-1.43-.59-.52 0-1.04.2-1.43.59L10.3 9.45l-7.72 7.72c-.78.78-.78 2.05 0 2.83L4 21.41c.39.39.9.59 1.41.59.51 0 1.02-.2 1.41-.59l7.78-7.78 2.81-2.81c.8-.78.8-2.07 0-2.86zM5.41 20L4 18.59l7.72-7.72 1.47 1.35L5.41 20z\"/>\n",
              "  </svg>\n",
              "      </button>\n",
              "\n",
              "\n",
              "\n",
              "    <div id=\"df-6fac67f3-937a-4389-a98d-a286877c017c\">\n",
              "      <button class=\"colab-df-quickchart\" onclick=\"quickchart('df-6fac67f3-937a-4389-a98d-a286877c017c')\"\n",
              "              title=\"Suggest charts.\"\n",
              "              style=\"display:none;\">\n",
              "\n",
              "<svg xmlns=\"http://www.w3.org/2000/svg\" height=\"24px\"viewBox=\"0 0 24 24\"\n",
              "     width=\"24px\">\n",
              "    <g>\n",
              "        <path d=\"M19 3H5c-1.1 0-2 .9-2 2v14c0 1.1.9 2 2 2h14c1.1 0 2-.9 2-2V5c0-1.1-.9-2-2-2zM9 17H7v-7h2v7zm4 0h-2V7h2v10zm4 0h-2v-4h2v4z\"/>\n",
              "    </g>\n",
              "</svg>\n",
              "      </button>\n",
              "    </div>\n",
              "\n",
              "<style>\n",
              "  .colab-df-quickchart {\n",
              "    background-color: #E8F0FE;\n",
              "    border: none;\n",
              "    border-radius: 50%;\n",
              "    cursor: pointer;\n",
              "    display: none;\n",
              "    fill: #1967D2;\n",
              "    height: 32px;\n",
              "    padding: 0 0 0 0;\n",
              "    width: 32px;\n",
              "  }\n",
              "\n",
              "  .colab-df-quickchart:hover {\n",
              "    background-color: #E2EBFA;\n",
              "    box-shadow: 0px 1px 2px rgba(60, 64, 67, 0.3), 0px 1px 3px 1px rgba(60, 64, 67, 0.15);\n",
              "    fill: #174EA6;\n",
              "  }\n",
              "\n",
              "  [theme=dark] .colab-df-quickchart {\n",
              "    background-color: #3B4455;\n",
              "    fill: #D2E3FC;\n",
              "  }\n",
              "\n",
              "  [theme=dark] .colab-df-quickchart:hover {\n",
              "    background-color: #434B5C;\n",
              "    box-shadow: 0px 1px 3px 1px rgba(0, 0, 0, 0.15);\n",
              "    filter: drop-shadow(0px 1px 2px rgba(0, 0, 0, 0.3));\n",
              "    fill: #FFFFFF;\n",
              "  }\n",
              "</style>\n",
              "\n",
              "    <script>\n",
              "      async function quickchart(key) {\n",
              "        const containerElement = document.querySelector('#' + key);\n",
              "        const charts = await google.colab.kernel.invokeFunction(\n",
              "            'suggestCharts', [key], {});\n",
              "      }\n",
              "    </script>\n",
              "\n",
              "      <script>\n",
              "\n",
              "function displayQuickchartButton(domScope) {\n",
              "  let quickchartButtonEl =\n",
              "    domScope.querySelector('#df-6fac67f3-937a-4389-a98d-a286877c017c button.colab-df-quickchart');\n",
              "  quickchartButtonEl.style.display =\n",
              "    google.colab.kernel.accessAllowed ? 'block' : 'none';\n",
              "}\n",
              "\n",
              "        displayQuickchartButton(document);\n",
              "      </script>\n",
              "      <style>\n",
              "    .colab-df-container {\n",
              "      display:flex;\n",
              "      flex-wrap:wrap;\n",
              "      gap: 12px;\n",
              "    }\n",
              "\n",
              "    .colab-df-convert {\n",
              "      background-color: #E8F0FE;\n",
              "      border: none;\n",
              "      border-radius: 50%;\n",
              "      cursor: pointer;\n",
              "      display: none;\n",
              "      fill: #1967D2;\n",
              "      height: 32px;\n",
              "      padding: 0 0 0 0;\n",
              "      width: 32px;\n",
              "    }\n",
              "\n",
              "    .colab-df-convert:hover {\n",
              "      background-color: #E2EBFA;\n",
              "      box-shadow: 0px 1px 2px rgba(60, 64, 67, 0.3), 0px 1px 3px 1px rgba(60, 64, 67, 0.15);\n",
              "      fill: #174EA6;\n",
              "    }\n",
              "\n",
              "    [theme=dark] .colab-df-convert {\n",
              "      background-color: #3B4455;\n",
              "      fill: #D2E3FC;\n",
              "    }\n",
              "\n",
              "    [theme=dark] .colab-df-convert:hover {\n",
              "      background-color: #434B5C;\n",
              "      box-shadow: 0px 1px 3px 1px rgba(0, 0, 0, 0.15);\n",
              "      filter: drop-shadow(0px 1px 2px rgba(0, 0, 0, 0.3));\n",
              "      fill: #FFFFFF;\n",
              "    }\n",
              "  </style>\n",
              "\n",
              "      <script>\n",
              "        const buttonEl =\n",
              "          document.querySelector('#df-868350d7-e1b4-44e1-8d97-a0baf58bdfae button.colab-df-convert');\n",
              "        buttonEl.style.display =\n",
              "          google.colab.kernel.accessAllowed ? 'block' : 'none';\n",
              "\n",
              "        async function convertToInteractive(key) {\n",
              "          const element = document.querySelector('#df-868350d7-e1b4-44e1-8d97-a0baf58bdfae');\n",
              "          const dataTable =\n",
              "            await google.colab.kernel.invokeFunction('convertToInteractive',\n",
              "                                                     [key], {});\n",
              "          if (!dataTable) return;\n",
              "\n",
              "          const docLinkHtml = 'Like what you see? Visit the ' +\n",
              "            '<a target=\"_blank\" href=https://colab.research.google.com/notebooks/data_table.ipynb>data table notebook</a>'\n",
              "            + ' to learn more about interactive tables.';\n",
              "          element.innerHTML = '';\n",
              "          dataTable['output_type'] = 'display_data';\n",
              "          await google.colab.output.renderOutput(dataTable, element);\n",
              "          const docLink = document.createElement('div');\n",
              "          docLink.innerHTML = docLinkHtml;\n",
              "          element.appendChild(docLink);\n",
              "        }\n",
              "      </script>\n",
              "    </div>\n",
              "  </div>\n"
            ]
          },
          "metadata": {},
          "execution_count": 8
        }
      ]
    },
    {
      "cell_type": "code",
      "source": [
        "_parentesco1 = train[train['parentesco1']==1].copy()\n",
        "_parentesco0 = train[~(train['parentesco1']==1)].copy() # ~ + 1"
      ],
      "metadata": {
        "id": "Msu8FX3DMsjn"
      },
      "execution_count": 9,
      "outputs": []
    },
    {
      "cell_type": "code",
      "source": [
        "_p1_id = set(_parentesco1.idhogar.values)\n",
        "len(_p1_id)"
      ],
      "metadata": {
        "colab": {
          "base_uri": "https://localhost:8080/"
        },
        "id": "iyExha3cWcRl",
        "outputId": "74ad3c33-a529-4627-8e0e-e8ca0c6a1543"
      },
      "execution_count": 10,
      "outputs": [
        {
          "output_type": "execute_result",
          "data": {
            "text/plain": [
              "2973"
            ]
          },
          "metadata": {},
          "execution_count": 10
        }
      ]
    },
    {
      "cell_type": "code",
      "source": [
        "_parentesco0['Target_v2']=_parentesco0['idhogar'].map(lambda x : True if x in _p1_id else False)\n",
        "_parentesco0['Target_v2'].value_counts()"
      ],
      "metadata": {
        "colab": {
          "base_uri": "https://localhost:8080/"
        },
        "id": "_tkwBl44W58X",
        "outputId": "c704cf73-bfba-48e9-c46c-ddbc42d2d862"
      },
      "execution_count": 11,
      "outputs": [
        {
          "output_type": "execute_result",
          "data": {
            "text/plain": [
              "True     6561\n",
              "False      23\n",
              "Name: Target_v2, dtype: int64"
            ]
          },
          "metadata": {},
          "execution_count": 11
        }
      ]
    },
    {
      "cell_type": "code",
      "source": [
        "_parentesco0 = _parentesco0[_parentesco0['Target_v2']==True]\n",
        "len(_parentesco0)"
      ],
      "metadata": {
        "colab": {
          "base_uri": "https://localhost:8080/"
        },
        "id": "9mR243nDL06l",
        "outputId": "b9ddab5a-7510-493d-b96f-08db555eeccd"
      },
      "execution_count": 12,
      "outputs": [
        {
          "output_type": "execute_result",
          "data": {
            "text/plain": [
              "6561"
            ]
          },
          "metadata": {},
          "execution_count": 12
        }
      ]
    },
    {
      "cell_type": "code",
      "source": [
        "_parentesco1[_parentesco1['idhogar']=='d6c086aa3']['Target'] # map 넣기전에 먼저 실험하면 시간 단축됨됨"
      ],
      "metadata": {
        "id": "xpiYYWvOZH1G",
        "colab": {
          "base_uri": "https://localhost:8080/"
        },
        "outputId": "e83ba436-37a9-4c3f-d871-c1c12f4d5e92"
      },
      "execution_count": 13,
      "outputs": [
        {
          "output_type": "execute_result",
          "data": {
            "text/plain": [
              "9552    2\n",
              "Name: Target, dtype: int64"
            ]
          },
          "metadata": {},
          "execution_count": 13
        }
      ]
    },
    {
      "cell_type": "code",
      "source": [
        "_parentesco0.loc[:,'Target_v2'] = _parentesco0['idhogar'].map(lambda x :  _parentesco1[_parentesco1['idhogar']==x]['Target'].values[0]) #loc['' ]== 컬럼으로 생김김\n",
        "len(_parentesco0)"
      ],
      "metadata": {
        "colab": {
          "base_uri": "https://localhost:8080/"
        },
        "id": "pjHuS6c3YQk1",
        "outputId": "4a3d94eb-f657-4da4-9902-8a65ef567d18"
      },
      "execution_count": 14,
      "outputs": [
        {
          "output_type": "execute_result",
          "data": {
            "text/plain": [
              "6561"
            ]
          },
          "metadata": {},
          "execution_count": 14
        }
      ]
    },
    {
      "cell_type": "code",
      "source": [
        "_parentesco0.tail() # map, apply 사용 후에는 head 보다는 tail 하는게 시간 단축축"
      ],
      "metadata": {
        "colab": {
          "base_uri": "https://localhost:8080/",
          "height": 236
        },
        "id": "FDCwK3xZYox-",
        "outputId": "3aa36ca7-942d-4ab6-ae49-ef3219ea92c5"
      },
      "execution_count": 15,
      "outputs": [
        {
          "output_type": "execute_result",
          "data": {
            "text/plain": [
              "                Id     v2a1  hacdor  rooms  hacapo  v14a  refrig  v18q  v18q1  \\\n",
              "9550  ID_90a399a51      NaN       0      3       0     1       1     0    NaN   \n",
              "9553  ID_c94744e07  80000.0       0      6       0     1       1     0    NaN   \n",
              "9554  ID_85fc658f8  80000.0       0      6       0     1       1     0    NaN   \n",
              "9555  ID_ced540c61  80000.0       0      6       0     1       1     0    NaN   \n",
              "9556  ID_a38c64491  80000.0       0      6       0     1       1     0    NaN   \n",
              "\n",
              "      r4h1  ...  SQBage  SQBhogar_total  SQBedjefe  SQBhogar_nin  \\\n",
              "9550     0  ...    3721               4          0             0   \n",
              "9553     0  ...       4              25         81             1   \n",
              "9554     0  ...    2500              25         81             1   \n",
              "9555     0  ...     676              25         81             1   \n",
              "9556     0  ...     441              25         81             1   \n",
              "\n",
              "      SQBovercrowding  SQBdependency  SQBmeaned  agesq  Target  Target_v2  \n",
              "9550           4.0000         1.0000     9.0000   3721       2          2  \n",
              "9553           1.5625         0.0625    68.0625      4       2          2  \n",
              "9554           1.5625         0.0625    68.0625   2500       2          2  \n",
              "9555           1.5625         0.0625    68.0625    676       2          2  \n",
              "9556           1.5625         0.0625    68.0625    441       2          2  \n",
              "\n",
              "[5 rows x 144 columns]"
            ],
            "text/html": [
              "\n",
              "\n",
              "  <div id=\"df-3f9b2019-7743-4c3a-9fac-646533f67f0f\">\n",
              "    <div class=\"colab-df-container\">\n",
              "      <div>\n",
              "<style scoped>\n",
              "    .dataframe tbody tr th:only-of-type {\n",
              "        vertical-align: middle;\n",
              "    }\n",
              "\n",
              "    .dataframe tbody tr th {\n",
              "        vertical-align: top;\n",
              "    }\n",
              "\n",
              "    .dataframe thead th {\n",
              "        text-align: right;\n",
              "    }\n",
              "</style>\n",
              "<table border=\"1\" class=\"dataframe\">\n",
              "  <thead>\n",
              "    <tr style=\"text-align: right;\">\n",
              "      <th></th>\n",
              "      <th>Id</th>\n",
              "      <th>v2a1</th>\n",
              "      <th>hacdor</th>\n",
              "      <th>rooms</th>\n",
              "      <th>hacapo</th>\n",
              "      <th>v14a</th>\n",
              "      <th>refrig</th>\n",
              "      <th>v18q</th>\n",
              "      <th>v18q1</th>\n",
              "      <th>r4h1</th>\n",
              "      <th>...</th>\n",
              "      <th>SQBage</th>\n",
              "      <th>SQBhogar_total</th>\n",
              "      <th>SQBedjefe</th>\n",
              "      <th>SQBhogar_nin</th>\n",
              "      <th>SQBovercrowding</th>\n",
              "      <th>SQBdependency</th>\n",
              "      <th>SQBmeaned</th>\n",
              "      <th>agesq</th>\n",
              "      <th>Target</th>\n",
              "      <th>Target_v2</th>\n",
              "    </tr>\n",
              "  </thead>\n",
              "  <tbody>\n",
              "    <tr>\n",
              "      <th>9550</th>\n",
              "      <td>ID_90a399a51</td>\n",
              "      <td>NaN</td>\n",
              "      <td>0</td>\n",
              "      <td>3</td>\n",
              "      <td>0</td>\n",
              "      <td>1</td>\n",
              "      <td>1</td>\n",
              "      <td>0</td>\n",
              "      <td>NaN</td>\n",
              "      <td>0</td>\n",
              "      <td>...</td>\n",
              "      <td>3721</td>\n",
              "      <td>4</td>\n",
              "      <td>0</td>\n",
              "      <td>0</td>\n",
              "      <td>4.0000</td>\n",
              "      <td>1.0000</td>\n",
              "      <td>9.0000</td>\n",
              "      <td>3721</td>\n",
              "      <td>2</td>\n",
              "      <td>2</td>\n",
              "    </tr>\n",
              "    <tr>\n",
              "      <th>9553</th>\n",
              "      <td>ID_c94744e07</td>\n",
              "      <td>80000.0</td>\n",
              "      <td>0</td>\n",
              "      <td>6</td>\n",
              "      <td>0</td>\n",
              "      <td>1</td>\n",
              "      <td>1</td>\n",
              "      <td>0</td>\n",
              "      <td>NaN</td>\n",
              "      <td>0</td>\n",
              "      <td>...</td>\n",
              "      <td>4</td>\n",
              "      <td>25</td>\n",
              "      <td>81</td>\n",
              "      <td>1</td>\n",
              "      <td>1.5625</td>\n",
              "      <td>0.0625</td>\n",
              "      <td>68.0625</td>\n",
              "      <td>4</td>\n",
              "      <td>2</td>\n",
              "      <td>2</td>\n",
              "    </tr>\n",
              "    <tr>\n",
              "      <th>9554</th>\n",
              "      <td>ID_85fc658f8</td>\n",
              "      <td>80000.0</td>\n",
              "      <td>0</td>\n",
              "      <td>6</td>\n",
              "      <td>0</td>\n",
              "      <td>1</td>\n",
              "      <td>1</td>\n",
              "      <td>0</td>\n",
              "      <td>NaN</td>\n",
              "      <td>0</td>\n",
              "      <td>...</td>\n",
              "      <td>2500</td>\n",
              "      <td>25</td>\n",
              "      <td>81</td>\n",
              "      <td>1</td>\n",
              "      <td>1.5625</td>\n",
              "      <td>0.0625</td>\n",
              "      <td>68.0625</td>\n",
              "      <td>2500</td>\n",
              "      <td>2</td>\n",
              "      <td>2</td>\n",
              "    </tr>\n",
              "    <tr>\n",
              "      <th>9555</th>\n",
              "      <td>ID_ced540c61</td>\n",
              "      <td>80000.0</td>\n",
              "      <td>0</td>\n",
              "      <td>6</td>\n",
              "      <td>0</td>\n",
              "      <td>1</td>\n",
              "      <td>1</td>\n",
              "      <td>0</td>\n",
              "      <td>NaN</td>\n",
              "      <td>0</td>\n",
              "      <td>...</td>\n",
              "      <td>676</td>\n",
              "      <td>25</td>\n",
              "      <td>81</td>\n",
              "      <td>1</td>\n",
              "      <td>1.5625</td>\n",
              "      <td>0.0625</td>\n",
              "      <td>68.0625</td>\n",
              "      <td>676</td>\n",
              "      <td>2</td>\n",
              "      <td>2</td>\n",
              "    </tr>\n",
              "    <tr>\n",
              "      <th>9556</th>\n",
              "      <td>ID_a38c64491</td>\n",
              "      <td>80000.0</td>\n",
              "      <td>0</td>\n",
              "      <td>6</td>\n",
              "      <td>0</td>\n",
              "      <td>1</td>\n",
              "      <td>1</td>\n",
              "      <td>0</td>\n",
              "      <td>NaN</td>\n",
              "      <td>0</td>\n",
              "      <td>...</td>\n",
              "      <td>441</td>\n",
              "      <td>25</td>\n",
              "      <td>81</td>\n",
              "      <td>1</td>\n",
              "      <td>1.5625</td>\n",
              "      <td>0.0625</td>\n",
              "      <td>68.0625</td>\n",
              "      <td>441</td>\n",
              "      <td>2</td>\n",
              "      <td>2</td>\n",
              "    </tr>\n",
              "  </tbody>\n",
              "</table>\n",
              "<p>5 rows × 144 columns</p>\n",
              "</div>\n",
              "      <button class=\"colab-df-convert\" onclick=\"convertToInteractive('df-3f9b2019-7743-4c3a-9fac-646533f67f0f')\"\n",
              "              title=\"Convert this dataframe to an interactive table.\"\n",
              "              style=\"display:none;\">\n",
              "\n",
              "  <svg xmlns=\"http://www.w3.org/2000/svg\" height=\"24px\"viewBox=\"0 0 24 24\"\n",
              "       width=\"24px\">\n",
              "    <path d=\"M0 0h24v24H0V0z\" fill=\"none\"/>\n",
              "    <path d=\"M18.56 5.44l.94 2.06.94-2.06 2.06-.94-2.06-.94-.94-2.06-.94 2.06-2.06.94zm-11 1L8.5 8.5l.94-2.06 2.06-.94-2.06-.94L8.5 2.5l-.94 2.06-2.06.94zm10 10l.94 2.06.94-2.06 2.06-.94-2.06-.94-.94-2.06-.94 2.06-2.06.94z\"/><path d=\"M17.41 7.96l-1.37-1.37c-.4-.4-.92-.59-1.43-.59-.52 0-1.04.2-1.43.59L10.3 9.45l-7.72 7.72c-.78.78-.78 2.05 0 2.83L4 21.41c.39.39.9.59 1.41.59.51 0 1.02-.2 1.41-.59l7.78-7.78 2.81-2.81c.8-.78.8-2.07 0-2.86zM5.41 20L4 18.59l7.72-7.72 1.47 1.35L5.41 20z\"/>\n",
              "  </svg>\n",
              "      </button>\n",
              "\n",
              "\n",
              "\n",
              "    <div id=\"df-7a7be5af-1c7d-4f4f-be85-60ff8eb391e9\">\n",
              "      <button class=\"colab-df-quickchart\" onclick=\"quickchart('df-7a7be5af-1c7d-4f4f-be85-60ff8eb391e9')\"\n",
              "              title=\"Suggest charts.\"\n",
              "              style=\"display:none;\">\n",
              "\n",
              "<svg xmlns=\"http://www.w3.org/2000/svg\" height=\"24px\"viewBox=\"0 0 24 24\"\n",
              "     width=\"24px\">\n",
              "    <g>\n",
              "        <path d=\"M19 3H5c-1.1 0-2 .9-2 2v14c0 1.1.9 2 2 2h14c1.1 0 2-.9 2-2V5c0-1.1-.9-2-2-2zM9 17H7v-7h2v7zm4 0h-2V7h2v10zm4 0h-2v-4h2v4z\"/>\n",
              "    </g>\n",
              "</svg>\n",
              "      </button>\n",
              "    </div>\n",
              "\n",
              "<style>\n",
              "  .colab-df-quickchart {\n",
              "    background-color: #E8F0FE;\n",
              "    border: none;\n",
              "    border-radius: 50%;\n",
              "    cursor: pointer;\n",
              "    display: none;\n",
              "    fill: #1967D2;\n",
              "    height: 32px;\n",
              "    padding: 0 0 0 0;\n",
              "    width: 32px;\n",
              "  }\n",
              "\n",
              "  .colab-df-quickchart:hover {\n",
              "    background-color: #E2EBFA;\n",
              "    box-shadow: 0px 1px 2px rgba(60, 64, 67, 0.3), 0px 1px 3px 1px rgba(60, 64, 67, 0.15);\n",
              "    fill: #174EA6;\n",
              "  }\n",
              "\n",
              "  [theme=dark] .colab-df-quickchart {\n",
              "    background-color: #3B4455;\n",
              "    fill: #D2E3FC;\n",
              "  }\n",
              "\n",
              "  [theme=dark] .colab-df-quickchart:hover {\n",
              "    background-color: #434B5C;\n",
              "    box-shadow: 0px 1px 3px 1px rgba(0, 0, 0, 0.15);\n",
              "    filter: drop-shadow(0px 1px 2px rgba(0, 0, 0, 0.3));\n",
              "    fill: #FFFFFF;\n",
              "  }\n",
              "</style>\n",
              "\n",
              "    <script>\n",
              "      async function quickchart(key) {\n",
              "        const containerElement = document.querySelector('#' + key);\n",
              "        const charts = await google.colab.kernel.invokeFunction(\n",
              "            'suggestCharts', [key], {});\n",
              "      }\n",
              "    </script>\n",
              "\n",
              "      <script>\n",
              "\n",
              "function displayQuickchartButton(domScope) {\n",
              "  let quickchartButtonEl =\n",
              "    domScope.querySelector('#df-7a7be5af-1c7d-4f4f-be85-60ff8eb391e9 button.colab-df-quickchart');\n",
              "  quickchartButtonEl.style.display =\n",
              "    google.colab.kernel.accessAllowed ? 'block' : 'none';\n",
              "}\n",
              "\n",
              "        displayQuickchartButton(document);\n",
              "      </script>\n",
              "      <style>\n",
              "    .colab-df-container {\n",
              "      display:flex;\n",
              "      flex-wrap:wrap;\n",
              "      gap: 12px;\n",
              "    }\n",
              "\n",
              "    .colab-df-convert {\n",
              "      background-color: #E8F0FE;\n",
              "      border: none;\n",
              "      border-radius: 50%;\n",
              "      cursor: pointer;\n",
              "      display: none;\n",
              "      fill: #1967D2;\n",
              "      height: 32px;\n",
              "      padding: 0 0 0 0;\n",
              "      width: 32px;\n",
              "    }\n",
              "\n",
              "    .colab-df-convert:hover {\n",
              "      background-color: #E2EBFA;\n",
              "      box-shadow: 0px 1px 2px rgba(60, 64, 67, 0.3), 0px 1px 3px 1px rgba(60, 64, 67, 0.15);\n",
              "      fill: #174EA6;\n",
              "    }\n",
              "\n",
              "    [theme=dark] .colab-df-convert {\n",
              "      background-color: #3B4455;\n",
              "      fill: #D2E3FC;\n",
              "    }\n",
              "\n",
              "    [theme=dark] .colab-df-convert:hover {\n",
              "      background-color: #434B5C;\n",
              "      box-shadow: 0px 1px 3px 1px rgba(0, 0, 0, 0.15);\n",
              "      filter: drop-shadow(0px 1px 2px rgba(0, 0, 0, 0.3));\n",
              "      fill: #FFFFFF;\n",
              "    }\n",
              "  </style>\n",
              "\n",
              "      <script>\n",
              "        const buttonEl =\n",
              "          document.querySelector('#df-3f9b2019-7743-4c3a-9fac-646533f67f0f button.colab-df-convert');\n",
              "        buttonEl.style.display =\n",
              "          google.colab.kernel.accessAllowed ? 'block' : 'none';\n",
              "\n",
              "        async function convertToInteractive(key) {\n",
              "          const element = document.querySelector('#df-3f9b2019-7743-4c3a-9fac-646533f67f0f');\n",
              "          const dataTable =\n",
              "            await google.colab.kernel.invokeFunction('convertToInteractive',\n",
              "                                                     [key], {});\n",
              "          if (!dataTable) return;\n",
              "\n",
              "          const docLinkHtml = 'Like what you see? Visit the ' +\n",
              "            '<a target=\"_blank\" href=https://colab.research.google.com/notebooks/data_table.ipynb>data table notebook</a>'\n",
              "            + ' to learn more about interactive tables.';\n",
              "          element.innerHTML = '';\n",
              "          dataTable['output_type'] = 'display_data';\n",
              "          await google.colab.output.renderOutput(dataTable, element);\n",
              "          const docLink = document.createElement('div');\n",
              "          docLink.innerHTML = docLinkHtml;\n",
              "          element.appendChild(docLink);\n",
              "        }\n",
              "      </script>\n",
              "    </div>\n",
              "  </div>\n"
            ]
          },
          "metadata": {},
          "execution_count": 15
        }
      ]
    },
    {
      "cell_type": "code",
      "source": [
        "len(_parentesco0[_parentesco0['Target']!= _parentesco0['Target_v2']])"
      ],
      "metadata": {
        "colab": {
          "base_uri": "https://localhost:8080/"
        },
        "id": "yh1G-MPPdCf9",
        "outputId": "61f05e7f-1972-481b-d12b-de9f75ce13e2"
      },
      "execution_count": 16,
      "outputs": [
        {
          "output_type": "execute_result",
          "data": {
            "text/plain": [
              "140"
            ]
          },
          "metadata": {},
          "execution_count": 16
        }
      ]
    },
    {
      "cell_type": "code",
      "source": [
        "_parentesco0[_parentesco0['Target']!= _parentesco0['Target_v2']].head(2)# ['idhogar'] 4b6077882"
      ],
      "metadata": {
        "colab": {
          "base_uri": "https://localhost:8080/",
          "height": 142
        },
        "id": "ETeGeYjOTBLm",
        "outputId": "f2107d6d-f6bb-455f-8c98-fef79bfd646e"
      },
      "execution_count": 17,
      "outputs": [
        {
          "output_type": "execute_result",
          "data": {
            "text/plain": [
              "               Id     v2a1  hacdor  rooms  hacapo  v14a  refrig  v18q  v18q1  \\\n",
              "283  ID_17d9dcd44  60000.0       0      3       0     1       0     0    NaN   \n",
              "284  ID_e78621924  60000.0       0      3       0     1       0     0    NaN   \n",
              "\n",
              "     r4h1  ...  SQBage  SQBhogar_total  SQBedjefe  SQBhogar_nin  \\\n",
              "283     0  ...      49               9          0             4   \n",
              "284     0  ...       4               9          0             4   \n",
              "\n",
              "     SQBovercrowding  SQBdependency  SQBmeaned  agesq  Target  Target_v2  \n",
              "283              9.0            4.0       25.0     49       2          1  \n",
              "284              9.0            4.0       25.0      4       2          1  \n",
              "\n",
              "[2 rows x 144 columns]"
            ],
            "text/html": [
              "\n",
              "\n",
              "  <div id=\"df-769abb72-3474-43ed-869a-1dec439d44b2\">\n",
              "    <div class=\"colab-df-container\">\n",
              "      <div>\n",
              "<style scoped>\n",
              "    .dataframe tbody tr th:only-of-type {\n",
              "        vertical-align: middle;\n",
              "    }\n",
              "\n",
              "    .dataframe tbody tr th {\n",
              "        vertical-align: top;\n",
              "    }\n",
              "\n",
              "    .dataframe thead th {\n",
              "        text-align: right;\n",
              "    }\n",
              "</style>\n",
              "<table border=\"1\" class=\"dataframe\">\n",
              "  <thead>\n",
              "    <tr style=\"text-align: right;\">\n",
              "      <th></th>\n",
              "      <th>Id</th>\n",
              "      <th>v2a1</th>\n",
              "      <th>hacdor</th>\n",
              "      <th>rooms</th>\n",
              "      <th>hacapo</th>\n",
              "      <th>v14a</th>\n",
              "      <th>refrig</th>\n",
              "      <th>v18q</th>\n",
              "      <th>v18q1</th>\n",
              "      <th>r4h1</th>\n",
              "      <th>...</th>\n",
              "      <th>SQBage</th>\n",
              "      <th>SQBhogar_total</th>\n",
              "      <th>SQBedjefe</th>\n",
              "      <th>SQBhogar_nin</th>\n",
              "      <th>SQBovercrowding</th>\n",
              "      <th>SQBdependency</th>\n",
              "      <th>SQBmeaned</th>\n",
              "      <th>agesq</th>\n",
              "      <th>Target</th>\n",
              "      <th>Target_v2</th>\n",
              "    </tr>\n",
              "  </thead>\n",
              "  <tbody>\n",
              "    <tr>\n",
              "      <th>283</th>\n",
              "      <td>ID_17d9dcd44</td>\n",
              "      <td>60000.0</td>\n",
              "      <td>0</td>\n",
              "      <td>3</td>\n",
              "      <td>0</td>\n",
              "      <td>1</td>\n",
              "      <td>0</td>\n",
              "      <td>0</td>\n",
              "      <td>NaN</td>\n",
              "      <td>0</td>\n",
              "      <td>...</td>\n",
              "      <td>49</td>\n",
              "      <td>9</td>\n",
              "      <td>0</td>\n",
              "      <td>4</td>\n",
              "      <td>9.0</td>\n",
              "      <td>4.0</td>\n",
              "      <td>25.0</td>\n",
              "      <td>49</td>\n",
              "      <td>2</td>\n",
              "      <td>1</td>\n",
              "    </tr>\n",
              "    <tr>\n",
              "      <th>284</th>\n",
              "      <td>ID_e78621924</td>\n",
              "      <td>60000.0</td>\n",
              "      <td>0</td>\n",
              "      <td>3</td>\n",
              "      <td>0</td>\n",
              "      <td>1</td>\n",
              "      <td>0</td>\n",
              "      <td>0</td>\n",
              "      <td>NaN</td>\n",
              "      <td>0</td>\n",
              "      <td>...</td>\n",
              "      <td>4</td>\n",
              "      <td>9</td>\n",
              "      <td>0</td>\n",
              "      <td>4</td>\n",
              "      <td>9.0</td>\n",
              "      <td>4.0</td>\n",
              "      <td>25.0</td>\n",
              "      <td>4</td>\n",
              "      <td>2</td>\n",
              "      <td>1</td>\n",
              "    </tr>\n",
              "  </tbody>\n",
              "</table>\n",
              "<p>2 rows × 144 columns</p>\n",
              "</div>\n",
              "      <button class=\"colab-df-convert\" onclick=\"convertToInteractive('df-769abb72-3474-43ed-869a-1dec439d44b2')\"\n",
              "              title=\"Convert this dataframe to an interactive table.\"\n",
              "              style=\"display:none;\">\n",
              "\n",
              "  <svg xmlns=\"http://www.w3.org/2000/svg\" height=\"24px\"viewBox=\"0 0 24 24\"\n",
              "       width=\"24px\">\n",
              "    <path d=\"M0 0h24v24H0V0z\" fill=\"none\"/>\n",
              "    <path d=\"M18.56 5.44l.94 2.06.94-2.06 2.06-.94-2.06-.94-.94-2.06-.94 2.06-2.06.94zm-11 1L8.5 8.5l.94-2.06 2.06-.94-2.06-.94L8.5 2.5l-.94 2.06-2.06.94zm10 10l.94 2.06.94-2.06 2.06-.94-2.06-.94-.94-2.06-.94 2.06-2.06.94z\"/><path d=\"M17.41 7.96l-1.37-1.37c-.4-.4-.92-.59-1.43-.59-.52 0-1.04.2-1.43.59L10.3 9.45l-7.72 7.72c-.78.78-.78 2.05 0 2.83L4 21.41c.39.39.9.59 1.41.59.51 0 1.02-.2 1.41-.59l7.78-7.78 2.81-2.81c.8-.78.8-2.07 0-2.86zM5.41 20L4 18.59l7.72-7.72 1.47 1.35L5.41 20z\"/>\n",
              "  </svg>\n",
              "      </button>\n",
              "\n",
              "\n",
              "\n",
              "    <div id=\"df-0970f2ed-c983-4652-8478-18bf61ad74bb\">\n",
              "      <button class=\"colab-df-quickchart\" onclick=\"quickchart('df-0970f2ed-c983-4652-8478-18bf61ad74bb')\"\n",
              "              title=\"Suggest charts.\"\n",
              "              style=\"display:none;\">\n",
              "\n",
              "<svg xmlns=\"http://www.w3.org/2000/svg\" height=\"24px\"viewBox=\"0 0 24 24\"\n",
              "     width=\"24px\">\n",
              "    <g>\n",
              "        <path d=\"M19 3H5c-1.1 0-2 .9-2 2v14c0 1.1.9 2 2 2h14c1.1 0 2-.9 2-2V5c0-1.1-.9-2-2-2zM9 17H7v-7h2v7zm4 0h-2V7h2v10zm4 0h-2v-4h2v4z\"/>\n",
              "    </g>\n",
              "</svg>\n",
              "      </button>\n",
              "    </div>\n",
              "\n",
              "<style>\n",
              "  .colab-df-quickchart {\n",
              "    background-color: #E8F0FE;\n",
              "    border: none;\n",
              "    border-radius: 50%;\n",
              "    cursor: pointer;\n",
              "    display: none;\n",
              "    fill: #1967D2;\n",
              "    height: 32px;\n",
              "    padding: 0 0 0 0;\n",
              "    width: 32px;\n",
              "  }\n",
              "\n",
              "  .colab-df-quickchart:hover {\n",
              "    background-color: #E2EBFA;\n",
              "    box-shadow: 0px 1px 2px rgba(60, 64, 67, 0.3), 0px 1px 3px 1px rgba(60, 64, 67, 0.15);\n",
              "    fill: #174EA6;\n",
              "  }\n",
              "\n",
              "  [theme=dark] .colab-df-quickchart {\n",
              "    background-color: #3B4455;\n",
              "    fill: #D2E3FC;\n",
              "  }\n",
              "\n",
              "  [theme=dark] .colab-df-quickchart:hover {\n",
              "    background-color: #434B5C;\n",
              "    box-shadow: 0px 1px 3px 1px rgba(0, 0, 0, 0.15);\n",
              "    filter: drop-shadow(0px 1px 2px rgba(0, 0, 0, 0.3));\n",
              "    fill: #FFFFFF;\n",
              "  }\n",
              "</style>\n",
              "\n",
              "    <script>\n",
              "      async function quickchart(key) {\n",
              "        const containerElement = document.querySelector('#' + key);\n",
              "        const charts = await google.colab.kernel.invokeFunction(\n",
              "            'suggestCharts', [key], {});\n",
              "      }\n",
              "    </script>\n",
              "\n",
              "      <script>\n",
              "\n",
              "function displayQuickchartButton(domScope) {\n",
              "  let quickchartButtonEl =\n",
              "    domScope.querySelector('#df-0970f2ed-c983-4652-8478-18bf61ad74bb button.colab-df-quickchart');\n",
              "  quickchartButtonEl.style.display =\n",
              "    google.colab.kernel.accessAllowed ? 'block' : 'none';\n",
              "}\n",
              "\n",
              "        displayQuickchartButton(document);\n",
              "      </script>\n",
              "      <style>\n",
              "    .colab-df-container {\n",
              "      display:flex;\n",
              "      flex-wrap:wrap;\n",
              "      gap: 12px;\n",
              "    }\n",
              "\n",
              "    .colab-df-convert {\n",
              "      background-color: #E8F0FE;\n",
              "      border: none;\n",
              "      border-radius: 50%;\n",
              "      cursor: pointer;\n",
              "      display: none;\n",
              "      fill: #1967D2;\n",
              "      height: 32px;\n",
              "      padding: 0 0 0 0;\n",
              "      width: 32px;\n",
              "    }\n",
              "\n",
              "    .colab-df-convert:hover {\n",
              "      background-color: #E2EBFA;\n",
              "      box-shadow: 0px 1px 2px rgba(60, 64, 67, 0.3), 0px 1px 3px 1px rgba(60, 64, 67, 0.15);\n",
              "      fill: #174EA6;\n",
              "    }\n",
              "\n",
              "    [theme=dark] .colab-df-convert {\n",
              "      background-color: #3B4455;\n",
              "      fill: #D2E3FC;\n",
              "    }\n",
              "\n",
              "    [theme=dark] .colab-df-convert:hover {\n",
              "      background-color: #434B5C;\n",
              "      box-shadow: 0px 1px 3px 1px rgba(0, 0, 0, 0.15);\n",
              "      filter: drop-shadow(0px 1px 2px rgba(0, 0, 0, 0.3));\n",
              "      fill: #FFFFFF;\n",
              "    }\n",
              "  </style>\n",
              "\n",
              "      <script>\n",
              "        const buttonEl =\n",
              "          document.querySelector('#df-769abb72-3474-43ed-869a-1dec439d44b2 button.colab-df-convert');\n",
              "        buttonEl.style.display =\n",
              "          google.colab.kernel.accessAllowed ? 'block' : 'none';\n",
              "\n",
              "        async function convertToInteractive(key) {\n",
              "          const element = document.querySelector('#df-769abb72-3474-43ed-869a-1dec439d44b2');\n",
              "          const dataTable =\n",
              "            await google.colab.kernel.invokeFunction('convertToInteractive',\n",
              "                                                     [key], {});\n",
              "          if (!dataTable) return;\n",
              "\n",
              "          const docLinkHtml = 'Like what you see? Visit the ' +\n",
              "            '<a target=\"_blank\" href=https://colab.research.google.com/notebooks/data_table.ipynb>data table notebook</a>'\n",
              "            + ' to learn more about interactive tables.';\n",
              "          element.innerHTML = '';\n",
              "          dataTable['output_type'] = 'display_data';\n",
              "          await google.colab.output.renderOutput(dataTable, element);\n",
              "          const docLink = document.createElement('div');\n",
              "          docLink.innerHTML = docLinkHtml;\n",
              "          element.appendChild(docLink);\n",
              "        }\n",
              "      </script>\n",
              "    </div>\n",
              "  </div>\n"
            ]
          },
          "metadata": {},
          "execution_count": 17
        }
      ]
    },
    {
      "cell_type": "code",
      "source": [
        "_parentesco0.drop('Target', axis=1, inplace=True)\n",
        "_parentesco0 =_parentesco0.rename(columns={'Target_v2' : 'Target'})\n",
        "_parentesco0 = _parentesco0[_parentesco1.columns.tolist()]"
      ],
      "metadata": {
        "id": "kAoUMIpTacTI"
      },
      "execution_count": 18,
      "outputs": []
    },
    {
      "cell_type": "code",
      "source": [
        "train_v2 = pd.concat([_parentesco0, _parentesco1], axis=0)"
      ],
      "metadata": {
        "id": "ha6boCiJaqK6"
      },
      "execution_count": 19,
      "outputs": []
    },
    {
      "cell_type": "code",
      "source": [
        "train_v2.Target.value_counts()\n",
        "#train(old버전)\n",
        "# 4    5996\n",
        "# 2    1597\n",
        "# 3    1209\n",
        "# 1     755"
      ],
      "metadata": {
        "colab": {
          "base_uri": "https://localhost:8080/"
        },
        "id": "gpAqh7UFeFjh",
        "outputId": "5ad10ffc-8cd1-4199-92ff-b5ece5ee16ea"
      },
      "execution_count": 20,
      "outputs": [
        {
          "output_type": "execute_result",
          "data": {
            "text/plain": [
              "4    6001\n",
              "2    1558\n",
              "3    1201\n",
              "1     774\n",
              "Name: Target, dtype: int64"
            ]
          },
          "metadata": {},
          "execution_count": 20
        }
      ]
    },
    {
      "cell_type": "code",
      "source": [
        "import matplotlib.pyplot as plt\n",
        "train_v2= train_v2.astype({'Target' : str})\n",
        "plt.bar(train_v2.Target.value_counts().index, train_v2.Target.value_counts().values, width=0.8, bottom= None, align='center')\n",
        "plt.show()\n",
        "#Target을 int에서 string으로 변경하여 plt.bar 시각화하면 기존의 x축이 0.5, 1, 1.5,2, ... -> 1,2,3,4로 딱 해당 카테고리만 나오게 됨.\n",
        "'''클래스 수를 고려해서 train,valid 나눠야 함'''"
      ],
      "metadata": {
        "colab": {
          "base_uri": "https://localhost:8080/",
          "height": 449
        },
        "id": "OOppvtKVfGqw",
        "outputId": "b4e4fbd7-9e20-4021-9724-39a6c3a2861b"
      },
      "execution_count": 21,
      "outputs": [
        {
          "output_type": "display_data",
          "data": {
            "text/plain": [
              "<Figure size 640x480 with 1 Axes>"
            ],
            "image/png": "[encoded data removed]"
          },
          "metadata": {}
        },
        {
          "output_type": "execute_result",
          "data": {
            "text/plain": [
              "'클래스 수를 고려해서 train,valid 나눠야 함'"
            ],
            "application/vnd.google.colaboratory.intrinsic+json": {
              "type": "string"
            }
          },
          "metadata": {},
          "execution_count": 21
        }
      ]
    },
    {
      "cell_type": "markdown",
      "source": [
        "### 전처리\n"
      ],
      "metadata": {
        "id": "xktLrTYOeTyr"
      }
    },
    {
      "cell_type": "code",
      "source": [
        "len(train_v2)"
      ],
      "metadata": {
        "colab": {
          "base_uri": "https://localhost:8080/"
        },
        "id": "8MAlso01eesk",
        "outputId": "effbd1b4-19ed-44bf-bcfc-a1af1c1b58cd"
      },
      "execution_count": 22,
      "outputs": [
        {
          "output_type": "execute_result",
          "data": {
            "text/plain": [
              "9534"
            ]
          },
          "metadata": {},
          "execution_count": 22
        }
      ]
    },
    {
      "cell_type": "code",
      "source": [
        "back_train = train_v2.copy()"
      ],
      "metadata": {
        "id": "x374sZfexdLY"
      },
      "execution_count": 23,
      "outputs": []
    },
    {
      "cell_type": "markdown",
      "source": [
        "##### na값 처리 및 대체"
      ],
      "metadata": {
        "id": "cP5pZgfM4-Ln"
      }
    },
    {
      "cell_type": "code",
      "source": [
        "# na값이 전체 데이터의 0.7 비중 이상인 컬럼은 제외하겠다\n",
        "train_v2.isna().sum().sort_values(ascending=False)[:10]/len(train_v2)\n",
        "#rez_esc 학교로부터 몇년뒤ㄹ1\n",
        "#v18q1 가구가 소유한 태블릿 수\n",
        "#v2a1 월세"
      ],
      "metadata": {
        "colab": {
          "base_uri": "https://localhost:8080/"
        },
        "id": "MIlBfNPC_qVG",
        "outputId": "625931ef-e201-4327-caff-f89d57c950c1"
      },
      "execution_count": 24,
      "outputs": [
        {
          "output_type": "execute_result",
          "data": {
            "text/plain": [
              "rez_esc         0.830816\n",
              "v18q1           0.767674\n",
              "v2a1            0.717747\n",
              "SQBmeaned       0.000524\n",
              "meaneduc        0.000524\n",
              "Id              0.000000\n",
              "hogar_adul      0.000000\n",
              "parentesco10    0.000000\n",
              "parentesco11    0.000000\n",
              "parentesco12    0.000000\n",
              "dtype: float64"
            ]
          },
          "metadata": {},
          "execution_count": 24
        }
      ]
    },
    {
      "cell_type": "code",
      "source": [
        "train_v2.drop(['rez_esc', 'v18q1', 'v2a1'], axis=1, inplace=True)"
      ],
      "metadata": {
        "id": "I04pNCkaekXT"
      },
      "execution_count": 25,
      "outputs": []
    },
    {
      "cell_type": "code",
      "source": [
        "train_v2.info()"
      ],
      "metadata": {
        "colab": {
          "base_uri": "https://localhost:8080/"
        },
        "id": "C7xUByy-b5mg",
        "outputId": "c790ab54-d07b-436e-bf56-1920b67d5072"
      },
      "execution_count": 26,
      "outputs": [
        {
          "output_type": "stream",
          "name": "stdout",
          "text": [
            "<class 'pandas.core.frame.DataFrame'>\n",
            "Int64Index: 9534 entries, 3 to 9552\n",
            "Columns: 140 entries, Id to Target\n",
            "dtypes: float64(5), int64(129), object(6)\n",
            "memory usage: 10.3+ MB\n"
          ]
        }
      ]
    },
    {
      "cell_type": "code",
      "source": [
        "plt.hist('meaneduc',data=train_v2)"
      ],
      "metadata": {
        "colab": {
          "base_uri": "https://localhost:8080/",
          "height": 504
        },
        "id": "HynbnDJ6e218",
        "outputId": "3e44a3ea-ab92-468c-cb87-c8aa84f01670"
      },
      "execution_count": 27,
      "outputs": [
        {
          "output_type": "execute_result",
          "data": {
            "text/plain": [
              "(array([6.860e+02, 2.671e+03, 3.507e+03, 1.687e+03, 7.640e+02, 1.630e+02,\n",
              "        3.200e+01, 1.400e+01, 2.000e+00, 3.000e+00]),\n",
              " array([ 0. ,  3.7,  7.4, 11.1, 14.8, 18.5, 22.2, 25.9, 29.6, 33.3, 37. ]),\n",
              " <BarContainer object of 10 artists>)"
            ]
          },
          "metadata": {},
          "execution_count": 27
        },
        {
          "output_type": "display_data",
          "data": {
            "text/plain": [
              "<Figure size 640x480 with 1 Axes>"
            ],
            "image/png": "[encoded data removed]"
          },
          "metadata": {}
        }
      ]
    },
    {
      "cell_type": "code",
      "source": [
        "plt.hist('SQBmeaned',data=train_v2)"
      ],
      "metadata": {
        "colab": {
          "base_uri": "https://localhost:8080/",
          "height": 523
        },
        "id": "biSXs73ugboW",
        "outputId": "2d0a1203-d780-48fc-be09-49b1fb92161b"
      },
      "execution_count": 28,
      "outputs": [
        {
          "output_type": "execute_result",
          "data": {
            "text/plain": [
              "(array([7.194e+03, 1.939e+03, 2.780e+02, 8.000e+01, 1.900e+01, 7.000e+00,\n",
              "        7.000e+00, 2.000e+00, 0.000e+00, 3.000e+00]),\n",
              " array([   0. ,  136.9,  273.8,  410.7,  547.6,  684.5,  821.4,  958.3,\n",
              "        1095.2, 1232.1, 1369. ]),\n",
              " <BarContainer object of 10 artists>)"
            ]
          },
          "metadata": {},
          "execution_count": 28
        },
        {
          "output_type": "display_data",
          "data": {
            "text/plain": [
              "<Figure size 640x480 with 1 Axes>"
            ],
            "image/png": "[encoded data removed]"
          },
          "metadata": {}
        }
      ]
    },
    {
      "cell_type": "code",
      "source": [
        "m_mean = train_v2.meaneduc.mean()\n",
        "m_mean\n",
        "train_v2.meaneduc = train_v2.meaneduc.fillna(m_mean)"
      ],
      "metadata": {
        "id": "9GDwldUVg4Qd"
      },
      "execution_count": 29,
      "outputs": []
    },
    {
      "cell_type": "code",
      "source": [
        "s_mode =  train_v2.SQBmeaned.value_counts().sort_values(ascending=False).index[0] # index[0]임\n",
        "train_v2.SQBmeaned = train_v2.SQBmeaned.fillna(s_mode)"
      ],
      "metadata": {
        "id": "xXnM2ZR2h4IS"
      },
      "execution_count": 30,
      "outputs": []
    },
    {
      "cell_type": "code",
      "source": [
        "corr_df = train_v2.corr()\n",
        "corr_df = corr_df.apply(lambda x: round(x ,2))"
      ],
      "metadata": {
        "colab": {
          "base_uri": "https://localhost:8080/"
        },
        "id": "jiWby_ZqjvQ7",
        "outputId": "370e43b9-01df-46fb-c145-b4a10b05d3f6"
      },
      "execution_count": 31,
      "outputs": [
        {
          "output_type": "stream",
          "name": "stderr",
          "text": [
            "<ipython-input-31-21cd837a09c0>:1: FutureWarning: The default value of numeric_only in DataFrame.corr is deprecated. In a future version, it will default to False. Select only valid columns or specify the value of numeric_only to silence this warning.\n",
            "  corr_df = train_v2.corr()\n"
          ]
        }
      ]
    },
    {
      "cell_type": "markdown",
      "source": [
        "##### 이상치 처리"
      ],
      "metadata": {
        "id": "pda_TzmO6A4I"
      }
    },
    {
      "cell_type": "code",
      "source": [
        "train_v2.select_dtypes(\"object\")\n",
        "# dependency 의존도\n",
        "# edjefe 남성 가장의 교육년수\n",
        "# edjefa 여성 가장의 학력"
      ],
      "metadata": {
        "colab": {
          "base_uri": "https://localhost:8080/",
          "height": 424
        },
        "id": "hH4hlJJcoJu9",
        "outputId": "e3f4a664-0d33-4434-82a4-b4ef9bfd784d"
      },
      "execution_count": 32,
      "outputs": [
        {
          "output_type": "execute_result",
          "data": {
            "text/plain": [
              "                Id    idhogar dependency edjefe edjefa Target\n",
              "3     ID_d671db89c  2b58d945f        yes     11     no      4\n",
              "4     ID_d56d6f5f5  2b58d945f        yes     11     no      4\n",
              "6     ID_e9e0c1100  2b58d945f        yes     11     no      4\n",
              "7     ID_3e04e571e  d6dae86b7        yes      9     no      4\n",
              "9     ID_51f52fdd2  d6dae86b7        yes      9     no      4\n",
              "...            ...        ...        ...    ...    ...    ...\n",
              "9535  ID_18b0a845b  9bbf7c6ca        1.5     no      5      1\n",
              "9541  ID_a31274054  e87e70c06        1.5      2     no      2\n",
              "9545  ID_32a00a8bf  a8eeafc29  .66666669      2     no      4\n",
              "9551  ID_79d39dddc  212db6f6c        yes     no     no      2\n",
              "9552  ID_d45ae367d  d6c086aa3        .25      9     no      2\n",
              "\n",
              "[9534 rows x 6 columns]"
            ],
            "text/html": [
              "\n",
              "\n",
              "  <div id=\"df-8814e33c-e839-46f4-8ec8-2153d6682aac\">\n",
              "    <div class=\"colab-df-container\">\n",
              "      <div>\n",
              "<style scoped>\n",
              "    .dataframe tbody tr th:only-of-type {\n",
              "        vertical-align: middle;\n",
              "    }\n",
              "\n",
              "    .dataframe tbody tr th {\n",
              "        vertical-align: top;\n",
              "    }\n",
              "\n",
              "    .dataframe thead th {\n",
              "        text-align: right;\n",
              "    }\n",
              "</style>\n",
              "<table border=\"1\" class=\"dataframe\">\n",
              "  <thead>\n",
              "    <tr style=\"text-align: right;\">\n",
              "      <th></th>\n",
              "      <th>Id</th>\n",
              "      <th>idhogar</th>\n",
              "      <th>dependency</th>\n",
              "      <th>edjefe</th>\n",
              "      <th>edjefa</th>\n",
              "      <th>Target</th>\n",
              "    </tr>\n",
              "  </thead>\n",
              "  <tbody>\n",
              "    <tr>\n",
              "      <th>3</th>\n",
              "      <td>ID_d671db89c</td>\n",
              "      <td>2b58d945f</td>\n",
              "      <td>yes</td>\n",
              "      <td>11</td>\n",
              "      <td>no</td>\n",
              "      <td>4</td>\n",
              "    </tr>\n",
              "    <tr>\n",
              "      <th>4</th>\n",
              "      <td>ID_d56d6f5f5</td>\n",
              "      <td>2b58d945f</td>\n",
              "      <td>yes</td>\n",
              "      <td>11</td>\n",
              "      <td>no</td>\n",
              "      <td>4</td>\n",
              "    </tr>\n",
              "    <tr>\n",
              "      <th>6</th>\n",
              "      <td>ID_e9e0c1100</td>\n",
              "      <td>2b58d945f</td>\n",
              "      <td>yes</td>\n",
              "      <td>11</td>\n",
              "      <td>no</td>\n",
              "      <td>4</td>\n",
              "    </tr>\n",
              "    <tr>\n",
              "      <th>7</th>\n",
              "      <td>ID_3e04e571e</td>\n",
              "      <td>d6dae86b7</td>\n",
              "      <td>yes</td>\n",
              "      <td>9</td>\n",
              "      <td>no</td>\n",
              "      <td>4</td>\n",
              "    </tr>\n",
              "    <tr>\n",
              "      <th>9</th>\n",
              "      <td>ID_51f52fdd2</td>\n",
              "      <td>d6dae86b7</td>\n",
              "      <td>yes</td>\n",
              "      <td>9</td>\n",
              "      <td>no</td>\n",
              "      <td>4</td>\n",
              "    </tr>\n",
              "    <tr>\n",
              "      <th>...</th>\n",
              "      <td>...</td>\n",
              "      <td>...</td>\n",
              "      <td>...</td>\n",
              "      <td>...</td>\n",
              "      <td>...</td>\n",
              "      <td>...</td>\n",
              "    </tr>\n",
              "    <tr>\n",
              "      <th>9535</th>\n",
              "      <td>ID_18b0a845b</td>\n",
              "      <td>9bbf7c6ca</td>\n",
              "      <td>1.5</td>\n",
              "      <td>no</td>\n",
              "      <td>5</td>\n",
              "      <td>1</td>\n",
              "    </tr>\n",
              "    <tr>\n",
              "      <th>9541</th>\n",
              "      <td>ID_a31274054</td>\n",
              "      <td>e87e70c06</td>\n",
              "      <td>1.5</td>\n",
              "      <td>2</td>\n",
              "      <td>no</td>\n",
              "      <td>2</td>\n",
              "    </tr>\n",
              "    <tr>\n",
              "      <th>9545</th>\n",
              "      <td>ID_32a00a8bf</td>\n",
              "      <td>a8eeafc29</td>\n",
              "      <td>.66666669</td>\n",
              "      <td>2</td>\n",
              "      <td>no</td>\n",
              "      <td>4</td>\n",
              "    </tr>\n",
              "    <tr>\n",
              "      <th>9551</th>\n",
              "      <td>ID_79d39dddc</td>\n",
              "      <td>212db6f6c</td>\n",
              "      <td>yes</td>\n",
              "      <td>no</td>\n",
              "      <td>no</td>\n",
              "      <td>2</td>\n",
              "    </tr>\n",
              "    <tr>\n",
              "      <th>9552</th>\n",
              "      <td>ID_d45ae367d</td>\n",
              "      <td>d6c086aa3</td>\n",
              "      <td>.25</td>\n",
              "      <td>9</td>\n",
              "      <td>no</td>\n",
              "      <td>2</td>\n",
              "    </tr>\n",
              "  </tbody>\n",
              "</table>\n",
              "<p>9534 rows × 6 columns</p>\n",
              "</div>\n",
              "      <button class=\"colab-df-convert\" onclick=\"convertToInteractive('df-8814e33c-e839-46f4-8ec8-2153d6682aac')\"\n",
              "              title=\"Convert this dataframe to an interactive table.\"\n",
              "              style=\"display:none;\">\n",
              "\n",
              "  <svg xmlns=\"http://www.w3.org/2000/svg\" height=\"24px\"viewBox=\"0 0 24 24\"\n",
              "       width=\"24px\">\n",
              "    <path d=\"M0 0h24v24H0V0z\" fill=\"none\"/>\n",
              "    <path d=\"M18.56 5.44l.94 2.06.94-2.06 2.06-.94-2.06-.94-.94-2.06-.94 2.06-2.06.94zm-11 1L8.5 8.5l.94-2.06 2.06-.94-2.06-.94L8.5 2.5l-.94 2.06-2.06.94zm10 10l.94 2.06.94-2.06 2.06-.94-2.06-.94-.94-2.06-.94 2.06-2.06.94z\"/><path d=\"M17.41 7.96l-1.37-1.37c-.4-.4-.92-.59-1.43-.59-.52 0-1.04.2-1.43.59L10.3 9.45l-7.72 7.72c-.78.78-.78 2.05 0 2.83L4 21.41c.39.39.9.59 1.41.59.51 0 1.02-.2 1.41-.59l7.78-7.78 2.81-2.81c.8-.78.8-2.07 0-2.86zM5.41 20L4 18.59l7.72-7.72 1.47 1.35L5.41 20z\"/>\n",
              "  </svg>\n",
              "      </button>\n",
              "\n",
              "\n",
              "\n",
              "    <div id=\"df-e73e1d08-e54c-4213-9bed-d5e9e256973d\">\n",
              "      <button class=\"colab-df-quickchart\" onclick=\"quickchart('df-e73e1d08-e54c-4213-9bed-d5e9e256973d')\"\n",
              "              title=\"Suggest charts.\"\n",
              "              style=\"display:none;\">\n",
              "\n",
              "<svg xmlns=\"http://www.w3.org/2000/svg\" height=\"24px\"viewBox=\"0 0 24 24\"\n",
              "     width=\"24px\">\n",
              "    <g>\n",
              "        <path d=\"M19 3H5c-1.1 0-2 .9-2 2v14c0 1.1.9 2 2 2h14c1.1 0 2-.9 2-2V5c0-1.1-.9-2-2-2zM9 17H7v-7h2v7zm4 0h-2V7h2v10zm4 0h-2v-4h2v4z\"/>\n",
              "    </g>\n",
              "</svg>\n",
              "      </button>\n",
              "    </div>\n",
              "\n",
              "<style>\n",
              "  .colab-df-quickchart {\n",
              "    background-color: #E8F0FE;\n",
              "    border: none;\n",
              "    border-radius: 50%;\n",
              "    cursor: pointer;\n",
              "    display: none;\n",
              "    fill: #1967D2;\n",
              "    height: 32px;\n",
              "    padding: 0 0 0 0;\n",
              "    width: 32px;\n",
              "  }\n",
              "\n",
              "  .colab-df-quickchart:hover {\n",
              "    background-color: #E2EBFA;\n",
              "    box-shadow: 0px 1px 2px rgba(60, 64, 67, 0.3), 0px 1px 3px 1px rgba(60, 64, 67, 0.15);\n",
              "    fill: #174EA6;\n",
              "  }\n",
              "\n",
              "  [theme=dark] .colab-df-quickchart {\n",
              "    background-color: #3B4455;\n",
              "    fill: #D2E3FC;\n",
              "  }\n",
              "\n",
              "  [theme=dark] .colab-df-quickchart:hover {\n",
              "    background-color: #434B5C;\n",
              "    box-shadow: 0px 1px 3px 1px rgba(0, 0, 0, 0.15);\n",
              "    filter: drop-shadow(0px 1px 2px rgba(0, 0, 0, 0.3));\n",
              "    fill: #FFFFFF;\n",
              "  }\n",
              "</style>\n",
              "\n",
              "    <script>\n",
              "      async function quickchart(key) {\n",
              "        const containerElement = document.querySelector('#' + key);\n",
              "        const charts = await google.colab.kernel.invokeFunction(\n",
              "            'suggestCharts', [key], {});\n",
              "      }\n",
              "    </script>\n",
              "\n",
              "      <script>\n",
              "\n",
              "function displayQuickchartButton(domScope) {\n",
              "  let quickchartButtonEl =\n",
              "    domScope.querySelector('#df-e73e1d08-e54c-4213-9bed-d5e9e256973d button.colab-df-quickchart');\n",
              "  quickchartButtonEl.style.display =\n",
              "    google.colab.kernel.accessAllowed ? 'block' : 'none';\n",
              "}\n",
              "\n",
              "        displayQuickchartButton(document);\n",
              "      </script>\n",
              "      <style>\n",
              "    .colab-df-container {\n",
              "      display:flex;\n",
              "      flex-wrap:wrap;\n",
              "      gap: 12px;\n",
              "    }\n",
              "\n",
              "    .colab-df-convert {\n",
              "      background-color: #E8F0FE;\n",
              "      border: none;\n",
              "      border-radius: 50%;\n",
              "      cursor: pointer;\n",
              "      display: none;\n",
              "      fill: #1967D2;\n",
              "      height: 32px;\n",
              "      padding: 0 0 0 0;\n",
              "      width: 32px;\n",
              "    }\n",
              "\n",
              "    .colab-df-convert:hover {\n",
              "      background-color: #E2EBFA;\n",
              "      box-shadow: 0px 1px 2px rgba(60, 64, 67, 0.3), 0px 1px 3px 1px rgba(60, 64, 67, 0.15);\n",
              "      fill: #174EA6;\n",
              "    }\n",
              "\n",
              "    [theme=dark] .colab-df-convert {\n",
              "      background-color: #3B4455;\n",
              "      fill: #D2E3FC;\n",
              "    }\n",
              "\n",
              "    [theme=dark] .colab-df-convert:hover {\n",
              "      background-color: #434B5C;\n",
              "      box-shadow: 0px 1px 3px 1px rgba(0, 0, 0, 0.15);\n",
              "      filter: drop-shadow(0px 1px 2px rgba(0, 0, 0, 0.3));\n",
              "      fill: #FFFFFF;\n",
              "    }\n",
              "  </style>\n",
              "\n",
              "      <script>\n",
              "        const buttonEl =\n",
              "          document.querySelector('#df-8814e33c-e839-46f4-8ec8-2153d6682aac button.colab-df-convert');\n",
              "        buttonEl.style.display =\n",
              "          google.colab.kernel.accessAllowed ? 'block' : 'none';\n",
              "\n",
              "        async function convertToInteractive(key) {\n",
              "          const element = document.querySelector('#df-8814e33c-e839-46f4-8ec8-2153d6682aac');\n",
              "          const dataTable =\n",
              "            await google.colab.kernel.invokeFunction('convertToInteractive',\n",
              "                                                     [key], {});\n",
              "          if (!dataTable) return;\n",
              "\n",
              "          const docLinkHtml = 'Like what you see? Visit the ' +\n",
              "            '<a target=\"_blank\" href=https://colab.research.google.com/notebooks/data_table.ipynb>data table notebook</a>'\n",
              "            + ' to learn more about interactive tables.';\n",
              "          element.innerHTML = '';\n",
              "          dataTable['output_type'] = 'display_data';\n",
              "          await google.colab.output.renderOutput(dataTable, element);\n",
              "          const docLink = document.createElement('div');\n",
              "          docLink.innerHTML = docLinkHtml;\n",
              "          element.appendChild(docLink);\n",
              "        }\n",
              "      </script>\n",
              "    </div>\n",
              "  </div>\n"
            ]
          },
          "metadata": {},
          "execution_count": 32
        }
      ]
    },
    {
      "cell_type": "code",
      "source": [
        "backuptrain = train_v2.copy() # 전처리 중간 중간간백업용 만들어놓기"
      ],
      "metadata": {
        "id": "h2EiqmflvrSl"
      },
      "execution_count": 33,
      "outputs": []
    },
    {
      "cell_type": "code",
      "source": [
        "# 이상치 처리 가능한가?\n",
        "# import numpy as np\n",
        "# depend = train_v2[(train_v2['dependency']!='yes') &(train_v2['dependency']!='no')]['dependency'].astype(float)\n",
        "# qua_1, qua_3 = np.percentile(depend, [25,75])\n",
        "# iqr = qua_3 - qua_1\n",
        "# lower_whis=qua_1 -(iqr*1.5)\n",
        "# upper_whis=qua_3 +(iqr*1.5)\n",
        "# lower_whis, upper_whis"
      ],
      "metadata": {
        "id": "R-gljeh3rmB3"
      },
      "execution_count": null,
      "outputs": []
    },
    {
      "cell_type": "code",
      "source": [
        "#train_v2.dependency.max() ouput : 'yes'\n",
        "depend = train_v2[(train_v2['dependency']!='yes') &(train_v2['dependency']!='no')]['dependency'].astype(float)\n",
        "d_max = max(depend)\n",
        "d_min = min(depend)\n",
        "d_max, d_min"
      ],
      "metadata": {
        "colab": {
          "base_uri": "https://localhost:8080/"
        },
        "id": "_kzHPKMGqLVq",
        "outputId": "255140f5-85cb-46b2-9371-63a12ccf6e32"
      },
      "execution_count": 34,
      "outputs": [
        {
          "output_type": "execute_result",
          "data": {
            "text/plain": [
              "(8.0, 0.16666667)"
            ]
          },
          "metadata": {},
          "execution_count": 34
        }
      ]
    },
    {
      "cell_type": "code",
      "source": [
        "train_v2.dependency = train_v2.dependency.map(lambda x : d_max if x==\"yes\" else d_min if x==\"no\" else x ).astype(float)"
      ],
      "metadata": {
        "id": "3M2G_in1q11N"
      },
      "execution_count": 35,
      "outputs": []
    },
    {
      "cell_type": "code",
      "source": [
        "edjefe = train_v2[(train_v2['edjefe']!='yes') &(train_v2['edjefe']!='no')]['edjefe'].astype(float)\n",
        "plt.hist(edjefe)\n",
        "e_median = edjefe.median()\n",
        "train_v2.edjefe = train_v2.edjefe.map(lambda x : e_median if x==\"yes\" else 0 if x==\"no\" else x ).astype(float)\n"
      ],
      "metadata": {
        "colab": {
          "base_uri": "https://localhost:8080/",
          "height": 430
        },
        "id": "Ubh--leGt6cT",
        "outputId": "e37bbbd1-7b9d-4577-8e1a-1c2e37af4784"
      },
      "execution_count": 36,
      "outputs": [
        {
          "output_type": "display_data",
          "data": {
            "text/plain": [
              "<Figure size 640x480 with 1 Axes>"
            ],
            "image/png": "[encoded data removed]"
          },
          "metadata": {}
        }
      ]
    },
    {
      "cell_type": "code",
      "source": [
        "edjefa = train_v2[(train_v2['edjefa']!='yes') &(train_v2['edjefa']!='no')]['edjefa'].astype(float)\n",
        "plt.hist(edjefa)\n",
        "e_median = edjefa.median()\n",
        "train_v2.edjefa = train_v2.edjefa.map(lambda x : e_median if x==\"yes\" else 0 if x==\"no\" else x ).astype(float)\n",
        "e_median"
      ],
      "metadata": {
        "colab": {
          "base_uri": "https://localhost:8080/",
          "height": 449
        },
        "id": "laAzeRyGvO7V",
        "outputId": "41a36b4e-dbee-456a-fbd1-2186bd53bbcb"
      },
      "execution_count": 37,
      "outputs": [
        {
          "output_type": "execute_result",
          "data": {
            "text/plain": [
              "7.0"
            ]
          },
          "metadata": {},
          "execution_count": 37
        },
        {
          "output_type": "display_data",
          "data": {
            "text/plain": [
              "<Figure size 640x480 with 1 Axes>"
            ],
            "image/png": "[encoded data removed]"
          },
          "metadata": {}
        }
      ]
    },
    {
      "cell_type": "code",
      "source": [
        "pd.set_option(\"display.max_rows\",200)\n",
        "pd.DataFrame(train_v2.nunique())\n",
        "# elimbasu5 고유값이 하나밖에 없으므로 해당 컬럼을 제외한다.\n",
        "# 숫자형변수가 라벨인코딩 된 값을 가지고 있는지 확인을 해야하지만 너무 변수가 많으므로 이번 데이터에서는 생략하겠다."
      ],
      "metadata": {
        "colab": {
          "base_uri": "https://localhost:8080/",
          "height": 1000
        },
        "id": "FEx3StrA9WIm",
        "outputId": "47c592f3-e185-4cbd-82b7-7d64eeb83a26"
      },
      "execution_count": 39,
      "outputs": [
        {
          "output_type": "execute_result",
          "data": {
            "text/plain": [
              "                    0\n",
              "Id               9534\n",
              "hacdor              2\n",
              "rooms              11\n",
              "hacapo              2\n",
              "v14a                2\n",
              "refrig              2\n",
              "v18q                2\n",
              "r4h1                6\n",
              "r4h2                9\n",
              "r4h3                9\n",
              "r4m1                6\n",
              "r4m2                7\n",
              "r4m3                9\n",
              "r4t1                7\n",
              "r4t2               11\n",
              "r4t3               13\n",
              "tamhog             13\n",
              "tamviv             14\n",
              "escolari           22\n",
              "hhsize             13\n",
              "paredblolad         2\n",
              "paredzocalo         2\n",
              "paredpreb           2\n",
              "pareddes            2\n",
              "paredmad            2\n",
              "paredzinc           2\n",
              "paredfibras         2\n",
              "paredother          2\n",
              "pisomoscer          2\n",
              "pisocemento         2\n",
              "pisoother           2\n",
              "pisonatur           2\n",
              "pisonotiene         2\n",
              "pisomadera          2\n",
              "techozinc           2\n",
              "techoentrepiso      2\n",
              "techocane           2\n",
              "techootro           2\n",
              "cielorazo           2\n",
              "abastaguadentro     2\n",
              "abastaguafuera      2\n",
              "abastaguano         2\n",
              "public              2\n",
              "planpri             2\n",
              "noelec              2\n",
              "coopele             2\n",
              "sanitario1          2\n",
              "sanitario2          2\n",
              "sanitario3          2\n",
              "sanitario5          2\n",
              "sanitario6          2\n",
              "energcocinar1       2\n",
              "energcocinar2       2\n",
              "energcocinar3       2\n",
              "energcocinar4       2\n",
              "elimbasu1           2\n",
              "elimbasu2           2\n",
              "elimbasu3           2\n",
              "elimbasu4           2\n",
              "elimbasu5           1\n",
              "elimbasu6           2\n",
              "epared1             2\n",
              "epared2             2\n",
              "epared3             2\n",
              "etecho1             2\n",
              "etecho2             2\n",
              "etecho3             2\n",
              "eviv1               2\n",
              "eviv2               2\n",
              "eviv3               2\n",
              "dis                 2\n",
              "male                2\n",
              "female              2\n",
              "estadocivil1        2\n",
              "estadocivil2        2\n",
              "estadocivil3        2\n",
              "estadocivil4        2\n",
              "estadocivil5        2\n",
              "estadocivil6        2\n",
              "estadocivil7        2\n",
              "parentesco1         2\n",
              "parentesco2         2\n",
              "parentesco3         2\n",
              "parentesco4         2\n",
              "parentesco5         2\n",
              "parentesco6         2\n",
              "parentesco7         2\n",
              "parentesco8         2\n",
              "parentesco9         2\n",
              "parentesco10        2\n",
              "parentesco11        2\n",
              "parentesco12        2\n",
              "idhogar          2973\n",
              "hogar_nin          10\n",
              "hogar_adul         10\n",
              "hogar_mayor         4\n",
              "hogar_total        13\n",
              "dependency         29\n",
              "edjefe             21\n",
              "edjefa             21\n",
              "meaneduc          156\n",
              "instlevel1          2\n",
              "instlevel2          2\n",
              "instlevel3          2\n",
              "instlevel4          2\n",
              "instlevel5          2\n",
              "instlevel6          2\n",
              "instlevel7          2\n",
              "instlevel8          2\n",
              "instlevel9          2\n",
              "bedrooms            7\n",
              "overcrowding       38\n",
              "tipovivi1           2\n",
              "tipovivi2           2\n",
              "tipovivi3           2\n",
              "tipovivi4           2\n",
              "tipovivi5           2\n",
              "computer            2\n",
              "television          2\n",
              "mobilephone         2\n",
              "qmobilephone       11\n",
              "lugar1              2\n",
              "lugar2              2\n",
              "lugar3              2\n",
              "lugar4              2\n",
              "lugar5              2\n",
              "lugar6              2\n",
              "area1               2\n",
              "area2               2\n",
              "age                97\n",
              "SQBescolari        22\n",
              "SQBage             97\n",
              "SQBhogar_total     13\n",
              "SQBedjefe          22\n",
              "SQBhogar_nin       10\n",
              "SQBovercrowding    38\n",
              "SQBdependency      31\n",
              "SQBmeaned         155\n",
              "agesq              97\n",
              "Target              4"
            ],
            "text/html": [
              "\n",
              "\n",
              "  <div id=\"df-9784dc44-3944-4747-a639-0ecbf8a20220\">\n",
              "    <div class=\"colab-df-container\">\n",
              "      <div>\n",
              "<style scoped>\n",
              "    .dataframe tbody tr th:only-of-type {\n",
              "        vertical-align: middle;\n",
              "    }\n",
              "\n",
              "    .dataframe tbody tr th {\n",
              "        vertical-align: top;\n",
              "    }\n",
              "\n",
              "    .dataframe thead th {\n",
              "        text-align: right;\n",
              "    }\n",
              "</style>\n",
              "<table border=\"1\" class=\"dataframe\">\n",
              "  <thead>\n",
              "    <tr style=\"text-align: right;\">\n",
              "      <th></th>\n",
              "      <th>0</th>\n",
              "    </tr>\n",
              "  </thead>\n",
              "  <tbody>\n",
              "    <tr>\n",
              "      <th>Id</th>\n",
              "      <td>9534</td>\n",
              "    </tr>\n",
              "    <tr>\n",
              "      <th>hacdor</th>\n",
              "      <td>2</td>\n",
              "    </tr>\n",
              "    <tr>\n",
              "      <th>rooms</th>\n",
              "      <td>11</td>\n",
              "    </tr>\n",
              "    <tr>\n",
              "      <th>hacapo</th>\n",
              "      <td>2</td>\n",
              "    </tr>\n",
              "    <tr>\n",
              "      <th>v14a</th>\n",
              "      <td>2</td>\n",
              "    </tr>\n",
              "    <tr>\n",
              "      <th>refrig</th>\n",
              "      <td>2</td>\n",
              "    </tr>\n",
              "    <tr>\n",
              "      <th>v18q</th>\n",
              "      <td>2</td>\n",
              "    </tr>\n",
              "    <tr>\n",
              "      <th>r4h1</th>\n",
              "      <td>6</td>\n",
              "    </tr>\n",
              "    <tr>\n",
              "      <th>r4h2</th>\n",
              "      <td>9</td>\n",
              "    </tr>\n",
              "    <tr>\n",
              "      <th>r4h3</th>\n",
              "      <td>9</td>\n",
              "    </tr>\n",
              "    <tr>\n",
              "      <th>r4m1</th>\n",
              "      <td>6</td>\n",
              "    </tr>\n",
              "    <tr>\n",
              "      <th>r4m2</th>\n",
              "      <td>7</td>\n",
              "    </tr>\n",
              "    <tr>\n",
              "      <th>r4m3</th>\n",
              "      <td>9</td>\n",
              "    </tr>\n",
              "    <tr>\n",
              "      <th>r4t1</th>\n",
              "      <td>7</td>\n",
              "    </tr>\n",
              "    <tr>\n",
              "      <th>r4t2</th>\n",
              "      <td>11</td>\n",
              "    </tr>\n",
              "    <tr>\n",
              "      <th>r4t3</th>\n",
              "      <td>13</td>\n",
              "    </tr>\n",
              "    <tr>\n",
              "      <th>tamhog</th>\n",
              "      <td>13</td>\n",
              "    </tr>\n",
              "    <tr>\n",
              "      <th>tamviv</th>\n",
              "      <td>14</td>\n",
              "    </tr>\n",
              "    <tr>\n",
              "      <th>escolari</th>\n",
              "      <td>22</td>\n",
              "    </tr>\n",
              "    <tr>\n",
              "      <th>hhsize</th>\n",
              "      <td>13</td>\n",
              "    </tr>\n",
              "    <tr>\n",
              "      <th>paredblolad</th>\n",
              "      <td>2</td>\n",
              "    </tr>\n",
              "    <tr>\n",
              "      <th>paredzocalo</th>\n",
              "      <td>2</td>\n",
              "    </tr>\n",
              "    <tr>\n",
              "      <th>paredpreb</th>\n",
              "      <td>2</td>\n",
              "    </tr>\n",
              "    <tr>\n",
              "      <th>pareddes</th>\n",
              "      <td>2</td>\n",
              "    </tr>\n",
              "    <tr>\n",
              "      <th>paredmad</th>\n",
              "      <td>2</td>\n",
              "    </tr>\n",
              "    <tr>\n",
              "      <th>paredzinc</th>\n",
              "      <td>2</td>\n",
              "    </tr>\n",
              "    <tr>\n",
              "      <th>paredfibras</th>\n",
              "      <td>2</td>\n",
              "    </tr>\n",
              "    <tr>\n",
              "      <th>paredother</th>\n",
              "      <td>2</td>\n",
              "    </tr>\n",
              "    <tr>\n",
              "      <th>pisomoscer</th>\n",
              "      <td>2</td>\n",
              "    </tr>\n",
              "    <tr>\n",
              "      <th>pisocemento</th>\n",
              "      <td>2</td>\n",
              "    </tr>\n",
              "    <tr>\n",
              "      <th>pisoother</th>\n",
              "      <td>2</td>\n",
              "    </tr>\n",
              "    <tr>\n",
              "      <th>pisonatur</th>\n",
              "      <td>2</td>\n",
              "    </tr>\n",
              "    <tr>\n",
              "      <th>pisonotiene</th>\n",
              "      <td>2</td>\n",
              "    </tr>\n",
              "    <tr>\n",
              "      <th>pisomadera</th>\n",
              "      <td>2</td>\n",
              "    </tr>\n",
              "    <tr>\n",
              "      <th>techozinc</th>\n",
              "      <td>2</td>\n",
              "    </tr>\n",
              "    <tr>\n",
              "      <th>techoentrepiso</th>\n",
              "      <td>2</td>\n",
              "    </tr>\n",
              "    <tr>\n",
              "      <th>techocane</th>\n",
              "      <td>2</td>\n",
              "    </tr>\n",
              "    <tr>\n",
              "      <th>techootro</th>\n",
              "      <td>2</td>\n",
              "    </tr>\n",
              "    <tr>\n",
              "      <th>cielorazo</th>\n",
              "      <td>2</td>\n",
              "    </tr>\n",
              "    <tr>\n",
              "      <th>abastaguadentro</th>\n",
              "      <td>2</td>\n",
              "    </tr>\n",
              "    <tr>\n",
              "      <th>abastaguafuera</th>\n",
              "      <td>2</td>\n",
              "    </tr>\n",
              "    <tr>\n",
              "      <th>abastaguano</th>\n",
              "      <td>2</td>\n",
              "    </tr>\n",
              "    <tr>\n",
              "      <th>public</th>\n",
              "      <td>2</td>\n",
              "    </tr>\n",
              "    <tr>\n",
              "      <th>planpri</th>\n",
              "      <td>2</td>\n",
              "    </tr>\n",
              "    <tr>\n",
              "      <th>noelec</th>\n",
              "      <td>2</td>\n",
              "    </tr>\n",
              "    <tr>\n",
              "      <th>coopele</th>\n",
              "      <td>2</td>\n",
              "    </tr>\n",
              "    <tr>\n",
              "      <th>sanitario1</th>\n",
              "      <td>2</td>\n",
              "    </tr>\n",
              "    <tr>\n",
              "      <th>sanitario2</th>\n",
              "      <td>2</td>\n",
              "    </tr>\n",
              "    <tr>\n",
              "      <th>sanitario3</th>\n",
              "      <td>2</td>\n",
              "    </tr>\n",
              "    <tr>\n",
              "      <th>sanitario5</th>\n",
              "      <td>2</td>\n",
              "    </tr>\n",
              "    <tr>\n",
              "      <th>sanitario6</th>\n",
              "      <td>2</td>\n",
              "    </tr>\n",
              "    <tr>\n",
              "      <th>energcocinar1</th>\n",
              "      <td>2</td>\n",
              "    </tr>\n",
              "    <tr>\n",
              "      <th>energcocinar2</th>\n",
              "      <td>2</td>\n",
              "    </tr>\n",
              "    <tr>\n",
              "      <th>energcocinar3</th>\n",
              "      <td>2</td>\n",
              "    </tr>\n",
              "    <tr>\n",
              "      <th>energcocinar4</th>\n",
              "      <td>2</td>\n",
              "    </tr>\n",
              "    <tr>\n",
              "      <th>elimbasu1</th>\n",
              "      <td>2</td>\n",
              "    </tr>\n",
              "    <tr>\n",
              "      <th>elimbasu2</th>\n",
              "      <td>2</td>\n",
              "    </tr>\n",
              "    <tr>\n",
              "      <th>elimbasu3</th>\n",
              "      <td>2</td>\n",
              "    </tr>\n",
              "    <tr>\n",
              "      <th>elimbasu4</th>\n",
              "      <td>2</td>\n",
              "    </tr>\n",
              "    <tr>\n",
              "      <th>elimbasu5</th>\n",
              "      <td>1</td>\n",
              "    </tr>\n",
              "    <tr>\n",
              "      <th>elimbasu6</th>\n",
              "      <td>2</td>\n",
              "    </tr>\n",
              "    <tr>\n",
              "      <th>epared1</th>\n",
              "      <td>2</td>\n",
              "    </tr>\n",
              "    <tr>\n",
              "      <th>epared2</th>\n",
              "      <td>2</td>\n",
              "    </tr>\n",
              "    <tr>\n",
              "      <th>epared3</th>\n",
              "      <td>2</td>\n",
              "    </tr>\n",
              "    <tr>\n",
              "      <th>etecho1</th>\n",
              "      <td>2</td>\n",
              "    </tr>\n",
              "    <tr>\n",
              "      <th>etecho2</th>\n",
              "      <td>2</td>\n",
              "    </tr>\n",
              "    <tr>\n",
              "      <th>etecho3</th>\n",
              "      <td>2</td>\n",
              "    </tr>\n",
              "    <tr>\n",
              "      <th>eviv1</th>\n",
              "      <td>2</td>\n",
              "    </tr>\n",
              "    <tr>\n",
              "      <th>eviv2</th>\n",
              "      <td>2</td>\n",
              "    </tr>\n",
              "    <tr>\n",
              "      <th>eviv3</th>\n",
              "      <td>2</td>\n",
              "    </tr>\n",
              "    <tr>\n",
              "      <th>dis</th>\n",
              "      <td>2</td>\n",
              "    </tr>\n",
              "    <tr>\n",
              "      <th>male</th>\n",
              "      <td>2</td>\n",
              "    </tr>\n",
              "    <tr>\n",
              "      <th>female</th>\n",
              "      <td>2</td>\n",
              "    </tr>\n",
              "    <tr>\n",
              "      <th>estadocivil1</th>\n",
              "      <td>2</td>\n",
              "    </tr>\n",
              "    <tr>\n",
              "      <th>estadocivil2</th>\n",
              "      <td>2</td>\n",
              "    </tr>\n",
              "    <tr>\n",
              "      <th>estadocivil3</th>\n",
              "      <td>2</td>\n",
              "    </tr>\n",
              "    <tr>\n",
              "      <th>estadocivil4</th>\n",
              "      <td>2</td>\n",
              "    </tr>\n",
              "    <tr>\n",
              "      <th>estadocivil5</th>\n",
              "      <td>2</td>\n",
              "    </tr>\n",
              "    <tr>\n",
              "      <th>estadocivil6</th>\n",
              "      <td>2</td>\n",
              "    </tr>\n",
              "    <tr>\n",
              "      <th>estadocivil7</th>\n",
              "      <td>2</td>\n",
              "    </tr>\n",
              "    <tr>\n",
              "      <th>parentesco1</th>\n",
              "      <td>2</td>\n",
              "    </tr>\n",
              "    <tr>\n",
              "      <th>parentesco2</th>\n",
              "      <td>2</td>\n",
              "    </tr>\n",
              "    <tr>\n",
              "      <th>parentesco3</th>\n",
              "      <td>2</td>\n",
              "    </tr>\n",
              "    <tr>\n",
              "      <th>parentesco4</th>\n",
              "      <td>2</td>\n",
              "    </tr>\n",
              "    <tr>\n",
              "      <th>parentesco5</th>\n",
              "      <td>2</td>\n",
              "    </tr>\n",
              "    <tr>\n",
              "      <th>parentesco6</th>\n",
              "      <td>2</td>\n",
              "    </tr>\n",
              "    <tr>\n",
              "      <th>parentesco7</th>\n",
              "      <td>2</td>\n",
              "    </tr>\n",
              "    <tr>\n",
              "      <th>parentesco8</th>\n",
              "      <td>2</td>\n",
              "    </tr>\n",
              "    <tr>\n",
              "      <th>parentesco9</th>\n",
              "      <td>2</td>\n",
              "    </tr>\n",
              "    <tr>\n",
              "      <th>parentesco10</th>\n",
              "      <td>2</td>\n",
              "    </tr>\n",
              "    <tr>\n",
              "      <th>parentesco11</th>\n",
              "      <td>2</td>\n",
              "    </tr>\n",
              "    <tr>\n",
              "      <th>parentesco12</th>\n",
              "      <td>2</td>\n",
              "    </tr>\n",
              "    <tr>\n",
              "      <th>idhogar</th>\n",
              "      <td>2973</td>\n",
              "    </tr>\n",
              "    <tr>\n",
              "      <th>hogar_nin</th>\n",
              "      <td>10</td>\n",
              "    </tr>\n",
              "    <tr>\n",
              "      <th>hogar_adul</th>\n",
              "      <td>10</td>\n",
              "    </tr>\n",
              "    <tr>\n",
              "      <th>hogar_mayor</th>\n",
              "      <td>4</td>\n",
              "    </tr>\n",
              "    <tr>\n",
              "      <th>hogar_total</th>\n",
              "      <td>13</td>\n",
              "    </tr>\n",
              "    <tr>\n",
              "      <th>dependency</th>\n",
              "      <td>29</td>\n",
              "    </tr>\n",
              "    <tr>\n",
              "      <th>edjefe</th>\n",
              "      <td>21</td>\n",
              "    </tr>\n",
              "    <tr>\n",
              "      <th>edjefa</th>\n",
              "      <td>21</td>\n",
              "    </tr>\n",
              "    <tr>\n",
              "      <th>meaneduc</th>\n",
              "      <td>156</td>\n",
              "    </tr>\n",
              "    <tr>\n",
              "      <th>instlevel1</th>\n",
              "      <td>2</td>\n",
              "    </tr>\n",
              "    <tr>\n",
              "      <th>instlevel2</th>\n",
              "      <td>2</td>\n",
              "    </tr>\n",
              "    <tr>\n",
              "      <th>instlevel3</th>\n",
              "      <td>2</td>\n",
              "    </tr>\n",
              "    <tr>\n",
              "      <th>instlevel4</th>\n",
              "      <td>2</td>\n",
              "    </tr>\n",
              "    <tr>\n",
              "      <th>instlevel5</th>\n",
              "      <td>2</td>\n",
              "    </tr>\n",
              "    <tr>\n",
              "      <th>instlevel6</th>\n",
              "      <td>2</td>\n",
              "    </tr>\n",
              "    <tr>\n",
              "      <th>instlevel7</th>\n",
              "      <td>2</td>\n",
              "    </tr>\n",
              "    <tr>\n",
              "      <th>instlevel8</th>\n",
              "      <td>2</td>\n",
              "    </tr>\n",
              "    <tr>\n",
              "      <th>instlevel9</th>\n",
              "      <td>2</td>\n",
              "    </tr>\n",
              "    <tr>\n",
              "      <th>bedrooms</th>\n",
              "      <td>7</td>\n",
              "    </tr>\n",
              "    <tr>\n",
              "      <th>overcrowding</th>\n",
              "      <td>38</td>\n",
              "    </tr>\n",
              "    <tr>\n",
              "      <th>tipovivi1</th>\n",
              "      <td>2</td>\n",
              "    </tr>\n",
              "    <tr>\n",
              "      <th>tipovivi2</th>\n",
              "      <td>2</td>\n",
              "    </tr>\n",
              "    <tr>\n",
              "      <th>tipovivi3</th>\n",
              "      <td>2</td>\n",
              "    </tr>\n",
              "    <tr>\n",
              "      <th>tipovivi4</th>\n",
              "      <td>2</td>\n",
              "    </tr>\n",
              "    <tr>\n",
              "      <th>tipovivi5</th>\n",
              "      <td>2</td>\n",
              "    </tr>\n",
              "    <tr>\n",
              "      <th>computer</th>\n",
              "      <td>2</td>\n",
              "    </tr>\n",
              "    <tr>\n",
              "      <th>television</th>\n",
              "      <td>2</td>\n",
              "    </tr>\n",
              "    <tr>\n",
              "      <th>mobilephone</th>\n",
              "      <td>2</td>\n",
              "    </tr>\n",
              "    <tr>\n",
              "      <th>qmobilephone</th>\n",
              "      <td>11</td>\n",
              "    </tr>\n",
              "    <tr>\n",
              "      <th>lugar1</th>\n",
              "      <td>2</td>\n",
              "    </tr>\n",
              "    <tr>\n",
              "      <th>lugar2</th>\n",
              "      <td>2</td>\n",
              "    </tr>\n",
              "    <tr>\n",
              "      <th>lugar3</th>\n",
              "      <td>2</td>\n",
              "    </tr>\n",
              "    <tr>\n",
              "      <th>lugar4</th>\n",
              "      <td>2</td>\n",
              "    </tr>\n",
              "    <tr>\n",
              "      <th>lugar5</th>\n",
              "      <td>2</td>\n",
              "    </tr>\n",
              "    <tr>\n",
              "      <th>lugar6</th>\n",
              "      <td>2</td>\n",
              "    </tr>\n",
              "    <tr>\n",
              "      <th>area1</th>\n",
              "      <td>2</td>\n",
              "    </tr>\n",
              "    <tr>\n",
              "      <th>area2</th>\n",
              "      <td>2</td>\n",
              "    </tr>\n",
              "    <tr>\n",
              "      <th>age</th>\n",
              "      <td>97</td>\n",
              "    </tr>\n",
              "    <tr>\n",
              "      <th>SQBescolari</th>\n",
              "      <td>22</td>\n",
              "    </tr>\n",
              "    <tr>\n",
              "      <th>SQBage</th>\n",
              "      <td>97</td>\n",
              "    </tr>\n",
              "    <tr>\n",
              "      <th>SQBhogar_total</th>\n",
              "      <td>13</td>\n",
              "    </tr>\n",
              "    <tr>\n",
              "      <th>SQBedjefe</th>\n",
              "      <td>22</td>\n",
              "    </tr>\n",
              "    <tr>\n",
              "      <th>SQBhogar_nin</th>\n",
              "      <td>10</td>\n",
              "    </tr>\n",
              "    <tr>\n",
              "      <th>SQBovercrowding</th>\n",
              "      <td>38</td>\n",
              "    </tr>\n",
              "    <tr>\n",
              "      <th>SQBdependency</th>\n",
              "      <td>31</td>\n",
              "    </tr>\n",
              "    <tr>\n",
              "      <th>SQBmeaned</th>\n",
              "      <td>155</td>\n",
              "    </tr>\n",
              "    <tr>\n",
              "      <th>agesq</th>\n",
              "      <td>97</td>\n",
              "    </tr>\n",
              "    <tr>\n",
              "      <th>Target</th>\n",
              "      <td>4</td>\n",
              "    </tr>\n",
              "  </tbody>\n",
              "</table>\n",
              "</div>\n",
              "      <button class=\"colab-df-convert\" onclick=\"convertToInteractive('df-9784dc44-3944-4747-a639-0ecbf8a20220')\"\n",
              "              title=\"Convert this dataframe to an interactive table.\"\n",
              "              style=\"display:none;\">\n",
              "\n",
              "  <svg xmlns=\"http://www.w3.org/2000/svg\" height=\"24px\"viewBox=\"0 0 24 24\"\n",
              "       width=\"24px\">\n",
              "    <path d=\"M0 0h24v24H0V0z\" fill=\"none\"/>\n",
              "    <path d=\"M18.56 5.44l.94 2.06.94-2.06 2.06-.94-2.06-.94-.94-2.06-.94 2.06-2.06.94zm-11 1L8.5 8.5l.94-2.06 2.06-.94-2.06-.94L8.5 2.5l-.94 2.06-2.06.94zm10 10l.94 2.06.94-2.06 2.06-.94-2.06-.94-.94-2.06-.94 2.06-2.06.94z\"/><path d=\"M17.41 7.96l-1.37-1.37c-.4-.4-.92-.59-1.43-.59-.52 0-1.04.2-1.43.59L10.3 9.45l-7.72 7.72c-.78.78-.78 2.05 0 2.83L4 21.41c.39.39.9.59 1.41.59.51 0 1.02-.2 1.41-.59l7.78-7.78 2.81-2.81c.8-.78.8-2.07 0-2.86zM5.41 20L4 18.59l7.72-7.72 1.47 1.35L5.41 20z\"/>\n",
              "  </svg>\n",
              "      </button>\n",
              "\n",
              "\n",
              "\n",
              "    <div id=\"df-c2c0ebcf-d701-4d7e-8526-6a7219dc11c1\">\n",
              "      <button class=\"colab-df-quickchart\" onclick=\"quickchart('df-c2c0ebcf-d701-4d7e-8526-6a7219dc11c1')\"\n",
              "              title=\"Suggest charts.\"\n",
              "              style=\"display:none;\">\n",
              "\n",
              "<svg xmlns=\"http://www.w3.org/2000/svg\" height=\"24px\"viewBox=\"0 0 24 24\"\n",
              "     width=\"24px\">\n",
              "    <g>\n",
              "        <path d=\"M19 3H5c-1.1 0-2 .9-2 2v14c0 1.1.9 2 2 2h14c1.1 0 2-.9 2-2V5c0-1.1-.9-2-2-2zM9 17H7v-7h2v7zm4 0h-2V7h2v10zm4 0h-2v-4h2v4z\"/>\n",
              "    </g>\n",
              "</svg>\n",
              "      </button>\n",
              "    </div>\n",
              "\n",
              "<style>\n",
              "  .colab-df-quickchart {\n",
              "    background-color: #E8F0FE;\n",
              "    border: none;\n",
              "    border-radius: 50%;\n",
              "    cursor: pointer;\n",
              "    display: none;\n",
              "    fill: #1967D2;\n",
              "    height: 32px;\n",
              "    padding: 0 0 0 0;\n",
              "    width: 32px;\n",
              "  }\n",
              "\n",
              "  .colab-df-quickchart:hover {\n",
              "    background-color: #E2EBFA;\n",
              "    box-shadow: 0px 1px 2px rgba(60, 64, 67, 0.3), 0px 1px 3px 1px rgba(60, 64, 67, 0.15);\n",
              "    fill: #174EA6;\n",
              "  }\n",
              "\n",
              "  [theme=dark] .colab-df-quickchart {\n",
              "    background-color: #3B4455;\n",
              "    fill: #D2E3FC;\n",
              "  }\n",
              "\n",
              "  [theme=dark] .colab-df-quickchart:hover {\n",
              "    background-color: #434B5C;\n",
              "    box-shadow: 0px 1px 3px 1px rgba(0, 0, 0, 0.15);\n",
              "    filter: drop-shadow(0px 1px 2px rgba(0, 0, 0, 0.3));\n",
              "    fill: #FFFFFF;\n",
              "  }\n",
              "</style>\n",
              "\n",
              "    <script>\n",
              "      async function quickchart(key) {\n",
              "        const containerElement = document.querySelector('#' + key);\n",
              "        const charts = await google.colab.kernel.invokeFunction(\n",
              "            'suggestCharts', [key], {});\n",
              "      }\n",
              "    </script>\n",
              "\n",
              "      <script>\n",
              "\n",
              "function displayQuickchartButton(domScope) {\n",
              "  let quickchartButtonEl =\n",
              "    domScope.querySelector('#df-c2c0ebcf-d701-4d7e-8526-6a7219dc11c1 button.colab-df-quickchart');\n",
              "  quickchartButtonEl.style.display =\n",
              "    google.colab.kernel.accessAllowed ? 'block' : 'none';\n",
              "}\n",
              "\n",
              "        displayQuickchartButton(document);\n",
              "      </script>\n",
              "      <style>\n",
              "    .colab-df-container {\n",
              "      display:flex;\n",
              "      flex-wrap:wrap;\n",
              "      gap: 12px;\n",
              "    }\n",
              "\n",
              "    .colab-df-convert {\n",
              "      background-color: #E8F0FE;\n",
              "      border: none;\n",
              "      border-radius: 50%;\n",
              "      cursor: pointer;\n",
              "      display: none;\n",
              "      fill: #1967D2;\n",
              "      height: 32px;\n",
              "      padding: 0 0 0 0;\n",
              "      width: 32px;\n",
              "    }\n",
              "\n",
              "    .colab-df-convert:hover {\n",
              "      background-color: #E2EBFA;\n",
              "      box-shadow: 0px 1px 2px rgba(60, 64, 67, 0.3), 0px 1px 3px 1px rgba(60, 64, 67, 0.15);\n",
              "      fill: #174EA6;\n",
              "    }\n",
              "\n",
              "    [theme=dark] .colab-df-convert {\n",
              "      background-color: #3B4455;\n",
              "      fill: #D2E3FC;\n",
              "    }\n",
              "\n",
              "    [theme=dark] .colab-df-convert:hover {\n",
              "      background-color: #434B5C;\n",
              "      box-shadow: 0px 1px 3px 1px rgba(0, 0, 0, 0.15);\n",
              "      filter: drop-shadow(0px 1px 2px rgba(0, 0, 0, 0.3));\n",
              "      fill: #FFFFFF;\n",
              "    }\n",
              "  </style>\n",
              "\n",
              "      <script>\n",
              "        const buttonEl =\n",
              "          document.querySelector('#df-9784dc44-3944-4747-a639-0ecbf8a20220 button.colab-df-convert');\n",
              "        buttonEl.style.display =\n",
              "          google.colab.kernel.accessAllowed ? 'block' : 'none';\n",
              "\n",
              "        async function convertToInteractive(key) {\n",
              "          const element = document.querySelector('#df-9784dc44-3944-4747-a639-0ecbf8a20220');\n",
              "          const dataTable =\n",
              "            await google.colab.kernel.invokeFunction('convertToInteractive',\n",
              "                                                     [key], {});\n",
              "          if (!dataTable) return;\n",
              "\n",
              "          const docLinkHtml = 'Like what you see? Visit the ' +\n",
              "            '<a target=\"_blank\" href=https://colab.research.google.com/notebooks/data_table.ipynb>data table notebook</a>'\n",
              "            + ' to learn more about interactive tables.';\n",
              "          element.innerHTML = '';\n",
              "          dataTable['output_type'] = 'display_data';\n",
              "          await google.colab.output.renderOutput(dataTable, element);\n",
              "          const docLink = document.createElement('div');\n",
              "          docLink.innerHTML = docLinkHtml;\n",
              "          element.appendChild(docLink);\n",
              "        }\n",
              "      </script>\n",
              "    </div>\n",
              "  </div>\n"
            ]
          },
          "metadata": {},
          "execution_count": 39
        }
      ]
    },
    {
      "cell_type": "markdown",
      "source": [
        "### 머신러닝 모델 선정정 # ADP에서는 모델 성능보다는 모델 코드 세우고 해석이 더 중요!"
      ],
      "metadata": {
        "id": "ZDyYEWWVmlWq"
      }
    },
    {
      "cell_type": "code",
      "source": [
        "train_v2.iloc[:,-10:].info()"
      ],
      "metadata": {
        "colab": {
          "base_uri": "https://localhost:8080/"
        },
        "id": "lm3FVzsj8JG2",
        "outputId": "9bb03228-9f2f-48ec-8b48-57099ea0c869"
      },
      "execution_count": null,
      "outputs": [
        {
          "output_type": "stream",
          "name": "stdout",
          "text": [
            "<class 'pandas.core.frame.DataFrame'>\n",
            "Int64Index: 9534 entries, 3 to 9552\n",
            "Data columns (total 10 columns):\n",
            " #   Column           Non-Null Count  Dtype  \n",
            "---  ------           --------------  -----  \n",
            " 0   SQBescolari      9534 non-null   int64  \n",
            " 1   SQBage           9534 non-null   int64  \n",
            " 2   SQBhogar_total   9534 non-null   int64  \n",
            " 3   SQBedjefe        9534 non-null   int64  \n",
            " 4   SQBhogar_nin     9534 non-null   int64  \n",
            " 5   SQBovercrowding  9534 non-null   float64\n",
            " 6   SQBdependency    9534 non-null   float64\n",
            " 7   SQBmeaned        9534 non-null   float64\n",
            " 8   agesq            9534 non-null   int64  \n",
            " 9   Target           9534 non-null   object \n",
            "dtypes: float64(3), int64(6), object(1)\n",
            "memory usage: 1.1+ MB\n"
          ]
        }
      ]
    },
    {
      "cell_type": "code",
      "source": [
        "'''소프트맥스 회귀 다중 분류'''\n",
        "from sklearn.model_selection import train_test_split\n",
        "\n",
        "feature_columns = list(train_v2.columns.difference(['Id', 'idhogar','Target', 'elimbasu5']))\n",
        "x = train_v2[feature_columns]\n",
        "y=train_v2['Target']\n",
        "\n",
        "'''층화 추출법'''\n",
        "train_x, test_x, train_y, test_y = train_test_split(x,y, stratify=y, train_size=0.7, random_state=1)\n",
        "print(train_x.shape, test_x.shape, train_y.shape, test_y.shape)"
      ],
      "metadata": {
        "colab": {
          "base_uri": "https://localhost:8080/"
        },
        "id": "r4UtLPy4j3ox",
        "outputId": "e10bf6ce-108f-4973-f0c1-8fac270bae65"
      },
      "execution_count": 40,
      "outputs": [
        {
          "output_type": "stream",
          "name": "stdout",
          "text": [
            "(6673, 136) (2861, 136) (6673,) (2861,)\n"
          ]
        }
      ]
    },
    {
      "cell_type": "markdown",
      "source": [
        "##### 1. 소프트맥스 회귀 다중 분류"
      ],
      "metadata": {
        "id": "BfY-GlgceerA"
      }
    },
    {
      "cell_type": "code",
      "source": [
        "from sklearn.preprocessing import StandardScaler\n",
        "\n",
        "scaler = StandardScaler()\n",
        "train_x_scal = scaler.fit_transform(train_x) #Target 종속변수는 제외하고 나머지 숫자형인 변수는 scaler를 진행"
      ],
      "metadata": {
        "id": "TrlvaFCXex7b"
      },
      "execution_count": null,
      "outputs": []
    },
    {
      "cell_type": "code",
      "source": [
        "'''\n",
        "lbfgs약자: \"제한된 메모리 Broyden–Fletcher–Goldfarb–Shanno 알고리즘\". Scikit-Learn Library에서 제공하는 솔버 알고리즘 중 하나입니다.\n",
        "\n",
        "제한된 메모리라는 용어는 단순히 그래디언트 근사치를 암시적으로 나타내는 몇 개의 벡터만 저장한다는 의미입니다 .\n",
        "\n",
        "상대적으로 작은 데이터 세트 에서 더 잘 수렴 됩니다 .\n",
        "'''"
      ],
      "metadata": {
        "id": "rx-wp1cozJ4D",
        "colab": {
          "base_uri": "https://localhost:8080/",
          "height": 53
        },
        "outputId": "a0b71c68-5ba5-40fb-b3a9-e798104ddc97"
      },
      "execution_count": null,
      "outputs": [
        {
          "output_type": "execute_result",
          "data": {
            "text/plain": [
              "'\\nlbfgs약자: \"제한된 메모리 Broyden–Fletcher–Goldfarb–Shanno 알고리즘\". Scikit-Learn Library에서 제공하는 솔버 알고리즘 중 하나입니다.\\n\\n제한된 메모리라는 용어는 단순히 그래디언트 근사치를 암시적으로 나타내는 몇 개의 벡터만 저장한다는 의미입니다 .\\n\\n상대적으로 작은 데이터 세트 에서 더 잘 수렴 됩니다 .\\n'"
            ],
            "application/vnd.google.colaboratory.intrinsic+json": {
              "type": "string"
            }
          },
          "metadata": {},
          "execution_count": 54
        }
      ]
    },
    {
      "cell_type": "code",
      "source": [
        "from sklearn.linear_model import LogisticRegression\n",
        "\n",
        "'''scaler 하기전에는 max_iter을 더 크게 잡아도 안돌아갔었는데 스케일 조정 후 돌아감'''\n",
        "softm=LogisticRegression(multi_class='multinomial', solver='lbfgs', C=10, max_iter=5000)\n",
        "softm.fit(train_x_scal, train_y)"
      ],
      "metadata": {
        "colab": {
          "base_uri": "https://localhost:8080/",
          "height": 74
        },
        "id": "0HHGhUd4n26f",
        "outputId": "d8e19d0a-497d-4c39-db32-2aec2d73f278"
      },
      "execution_count": null,
      "outputs": [
        {
          "output_type": "execute_result",
          "data": {
            "text/plain": [
              "LogisticRegression(C=10, max_iter=5000, multi_class='multinomial')"
            ],
            "text/html": [
              "<style>#sk-container-id-1 {color: black;background-color: white;}#sk-container-id-1 pre{padding: 0;}#sk-container-id-1 div.sk-toggleable {background-color: white;}#sk-container-id-1 label.sk-toggleable__label {cursor: pointer;display: block;width: 100%;margin-bottom: 0;padding: 0.3em;box-sizing: border-box;text-align: center;}#sk-container-id-1 label.sk-toggleable__label-arrow:before {content: \"▸\";float: left;margin-right: 0.25em;color: #696969;}#sk-container-id-1 label.sk-toggleable__label-arrow:hover:before {color: black;}#sk-container-id-1 div.sk-estimator:hover label.sk-toggleable__label-arrow:before {color: black;}#sk-container-id-1 div.sk-toggleable__content {max-height: 0;max-width: 0;overflow: hidden;text-align: left;background-color: #f0f8ff;}#sk-container-id-1 div.sk-toggleable__content pre {margin: 0.2em;color: black;border-radius: 0.25em;background-color: #f0f8ff;}#sk-container-id-1 input.sk-toggleable__control:checked~div.sk-toggleable__content {max-height: 200px;max-width: 100%;overflow: auto;}#sk-container-id-1 input.sk-toggleable__control:checked~label.sk-toggleable__label-arrow:before {content: \"▾\";}#sk-container-id-1 div.sk-estimator input.sk-toggleable__control:checked~label.sk-toggleable__label {background-color: #d4ebff;}#sk-container-id-1 div.sk-label input.sk-toggleable__control:checked~label.sk-toggleable__label {background-color: #d4ebff;}#sk-container-id-1 input.sk-hidden--visually {border: 0;clip: rect(1px 1px 1px 1px);clip: rect(1px, 1px, 1px, 1px);height: 1px;margin: -1px;overflow: hidden;padding: 0;position: absolute;width: 1px;}#sk-container-id-1 div.sk-estimator {font-family: monospace;background-color: #f0f8ff;border: 1px dotted black;border-radius: 0.25em;box-sizing: border-box;margin-bottom: 0.5em;}#sk-container-id-1 div.sk-estimator:hover {background-color: #d4ebff;}#sk-container-id-1 div.sk-parallel-item::after {content: \"\";width: 100%;border-bottom: 1px solid gray;flex-grow: 1;}#sk-container-id-1 div.sk-label:hover label.sk-toggleable__label {background-color: #d4ebff;}#sk-container-id-1 div.sk-serial::before {content: \"\";position: absolute;border-left: 1px solid gray;box-sizing: border-box;top: 0;bottom: 0;left: 50%;z-index: 0;}#sk-container-id-1 div.sk-serial {display: flex;flex-direction: column;align-items: center;background-color: white;padding-right: 0.2em;padding-left: 0.2em;position: relative;}#sk-container-id-1 div.sk-item {position: relative;z-index: 1;}#sk-container-id-1 div.sk-parallel {display: flex;align-items: stretch;justify-content: center;background-color: white;position: relative;}#sk-container-id-1 div.sk-item::before, #sk-container-id-1 div.sk-parallel-item::before {content: \"\";position: absolute;border-left: 1px solid gray;box-sizing: border-box;top: 0;bottom: 0;left: 50%;z-index: -1;}#sk-container-id-1 div.sk-parallel-item {display: flex;flex-direction: column;z-index: 1;position: relative;background-color: white;}#sk-container-id-1 div.sk-parallel-item:first-child::after {align-self: flex-end;width: 50%;}#sk-container-id-1 div.sk-parallel-item:last-child::after {align-self: flex-start;width: 50%;}#sk-container-id-1 div.sk-parallel-item:only-child::after {width: 0;}#sk-container-id-1 div.sk-dashed-wrapped {border: 1px dashed gray;margin: 0 0.4em 0.5em 0.4em;box-sizing: border-box;padding-bottom: 0.4em;background-color: white;}#sk-container-id-1 div.sk-label label {font-family: monospace;font-weight: bold;display: inline-block;line-height: 1.2em;}#sk-container-id-1 div.sk-label-container {text-align: center;}#sk-container-id-1 div.sk-container {/* jupyter's `normalize.less` sets `[hidden] { display: none; }` but bootstrap.min.css set `[hidden] { display: none !important; }` so we also need the `!important` here to be able to override the default hidden behavior on the sphinx rendered scikit-learn.org. See: https://github.com/scikit-learn/scikit-learn/issues/21755 */display: inline-block !important;position: relative;}#sk-container-id-1 div.sk-text-repr-fallback {display: none;}</style><div id=\"sk-container-id-1\" class=\"sk-top-container\"><div class=\"sk-text-repr-fallback\"><pre>LogisticRegression(C=10, max_iter=5000, multi_class=&#x27;multinomial&#x27;)</pre><b>In a Jupyter environment, please rerun this cell to show the HTML representation or trust the notebook. <br />On GitHub, the HTML representation is unable to render, please try loading this page with nbviewer.org.</b></div><div class=\"sk-container\" hidden><div class=\"sk-item\"><div class=\"sk-estimator sk-toggleable\"><input class=\"sk-toggleable__control sk-hidden--visually\" id=\"sk-estimator-id-1\" type=\"checkbox\" checked><label for=\"sk-estimator-id-1\" class=\"sk-toggleable__label sk-toggleable__label-arrow\">LogisticRegression</label><div class=\"sk-toggleable__content\"><pre>LogisticRegression(C=10, max_iter=5000, multi_class=&#x27;multinomial&#x27;)</pre></div></div></div></div></div>"
            ]
          },
          "metadata": {},
          "execution_count": 55
        }
      ]
    },
    {
      "cell_type": "code",
      "source": [
        "from sklearn.metrics import confusion_matrix, accuracy_score, precision_score, recall_score, f1_score\n",
        "#클래스가 치우쳐져 있을 때에는 auc 커브 등을 그래프화 또는 값을 보는 것도 좋은 방법임.\n",
        "test_x_scal=scaler.transform(test_x)\n",
        "pred=softm.predict(test_x_scal)\n",
        "\n",
        "test_cm=confusion_matrix(test_y, pred)\n",
        "test_acc=accuracy_score(test_y, pred)\n",
        "test_prc=precision_score(test_y,pred, average=\"macro\" )\n",
        "test_rcll=recall_score(test_y, pred,  average=\"macro\" )\n",
        "test_f1=f1_score(test_y,pred,  average=\"macro\" )\n",
        "#다중 클래스 : macro, weighted, micro\n",
        "#단순 산술 macro, 샘플 데이터 가중치 : weighted, 전체 샘플 기준 계산 : micro #default : binary\n",
        "#불균형 클래스일 때에는 weighted가 이론상 맞을 수도.\n",
        "\n",
        "print(test_cm)\n",
        "print('\\n')\n",
        "print('정확도\\t{}%'.format(round(test_acc*100,2)))\n",
        "print('정밀도\\t{}%'.format(round(test_prc*100,2)))\n",
        "print('재현율\\t{}%'.format(round(test_rcll*100,2)))\n",
        "print('F1\\t{}%'.format(round(test_f1*100,2)))"
      ],
      "metadata": {
        "colab": {
          "base_uri": "https://localhost:8080/"
        },
        "id": "UCXTc3a_kIkR",
        "outputId": "b144e750-ca13-4049-b470-a4901ed70603"
      },
      "execution_count": null,
      "outputs": [
        {
          "output_type": "stream",
          "name": "stdout",
          "text": [
            "[[  76   63    9   84]\n",
            " [  33  179   40  216]\n",
            " [  26   56   49  229]\n",
            " [  18   95   29 1659]]\n",
            "\n",
            "\n",
            "정확도\t68.61%\n",
            "정밀도\t52.41%\n",
            "재현율\t44.18%\n",
            "F1\t46.09%\n"
          ]
        }
      ]
    },
    {
      "cell_type": "markdown",
      "source": [
        "#### 2. SVC"
      ],
      "metadata": {
        "id": "PixxK5z4el_X"
      }
    },
    {
      "cell_type": "code",
      "source": [
        "'''SVM은 특성의 스케일에 민감하기 때문에 스케일 조정을 해주겠다.'''"
      ],
      "metadata": {
        "id": "PS7NbBfdelE-",
        "colab": {
          "base_uri": "https://localhost:8080/",
          "height": 35
        },
        "outputId": "515ae304-d164-4fd1-cefd-df3b757c291e"
      },
      "execution_count": null,
      "outputs": [
        {
          "output_type": "execute_result",
          "data": {
            "text/plain": [
              "'SVM은 특성의 스케일에 민감하기 때문에 스케일 조정을 해주겠다.'"
            ],
            "application/vnd.google.colaboratory.intrinsic+json": {
              "type": "string"
            }
          },
          "metadata": {},
          "execution_count": 57
        }
      ]
    },
    {
      "cell_type": "code",
      "source": [
        "from sklearn.svm import SVC\n",
        "clf = SVC(C=0.5)\n",
        "clf.fit(train_x_scal, train_y)"
      ],
      "metadata": {
        "colab": {
          "base_uri": "https://localhost:8080/",
          "height": 74
        },
        "id": "yUiFcYWTfIfQ",
        "outputId": "73f5dbf5-346b-410b-a35f-447026340ea4"
      },
      "execution_count": null,
      "outputs": [
        {
          "output_type": "execute_result",
          "data": {
            "text/plain": [
              "SVC(C=0.5)"
            ],
            "text/html": [
              "<style>#sk-container-id-2 {color: black;background-color: white;}#sk-container-id-2 pre{padding: 0;}#sk-container-id-2 div.sk-toggleable {background-color: white;}#sk-container-id-2 label.sk-toggleable__label {cursor: pointer;display: block;width: 100%;margin-bottom: 0;padding: 0.3em;box-sizing: border-box;text-align: center;}#sk-container-id-2 label.sk-toggleable__label-arrow:before {content: \"▸\";float: left;margin-right: 0.25em;color: #696969;}#sk-container-id-2 label.sk-toggleable__label-arrow:hover:before {color: black;}#sk-container-id-2 div.sk-estimator:hover label.sk-toggleable__label-arrow:before {color: black;}#sk-container-id-2 div.sk-toggleable__content {max-height: 0;max-width: 0;overflow: hidden;text-align: left;background-color: #f0f8ff;}#sk-container-id-2 div.sk-toggleable__content pre {margin: 0.2em;color: black;border-radius: 0.25em;background-color: #f0f8ff;}#sk-container-id-2 input.sk-toggleable__control:checked~div.sk-toggleable__content {max-height: 200px;max-width: 100%;overflow: auto;}#sk-container-id-2 input.sk-toggleable__control:checked~label.sk-toggleable__label-arrow:before {content: \"▾\";}#sk-container-id-2 div.sk-estimator input.sk-toggleable__control:checked~label.sk-toggleable__label {background-color: #d4ebff;}#sk-container-id-2 div.sk-label input.sk-toggleable__control:checked~label.sk-toggleable__label {background-color: #d4ebff;}#sk-container-id-2 input.sk-hidden--visually {border: 0;clip: rect(1px 1px 1px 1px);clip: rect(1px, 1px, 1px, 1px);height: 1px;margin: -1px;overflow: hidden;padding: 0;position: absolute;width: 1px;}#sk-container-id-2 div.sk-estimator {font-family: monospace;background-color: #f0f8ff;border: 1px dotted black;border-radius: 0.25em;box-sizing: border-box;margin-bottom: 0.5em;}#sk-container-id-2 div.sk-estimator:hover {background-color: #d4ebff;}#sk-container-id-2 div.sk-parallel-item::after {content: \"\";width: 100%;border-bottom: 1px solid gray;flex-grow: 1;}#sk-container-id-2 div.sk-label:hover label.sk-toggleable__label {background-color: #d4ebff;}#sk-container-id-2 div.sk-serial::before {content: \"\";position: absolute;border-left: 1px solid gray;box-sizing: border-box;top: 0;bottom: 0;left: 50%;z-index: 0;}#sk-container-id-2 div.sk-serial {display: flex;flex-direction: column;align-items: center;background-color: white;padding-right: 0.2em;padding-left: 0.2em;position: relative;}#sk-container-id-2 div.sk-item {position: relative;z-index: 1;}#sk-container-id-2 div.sk-parallel {display: flex;align-items: stretch;justify-content: center;background-color: white;position: relative;}#sk-container-id-2 div.sk-item::before, #sk-container-id-2 div.sk-parallel-item::before {content: \"\";position: absolute;border-left: 1px solid gray;box-sizing: border-box;top: 0;bottom: 0;left: 50%;z-index: -1;}#sk-container-id-2 div.sk-parallel-item {display: flex;flex-direction: column;z-index: 1;position: relative;background-color: white;}#sk-container-id-2 div.sk-parallel-item:first-child::after {align-self: flex-end;width: 50%;}#sk-container-id-2 div.sk-parallel-item:last-child::after {align-self: flex-start;width: 50%;}#sk-container-id-2 div.sk-parallel-item:only-child::after {width: 0;}#sk-container-id-2 div.sk-dashed-wrapped {border: 1px dashed gray;margin: 0 0.4em 0.5em 0.4em;box-sizing: border-box;padding-bottom: 0.4em;background-color: white;}#sk-container-id-2 div.sk-label label {font-family: monospace;font-weight: bold;display: inline-block;line-height: 1.2em;}#sk-container-id-2 div.sk-label-container {text-align: center;}#sk-container-id-2 div.sk-container {/* jupyter's `normalize.less` sets `[hidden] { display: none; }` but bootstrap.min.css set `[hidden] { display: none !important; }` so we also need the `!important` here to be able to override the default hidden behavior on the sphinx rendered scikit-learn.org. See: https://github.com/scikit-learn/scikit-learn/issues/21755 */display: inline-block !important;position: relative;}#sk-container-id-2 div.sk-text-repr-fallback {display: none;}</style><div id=\"sk-container-id-2\" class=\"sk-top-container\"><div class=\"sk-text-repr-fallback\"><pre>SVC(C=0.5)</pre><b>In a Jupyter environment, please rerun this cell to show the HTML representation or trust the notebook. <br />On GitHub, the HTML representation is unable to render, please try loading this page with nbviewer.org.</b></div><div class=\"sk-container\" hidden><div class=\"sk-item\"><div class=\"sk-estimator sk-toggleable\"><input class=\"sk-toggleable__control sk-hidden--visually\" id=\"sk-estimator-id-2\" type=\"checkbox\" checked><label for=\"sk-estimator-id-2\" class=\"sk-toggleable__label sk-toggleable__label-arrow\">SVC</label><div class=\"sk-toggleable__content\"><pre>SVC(C=0.5)</pre></div></div></div></div></div>"
            ]
          },
          "metadata": {},
          "execution_count": 58
        }
      ]
    },
    {
      "cell_type": "code",
      "source": [
        "pred=clf.predict(test_x_scal)\n",
        "'''macro 평균은 클래스별 f1-점수에 가중치를 주지 않는다. 클래스 크기에 상관없이 모든 클래스를 같은 비중으로 다룬다.\n",
        "\n",
        "weighted 평균은 클래스별 샘플 수로 가중치를 두어 f1-점수의 평균을 계산한다.\n",
        "\n",
        "micro 평균은 모든 클래스의 거짓 양성(FP), 거짓 음성(FN), 진짜 양성(TP)의 총 수를 헤아린 다음 정밀도, 재현율, f1-점수를 이 수치로 계산한다.\n",
        "\n",
        "​\n",
        "\n",
        "각 샘플을 똑같이 간주한다며 micr, 각 클래스를 동일한 비중으로 고려한다면 macro 평균이 좋다.'''"
      ],
      "metadata": {
        "id": "5tpQg_7IfIjO",
        "colab": {
          "base_uri": "https://localhost:8080/",
          "height": 72
        },
        "outputId": "f83ea0b2-5469-46a7-e7fa-7fb1ec94fb8f"
      },
      "execution_count": null,
      "outputs": [
        {
          "output_type": "execute_result",
          "data": {
            "text/plain": [
              "'macro 평균은 클래스별 f1-점수에 가중치를 주지 않는다. 클래스 크기에 상관없이 모든 클래스를 같은 비중으로 다룬다.\\n\\nweighted 평균은 클래스별 샘플 수로 가중치를 두어 f1-점수의 평균을 계산한다.\\n\\nmicro 평균은 모든 클래스의 거짓 양성(FP), 거짓 음성(FN), 진짜 양성(TP)의 총 수를 헤아린 다음 정밀도, 재현율, f1-점수를 이 수치로 계산한다.\\n\\n\\u200b\\n\\n각 샘플을 똑같이 간주한다며 micr, 각 클래스를 동일한 비중으로 고려한다면 macro 평균이 좋다.'"
            ],
            "application/vnd.google.colaboratory.intrinsic+json": {
              "type": "string"
            }
          },
          "metadata": {},
          "execution_count": 59
        }
      ]
    },
    {
      "cell_type": "code",
      "source": [
        "test_cm=confusion_matrix(test_y, pred)\n",
        "test_acc=accuracy_score(test_y, pred)\n",
        "test_prc=precision_score(test_y,pred, average=\"macro\" )\n",
        "test_rcll=recall_score(test_y, pred,  average=\"macro\" )\n",
        "test_f1=f1_score(test_y,pred,  average=\"macro\" )\n",
        "\n",
        "print(test_cm)\n",
        "print('\\n')\n",
        "print('정확도\\t{}%'.format(round(test_acc*100,2)))\n",
        "print('정밀도\\t{}%'.format(round(test_prc*100,2)))\n",
        "print('재현율\\t{}%'.format(round(test_rcll*100,2)))\n",
        "print('F1\\t{}%'.format(round(test_f1*100,2)))"
      ],
      "metadata": {
        "colab": {
          "base_uri": "https://localhost:8080/"
        },
        "id": "jE7uia1NfInH",
        "outputId": "48f18ba2-5dc8-489e-f656-00b1039702ab"
      },
      "execution_count": null,
      "outputs": [
        {
          "output_type": "stream",
          "name": "stdout",
          "text": [
            "[[  66   43    0  123]\n",
            " [   1  195    0  272]\n",
            " [   1   29   40  290]\n",
            " [   0   15    0 1786]]\n",
            "\n",
            "\n",
            "정확도\t72.95%\n",
            "정밀도\t84.62%\n",
            "재현율\t45.1%\n",
            "F1\t49.9%\n"
          ]
        }
      ]
    },
    {
      "cell_type": "markdown",
      "source": [
        "#### 3. KneighborsClassifier"
      ],
      "metadata": {
        "id": "T9WPZc9JiH8Y"
      }
    },
    {
      "cell_type": "code",
      "source": [
        "from sklearn.neighbors import KNeighborsClassifier\n",
        "\n",
        "clf=KNeighborsClassifier(n_neighbors=15, weights='uniform')\n",
        "clf.fit(train_x_scal, train_y)"
      ],
      "metadata": {
        "colab": {
          "base_uri": "https://localhost:8080/",
          "height": 74
        },
        "id": "1yufXqFOiGYK",
        "outputId": "1b07e6dc-81af-4dac-dbf7-673554da87eb"
      },
      "execution_count": null,
      "outputs": [
        {
          "output_type": "execute_result",
          "data": {
            "text/plain": [
              "KNeighborsClassifier(n_neighbors=15)"
            ],
            "text/html": [
              "<style>#sk-container-id-3 {color: black;background-color: white;}#sk-container-id-3 pre{padding: 0;}#sk-container-id-3 div.sk-toggleable {background-color: white;}#sk-container-id-3 label.sk-toggleable__label {cursor: pointer;display: block;width: 100%;margin-bottom: 0;padding: 0.3em;box-sizing: border-box;text-align: center;}#sk-container-id-3 label.sk-toggleable__label-arrow:before {content: \"▸\";float: left;margin-right: 0.25em;color: #696969;}#sk-container-id-3 label.sk-toggleable__label-arrow:hover:before {color: black;}#sk-container-id-3 div.sk-estimator:hover label.sk-toggleable__label-arrow:before {color: black;}#sk-container-id-3 div.sk-toggleable__content {max-height: 0;max-width: 0;overflow: hidden;text-align: left;background-color: #f0f8ff;}#sk-container-id-3 div.sk-toggleable__content pre {margin: 0.2em;color: black;border-radius: 0.25em;background-color: #f0f8ff;}#sk-container-id-3 input.sk-toggleable__control:checked~div.sk-toggleable__content {max-height: 200px;max-width: 100%;overflow: auto;}#sk-container-id-3 input.sk-toggleable__control:checked~label.sk-toggleable__label-arrow:before {content: \"▾\";}#sk-container-id-3 div.sk-estimator input.sk-toggleable__control:checked~label.sk-toggleable__label {background-color: #d4ebff;}#sk-container-id-3 div.sk-label input.sk-toggleable__control:checked~label.sk-toggleable__label {background-color: #d4ebff;}#sk-container-id-3 input.sk-hidden--visually {border: 0;clip: rect(1px 1px 1px 1px);clip: rect(1px, 1px, 1px, 1px);height: 1px;margin: -1px;overflow: hidden;padding: 0;position: absolute;width: 1px;}#sk-container-id-3 div.sk-estimator {font-family: monospace;background-color: #f0f8ff;border: 1px dotted black;border-radius: 0.25em;box-sizing: border-box;margin-bottom: 0.5em;}#sk-container-id-3 div.sk-estimator:hover {background-color: #d4ebff;}#sk-container-id-3 div.sk-parallel-item::after {content: \"\";width: 100%;border-bottom: 1px solid gray;flex-grow: 1;}#sk-container-id-3 div.sk-label:hover label.sk-toggleable__label {background-color: #d4ebff;}#sk-container-id-3 div.sk-serial::before {content: \"\";position: absolute;border-left: 1px solid gray;box-sizing: border-box;top: 0;bottom: 0;left: 50%;z-index: 0;}#sk-container-id-3 div.sk-serial {display: flex;flex-direction: column;align-items: center;background-color: white;padding-right: 0.2em;padding-left: 0.2em;position: relative;}#sk-container-id-3 div.sk-item {position: relative;z-index: 1;}#sk-container-id-3 div.sk-parallel {display: flex;align-items: stretch;justify-content: center;background-color: white;position: relative;}#sk-container-id-3 div.sk-item::before, #sk-container-id-3 div.sk-parallel-item::before {content: \"\";position: absolute;border-left: 1px solid gray;box-sizing: border-box;top: 0;bottom: 0;left: 50%;z-index: -1;}#sk-container-id-3 div.sk-parallel-item {display: flex;flex-direction: column;z-index: 1;position: relative;background-color: white;}#sk-container-id-3 div.sk-parallel-item:first-child::after {align-self: flex-end;width: 50%;}#sk-container-id-3 div.sk-parallel-item:last-child::after {align-self: flex-start;width: 50%;}#sk-container-id-3 div.sk-parallel-item:only-child::after {width: 0;}#sk-container-id-3 div.sk-dashed-wrapped {border: 1px dashed gray;margin: 0 0.4em 0.5em 0.4em;box-sizing: border-box;padding-bottom: 0.4em;background-color: white;}#sk-container-id-3 div.sk-label label {font-family: monospace;font-weight: bold;display: inline-block;line-height: 1.2em;}#sk-container-id-3 div.sk-label-container {text-align: center;}#sk-container-id-3 div.sk-container {/* jupyter's `normalize.less` sets `[hidden] { display: none; }` but bootstrap.min.css set `[hidden] { display: none !important; }` so we also need the `!important` here to be able to override the default hidden behavior on the sphinx rendered scikit-learn.org. See: https://github.com/scikit-learn/scikit-learn/issues/21755 */display: inline-block !important;position: relative;}#sk-container-id-3 div.sk-text-repr-fallback {display: none;}</style><div id=\"sk-container-id-3\" class=\"sk-top-container\"><div class=\"sk-text-repr-fallback\"><pre>KNeighborsClassifier(n_neighbors=15)</pre><b>In a Jupyter environment, please rerun this cell to show the HTML representation or trust the notebook. <br />On GitHub, the HTML representation is unable to render, please try loading this page with nbviewer.org.</b></div><div class=\"sk-container\" hidden><div class=\"sk-item\"><div class=\"sk-estimator sk-toggleable\"><input class=\"sk-toggleable__control sk-hidden--visually\" id=\"sk-estimator-id-3\" type=\"checkbox\" checked><label for=\"sk-estimator-id-3\" class=\"sk-toggleable__label sk-toggleable__label-arrow\">KNeighborsClassifier</label><div class=\"sk-toggleable__content\"><pre>KNeighborsClassifier(n_neighbors=15)</pre></div></div></div></div></div>"
            ]
          },
          "metadata": {},
          "execution_count": 61
        }
      ]
    },
    {
      "cell_type": "code",
      "source": [
        "pred=clf.predict(test_x_scal)\n",
        "\n",
        "test_cm=confusion_matrix(test_y, pred)\n",
        "test_acc=accuracy_score(test_y, pred)\n",
        "test_prc=precision_score(test_y,pred, average=\"macro\" )\n",
        "test_rcll=recall_score(test_y, pred,  average=\"macro\" )\n",
        "test_f1=f1_score(test_y,pred,  average=\"macro\" )\n",
        "\n",
        "print(test_cm)\n",
        "print('\\n')\n",
        "print('정확도\\t{}%'.format(round(test_acc*100,2)))\n",
        "print('정밀도\\t{}%'.format(round(test_prc*100,2)))\n",
        "print('재현율\\t{}%'.format(round(test_rcll*100,2)))\n",
        "print('F1\\t{}%'.format(round(test_f1*100,2)))\n",
        "\n",
        "\n",
        "#StandardScaler 하지 않았을때\n",
        "# [[  35   43   10  144]\n",
        "#  [  20   96   18  334]\n",
        "#  [  12   42   21  285]\n",
        "#  [  22   97   28 1654]]\n",
        "\n",
        "\n",
        "# 정확도\t63.12%\n",
        "# 정밀도\t42.39%\n",
        "# 재현율\t33.32%\n",
        "# F1\t33.9%"
      ],
      "metadata": {
        "colab": {
          "base_uri": "https://localhost:8080/"
        },
        "id": "M_afaoCbfIqN",
        "outputId": "ae55bffe-d3a6-4799-fffd-fdecea321dd7"
      },
      "execution_count": null,
      "outputs": [
        {
          "output_type": "stream",
          "name": "stdout",
          "text": [
            "[[  62   27   12  131]\n",
            " [  12  154   25  277]\n",
            " [  12   27   60  261]\n",
            " [   2   35   20 1744]]\n",
            "\n",
            "\n",
            "정확도\t70.6%\n",
            "정밀도\t64.35%\n",
            "재현율\t43.28%\n",
            "F1\t47.5%\n"
          ]
        }
      ]
    },
    {
      "cell_type": "markdown",
      "source": [
        "#### 4. DecisionTreeClassifier"
      ],
      "metadata": {
        "id": "s_KL_qh7kDEy"
      }
    },
    {
      "cell_type": "code",
      "source": [
        "from sklearn.tree import DecisionTreeClassifier\n",
        "clf=DecisionTreeClassifier(max_depth=8)\n",
        "clf.fit(train_x, train_y)"
      ],
      "metadata": {
        "colab": {
          "base_uri": "https://localhost:8080/",
          "height": 74
        },
        "id": "uwBqEq4aj4Qq",
        "outputId": "54c3c33d-71b7-4a78-ff41-a0bd34d01290"
      },
      "execution_count": null,
      "outputs": [
        {
          "output_type": "execute_result",
          "data": {
            "text/plain": [
              "DecisionTreeClassifier(max_depth=8)"
            ],
            "text/html": [
              "<style>#sk-container-id-4 {color: black;background-color: white;}#sk-container-id-4 pre{padding: 0;}#sk-container-id-4 div.sk-toggleable {background-color: white;}#sk-container-id-4 label.sk-toggleable__label {cursor: pointer;display: block;width: 100%;margin-bottom: 0;padding: 0.3em;box-sizing: border-box;text-align: center;}#sk-container-id-4 label.sk-toggleable__label-arrow:before {content: \"▸\";float: left;margin-right: 0.25em;color: #696969;}#sk-container-id-4 label.sk-toggleable__label-arrow:hover:before {color: black;}#sk-container-id-4 div.sk-estimator:hover label.sk-toggleable__label-arrow:before {color: black;}#sk-container-id-4 div.sk-toggleable__content {max-height: 0;max-width: 0;overflow: hidden;text-align: left;background-color: #f0f8ff;}#sk-container-id-4 div.sk-toggleable__content pre {margin: 0.2em;color: black;border-radius: 0.25em;background-color: #f0f8ff;}#sk-container-id-4 input.sk-toggleable__control:checked~div.sk-toggleable__content {max-height: 200px;max-width: 100%;overflow: auto;}#sk-container-id-4 input.sk-toggleable__control:checked~label.sk-toggleable__label-arrow:before {content: \"▾\";}#sk-container-id-4 div.sk-estimator input.sk-toggleable__control:checked~label.sk-toggleable__label {background-color: #d4ebff;}#sk-container-id-4 div.sk-label input.sk-toggleable__control:checked~label.sk-toggleable__label {background-color: #d4ebff;}#sk-container-id-4 input.sk-hidden--visually {border: 0;clip: rect(1px 1px 1px 1px);clip: rect(1px, 1px, 1px, 1px);height: 1px;margin: -1px;overflow: hidden;padding: 0;position: absolute;width: 1px;}#sk-container-id-4 div.sk-estimator {font-family: monospace;background-color: #f0f8ff;border: 1px dotted black;border-radius: 0.25em;box-sizing: border-box;margin-bottom: 0.5em;}#sk-container-id-4 div.sk-estimator:hover {background-color: #d4ebff;}#sk-container-id-4 div.sk-parallel-item::after {content: \"\";width: 100%;border-bottom: 1px solid gray;flex-grow: 1;}#sk-container-id-4 div.sk-label:hover label.sk-toggleable__label {background-color: #d4ebff;}#sk-container-id-4 div.sk-serial::before {content: \"\";position: absolute;border-left: 1px solid gray;box-sizing: border-box;top: 0;bottom: 0;left: 50%;z-index: 0;}#sk-container-id-4 div.sk-serial {display: flex;flex-direction: column;align-items: center;background-color: white;padding-right: 0.2em;padding-left: 0.2em;position: relative;}#sk-container-id-4 div.sk-item {position: relative;z-index: 1;}#sk-container-id-4 div.sk-parallel {display: flex;align-items: stretch;justify-content: center;background-color: white;position: relative;}#sk-container-id-4 div.sk-item::before, #sk-container-id-4 div.sk-parallel-item::before {content: \"\";position: absolute;border-left: 1px solid gray;box-sizing: border-box;top: 0;bottom: 0;left: 50%;z-index: -1;}#sk-container-id-4 div.sk-parallel-item {display: flex;flex-direction: column;z-index: 1;position: relative;background-color: white;}#sk-container-id-4 div.sk-parallel-item:first-child::after {align-self: flex-end;width: 50%;}#sk-container-id-4 div.sk-parallel-item:last-child::after {align-self: flex-start;width: 50%;}#sk-container-id-4 div.sk-parallel-item:only-child::after {width: 0;}#sk-container-id-4 div.sk-dashed-wrapped {border: 1px dashed gray;margin: 0 0.4em 0.5em 0.4em;box-sizing: border-box;padding-bottom: 0.4em;background-color: white;}#sk-container-id-4 div.sk-label label {font-family: monospace;font-weight: bold;display: inline-block;line-height: 1.2em;}#sk-container-id-4 div.sk-label-container {text-align: center;}#sk-container-id-4 div.sk-container {/* jupyter's `normalize.less` sets `[hidden] { display: none; }` but bootstrap.min.css set `[hidden] { display: none !important; }` so we also need the `!important` here to be able to override the default hidden behavior on the sphinx rendered scikit-learn.org. See: https://github.com/scikit-learn/scikit-learn/issues/21755 */display: inline-block !important;position: relative;}#sk-container-id-4 div.sk-text-repr-fallback {display: none;}</style><div id=\"sk-container-id-4\" class=\"sk-top-container\"><div class=\"sk-text-repr-fallback\"><pre>DecisionTreeClassifier(max_depth=8)</pre><b>In a Jupyter environment, please rerun this cell to show the HTML representation or trust the notebook. <br />On GitHub, the HTML representation is unable to render, please try loading this page with nbviewer.org.</b></div><div class=\"sk-container\" hidden><div class=\"sk-item\"><div class=\"sk-estimator sk-toggleable\"><input class=\"sk-toggleable__control sk-hidden--visually\" id=\"sk-estimator-id-4\" type=\"checkbox\" checked><label for=\"sk-estimator-id-4\" class=\"sk-toggleable__label sk-toggleable__label-arrow\">DecisionTreeClassifier</label><div class=\"sk-toggleable__content\"><pre>DecisionTreeClassifier(max_depth=8)</pre></div></div></div></div></div>"
            ]
          },
          "metadata": {},
          "execution_count": 63
        }
      ]
    },
    {
      "cell_type": "code",
      "source": [
        "pred=clf.predict(test_x)\n",
        "\n",
        "test_cm=confusion_matrix(test_y, pred)\n",
        "test_acc=accuracy_score(test_y, pred)\n",
        "test_prc=precision_score(test_y,pred, average=\"macro\" )\n",
        "test_rcll=recall_score(test_y, pred,  average=\"macro\" )\n",
        "test_f1=f1_score(test_y,pred,  average=\"macro\" )\n",
        "\n",
        "print(test_cm)\n",
        "print('\\n')\n",
        "print('정확도\\t{}%'.format(round(test_acc*100,2)))\n",
        "print('정밀도\\t{}%'.format(round(test_prc*100,2)))\n",
        "print('재현율\\t{}%'.format(round(test_rcll*100,2)))\n",
        "print('F1\\t{}%'.format(round(test_f1*100,2)))\n",
        "\n",
        "'''scaler 하기 전 후가 동일함\n",
        "트리 깊이를 5->8로 옮기니, f1score 기준 40%에서 55% 가까이로 오름름'''"
      ],
      "metadata": {
        "colab": {
          "base_uri": "https://localhost:8080/",
          "height": 218
        },
        "id": "u4CNcJNdlV5E",
        "outputId": "1eaccaf5-b17e-4ef0-9912-0c284d700030"
      },
      "execution_count": null,
      "outputs": [
        {
          "output_type": "stream",
          "name": "stdout",
          "text": [
            "[[  80   56    8   88]\n",
            " [  28  227   16  197]\n",
            " [  13   62   96  189]\n",
            " [  24   83   12 1682]]\n",
            "\n",
            "\n",
            "정확도\t72.88%\n",
            "정밀도\t64.74%\n",
            "재현율\t50.76%\n",
            "F1\t54.29%\n"
          ]
        },
        {
          "output_type": "execute_result",
          "data": {
            "text/plain": [
              "'scaler 하기 전 후가 동일함\\n트리 깊이를 5->8로 옮기니, f1score 기준 40%에서 55% 가까이로 오름름'"
            ],
            "application/vnd.google.colaboratory.intrinsic+json": {
              "type": "string"
            }
          },
          "metadata": {},
          "execution_count": 64
        }
      ]
    },
    {
      "cell_type": "code",
      "source": [
        "importances=clf.feature_importances_\n",
        "column_nm=pd.DataFrame(x.columns)\n",
        "feature_importances = pd.concat([column_nm,\n",
        "                                 pd.DataFrame(importances)],\n",
        "                                axis=1)\n",
        "feature_importances.columns=['feature_nm', 'importances']"
      ],
      "metadata": {
        "id": "z4grNfbsmwLK"
      },
      "execution_count": null,
      "outputs": []
    },
    {
      "cell_type": "code",
      "source": [
        "feature_importances.sort_values(by='importances' ,ascending=False)[:10]"
      ],
      "metadata": {
        "colab": {
          "base_uri": "https://localhost:8080/",
          "height": 363
        },
        "id": "jixenBvKnpmk",
        "outputId": "c04f358f-f954-4026-f45d-3df968800af4"
      },
      "execution_count": null,
      "outputs": [
        {
          "output_type": "execute_result",
          "data": {
            "text/plain": [
              "     feature_nm  importances\n",
              "74     meaneduc     0.177871\n",
              "56    hogar_nin     0.072865\n",
              "6     SQBmeaned     0.055662\n",
              "19   dependency     0.051799\n",
              "136        v18q     0.035123\n",
              "113        r4t1     0.029066\n",
              "100  pisomoscer     0.028447\n",
              "54   hogar_adul     0.028131\n",
              "112        r4m3     0.025518\n",
              "16    cielorazo     0.024953"
            ],
            "text/html": [
              "\n",
              "\n",
              "  <div id=\"df-87af2e8e-876c-48b9-b256-10f6cbf40a3d\">\n",
              "    <div class=\"colab-df-container\">\n",
              "      <div>\n",
              "<style scoped>\n",
              "    .dataframe tbody tr th:only-of-type {\n",
              "        vertical-align: middle;\n",
              "    }\n",
              "\n",
              "    .dataframe tbody tr th {\n",
              "        vertical-align: top;\n",
              "    }\n",
              "\n",
              "    .dataframe thead th {\n",
              "        text-align: right;\n",
              "    }\n",
              "</style>\n",
              "<table border=\"1\" class=\"dataframe\">\n",
              "  <thead>\n",
              "    <tr style=\"text-align: right;\">\n",
              "      <th></th>\n",
              "      <th>feature_nm</th>\n",
              "      <th>importances</th>\n",
              "    </tr>\n",
              "  </thead>\n",
              "  <tbody>\n",
              "    <tr>\n",
              "      <th>74</th>\n",
              "      <td>meaneduc</td>\n",
              "      <td>0.177871</td>\n",
              "    </tr>\n",
              "    <tr>\n",
              "      <th>56</th>\n",
              "      <td>hogar_nin</td>\n",
              "      <td>0.072865</td>\n",
              "    </tr>\n",
              "    <tr>\n",
              "      <th>6</th>\n",
              "      <td>SQBmeaned</td>\n",
              "      <td>0.055662</td>\n",
              "    </tr>\n",
              "    <tr>\n",
              "      <th>19</th>\n",
              "      <td>dependency</td>\n",
              "      <td>0.051799</td>\n",
              "    </tr>\n",
              "    <tr>\n",
              "      <th>136</th>\n",
              "      <td>v18q</td>\n",
              "      <td>0.035123</td>\n",
              "    </tr>\n",
              "    <tr>\n",
              "      <th>113</th>\n",
              "      <td>r4t1</td>\n",
              "      <td>0.029066</td>\n",
              "    </tr>\n",
              "    <tr>\n",
              "      <th>100</th>\n",
              "      <td>pisomoscer</td>\n",
              "      <td>0.028447</td>\n",
              "    </tr>\n",
              "    <tr>\n",
              "      <th>54</th>\n",
              "      <td>hogar_adul</td>\n",
              "      <td>0.028131</td>\n",
              "    </tr>\n",
              "    <tr>\n",
              "      <th>112</th>\n",
              "      <td>r4m3</td>\n",
              "      <td>0.025518</td>\n",
              "    </tr>\n",
              "    <tr>\n",
              "      <th>16</th>\n",
              "      <td>cielorazo</td>\n",
              "      <td>0.024953</td>\n",
              "    </tr>\n",
              "  </tbody>\n",
              "</table>\n",
              "</div>\n",
              "      <button class=\"colab-df-convert\" onclick=\"convertToInteractive('df-87af2e8e-876c-48b9-b256-10f6cbf40a3d')\"\n",
              "              title=\"Convert this dataframe to an interactive table.\"\n",
              "              style=\"display:none;\">\n",
              "\n",
              "  <svg xmlns=\"http://www.w3.org/2000/svg\" height=\"24px\"viewBox=\"0 0 24 24\"\n",
              "       width=\"24px\">\n",
              "    <path d=\"M0 0h24v24H0V0z\" fill=\"none\"/>\n",
              "    <path d=\"M18.56 5.44l.94 2.06.94-2.06 2.06-.94-2.06-.94-.94-2.06-.94 2.06-2.06.94zm-11 1L8.5 8.5l.94-2.06 2.06-.94-2.06-.94L8.5 2.5l-.94 2.06-2.06.94zm10 10l.94 2.06.94-2.06 2.06-.94-2.06-.94-.94-2.06-.94 2.06-2.06.94z\"/><path d=\"M17.41 7.96l-1.37-1.37c-.4-.4-.92-.59-1.43-.59-.52 0-1.04.2-1.43.59L10.3 9.45l-7.72 7.72c-.78.78-.78 2.05 0 2.83L4 21.41c.39.39.9.59 1.41.59.51 0 1.02-.2 1.41-.59l7.78-7.78 2.81-2.81c.8-.78.8-2.07 0-2.86zM5.41 20L4 18.59l7.72-7.72 1.47 1.35L5.41 20z\"/>\n",
              "  </svg>\n",
              "      </button>\n",
              "\n",
              "\n",
              "\n",
              "    <div id=\"df-3b452129-244a-4b5c-8638-59aa74f8fbb9\">\n",
              "      <button class=\"colab-df-quickchart\" onclick=\"quickchart('df-3b452129-244a-4b5c-8638-59aa74f8fbb9')\"\n",
              "              title=\"Suggest charts.\"\n",
              "              style=\"display:none;\">\n",
              "\n",
              "<svg xmlns=\"http://www.w3.org/2000/svg\" height=\"24px\"viewBox=\"0 0 24 24\"\n",
              "     width=\"24px\">\n",
              "    <g>\n",
              "        <path d=\"M19 3H5c-1.1 0-2 .9-2 2v14c0 1.1.9 2 2 2h14c1.1 0 2-.9 2-2V5c0-1.1-.9-2-2-2zM9 17H7v-7h2v7zm4 0h-2V7h2v10zm4 0h-2v-4h2v4z\"/>\n",
              "    </g>\n",
              "</svg>\n",
              "      </button>\n",
              "    </div>\n",
              "\n",
              "<style>\n",
              "  .colab-df-quickchart {\n",
              "    background-color: #E8F0FE;\n",
              "    border: none;\n",
              "    border-radius: 50%;\n",
              "    cursor: pointer;\n",
              "    display: none;\n",
              "    fill: #1967D2;\n",
              "    height: 32px;\n",
              "    padding: 0 0 0 0;\n",
              "    width: 32px;\n",
              "  }\n",
              "\n",
              "  .colab-df-quickchart:hover {\n",
              "    background-color: #E2EBFA;\n",
              "    box-shadow: 0px 1px 2px rgba(60, 64, 67, 0.3), 0px 1px 3px 1px rgba(60, 64, 67, 0.15);\n",
              "    fill: #174EA6;\n",
              "  }\n",
              "\n",
              "  [theme=dark] .colab-df-quickchart {\n",
              "    background-color: #3B4455;\n",
              "    fill: #D2E3FC;\n",
              "  }\n",
              "\n",
              "  [theme=dark] .colab-df-quickchart:hover {\n",
              "    background-color: #434B5C;\n",
              "    box-shadow: 0px 1px 3px 1px rgba(0, 0, 0, 0.15);\n",
              "    filter: drop-shadow(0px 1px 2px rgba(0, 0, 0, 0.3));\n",
              "    fill: #FFFFFF;\n",
              "  }\n",
              "</style>\n",
              "\n",
              "    <script>\n",
              "      async function quickchart(key) {\n",
              "        const containerElement = document.querySelector('#' + key);\n",
              "        const charts = await google.colab.kernel.invokeFunction(\n",
              "            'suggestCharts', [key], {});\n",
              "      }\n",
              "    </script>\n",
              "\n",
              "      <script>\n",
              "\n",
              "function displayQuickchartButton(domScope) {\n",
              "  let quickchartButtonEl =\n",
              "    domScope.querySelector('#df-3b452129-244a-4b5c-8638-59aa74f8fbb9 button.colab-df-quickchart');\n",
              "  quickchartButtonEl.style.display =\n",
              "    google.colab.kernel.accessAllowed ? 'block' : 'none';\n",
              "}\n",
              "\n",
              "        displayQuickchartButton(document);\n",
              "      </script>\n",
              "      <style>\n",
              "    .colab-df-container {\n",
              "      display:flex;\n",
              "      flex-wrap:wrap;\n",
              "      gap: 12px;\n",
              "    }\n",
              "\n",
              "    .colab-df-convert {\n",
              "      background-color: #E8F0FE;\n",
              "      border: none;\n",
              "      border-radius: 50%;\n",
              "      cursor: pointer;\n",
              "      display: none;\n",
              "      fill: #1967D2;\n",
              "      height: 32px;\n",
              "      padding: 0 0 0 0;\n",
              "      width: 32px;\n",
              "    }\n",
              "\n",
              "    .colab-df-convert:hover {\n",
              "      background-color: #E2EBFA;\n",
              "      box-shadow: 0px 1px 2px rgba(60, 64, 67, 0.3), 0px 1px 3px 1px rgba(60, 64, 67, 0.15);\n",
              "      fill: #174EA6;\n",
              "    }\n",
              "\n",
              "    [theme=dark] .colab-df-convert {\n",
              "      background-color: #3B4455;\n",
              "      fill: #D2E3FC;\n",
              "    }\n",
              "\n",
              "    [theme=dark] .colab-df-convert:hover {\n",
              "      background-color: #434B5C;\n",
              "      box-shadow: 0px 1px 3px 1px rgba(0, 0, 0, 0.15);\n",
              "      filter: drop-shadow(0px 1px 2px rgba(0, 0, 0, 0.3));\n",
              "      fill: #FFFFFF;\n",
              "    }\n",
              "  </style>\n",
              "\n",
              "      <script>\n",
              "        const buttonEl =\n",
              "          document.querySelector('#df-87af2e8e-876c-48b9-b256-10f6cbf40a3d button.colab-df-convert');\n",
              "        buttonEl.style.display =\n",
              "          google.colab.kernel.accessAllowed ? 'block' : 'none';\n",
              "\n",
              "        async function convertToInteractive(key) {\n",
              "          const element = document.querySelector('#df-87af2e8e-876c-48b9-b256-10f6cbf40a3d');\n",
              "          const dataTable =\n",
              "            await google.colab.kernel.invokeFunction('convertToInteractive',\n",
              "                                                     [key], {});\n",
              "          if (!dataTable) return;\n",
              "\n",
              "          const docLinkHtml = 'Like what you see? Visit the ' +\n",
              "            '<a target=\"_blank\" href=https://colab.research.google.com/notebooks/data_table.ipynb>data table notebook</a>'\n",
              "            + ' to learn more about interactive tables.';\n",
              "          element.innerHTML = '';\n",
              "          dataTable['output_type'] = 'display_data';\n",
              "          await google.colab.output.renderOutput(dataTable, element);\n",
              "          const docLink = document.createElement('div');\n",
              "          docLink.innerHTML = docLinkHtml;\n",
              "          element.appendChild(docLink);\n",
              "        }\n",
              "      </script>\n",
              "    </div>\n",
              "  </div>\n"
            ]
          },
          "metadata": {},
          "execution_count": 66
        }
      ]
    },
    {
      "cell_type": "code",
      "source": [
        "# import matplotlib.pyplot as pyplot\n",
        "# #from sklearn.metrics import plot_roc_curve, roc_auc_score\n",
        "# from sklearn.metrics import roc_auc_score\n",
        "# #plot_roc_curve(clf, x_test, y_test)\n",
        "# #plt.show()\n",
        "# R_A_score=roc_auc_score(test_y, clf.predict_proba(test_x)[:,1])\n",
        "'''roc curve는 binary에서 가능한듯 ValueError: multi_class must be in ('ovo', 'ovr')'''"
      ],
      "metadata": {
        "id": "xM72qZY3l6rf",
        "colab": {
          "base_uri": "https://localhost:8080/",
          "height": 35
        },
        "outputId": "416c3342-7d1b-4650-dcc8-2dfdd867723c"
      },
      "execution_count": null,
      "outputs": [
        {
          "output_type": "execute_result",
          "data": {
            "text/plain": [
              "\"roc curve는 binary에서 가능한듯 ValueError: multi_class must be in ('ovo', 'ovr')\""
            ],
            "application/vnd.google.colaboratory.intrinsic+json": {
              "type": "string"
            }
          },
          "metadata": {},
          "execution_count": 67
        }
      ]
    },
    {
      "cell_type": "markdown",
      "source": [
        "#### 5. DNN"
      ],
      "metadata": {
        "id": "rXB86gX0qOZA"
      }
    },
    {
      "cell_type": "code",
      "source": [
        "'''# 라벨 인코딩\n",
        "e = LabelEncoder()\n",
        "e.fit(Y_obj)\n",
        "Y = e.transform(Y_obj)\n",
        "\n",
        "# 원-핫 인코딩\n",
        "Y_encoded = np_utils.to_categorical(Y)'''"
      ],
      "metadata": {
        "id": "hBG2T85mr5gE",
        "colab": {
          "base_uri": "https://localhost:8080/",
          "height": 35
        },
        "outputId": "27c3e0b7-8cab-42e2-e1ce-3875077496c6"
      },
      "execution_count": null,
      "outputs": [
        {
          "output_type": "execute_result",
          "data": {
            "text/plain": [
              "'# 라벨 인코딩\\ne = LabelEncoder()\\ne.fit(Y_obj)\\nY = e.transform(Y_obj)\\n\\n# 원-핫 인코딩\\nY_encoded = np_utils.to_categorical(Y)'"
            ],
            "application/vnd.google.colaboratory.intrinsic+json": {
              "type": "string"
            }
          },
          "metadata": {},
          "execution_count": 68
        }
      ]
    },
    {
      "cell_type": "code",
      "source": [
        "train_x.shape"
      ],
      "metadata": {
        "colab": {
          "base_uri": "https://localhost:8080/"
        },
        "id": "Ycm48DCQsMtR",
        "outputId": "25dafb9a-008b-4390-fa0d-825de6a52762"
      },
      "execution_count": null,
      "outputs": [
        {
          "output_type": "execute_result",
          "data": {
            "text/plain": [
              "(6673, 137)"
            ]
          },
          "metadata": {},
          "execution_count": 69
        }
      ]
    },
    {
      "cell_type": "code",
      "source": [
        "train_y.value_counts()\n"
      ],
      "metadata": {
        "id": "f_zOfnuOtp6V",
        "colab": {
          "base_uri": "https://localhost:8080/"
        },
        "outputId": "5c7c7594-42ef-48cf-b4c4-434e515aff35"
      },
      "execution_count": null,
      "outputs": [
        {
          "output_type": "execute_result",
          "data": {
            "text/plain": [
              "4    4200\n",
              "2    1090\n",
              "3     841\n",
              "1     542\n",
              "Name: Target, dtype: int64"
            ]
          },
          "metadata": {},
          "execution_count": 70
        }
      ]
    },
    {
      "cell_type": "code",
      "source": [
        "import numpy\n",
        "import tensorflow as tf\n",
        "from tensorflow import keras\n",
        "# from sklearn.preprocessing import LabelEncoder\n",
        "from keras.models import Sequential\n",
        "from keras.layers.core import Dense\n",
        "from keras.utils import np_utils\n",
        "\n",
        "#seed 설정\n",
        "seed = 0\n",
        "numpy.random.seed(seed)\n",
        "# tf.set_random_seed(seed)\n",
        "\n",
        "\n",
        "# 라벨 인코딩\n",
        "# e = LabelEncoder()\n",
        "# e.fit(Y_obj)\n",
        "# Y = e.transform(Y_obj)\n",
        "\n",
        "# 원-핫 인코딩\n",
        "train_y_v2 = train_y.map({'4':3, '3':2, '2':1, '1':0}) # 0,1,2,3,\n",
        "Y_encoded = np_utils.to_categorical(train_y_v2)\n",
        "\n",
        "\n",
        "model = Sequential()\n",
        "model.add(Dense(16, activation='relu', input_shape=(137,)))\n",
        "model.add(Dense(16, activation='relu'))\n",
        "model.add(Dense(4, activation='softmax'))\n",
        "\n",
        "# model compile9Rrng\n",
        "model.compile(loss=\"categorical_crossentropy\", optimizer=\"adam\", metrics=['accuracy'])\n",
        "\n",
        "model.fit(train_x, Y_encoded, epochs=15, batch_size = 5) # 원핫인코딩\n",
        "\n",
        "print('\\n Accuracy: %.4f' % (model.evaluate(train_x, Y_encoded)[1]))"
      ],
      "metadata": {
        "id": "n5T2HDEgoUS3",
        "colab": {
          "base_uri": "https://localhost:8080/"
        },
        "outputId": "60b80357-00e9-4d30-bb8c-af5dedaf4f70"
      },
      "execution_count": null,
      "outputs": [
        {
          "output_type": "stream",
          "name": "stdout",
          "text": [
            "Epoch 1/15\n",
            "1335/1335 [==============================] - 7s 4ms/step - loss: 6.4379 - accuracy: 0.5407\n",
            "Epoch 2/15\n",
            "1335/1335 [==============================] - 6s 5ms/step - loss: 2.1866 - accuracy: 0.5777\n",
            "Epoch 3/15\n",
            "1335/1335 [==============================] - 5s 4ms/step - loss: 1.6903 - accuracy: 0.6033\n",
            "Epoch 4/15\n",
            "1335/1335 [==============================] - 6s 5ms/step - loss: 1.6034 - accuracy: 0.6054\n",
            "Epoch 5/15\n",
            "1335/1335 [==============================] - 5s 4ms/step - loss: 1.4807 - accuracy: 0.6074\n",
            "Epoch 6/15\n",
            "1335/1335 [==============================] - 5s 4ms/step - loss: 1.2831 - accuracy: 0.6233\n",
            "Epoch 7/15\n",
            "1335/1335 [==============================] - 6s 5ms/step - loss: 1.1662 - accuracy: 0.6305\n",
            "Epoch 8/15\n",
            "1335/1335 [==============================] - 5s 4ms/step - loss: 1.0566 - accuracy: 0.6376\n",
            "Epoch 9/15\n",
            "1335/1335 [==============================] - 6s 4ms/step - loss: 0.9725 - accuracy: 0.6468\n",
            "Epoch 10/15\n",
            "1335/1335 [==============================] - 7s 5ms/step - loss: 0.8906 - accuracy: 0.6559\n",
            "Epoch 11/15\n",
            "1335/1335 [==============================] - 5s 4ms/step - loss: 0.8979 - accuracy: 0.6546\n",
            "Epoch 12/15\n",
            "1335/1335 [==============================] - 6s 5ms/step - loss: 0.8804 - accuracy: 0.6592\n",
            "Epoch 13/15\n",
            "1335/1335 [==============================] - 5s 4ms/step - loss: 0.8859 - accuracy: 0.6565\n",
            "Epoch 14/15\n",
            "1335/1335 [==============================] - 6s 5ms/step - loss: 0.8782 - accuracy: 0.6522\n",
            "Epoch 15/15\n",
            "1335/1335 [==============================] - 7s 5ms/step - loss: 0.8788 - accuracy: 0.6540\n",
            "209/209 [==============================] - 1s 3ms/step - loss: 0.8594 - accuracy: 0.6670\n",
            "\n",
            " Accuracy: 0.6670\n"
          ]
        }
      ]
    },
    {
      "cell_type": "markdown",
      "source": [
        "### IF 기울기 폭주 문제가 발생한다면?\n",
        "\n",
        "- 역전파 알고리즘은 출력층에서 입력층으로 오차 그레디언트를 전파하면서 진행된다.\n",
        "- 기울기가 폭주(Exploding Gradient), 즉 gradient가 점점 커져서 여러 층이 비정상적으로 큰 가중치로 갱신하면 발산할 수 있다. <> 기울기 소실(Vanishing Gradient)\n",
        "\n",
        "1. 기울기 초기화 : 각 층의 연결 가중치를 무작위 초기화\n",
        "```\n",
        "keras.layers.Dense(10, activation=\"relu\", kernel_initializer=\"he_normal\")\n",
        "he_avg_init=keras.initializers.VarianceScaling(scale=2. mode= \"fan_avg\", distribution=\"uniform\")\n",
        "keras.layers.Dense(10, activation=\"sigmoid\", kernel_initializer=he_avg_init)\n",
        "```\n",
        "2. 활성화 함수 조정 : 기울기 소실문제 해결방법으로 수렴하지 않은 활성화 함수를 선정하거나, 기울기 소실과 폭주 방지 방법으로 훈련하는 동안 각층의 출력이 평균 0과 표준편차 1을 유지하는 경향의 함수를 선택할 수 있다.\n",
        "```\n",
        "#leakyReLU사용하기\n",
        "#z<0일때 함수의 기울기가 0이 아닌 0.01~0.2가 되도록 한다.\n",
        "model = keras.models.Sequential([\n",
        "  #[...]\n",
        "  keras.layers.Dense(10,kernel_initializer=\"he_normal\"),\n",
        "  keras.layers.LeakyReLU(alph=0.2), #PReLU를 사용하려면 LeakyRelu를 PReLU로 바꾸면 됨\n",
        "  #[...]\n",
        "])\n",
        "#SELU 사용하기\n",
        "#스케일이 조정된 ELU 함수\n",
        "#ELU함수란 : 지수함수를 사용하여 z<0이 그레디언트가 0이 아니지만 둥근선형태라 leakyrelu 등의 함수보다는 계산이 느리다.\n",
        "#훈련하는 동안 각 층의 출력이 평균0과 표준편차 1을 유기하는 경향이 있다.\n",
        "#(특정조건하에) 네트워크의 자기 정규화(self-normalize)를 보장한다.\n",
        "layer = keras.layers.Dense(10, activation = \"selu\", kernel_initializer= \"lecun_normal\")\n",
        "```\n",
        "3. 배치 정규화 : 각 층의 뉴런마다 감마(출력 스케일 벡터), 베타(출력 이동 벡터), mu, sigma 등 네개의 파라미터 벡터가 학습하여 규제와 비슷한 역할을 한다. 미니배치마다 평균과 표준편차를 계산하므로 훈련데이터에 잡을 넣는다고 볼 수\n",
        "있어 모델의 복잡도를 높인다. 신경망이 가중치 초기화에 덜 민감하도록 만든다.\n",
        "```\n",
        "#은닉층의 활성화함수 전이나 후에 batchnormalization 층을 추가해주면 된다.\n",
        "model = keras.model.Sequential([\n",
        "  keras.layers.Flatten(input_shape=[28,28]),\n",
        "  keras.layers.BatchNormalization(),\n",
        "  keras.layers.Dense(300, activation=\"elu\", kernel_initializer=\"he_normal\"),\n",
        "  keras.layers.BatchNormalization(),\n",
        "  keras.layers.Dense(100, activation=\"elu\", kernel_initializer=\"he_normal\"),\n",
        "  keras.layers.BatchNormalization(),\n",
        "  keras.layers.Dense(10, activation=\"softmax\")\n",
        "])\n",
        "```\n",
        "\n",
        "4. 그라디언트 클리핑(gradient clipping) : 역전파 과정에서 그라디언트가 일정 임계값을 넘어서지 못하도록 잘라내는 방법으로, RRN에서는 배치 정규화를 적용하기 어려워 이 방법을 많이 사용한다고 함.\n",
        "```\n",
        "#optimizer 생성시 clipvalue, clipnorm 매개변수를 지정하여 구현할 수 있음.\n",
        "optimizer=keras.optimizers.SGD(clipvalue=1.0)\n",
        "model.compile(loss=\"mse\", optimizer=optimizer)\n",
        "```\n",
        "5. 옵티마이저 변경 : 최적점을 향하여 더 일찍 갱신방향을 바꿀 수 있는 경사하강법을 사용한다. 본인의 이전 상태 값에 영향을 받는 모멘텀 벡터를 사용하며 일반 SGD 경사하강법보다 최적점 도달시까지 빠르게 가속된다.\n",
        "```\n",
        "optimizer= keras.optimizers.SGD(lr=0.001, momentum=0.9)\n",
        "optimizer = keras.optimizers.RMSProp(lr=0.001, rho=0.9) # rho 는 식에서 베타를 의미\n",
        "```\n",
        "5. 학습률 스케줄링 변경 :  # 학습률이 너무 커서 발산할 수 있으므로 학습률을 수정한다. 그보다는 큰 학습률로 시작해 학습이 더뎌질때학습률 감소시키는 스케줄링을 바꿔보는 것도 방법.\n",
        "```\n",
        "#거듭제곱 기반 스케줄링\n",
        "optimizer= keras.optimizers.SGD(lr=0.01, decay=1e-4)\n",
        "#성능 기반 스케줄링\n",
        "#최상의 검증 손실이 연속 5번의 epoch 동안 향상되지 않을 때마다 학습률에 0.5 곱함\n",
        "lr_scheduler=keras.callbacks.ReduceLROnPLateau(factor=0.5, patience=5)\n",
        "```\n",
        "6. L1과 L2 규제 또는 드롭아웃 : 신경망의 연결 가중치에 제한을 두는 것.\n",
        "```\n",
        "# L1과 L2 규제 방법\n",
        "## 일반적으로 모든 은닉층에 동일한 활성화 함수, 초기화 전략, 규제기법을 공통적으로 적용하므로 불필요한 반복을 위해 반복문을 사용하거나 functools.partial() 함수를 사용할 수 있다.\n",
        "RegularizedDense= partial(keras.layers.Dense,\n",
        "                           actication=\"elu\",\n",
        "                           kernel_initializer=\"he_normal\",\n",
        "                           kernel_regularizer=keras.regulariziers.l2(0.01))\n",
        "model = keras.models.Sequential([\n",
        "  keras.layers.Flatten(input_shape=[28,28]),\n",
        "  RegularizedDense(300),\n",
        "  RegularizedDense(100),\n",
        "  RegularizedDense(10, acitivation=\"softmax\", kernel_initializer=\"glorot_uniform\")\n",
        "])\n",
        "#드롭아웃\n",
        "#훈련하는 동안 0.2의 비율로 뉴런을 버리고 남은 입력을 보존확률 0.8로 나누어준다.\n",
        "# 조심할 것은 훈련 종료 후에는 어떠한 작업도 하지 않는다. #평가시.\n",
        "# 모델이 과대적합되었다면 드롭아웃의 비율을 늘릴 수 있다.\n",
        "model = keras.models.Sequential([\n",
        "  keras.layers.Flatten(input_shape=[28,28]),\n",
        "  keras.layers.Dropout(rate=0,2),\n",
        "  keras.layers.Dense(300, activation=\"elu\", kernel_initializer=\"he_normal\"),\n",
        "  keras.layers.Dropout(rate=0,2),\n",
        "  keras.layers.Dense(300, activation=\"elu\", kernel_initializer=\"he_normal\"),\n",
        "  keras.layers.Dropout(rate=0,2),\n",
        "  keras.layers.Dense(10, activation=\"softmax\")\n",
        "])\n",
        "```\n",
        "- 정리하자면 1,. 기울기 자체를 초기화 시키거나, 2. 기울기 조정하는 활성화 함수 또는 규제를 입히거나, 3. 옵티마이저를 조정하거나 4. 학습률 스케줄링을 다르게 줄 수 있다. 또는 5. 데이터의 배치 정규화나 드롭아웃을 줄 수 있다.\n",
        "방법은 여러가지이고, 주로 코드에서는 부가적인 인자를 넣은 층 또는 드롭아웃과 같은 기술적인 층을 삽입하거나, optimizer를 수정한다.\n",
        "\n"
      ],
      "metadata": {
        "id": "cNgCYkQIKRBl"
      }
    },
    {
      "cell_type": "code",
      "source": [
        "#keras mlpclassifier의 경우에는 keras 내 voting_classifier에 추가해서(estimator에 mlp) 사용 할 수 있음 #같은 패키지라서 가능한 듯\n",
        "# 다수결. 하드 포팅(어떤 행의 결과 값의 다수결), 소프트 보팅(소프트맥스 확률값을 평균으로 다수결)."
      ],
      "metadata": {
        "id": "wMyT5m-QWPNN"
      },
      "execution_count": null,
      "outputs": []
    },
    {
      "cell_type": "markdown",
      "source": [],
      "metadata": {
        "id": "R4YAAzheKQwF"
      }
    },
    {
      "cell_type": "markdown",
      "source": [
        "## 앙상블"
      ],
      "metadata": {
        "id": "7Wr5JqvPDcbA"
      }
    },
    {
      "cell_type": "code",
      "source": [
        "import seaborn as sns\n",
        "train_y_v3 = pd.DataFrame(train_y)\n",
        "sns.countplot(x='Target', data=train_y_v3)"
      ],
      "metadata": {
        "colab": {
          "base_uri": "https://localhost:8080/",
          "height": 467
        },
        "id": "1iCXlDNdDbN5",
        "outputId": "0d3838d6-6d6e-4651-d42c-75ceacc116e8"
      },
      "execution_count": null,
      "outputs": [
        {
          "output_type": "execute_result",
          "data": {
            "text/plain": [
              "<Axes: xlabel='Target', ylabel='count'>"
            ]
          },
          "metadata": {},
          "execution_count": 74
        },
        {
          "output_type": "display_data",
          "data": {
            "text/plain": [
              "<Figure size 640x480 with 1 Axes>"
            ],
            "image/png": "[encoded data removed]"
          },
          "metadata": {}
        }
      ]
    },
    {
      "cell_type": "code",
      "source": [
        "sns.relplot(x='meaneduc', y='SQBmeaned', hue='Target', data=train_v2)# meaneduc을 제곱한 항이 SQBmeaned"
      ],
      "metadata": {
        "id": "ACV6s5rGqNf_",
        "colab": {
          "base_uri": "https://localhost:8080/",
          "height": 524
        },
        "outputId": "f011a04c-1db2-4a30-cb58-df125a185138"
      },
      "execution_count": null,
      "outputs": [
        {
          "output_type": "execute_result",
          "data": {
            "text/plain": [
              "<seaborn.axisgrid.FacetGrid at 0x7a5d8e13b970>"
            ]
          },
          "metadata": {},
          "execution_count": 75
        },
        {
          "output_type": "display_data",
          "data": {
            "text/plain": [
              "<Figure size 558.875x500 with 1 Axes>"
            ],
            "image/png": "[encoded data removed]"
          },
          "metadata": {}
        }
      ]
    },
    {
      "cell_type": "markdown",
      "source": [
        "##### 1) BaggingClassifier"
      ],
      "metadata": {
        "id": "UmWjuTjEbnPk"
      }
    },
    {
      "cell_type": "code",
      "source": [
        "from sklearn.tree import DecisionTreeClassifier\n",
        "from sklearn.ensemble import BaggingClassifier\n",
        "clf=BaggingClassifier(estimator=DecisionTreeClassifier()) #ood_score 인자?\n",
        "pred = clf.fit(train_x_scal, train_y).predict(test_x_scal)\n",
        "print(\"Accuracy Score : \", clf.score(test_x_scal, test_y))\n",
        "\n",
        "# /usr/local/lib/python3.10/dist-packages/sklearn/ensemble/_base.py:166: FutureWarning: `base_estimator` was renamed to `estimator` in version 1.2 and will be removed in 1.4.\n",
        "#   warnings.warn("
      ],
      "metadata": {
        "colab": {
          "base_uri": "https://localhost:8080/"
        },
        "id": "P3fE9js9E10Z",
        "outputId": "92e8c963-df0a-48a6-db5a-a949e73f6002"
      },
      "execution_count": null,
      "outputs": [
        {
          "output_type": "stream",
          "name": "stdout",
          "text": [
            "Accuracy Score :  0.9433764418035652\n"
          ]
        }
      ]
    },
    {
      "cell_type": "code",
      "source": [
        "from sklearn.metrics import confusion_matrix\n",
        "pd.DataFrame(confusion_matrix(test_y, pred),\n",
        "                index = ['G \"1\"', 'GT \"2\"', 'GT \"3\"', 'GT \"4\"'],\n",
        "             columns=['Pred\"1\"','Pred\"2\"', 'Pred\"3\"', 'Pred\"4\"'])"
      ],
      "metadata": {
        "colab": {
          "base_uri": "https://localhost:8080/",
          "height": 175
        },
        "id": "DiO_2jyNJw5i",
        "outputId": "ccda4ffe-0cf9-4567-b6ab-9369f2392c9c"
      },
      "execution_count": null,
      "outputs": [
        {
          "output_type": "execute_result",
          "data": {
            "text/plain": [
              "        Pred\"1\"  Pred\"2\"  Pred\"3\"  Pred\"4\"\n",
              "G \"1\"       208        4        0       20\n",
              "GT \"2\"        9      415        9       35\n",
              "GT \"3\"        2        7      308       43\n",
              "GT \"4\"        7       14       12     1768"
            ],
            "text/html": [
              "\n",
              "\n",
              "  <div id=\"df-24f08a3c-104c-4164-95f3-232ca6a98f53\">\n",
              "    <div class=\"colab-df-container\">\n",
              "      <div>\n",
              "<style scoped>\n",
              "    .dataframe tbody tr th:only-of-type {\n",
              "        vertical-align: middle;\n",
              "    }\n",
              "\n",
              "    .dataframe tbody tr th {\n",
              "        vertical-align: top;\n",
              "    }\n",
              "\n",
              "    .dataframe thead th {\n",
              "        text-align: right;\n",
              "    }\n",
              "</style>\n",
              "<table border=\"1\" class=\"dataframe\">\n",
              "  <thead>\n",
              "    <tr style=\"text-align: right;\">\n",
              "      <th></th>\n",
              "      <th>Pred\"1\"</th>\n",
              "      <th>Pred\"2\"</th>\n",
              "      <th>Pred\"3\"</th>\n",
              "      <th>Pred\"4\"</th>\n",
              "    </tr>\n",
              "  </thead>\n",
              "  <tbody>\n",
              "    <tr>\n",
              "      <th>G \"1\"</th>\n",
              "      <td>208</td>\n",
              "      <td>4</td>\n",
              "      <td>0</td>\n",
              "      <td>20</td>\n",
              "    </tr>\n",
              "    <tr>\n",
              "      <th>GT \"2\"</th>\n",
              "      <td>9</td>\n",
              "      <td>415</td>\n",
              "      <td>9</td>\n",
              "      <td>35</td>\n",
              "    </tr>\n",
              "    <tr>\n",
              "      <th>GT \"3\"</th>\n",
              "      <td>2</td>\n",
              "      <td>7</td>\n",
              "      <td>308</td>\n",
              "      <td>43</td>\n",
              "    </tr>\n",
              "    <tr>\n",
              "      <th>GT \"4\"</th>\n",
              "      <td>7</td>\n",
              "      <td>14</td>\n",
              "      <td>12</td>\n",
              "      <td>1768</td>\n",
              "    </tr>\n",
              "  </tbody>\n",
              "</table>\n",
              "</div>\n",
              "      <button class=\"colab-df-convert\" onclick=\"convertToInteractive('df-24f08a3c-104c-4164-95f3-232ca6a98f53')\"\n",
              "              title=\"Convert this dataframe to an interactive table.\"\n",
              "              style=\"display:none;\">\n",
              "\n",
              "  <svg xmlns=\"http://www.w3.org/2000/svg\" height=\"24px\"viewBox=\"0 0 24 24\"\n",
              "       width=\"24px\">\n",
              "    <path d=\"M0 0h24v24H0V0z\" fill=\"none\"/>\n",
              "    <path d=\"M18.56 5.44l.94 2.06.94-2.06 2.06-.94-2.06-.94-.94-2.06-.94 2.06-2.06.94zm-11 1L8.5 8.5l.94-2.06 2.06-.94-2.06-.94L8.5 2.5l-.94 2.06-2.06.94zm10 10l.94 2.06.94-2.06 2.06-.94-2.06-.94-.94-2.06-.94 2.06-2.06.94z\"/><path d=\"M17.41 7.96l-1.37-1.37c-.4-.4-.92-.59-1.43-.59-.52 0-1.04.2-1.43.59L10.3 9.45l-7.72 7.72c-.78.78-.78 2.05 0 2.83L4 21.41c.39.39.9.59 1.41.59.51 0 1.02-.2 1.41-.59l7.78-7.78 2.81-2.81c.8-.78.8-2.07 0-2.86zM5.41 20L4 18.59l7.72-7.72 1.47 1.35L5.41 20z\"/>\n",
              "  </svg>\n",
              "      </button>\n",
              "\n",
              "\n",
              "\n",
              "    <div id=\"df-29e6d0de-e2fc-4372-8ff2-5a7a9ace494c\">\n",
              "      <button class=\"colab-df-quickchart\" onclick=\"quickchart('df-29e6d0de-e2fc-4372-8ff2-5a7a9ace494c')\"\n",
              "              title=\"Suggest charts.\"\n",
              "              style=\"display:none;\">\n",
              "\n",
              "<svg xmlns=\"http://www.w3.org/2000/svg\" height=\"24px\"viewBox=\"0 0 24 24\"\n",
              "     width=\"24px\">\n",
              "    <g>\n",
              "        <path d=\"M19 3H5c-1.1 0-2 .9-2 2v14c0 1.1.9 2 2 2h14c1.1 0 2-.9 2-2V5c0-1.1-.9-2-2-2zM9 17H7v-7h2v7zm4 0h-2V7h2v10zm4 0h-2v-4h2v4z\"/>\n",
              "    </g>\n",
              "</svg>\n",
              "      </button>\n",
              "    </div>\n",
              "\n",
              "<style>\n",
              "  .colab-df-quickchart {\n",
              "    background-color: #E8F0FE;\n",
              "    border: none;\n",
              "    border-radius: 50%;\n",
              "    cursor: pointer;\n",
              "    display: none;\n",
              "    fill: #1967D2;\n",
              "    height: 32px;\n",
              "    padding: 0 0 0 0;\n",
              "    width: 32px;\n",
              "  }\n",
              "\n",
              "  .colab-df-quickchart:hover {\n",
              "    background-color: #E2EBFA;\n",
              "    box-shadow: 0px 1px 2px rgba(60, 64, 67, 0.3), 0px 1px 3px 1px rgba(60, 64, 67, 0.15);\n",
              "    fill: #174EA6;\n",
              "  }\n",
              "\n",
              "  [theme=dark] .colab-df-quickchart {\n",
              "    background-color: #3B4455;\n",
              "    fill: #D2E3FC;\n",
              "  }\n",
              "\n",
              "  [theme=dark] .colab-df-quickchart:hover {\n",
              "    background-color: #434B5C;\n",
              "    box-shadow: 0px 1px 3px 1px rgba(0, 0, 0, 0.15);\n",
              "    filter: drop-shadow(0px 1px 2px rgba(0, 0, 0, 0.3));\n",
              "    fill: #FFFFFF;\n",
              "  }\n",
              "</style>\n",
              "\n",
              "    <script>\n",
              "      async function quickchart(key) {\n",
              "        const containerElement = document.querySelector('#' + key);\n",
              "        const charts = await google.colab.kernel.invokeFunction(\n",
              "            'suggestCharts', [key], {});\n",
              "      }\n",
              "    </script>\n",
              "\n",
              "      <script>\n",
              "\n",
              "function displayQuickchartButton(domScope) {\n",
              "  let quickchartButtonEl =\n",
              "    domScope.querySelector('#df-29e6d0de-e2fc-4372-8ff2-5a7a9ace494c button.colab-df-quickchart');\n",
              "  quickchartButtonEl.style.display =\n",
              "    google.colab.kernel.accessAllowed ? 'block' : 'none';\n",
              "}\n",
              "\n",
              "        displayQuickchartButton(document);\n",
              "      </script>\n",
              "      <style>\n",
              "    .colab-df-container {\n",
              "      display:flex;\n",
              "      flex-wrap:wrap;\n",
              "      gap: 12px;\n",
              "    }\n",
              "\n",
              "    .colab-df-convert {\n",
              "      background-color: #E8F0FE;\n",
              "      border: none;\n",
              "      border-radius: 50%;\n",
              "      cursor: pointer;\n",
              "      display: none;\n",
              "      fill: #1967D2;\n",
              "      height: 32px;\n",
              "      padding: 0 0 0 0;\n",
              "      width: 32px;\n",
              "    }\n",
              "\n",
              "    .colab-df-convert:hover {\n",
              "      background-color: #E2EBFA;\n",
              "      box-shadow: 0px 1px 2px rgba(60, 64, 67, 0.3), 0px 1px 3px 1px rgba(60, 64, 67, 0.15);\n",
              "      fill: #174EA6;\n",
              "    }\n",
              "\n",
              "    [theme=dark] .colab-df-convert {\n",
              "      background-color: #3B4455;\n",
              "      fill: #D2E3FC;\n",
              "    }\n",
              "\n",
              "    [theme=dark] .colab-df-convert:hover {\n",
              "      background-color: #434B5C;\n",
              "      box-shadow: 0px 1px 3px 1px rgba(0, 0, 0, 0.15);\n",
              "      filter: drop-shadow(0px 1px 2px rgba(0, 0, 0, 0.3));\n",
              "      fill: #FFFFFF;\n",
              "    }\n",
              "  </style>\n",
              "\n",
              "      <script>\n",
              "        const buttonEl =\n",
              "          document.querySelector('#df-24f08a3c-104c-4164-95f3-232ca6a98f53 button.colab-df-convert');\n",
              "        buttonEl.style.display =\n",
              "          google.colab.kernel.accessAllowed ? 'block' : 'none';\n",
              "\n",
              "        async function convertToInteractive(key) {\n",
              "          const element = document.querySelector('#df-24f08a3c-104c-4164-95f3-232ca6a98f53');\n",
              "          const dataTable =\n",
              "            await google.colab.kernel.invokeFunction('convertToInteractive',\n",
              "                                                     [key], {});\n",
              "          if (!dataTable) return;\n",
              "\n",
              "          const docLinkHtml = 'Like what you see? Visit the ' +\n",
              "            '<a target=\"_blank\" href=https://colab.research.google.com/notebooks/data_table.ipynb>data table notebook</a>'\n",
              "            + ' to learn more about interactive tables.';\n",
              "          element.innerHTML = '';\n",
              "          dataTable['output_type'] = 'display_data';\n",
              "          await google.colab.output.renderOutput(dataTable, element);\n",
              "          const docLink = document.createElement('div');\n",
              "          docLink.innerHTML = docLinkHtml;\n",
              "          element.appendChild(docLink);\n",
              "        }\n",
              "      </script>\n",
              "    </div>\n",
              "  </div>\n"
            ]
          },
          "metadata": {},
          "execution_count": 77
        }
      ]
    },
    {
      "cell_type": "code",
      "source": [
        "test_cm=confusion_matrix(test_y, pred)\n",
        "test_acc=accuracy_score(test_y, pred)\n",
        "test_prc=precision_score(test_y,pred, average=\"macro\" )\n",
        "test_rcll=recall_score(test_y, pred,  average=\"macro\" )\n",
        "test_f1=f1_score(test_y,pred,  average=\"macro\" )\n",
        "\n",
        "print(test_cm)\n",
        "print('\\n')\n",
        "print('정확도\\t{}%'.format(round(test_acc*100,2)))\n",
        "print('정밀도\\t{}%'.format(round(test_prc*100,2)))\n",
        "print('재현율\\t{}%'.format(round(test_rcll*100,2)))\n",
        "print('F1\\t{}%'.format(round(test_f1*100,2)))"
      ],
      "metadata": {
        "colab": {
          "base_uri": "https://localhost:8080/"
        },
        "id": "m9lP0hhqSwJP",
        "outputId": "c5a513a4-6fae-42d3-e199-344402589e6b"
      },
      "execution_count": null,
      "outputs": [
        {
          "output_type": "stream",
          "name": "stdout",
          "text": [
            "[[ 208    4    0   20]\n",
            " [   9  415    9   35]\n",
            " [   2    7  308   43]\n",
            " [   7   14   12 1768]]\n",
            "\n",
            "\n",
            "정확도\t94.34%\n",
            "정밀도\t93.68%\n",
            "재현율\t90.51%\n",
            "F1\t92.02%\n"
          ]
        }
      ]
    },
    {
      "cell_type": "markdown",
      "source": [
        "##### 2) AdaBoostClassifier"
      ],
      "metadata": {
        "id": "SQODxUCxK0KZ"
      }
    },
    {
      "cell_type": "code",
      "source": [
        "from sklearn.ensemble import AdaBoostClassifier\n",
        "clf = AdaBoostClassifier(estimator=None)\n",
        "pred = clf.fit(train_x_scal, train_y).predict(test_x_scal)\n",
        "print(\"Accuracy : \", clf.score(test_x_scal, test_y))  #왜이렇게 생겼지?"
      ],
      "metadata": {
        "id": "gVDPX1EaFU-d",
        "colab": {
          "base_uri": "https://localhost:8080/"
        },
        "outputId": "38b7cc2c-9cb3-4272-eee2-d64cb806ff2b"
      },
      "execution_count": null,
      "outputs": [
        {
          "output_type": "stream",
          "name": "stdout",
          "text": [
            "Accuracy :  0.6609577070954212\n"
          ]
        }
      ]
    },
    {
      "cell_type": "code",
      "source": [
        "test_cm=confusion_matrix(test_y, pred)\n",
        "test_acc=accuracy_score(test_y, pred)\n",
        "test_prc=precision_score(test_y,pred, average=\"macro\" )\n",
        "test_rcll=recall_score(test_y, pred,  average=\"macro\" )\n",
        "test_f1=f1_score(test_y,pred,  average=\"macro\" )\n",
        "\n",
        "print(test_cm)\n",
        "print('\\n')\n",
        "print('정확도\\t{}%'.format(round(test_acc*100,2)))\n",
        "print('정밀도\\t{}%'.format(round(test_prc*100,2)))\n",
        "print('재현율\\t{}%'.format(round(test_rcll*100,2)))\n",
        "print('F1\\t{}%'.format(round(test_f1*100,2)))"
      ],
      "metadata": {
        "colab": {
          "base_uri": "https://localhost:8080/"
        },
        "id": "hqMBbuBUI3H7",
        "outputId": "309d2436-5651-4793-ef54-7338636117a8"
      },
      "execution_count": null,
      "outputs": [
        {
          "output_type": "stream",
          "name": "stdout",
          "text": [
            "[[  72   74    5   81]\n",
            " [  54  158   20  236]\n",
            " [  14   73   36  237]\n",
            " [  37  118   21 1625]]\n",
            "\n",
            "\n",
            "정확도\t66.1%\n",
            "정밀도\t49.13%\n",
            "재현율\t41.26%\n",
            "F1\t42.16%\n"
          ]
        }
      ]
    },
    {
      "cell_type": "markdown",
      "source": [
        "##### 3) randomforestClassifier"
      ],
      "metadata": {
        "id": "aKPEVP2UNlsj"
      }
    },
    {
      "cell_type": "code",
      "source": [
        ", RandomForestClassifier\n",
        "from sklearn.ensemble import RandomForestClassifier\n",
        "clf = RandomForestClassifier(n_estimators=100, min_samples_split=5)\n",
        "pred = clf.fit(train_x_scal, train_y).predict(test_x_scal)\n",
        "print(\"Accuracy:\", clf.score(test_x_scal, test_y))"
      ],
      "metadata": {
        "colab": {
          "base_uri": "https://localhost:8080/"
        },
        "id": "9nDVNUDYI8qX",
        "outputId": "f4e4db13-a783-4886-dfb0-c375109fc3a6"
      },
      "execution_count": null,
      "outputs": [
        {
          "output_type": "stream",
          "name": "stdout",
          "text": [
            "Accuracy: 0.9094722125131073\n"
          ]
        }
      ]
    },
    {
      "cell_type": "code",
      "source": [
        "\n",
        "test_cm=confusion_matrix(test_y, pred)\n",
        "test_acc=accuracy_score(test_y, pred)\n",
        "test_prc=precision_score(test_y,pred, average=\"macro\" )\n",
        "test_rcll=recall_score(test_y, pred,  average=\"macro\" )\n",
        "test_f1=f1_score(test_y,pred,  average=\"macro\" )\n",
        "\n",
        "print(test_cm)\n",
        "print('\\n')\n",
        "print('정확도\\t{}%'.format(round(test_acc*100,2)))\n",
        "print('정밀도\\t{}%'.format(round(test_prc*100,2)))\n",
        "print('재현율\\t{}%'.format(round(test_rcll*100,2)))\n",
        "print('F1\\t{}%'.format(round(test_f1*100,2)))"
      ],
      "metadata": {
        "colab": {
          "base_uri": "https://localhost:8080/"
        },
        "id": "uBtntZNqOLw4",
        "outputId": "58f7a3cf-9fd7-4312-d593-cc01f440e2f1"
      },
      "execution_count": null,
      "outputs": [
        {
          "output_type": "stream",
          "name": "stdout",
          "text": [
            "[[ 182    1    0   49]\n",
            " [   0  367    3   98]\n",
            " [   2    4  257   97]\n",
            " [   2    1    2 1796]]\n",
            "\n",
            "\n",
            "정확도\t90.95%\n",
            "정밀도\t95.59%\n",
            "재현율\t81.99%\n",
            "F1\t87.63%\n"
          ]
        }
      ]
    },
    {
      "cell_type": "code",
      "source": [
        "importances = clf.feature_importances_\n",
        "importances # 컬럼 순서가 어떻게 되"
      ],
      "metadata": {
        "colab": {
          "base_uri": "https://localhost:8080/"
        },
        "id": "f0OlYMGpOf52",
        "outputId": "5e91a608-5d50-46ae-94f1-3a50f9303efd"
      },
      "execution_count": null,
      "outputs": [
        {
          "output_type": "execute_result",
          "data": {
            "text/plain": [
              "array([1.50827922e-02, 3.23969466e-02, 2.24184738e-02, 1.62006194e-02,\n",
              "       2.09072518e-02, 1.06695140e-02, 5.30395638e-02, 2.76727714e-02,\n",
              "       2.08063537e-03, 2.36673068e-03, 4.18133921e-04, 1.50333909e-02,\n",
              "       1.62169787e-02, 6.68113658e-03, 6.74528576e-03, 1.24885403e-02,\n",
              "       1.76487091e-02, 2.64397859e-03, 4.24189898e-03, 2.69794534e-02,\n",
              "       2.46826078e-03, 1.55331831e-02, 2.14012875e-02, 4.86655339e-03,\n",
              "       1.97443785e-03, 4.32644759e-03, 2.67678383e-04, 0.00000000e+00,\n",
              "       1.21899508e-05, 3.63696235e-04, 7.47944224e-03, 7.34979747e-03,\n",
              "       4.23785502e-03, 4.82116066e-03, 6.83053668e-03, 9.39456532e-03,\n",
              "       1.33585397e-02, 1.02673069e-03, 2.61292198e-03, 2.91891839e-03,\n",
              "       7.81717611e-04, 1.90580542e-03, 1.05617027e-03, 2.29805762e-03,\n",
              "       6.87380928e-03, 6.99751225e-03, 8.45059019e-03, 5.26741971e-03,\n",
              "       6.60786153e-03, 1.44554475e-02, 1.94602273e-03, 1.30617363e-03,\n",
              "       2.32771393e-03, 1.02134897e-02, 1.39431965e-02, 6.32914949e-03,\n",
              "       1.94491845e-02, 1.03430271e-02, 1.46949985e-03, 2.26203894e-03,\n",
              "       1.92101156e-03, 1.92132621e-03, 1.26961667e-03, 8.17982170e-04,\n",
              "       4.24977180e-04, 2.64305058e-03, 3.05045900e-05, 7.60343301e-03,\n",
              "       3.85152278e-03, 5.84113739e-03, 5.79960981e-03, 6.51006092e-03,\n",
              "       3.72402376e-03, 1.97224574e-03, 5.68509103e-02, 2.77074582e-03,\n",
              "       1.81781311e-04, 2.45830832e-02, 1.32282028e-02, 5.97139142e-04,\n",
              "       1.50653627e-04, 5.78696244e-03, 1.15429927e-04, 7.05467682e-03,\n",
              "       7.16280794e-04, 5.38097160e-03, 1.81745301e-03, 2.24301605e-04,\n",
              "       5.39915568e-04, 3.37063871e-04, 1.58589495e-03, 2.02854763e-03,\n",
              "       4.66286453e-04, 3.56267186e-04, 1.13749310e-03, 2.57903070e-04,\n",
              "       1.06705140e-04, 5.99157528e-04, 6.93010016e-03, 4.76577937e-03,\n",
              "       1.20987734e-02, 1.97154624e-05, 9.72565262e-04, 0.00000000e+00,\n",
              "       7.45274207e-05, 4.09671597e-03, 2.40235517e-02, 1.07681332e-02,\n",
              "       1.59268020e-02, 1.38580316e-02, 1.11278624e-02, 1.30307029e-02,\n",
              "       1.58072686e-02, 1.59578670e-02, 1.50605121e-02, 1.06098934e-02,\n",
              "       4.05179340e-03, 1.92242353e-02, 5.52529492e-04, 5.13665364e-03,\n",
              "       5.57892738e-03, 1.64438755e-03, 3.02396949e-04, 1.10241008e-02,\n",
              "       1.25787297e-02, 2.52580371e-04, 1.00255035e-03, 0.00000000e+00,\n",
              "       1.49135148e-03, 7.13672480e-03, 6.87663515e-03, 3.54166189e-03,\n",
              "       6.11849401e-03, 1.72738659e-03, 5.44100151e-03, 5.35854799e-04,\n",
              "       1.19879773e-02])"
            ]
          },
          "metadata": {},
          "execution_count": 83
        }
      ]
    },
    {
      "cell_type": "markdown",
      "source": [
        "### IF 다중분류가 아닌 이중분류로 가정한다면"
      ],
      "metadata": {
        "id": "T-UKUHjy7eTx"
      }
    },
    {
      "cell_type": "code",
      "source": [
        "'''소프트맥스 회귀 이중 분류'''\n",
        "from sklearn.model_selection import train_test_split\n",
        "\n",
        "feature_columns = list(train_v2.columns.difference(['Id', 'idhogar','Target']))\n",
        "x = train_v2[feature_columns]\n",
        "y=train_v2['Target']\n",
        "y= y.map({'4' : '비취약가구', '3': '복지대상가구', '2': '복지대상가구','1': '복지대상가구'})\n",
        "'''층화 추출법'''\n",
        "train_x, test_x, train_y, test_y = train_test_split(x,y, stratify=y, train_size=0.8, random_state=1)\n",
        "print(train_x.shape, test_x.shape, train_y.shape, test_y.shape)"
      ],
      "metadata": {
        "colab": {
          "base_uri": "https://localhost:8080/"
        },
        "id": "pfVOTFCQ9KpG",
        "outputId": "5df86c35-8842-4ff4-a568-a2794c58abed"
      },
      "execution_count": 95,
      "outputs": [
        {
          "output_type": "stream",
          "name": "stdout",
          "text": [
            "(7627, 137) (1907, 137) (7627,) (1907,)\n"
          ]
        }
      ]
    },
    {
      "cell_type": "code",
      "source": [
        "train_v2.Target.value_counts()"
      ],
      "metadata": {
        "colab": {
          "base_uri": "https://localhost:8080/"
        },
        "id": "nAHGhAeB7mhX",
        "outputId": "fbe0a552-de8c-49a8-a988-d58ffefade0e"
      },
      "execution_count": 96,
      "outputs": [
        {
          "output_type": "execute_result",
          "data": {
            "text/plain": [
              "4    6001\n",
              "2    1558\n",
              "3    1201\n",
              "1     774\n",
              "Name: Target, dtype: int64"
            ]
          },
          "metadata": {},
          "execution_count": 96
        }
      ]
    },
    {
      "cell_type": "code",
      "source": [
        "y.value_counts()"
      ],
      "metadata": {
        "colab": {
          "base_uri": "https://localhost:8080/"
        },
        "id": "vo5PfJII_H-Y",
        "outputId": "c6922686-0686-41b8-bafd-feca69ad3785"
      },
      "execution_count": 97,
      "outputs": [
        {
          "output_type": "execute_result",
          "data": {
            "text/plain": [
              "비취약가구     6001\n",
              "복지대상가구    3533\n",
              "Name: Target, dtype: int64"
            ]
          },
          "metadata": {},
          "execution_count": 97
        }
      ]
    },
    {
      "cell_type": "code",
      "source": [
        "test_y.value_counts()"
      ],
      "metadata": {
        "colab": {
          "base_uri": "https://localhost:8080/"
        },
        "id": "BXeRjzmkEPYG",
        "outputId": "f74582e4-8f39-4e4c-f517-e96bcc979187"
      },
      "execution_count": 98,
      "outputs": [
        {
          "output_type": "execute_result",
          "data": {
            "text/plain": [
              "비취약가구     1200\n",
              "복지대상가구     707\n",
              "Name: Target, dtype: int64"
            ]
          },
          "metadata": {},
          "execution_count": 98
        }
      ]
    },
    {
      "cell_type": "code",
      "source": [
        "train_y.value_counts()"
      ],
      "metadata": {
        "colab": {
          "base_uri": "https://localhost:8080/"
        },
        "id": "K6XwOO6NEXqf",
        "outputId": "97f5802f-bdf7-4ec6-ab84-ea0766c2beee"
      },
      "execution_count": 99,
      "outputs": [
        {
          "output_type": "execute_result",
          "data": {
            "text/plain": [
              "비취약가구     4801\n",
              "복지대상가구    2826\n",
              "Name: Target, dtype: int64"
            ]
          },
          "metadata": {},
          "execution_count": 99
        }
      ]
    },
    {
      "cell_type": "code",
      "source": [
        "from sklearn.preprocessing import StandardScaler\n",
        "\n",
        "scaler = StandardScaler()\n",
        "train_x_scal = scaler.fit_transform(train_x) #Target 종속변수는 제외하고 나머지 숫자형인 변수는 scaler를 진행\n",
        "\n",
        "from sklearn.linear_model import LogisticRegression\n",
        "\n",
        "'''scaler 하기전에는 max_iter을 더 크게 잡아도 안돌아갔었는데 스케일 조정 후 돌아감'''\n",
        "softm=LogisticRegression(solver='lbfgs', C=10, max_iter=5000)\n",
        "softm.fit(train_x_scal, train_y)\n",
        "\n",
        "from sklearn.metrics import confusion_matrix, accuracy_score, precision_score, recall_score, f1_score\n",
        "test_x_scal=scaler.transform(test_x)\n",
        "pred=softm.predict(test_x_scal)\n",
        "\n",
        "test_cm=confusion_matrix(test_y, pred)\n",
        "test_acc=accuracy_score(test_y, pred)\n",
        "test_prc=precision_score(test_y,pred, average=\"macro\" )\n",
        "test_rcll=recall_score(test_y, pred,  average=\"macro\" )\n",
        "test_f1=f1_score(test_y,pred,  average=\"macro\" )\n",
        "\n",
        "print(test_cm)\n",
        "print('\\n')\n",
        "print('정확도\\t{}%'.format(round(test_acc*100,2)))\n",
        "print('정밀도\\t{}%'.format(round(test_prc*100,2)))\n",
        "print('재현율\\t{}%'.format(round(test_rcll*100,2)))\n",
        "print('F1\\t{}%'.format(round(test_f1*100,2)))\n",
        "\n",
        "##종속변수 유니크 개수가 두개로 줄어들면서 #multi_class 인자를 기본값(auto)으로 변경한다"
      ],
      "metadata": {
        "colab": {
          "base_uri": "https://localhost:8080/"
        },
        "id": "RSfxpW7L7muc",
        "outputId": "e2532f2d-9038-4505-e5ce-224050c7a64e"
      },
      "execution_count": 100,
      "outputs": [
        {
          "output_type": "stream",
          "name": "stdout",
          "text": [
            "[[ 453  254]\n",
            " [ 172 1028]]\n",
            "\n",
            "\n",
            "정확도\t77.66%\n",
            "정밀도\t76.33%\n",
            "재현율\t74.87%\n",
            "F1\t75.43%\n"
          ]
        }
      ]
    },
    {
      "cell_type": "markdown",
      "source": [
        "## oversampling\n",
        "> 랜덤 오버 샘플링\n",
        "- 소수의 레이블을 지닌 데이터세트를 단순 복제하여 다수의 레이블과 비율을 맞추는 방법이다.\n",
        "- 데이터를 단순 복제하기 떄문에 분포는 변하지 않지만 그 수가 늘어나 같은 비율로 가중치를 받을 수 있다.\n",
        "- 오버피팅의 위험성이 있지만 불균형 문제를 처리하지 않는 것보다는 유효하기 때문에 종종 사용된다.\n",
        "\n",
        ">SMOTE\n",
        "- 소수 레이블을 지닌 데이터 세트의 관측 값에 대한 K개의 최근접 이윳(k-Nearest Neighbor)을 찾고, 관측값과 이웃으로 선택된 값 사이에 임의의 새로운 데이터를 생성하는 방법으로 샘플의 수를 늘리는 방법"
      ],
      "metadata": {
        "id": "bu9Png_U_Myd"
      }
    },
    {
      "cell_type": "code",
      "source": [
        "#random over sampling\n",
        "from imblearn.over_sampling import RandomOverSampler\n",
        "from collections import Counter\n",
        "oversample = RandomOverSampler(sampling_strategy='minority')\n",
        "x_over, y_over = oversample.fit_resample(train_x,train_y)\n",
        "print(Counter(y_over))"
      ],
      "metadata": {
        "colab": {
          "base_uri": "https://localhost:8080/"
        },
        "id": "e46bUMvN_MRw",
        "outputId": "5fd02a0a-f530-45e8-bcf7-e36cba91d5ca"
      },
      "execution_count": 103,
      "outputs": [
        {
          "output_type": "stream",
          "name": "stdout",
          "text": [
            "Counter({'복지대상가구': 4801, '비취약가구': 4801})\n"
          ]
        }
      ]
    },
    {
      "cell_type": "code",
      "source": [
        "#smote\n",
        "from imblearn.over_sampling import SMOTE\n",
        "smote_sample=SMOTE(sampling_strategy='minority')\n",
        "x_sm, y_sm = smote_sample.fit_resample(train_x,train_y)\n",
        "print(Counter(y_sm))"
      ],
      "metadata": {
        "colab": {
          "base_uri": "https://localhost:8080/"
        },
        "id": "ugaQvrUaAsSO",
        "outputId": "50adbb99-3166-43c1-f070-b03aa8aefe75"
      },
      "execution_count": 104,
      "outputs": [
        {
          "output_type": "stream",
          "name": "stdout",
          "text": [
            "Counter({'복지대상가구': 4801, '비취약가구': 4801})\n"
          ]
        }
      ]
    },
    {
      "cell_type": "code",
      "source": [
        "scaler = StandardScaler()\n",
        "train_x_scal = scaler.fit_transform(x_over) #Target 종속변수는 제외하고 나머지 숫자형인 변수는 scaler를 진행\n",
        "\n",
        "softm=LogisticRegression(solver='lbfgs', C=10, max_iter=5000) #multi_class 인자를 기본값으로 변경한다\n",
        "softm.fit(train_x_scal, y_over)\n",
        "\n",
        "test_x_scal=scaler.transform(test_x)\n",
        "pred=softm.predict(test_x_scal)\n",
        "\n",
        "test_cm=confusion_matrix(test_y, pred)\n",
        "test_acc=accuracy_score(test_y, pred)\n",
        "test_prc=precision_score(test_y,pred, average=\"macro\" )\n",
        "test_rcll=recall_score(test_y, pred,  average=\"macro\" )\n",
        "test_f1=f1_score(test_y,pred,  average=\"macro\" )\n",
        "\n",
        "print(test_cm)\n",
        "print('\\n')\n",
        "print('정확도\\t{}%'.format(round(test_acc*100,2)))\n",
        "print('정밀도\\t{}%'.format(round(test_prc*100,2)))\n",
        "print('재현율\\t{}%'.format(round(test_rcll*100,2)))\n",
        "print('F1\\t{}%'.format(round(test_f1*100,2)))"
      ],
      "metadata": {
        "colab": {
          "base_uri": "https://localhost:8080/"
        },
        "id": "ZQ5qT6xHCPWn",
        "outputId": "78ff7563-0d78-465d-e1d4-3dd8ef63acd5"
      },
      "execution_count": 106,
      "outputs": [
        {
          "output_type": "stream",
          "name": "stdout",
          "text": [
            "[[541 166]\n",
            " [275 925]]\n",
            "\n",
            "\n",
            "정확도\t76.87%\n",
            "정밀도\t75.54%\n",
            "재현율\t76.8%\n",
            "F1\t75.9%\n"
          ]
        }
      ]
    },
    {
      "cell_type": "code",
      "source": [
        "scaler = StandardScaler()\n",
        "train_x_scal = scaler.fit_transform(x_sm) #Target 종속변수는 제외하고 나머지 숫자형인 변수는 scaler를 진행\n",
        "\n",
        "'''scaler 하기전에는 max_iter을 더 크게 잡아도 안돌아갔었는데 스케일 조정 후 돌아감'''\n",
        "softm=LogisticRegression(solver='lbfgs', C=10, max_iter=5000)\n",
        "softm.fit(train_x_scal, y_sm)\n",
        "\n",
        "test_x_scal=scaler.transform(test_x)\n",
        "pred=softm.predict(test_x_scal)\n",
        "\n",
        "test_cm=confusion_matrix(test_y, pred)\n",
        "test_acc=accuracy_score(test_y, pred)\n",
        "test_prc=precision_score(test_y,pred, average=\"macro\" )\n",
        "test_rcll=recall_score(test_y, pred,  average=\"macro\" )\n",
        "test_f1=f1_score(test_y,pred,  average=\"macro\" )\n",
        "\n",
        "print(test_cm)\n",
        "print('\\n')\n",
        "print('정확도\\t{}%'.format(round(test_acc*100,2)))\n",
        "print('정밀도\\t{}%'.format(round(test_prc*100,2)))\n",
        "print('재현율\\t{}%'.format(round(test_rcll*100,2)))\n",
        "print('F1\\t{}%'.format(round(test_f1*100,2)))"
      ],
      "metadata": {
        "colab": {
          "base_uri": "https://localhost:8080/"
        },
        "id": "YrC0AoYxCxUl",
        "outputId": "d2117274-ae68-4d73-f6de-3d375a2bd4a8"
      },
      "execution_count": 107,
      "outputs": [
        {
          "output_type": "stream",
          "name": "stdout",
          "text": [
            "[[ 454  253]\n",
            " [ 171 1029]]\n",
            "\n",
            "\n",
            "정확도\t77.77%\n",
            "정밀도\t76.45%\n",
            "재현율\t74.98%\n",
            "F1\t75.54%\n"
          ]
        }
      ]
    },
    {
      "cell_type": "code",
      "source": [
        "# 확실히 불균형 데이터를 다룰때에는 불균형 문제럴 처리하지 않은 것보다 오버 샘플링 하는 방법이 조금 더 성능이 좋다.\n",
        "#이때 주의할점은 테스트 데이터는 원본 데이터여야 하고 학습시킬때 학습데이터만 오버 샘플링해서 클래스별 샘플 수를 동일하게 맞추는 기술을 적용해야한다."
      ],
      "metadata": {
        "id": "4TleUITTC5X3"
      },
      "execution_count": null,
      "outputs": []
    }
  ]
}