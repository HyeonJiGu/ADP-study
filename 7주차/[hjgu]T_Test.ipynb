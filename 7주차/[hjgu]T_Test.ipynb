{
  "nbformat": 4,
  "nbformat_minor": 0,
  "metadata": {
    "colab": {
      "provenance": [],
      "toc_visible": true
    },
    "kernelspec": {
      "name": "python3",
      "display_name": "Python 3"
    },
    "language_info": {
      "name": "python"
    }
  },
  "cells": [
    {
      "cell_type": "markdown",
      "source": [
        "# 문제 1 # 독립표본 t-test\n",
        "A초등학교 남학생 16명과 여학생 9명의 혈압을 측정한 pressure.csv파일을 가지고 남녀학생의 평균 혈압에 차이가 없는지 분석하라. 단, 남학생과 여학생의 혈압 데이터는 정규분포를 따르며 등분산임을 가정한다.\n",
        "\n",
        "- 1 연구가설과 귀무가설을 설정하라\n",
        "- 2 통계량을 구하고, 연구가설 채택여부를 기술하라.\n",
        "- 3 2 에서 구한 검정 통계량 값을 바탕으로 신뢰구간을 구하라"
      ],
      "metadata": {
        "id": "M-x1RwlvRz8M"
      }
    },
    {
      "cell_type": "code",
      "source": [
        "import pandas as pd\n",
        "\n",
        "df= pd.read_csv('https://raw.githubusercontent.com/Datamanim/datarepo/main/adp/26/pressure.csv')\n",
        "df.head()\n",
        "### 남학생과 여학생은 독립적인 두 집단이며, 단일집단 내 처리 전후를 보는 것이 아님\n",
        "### 평균 혈압에 차이가 없는지 분석하는 것이므로 독립표본  T-검정을 시행한다"
      ],
      "metadata": {
        "id": "ERaneNgbSy8Q",
        "colab": {
          "base_uri": "https://localhost:8080/",
          "height": 206
        },
        "outputId": "68f5d544-c9f4-478f-c51a-a6c1eb549cf9"
      },
      "execution_count": 23,
      "outputs": [
        {
          "output_type": "execute_result",
          "data": {
            "text/plain": [
              "  gender  pressure\n",
              "0   male     106.8\n",
              "1   male     100.8\n",
              "2   male      84.5\n",
              "3   male     104.2\n",
              "4   male     107.0"
            ],
            "text/html": [
              "\n",
              "\n",
              "  <div id=\"df-712ca46d-a9d7-47ef-ae8d-0489c428bb46\">\n",
              "    <div class=\"colab-df-container\">\n",
              "      <div>\n",
              "<style scoped>\n",
              "    .dataframe tbody tr th:only-of-type {\n",
              "        vertical-align: middle;\n",
              "    }\n",
              "\n",
              "    .dataframe tbody tr th {\n",
              "        vertical-align: top;\n",
              "    }\n",
              "\n",
              "    .dataframe thead th {\n",
              "        text-align: right;\n",
              "    }\n",
              "</style>\n",
              "<table border=\"1\" class=\"dataframe\">\n",
              "  <thead>\n",
              "    <tr style=\"text-align: right;\">\n",
              "      <th></th>\n",
              "      <th>gender</th>\n",
              "      <th>pressure</th>\n",
              "    </tr>\n",
              "  </thead>\n",
              "  <tbody>\n",
              "    <tr>\n",
              "      <th>0</th>\n",
              "      <td>male</td>\n",
              "      <td>106.8</td>\n",
              "    </tr>\n",
              "    <tr>\n",
              "      <th>1</th>\n",
              "      <td>male</td>\n",
              "      <td>100.8</td>\n",
              "    </tr>\n",
              "    <tr>\n",
              "      <th>2</th>\n",
              "      <td>male</td>\n",
              "      <td>84.5</td>\n",
              "    </tr>\n",
              "    <tr>\n",
              "      <th>3</th>\n",
              "      <td>male</td>\n",
              "      <td>104.2</td>\n",
              "    </tr>\n",
              "    <tr>\n",
              "      <th>4</th>\n",
              "      <td>male</td>\n",
              "      <td>107.0</td>\n",
              "    </tr>\n",
              "  </tbody>\n",
              "</table>\n",
              "</div>\n",
              "      <button class=\"colab-df-convert\" onclick=\"convertToInteractive('df-712ca46d-a9d7-47ef-ae8d-0489c428bb46')\"\n",
              "              title=\"Convert this dataframe to an interactive table.\"\n",
              "              style=\"display:none;\">\n",
              "\n",
              "  <svg xmlns=\"http://www.w3.org/2000/svg\" height=\"24px\"viewBox=\"0 0 24 24\"\n",
              "       width=\"24px\">\n",
              "    <path d=\"M0 0h24v24H0V0z\" fill=\"none\"/>\n",
              "    <path d=\"M18.56 5.44l.94 2.06.94-2.06 2.06-.94-2.06-.94-.94-2.06-.94 2.06-2.06.94zm-11 1L8.5 8.5l.94-2.06 2.06-.94-2.06-.94L8.5 2.5l-.94 2.06-2.06.94zm10 10l.94 2.06.94-2.06 2.06-.94-2.06-.94-.94-2.06-.94 2.06-2.06.94z\"/><path d=\"M17.41 7.96l-1.37-1.37c-.4-.4-.92-.59-1.43-.59-.52 0-1.04.2-1.43.59L10.3 9.45l-7.72 7.72c-.78.78-.78 2.05 0 2.83L4 21.41c.39.39.9.59 1.41.59.51 0 1.02-.2 1.41-.59l7.78-7.78 2.81-2.81c.8-.78.8-2.07 0-2.86zM5.41 20L4 18.59l7.72-7.72 1.47 1.35L5.41 20z\"/>\n",
              "  </svg>\n",
              "      </button>\n",
              "\n",
              "\n",
              "\n",
              "    <div id=\"df-9d288ea0-5029-4ef5-8c4d-f8fd7688d956\">\n",
              "      <button class=\"colab-df-quickchart\" onclick=\"quickchart('df-9d288ea0-5029-4ef5-8c4d-f8fd7688d956')\"\n",
              "              title=\"Suggest charts.\"\n",
              "              style=\"display:none;\">\n",
              "\n",
              "<svg xmlns=\"http://www.w3.org/2000/svg\" height=\"24px\"viewBox=\"0 0 24 24\"\n",
              "     width=\"24px\">\n",
              "    <g>\n",
              "        <path d=\"M19 3H5c-1.1 0-2 .9-2 2v14c0 1.1.9 2 2 2h14c1.1 0 2-.9 2-2V5c0-1.1-.9-2-2-2zM9 17H7v-7h2v7zm4 0h-2V7h2v10zm4 0h-2v-4h2v4z\"/>\n",
              "    </g>\n",
              "</svg>\n",
              "      </button>\n",
              "    </div>\n",
              "\n",
              "<style>\n",
              "  .colab-df-quickchart {\n",
              "    background-color: #E8F0FE;\n",
              "    border: none;\n",
              "    border-radius: 50%;\n",
              "    cursor: pointer;\n",
              "    display: none;\n",
              "    fill: #1967D2;\n",
              "    height: 32px;\n",
              "    padding: 0 0 0 0;\n",
              "    width: 32px;\n",
              "  }\n",
              "\n",
              "  .colab-df-quickchart:hover {\n",
              "    background-color: #E2EBFA;\n",
              "    box-shadow: 0px 1px 2px rgba(60, 64, 67, 0.3), 0px 1px 3px 1px rgba(60, 64, 67, 0.15);\n",
              "    fill: #174EA6;\n",
              "  }\n",
              "\n",
              "  [theme=dark] .colab-df-quickchart {\n",
              "    background-color: #3B4455;\n",
              "    fill: #D2E3FC;\n",
              "  }\n",
              "\n",
              "  [theme=dark] .colab-df-quickchart:hover {\n",
              "    background-color: #434B5C;\n",
              "    box-shadow: 0px 1px 3px 1px rgba(0, 0, 0, 0.15);\n",
              "    filter: drop-shadow(0px 1px 2px rgba(0, 0, 0, 0.3));\n",
              "    fill: #FFFFFF;\n",
              "  }\n",
              "</style>\n",
              "\n",
              "    <script>\n",
              "      async function quickchart(key) {\n",
              "        const containerElement = document.querySelector('#' + key);\n",
              "        const charts = await google.colab.kernel.invokeFunction(\n",
              "            'suggestCharts', [key], {});\n",
              "      }\n",
              "    </script>\n",
              "\n",
              "      <script>\n",
              "\n",
              "function displayQuickchartButton(domScope) {\n",
              "  let quickchartButtonEl =\n",
              "    domScope.querySelector('#df-9d288ea0-5029-4ef5-8c4d-f8fd7688d956 button.colab-df-quickchart');\n",
              "  quickchartButtonEl.style.display =\n",
              "    google.colab.kernel.accessAllowed ? 'block' : 'none';\n",
              "}\n",
              "\n",
              "        displayQuickchartButton(document);\n",
              "      </script>\n",
              "      <style>\n",
              "    .colab-df-container {\n",
              "      display:flex;\n",
              "      flex-wrap:wrap;\n",
              "      gap: 12px;\n",
              "    }\n",
              "\n",
              "    .colab-df-convert {\n",
              "      background-color: #E8F0FE;\n",
              "      border: none;\n",
              "      border-radius: 50%;\n",
              "      cursor: pointer;\n",
              "      display: none;\n",
              "      fill: #1967D2;\n",
              "      height: 32px;\n",
              "      padding: 0 0 0 0;\n",
              "      width: 32px;\n",
              "    }\n",
              "\n",
              "    .colab-df-convert:hover {\n",
              "      background-color: #E2EBFA;\n",
              "      box-shadow: 0px 1px 2px rgba(60, 64, 67, 0.3), 0px 1px 3px 1px rgba(60, 64, 67, 0.15);\n",
              "      fill: #174EA6;\n",
              "    }\n",
              "\n",
              "    [theme=dark] .colab-df-convert {\n",
              "      background-color: #3B4455;\n",
              "      fill: #D2E3FC;\n",
              "    }\n",
              "\n",
              "    [theme=dark] .colab-df-convert:hover {\n",
              "      background-color: #434B5C;\n",
              "      box-shadow: 0px 1px 3px 1px rgba(0, 0, 0, 0.15);\n",
              "      filter: drop-shadow(0px 1px 2px rgba(0, 0, 0, 0.3));\n",
              "      fill: #FFFFFF;\n",
              "    }\n",
              "  </style>\n",
              "\n",
              "      <script>\n",
              "        const buttonEl =\n",
              "          document.querySelector('#df-712ca46d-a9d7-47ef-ae8d-0489c428bb46 button.colab-df-convert');\n",
              "        buttonEl.style.display =\n",
              "          google.colab.kernel.accessAllowed ? 'block' : 'none';\n",
              "\n",
              "        async function convertToInteractive(key) {\n",
              "          const element = document.querySelector('#df-712ca46d-a9d7-47ef-ae8d-0489c428bb46');\n",
              "          const dataTable =\n",
              "            await google.colab.kernel.invokeFunction('convertToInteractive',\n",
              "                                                     [key], {});\n",
              "          if (!dataTable) return;\n",
              "\n",
              "          const docLinkHtml = 'Like what you see? Visit the ' +\n",
              "            '<a target=\"_blank\" href=https://colab.research.google.com/notebooks/data_table.ipynb>data table notebook</a>'\n",
              "            + ' to learn more about interactive tables.';\n",
              "          element.innerHTML = '';\n",
              "          dataTable['output_type'] = 'display_data';\n",
              "          await google.colab.output.renderOutput(dataTable, element);\n",
              "          const docLink = document.createElement('div');\n",
              "          docLink.innerHTML = docLinkHtml;\n",
              "          element.appendChild(docLink);\n",
              "        }\n",
              "      </script>\n",
              "    </div>\n",
              "  </div>\n"
            ]
          },
          "metadata": {},
          "execution_count": 23
        }
      ]
    },
    {
      "cell_type": "markdown",
      "source": [
        "- 유의확률 : 대립가설이 유의하지 않으나 우연히 채택될 확률\n",
        "- 유의 수준 : 귀무가설을 기각하는 기준(기본0.05)"
      ],
      "metadata": {
        "id": "C7oFiktuMAsj"
      }
    },
    {
      "cell_type": "markdown",
      "source": [
        "### 독립표본 t-test\n",
        "- 정의 : 독립된 두 표본 집단의 평균을 비교 (예) A통신사와 B통신사 고객들 하루 통화 평균(분) 비교)\n",
        "- 가정 : 독립표본 t-test는 두 모집단은 정규성을 만족해야하며, 두 모집단의 분산이 서로 같아야한다.\n",
        "- stats.ttest_ind(x1,x2, equal_var=True)\n",
        "- 귀무가설 : 두 집단의 종속변수 차이는 없다.\n",
        "- 연구가설 : 두 집단의 종속변수 차이가 있다."
      ],
      "metadata": {
        "id": "qQcW4sbOTPI4"
      }
    },
    {
      "cell_type": "code",
      "source": [
        "### 두 집단이 모두 정규분포를 따르며 등분산을 가정하므로 바로 독립표본 t-검정(equal_ var=True) 식을 시행할 수 있다.\n",
        "import scipy.stats as stats\n",
        "female = df.loc[df['gender']=='female', 'pressure']\n",
        "male = df.loc[df['gender']=='male', 'pressure']\n",
        "\n",
        "stats.ttest_ind(female, male, equal_var=True)\n",
        "### p-value 가 0.12로 귀무가설을 채택하여  남학생과 여학생의 혈압의 차이가 없음을 확인할 수 있다."
      ],
      "metadata": {
        "colab": {
          "base_uri": "https://localhost:8080/"
        },
        "id": "clFxTGA0RxW7",
        "outputId": "6a997b30-4964-4626-e1a4-fd47ae8fb799"
      },
      "execution_count": 27,
      "outputs": [
        {
          "output_type": "execute_result",
          "data": {
            "text/plain": [
              "Ttest_indResult(statistic=-1.598335024574904, pvalue=0.12361716364314851)"
            ]
          },
          "metadata": {},
          "execution_count": 27
        }
      ]
    },
    {
      "cell_type": "code",
      "source": [
        "print(female.mean(), male.mean())"
      ],
      "metadata": {
        "colab": {
          "base_uri": "https://localhost:8080/"
        },
        "id": "r6Ox4oX5UjmK",
        "outputId": "181e06c9-eb8c-4f18-f51c-2360e055b14c"
      },
      "execution_count": 28,
      "outputs": [
        {
          "output_type": "stream",
          "name": "stdout",
          "text": [
            "89.9111111111111 96.21875\n"
          ]
        }
      ]
    },
    {
      "cell_type": "code",
      "source": [
        "#히스토그램\n",
        "import matplotlib.pyplot as plt\n",
        "fig, axs=plt.subplots(1,2, figsize=(10,2))\n",
        "fig.suptitle('Bar plot')\n",
        "axs[0].hist(female) # bins 인자\n",
        "axs[0].set_title('female')\n",
        "axs[0].set_ylabel('pressure')\n",
        "axs[1].hist(male)\n",
        "axs[1].set_title('male')\n",
        "axs[1].set_ylabel('pressure')\n",
        "\n",
        "#막대그래프\n",
        "# female_ps = pd.value_counts(female.values, sort=False)\n",
        "# male_ps = pd.value_counts(male.values, sort=False)\n",
        "# fig, axs=plt.subplots(1,2, figsize=(10,2))\n",
        "# fig.suptitle('Bar plot')\n",
        "# axs[0].hist(female_ps.index, female_ps.values)\n",
        "# axs[0].set_title('female')\n",
        "# axs[0].set_ylabel('pressure')\n",
        "# axs[1].hist(male_ps.index, male_ps.values)\n",
        "# axs[1].set_title('male')\n",
        "# axs[1].set_ylabel('pressure')"
      ],
      "metadata": {
        "colab": {
          "base_uri": "https://localhost:8080/",
          "height": 255
        },
        "id": "sN91GXOcUppN",
        "outputId": "b0d39817-2812-41b7-c415-1580b8210ee8"
      },
      "execution_count": 29,
      "outputs": [
        {
          "output_type": "execute_result",
          "data": {
            "text/plain": [
              "Text(0, 0.5, 'pressure')"
            ]
          },
          "metadata": {},
          "execution_count": 29
        },
        {
          "output_type": "display_data",
          "data": {
            "text/plain": [
              "<Figure size 1000x200 with 2 Axes>"
            ],
            "image/png": "[encoded data removed]"
          },
          "metadata": {}
        }
      ]
    },
    {
      "cell_type": "markdown",
      "source": [
        "### IF 문제 정규성과 등분산성을 만족한다는 가정이 없었다면\n",
        "- 정규성 검정과 등분성 검정을 진행해야한다.\n",
        "\n",
        "\n",
        "```\n",
        "step1. 정규성 검정\n",
        "# 귀무가설 : 정규성을 가진다.\n",
        "# 대립가설 : 정규성을 가지지 않는다.\n",
        "Import scipy.stats as stats\n",
        "from scipy.stats import shapiro\n",
        "\n",
        "scipy.stats.shaipro(남학생혈압)\n",
        "scipy.stats.shaipro(여학생혈압)\n",
        "\n",
        "-> 정규성을 만족하지 않으면 t-test를 수행할 수 없다. 두 샘플간의 순위합 검정을 진행해야한다.\n",
        "\n",
        "\n",
        "\n",
        "step2-1 정규성 만족하에 등분산성 검정\n",
        "stats.levene(남학생혈압, 여학생혈압)\n",
        "# 귀무가설 : 등분산성을 만족한다.\n",
        "# 대립가설 : 등분산성을 만족하지 않는다.\n",
        "\n",
        "-> 두 표본의 분산이 같은 경우와 같지 않은 경우 적용되는 t-test 공식이 다르다.\n",
        "\n",
        "step2-2 정규성 만족X하에 순위합 검정\n",
        "# 귀무가설 : 두 모집단 간 평균 차이가 없다.\n",
        "# 대립가설 : 두 모집단간 평균 차이가 있다.\n",
        "stats. Wilcoxon(남학생혈압 X_1, 여학생혈압 X_2, alternative='two-side'/'greater'/'less')\n",
        "# alternative 인자 의미 차례로 양측검정 평균이 같다/단층검정 X_1 is ___ than X_2\n",
        "\n",
        "\n",
        "step3-1 정규성O, 등분산성X 가정하에 t-test\n",
        "stats.ttest_ind(남학생혈압, 여학생혈압, equal_var=False)\n",
        "\n",
        "step3-2 정규성O, 등분산성O 가정하에 t-test\n",
        "stats.ttest_ind(남학생혈압, 여학생혈압, equal_var=True)\n",
        "\n",
        "\n",
        "```\n",
        "\n"
      ],
      "metadata": {
        "id": "WJSgdPuMELFA"
      }
    },
    {
      "cell_type": "markdown",
      "source": [
        "### 신뢰구간\n",
        "- 각 샘플들의 신뢰구간 측정\n",
        "- scipy.stats 의 t.interval(신뢰도, 자유도, loc=샘플평균, scale=샘플표준오차)"
      ],
      "metadata": {
        "id": "ywD3OAshHd1Q"
      }
    },
    {
      "cell_type": "markdown",
      "source": [
        "### 귀무가설 채택/기각에 따라 신뢰구간 차이\n",
        "t-test 독립표본 검정에서 귀무가설과 대립가설은 다음과 같이 설정됩니다:\n",
        "\n",
        "귀무가설(H0): 두 표본집단의 평균은 같다.\n",
        "대립가설(H1): 두 표본집단의 평균은 같지 않다.\n",
        "t-test 결과, 귀무가설을 채택하게 된다면 두 표본집단의 평균은 같다고 판단됩니다. 이 경우 신뢰구간을 구하는 것은 의미가 없습니다. 왜냐하면 귀무가설을 채택했기 때문에 두 표본집단의 평균이 같다고 가정하고 검정한 결과입니다. 따라서 신뢰구간이 필요하지 않습니다.\n",
        "\n",
        "반면, t-test 결과, 귀무가설을 기각하여 대립가설을 채택한다면 두 표본집단의 평균은 같지 않다고 판단됩니다. 이 경우에는 신뢰구간을 구하는 것이 의미가 있습니다. 이 신뢰구간은 두 표본집단의 평균 차이를 나타내며, 해당 신뢰구간이 0을 포함하지 않음을 의미합니다. 이것은 두 표본집단의 평균이 서로 다를 가능성이 높다는 것을 보여줍니다.\n",
        "\n",
        "따라서** t-test 독립표본 검정에서 귀무가설 채택과 기각에 따라 신뢰구간이 의미가 있는지 없는지가 결정됩니다. **귀무가설을 채택한 경우 신뢰구간은 필요하지 않으며, 대립가설을 채택한 경우 신뢰구간이 두 집단의 평균 차이를 나타내는 중요한 정보가 됩니다."
      ],
      "metadata": {
        "id": "ck3ReebZa6fi"
      }
    },
    {
      "cell_type": "markdown",
      "source": [
        "### 독립표본 t-test의 귀무가설이 채택되었을 때 신뢰구간\n",
        "- 남학생과 여학생의 혈압 차이가 없으므로 두 집단의 모집단은 동일하다.\n",
        "- 표본을 합쳐서 낸다.\n",
        "\n"
      ],
      "metadata": {
        "id": "ROzbKjXUU_An"
      }
    },
    {
      "cell_type": "markdown",
      "source": [
        "GPT 답변\n",
        "\n",
        "t-test 독립표본 검정에서 두 표본집단이 평균의 차이가 없다고 판단되었다는 것은 귀무가설(H0)을 기각하지 못했다는 것을 의미합니다. 따라서 귀무가설인 \"두 표본집단의 평균은 같다\"라는 가정을 유지하며 신뢰구간을 구할 수 있습니다. 이 때의 신뢰구간을 구하는 방법은 다음과 같습니다.\n",
        "\n",
        "1. 독립표본 t-test를 수행한 후, t-값과 p-값을 얻습니다.\n",
        "2. p-값이 유의수준(alpha)보다 크면 귀무가설을 기각하지 못하므로 두 표본집단의 평균은 같다고 가정합니다.\n",
        "3. 평균의 차이가 없다고 판단된다면, 두 표본집단의 평균의 차이가 0이라고 가정할 수 있습니다.\n",
        "이후에는 해당 평균의 차이가 포함되는 신뢰구간을 구할 수 있습니다. 보통 신뢰수준(confidence level)을 정하고 해당 신뢰수준에 해당하는 t-분포의 임계값을 사용하여 신뢰구간을 계산합니다.\n",
        "\n",
        "신뢰수준을 95%로 설정한다면, 일반적으로 사용되는 95% 신뢰구간을 구하려면 다음과 같은 단계를 따릅니다.\n",
        "\n",
        "**두 표본집단의 크기(n1, n2)와 각각의 표준편차(standard deviation, s1, s2)를 사용하여 풀면 풀면 두 표본평균의 차이를 나타내는 통계량인 t를풀면\n",
        "평균의 차이 = 표본평균1 - 표본평균2\n",
        "통계량t = (표본평균1 - 표본평균2) / √((s1^2 / n1) + (s2^2 / n2))**\n",
        "\n",
        "\n",
        "**t-분포 표를 사용하여 95% 신뢰수준에 해당하는 t-값을 찾습니다. 자유도는 n1 + n2 - 2입니다.**\n",
        "\n",
        "**구한 t-값을 사용하여 신뢰구간을 계산합니다.\n",
        "신뢰구간 = (풀면 - t* × 표준오차, 풀면 + t* × 표준오차)**\n",
        "\n",
        "**여기서 t*는 95% 신뢰수준에서의 t-분포의 임계값이고, 표준오차는 풀면의 표준오차를 나타냅니다**\n",
        "\n",
        "위의 단계를 따라 하여, 두 표본집단의 평균의 차이가 없다고 판단되었을 때, 해당 평균의 차이가 포함된 신뢰구간을 구할 수 있습니다. **이 신뢰구간은 두 집단의 평균 차이를 나타내며, 해당 신뢰구간이 0을 포함하면 두 집단의 평균이 서로 차이가 없다는 것을 의미합니다.**"
      ],
      "metadata": {
        "id": "eUR8IGK1aDgf"
      }
    },
    {
      "cell_type": "code",
      "source": [
        "# 각 집단의 평균\n",
        "p_m, p_f = np.mean(male), np.mean(female)\n",
        "mean_diff = p_m - p_f\n",
        "mean_diff"
      ],
      "metadata": {
        "colab": {
          "base_uri": "https://localhost:8080/"
        },
        "id": "RJSyTRKKB0IZ",
        "outputId": "16c83d68-fd3f-4eff-9e21-30a896a33b43"
      },
      "execution_count": 32,
      "outputs": [
        {
          "output_type": "execute_result",
          "data": {
            "text/plain": [
              "6.307638888888903"
            ]
          },
          "metadata": {},
          "execution_count": 32
        }
      ]
    },
    {
      "cell_type": "code",
      "source": [
        "# t통계량\n",
        "statistic = stats.ttest_ind(male, female, equal_var=True)[0]\n",
        "statistic"
      ],
      "metadata": {
        "colab": {
          "base_uri": "https://localhost:8080/"
        },
        "id": "8hyibtrPB0Ll",
        "outputId": "28610b3e-868f-4b3b-b956-762976359bc3"
      },
      "execution_count": 34,
      "outputs": [
        {
          "output_type": "execute_result",
          "data": {
            "text/plain": [
              "1.598335024574904"
            ]
          },
          "metadata": {},
          "execution_count": 34
        }
      ]
    },
    {
      "cell_type": "code",
      "source": [
        "sp = mean_diff/statistic\n",
        "sp"
      ],
      "metadata": {
        "colab": {
          "base_uri": "https://localhost:8080/"
        },
        "id": "XPe-ZaKdS0Mn",
        "outputId": "08f382ac-6ca1-45e9-efe0-f505b2cca10a"
      },
      "execution_count": 36,
      "outputs": [
        {
          "output_type": "execute_result",
          "data": {
            "text/plain": [
              "3.9463809476154688"
            ]
          },
          "metadata": {},
          "execution_count": 36
        }
      ]
    },
    {
      "cell_type": "code",
      "source": [
        "stats.t(len_m + len_f-2).isf(0.975)*sp"
      ],
      "metadata": {
        "colab": {
          "base_uri": "https://localhost:8080/"
        },
        "id": "kB0xLkdMVgBO",
        "outputId": "ae5cfcc2-e61e-4a83-ed60-af4f3d5d5130"
      },
      "execution_count": 44,
      "outputs": [
        {
          "output_type": "execute_result",
          "data": {
            "text/plain": [
              "-8.163710980897445"
            ]
          },
          "metadata": {},
          "execution_count": 44
        }
      ]
    },
    {
      "cell_type": "code",
      "source": [
        "stats.t(len_m + len_f-2).isf(0.025)*sp"
      ],
      "metadata": {
        "colab": {
          "base_uri": "https://localhost:8080/"
        },
        "id": "uldGmPdjVUzj",
        "outputId": "6d26f6af-0973-476e-dd0e-f97e16ff277c"
      },
      "execution_count": 43,
      "outputs": [
        {
          "output_type": "execute_result",
          "data": {
            "text/plain": [
              "8.163710980897447"
            ]
          },
          "metadata": {},
          "execution_count": 43
        }
      ]
    },
    {
      "cell_type": "code",
      "source": [
        "### 95%신뢰구간 생성\n",
        "len_m, len_f = len(male),len(female)\n",
        "lower = (mean_diff) + stats.t(len_m + len_f-2).isf(0.975)*sp\n",
        "upper = (mean_diff) + stats.t(len_m + len_f-2).isf(0.025)*sp\n",
        "print(lower,upper)"
      ],
      "metadata": {
        "colab": {
          "base_uri": "https://localhost:8080/"
        },
        "id": "hhpGHuI4S4KU",
        "outputId": "17d0d3ef-596f-4c05-8d5e-1513321ce727"
      },
      "execution_count": 42,
      "outputs": [
        {
          "output_type": "stream",
          "name": "stdout",
          "text": [
            "-1.8560720920085423 14.47134986978635\n"
          ]
        }
      ]
    },
    {
      "cell_type": "code",
      "source": [
        "## chatgpt에게 물어본 다른 풀이\n",
        "\n",
        "sample1 = male\n",
        "sample2 = female\n",
        "\n",
        "n1, n2 = len(sample1), len(sample2)\n",
        "mean1, mean2 = np.mean(sample1), np.mean(sample2)\n",
        "var1, var2 = np.var(sample1, ddof=1), np.var(sample2, ddof=1)\n",
        "pooled_var = ((n1 - 1) * var1 + (n2 - 1) * var2) / (n1 + n2 - 2)\n",
        "standard_error = np.sqrt(pooled_var * (1 / n1 + 1 / n2))\n",
        "confidence_interval = stats.t.interval(0.95, n1 + n2 - 2, loc=mean1 - mean2, scale=standard_error)"
      ],
      "metadata": {
        "id": "AmXLKjHSS4PH"
      },
      "execution_count": 40,
      "outputs": []
    },
    {
      "cell_type": "code",
      "source": [
        "confidence_interval"
      ],
      "metadata": {
        "colab": {
          "base_uri": "https://localhost:8080/"
        },
        "id": "MrzGbbhLS4RP",
        "outputId": "5972c170-6502-47ca-ea9d-8e7f299d6144"
      },
      "execution_count": 41,
      "outputs": [
        {
          "output_type": "execute_result",
          "data": {
            "text/plain": [
              "(-1.8560720920085423, 14.471349869786348)"
            ]
          },
          "metadata": {},
          "execution_count": 41
        }
      ]
    },
    {
      "cell_type": "markdown",
      "source": [
        "#### IF 독립표본 ttest 귀무가설이 기각되었을 때 신뢰구간 측정 방법\n",
        "\n",
        "t-test 독립표본 검정에서 두 표본집단이 평균의 차이가 있다고 판단되었다는 것은 귀무가설(H0)을 기각한 것을 의미합니다. 따라서 대립가설(H1)이 채택되었으며, 두 표본집단의 평균은 서로 다르다고 주장할 수 있습니다. 이 경우 평균의 차이가 있는 신뢰구간을 구하는 방법은 다음과 같습니다.\n",
        "\n",
        "1. 독립표본 t-test를 수행한 후, t-값과 p-값을 얻습니다.\n",
        "2. p-값이 유의수준(alpha)보다 작으면 귀무가설을 기각하고 대립가설을 채택하므로, 두 표본집단의 평균은 서로 다르다고 가정합니다.\n",
        "3. 평균의 차이가 있다고 판단된다면, 두 표본집단의 평균의 차이가 0이 아니라고 가정할 수 있습니다.\n",
        "이후에는 해당 평균의 차이가 포함되는 신뢰구간을 구할 수 있습니다. 보통 신뢰수준(confidence level)을 정하고 해당 신뢰수준에 해당하는 t-분포의 임계값을 사용하여 신뢰구간을 계산합니다.\n",
        "\n",
        "**신뢰구간을 구하는 식은 독립표본 t-test 귀무가설 채택되었을 때 와 동일하여\n",
        "차이점은 이 신뢰구간은 두 집단의 평균 차이를 나타내며, 해당 신뢰구간이 0을 포함하지 않음을 의미합니다. 이것은 두 표본집단의 평균이 서로 다른 가능성이 높다는 것을 보여줍니다.**"
      ],
      "metadata": {
        "id": "ocRRqkq7aYp7"
      }
    },
    {
      "cell_type": "markdown",
      "source": [
        "##### IF 각 샘플에 대한 신뢰구간 측정 방법"
      ],
      "metadata": {
        "id": "Ryk9_8xXBWsJ"
      }
    },
    {
      "cell_type": "code",
      "source": [
        "female.values"
      ],
      "metadata": {
        "colab": {
          "base_uri": "https://localhost:8080/"
        },
        "id": "ZiCCszbXOW1M",
        "outputId": "3624b09a-628d-40f5-c97e-958dd20d5840"
      },
      "execution_count": null,
      "outputs": [
        {
          "output_type": "execute_result",
          "data": {
            "text/plain": [
              "array([ 92.7,  89.1,  81.1,  80.2,  85.3,  82.8, 108.8,  84.3, 104.9])"
            ]
          },
          "metadata": {},
          "execution_count": 16
        }
      ]
    },
    {
      "cell_type": "code",
      "source": [
        "len(female)"
      ],
      "metadata": {
        "colab": {
          "base_uri": "https://localhost:8080/"
        },
        "id": "R7Wh60mdOmXu",
        "outputId": "e6c271a6-de1d-4736-c096-7b6b6fb6fa06"
      },
      "execution_count": null,
      "outputs": [
        {
          "output_type": "execute_result",
          "data": {
            "text/plain": [
              "9"
            ]
          },
          "metadata": {},
          "execution_count": 18
        }
      ]
    },
    {
      "cell_type": "code",
      "source": [
        "#신뢰구간\n",
        "#신뢰구간 측정을 위해서 scipy.stats의\n",
        "# t.interval(신뢰도, 자유도, loc=샘플평균, scale= 샘플표준오차)를 사용하면 비교적 손쉽게 계산이 가능하다.\n",
        "from scipy.stats import t\n",
        "import numpy as np\n",
        "\n",
        "# 각 샘플에 대한 신뢰구간 측정\n",
        "def confidence_interval(sample) :\n",
        "    n=len(sample) # 샘플 사이즈\n",
        "    dof = n-1 #자유도(degree of freedom : 총 관측치 -1)\n",
        "    sample_mean = np.mean(sample) ## 표본 평균\n",
        "    sample_std= np.std(sample, ddof=1) ## 표본 표준편차\n",
        "    #파이썬에서는 표준편차를 계산할 때, 옵션으로 ddof라는 것을 사용한다.\n",
        "    #위의 코드에서 ddof=1은 표준편차를 계산할 때, n-1로 나누라는 의미이다.\n",
        "    sample_std_error = sample_std/n**0.5 # 표본 표준오차 = 표준편차/루트(샘플사이즈)\n",
        "\n",
        "    ## 신뢰구간 : stats.t.interval()\n",
        "    CI_min, CI_max= t.interval(.95, dof, loc=sample_mean, scale=sample_std_error)\n",
        "    print(CI_min, CI_max)\n",
        "\n",
        "    ## 시각화\n",
        "    ax = pd.DataFrame(sample).plot(kind=\"kde\")\n",
        "    ax.plot([CI_min, CI_min], [-0.002, 0.045])\n",
        "    ax.plot([CI_max, CI_max], [-0.002, 0.045])\n",
        "    plt.title(\"{}sampling\".format(n))\n",
        "    plt.show()\n",
        "    # 샘플 사이즈가 커질 수록 모집단의 분포와 비슷해진다.\n",
        "    # 샘플의 사이즈가 작으면 신뢰구간이 넓어지고\n",
        "    # 샘플 사이즈가 커지면 신뢰구간이 점점 좁아지는 것을 확인할 수 있다. # 정규분포 == 예쁜 종모양"
      ],
      "metadata": {
        "id": "mQ9n8eUPXAbQ"
      },
      "execution_count": null,
      "outputs": []
    },
    {
      "cell_type": "code",
      "source": [
        "confidence_interval(female.values)\n",
        "# 주황색과 초록색 의미가 뭐지? 신뢰구간이 뭐지?"
      ],
      "metadata": {
        "colab": {
          "base_uri": "https://localhost:8080/",
          "height": 471
        },
        "id": "9W-xC3KlNqoH",
        "outputId": "a806448c-3c5c-44d5-e660-fe933cd26346"
      },
      "execution_count": null,
      "outputs": [
        {
          "output_type": "stream",
          "name": "stdout",
          "text": [
            "81.91756912051609 97.9046531017061\n"
          ]
        },
        {
          "output_type": "display_data",
          "data": {
            "text/plain": [
              "<Figure size 640x480 with 1 Axes>"
            ],
            "image/png": "[encoded data removed]"
          },
          "metadata": {}
        }
      ]
    },
    {
      "cell_type": "code",
      "source": [
        "confidence_interval(male.values)"
      ],
      "metadata": {
        "colab": {
          "base_uri": "https://localhost:8080/",
          "height": 471
        },
        "id": "7t5TM_llO61F",
        "outputId": "7fa8f1a7-49a3-4060-ec82-e9012b7a559f"
      },
      "execution_count": null,
      "outputs": [
        {
          "output_type": "stream",
          "name": "stdout",
          "text": [
            "91.45648960964817 100.98101039035183\n"
          ]
        },
        {
          "output_type": "display_data",
          "data": {
            "text/plain": [
              "<Figure size 640x480 with 1 Axes>"
            ],
            "image/png": "[encoded data removed]"
          },
          "metadata": {}
        }
      ]
    },
    {
      "cell_type": "markdown",
      "source": [
        "# 문제 2 # 쌍체표본 t-test\n",
        "강의 상류와 하류의 생물 다양성 점수에 차이가 있는지 검정하시오. (단, 같은 강에서 상류와 하류는 서로 독립적이지 않으며, 종속적인 관계에 있다.)\n",
        "\n",
        "- 1 귀무가설과 대립가설을 세우시오\n",
        "- 2 검정 통계량과 유의 확률을 구하고, 연구가설 채택여부를 검정하시오."
      ],
      "metadata": {
        "id": "VgVjEJKcR81O"
      }
    },
    {
      "cell_type": "code",
      "source": [
        "import pandas as pd\n",
        "\n",
        "df= pd.read_csv('https://raw.githubusercontent.com/Datamanim/datarepo/main/adp/27/river.csv')\n",
        "df"
      ],
      "metadata": {
        "colab": {
          "base_uri": "https://localhost:8080/",
          "height": 645
        },
        "id": "8vyHm7kFSCSS",
        "outputId": "1c8f3cee-18bd-4db7-e510-76618b675496"
      },
      "execution_count": 2,
      "outputs": [
        {
          "output_type": "execute_result",
          "data": {
            "text/plain": [
              "   River    up  down\n",
              "0      A  57.1  45.7\n",
              "1      B  51.6  37.2\n",
              "2      C  53.9  53.3\n",
              "3      D  59.0  54.3\n",
              "4      E  57.5  46.3\n",
              "5      F  46.1  61.3\n",
              "6      G  53.8  42.7\n",
              "7      H  49.4  50.2\n",
              "8      I  49.6  49.1\n",
              "9      J  51.6  57.7\n",
              "10     K  50.6  57.3\n",
              "11     L  55.8  50.8\n",
              "12     M  53.0  51.9\n",
              "13     N  50.5  45.6\n",
              "14     O  51.8  40.1\n",
              "15     P  51.3  48.3\n",
              "16     Q  56.0  50.8\n",
              "17     R  49.2  56.2\n",
              "18     S  51.3  56.0"
            ],
            "text/html": [
              "\n",
              "\n",
              "  <div id=\"df-89254286-3514-41b3-a7aa-dfc0f3fe7791\">\n",
              "    <div class=\"colab-df-container\">\n",
              "      <div>\n",
              "<style scoped>\n",
              "    .dataframe tbody tr th:only-of-type {\n",
              "        vertical-align: middle;\n",
              "    }\n",
              "\n",
              "    .dataframe tbody tr th {\n",
              "        vertical-align: top;\n",
              "    }\n",
              "\n",
              "    .dataframe thead th {\n",
              "        text-align: right;\n",
              "    }\n",
              "</style>\n",
              "<table border=\"1\" class=\"dataframe\">\n",
              "  <thead>\n",
              "    <tr style=\"text-align: right;\">\n",
              "      <th></th>\n",
              "      <th>River</th>\n",
              "      <th>up</th>\n",
              "      <th>down</th>\n",
              "    </tr>\n",
              "  </thead>\n",
              "  <tbody>\n",
              "    <tr>\n",
              "      <th>0</th>\n",
              "      <td>A</td>\n",
              "      <td>57.1</td>\n",
              "      <td>45.7</td>\n",
              "    </tr>\n",
              "    <tr>\n",
              "      <th>1</th>\n",
              "      <td>B</td>\n",
              "      <td>51.6</td>\n",
              "      <td>37.2</td>\n",
              "    </tr>\n",
              "    <tr>\n",
              "      <th>2</th>\n",
              "      <td>C</td>\n",
              "      <td>53.9</td>\n",
              "      <td>53.3</td>\n",
              "    </tr>\n",
              "    <tr>\n",
              "      <th>3</th>\n",
              "      <td>D</td>\n",
              "      <td>59.0</td>\n",
              "      <td>54.3</td>\n",
              "    </tr>\n",
              "    <tr>\n",
              "      <th>4</th>\n",
              "      <td>E</td>\n",
              "      <td>57.5</td>\n",
              "      <td>46.3</td>\n",
              "    </tr>\n",
              "    <tr>\n",
              "      <th>5</th>\n",
              "      <td>F</td>\n",
              "      <td>46.1</td>\n",
              "      <td>61.3</td>\n",
              "    </tr>\n",
              "    <tr>\n",
              "      <th>6</th>\n",
              "      <td>G</td>\n",
              "      <td>53.8</td>\n",
              "      <td>42.7</td>\n",
              "    </tr>\n",
              "    <tr>\n",
              "      <th>7</th>\n",
              "      <td>H</td>\n",
              "      <td>49.4</td>\n",
              "      <td>50.2</td>\n",
              "    </tr>\n",
              "    <tr>\n",
              "      <th>8</th>\n",
              "      <td>I</td>\n",
              "      <td>49.6</td>\n",
              "      <td>49.1</td>\n",
              "    </tr>\n",
              "    <tr>\n",
              "      <th>9</th>\n",
              "      <td>J</td>\n",
              "      <td>51.6</td>\n",
              "      <td>57.7</td>\n",
              "    </tr>\n",
              "    <tr>\n",
              "      <th>10</th>\n",
              "      <td>K</td>\n",
              "      <td>50.6</td>\n",
              "      <td>57.3</td>\n",
              "    </tr>\n",
              "    <tr>\n",
              "      <th>11</th>\n",
              "      <td>L</td>\n",
              "      <td>55.8</td>\n",
              "      <td>50.8</td>\n",
              "    </tr>\n",
              "    <tr>\n",
              "      <th>12</th>\n",
              "      <td>M</td>\n",
              "      <td>53.0</td>\n",
              "      <td>51.9</td>\n",
              "    </tr>\n",
              "    <tr>\n",
              "      <th>13</th>\n",
              "      <td>N</td>\n",
              "      <td>50.5</td>\n",
              "      <td>45.6</td>\n",
              "    </tr>\n",
              "    <tr>\n",
              "      <th>14</th>\n",
              "      <td>O</td>\n",
              "      <td>51.8</td>\n",
              "      <td>40.1</td>\n",
              "    </tr>\n",
              "    <tr>\n",
              "      <th>15</th>\n",
              "      <td>P</td>\n",
              "      <td>51.3</td>\n",
              "      <td>48.3</td>\n",
              "    </tr>\n",
              "    <tr>\n",
              "      <th>16</th>\n",
              "      <td>Q</td>\n",
              "      <td>56.0</td>\n",
              "      <td>50.8</td>\n",
              "    </tr>\n",
              "    <tr>\n",
              "      <th>17</th>\n",
              "      <td>R</td>\n",
              "      <td>49.2</td>\n",
              "      <td>56.2</td>\n",
              "    </tr>\n",
              "    <tr>\n",
              "      <th>18</th>\n",
              "      <td>S</td>\n",
              "      <td>51.3</td>\n",
              "      <td>56.0</td>\n",
              "    </tr>\n",
              "  </tbody>\n",
              "</table>\n",
              "</div>\n",
              "      <button class=\"colab-df-convert\" onclick=\"convertToInteractive('df-89254286-3514-41b3-a7aa-dfc0f3fe7791')\"\n",
              "              title=\"Convert this dataframe to an interactive table.\"\n",
              "              style=\"display:none;\">\n",
              "\n",
              "  <svg xmlns=\"http://www.w3.org/2000/svg\" height=\"24px\"viewBox=\"0 0 24 24\"\n",
              "       width=\"24px\">\n",
              "    <path d=\"M0 0h24v24H0V0z\" fill=\"none\"/>\n",
              "    <path d=\"M18.56 5.44l.94 2.06.94-2.06 2.06-.94-2.06-.94-.94-2.06-.94 2.06-2.06.94zm-11 1L8.5 8.5l.94-2.06 2.06-.94-2.06-.94L8.5 2.5l-.94 2.06-2.06.94zm10 10l.94 2.06.94-2.06 2.06-.94-2.06-.94-.94-2.06-.94 2.06-2.06.94z\"/><path d=\"M17.41 7.96l-1.37-1.37c-.4-.4-.92-.59-1.43-.59-.52 0-1.04.2-1.43.59L10.3 9.45l-7.72 7.72c-.78.78-.78 2.05 0 2.83L4 21.41c.39.39.9.59 1.41.59.51 0 1.02-.2 1.41-.59l7.78-7.78 2.81-2.81c.8-.78.8-2.07 0-2.86zM5.41 20L4 18.59l7.72-7.72 1.47 1.35L5.41 20z\"/>\n",
              "  </svg>\n",
              "      </button>\n",
              "\n",
              "\n",
              "\n",
              "    <div id=\"df-8ebb43ca-b51d-4a82-be83-467ae4f30de5\">\n",
              "      <button class=\"colab-df-quickchart\" onclick=\"quickchart('df-8ebb43ca-b51d-4a82-be83-467ae4f30de5')\"\n",
              "              title=\"Suggest charts.\"\n",
              "              style=\"display:none;\">\n",
              "\n",
              "<svg xmlns=\"http://www.w3.org/2000/svg\" height=\"24px\"viewBox=\"0 0 24 24\"\n",
              "     width=\"24px\">\n",
              "    <g>\n",
              "        <path d=\"M19 3H5c-1.1 0-2 .9-2 2v14c0 1.1.9 2 2 2h14c1.1 0 2-.9 2-2V5c0-1.1-.9-2-2-2zM9 17H7v-7h2v7zm4 0h-2V7h2v10zm4 0h-2v-4h2v4z\"/>\n",
              "    </g>\n",
              "</svg>\n",
              "      </button>\n",
              "    </div>\n",
              "\n",
              "<style>\n",
              "  .colab-df-quickchart {\n",
              "    background-color: #E8F0FE;\n",
              "    border: none;\n",
              "    border-radius: 50%;\n",
              "    cursor: pointer;\n",
              "    display: none;\n",
              "    fill: #1967D2;\n",
              "    height: 32px;\n",
              "    padding: 0 0 0 0;\n",
              "    width: 32px;\n",
              "  }\n",
              "\n",
              "  .colab-df-quickchart:hover {\n",
              "    background-color: #E2EBFA;\n",
              "    box-shadow: 0px 1px 2px rgba(60, 64, 67, 0.3), 0px 1px 3px 1px rgba(60, 64, 67, 0.15);\n",
              "    fill: #174EA6;\n",
              "  }\n",
              "\n",
              "  [theme=dark] .colab-df-quickchart {\n",
              "    background-color: #3B4455;\n",
              "    fill: #D2E3FC;\n",
              "  }\n",
              "\n",
              "  [theme=dark] .colab-df-quickchart:hover {\n",
              "    background-color: #434B5C;\n",
              "    box-shadow: 0px 1px 3px 1px rgba(0, 0, 0, 0.15);\n",
              "    filter: drop-shadow(0px 1px 2px rgba(0, 0, 0, 0.3));\n",
              "    fill: #FFFFFF;\n",
              "  }\n",
              "</style>\n",
              "\n",
              "    <script>\n",
              "      async function quickchart(key) {\n",
              "        const containerElement = document.querySelector('#' + key);\n",
              "        const charts = await google.colab.kernel.invokeFunction(\n",
              "            'suggestCharts', [key], {});\n",
              "      }\n",
              "    </script>\n",
              "\n",
              "      <script>\n",
              "\n",
              "function displayQuickchartButton(domScope) {\n",
              "  let quickchartButtonEl =\n",
              "    domScope.querySelector('#df-8ebb43ca-b51d-4a82-be83-467ae4f30de5 button.colab-df-quickchart');\n",
              "  quickchartButtonEl.style.display =\n",
              "    google.colab.kernel.accessAllowed ? 'block' : 'none';\n",
              "}\n",
              "\n",
              "        displayQuickchartButton(document);\n",
              "      </script>\n",
              "      <style>\n",
              "    .colab-df-container {\n",
              "      display:flex;\n",
              "      flex-wrap:wrap;\n",
              "      gap: 12px;\n",
              "    }\n",
              "\n",
              "    .colab-df-convert {\n",
              "      background-color: #E8F0FE;\n",
              "      border: none;\n",
              "      border-radius: 50%;\n",
              "      cursor: pointer;\n",
              "      display: none;\n",
              "      fill: #1967D2;\n",
              "      height: 32px;\n",
              "      padding: 0 0 0 0;\n",
              "      width: 32px;\n",
              "    }\n",
              "\n",
              "    .colab-df-convert:hover {\n",
              "      background-color: #E2EBFA;\n",
              "      box-shadow: 0px 1px 2px rgba(60, 64, 67, 0.3), 0px 1px 3px 1px rgba(60, 64, 67, 0.15);\n",
              "      fill: #174EA6;\n",
              "    }\n",
              "\n",
              "    [theme=dark] .colab-df-convert {\n",
              "      background-color: #3B4455;\n",
              "      fill: #D2E3FC;\n",
              "    }\n",
              "\n",
              "    [theme=dark] .colab-df-convert:hover {\n",
              "      background-color: #434B5C;\n",
              "      box-shadow: 0px 1px 3px 1px rgba(0, 0, 0, 0.15);\n",
              "      filter: drop-shadow(0px 1px 2px rgba(0, 0, 0, 0.3));\n",
              "      fill: #FFFFFF;\n",
              "    }\n",
              "  </style>\n",
              "\n",
              "      <script>\n",
              "        const buttonEl =\n",
              "          document.querySelector('#df-89254286-3514-41b3-a7aa-dfc0f3fe7791 button.colab-df-convert');\n",
              "        buttonEl.style.display =\n",
              "          google.colab.kernel.accessAllowed ? 'block' : 'none';\n",
              "\n",
              "        async function convertToInteractive(key) {\n",
              "          const element = document.querySelector('#df-89254286-3514-41b3-a7aa-dfc0f3fe7791');\n",
              "          const dataTable =\n",
              "            await google.colab.kernel.invokeFunction('convertToInteractive',\n",
              "                                                     [key], {});\n",
              "          if (!dataTable) return;\n",
              "\n",
              "          const docLinkHtml = 'Like what you see? Visit the ' +\n",
              "            '<a target=\"_blank\" href=https://colab.research.google.com/notebooks/data_table.ipynb>data table notebook</a>'\n",
              "            + ' to learn more about interactive tables.';\n",
              "          element.innerHTML = '';\n",
              "          dataTable['output_type'] = 'display_data';\n",
              "          await google.colab.output.renderOutput(dataTable, element);\n",
              "          const docLink = document.createElement('div');\n",
              "          docLink.innerHTML = docLinkHtml;\n",
              "          element.appendChild(docLink);\n",
              "        }\n",
              "      </script>\n",
              "    </div>\n",
              "  </div>\n"
            ]
          },
          "metadata": {},
          "execution_count": 2
        }
      ]
    },
    {
      "cell_type": "markdown",
      "source": [
        "### 쌍체표본 t-test\n",
        "- 정의 : 실험전 집단과 실험 후 집단과 같이 동일한 표본이 두개의 서로 다른 상황에서 특정 수치형 변수의 평균이 동일한지 여부 비교(예, A통신사 고객 중 S 사의 새로운 스마트폰으로 교체한 고객들의 교체 이전과 이후 하루통화량(분) 비교)\n",
        "- 가정 : 모집단의 관측값이 정규성을 만족해야한다.분석 대상의 표본이 반드시 대응되어야 한다.\n",
        "(표본 내 같은 개체들 측정을 두번 하므로 등분산성이 자동 만족한다고 본다.)\n",
        "- * 만약, 데이터가 완전한 쌍체를 이루지 않는다면, 결측값이 존재하므로 삭제법, 표본 평균법, 단순대치법, 다중대치법, Hot-deck 대체법 등으로 결측값을 처리하여야 한다.\n",
        "\n",
        "- stats.ttest_rel(쌍체를 이루는 두 데이터 세트)\n",
        "- 귀무가설 : 두 모평균 사이의 차이는 없다.\n",
        "- 연구가설 : 두 모평균 사이의 차이가 있다."
      ],
      "metadata": {
        "id": "6OdVPofcCFf7"
      }
    },
    {
      "cell_type": "code",
      "source": [
        "# 정규성 검정\n",
        "import scipy.stats as stats\n",
        "from scipy.stats import shapiro\n",
        "\n",
        "print(stats.shapiro(df[\"up\"]),'\\n',\n",
        "stats.shapiro(df[\"down\"]))\n",
        "# 두 집단 모두 pvalue가 0.05이상으로 귀무가설을 채택하여 정규성을 만족한다고 본다."
      ],
      "metadata": {
        "id": "uD6mGZm1SEit",
        "colab": {
          "base_uri": "https://localhost:8080/"
        },
        "outputId": "1f51b712-3622-4ffb-dcb0-85366e3fffee"
      },
      "execution_count": 13,
      "outputs": [
        {
          "output_type": "stream",
          "name": "stdout",
          "text": [
            "ShapiroResult(statistic=0.9635884165763855, pvalue=0.6447699666023254) \n",
            " ShapiroResult(statistic=0.9821230173110962, pvalue=0.9640804529190063)\n"
          ]
        }
      ]
    },
    {
      "cell_type": "code",
      "source": [
        "# 정규성을 만족하므로 t-test 쌍체표본을 진행한다.\n",
        "stats.ttest_rel(df[\"up\"], df[\"down\"])\n",
        "# t-test 쌍체표본 검정확률은 약 1.29이고 유의 확률 pvalue 가 약 0.21로, 유의수준 0.05보다 크므로 귀무가설을 채택하여\n",
        "# 두 모평균 사이의 차이는 없다고 볼 수 있다.\n",
        "# 따라서 강의 상류와 강의 하류 두 집단의 차이는 없다."
      ],
      "metadata": {
        "colab": {
          "base_uri": "https://localhost:8080/"
        },
        "id": "bPXLI15iIMUj",
        "outputId": "069add14-95fc-47d7-bedd-5a253419a6c3"
      },
      "execution_count": 15,
      "outputs": [
        {
          "output_type": "execute_result",
          "data": {
            "text/plain": [
              "TtestResult(statistic=1.2922226959983891, pvalue=0.21262429174344777, df=18)"
            ]
          },
          "metadata": {},
          "execution_count": 15
        }
      ]
    },
    {
      "cell_type": "markdown",
      "source": [
        "### IF 두 개의 표본 집단이 정규분포를 따르지 않는다면\n",
        "- (+표본의 수가 30개 미만이라면) 모수적 통계분석 기법을 적용하기 어렵다.\n",
        "- wilcoxon 부호-순위 검정을 통해 쌍체표본의 분포 차이를 서열로 검정할 수 있다.\n",
        "\n",
        "\n",
        "```\n",
        "#wilcoxon 부호순위검정\n",
        "# 결측값이 있다면 대체해서 표본 수 동일하게 해야하는 로직은 같음\n",
        "# 귀무가설 : 쌍체표본간 평균 차이는 없음\n",
        "# 연구가설 : 쌍체표본간 평균 차이가 있다.\n",
        "\n",
        "stats.wilcoxon(쌍체이루는 두 데이터 세트, alternative)\n",
        "```\n",
        "\n"
      ],
      "metadata": {
        "id": "GcHhYc9NJe_X"
      }
    },
    {
      "cell_type": "markdown",
      "source": [
        "##### IF 쌍체표본 t-test의 신뢰구간"
      ],
      "metadata": {
        "id": "EmlgPjawb8KY"
      }
    },
    {
      "cell_type": "markdown",
      "source": [
        "'GPT 답변\n",
        "t-test 쌍체표본 검정(pairwise t-test 또는 paired t-test)에서 신뢰구간을 구하는 방법은 다음과 같습니다. 쌍체표본 검정은 동일한 개체 또는 단위에 대해 두 개의 관측치를 비교하는데 사용되는 검정 방법입니다.\n",
        "\n",
        "먼저, 쌍체표본의 차이(차이값)를 계산합니다. 각 개체 또는 단위에 대한 두 개의 관측치가 있다면, 두 관측치를 빼서 차이값을 구합니다.\n",
        "\n",
        "차이값들의 평균, 표준편차, 그리고 쌍체표본의 크기를 구합니다. 이때 표준편차는 차이값들의 표준편차가 아니라 차이값들의 평균의 표준편차를 사용합니다.\n",
        "\n",
        "t-분포 표를 사용하여 신뢰수준에 해당하는 t-값을 찾습니다. 보통 신뢰수준을 95%로 설정하여 95% 신뢰구간을 구합니다.\n",
        "\n",
        "구한 t-값과 쌍체표본의 크기를 사용하여 신뢰구간을 계산합니다.\n",
        "신뢰구간 = (평균 차이값 - t* × (표준편차 / √n), 평균 차이값 + t* × (표준편차 / √n))\n",
        "\n",
        "여기서 t*는 해당 신뢰수준에서의 t-분포의 임계값이며, 표준편차는 차이값들의 평균의 표준편차를 나타냅니다. n은 쌍체표본의 크기를 의미합니다.\n",
        "\n",
        "위의 단계를 따라 하여 쌍체표본 검정에서 신뢰구간을 구할 수 있습니다. 이 신뢰구간은 두 관측치의 차이의 평균이 포함된 구간을 나타내며, 해당 구간이 0을 포함하면 두 관측치의 차이가 없다는 것을 의미합니다. 따라서 신뢰구간이 0을 포함하지 않으면 두 관측치의 차이가 통계적으로 유의미하다고 할 수 있습니다."
      ],
      "metadata": {
        "id": "X9eSRXvZcAo-"
      }
    },
    {
      "cell_type": "markdown",
      "source": [
        "# 문제 3 #일표본 t-test\n",
        "한 지역의 부엉이의 수는 지난 50년 동안 기록되었고, 지난 50년 동안의 평균 수(이전의 실험에서)는 106마리로 밝혀졌다. 지난 9년 동안 카운트는 아래 표에 기록되었습니다. 그 지역에 부엉이의 수에 변화가 생겼나요?"
      ],
      "metadata": {
        "id": "LIohqibUKVyC"
      }
    },
    {
      "cell_type": "code",
      "source": [
        "import numpy as np\n",
        "owl = np.array([108, 131, 156, 113, 105, 99, 140, 123, 110])"
      ],
      "metadata": {
        "id": "U-4hYCcgIvpv"
      },
      "execution_count": 17,
      "outputs": []
    },
    {
      "cell_type": "markdown",
      "source": [
        "### 일표본 t-test\n",
        "- 정의 : 특정 수치로 알려진 모집단 평균과 주어진 표본의 평균을 비교(예, A통신사 고객 들의 하루평균통화량(분)이 60분이라고 알려진 상황에서 실제 최근 1개월간 A 통신사 고객들의 하루 평균 통화량(분) 비교)\n",
        "- 가정 : 정규성을 만족해야한다. 검증하고자 하는 기준값(모집단 평균)이 있어야 한다.\n",
        "- stats.ttest_1samp(표본데이터, 귀무가설 상의 기대값)\n",
        "- 귀무가설 : 모집단의 평균값은 *이다.\n",
        "- 연구가설 : 모집단의 평균값은 *이 아니다."
      ],
      "metadata": {
        "id": "lSh93TOyLJMj"
      }
    },
    {
      "cell_type": "code",
      "source": [
        "# 정규성 검정\n",
        "stats.shapiro(owl)\n",
        "# p-value가 0.43으로 유의수준0.05보다 크므로 귀무가설을 채택하여 정규성을 만족한다고 볼 수 있다."
      ],
      "metadata": {
        "colab": {
          "base_uri": "https://localhost:8080/"
        },
        "id": "S_NCKQN8KjqI",
        "outputId": "42d8cfdf-d1ef-4fa3-d1b3-04f12234a738"
      },
      "execution_count": 19,
      "outputs": [
        {
          "output_type": "execute_result",
          "data": {
            "text/plain": [
              "ShapiroResult(statistic=0.9238239526748657, pvalue=0.4248370826244354)"
            ]
          },
          "metadata": {},
          "execution_count": 19
        }
      ]
    },
    {
      "cell_type": "code",
      "source": [
        "# 정규성을 만족하므로 ttest 일표본 검정을 진행한다.\n",
        "stats.ttest_1samp(owl, 106)\n",
        "# pvalue가 0.047로 유의수준 보다 작으므로 귀무가설을 기각하여 모집단의 평균값은 106이 아니다라고 볼 수 있다."
      ],
      "metadata": {
        "colab": {
          "base_uri": "https://localhost:8080/"
        },
        "id": "2-8P708mMYZS",
        "outputId": "67aa86c7-cbf1-458a-f863-c2fec18868ba"
      },
      "execution_count": 20,
      "outputs": [
        {
          "output_type": "execute_result",
          "data": {
            "text/plain": [
              "TtestResult(statistic=2.341526767695357, pvalue=0.04730281429813129, df=8)"
            ]
          },
          "metadata": {},
          "execution_count": 20
        }
      ]
    },
    {
      "cell_type": "markdown",
      "source": [
        "### IF 정규분포를 따르지 않는다면\n",
        "- (+표본의 수가 30개 미만이라면) 모수적 통계분석 기법을 적용하기 어렵다.\n",
        "wilcoxon 부호-순위 검정을 통해 쌍체표본의 분포 차이를 서열로 검정할 수 있다.\n",
        "\n",
        "\n",
        "```\n",
        "# wilcoxon 부호순위검정\n",
        "# 귀무가설 : 평균값은 *이다\n",
        "# 연구가설 : 평균값은 *이 아니다\n",
        "\n",
        "stats.wilcoxon(표본데이터 - 모집단평균, alternative)\n",
        "```\n",
        "\n"
      ],
      "metadata": {
        "id": "bMow-SngND_k"
      }
    },
    {
      "cell_type": "markdown",
      "source": [
        "### IF 일표본 t-test의 신뢰구간을 구한다면"
      ],
      "metadata": {
        "id": "Ze3FeV4VZbd2"
      }
    },
    {
      "cell_type": "markdown",
      "source": [
        "##### 일표본 t-test 귀무가설 채택/기각에 따라 신뢰구간 차이\n",
        "\n",
        "'#GPT 답변\n",
        "t-test 결과, 귀무가설을 채택하게 된다면 두 표본집단의 평균은 같다고 판단됩니다. 이 경우 신뢰구간을 구하는 것은 의미가 없습니다. 왜냐하면 귀무가설을 채택했기 때문에 두 표본집단의 평균이 같다고 가정하고 검정한 결과입니다. 따라서 신뢰구간이 필요하지 않습니다.\n",
        "\n",
        "반면, t-test 결과, 귀무가설을 기각하여 대립가설을 채택한다면 두 표본집단의 평균은 같지 않다고 판단됩니다. 이 경우에는 신뢰구간을 구하는 것이 의미가 있습니다. 이 신뢰구간은 두 표본집단의 평균 차이를 나타내며, 해당 신뢰구간이 0을 포함하지 않음을 의미합니다. 이것은 두 표본집단의 평균이 서로 다를 가능성이 높다는 것을 보여줍니다.\n",
        "\n",
        "따라서**t-test 일표본 검정에서 귀무가설 채택과 기각에 따라 신뢰구간이 의미가 있는지 없는지가 결정됩니다**. 귀무가설을 채택한 경우 신뢰구간은 필요하지 않으며, 대립가설을 채택한 경우 신뢰구간이 두 집단의 평균 차이를 나타내는 중요한 정보가 됩니다."
      ],
      "metadata": {
        "id": "J4zSpW4NYup0"
      }
    },
    {
      "cell_type": "markdown",
      "source": [
        "##### IF 일표본 t-test 귀무가설이 기각되었을 때 신뢰구간\n",
        "\n",
        "'#GPT 답변\n",
        "t-test 일표본 검정에서 두 표본집단이 평균의 차이가 있다고 판단되었다는 것은 귀무가설(H0)을 기각한 것을 의미합니다. 따라서 대립가설(H1)이 채택되었으며, 두 표본집단의 평균은 서로 다르다고 주장할 수 있습니다. 이 경우 평균의 차이가 있는 신뢰구간을 구하는 방법은 다음과 같습니다.\n",
        "\n",
        "1. 일표본 t-test를 수행한 후, t-값과 p-값을 얻습니다.\n",
        "2. p-값이 유의수준(alpha)보다 작으면 귀무가설을 기각하고 대립가설을 채택하므로, 두 표본집단의 평균은 서로 다르다고 가정합니다.\n",
        "3. **평균의 차이가 있다고 판단된다면, 두 표본집단의 평균의 차이가 0이 아니라고 가정할 수 있습니다.**\n",
        "이후에는 해당 평균의 차이가 포함되는 신뢰구간을 구할 수 있습니다. 보통 신뢰수준(confidence level)을 정하고 해당 신뢰수준에 해당하는 t-분포의 임계값을 사용하여 신뢰구간을 계산합니다.\n",
        "\n",
        "신뢰수준을 95%로 설정한다면, 일반적으로 사용되는 95% 신뢰구간을 구하려면 다음과 같은 단계를 따릅니다.\n",
        "\n",
        "주어진 표본의 크기(n)와 표준편차(standard deviation, s)를 사용하여 t-값을 계산합니다. t-값은 다음과 같이 구할 수 있습니다:\n",
        "t = (표본평균 - 가설의 평균) / (s / √n)\n",
        "\n",
        "t-분포 표를 사용하여 95% 신뢰수준에 해당하는 t-값을 찾습니다. 자유도는 n-1입니다.\n",
        "\n",
        "구한 t-값과 표본평균을 사용하여 신뢰구간을 계산합니다.\n",
        "신뢰구간 = (표본평균 - t* × (s / √n), 표본평균 + t* × (s / √n))\n",
        "\n",
        "여기서 t*는 95% 신뢰수준에서의 t-분포의 임계값입니다.\n",
        "\n",
        "위의 단계를 따라 하여, 두 표본집단의 평균의 차이가 있다고 판단되었을 때, 해당 평균의 차이가 포함된 신뢰구간을 구할 수 있습니다. **이 신뢰구간은 두 집단의 평균 차이를 나타내며, 해당 신뢰구간이 0을 포함하지 않음을 의미합니다.**"
      ],
      "metadata": {
        "id": "3O8xx64kXpJB"
      }
    }
  ]
}