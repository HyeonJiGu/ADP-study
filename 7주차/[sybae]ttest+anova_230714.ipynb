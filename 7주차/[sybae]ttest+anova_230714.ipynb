{
 "cells": [
  {
   "cell_type": "markdown",
   "metadata": {},
   "source": [
    "# ANOVA"
   ]
  },
  {
   "cell_type": "code",
   "execution_count": 1,
   "metadata": {},
   "outputs": [
    {
     "name": "stdout",
     "output_type": "stream",
     "text": [
      "c:\\Users\\qotnd\\OneDrive\\바탕 화면\\ADP\\통계\\data\n"
     ]
    }
   ],
   "source": [
    "cd data"
   ]
  },
  {
   "cell_type": "code",
   "execution_count": 1,
   "metadata": {},
   "outputs": [],
   "source": [
    "import pandas as pd\n",
    "subway = pd.read_csv(\"subway.csv\", encoding = \"cp949\", index_col = 0)"
   ]
  },
  {
   "cell_type": "markdown",
   "metadata": {},
   "source": [
    "### 전처리"
   ]
  },
  {
   "cell_type": "code",
   "execution_count": 2,
   "metadata": {},
   "outputs": [
    {
     "data": {
      "text/html": [
       "<div>\n",
       "<style scoped>\n",
       "    .dataframe tbody tr th:only-of-type {\n",
       "        vertical-align: middle;\n",
       "    }\n",
       "\n",
       "    .dataframe tbody tr th {\n",
       "        vertical-align: top;\n",
       "    }\n",
       "\n",
       "    .dataframe thead th {\n",
       "        text-align: right;\n",
       "    }\n",
       "</style>\n",
       "<table border=\"1\" class=\"dataframe\">\n",
       "  <thead>\n",
       "    <tr style=\"text-align: right;\">\n",
       "      <th></th>\n",
       "      <th>사용월</th>\n",
       "      <th>호선명</th>\n",
       "      <th>지하철역</th>\n",
       "      <th>승객수</th>\n",
       "    </tr>\n",
       "  </thead>\n",
       "  <tbody>\n",
       "    <tr>\n",
       "      <th>0</th>\n",
       "      <td>202306</td>\n",
       "      <td>1호선</td>\n",
       "      <td>동대문</td>\n",
       "      <td>691929</td>\n",
       "    </tr>\n",
       "    <tr>\n",
       "      <th>1</th>\n",
       "      <td>202306</td>\n",
       "      <td>1호선</td>\n",
       "      <td>동묘앞</td>\n",
       "      <td>606251</td>\n",
       "    </tr>\n",
       "    <tr>\n",
       "      <th>2</th>\n",
       "      <td>202306</td>\n",
       "      <td>1호선</td>\n",
       "      <td>서울역</td>\n",
       "      <td>3054194</td>\n",
       "    </tr>\n",
       "    <tr>\n",
       "      <th>3</th>\n",
       "      <td>202306</td>\n",
       "      <td>1호선</td>\n",
       "      <td>시청</td>\n",
       "      <td>1486497</td>\n",
       "    </tr>\n",
       "    <tr>\n",
       "      <th>4</th>\n",
       "      <td>202306</td>\n",
       "      <td>1호선</td>\n",
       "      <td>신설동</td>\n",
       "      <td>797907</td>\n",
       "    </tr>\n",
       "    <tr>\n",
       "      <th>...</th>\n",
       "      <td>...</td>\n",
       "      <td>...</td>\n",
       "      <td>...</td>\n",
       "      <td>...</td>\n",
       "    </tr>\n",
       "    <tr>\n",
       "      <th>89</th>\n",
       "      <td>202304</td>\n",
       "      <td>3호선</td>\n",
       "      <td>종로3가</td>\n",
       "      <td>649693</td>\n",
       "    </tr>\n",
       "    <tr>\n",
       "      <th>90</th>\n",
       "      <td>202304</td>\n",
       "      <td>3호선</td>\n",
       "      <td>지축</td>\n",
       "      <td>369701</td>\n",
       "    </tr>\n",
       "    <tr>\n",
       "      <th>91</th>\n",
       "      <td>202304</td>\n",
       "      <td>3호선</td>\n",
       "      <td>충무로</td>\n",
       "      <td>49</td>\n",
       "    </tr>\n",
       "    <tr>\n",
       "      <th>92</th>\n",
       "      <td>202304</td>\n",
       "      <td>3호선</td>\n",
       "      <td>학여울</td>\n",
       "      <td>150766</td>\n",
       "    </tr>\n",
       "    <tr>\n",
       "      <th>93</th>\n",
       "      <td>202304</td>\n",
       "      <td>3호선</td>\n",
       "      <td>홍제</td>\n",
       "      <td>1054972</td>\n",
       "    </tr>\n",
       "  </tbody>\n",
       "</table>\n",
       "<p>282 rows × 4 columns</p>\n",
       "</div>"
      ],
      "text/plain": [
       "       사용월  호선명  지하철역      승객수\n",
       "0   202306  1호선   동대문   691929\n",
       "1   202306  1호선   동묘앞   606251\n",
       "2   202306  1호선   서울역  3054194\n",
       "3   202306  1호선    시청  1486497\n",
       "4   202306  1호선   신설동   797907\n",
       "..     ...  ...   ...      ...\n",
       "89  202304  3호선  종로3가   649693\n",
       "90  202304  3호선    지축   369701\n",
       "91  202304  3호선   충무로       49\n",
       "92  202304  3호선   학여울   150766\n",
       "93  202304  3호선    홍제  1054972\n",
       "\n",
       "[282 rows x 4 columns]"
      ]
     },
     "execution_count": 2,
     "metadata": {},
     "output_type": "execute_result"
    }
   ],
   "source": [
    "pd.set_option(\"display.max_row\", 100)\n",
    "subway"
   ]
  },
  {
   "cell_type": "code",
   "execution_count": 3,
   "metadata": {},
   "outputs": [
    {
     "name": "stdout",
     "output_type": "stream",
     "text": [
      "<class 'pandas.core.frame.DataFrame'>\n",
      "Int64Index: 282 entries, 0 to 93\n",
      "Data columns (total 4 columns):\n",
      " #   Column  Non-Null Count  Dtype \n",
      "---  ------  --------------  ----- \n",
      " 0   사용월     282 non-null    int64 \n",
      " 1   호선명     282 non-null    object\n",
      " 2   지하철역    282 non-null    object\n",
      " 3   승객수     282 non-null    int64 \n",
      "dtypes: int64(2), object(2)\n",
      "memory usage: 11.0+ KB\n"
     ]
    }
   ],
   "source": [
    "subway.info()"
   ]
  },
  {
   "cell_type": "markdown",
   "metadata": {},
   "source": [
    "**해야할 것**\n",
    "1. 새로운 month 컬럼 생성"
   ]
  },
  {
   "cell_type": "code",
   "execution_count": 4,
   "metadata": {},
   "outputs": [],
   "source": [
    "subway[\"month\"] = subway[\"사용월\"].map(lambda x:str(x)[4:])"
   ]
  },
  {
   "cell_type": "code",
   "execution_count": 5,
   "metadata": {},
   "outputs": [
    {
     "name": "stdout",
     "output_type": "stream",
     "text": [
      "<class 'pandas.core.frame.DataFrame'>\n",
      "Int64Index: 282 entries, 0 to 93\n",
      "Data columns (total 5 columns):\n",
      " #   Column  Non-Null Count  Dtype \n",
      "---  ------  --------------  ----- \n",
      " 0   사용월     282 non-null    int64 \n",
      " 1   호선명     282 non-null    object\n",
      " 2   지하철역    282 non-null    object\n",
      " 3   승객수     282 non-null    int64 \n",
      " 4   month   282 non-null    object\n",
      "dtypes: int64(2), object(3)\n",
      "memory usage: 13.2+ KB\n"
     ]
    }
   ],
   "source": [
    "subway.info()"
   ]
  },
  {
   "cell_type": "code",
   "execution_count": 6,
   "metadata": {},
   "outputs": [
    {
     "name": "stdout",
     "output_type": "stream",
     "text": [
      "<class 'pandas.core.frame.DataFrame'>\n",
      "Int64Index: 282 entries, 0 to 93\n",
      "Data columns (total 5 columns):\n",
      " #   Column  Non-Null Count  Dtype \n",
      "---  ------  --------------  ----- \n",
      " 0   사용월     282 non-null    int64 \n",
      " 1   호선명     282 non-null    object\n",
      " 2   지하철역    282 non-null    object\n",
      " 3   승객수     282 non-null    int64 \n",
      " 4   month   282 non-null    object\n",
      "dtypes: int64(2), object(3)\n",
      "memory usage: 13.2+ KB\n"
     ]
    }
   ],
   "source": [
    "subway.info()"
   ]
  },
  {
   "cell_type": "markdown",
   "metadata": {},
   "source": [
    "### 문제 1\n",
    "1. 월별, 호선별 두 독립변수에 대한 정규성과 등분산성을 만족하는지 확인하라."
   ]
  },
  {
   "cell_type": "markdown",
   "metadata": {},
   "source": [
    "##### 정규성 검정\n",
    "- H0(귀무가설) : 정규성을 만족한다.\n",
    "- H1(대립가설) : 정규성을 만족하지 않는다."
   ]
  },
  {
   "cell_type": "code",
   "execution_count": 7,
   "metadata": {},
   "outputs": [
    {
     "data": {
      "text/plain": [
       "06    94\n",
       "05    94\n",
       "04    94\n",
       "Name: month, dtype: int64"
      ]
     },
     "execution_count": 7,
     "metadata": {},
     "output_type": "execute_result"
    }
   ],
   "source": [
    "### 월별\n",
    "# 몇개의 월이 있는지.\n",
    "subway[\"month\"].value_counts()"
   ]
  },
  {
   "cell_type": "code",
   "execution_count": 8,
   "metadata": {},
   "outputs": [],
   "source": [
    "april = subway.loc[subway[\"month\"]==\"04\"][\"승객수\"]\n",
    "may = subway.loc[subway[\"month\"]==\"05\"][\"승객수\"]\n",
    "june = subway.loc[subway[\"month\"] ==\"06\"][\"승객수\"]"
   ]
  },
  {
   "cell_type": "code",
   "execution_count": 9,
   "metadata": {},
   "outputs": [
    {
     "name": "stdout",
     "output_type": "stream",
     "text": [
      "april의 정규성 검정 :  ShapiroResult(statistic=0.9003708958625793, pvalue=2.7476385184854735e-06)\n",
      "may의 정규성 검정 :  ShapiroResult(statistic=0.9023794531822205, pvalue=3.3991673262789845e-06)\n",
      "june의 정규성 검정 :  ShapiroResult(statistic=0.8993760347366333, pvalue=2.474935854479554e-06)\n"
     ]
    }
   ],
   "source": [
    "import scipy.stats as stats\n",
    "print(\"april의 정규성 검정 : \", stats.shapiro(april))\n",
    "print(\"may의 정규성 검정 : \", stats.shapiro(may))\n",
    "print(\"june의 정규성 검정 : \", stats.shapiro(june))"
   ]
  },
  {
   "cell_type": "markdown",
   "metadata": {},
   "source": [
    "모두 p-value가 0.05보다 작으니 유의수준 0.05하에서 귀무가설을 기각한다. 띠리서 정규성을 만족하지 않는다."
   ]
  },
  {
   "cell_type": "code",
   "execution_count": 55,
   "metadata": {},
   "outputs": [
    {
     "data": {
      "text/plain": [
       "(array([16., 25., 18., 13.,  8.,  4.,  7.,  0.,  1.,  2.]),\n",
       " array([4.9000000e+01, 4.7322450e+05, 9.4640000e+05, 1.4195755e+06,\n",
       "        1.8927510e+06, 2.3659265e+06, 2.8391020e+06, 3.3122775e+06,\n",
       "        3.7854530e+06, 4.2586285e+06, 4.7318040e+06]),\n",
       " <BarContainer object of 10 artists>)"
      ]
     },
     "execution_count": 55,
     "metadata": {},
     "output_type": "execute_result"
    },
    {
     "data": {
      "image/png": "[encoded data removed]",
      "text/plain": [
       "<Figure size 432x288 with 1 Axes>"
      ]
     },
     "metadata": {
      "needs_background": "light"
     },
     "output_type": "display_data"
    }
   ],
   "source": [
    "import matplotlib.pyplot as plt\n",
    "plt.hist(april)"
   ]
  },
  {
   "cell_type": "code",
   "execution_count": 56,
   "metadata": {},
   "outputs": [
    {
     "data": {
      "text/plain": [
       "호선명\n",
       "2호선    150\n",
       "3호선    102\n",
       "1호선     30\n",
       "Name: count, dtype: int64"
      ]
     },
     "execution_count": 56,
     "metadata": {},
     "output_type": "execute_result"
    }
   ],
   "source": [
    "## 호선\n",
    "subway[\"호선명\"].value_counts()"
   ]
  },
  {
   "cell_type": "code",
   "execution_count": 58,
   "metadata": {},
   "outputs": [],
   "source": [
    "line1 = subway.loc[subway[\"호선명\"]==\"1호선\"][\"승객수\"]\n",
    "line2 = subway.loc[subway[\"호선명\"]==\"2호선\"][\"승객수\"]\n",
    "line3 = subway.loc[subway[\"호선명\"]==\"3호선\"][\"승객수\"]"
   ]
  },
  {
   "cell_type": "code",
   "execution_count": 59,
   "metadata": {},
   "outputs": [
    {
     "name": "stdout",
     "output_type": "stream",
     "text": [
      "ShapiroResult(statistic=0.8640193343162537, pvalue=0.0012365566799417138)\n",
      "ShapiroResult(statistic=0.9226744771003723, pvalue=3.170428328758135e-07)\n",
      "ShapiroResult(statistic=0.8860750794410706, pvalue=2.6614978310135484e-07)\n"
     ]
    }
   ],
   "source": [
    "print(stats.shapiro(line1))\n",
    "print(stats.shapiro(line2))\n",
    "print(stats.shapiro(line3))"
   ]
  },
  {
   "cell_type": "markdown",
   "metadata": {},
   "source": [
    "모두 정규성을 만족하지 않는다."
   ]
  },
  {
   "cell_type": "markdown",
   "metadata": {},
   "source": [
    "##### 등분산성"
   ]
  },
  {
   "cell_type": "markdown",
   "metadata": {},
   "source": [
    "- H0(귀무가설) : 집단간 분산은 동일하다.\n",
    "- H1(대립가설) : 집단간 분산은 동일하지 않다."
   ]
  },
  {
   "cell_type": "code",
   "execution_count": 60,
   "metadata": {},
   "outputs": [
    {
     "data": {
      "text/plain": [
       "LeveneResult(statistic=0.00974518466996433, pvalue=0.9903024828420797)"
      ]
     },
     "execution_count": 60,
     "metadata": {},
     "output_type": "execute_result"
    }
   ],
   "source": [
    "### 월별\n",
    "stats.levene(april, may, june)"
   ]
  },
  {
   "cell_type": "code",
   "execution_count": 62,
   "metadata": {},
   "outputs": [
    {
     "data": {
      "text/plain": [
       "LeveneResult(statistic=10.40391714967012, pvalue=4.387236352895931e-05)"
      ]
     },
     "execution_count": 62,
     "metadata": {},
     "output_type": "execute_result"
    }
   ],
   "source": [
    "### 호선별\n",
    "stats.levene(line1, line2, line3)"
   ]
  },
  {
   "cell_type": "markdown",
   "metadata": {},
   "source": [
    "월별은 유의수준이 0.05보다 크므로 0.05 유의수준 하에서 귀무가설을 채택하여 분산이 동일하다고 볼 수 있지만, 호선별은 유의수준이 0.05보다 작아 귀무가설을 기각하여 집단간 분산이 동일하다고 볼 수 없다."
   ]
  },
  {
   "cell_type": "markdown",
   "metadata": {},
   "source": [
    "### 문제 2\n",
    "2. 두 독립변수 모두 정규성을 만족하지 않는다고 가정하고 집단 간 평균에 차이가 존재하는지 확인하라."
   ]
  },
  {
   "cell_type": "markdown",
   "metadata": {},
   "source": [
    "**월별 가정**\n",
    "- 귀무가설(H0) : 월별 승객수 평균에는 차이가 없다.\n",
    "- 대립가설(H1) : 월별 승객수 평균에는 차이가 있다."
   ]
  },
  {
   "cell_type": "code",
   "execution_count": 63,
   "metadata": {},
   "outputs": [
    {
     "data": {
      "text/plain": [
       "KruskalResult(statistic=0.10765787886691669, pvalue=0.947594188637232)"
      ]
     },
     "execution_count": 63,
     "metadata": {},
     "output_type": "execute_result"
    }
   ],
   "source": [
    "### 월별\n",
    "stats.kruskal(april, may, june)"
   ]
  },
  {
   "cell_type": "markdown",
   "metadata": {},
   "source": [
    "p-value가 0.05보다 크므로 유의수준 0.05하에서 귀무가설을 기각하지 않는다. 따라서 월별 승객수 평균에는 차이가 없다."
   ]
  },
  {
   "cell_type": "markdown",
   "metadata": {},
   "source": [
    "**호선별 가정**\n",
    "- 귀무가설(H0) : 호선별 승객수 평균에는 차이가 없다.\n",
    "- 대립가설(H1) : 호선별 승객 수 평균에는 차이가 있다."
   ]
  },
  {
   "cell_type": "code",
   "execution_count": 64,
   "metadata": {},
   "outputs": [
    {
     "data": {
      "text/plain": [
       "KruskalResult(statistic=34.938348436134106, pvalue=2.5896080336130835e-08)"
      ]
     },
     "execution_count": 64,
     "metadata": {},
     "output_type": "execute_result"
    }
   ],
   "source": [
    "stats.kruskal(line1, line2, line3)"
   ]
  },
  {
   "cell_type": "markdown",
   "metadata": {},
   "source": [
    "p-value가 0.05보다 작으므로 유의수준 0.05하에서 귀무가설을 기각한다. 따라서 호선별 승객수 평균에는 차이가 있다."
   ]
  },
  {
   "cell_type": "markdown",
   "metadata": {},
   "source": [
    "### 문제 3\n",
    "1. 호선명 독립변수가 정규성을 만족하되 등분산성을 만족하지 않는다고 가정하고 호선별 평균에 차이가 존재하는지 확인하라."
   ]
  },
  {
   "cell_type": "markdown",
   "metadata": {},
   "source": [
    "- 귀무가설(H0) : 호선별 승객수 평균은 동일하다.\n",
    "- 대립가설(H1) : 호선별 승객수 평균은 동일하지 않다."
   ]
  },
  {
   "cell_type": "code",
   "execution_count": 66,
   "metadata": {},
   "outputs": [],
   "source": [
    "import pingouin as pg"
   ]
  },
  {
   "cell_type": "code",
   "execution_count": 68,
   "metadata": {},
   "outputs": [
    {
     "data": {
      "text/html": [
       "<div>\n",
       "<style scoped>\n",
       "    .dataframe tbody tr th:only-of-type {\n",
       "        vertical-align: middle;\n",
       "    }\n",
       "\n",
       "    .dataframe tbody tr th {\n",
       "        vertical-align: top;\n",
       "    }\n",
       "\n",
       "    .dataframe thead th {\n",
       "        text-align: right;\n",
       "    }\n",
       "</style>\n",
       "<table border=\"1\" class=\"dataframe\">\n",
       "  <thead>\n",
       "    <tr style=\"text-align: right;\">\n",
       "      <th></th>\n",
       "      <th>Source</th>\n",
       "      <th>ddof1</th>\n",
       "      <th>ddof2</th>\n",
       "      <th>F</th>\n",
       "      <th>p-unc</th>\n",
       "      <th>np2</th>\n",
       "    </tr>\n",
       "  </thead>\n",
       "  <tbody>\n",
       "    <tr>\n",
       "      <th>0</th>\n",
       "      <td>호선명</td>\n",
       "      <td>2</td>\n",
       "      <td>87.178677</td>\n",
       "      <td>22.136598</td>\n",
       "      <td>1.680962e-08</td>\n",
       "      <td>0.115099</td>\n",
       "    </tr>\n",
       "  </tbody>\n",
       "</table>\n",
       "</div>"
      ],
      "text/plain": [
       "  Source  ddof1      ddof2          F         p-unc       np2\n",
       "0    호선명      2  87.178677  22.136598  1.680962e-08  0.115099"
      ]
     },
     "execution_count": 68,
     "metadata": {},
     "output_type": "execute_result"
    }
   ],
   "source": [
    "pg.welch_anova(dv = \"승객수\", between = \"호선명\", data = subway)"
   ]
  },
  {
   "cell_type": "markdown",
   "metadata": {},
   "source": [
    "p-value(p-unc)가 0.05보다 작으므로 귀무가설을 기각한다. 즉 호선별 승객수는 동일하지 않다."
   ]
  },
  {
   "cell_type": "markdown",
   "metadata": {},
   "source": [
    "### 문제 3\n",
    "- 두 독립변수가 모두 정규성과 등분산성을 만족한다고 가정하고 아래 지시를 따르라."
   ]
  },
  {
   "cell_type": "markdown",
   "metadata": {},
   "source": [
    "4-1. 교호작용 효과를 검정하라.\n",
    "\n",
    "4-2. 주효과 검정을 시행하라."
   ]
  },
  {
   "cell_type": "markdown",
   "metadata": {},
   "source": [
    "- 귀무가설1(H0) : 호선명 변수와 월별 변수의 상호작용 효과가 없다.\n",
    "- 귀무가설2(H0) : 호선별 승객수 평균에는 차이가 없다.\n",
    "- 귀무가설3(H0) : 월별 승객 수 평균에는 차이가 없다.\n",
    "- 대립가설1(H1) : 호선명 변수와 월별 변수의 상호작용 효과가 있다.\n",
    "- 대립가설2(H1) : 호선별 승객수 평균에는 차이가 있다.\n",
    "- 대립가설3(H1) : 월별 승객 수 평균에는 차이가 있다."
   ]
  },
  {
   "cell_type": "code",
   "execution_count": 70,
   "metadata": {},
   "outputs": [
    {
     "data": {
      "text/plain": [
       "Index(['사용월', '호선명', '지하철역', '승객수', 'month'], dtype='object')"
      ]
     },
     "execution_count": 70,
     "metadata": {},
     "output_type": "execute_result"
    }
   ],
   "source": [
    "subway.columns"
   ]
  },
  {
   "cell_type": "code",
   "execution_count": 21,
   "metadata": {},
   "outputs": [],
   "source": [
    "from statsmodels.formula.api import ols\n",
    "from statsmodels.stats.anova import anova_lm\n",
    "formula = '승객수~ C(호선명)+C(month)+C(호선명):C(month)'\n",
    "model = ols(formula, subway).fit()\n",
    "aov_table = anova_lm(model)"
   ]
  },
  {
   "cell_type": "code",
   "execution_count": 75,
   "metadata": {},
   "outputs": [
    {
     "data": {
      "text/html": [
       "<div>\n",
       "<style scoped>\n",
       "    .dataframe tbody tr th:only-of-type {\n",
       "        vertical-align: middle;\n",
       "    }\n",
       "\n",
       "    .dataframe tbody tr th {\n",
       "        vertical-align: top;\n",
       "    }\n",
       "\n",
       "    .dataframe thead th {\n",
       "        text-align: right;\n",
       "    }\n",
       "</style>\n",
       "<table border=\"1\" class=\"dataframe\">\n",
       "  <thead>\n",
       "    <tr style=\"text-align: right;\">\n",
       "      <th></th>\n",
       "      <th>df</th>\n",
       "      <th>sum_sq</th>\n",
       "      <th>mean_sq</th>\n",
       "      <th>F</th>\n",
       "      <th>PR(&gt;F)</th>\n",
       "    </tr>\n",
       "  </thead>\n",
       "  <tbody>\n",
       "    <tr>\n",
       "      <th>C(호선명)</th>\n",
       "      <td>2.0</td>\n",
       "      <td>3.237973e+13</td>\n",
       "      <td>1.618987e+13</td>\n",
       "      <td>17.758881</td>\n",
       "      <td>5.616396e-08</td>\n",
       "    </tr>\n",
       "    <tr>\n",
       "      <th>C(month)</th>\n",
       "      <td>2.0</td>\n",
       "      <td>5.652276e+10</td>\n",
       "      <td>2.826138e+10</td>\n",
       "      <td>0.031000</td>\n",
       "      <td>9.694787e-01</td>\n",
       "    </tr>\n",
       "    <tr>\n",
       "      <th>C(호선명):C(month)</th>\n",
       "      <td>4.0</td>\n",
       "      <td>3.341967e+09</td>\n",
       "      <td>8.354917e+08</td>\n",
       "      <td>0.000916</td>\n",
       "      <td>9.999983e-01</td>\n",
       "    </tr>\n",
       "    <tr>\n",
       "      <th>Residual</th>\n",
       "      <td>273.0</td>\n",
       "      <td>2.488802e+14</td>\n",
       "      <td>9.116490e+11</td>\n",
       "      <td>NaN</td>\n",
       "      <td>NaN</td>\n",
       "    </tr>\n",
       "  </tbody>\n",
       "</table>\n",
       "</div>"
      ],
      "text/plain": [
       "                    df        sum_sq       mean_sq          F        PR(>F)\n",
       "C(호선명)             2.0  3.237973e+13  1.618987e+13  17.758881  5.616396e-08\n",
       "C(month)           2.0  5.652276e+10  2.826138e+10   0.031000  9.694787e-01\n",
       "C(호선명):C(month)    4.0  3.341967e+09  8.354917e+08   0.000916  9.999983e-01\n",
       "Residual         273.0  2.488802e+14  9.116490e+11        NaN           NaN"
      ]
     },
     "execution_count": 75,
     "metadata": {},
     "output_type": "execute_result"
    }
   ],
   "source": [
    "aov_table"
   ]
  },
  {
   "cell_type": "markdown",
   "metadata": {},
   "source": [
    "- 호선명과 월별 상호작용 효과에 대한 결과 p-value가 9.999983e-01로 0.05보다 크므로 귀무가설을 기각하지 않는다. 따라서 호선명변수와 월별 변수간에는 교호작용이 존재하지 않는다. **두 변수가 교호작용이 존재하지 않으므로 아래 주효과검정이 의미를 갖는다.**\n",
    "- 호선명 변수를 확인한 결과 유의확률이 5.616396e-08로 0.05보다 작므므로 유의수준 0.05하에서 귀무가설을 기각하여 호선별 승객수에는 차이가 있음을 알 수 있다.\n",
    "- 월별 변수를 확인한 결과 유의확률이 9.694787e-01로 유의수준0.05보다 크므로 귀무가설이 기각되지 않는다. 따라서 월별에 따라 승객수에는 차이가 없다.\n"
   ]
  },
  {
   "cell_type": "markdown",
   "metadata": {},
   "source": [
    "4-3. 호선명에 대한 사후분석을 시행하라."
   ]
  },
  {
   "cell_type": "code",
   "execution_count": 12,
   "metadata": {},
   "outputs": [],
   "source": [
    "from statsmodels.stats.multicomp import pairwise_tukeyhsd\n",
    "from statsmodels.stats.multicomp import MultiComparison"
   ]
  },
  {
   "cell_type": "code",
   "execution_count": 15,
   "metadata": {},
   "outputs": [
    {
     "name": "stderr",
     "output_type": "stream",
     "text": [
      "C:\\Users\\qotnd\\AppData\\Local\\Packages\\PythonSoftwareFoundation.Python.3.10_qbz5n2kfra8p0\\LocalCache\\local-packages\\Python310\\site-packages\\IPython\\core\\events.py:89: UserWarning: Glyph 54840 (\\N{HANGUL SYLLABLE HO}) missing from current font.\n",
      "  func(*args, **kwargs)\n",
      "C:\\Users\\qotnd\\AppData\\Local\\Packages\\PythonSoftwareFoundation.Python.3.10_qbz5n2kfra8p0\\LocalCache\\local-packages\\Python310\\site-packages\\IPython\\core\\events.py:89: UserWarning: Glyph 49440 (\\N{HANGUL SYLLABLE SEON}) missing from current font.\n",
      "  func(*args, **kwargs)\n",
      "C:\\Users\\qotnd\\AppData\\Local\\Packages\\PythonSoftwareFoundation.Python.3.10_qbz5n2kfra8p0\\LocalCache\\local-packages\\Python310\\site-packages\\IPython\\core\\pylabtools.py:152: UserWarning: Glyph 54840 (\\N{HANGUL SYLLABLE HO}) missing from current font.\n",
      "  fig.canvas.print_figure(bytes_io, **kw)\n",
      "C:\\Users\\qotnd\\AppData\\Local\\Packages\\PythonSoftwareFoundation.Python.3.10_qbz5n2kfra8p0\\LocalCache\\local-packages\\Python310\\site-packages\\IPython\\core\\pylabtools.py:152: UserWarning: Glyph 49440 (\\N{HANGUL SYLLABLE SEON}) missing from current font.\n",
      "  fig.canvas.print_figure(bytes_io, **kw)\n"
     ]
    },
    {
     "data": {
      "image/png": "[encoded data removed]",
      "text/plain": [
       "<Figure size 1000x600 with 1 Axes>"
      ]
     },
     "metadata": {},
     "output_type": "display_data"
    }
   ],
   "source": [
    "mc = MultiComparison(data = subway[\"승객수\"], groups = subway[\"호선명\"])\n",
    "tuekeyhsd = mc.tukeyhsd(alpha = 0.05)\n",
    "fig = tuekeyhsd.plot_simultaneous()"
   ]
  },
  {
   "cell_type": "code",
   "execution_count": 16,
   "metadata": {},
   "outputs": [
    {
     "data": {
      "text/html": [
       "<table class=\"simpletable\">\n",
       "<caption>Multiple Comparison of Means - Tukey HSD, FWER=0.05</caption>\n",
       "<tr>\n",
       "  <th>group1</th> <th>group2</th>   <th>meandiff</th>    <th>p-adj</th>     <th>lower</th>         <th>upper</th>    <th>reject</th>\n",
       "</tr>\n",
       "<tr>\n",
       "    <td>1호선</td>    <td>2호선</td>    <td>231653.04</td>  <td>0.4387</td> <td>-213494.7401</td>   <td>676800.8201</td>  <td>False</td>\n",
       "</tr>\n",
       "<tr>\n",
       "    <td>1호선</td>    <td>3호선</td>  <td>-497412.0431</td> <td>0.0315</td> <td>-959687.1085</td>   <td>-35136.9778</td>  <td>True</td> \n",
       "</tr>\n",
       "<tr>\n",
       "    <td>2호선</td>    <td>3호선</td>  <td>-729065.0831</td>   <td>0.0</td>  <td>-1014711.4938</td> <td>-443418.6724</td>  <td>True</td> \n",
       "</tr>\n",
       "</table>"
      ],
      "text/latex": [
       "\\begin{center}\n",
       "\\begin{tabular}{ccccccc}\n",
       "\\toprule\n",
       "\\textbf{group1} & \\textbf{group2} & \\textbf{meandiff} & \\textbf{p-adj} & \\textbf{lower} & \\textbf{upper} & \\textbf{reject}  \\\\\n",
       "\\midrule\n",
       "      1호선       &       2호선       &     231653.04     &     0.4387     &  -213494.7401  &  676800.8201   &      False       \\\\\n",
       "      1호선       &       3호선       &    -497412.0431   &     0.0315     &  -959687.1085  &  -35136.9778   &       True       \\\\\n",
       "      2호선       &       3호선       &    -729065.0831   &      0.0       & -1014711.4938  &  -443418.6724  &       True       \\\\\n",
       "\\bottomrule\n",
       "\\end{tabular}\n",
       "%\\caption{Multiple Comparison of Means - Tukey HSD, FWER=0.05}\n",
       "\\end{center}"
      ],
      "text/plain": [
       "<class 'statsmodels.iolib.table.SimpleTable'>"
      ]
     },
     "execution_count": 16,
     "metadata": {},
     "output_type": "execute_result"
    }
   ],
   "source": [
    "tuekeyhsd.summary()"
   ]
  },
  {
   "cell_type": "markdown",
   "metadata": {},
   "source": [
    "- 1호선과 2호선은 유의확률이 0.05보다 크므로 귀무가설을 채택한다. 따라서 1, 2호선은 승객차이가 없다.\n",
    "- 1호선과 3호선, 2호선과 3호선은 모두 유의확률이 0.05보다 작으므로 귀무가설을 기각한다. 따라서, 1호선과 3호선, 2호선과 3호선은 호선별 승객의 차이가 존재한다."
   ]
  },
  {
   "cell_type": "markdown",
   "metadata": {},
   "source": [
    "### 5. Type3 anova를 시행한다면 기존코드와 어떻게 달라지는지 전후 코드를 설명하라."
   ]
  },
  {
   "cell_type": "code",
   "execution_count": 22,
   "metadata": {},
   "outputs": [],
   "source": [
    "from statsmodels.formula.api import ols\n",
    "from statsmodels.stats.anova import anova_lm\n",
    "formula = '승객수~ C(호선명)+C(month)+C(호선명):C(month)'\n",
    "model = ols(formula, subway).fit()\n",
    "aov_table_type3 = anova_lm(model, typ = 3)"
   ]
  },
  {
   "cell_type": "code",
   "execution_count": 27,
   "metadata": {},
   "outputs": [
    {
     "name": "stdout",
     "output_type": "stream",
     "text": [
      "type1\n"
     ]
    },
    {
     "data": {
      "text/html": [
       "<div>\n",
       "<style scoped>\n",
       "    .dataframe tbody tr th:only-of-type {\n",
       "        vertical-align: middle;\n",
       "    }\n",
       "\n",
       "    .dataframe tbody tr th {\n",
       "        vertical-align: top;\n",
       "    }\n",
       "\n",
       "    .dataframe thead th {\n",
       "        text-align: right;\n",
       "    }\n",
       "</style>\n",
       "<table border=\"1\" class=\"dataframe\">\n",
       "  <thead>\n",
       "    <tr style=\"text-align: right;\">\n",
       "      <th></th>\n",
       "      <th>df</th>\n",
       "      <th>sum_sq</th>\n",
       "      <th>mean_sq</th>\n",
       "      <th>F</th>\n",
       "      <th>PR(&gt;F)</th>\n",
       "    </tr>\n",
       "  </thead>\n",
       "  <tbody>\n",
       "    <tr>\n",
       "      <th>C(호선명)</th>\n",
       "      <td>2.0</td>\n",
       "      <td>3.237973e+13</td>\n",
       "      <td>1.618987e+13</td>\n",
       "      <td>17.758881</td>\n",
       "      <td>5.616396e-08</td>\n",
       "    </tr>\n",
       "    <tr>\n",
       "      <th>C(month)</th>\n",
       "      <td>2.0</td>\n",
       "      <td>5.652276e+10</td>\n",
       "      <td>2.826138e+10</td>\n",
       "      <td>0.031000</td>\n",
       "      <td>9.694787e-01</td>\n",
       "    </tr>\n",
       "    <tr>\n",
       "      <th>C(호선명):C(month)</th>\n",
       "      <td>4.0</td>\n",
       "      <td>3.341967e+09</td>\n",
       "      <td>8.354917e+08</td>\n",
       "      <td>0.000916</td>\n",
       "      <td>9.999983e-01</td>\n",
       "    </tr>\n",
       "    <tr>\n",
       "      <th>Residual</th>\n",
       "      <td>273.0</td>\n",
       "      <td>2.488802e+14</td>\n",
       "      <td>9.116490e+11</td>\n",
       "      <td>NaN</td>\n",
       "      <td>NaN</td>\n",
       "    </tr>\n",
       "  </tbody>\n",
       "</table>\n",
       "</div>"
      ],
      "text/plain": [
       "                    df        sum_sq       mean_sq          F        PR(>F)\n",
       "C(호선명)             2.0  3.237973e+13  1.618987e+13  17.758881  5.616396e-08\n",
       "C(month)           2.0  5.652276e+10  2.826138e+10   0.031000  9.694787e-01\n",
       "C(호선명):C(month)    4.0  3.341967e+09  8.354917e+08   0.000916  9.999983e-01\n",
       "Residual         273.0  2.488802e+14  9.116490e+11        NaN           NaN"
      ]
     },
     "metadata": {},
     "output_type": "display_data"
    },
    {
     "name": "stdout",
     "output_type": "stream",
     "text": [
      "\n",
      "type3\n"
     ]
    },
    {
     "data": {
      "text/html": [
       "<div>\n",
       "<style scoped>\n",
       "    .dataframe tbody tr th:only-of-type {\n",
       "        vertical-align: middle;\n",
       "    }\n",
       "\n",
       "    .dataframe tbody tr th {\n",
       "        vertical-align: top;\n",
       "    }\n",
       "\n",
       "    .dataframe thead th {\n",
       "        text-align: right;\n",
       "    }\n",
       "</style>\n",
       "<table border=\"1\" class=\"dataframe\">\n",
       "  <thead>\n",
       "    <tr style=\"text-align: right;\">\n",
       "      <th></th>\n",
       "      <th>sum_sq</th>\n",
       "      <th>df</th>\n",
       "      <th>F</th>\n",
       "      <th>PR(&gt;F)</th>\n",
       "    </tr>\n",
       "  </thead>\n",
       "  <tbody>\n",
       "    <tr>\n",
       "      <th>Intercept</th>\n",
       "      <td>1.942132e+13</td>\n",
       "      <td>1.0</td>\n",
       "      <td>21.303504</td>\n",
       "      <td>0.000006</td>\n",
       "    </tr>\n",
       "    <tr>\n",
       "      <th>C(호선명)</th>\n",
       "      <td>1.082850e+13</td>\n",
       "      <td>2.0</td>\n",
       "      <td>5.938964</td>\n",
       "      <td>0.002987</td>\n",
       "    </tr>\n",
       "    <tr>\n",
       "      <th>C(month)</th>\n",
       "      <td>1.559176e+10</td>\n",
       "      <td>2.0</td>\n",
       "      <td>0.008551</td>\n",
       "      <td>0.991485</td>\n",
       "    </tr>\n",
       "    <tr>\n",
       "      <th>C(호선명):C(month)</th>\n",
       "      <td>3.341967e+09</td>\n",
       "      <td>4.0</td>\n",
       "      <td>0.000916</td>\n",
       "      <td>0.999998</td>\n",
       "    </tr>\n",
       "    <tr>\n",
       "      <th>Residual</th>\n",
       "      <td>2.488802e+14</td>\n",
       "      <td>273.0</td>\n",
       "      <td>NaN</td>\n",
       "      <td>NaN</td>\n",
       "    </tr>\n",
       "  </tbody>\n",
       "</table>\n",
       "</div>"
      ],
      "text/plain": [
       "                       sum_sq     df          F    PR(>F)\n",
       "Intercept        1.942132e+13    1.0  21.303504  0.000006\n",
       "C(호선명)           1.082850e+13    2.0   5.938964  0.002987\n",
       "C(month)         1.559176e+10    2.0   0.008551  0.991485\n",
       "C(호선명):C(month)  3.341967e+09    4.0   0.000916  0.999998\n",
       "Residual         2.488802e+14  273.0        NaN       NaN"
      ]
     },
     "execution_count": 27,
     "metadata": {},
     "output_type": "execute_result"
    }
   ],
   "source": [
    "print(\"type1\")\n",
    "display(aov_table)\n",
    "print()\n",
    "print(\"type3\")\n",
    "\n",
    "aov_table_type3"
   ]
  },
  {
   "cell_type": "markdown",
   "metadata": {},
   "source": [
    "type3의 경우 intercept값이 존재하지만 type1의 경우 존재하지 않는다. 또한 type1은 mean_sq컬럼이 존재하지만 type3는 존재하지 않는다. 하지만 결과를 확인할 경우 typ1과 typ3의 결론이 같음을 알 수 있다."
   ]
  },
  {
   "cell_type": "markdown",
   "metadata": {},
   "source": [
    "# Ttest"
   ]
  },
  {
   "cell_type": "markdown",
   "metadata": {},
   "source": [
    "### 문제 1\n",
    "- A초등학교 남학생 16명과 여학생 9명의 혈압을 측정한 pressure.csv파일을 가지고 남녀학생의 평균 혈압에 차이가 없는지 분석하라. 단, 남학생과 여학생의 혈압 데이터는 정규분포를 따르며 등분산임을 가정한다."
   ]
  },
  {
   "cell_type": "markdown",
   "metadata": {},
   "source": [
    "1.1 연구가설과 귀무가설을 설정하라."
   ]
  },
  {
   "cell_type": "markdown",
   "metadata": {},
   "source": [
    "- 귀무가설(H0) : 남녀 학생의 평균 혈압에는 차이가 없다.\n",
    "- 대립가설(H1) : 남녀 학생의 평균 혈압에는 차이가 있다."
   ]
  },
  {
   "cell_type": "markdown",
   "metadata": {},
   "source": [
    "1.2 통계량을 구하고, 연구가설 채택여부를 기술하라."
   ]
  },
  {
   "cell_type": "code",
   "execution_count": 1,
   "metadata": {},
   "outputs": [],
   "source": [
    "import scipy.stats as stats"
   ]
  },
  {
   "cell_type": "code",
   "execution_count": 2,
   "metadata": {},
   "outputs": [
    {
     "name": "stderr",
     "output_type": "stream",
     "text": [
      "c:\\ProgramData\\Anaconda3\\lib\\site-packages\\pandas\\core\\computation\\expressions.py:20: UserWarning: Pandas requires version '2.7.3' or newer of 'numexpr' (version '2.7.1' currently installed).\n",
      "  from pandas.core.computation.check import NUMEXPR_INSTALLED\n"
     ]
    },
    {
     "data": {
      "text/html": [
       "<div>\n",
       "<style scoped>\n",
       "    .dataframe tbody tr th:only-of-type {\n",
       "        vertical-align: middle;\n",
       "    }\n",
       "\n",
       "    .dataframe tbody tr th {\n",
       "        vertical-align: top;\n",
       "    }\n",
       "\n",
       "    .dataframe thead th {\n",
       "        text-align: right;\n",
       "    }\n",
       "</style>\n",
       "<table border=\"1\" class=\"dataframe\">\n",
       "  <thead>\n",
       "    <tr style=\"text-align: right;\">\n",
       "      <th></th>\n",
       "      <th>gender</th>\n",
       "      <th>pressure</th>\n",
       "    </tr>\n",
       "  </thead>\n",
       "  <tbody>\n",
       "    <tr>\n",
       "      <th>0</th>\n",
       "      <td>male</td>\n",
       "      <td>106.8</td>\n",
       "    </tr>\n",
       "    <tr>\n",
       "      <th>1</th>\n",
       "      <td>male</td>\n",
       "      <td>100.8</td>\n",
       "    </tr>\n",
       "    <tr>\n",
       "      <th>2</th>\n",
       "      <td>male</td>\n",
       "      <td>84.5</td>\n",
       "    </tr>\n",
       "    <tr>\n",
       "      <th>3</th>\n",
       "      <td>male</td>\n",
       "      <td>104.2</td>\n",
       "    </tr>\n",
       "    <tr>\n",
       "      <th>4</th>\n",
       "      <td>male</td>\n",
       "      <td>107.0</td>\n",
       "    </tr>\n",
       "  </tbody>\n",
       "</table>\n",
       "</div>"
      ],
      "text/plain": [
       "  gender  pressure\n",
       "0   male     106.8\n",
       "1   male     100.8\n",
       "2   male      84.5\n",
       "3   male     104.2\n",
       "4   male     107.0"
      ]
     },
     "execution_count": 2,
     "metadata": {},
     "output_type": "execute_result"
    }
   ],
   "source": [
    "### 문제 데이터\n",
    "import pandas as pd\n",
    "\n",
    "df= pd.read_csv('https://raw.githubusercontent.com/Datamanim/datarepo/main/adp/26/pressure.csv')\n",
    "df.head()"
   ]
  },
  {
   "cell_type": "code",
   "execution_count": 3,
   "metadata": {},
   "outputs": [],
   "source": [
    "male = df.loc[df[\"gender\"]==\"male\"][\"pressure\"]\n",
    "female = df.loc[df[\"gender\"] == \"female\"][\"pressure\"]"
   ]
  },
  {
   "cell_type": "code",
   "execution_count": 4,
   "metadata": {},
   "outputs": [
    {
     "data": {
      "text/plain": [
       "Ttest_indResult(statistic=1.598335024574904, pvalue=0.12361716364314851)"
      ]
     },
     "execution_count": 4,
     "metadata": {},
     "output_type": "execute_result"
    }
   ],
   "source": [
    "stats.ttest_ind(male, female, equal_var = True)  ## 등분산임을 가정하므로 equal_var를 True로 설정한다."
   ]
  },
  {
   "cell_type": "markdown",
   "metadata": {},
   "source": [
    "pvalue가 0.05보다 크므로 유의수준 0.05하에서 귀무가설을 기각하지 않는다. 따라서 남녀학생의 평균 혈압에는 차이가 없다."
   ]
  },
  {
   "cell_type": "markdown",
   "metadata": {},
   "source": [
    "1.3 1.2에서 구한 검정 통계량 값을 바탕으로 신뢰구간을 구하라."
   ]
  },
  {
   "cell_type": "code",
   "execution_count": 10,
   "metadata": {},
   "outputs": [],
   "source": [
    "m1, m2 = np.mean(male), np.mean(female)\n",
    "m = m1-m2"
   ]
  },
  {
   "cell_type": "code",
   "execution_count": 11,
   "metadata": {},
   "outputs": [],
   "source": [
    "statistics = stats.ttest_ind(male, female, equal_var = True)[0]  ## 등분산임을 가정하므로 equal_var를 True로 설정한다."
   ]
  },
  {
   "cell_type": "code",
   "execution_count": 18,
   "metadata": {},
   "outputs": [
    {
     "data": {
      "text/plain": [
       "1.598335024574904"
      ]
     },
     "execution_count": 18,
     "metadata": {},
     "output_type": "execute_result"
    }
   ],
   "source": [
    "statistics"
   ]
  },
  {
   "cell_type": "code",
   "execution_count": 13,
   "metadata": {},
   "outputs": [
    {
     "data": {
      "text/plain": [
       "3.9463809476154688"
      ]
     },
     "execution_count": 13,
     "metadata": {},
     "output_type": "execute_result"
    }
   ],
   "source": [
    "sp = m/statistics\n",
    "sp"
   ]
  },
  {
   "cell_type": "code",
   "execution_count": 17,
   "metadata": {},
   "outputs": [
    {
     "data": {
      "text/plain": [
       "(96.21875, 89.9111111111111)"
      ]
     },
     "execution_count": 17,
     "metadata": {},
     "output_type": "execute_result"
    }
   ],
   "source": [
    "m1, m2"
   ]
  },
  {
   "cell_type": "code",
   "execution_count": 19,
   "metadata": {},
   "outputs": [
    {
     "data": {
      "text/plain": [
       "-2.0686576104190406"
      ]
     },
     "execution_count": 19,
     "metadata": {},
     "output_type": "execute_result"
    }
   ],
   "source": [
    "stats.t(n1+n2-2).isf(0.975)"
   ]
  },
  {
   "cell_type": "code",
   "execution_count": 25,
   "metadata": {},
   "outputs": [],
   "source": [
    "### 95%신뢰구간 생성\n",
    "n1, n2 = len(male), len(female)\n",
    "lower = (m1-m2) + stats.t(n1+n2-2).isf(0.975)*sp\n",
    "upper = (m1-m2) - stats.t(n1+n2-2).isf(0.025)*sp"
   ]
  },
  {
   "cell_type": "code",
   "execution_count": 26,
   "metadata": {},
   "outputs": [
    {
     "data": {
      "text/plain": [
       "(-1.8560720920085423, -1.856072092008544)"
      ]
     },
     "execution_count": 26,
     "metadata": {},
     "output_type": "execute_result"
    }
   ],
   "source": [
    "lower, upper"
   ]
  },
  {
   "cell_type": "code",
   "execution_count": 21,
   "metadata": {},
   "outputs": [],
   "source": [
    "## chatgpt에게 물어본 다른 풀이\n",
    "\n",
    "sample1 = male\n",
    "sample2 = female\n",
    "\n",
    "n1, n2 = len(sample1), len(sample2)\n",
    "mean1, mean2 = np.mean(sample1), np.mean(sample2)\n",
    "var1, var2 = np.var(sample1, ddof=1), np.var(sample2, ddof=1)\n",
    "pooled_var = ((n1 - 1) * var1 + (n2 - 1) * var2) / (n1 + n2 - 2)\n",
    "standard_error = np.sqrt(pooled_var * (1 / n1 + 1 / n2))\n",
    "confidence_interval = stats.t.interval(0.95, n1 + n2 - 2, loc=mean1 - mean2, scale=standard_error)"
   ]
  },
  {
   "cell_type": "code",
   "execution_count": 22,
   "metadata": {},
   "outputs": [
    {
     "data": {
      "text/plain": [
       "(-1.8560720920085405, 14.471349869786346)"
      ]
     },
     "execution_count": 22,
     "metadata": {},
     "output_type": "execute_result"
    }
   ],
   "source": [
    "confidence_interval"
   ]
  },
  {
   "cell_type": "markdown",
   "metadata": {},
   "source": [
    "### 문제 2\n",
    "-  강의 상류와 하류의 생물 다양성 점수에 차이가 있는지 검정하시오. (단, 같은 강에서 상류와 하류는 서로 독립적이지 않으며, 종속적인 관계에 있다.)"
   ]
  },
  {
   "cell_type": "markdown",
   "metadata": {},
   "source": [
    "2.1 귀무가설과 대립가설을 세우시오."
   ]
  },
  {
   "cell_type": "markdown",
   "metadata": {},
   "source": [
    "- 귀무가설(H0) : 강의 상류와 하류의 생물 다양성 점수에 차이가 없다.\n",
    "- 대립가설(H1) : 강의 상류와 하류의 생물 다양성 점수에 차이가 있다."
   ]
  },
  {
   "cell_type": "code",
   "execution_count": 6,
   "metadata": {},
   "outputs": [
    {
     "data": {
      "text/html": [
       "<div>\n",
       "<style scoped>\n",
       "    .dataframe tbody tr th:only-of-type {\n",
       "        vertical-align: middle;\n",
       "    }\n",
       "\n",
       "    .dataframe tbody tr th {\n",
       "        vertical-align: top;\n",
       "    }\n",
       "\n",
       "    .dataframe thead th {\n",
       "        text-align: right;\n",
       "    }\n",
       "</style>\n",
       "<table border=\"1\" class=\"dataframe\">\n",
       "  <thead>\n",
       "    <tr style=\"text-align: right;\">\n",
       "      <th></th>\n",
       "      <th>River</th>\n",
       "      <th>up</th>\n",
       "      <th>down</th>\n",
       "    </tr>\n",
       "  </thead>\n",
       "  <tbody>\n",
       "    <tr>\n",
       "      <th>0</th>\n",
       "      <td>A</td>\n",
       "      <td>57.1</td>\n",
       "      <td>45.7</td>\n",
       "    </tr>\n",
       "    <tr>\n",
       "      <th>1</th>\n",
       "      <td>B</td>\n",
       "      <td>51.6</td>\n",
       "      <td>37.2</td>\n",
       "    </tr>\n",
       "    <tr>\n",
       "      <th>2</th>\n",
       "      <td>C</td>\n",
       "      <td>53.9</td>\n",
       "      <td>53.3</td>\n",
       "    </tr>\n",
       "    <tr>\n",
       "      <th>3</th>\n",
       "      <td>D</td>\n",
       "      <td>59.0</td>\n",
       "      <td>54.3</td>\n",
       "    </tr>\n",
       "    <tr>\n",
       "      <th>4</th>\n",
       "      <td>E</td>\n",
       "      <td>57.5</td>\n",
       "      <td>46.3</td>\n",
       "    </tr>\n",
       "    <tr>\n",
       "      <th>5</th>\n",
       "      <td>F</td>\n",
       "      <td>46.1</td>\n",
       "      <td>61.3</td>\n",
       "    </tr>\n",
       "    <tr>\n",
       "      <th>6</th>\n",
       "      <td>G</td>\n",
       "      <td>53.8</td>\n",
       "      <td>42.7</td>\n",
       "    </tr>\n",
       "    <tr>\n",
       "      <th>7</th>\n",
       "      <td>H</td>\n",
       "      <td>49.4</td>\n",
       "      <td>50.2</td>\n",
       "    </tr>\n",
       "    <tr>\n",
       "      <th>8</th>\n",
       "      <td>I</td>\n",
       "      <td>49.6</td>\n",
       "      <td>49.1</td>\n",
       "    </tr>\n",
       "    <tr>\n",
       "      <th>9</th>\n",
       "      <td>J</td>\n",
       "      <td>51.6</td>\n",
       "      <td>57.7</td>\n",
       "    </tr>\n",
       "    <tr>\n",
       "      <th>10</th>\n",
       "      <td>K</td>\n",
       "      <td>50.6</td>\n",
       "      <td>57.3</td>\n",
       "    </tr>\n",
       "    <tr>\n",
       "      <th>11</th>\n",
       "      <td>L</td>\n",
       "      <td>55.8</td>\n",
       "      <td>50.8</td>\n",
       "    </tr>\n",
       "    <tr>\n",
       "      <th>12</th>\n",
       "      <td>M</td>\n",
       "      <td>53.0</td>\n",
       "      <td>51.9</td>\n",
       "    </tr>\n",
       "    <tr>\n",
       "      <th>13</th>\n",
       "      <td>N</td>\n",
       "      <td>50.5</td>\n",
       "      <td>45.6</td>\n",
       "    </tr>\n",
       "    <tr>\n",
       "      <th>14</th>\n",
       "      <td>O</td>\n",
       "      <td>51.8</td>\n",
       "      <td>40.1</td>\n",
       "    </tr>\n",
       "    <tr>\n",
       "      <th>15</th>\n",
       "      <td>P</td>\n",
       "      <td>51.3</td>\n",
       "      <td>48.3</td>\n",
       "    </tr>\n",
       "    <tr>\n",
       "      <th>16</th>\n",
       "      <td>Q</td>\n",
       "      <td>56.0</td>\n",
       "      <td>50.8</td>\n",
       "    </tr>\n",
       "    <tr>\n",
       "      <th>17</th>\n",
       "      <td>R</td>\n",
       "      <td>49.2</td>\n",
       "      <td>56.2</td>\n",
       "    </tr>\n",
       "    <tr>\n",
       "      <th>18</th>\n",
       "      <td>S</td>\n",
       "      <td>51.3</td>\n",
       "      <td>56.0</td>\n",
       "    </tr>\n",
       "  </tbody>\n",
       "</table>\n",
       "</div>"
      ],
      "text/plain": [
       "   River    up  down\n",
       "0      A  57.1  45.7\n",
       "1      B  51.6  37.2\n",
       "2      C  53.9  53.3\n",
       "3      D  59.0  54.3\n",
       "4      E  57.5  46.3\n",
       "5      F  46.1  61.3\n",
       "6      G  53.8  42.7\n",
       "7      H  49.4  50.2\n",
       "8      I  49.6  49.1\n",
       "9      J  51.6  57.7\n",
       "10     K  50.6  57.3\n",
       "11     L  55.8  50.8\n",
       "12     M  53.0  51.9\n",
       "13     N  50.5  45.6\n",
       "14     O  51.8  40.1\n",
       "15     P  51.3  48.3\n",
       "16     Q  56.0  50.8\n",
       "17     R  49.2  56.2\n",
       "18     S  51.3  56.0"
      ]
     },
     "execution_count": 6,
     "metadata": {},
     "output_type": "execute_result"
    }
   ],
   "source": [
    "### 문제 데이터\n",
    "import pandas as pd\n",
    "\n",
    "fish =  pd.read_csv('https://raw.githubusercontent.com/Datamanim/datarepo/main/adp/27/river.csv')\n",
    "fish"
   ]
  },
  {
   "cell_type": "markdown",
   "metadata": {},
   "source": [
    "2.2 검정통계량과 유의확률을 구하고, 연구가설 채택여부를 검정하시오."
   ]
  },
  {
   "cell_type": "code",
   "execution_count": 30,
   "metadata": {},
   "outputs": [
    {
     "name": "stdout",
     "output_type": "stream",
     "text": [
      "ShapiroResult(statistic=0.9635884165763855, pvalue=0.6447699666023254)\n",
      "ShapiroResult(statistic=0.9821230173110962, pvalue=0.9640804529190063)\n"
     ]
    }
   ],
   "source": [
    "### 정규성 검정\n",
    "print(stats.shapiro(fish[\"up\"]))\n",
    "print(stats.shapiro(fish[\"down\"]))"
   ]
  },
  {
   "cell_type": "markdown",
   "metadata": {},
   "source": [
    "모두 pvalue 가 0.05보다 크므로 귀무가설을 기각하여 정규성을 만족하는 것을 알 수 있다. 따라서 대응표본 T검정을 진행한다."
   ]
  },
  {
   "cell_type": "code",
   "execution_count": 31,
   "metadata": {},
   "outputs": [
    {
     "data": {
      "text/plain": [
       "TtestResult(statistic=1.2922226959983891, pvalue=0.21262429174344777, df=18)"
      ]
     },
     "execution_count": 31,
     "metadata": {},
     "output_type": "execute_result"
    }
   ],
   "source": [
    "stats.ttest_rel(fish[\"up\"], fish[\"down\"])"
   ]
  },
  {
   "cell_type": "markdown",
   "metadata": {},
   "source": [
    "pvalue가 0.05보다 크므로 유의수준 0.05하에서 귀무가설을 기각하지 않는다. 따라서, 강의 상류와 하류의 생물 다양성 점수에 차이가 없다고 볼 수 있다."
   ]
  },
  {
   "cell_type": "markdown",
   "metadata": {},
   "source": [
    "### 문제 3\n",
    "- 한 지역의 부엉이의 수는 지난 50년 동안 기록되었고, 지난 50년 동안의 평균 수(이전의 실험에서)는 106마리로 밝혀졌다. 지난 9년 동안 카운트는 아래 표에 기록되었습니다. 그 지역에 부엉이의 수에 변화가 생겼나요?"
   ]
  },
  {
   "cell_type": "markdown",
   "metadata": {},
   "source": [
    "- 귀무가설(H0) : 부엉이 수의 평균은 106마리이다.\n",
    "- 대립가설(H1) : 부엉이 수의 평균은 106마리가 아니다."
   ]
  },
  {
   "cell_type": "markdown",
   "metadata": {},
   "source": []
  },
  {
   "cell_type": "code",
   "execution_count": 32,
   "metadata": {},
   "outputs": [],
   "source": [
    "owl = np.array([108, 131, 156, 113, 105, 99, 140, 123, 110])"
   ]
  },
  {
   "cell_type": "code",
   "execution_count": 33,
   "metadata": {},
   "outputs": [
    {
     "name": "stdout",
     "output_type": "stream",
     "text": [
      "ShapiroResult(statistic=0.9238239526748657, pvalue=0.4248370826244354)\n"
     ]
    }
   ],
   "source": [
    "### 정규성 검정을 진행한다.\n",
    "print(stats.shapiro(owl))"
   ]
  },
  {
   "cell_type": "markdown",
   "metadata": {},
   "source": [
    "pvalue가 0.05보다 크므로 유의수준 0.05하에서 귀무가설을 기각하지 않는다. 따라서 정규성을 이루므로 일표본 t 검정을 진행한다."
   ]
  },
  {
   "cell_type": "code",
   "execution_count": 34,
   "metadata": {},
   "outputs": [
    {
     "data": {
      "text/plain": [
       "TtestResult(statistic=2.341526767695357, pvalue=0.04730281429813129, df=8)"
      ]
     },
     "execution_count": 34,
     "metadata": {},
     "output_type": "execute_result"
    }
   ],
   "source": [
    "stats.ttest_1samp(owl, 106)"
   ]
  },
  {
   "cell_type": "markdown",
   "metadata": {},
   "source": [
    "pvalue가 0.047로 0.05보다 작아 유의수준 0.05하에서 귀무가설을 기각한다. 따라서 부엉이 수의 평균은 106마리가 아니며, 값이 변했다고 볼 수 있다."
   ]
  }
 ],
 "metadata": {
  "kernelspec": {
   "display_name": "base",
   "language": "python",
   "name": "python3"
  },
  "language_info": {
   "codemirror_mode": {
    "name": "ipython",
    "version": 3
   },
   "file_extension": ".py",
   "mimetype": "text/x-python",
   "name": "python",
   "nbconvert_exporter": "python",
   "pygments_lexer": "ipython3",
   "version": "3.8.3"
  },
  "orig_nbformat": 4
 },
 "nbformat": 4,
 "nbformat_minor": 2
}
