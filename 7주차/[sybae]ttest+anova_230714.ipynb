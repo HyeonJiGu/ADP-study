{
 "cells": [
  {
   "cell_type": "markdown",
   "metadata": {},
   "source": [
    "# ANOVA"
   ]
  },
  {
   "cell_type": "code",
   "execution_count": 1,
   "metadata": {},
   "outputs": [
    {
     "name": "stdout",
     "output_type": "stream",
     "text": [
      "c:\\Users\\qotnd\\OneDrive\\바탕 화면\\ADP\\통계\\data\n"
     ]
    }
   ],
   "source": [
    "cd data"
   ]
  },
  {
   "cell_type": "code",
   "execution_count": 28,
   "metadata": {},
   "outputs": [],
   "source": [
    "import pandas as pd\n",
    "subway = pd.read_csv(\"subway.csv\", encoding = \"cp949\", index_col = 0)"
   ]
  },
  {
   "cell_type": "markdown",
   "metadata": {},
   "source": [
    "### 전처리"
   ]
  },
  {
   "cell_type": "code",
   "execution_count": 29,
   "metadata": {},
   "outputs": [
    {
     "data": {
      "text/html": [
       "<div>\n",
       "<style scoped>\n",
       "    .dataframe tbody tr th:only-of-type {\n",
       "        vertical-align: middle;\n",
       "    }\n",
       "\n",
       "    .dataframe tbody tr th {\n",
       "        vertical-align: top;\n",
       "    }\n",
       "\n",
       "    .dataframe thead th {\n",
       "        text-align: right;\n",
       "    }\n",
       "</style>\n",
       "<table border=\"1\" class=\"dataframe\">\n",
       "  <thead>\n",
       "    <tr style=\"text-align: right;\">\n",
       "      <th></th>\n",
       "      <th>사용월</th>\n",
       "      <th>호선명</th>\n",
       "      <th>지하철역</th>\n",
       "      <th>승객수</th>\n",
       "    </tr>\n",
       "  </thead>\n",
       "  <tbody>\n",
       "    <tr>\n",
       "      <th>0</th>\n",
       "      <td>202306</td>\n",
       "      <td>1호선</td>\n",
       "      <td>동대문</td>\n",
       "      <td>691929</td>\n",
       "    </tr>\n",
       "    <tr>\n",
       "      <th>1</th>\n",
       "      <td>202306</td>\n",
       "      <td>1호선</td>\n",
       "      <td>동묘앞</td>\n",
       "      <td>606251</td>\n",
       "    </tr>\n",
       "    <tr>\n",
       "      <th>2</th>\n",
       "      <td>202306</td>\n",
       "      <td>1호선</td>\n",
       "      <td>서울역</td>\n",
       "      <td>3054194</td>\n",
       "    </tr>\n",
       "    <tr>\n",
       "      <th>3</th>\n",
       "      <td>202306</td>\n",
       "      <td>1호선</td>\n",
       "      <td>시청</td>\n",
       "      <td>1486497</td>\n",
       "    </tr>\n",
       "    <tr>\n",
       "      <th>4</th>\n",
       "      <td>202306</td>\n",
       "      <td>1호선</td>\n",
       "      <td>신설동</td>\n",
       "      <td>797907</td>\n",
       "    </tr>\n",
       "    <tr>\n",
       "      <th>...</th>\n",
       "      <td>...</td>\n",
       "      <td>...</td>\n",
       "      <td>...</td>\n",
       "      <td>...</td>\n",
       "    </tr>\n",
       "    <tr>\n",
       "      <th>89</th>\n",
       "      <td>202304</td>\n",
       "      <td>3호선</td>\n",
       "      <td>종로3가</td>\n",
       "      <td>649693</td>\n",
       "    </tr>\n",
       "    <tr>\n",
       "      <th>90</th>\n",
       "      <td>202304</td>\n",
       "      <td>3호선</td>\n",
       "      <td>지축</td>\n",
       "      <td>369701</td>\n",
       "    </tr>\n",
       "    <tr>\n",
       "      <th>91</th>\n",
       "      <td>202304</td>\n",
       "      <td>3호선</td>\n",
       "      <td>충무로</td>\n",
       "      <td>49</td>\n",
       "    </tr>\n",
       "    <tr>\n",
       "      <th>92</th>\n",
       "      <td>202304</td>\n",
       "      <td>3호선</td>\n",
       "      <td>학여울</td>\n",
       "      <td>150766</td>\n",
       "    </tr>\n",
       "    <tr>\n",
       "      <th>93</th>\n",
       "      <td>202304</td>\n",
       "      <td>3호선</td>\n",
       "      <td>홍제</td>\n",
       "      <td>1054972</td>\n",
       "    </tr>\n",
       "  </tbody>\n",
       "</table>\n",
       "<p>282 rows × 4 columns</p>\n",
       "</div>"
      ],
      "text/plain": [
       "       사용월  호선명  지하철역      승객수\n",
       "0   202306  1호선   동대문   691929\n",
       "1   202306  1호선   동묘앞   606251\n",
       "2   202306  1호선   서울역  3054194\n",
       "3   202306  1호선    시청  1486497\n",
       "4   202306  1호선   신설동   797907\n",
       "..     ...  ...   ...      ...\n",
       "89  202304  3호선  종로3가   649693\n",
       "90  202304  3호선    지축   369701\n",
       "91  202304  3호선   충무로       49\n",
       "92  202304  3호선   학여울   150766\n",
       "93  202304  3호선    홍제  1054972\n",
       "\n",
       "[282 rows x 4 columns]"
      ]
     },
     "execution_count": 29,
     "metadata": {},
     "output_type": "execute_result"
    }
   ],
   "source": [
    "pd.set_option(\"display.max_row\", 100)\n",
    "subway"
   ]
  },
  {
   "cell_type": "code",
   "execution_count": 30,
   "metadata": {},
   "outputs": [
    {
     "name": "stdout",
     "output_type": "stream",
     "text": [
      "<class 'pandas.core.frame.DataFrame'>\n",
      "Index: 282 entries, 0 to 93\n",
      "Data columns (total 4 columns):\n",
      " #   Column  Non-Null Count  Dtype \n",
      "---  ------  --------------  ----- \n",
      " 0   사용월     282 non-null    int64 \n",
      " 1   호선명     282 non-null    object\n",
      " 2   지하철역    282 non-null    object\n",
      " 3   승객수     282 non-null    int64 \n",
      "dtypes: int64(2), object(2)\n",
      "memory usage: 11.0+ KB\n"
     ]
    }
   ],
   "source": [
    "subway.info()"
   ]
  },
  {
   "cell_type": "markdown",
   "metadata": {},
   "source": [
    "**해야할 것**\n",
    "1. 새로운 month 컬럼 생성"
   ]
  },
  {
   "cell_type": "code",
   "execution_count": 42,
   "metadata": {},
   "outputs": [],
   "source": [
    "subway[\"month\"] = subway[\"사용월\"].map(lambda x:str(x)[4:])"
   ]
  },
  {
   "cell_type": "code",
   "execution_count": 43,
   "metadata": {},
   "outputs": [
    {
     "name": "stdout",
     "output_type": "stream",
     "text": [
      "<class 'pandas.core.frame.DataFrame'>\n",
      "Index: 282 entries, 0 to 93\n",
      "Data columns (total 5 columns):\n",
      " #   Column  Non-Null Count  Dtype \n",
      "---  ------  --------------  ----- \n",
      " 0   사용월     282 non-null    int64 \n",
      " 1   호선명     282 non-null    object\n",
      " 2   지하철역    282 non-null    object\n",
      " 3   승객수     282 non-null    int64 \n",
      " 4   month   282 non-null    object\n",
      "dtypes: int64(2), object(3)\n",
      "memory usage: 13.2+ KB\n"
     ]
    }
   ],
   "source": [
    "subway.info()"
   ]
  },
  {
   "cell_type": "code",
   "execution_count": 46,
   "metadata": {},
   "outputs": [
    {
     "name": "stdout",
     "output_type": "stream",
     "text": [
      "<class 'pandas.core.frame.DataFrame'>\n",
      "Index: 282 entries, 0 to 93\n",
      "Data columns (total 5 columns):\n",
      " #   Column  Non-Null Count  Dtype \n",
      "---  ------  --------------  ----- \n",
      " 0   사용월     282 non-null    int64 \n",
      " 1   호선명     282 non-null    object\n",
      " 2   지하철역    282 non-null    object\n",
      " 3   승객수     282 non-null    int64 \n",
      " 4   month   282 non-null    object\n",
      "dtypes: int64(2), object(3)\n",
      "memory usage: 13.2+ KB\n"
     ]
    }
   ],
   "source": [
    "subway.info()"
   ]
  },
  {
   "cell_type": "markdown",
   "metadata": {},
   "source": [
    "### 문제 1\n",
    "1. 월별, 호선별 두 독립변수에 대한 정규성과 등분산성을 만족하는지 확인하라."
   ]
  },
  {
   "cell_type": "markdown",
   "metadata": {},
   "source": [
    "##### 정규성 검정\n",
    "- H0(귀무가설) : 정규성을 만족한다.\n",
    "- H1(대립가설) : 정규성을 만족하지 않는다."
   ]
  },
  {
   "cell_type": "code",
   "execution_count": 47,
   "metadata": {},
   "outputs": [
    {
     "data": {
      "text/plain": [
       "month\n",
       "06    94\n",
       "05    94\n",
       "04    94\n",
       "Name: count, dtype: int64"
      ]
     },
     "execution_count": 47,
     "metadata": {},
     "output_type": "execute_result"
    }
   ],
   "source": [
    "### 월별\n",
    "# 몇개의 월이 있는지.\n",
    "subway[\"month\"].value_counts()"
   ]
  },
  {
   "cell_type": "code",
   "execution_count": 50,
   "metadata": {},
   "outputs": [],
   "source": [
    "april = subway.loc[subway[\"month\"]==\"04\"][\"승객수\"]\n",
    "may = subway.loc[subway[\"month\"]==\"05\"][\"승객수\"]\n",
    "june = subway.loc[subway[\"month\"] ==\"06\"][\"승객수\"]"
   ]
  },
  {
   "cell_type": "code",
   "execution_count": 54,
   "metadata": {},
   "outputs": [
    {
     "name": "stdout",
     "output_type": "stream",
     "text": [
      "april의 정규성 검정 :  ShapiroResult(statistic=0.9003708958625793, pvalue=2.7476385184854735e-06)\n",
      "may의 정규성 검정 :  ShapiroResult(statistic=0.9023794531822205, pvalue=3.3991673262789845e-06)\n",
      "june의 정규성 검정 :  ShapiroResult(statistic=0.8993760347366333, pvalue=2.474935854479554e-06)\n"
     ]
    }
   ],
   "source": [
    "import scipy.stats as stats\n",
    "print(\"april의 정규성 검정 : \", stats.shapiro(april))\n",
    "print(\"may의 정규성 검정 : \", stats.shapiro(may))\n",
    "print(\"june의 정규성 검정 : \", stats.shapiro(june))"
   ]
  },
  {
   "cell_type": "markdown",
   "metadata": {},
   "source": [
    "모두 p-value가 0.05보다 작으니 유의수준 0.05하에서 귀무가설을 기각한다. 띠리서 정규성을 만족하지 않는다."
   ]
  },
  {
   "cell_type": "code",
   "execution_count": 55,
   "metadata": {},
   "outputs": [
    {
     "data": {
      "text/plain": [
       "(array([16., 25., 18., 13.,  8.,  4.,  7.,  0.,  1.,  2.]),\n",
       " array([4.9000000e+01, 4.7322450e+05, 9.4640000e+05, 1.4195755e+06,\n",
       "        1.8927510e+06, 2.3659265e+06, 2.8391020e+06, 3.3122775e+06,\n",
       "        3.7854530e+06, 4.2586285e+06, 4.7318040e+06]),\n",
       " <BarContainer object of 10 artists>)"
      ]
     },
     "execution_count": 55,
     "metadata": {},
     "output_type": "execute_result"
    },
    {
     "data": {
      "image/png": "[encoded data removed]",
      "text/plain": [
       "<Figure size 432x288 with 1 Axes>"
      ]
     },
     "metadata": {
      "needs_background": "light"
     },
     "output_type": "display_data"
    }
   ],
   "source": [
    "import matplotlib.pyplot as plt\n",
    "plt.hist(april)"
   ]
  },
  {
   "cell_type": "code",
   "execution_count": 56,
   "metadata": {},
   "outputs": [
    {
     "data": {
      "text/plain": [
       "호선명\n",
       "2호선    150\n",
       "3호선    102\n",
       "1호선     30\n",
       "Name: count, dtype: int64"
      ]
     },
     "execution_count": 56,
     "metadata": {},
     "output_type": "execute_result"
    }
   ],
   "source": [
    "## 호선\n",
    "subway[\"호선명\"].value_counts()"
   ]
  },
  {
   "cell_type": "code",
   "execution_count": 58,
   "metadata": {},
   "outputs": [],
   "source": [
    "line1 = subway.loc[subway[\"호선명\"]==\"1호선\"][\"승객수\"]\n",
    "line2 = subway.loc[subway[\"호선명\"]==\"2호선\"][\"승객수\"]\n",
    "line3 = subway.loc[subway[\"호선명\"]==\"3호선\"][\"승객수\"]"
   ]
  },
  {
   "cell_type": "code",
   "execution_count": 59,
   "metadata": {},
   "outputs": [
    {
     "name": "stdout",
     "output_type": "stream",
     "text": [
      "ShapiroResult(statistic=0.8640193343162537, pvalue=0.0012365566799417138)\n",
      "ShapiroResult(statistic=0.9226744771003723, pvalue=3.170428328758135e-07)\n",
      "ShapiroResult(statistic=0.8860750794410706, pvalue=2.6614978310135484e-07)\n"
     ]
    }
   ],
   "source": [
    "print(stats.shapiro(line1))\n",
    "print(stats.shapiro(line2))\n",
    "print(stats.shapiro(line3))"
   ]
  },
  {
   "cell_type": "markdown",
   "metadata": {},
   "source": [
    "모두 정규성을 만족하지 않는다."
   ]
  },
  {
   "cell_type": "markdown",
   "metadata": {},
   "source": [
    "##### 등분산성"
   ]
  },
  {
   "cell_type": "markdown",
   "metadata": {},
   "source": [
    "- H0(귀무가설) : 집단간 분산은 동일하다.\n",
    "- H1(대립가설) : 집단간 분산은 동일하지 않다."
   ]
  },
  {
   "cell_type": "code",
   "execution_count": 60,
   "metadata": {},
   "outputs": [
    {
     "data": {
      "text/plain": [
       "LeveneResult(statistic=0.00974518466996433, pvalue=0.9903024828420797)"
      ]
     },
     "execution_count": 60,
     "metadata": {},
     "output_type": "execute_result"
    }
   ],
   "source": [
    "### 월별\n",
    "stats.levene(april, may, june)"
   ]
  },
  {
   "cell_type": "code",
   "execution_count": 62,
   "metadata": {},
   "outputs": [
    {
     "data": {
      "text/plain": [
       "LeveneResult(statistic=10.40391714967012, pvalue=4.387236352895931e-05)"
      ]
     },
     "execution_count": 62,
     "metadata": {},
     "output_type": "execute_result"
    }
   ],
   "source": [
    "### 호선별\n",
    "stats.levene(line1, line2, line3)"
   ]
  },
  {
   "cell_type": "markdown",
   "metadata": {},
   "source": [
    "월별은 유의수준이 0.05보다 크므로 0.05 유의수준 하에서 귀무가설을 채택하여 분산이 동일하다고 볼 수 있지만, 호선별은 유의수준이 0.05보다 작아 귀무가설을 기각하여 집단간 분산이 동일하다고 볼 수 없다."
   ]
  },
  {
   "cell_type": "markdown",
   "metadata": {},
   "source": [
    "### 문제 2\n",
    "2. 두 독립변수 모두 정규성을 만족하지 않는다고 가정하고 집단 간 평균에 차이가 존재하는지 확인하라."
   ]
  },
  {
   "cell_type": "markdown",
   "metadata": {},
   "source": [
    "**월별 가정**\n",
    "- 귀무가설(H0) : 월별 승객수 평균에는 차이가 없다.\n",
    "- 대립가설(H1) : 월별 승객수 평균에는 차이가 있다."
   ]
  },
  {
   "cell_type": "code",
   "execution_count": 63,
   "metadata": {},
   "outputs": [
    {
     "data": {
      "text/plain": [
       "KruskalResult(statistic=0.10765787886691669, pvalue=0.947594188637232)"
      ]
     },
     "execution_count": 63,
     "metadata": {},
     "output_type": "execute_result"
    }
   ],
   "source": [
    "### 월별\n",
    "stats.kruskal(april, may, june)"
   ]
  },
  {
   "cell_type": "markdown",
   "metadata": {},
   "source": [
    "p-value가 0.05보다 크므로 유의수준 0.05하에서 귀무가설을 기각하지 않는다. 따라서 월별 승객수 평균에는 차이가 없다."
   ]
  },
  {
   "cell_type": "markdown",
   "metadata": {},
   "source": [
    "**호선별 가정**\n",
    "- 귀무가설(H0) : 호선별 승객수 평균에는 차이가 없다.\n",
    "- 대립가설(H1) : 호선별 승객 수 평균에는 차이가 있다."
   ]
  },
  {
   "cell_type": "code",
   "execution_count": 64,
   "metadata": {},
   "outputs": [
    {
     "data": {
      "text/plain": [
       "KruskalResult(statistic=34.938348436134106, pvalue=2.5896080336130835e-08)"
      ]
     },
     "execution_count": 64,
     "metadata": {},
     "output_type": "execute_result"
    }
   ],
   "source": [
    "stats.kruskal(line1, line2, line3)"
   ]
  },
  {
   "cell_type": "markdown",
   "metadata": {},
   "source": [
    "p-value가 0.05보다 작으므로 유의수준 0.05하에서 귀무가설을 기각한다. 따라서 호선별 승객수 평균에는 차이가 있다."
   ]
  },
  {
   "cell_type": "markdown",
   "metadata": {},
   "source": [
    "### 문제 3\n",
    "1. 호선명 독립변수가 정규성을 만족하되 등분산성을 만족하지 않는다고 가정하고 호선별 평균에 차이가 존재하는지 확인하라."
   ]
  },
  {
   "cell_type": "markdown",
   "metadata": {},
   "source": [
    "- 귀무가설(H0) : 호선별 승객수 평균은 동일하다.\n",
    "- 대립가설(H1) : 호선별 승객수 평균은 동일하지 않다."
   ]
  },
  {
   "cell_type": "code",
   "execution_count": 66,
   "metadata": {},
   "outputs": [],
   "source": [
    "import pingouin as pg"
   ]
  },
  {
   "cell_type": "code",
   "execution_count": 68,
   "metadata": {},
   "outputs": [
    {
     "data": {
      "text/html": [
       "<div>\n",
       "<style scoped>\n",
       "    .dataframe tbody tr th:only-of-type {\n",
       "        vertical-align: middle;\n",
       "    }\n",
       "\n",
       "    .dataframe tbody tr th {\n",
       "        vertical-align: top;\n",
       "    }\n",
       "\n",
       "    .dataframe thead th {\n",
       "        text-align: right;\n",
       "    }\n",
       "</style>\n",
       "<table border=\"1\" class=\"dataframe\">\n",
       "  <thead>\n",
       "    <tr style=\"text-align: right;\">\n",
       "      <th></th>\n",
       "      <th>Source</th>\n",
       "      <th>ddof1</th>\n",
       "      <th>ddof2</th>\n",
       "      <th>F</th>\n",
       "      <th>p-unc</th>\n",
       "      <th>np2</th>\n",
       "    </tr>\n",
       "  </thead>\n",
       "  <tbody>\n",
       "    <tr>\n",
       "      <th>0</th>\n",
       "      <td>호선명</td>\n",
       "      <td>2</td>\n",
       "      <td>87.178677</td>\n",
       "      <td>22.136598</td>\n",
       "      <td>1.680962e-08</td>\n",
       "      <td>0.115099</td>\n",
       "    </tr>\n",
       "  </tbody>\n",
       "</table>\n",
       "</div>"
      ],
      "text/plain": [
       "  Source  ddof1      ddof2          F         p-unc       np2\n",
       "0    호선명      2  87.178677  22.136598  1.680962e-08  0.115099"
      ]
     },
     "execution_count": 68,
     "metadata": {},
     "output_type": "execute_result"
    }
   ],
   "source": [
    "pg.welch_anova(dv = \"승객수\", between = \"호선명\", data = subway)"
   ]
  },
  {
   "cell_type": "markdown",
   "metadata": {},
   "source": [
    "p-value(p-unc)가 0.05보다 작으므로 귀무가설을 기각한다. 즉 호선별 승객수는 동일하지 않다."
   ]
  },
  {
   "cell_type": "markdown",
   "metadata": {},
   "source": [
    "### 문제 3\n",
    "- 두 독립변수가 모두 정규성과 등분산성을 만족한다고 가정하고 아래 지시를 따르라."
   ]
  },
  {
   "cell_type": "markdown",
   "metadata": {},
   "source": [
    "4-1. 교호작용 효과를 검정하라.\n",
    "\n",
    "4-2. 주효과 검정을 시행하라."
   ]
  },
  {
   "cell_type": "markdown",
   "metadata": {},
   "source": [
    "- 귀무가설1(H0) : 호선명 변수와 월별 변수의 상호작용 효과가 없다.\n",
    "- 귀무가설2(H0) : 호선별 승객수 평균에는 차이가 없다.\n",
    "- 귀무가설3(H0) : 월별 승객 수 평균에는 차이가 없다.\n",
    "- 대립가설1(H1) : 호선명 변수와 월별 변수의 상호작용 효과가 있다.\n",
    "- 대립가설2(H1) : 호선별 승객수 평균에는 차이가 있다.\n",
    "- 대립가설3(H1) : 월별 승객 수 평균에는 차이가 있다."
   ]
  },
  {
   "cell_type": "code",
   "execution_count": 70,
   "metadata": {},
   "outputs": [
    {
     "data": {
      "text/plain": [
       "Index(['사용월', '호선명', '지하철역', '승객수', 'month'], dtype='object')"
      ]
     },
     "execution_count": 70,
     "metadata": {},
     "output_type": "execute_result"
    }
   ],
   "source": [
    "subway.columns"
   ]
  },
  {
   "cell_type": "code",
   "execution_count": 74,
   "metadata": {},
   "outputs": [],
   "source": [
    "from statsmodels.formula.api import ols\n",
    "from statsmodels.stats.anova import anova_lm\n",
    "formula = '승객수~ C(호선명)+C(month)+C(호선명):C(month)'\n",
    "model = ols(formula, subway).fit()\n",
    "aov_table = anova_lm(model)"
   ]
  },
  {
   "cell_type": "code",
   "execution_count": 75,
   "metadata": {},
   "outputs": [
    {
     "data": {
      "text/html": [
       "<div>\n",
       "<style scoped>\n",
       "    .dataframe tbody tr th:only-of-type {\n",
       "        vertical-align: middle;\n",
       "    }\n",
       "\n",
       "    .dataframe tbody tr th {\n",
       "        vertical-align: top;\n",
       "    }\n",
       "\n",
       "    .dataframe thead th {\n",
       "        text-align: right;\n",
       "    }\n",
       "</style>\n",
       "<table border=\"1\" class=\"dataframe\">\n",
       "  <thead>\n",
       "    <tr style=\"text-align: right;\">\n",
       "      <th></th>\n",
       "      <th>df</th>\n",
       "      <th>sum_sq</th>\n",
       "      <th>mean_sq</th>\n",
       "      <th>F</th>\n",
       "      <th>PR(&gt;F)</th>\n",
       "    </tr>\n",
       "  </thead>\n",
       "  <tbody>\n",
       "    <tr>\n",
       "      <th>C(호선명)</th>\n",
       "      <td>2.0</td>\n",
       "      <td>3.237973e+13</td>\n",
       "      <td>1.618987e+13</td>\n",
       "      <td>17.758881</td>\n",
       "      <td>5.616396e-08</td>\n",
       "    </tr>\n",
       "    <tr>\n",
       "      <th>C(month)</th>\n",
       "      <td>2.0</td>\n",
       "      <td>5.652276e+10</td>\n",
       "      <td>2.826138e+10</td>\n",
       "      <td>0.031000</td>\n",
       "      <td>9.694787e-01</td>\n",
       "    </tr>\n",
       "    <tr>\n",
       "      <th>C(호선명):C(month)</th>\n",
       "      <td>4.0</td>\n",
       "      <td>3.341967e+09</td>\n",
       "      <td>8.354917e+08</td>\n",
       "      <td>0.000916</td>\n",
       "      <td>9.999983e-01</td>\n",
       "    </tr>\n",
       "    <tr>\n",
       "      <th>Residual</th>\n",
       "      <td>273.0</td>\n",
       "      <td>2.488802e+14</td>\n",
       "      <td>9.116490e+11</td>\n",
       "      <td>NaN</td>\n",
       "      <td>NaN</td>\n",
       "    </tr>\n",
       "  </tbody>\n",
       "</table>\n",
       "</div>"
      ],
      "text/plain": [
       "                    df        sum_sq       mean_sq          F        PR(>F)\n",
       "C(호선명)             2.0  3.237973e+13  1.618987e+13  17.758881  5.616396e-08\n",
       "C(month)           2.0  5.652276e+10  2.826138e+10   0.031000  9.694787e-01\n",
       "C(호선명):C(month)    4.0  3.341967e+09  8.354917e+08   0.000916  9.999983e-01\n",
       "Residual         273.0  2.488802e+14  9.116490e+11        NaN           NaN"
      ]
     },
     "execution_count": 75,
     "metadata": {},
     "output_type": "execute_result"
    }
   ],
   "source": [
    "aov_table"
   ]
  },
  {
   "cell_type": "markdown",
   "metadata": {},
   "source": [
    "- 호선명과 월별 상호작용 효과에 대한 결과 p-value가 9.999983e-01로 0.05보다 크므로 귀무가설을 기각하지 않는다. 따라서 호선명변수와 월별 변수간에는 교호작용이 존재하지 않는다. **두 변수가 교호작용이 존재하지 않으므로 아래 주효과검정이 의미를 갖는다.**\n",
    "- 호선명 변수를 확인한 결과 유의확률이 5.616396e-08로 0.05보다 작므므로 유의수준 0.05하에서 귀무가설을 기각하여 호선별 승객수에는 차이가 있음을 알 수 있다.\n",
    "- 월별 변수를 확인한 결과 유의확률이 9.694787e-01로 유의수준0.05보다 크므로 귀무가설이 기각되지 않는다. 따라서 월별에 따라 승객수에는 차이가 없다.\n"
   ]
  },
  {
   "cell_type": "code",
   "execution_count": null,
   "metadata": {},
   "outputs": [],
   "source": []
  },
  {
   "cell_type": "code",
   "execution_count": null,
   "metadata": {},
   "outputs": [],
   "source": []
  },
  {
   "cell_type": "code",
   "execution_count": null,
   "metadata": {},
   "outputs": [],
   "source": []
  },
  {
   "cell_type": "code",
   "execution_count": null,
   "metadata": {},
   "outputs": [],
   "source": []
  },
  {
   "cell_type": "code",
   "execution_count": null,
   "metadata": {},
   "outputs": [],
   "source": []
  }
 ],
 "metadata": {
  "kernelspec": {
   "display_name": "base",
   "language": "python",
   "name": "python3"
  },
  "language_info": {
   "codemirror_mode": {
    "name": "ipython",
    "version": 3
   },
   "file_extension": ".py",
   "mimetype": "text/x-python",
   "name": "python",
   "nbconvert_exporter": "python",
   "pygments_lexer": "ipython3",
   "version": "3.8.3"
  },
  "orig_nbformat": 4
 },
 "nbformat": 4,
 "nbformat_minor": 2
}
