{
  "nbformat": 4,
  "nbformat_minor": 0,
  "metadata": {
    "colab": {
      "provenance": [],
      "toc_visible": true
    },
    "kernelspec": {
      "name": "python3",
      "display_name": "Python 3"
    },
    "language_info": {
      "name": "python"
    }
  },
  "cells": [
    {
      "cell_type": "markdown",
      "source": [
        "# 문제 1\n",
        "\n",
        "> 상품 a와 b가 있을 때 다음과 같은 구매 패턴이 있다고 한다.\n",
        "- 구매 패턴으로 볼 떄 두 상품이 연관이 있는지 가설을 세우고 검정하시오\n",
        "- 가설을 채택하시오\n",
        "\n",
        "- 해당 문제는 명목 척도로만 측정된 데이터라서 일부 제한된 분석기범이나 관련된 비모수 통계분석을 적용하는 것이 바람직하다.\n",
        "- 해당 문제는 표본의 배열이 무작위로 구성되어 있는지 검정하는 것이다.\n",
        "- 이를 검정하는 방법으로는 RUN 검정이 있다.\n"
      ],
      "metadata": {
        "id": "PsOoSuAICkYW"
      }
    },
    {
      "cell_type": "markdown",
      "source": [
        "## RUN 검정\n",
        "\n",
        "- 정의 : 런(RUN) 검정이란 관측치들이 무작위로 추출되었는지의 여부를 판단하는 비모수 통계분석 방법이다.\n",
        "- 확률에서 정의 : 즉, 모집단에서 표본을 추출할 때 하나의 표본이 선택될 확률이 다른 표본이 선택될 확률과 동일한지를 검정하는 방법\n",
        "- 방법 : 동일한 관측치가 연달아 생기는 경우('런')을 파악하고 1) 런의 평균과 표준편차 또는 2) 런 크기의 중위수 를 이용하는 방법이 있다.\n",
        "- 코드 : Runs(분석할 데이터).run_test() # 결과 출력\n",
        "- 예1) 한 대학 강의실에서 학생들의 평균 시력을 측정하기위해 무작위 10명을 추출한 결과 안경을 착용한 학생과 안경을 착용하지 않은 학생이 무작위로 추출되었는지를 검정\n",
        "- 예2) 매장 오픈 후 최초 20명의 방문이력을 조사한 결과 멤버십을 소지한 사람과 소지하지 않은 사람의 방문이력을 확인해 마케팅 행사가 공정하게 이루어졌는지 판단하고자 하는 검정\n",
        "- 귀무가설 : a와 b간 구매된 패턴은 무작위로 이루어졌다.\n",
        "- 연구가설 : a와 b간 구매된 패턴은 무작위로 이루어지지 않았다."
      ],
      "metadata": {
        "id": "k2OmLYksE7Hn"
      }
    },
    {
      "cell_type": "code",
      "execution_count": null,
      "metadata": {
        "colab": {
          "base_uri": "https://localhost:8080/"
        },
        "id": "2ktu5BVQCfPw",
        "outputId": "aa88c986-b8bb-4253-9ea2-b1eed6582977"
      },
      "outputs": [
        {
          "output_type": "execute_result",
          "data": {
            "text/plain": [
              "['a',\n",
              " 'a',\n",
              " 'b',\n",
              " 'b',\n",
              " 'a',\n",
              " 'a',\n",
              " 'a',\n",
              " 'a',\n",
              " 'b',\n",
              " 'b',\n",
              " 'b',\n",
              " 'b',\n",
              " 'b',\n",
              " 'a',\n",
              " 'a',\n",
              " 'b',\n",
              " 'b',\n",
              " 'a',\n",
              " 'b',\n",
              " 'b']"
            ]
          },
          "metadata": {},
          "execution_count": 10
        }
      ],
      "source": [
        "from statsmodels.sandbox.stats.runs import Runs\n",
        "import numpy as np\n",
        "\n",
        "x1 = \"a a b b a a a a b b b b b a a b b a b b\".split(\" \") # 오,,, 이렇게 쉽게 리스트를 작성하는 방법이 있다니\n",
        "x1"
      ]
    },
    {
      "cell_type": "code",
      "source": [
        "#RUNS() 함수의 데이터는 이진데이터여야 하므로 0,1로 변경하여주겠다.\n",
        "x2 = ' '.join(x1).replace('a', '0').replace('b', '1').split(\" \")\n",
        "\n",
        "#리스트 안 문자를 숫자로\n",
        "#x2 = np.array(list((map(int, x2))))\n",
        "x2 = np.array([int(i) for i in x2])\n",
        "\n",
        "x2"
      ],
      "metadata": {
        "colab": {
          "base_uri": "https://localhost:8080/"
        },
        "id": "0dfJcuCvHrxm",
        "outputId": "c83c2c15-6fcf-4d33-b307-3d8a3ffe2cc3"
      },
      "execution_count": null,
      "outputs": [
        {
          "output_type": "execute_result",
          "data": {
            "text/plain": [
              "array([0, 0, 1, 1, 0, 0, 0, 0, 1, 1, 1, 1, 1, 0, 0, 1, 1, 0, 1, 1])"
            ]
          },
          "metadata": {},
          "execution_count": 27
        }
      ]
    },
    {
      "cell_type": "code",
      "source": [
        "Runs(x2).runs_test()\n",
        "# 코드 실행 결과 z 값은 -1.1145, p 값은 0.265(양층검정)로 출력되었다."
      ],
      "metadata": {
        "colab": {
          "base_uri": "https://localhost:8080/"
        },
        "id": "4R3LmpNKHUPq",
        "outputId": "c18a9a34-bcd9-4212-db14-01a13004a519"
      },
      "execution_count": null,
      "outputs": [
        {
          "output_type": "execute_result",
          "data": {
            "text/plain": [
              "(-1.1144881152070183, 0.26506984027306035)"
            ]
          },
          "metadata": {},
          "execution_count": 28
        }
      ]
    },
    {
      "cell_type": "code",
      "source": [
        "#런 검정 결과 양측검정 p 값이 0.265(단측검정 0.133)로 도출됨으로써 유의수준 0.05 수준에서 유의하지 않다.\n",
        "\n",
        "'''\n",
        "양측겁정 p 값과 비교하는 유의수준도 양측검정으로 비교해야함.\n",
        "단측검정 p값과 비교하는 유의수준은 단측검정으로 비교해야함.\n",
        "\n",
        "유의수준은 기각역 전체의 넓이를 의미합니다.\n",
        "5%가 양쪽으로 나눠지더라도 기각역 전체 넓이는 여전히 5%입니다.\n",
        "비교는 단측검정 p값과 2.5%와 비교하여 기각 여부를 결정합니다.\n",
        "p값이 0.02가 나왔다면 0.025와 비교하면 됩니다.\n",
        "\n",
        "다만 여기서는 양측검정 값으로 나왔다고 하는 걸 보면\n",
        "편의상 0.05와 비교할 수 있도록 한 것이며,\n",
        "이말은 즉슨\n",
        "다른 검정도 다를바없이 p-value default로 양측검정 값으로 생각됨.\n",
        "'''\n",
        "\n",
        "#따라서, a와 b간 구매패턴이 무작위적으로 이루어졌다는 귀무가설을 기각하지 않는다. 연구가설을 채택한다.\n",
        "#만약, 귀무가설을 기각했다고 한다면, 어떤 이유인지 모르지만 구매가 무언가에 의해\n",
        "#영향을 받아 조작 또는 변형 또는 제약이 있었다고 의심해볼 수 있다."
      ],
      "metadata": {
        "id": "tL89M4R5HfRn"
      },
      "execution_count": null,
      "outputs": []
    },
    {
      "cell_type": "markdown",
      "source": [
        "# 문제 2\n",
        "> T여행사는 최근 개발한 북극탐험 여행 피키지 상품에 대한 만족도를 조사하기 위해 40명의 참가고객들을 대상으로 설문을 응답 받았다. 100점 만점으로 평가한 고객만족도 점수는 아래(x값)과 같다. T여행사는 다양한 마케팅 가설검증을 하기에 앞서 우선 이 고객 설문 결과가 기존의 고객 만족도 설문 결과와 같이 정규분포성을 띄는지 확인하려고 한다.\n",
        "- 귀무가설 및 대립가설을 작성하시오.\n",
        "- 검정통계량을 도출하고 가설 채택 여부를 기술하시오.\n",
        "- 만약 가정한 분포가 지수분포일 때의 검정통계량 및 pvalue를 도출하시오."
      ],
      "metadata": {
        "id": "zeREKZRHLetP"
      }
    },
    {
      "cell_type": "markdown",
      "source": [
        "## Kolmogorov-Smirnov 검정(단일표본)\n",
        "- 정의 : kolmogorov=smilrnov 검정은 표본의 분포가 가정한 분포와 적합한지 검정\n",
        "- 방법 : 관측된 자료의 크기를 나열한 후 각 관측치들의 누적확률을 가정된 분포의 누적확률과 바교함으로써 검정하며, 두 누적확률의 차이의 최대값이 임계치보다 작을 경우 표본은 가정한 분포의 모집단에서 추출되었다고 할 수 있다.\n",
        "- 코드 : ktest_normal(분석할 데이터, dist= 'norm' 또는 'exp' # 검정할 분포) # norm 정규분포, exp 지수분포\n",
        "- 귀무가설 : T여행사의 고객들의 고객만족도 점수는 기존 분포(여기서는, 정규분포)를 따른다.\n",
        "- 연구가설 : T여행사의 고객들의 고객만족도 점수는 기존 분포(여기서는, 정규분포)를 따르지 않는다."
      ],
      "metadata": {
        "id": "tLjXXfseMZOX"
      }
    },
    {
      "cell_type": "code",
      "source": [
        "z1=[88,75,79,84,68,51,70,75,88,90,92,88,63,72,94,80,78,98,81,67,85,87,79,81,85,48,79,86,53,100,87,80,80,32,60,75,62,82,40,57]\n",
        "len(z1)"
      ],
      "metadata": {
        "colab": {
          "base_uri": "https://localhost:8080/"
        },
        "id": "vV_6pGI6Lo0I",
        "outputId": "5c35e660-465c-42f5-ce16-41f142ea1eec"
      },
      "execution_count": null,
      "outputs": [
        {
          "output_type": "execute_result",
          "data": {
            "text/plain": [
              "40"
            ]
          },
          "metadata": {},
          "execution_count": 34
        }
      ]
    },
    {
      "cell_type": "code",
      "source": [
        "from statsmodels.stats.diagnostic import kstest_normal\n",
        "\n",
        "z2= np.array(z1)\n",
        "kstest_normal(z2, dist='norm')\n",
        "#검정통계량이 0.165, p값은 0.007로출력되었다."
      ],
      "metadata": {
        "colab": {
          "base_uri": "https://localhost:8080/"
        },
        "id": "QCHGjWEpLvMl",
        "outputId": "8074492c-9c54-4e96-84de-e43c55c100fb"
      },
      "execution_count": null,
      "outputs": [
        {
          "output_type": "execute_result",
          "data": {
            "text/plain": [
              "(0.16508249090030575, 0.007856999983881514)"
            ]
          },
          "metadata": {},
          "execution_count": 36
        }
      ]
    },
    {
      "cell_type": "code",
      "source": [
        "#유의수준 0.0078로 유의수준 0.05보다 작게 나타나서 귀무가설을 기각하고 연구가설을 채택한다.\n",
        "#따라서, T 여행사의 이번 북극탐험 여행 패키지에 대한 고객만족도는 일반적인 정규분포를 따르지 않는다고 볼 수 있다.\n",
        "#이 결과를 바탕으로 T 여행사의 CRM 팀원들은 기존의 모수적 통계기법을 사용하기 보다\n",
        "#정규분포를 가정하지 않은 상태에서 진행할 수 있는 비모수 통계분석 기법을 활용하여 자사에 필요한 마케팅 인사이트를 도출해야한다."
      ],
      "metadata": {
        "id": "ss5IzUwXNwVd"
      },
      "execution_count": null,
      "outputs": []
    },
    {
      "cell_type": "markdown",
      "source": [
        "# 문제 3\n",
        "\n",
        "> A초등학교 남학생 16명과 여학생 9명의 혈압을 측정한 pressure.csv파일을 가지고 남녀학생의 평균 혈압에 차이가 없는지 분석하라.\n",
        "- 유의수준 0.1하에서 정규성 검정을 진행하시오.\n",
        "- 연구가설과 귀무가설을 설정하시오.\n",
        "- 통계량을 구하고, 유의수준 0.05하에서 연구가설 채택 여부를 기술하시오.\n",
        "- 만약 정규분포를 만족한다고 가정할 경우 유의수준 0.05하에서 등분산성을 검정하시오.(Bartlett, levene, fligner중 하나를 선택하고 그 이유를 작성하시오.)\n",
        "- 정규분포 및 등분산성을 만족할 경우 남학생과 여학생의 혈압차이에 대한 통계검정을 진행하시오."
      ],
      "metadata": {
        "id": "4DmwMLgVOxCE"
      }
    },
    {
      "cell_type": "code",
      "source": [
        "import pandas as pd\n",
        "df3= pd.read_csv('https://raw.githubusercontent.com/Datamanim/datarepo/main/adp/26/pressure.csv')\n",
        "df3.head()"
      ],
      "metadata": {
        "colab": {
          "base_uri": "https://localhost:8080/",
          "height": 206
        },
        "id": "Y7WqclAVPYd_",
        "outputId": "94c24363-f8c3-4439-859c-a6b4ece3091f"
      },
      "execution_count": 40,
      "outputs": [
        {
          "output_type": "execute_result",
          "data": {
            "text/plain": [
              "  gender  pressure\n",
              "0   male     106.8\n",
              "1   male     100.8\n",
              "2   male      84.5\n",
              "3   male     104.2\n",
              "4   male     107.0"
            ],
            "text/html": [
              "\n",
              "\n",
              "  <div id=\"df-ee8cea58-3ab6-4884-9562-90da19c4fc4a\">\n",
              "    <div class=\"colab-df-container\">\n",
              "      <div>\n",
              "<style scoped>\n",
              "    .dataframe tbody tr th:only-of-type {\n",
              "        vertical-align: middle;\n",
              "    }\n",
              "\n",
              "    .dataframe tbody tr th {\n",
              "        vertical-align: top;\n",
              "    }\n",
              "\n",
              "    .dataframe thead th {\n",
              "        text-align: right;\n",
              "    }\n",
              "</style>\n",
              "<table border=\"1\" class=\"dataframe\">\n",
              "  <thead>\n",
              "    <tr style=\"text-align: right;\">\n",
              "      <th></th>\n",
              "      <th>gender</th>\n",
              "      <th>pressure</th>\n",
              "    </tr>\n",
              "  </thead>\n",
              "  <tbody>\n",
              "    <tr>\n",
              "      <th>0</th>\n",
              "      <td>male</td>\n",
              "      <td>106.8</td>\n",
              "    </tr>\n",
              "    <tr>\n",
              "      <th>1</th>\n",
              "      <td>male</td>\n",
              "      <td>100.8</td>\n",
              "    </tr>\n",
              "    <tr>\n",
              "      <th>2</th>\n",
              "      <td>male</td>\n",
              "      <td>84.5</td>\n",
              "    </tr>\n",
              "    <tr>\n",
              "      <th>3</th>\n",
              "      <td>male</td>\n",
              "      <td>104.2</td>\n",
              "    </tr>\n",
              "    <tr>\n",
              "      <th>4</th>\n",
              "      <td>male</td>\n",
              "      <td>107.0</td>\n",
              "    </tr>\n",
              "  </tbody>\n",
              "</table>\n",
              "</div>\n",
              "      <button class=\"colab-df-convert\" onclick=\"convertToInteractive('df-ee8cea58-3ab6-4884-9562-90da19c4fc4a')\"\n",
              "              title=\"Convert this dataframe to an interactive table.\"\n",
              "              style=\"display:none;\">\n",
              "\n",
              "  <svg xmlns=\"http://www.w3.org/2000/svg\" height=\"24px\"viewBox=\"0 0 24 24\"\n",
              "       width=\"24px\">\n",
              "    <path d=\"M0 0h24v24H0V0z\" fill=\"none\"/>\n",
              "    <path d=\"M18.56 5.44l.94 2.06.94-2.06 2.06-.94-2.06-.94-.94-2.06-.94 2.06-2.06.94zm-11 1L8.5 8.5l.94-2.06 2.06-.94-2.06-.94L8.5 2.5l-.94 2.06-2.06.94zm10 10l.94 2.06.94-2.06 2.06-.94-2.06-.94-.94-2.06-.94 2.06-2.06.94z\"/><path d=\"M17.41 7.96l-1.37-1.37c-.4-.4-.92-.59-1.43-.59-.52 0-1.04.2-1.43.59L10.3 9.45l-7.72 7.72c-.78.78-.78 2.05 0 2.83L4 21.41c.39.39.9.59 1.41.59.51 0 1.02-.2 1.41-.59l7.78-7.78 2.81-2.81c.8-.78.8-2.07 0-2.86zM5.41 20L4 18.59l7.72-7.72 1.47 1.35L5.41 20z\"/>\n",
              "  </svg>\n",
              "      </button>\n",
              "\n",
              "\n",
              "\n",
              "    <div id=\"df-24768005-fcea-4701-9f80-7f06fdae5881\">\n",
              "      <button class=\"colab-df-quickchart\" onclick=\"quickchart('df-24768005-fcea-4701-9f80-7f06fdae5881')\"\n",
              "              title=\"Suggest charts.\"\n",
              "              style=\"display:none;\">\n",
              "\n",
              "<svg xmlns=\"http://www.w3.org/2000/svg\" height=\"24px\"viewBox=\"0 0 24 24\"\n",
              "     width=\"24px\">\n",
              "    <g>\n",
              "        <path d=\"M19 3H5c-1.1 0-2 .9-2 2v14c0 1.1.9 2 2 2h14c1.1 0 2-.9 2-2V5c0-1.1-.9-2-2-2zM9 17H7v-7h2v7zm4 0h-2V7h2v10zm4 0h-2v-4h2v4z\"/>\n",
              "    </g>\n",
              "</svg>\n",
              "      </button>\n",
              "    </div>\n",
              "\n",
              "<style>\n",
              "  .colab-df-quickchart {\n",
              "    background-color: #E8F0FE;\n",
              "    border: none;\n",
              "    border-radius: 50%;\n",
              "    cursor: pointer;\n",
              "    display: none;\n",
              "    fill: #1967D2;\n",
              "    height: 32px;\n",
              "    padding: 0 0 0 0;\n",
              "    width: 32px;\n",
              "  }\n",
              "\n",
              "  .colab-df-quickchart:hover {\n",
              "    background-color: #E2EBFA;\n",
              "    box-shadow: 0px 1px 2px rgba(60, 64, 67, 0.3), 0px 1px 3px 1px rgba(60, 64, 67, 0.15);\n",
              "    fill: #174EA6;\n",
              "  }\n",
              "\n",
              "  [theme=dark] .colab-df-quickchart {\n",
              "    background-color: #3B4455;\n",
              "    fill: #D2E3FC;\n",
              "  }\n",
              "\n",
              "  [theme=dark] .colab-df-quickchart:hover {\n",
              "    background-color: #434B5C;\n",
              "    box-shadow: 0px 1px 3px 1px rgba(0, 0, 0, 0.15);\n",
              "    filter: drop-shadow(0px 1px 2px rgba(0, 0, 0, 0.3));\n",
              "    fill: #FFFFFF;\n",
              "  }\n",
              "</style>\n",
              "\n",
              "    <script>\n",
              "      async function quickchart(key) {\n",
              "        const containerElement = document.querySelector('#' + key);\n",
              "        const charts = await google.colab.kernel.invokeFunction(\n",
              "            'suggestCharts', [key], {});\n",
              "      }\n",
              "    </script>\n",
              "\n",
              "      <script>\n",
              "\n",
              "function displayQuickchartButton(domScope) {\n",
              "  let quickchartButtonEl =\n",
              "    domScope.querySelector('#df-24768005-fcea-4701-9f80-7f06fdae5881 button.colab-df-quickchart');\n",
              "  quickchartButtonEl.style.display =\n",
              "    google.colab.kernel.accessAllowed ? 'block' : 'none';\n",
              "}\n",
              "\n",
              "        displayQuickchartButton(document);\n",
              "      </script>\n",
              "      <style>\n",
              "    .colab-df-container {\n",
              "      display:flex;\n",
              "      flex-wrap:wrap;\n",
              "      gap: 12px;\n",
              "    }\n",
              "\n",
              "    .colab-df-convert {\n",
              "      background-color: #E8F0FE;\n",
              "      border: none;\n",
              "      border-radius: 50%;\n",
              "      cursor: pointer;\n",
              "      display: none;\n",
              "      fill: #1967D2;\n",
              "      height: 32px;\n",
              "      padding: 0 0 0 0;\n",
              "      width: 32px;\n",
              "    }\n",
              "\n",
              "    .colab-df-convert:hover {\n",
              "      background-color: #E2EBFA;\n",
              "      box-shadow: 0px 1px 2px rgba(60, 64, 67, 0.3), 0px 1px 3px 1px rgba(60, 64, 67, 0.15);\n",
              "      fill: #174EA6;\n",
              "    }\n",
              "\n",
              "    [theme=dark] .colab-df-convert {\n",
              "      background-color: #3B4455;\n",
              "      fill: #D2E3FC;\n",
              "    }\n",
              "\n",
              "    [theme=dark] .colab-df-convert:hover {\n",
              "      background-color: #434B5C;\n",
              "      box-shadow: 0px 1px 3px 1px rgba(0, 0, 0, 0.15);\n",
              "      filter: drop-shadow(0px 1px 2px rgba(0, 0, 0, 0.3));\n",
              "      fill: #FFFFFF;\n",
              "    }\n",
              "  </style>\n",
              "\n",
              "      <script>\n",
              "        const buttonEl =\n",
              "          document.querySelector('#df-ee8cea58-3ab6-4884-9562-90da19c4fc4a button.colab-df-convert');\n",
              "        buttonEl.style.display =\n",
              "          google.colab.kernel.accessAllowed ? 'block' : 'none';\n",
              "\n",
              "        async function convertToInteractive(key) {\n",
              "          const element = document.querySelector('#df-ee8cea58-3ab6-4884-9562-90da19c4fc4a');\n",
              "          const dataTable =\n",
              "            await google.colab.kernel.invokeFunction('convertToInteractive',\n",
              "                                                     [key], {});\n",
              "          if (!dataTable) return;\n",
              "\n",
              "          const docLinkHtml = 'Like what you see? Visit the ' +\n",
              "            '<a target=\"_blank\" href=https://colab.research.google.com/notebooks/data_table.ipynb>data table notebook</a>'\n",
              "            + ' to learn more about interactive tables.';\n",
              "          element.innerHTML = '';\n",
              "          dataTable['output_type'] = 'display_data';\n",
              "          await google.colab.output.renderOutput(dataTable, element);\n",
              "          const docLink = document.createElement('div');\n",
              "          docLink.innerHTML = docLinkHtml;\n",
              "          element.appendChild(docLink);\n",
              "        }\n",
              "      </script>\n",
              "    </div>\n",
              "  </div>\n"
            ]
          },
          "metadata": {},
          "execution_count": 40
        }
      ]
    },
    {
      "cell_type": "code",
      "source": [
        "#해당 문제는 두 개의 독립된 집단 간의 특정 값의 평균을 비교하기 위한 모수적 통계 분석 방법이므로\n",
        "#독립표본 t-검정을 사용하겠다.\n",
        "#독립표본 t-검정을 사용하기 위해선 먼저 두 표본의 모집단이 정규성을 만족해야 하고, 두 모집단의 분산이 서로 같아야한다.\n",
        "female = df3[df3.gender=='female']['pressure']\n",
        "male = df3[df3.gender=='male']['pressure']"
      ],
      "metadata": {
        "id": "sudld5vFPYhF"
      },
      "execution_count": 41,
      "outputs": []
    },
    {
      "cell_type": "code",
      "source": [
        "# 정규성 검정\n",
        "import scipy.stats as stats\n",
        "from scipy.stats import shapiro\n",
        "\n",
        "#귀무가설 : 정규성을 가진다\n",
        "#대립가설 : 정규성을 가지지 않는다.\n",
        "\n",
        "print(\n",
        "\"male: \", stats.shapiro(male), '\\n',\n",
        "\"female: \",stats.shapiro(female))\n",
        "# shapiro 검정에 따라 male은 p-value가 0.038로 유의수준 0.1이하로 귀무가설을 기각해 정규성을 만족하지 않고,\n",
        "# female은 p-value가 0.059로 역시 귀무가설을 기각해 정규성을 만족하지 않는다.\n",
        "# 두 집단이 정규성을 모두 만족하는 것이 아니므로 모수 방법을 진행하기 어렵다.\n",
        "# 이런 경우, t-test 대신 두 샘플간의 순위합 검정을 진행해볼 수 있다."
      ],
      "metadata": {
        "colab": {
          "base_uri": "https://localhost:8080/"
        },
        "id": "XsQ8w3zSPYmt",
        "outputId": "449a849d-8942-4e83-cae2-6dbcffac2727"
      },
      "execution_count": 42,
      "outputs": [
        {
          "output_type": "stream",
          "name": "stdout",
          "text": [
            "male:  ShapiroResult(statistic=0.879719078540802, pvalue=0.03841598704457283) \n",
            " female:  ShapiroResult(statistic=0.840890645980835, pvalue=0.05908675119280815)\n"
          ]
        }
      ]
    },
    {
      "cell_type": "code",
      "source": [
        "#만약 정규분포를 만족한다고 가정할경우 등분산을 수행해준다.\n",
        "#귀무가설 : 등분산성을 만족한다.\n",
        "#연구가설 : 등분산성을 만족하지 않는다.\n",
        "#독립표본 t-test에서는 bartlett를 쓰는 경우도 있다.\n",
        "stats.bartlett(male, female)\n",
        "#p-value가 0.628로 귀무가설을 채택하여 등분산성을 만족한다는 것을 알 수 있다."
      ],
      "metadata": {
        "colab": {
          "base_uri": "https://localhost:8080/"
        },
        "id": "s1_XbK2_WQxM",
        "outputId": "81acb9ac-0020-4b8c-aed5-4457963be0d3"
      },
      "execution_count": 48,
      "outputs": [
        {
          "output_type": "execute_result",
          "data": {
            "text/plain": [
              "BartlettResult(statistic=0.23460884702104196, pvalue=0.6281272971987353)"
            ]
          },
          "metadata": {},
          "execution_count": 48
        }
      ]
    },
    {
      "cell_type": "code",
      "source": [
        "# 정규분포 및 등분산성을 만족한다면 독립표본 t-test를 검정할 수 있다.\n",
        "stats.ttest_ind(male,female, equal_var=True)\n",
        "#귀무가설 : 두 집단의 종속변수 차이는 없다.\n",
        "#연구가설 : 두 집단의 정속변수 차이가 있다.\n",
        "#p-value가 0.123으로 귀무가설을 채택하여 남학생과 여학생의 평균 협압에 차이가 없음을 알 수 있다."
      ],
      "metadata": {
        "colab": {
          "base_uri": "https://localhost:8080/"
        },
        "id": "S3-9hxuDW9bW",
        "outputId": "8a29068c-679b-4594-f885-53c264110773"
      },
      "execution_count": null,
      "outputs": [
        {
          "output_type": "execute_result",
          "data": {
            "text/plain": [
              "Ttest_indResult(statistic=1.598335024574904, pvalue=0.12361716364314851)"
            ]
          },
          "metadata": {},
          "execution_count": 69
        }
      ]
    },
    {
      "cell_type": "markdown",
      "source": [
        "## Mann-Whitney U 검정\n",
        "- 정의 : 독립표본 t- 검정과 유사한 문제이면서 두 개의 집단이 정규분포를 따르지 않을 때 사용하는 방법\n",
        "- 방법 : 두 개의 집단의 관측치를 통합하고 내림차순하여 서열을 부여한다. 그리고 각 집단의 서열의 합을 구하고 (R_A, R_B) 집단별 U를 구해 작은 값을 임계치와 검정\n",
        "- 코드 : mannwhitneyu(a집단, b집단)\n",
        "- 귀무가설 : 남학생과 여학생의 혈압 평균은 동일하다.\n",
        "- 연구가설 : 남학생과 여학생의 혈압 평균은 다르다."
      ],
      "metadata": {
        "id": "BtHwOsEhPiDu"
      }
    },
    {
      "cell_type": "code",
      "source": [
        "# Mann-Whitney U 검정\n",
        "from scipy.stats import mannwhitneyu\n",
        "mannwhitneyu(male,female)\n",
        "# 검정통계량 98, p-value 0.149로 귀무가설을 채택하여 남학생과 여학생 평균 혈압이 동일함을 알 수 있다."
      ],
      "metadata": {
        "colab": {
          "base_uri": "https://localhost:8080/"
        },
        "id": "QZvFhZABRNsT",
        "outputId": "63112309-ef04-43b2-e521-e72709ad0fc8"
      },
      "execution_count": 43,
      "outputs": [
        {
          "output_type": "execute_result",
          "data": {
            "text/plain": [
              "MannwhitneyuResult(statistic=98.0, pvalue=0.14875840681321661)"
            ]
          },
          "metadata": {},
          "execution_count": 43
        }
      ]
    },
    {
      "cell_type": "code",
      "source": [
        "len(male), len(female)"
      ],
      "metadata": {
        "colab": {
          "base_uri": "https://localhost:8080/"
        },
        "id": "ZYykBJzLVdSP",
        "outputId": "f55d085c-e9ed-47ab-cdf1-f3c43352656a"
      },
      "execution_count": 44,
      "outputs": [
        {
          "output_type": "execute_result",
          "data": {
            "text/plain": [
              "(16, 9)"
            ]
          },
          "metadata": {},
          "execution_count": 44
        }
      ]
    },
    {
      "cell_type": "code",
      "source": [
        "#생산량 평균 순위 출력\n",
        "mf = pd.DataFrame(male.append(female))\n",
        "mf['평균혈압순위'] = mf.rank(ascending=False)\n",
        "mf['성별'] = ['male']*16+ ['female']*9"
      ],
      "metadata": {
        "colab": {
          "base_uri": "https://localhost:8080/"
        },
        "id": "bgzatm8vU34Q",
        "outputId": "4a79d5d3-0820-4133-d641-5a15ab441422"
      },
      "execution_count": 45,
      "outputs": [
        {
          "output_type": "stream",
          "name": "stderr",
          "text": [
            "<ipython-input-45-cbff912b086e>:2: FutureWarning: The series.append method is deprecated and will be removed from pandas in a future version. Use pandas.concat instead.\n",
            "  mf = pd.DataFrame(male.append(female))\n"
          ]
        }
      ]
    },
    {
      "cell_type": "code",
      "source": [
        "mf"
      ],
      "metadata": {
        "colab": {
          "base_uri": "https://localhost:8080/",
          "height": 833
        },
        "id": "-7GPvH00Vnbx",
        "outputId": "da2c2120-e453-4756-f54d-5425ddd0ec48"
      },
      "execution_count": 46,
      "outputs": [
        {
          "output_type": "execute_result",
          "data": {
            "text/plain": [
              "    pressure  평균혈압순위      성별\n",
              "0      106.8     3.0    male\n",
              "1      100.8    10.0    male\n",
              "2       84.5    19.0    male\n",
              "3      104.2     6.0    male\n",
              "4      107.0     2.0    male\n",
              "5       83.9    21.0    male\n",
              "6       91.2    13.5    male\n",
              "7      103.2     7.0    male\n",
              "8       83.0    22.0    male\n",
              "9      101.2     9.0    male\n",
              "10      97.1    11.0    male\n",
              "11      90.9    15.0    male\n",
              "12      85.2    18.0    male\n",
              "13     106.2     4.0    male\n",
              "14     103.1     8.0    male\n",
              "15      91.2    13.5    male\n",
              "16      92.7    12.0  female\n",
              "17      89.1    16.0  female\n",
              "18      81.1    24.0  female\n",
              "19      80.2    25.0  female\n",
              "20      85.3    17.0  female\n",
              "21      82.8    23.0  female\n",
              "22     108.8     1.0  female\n",
              "23      84.3    20.0  female\n",
              "24     104.9     5.0  female"
            ],
            "text/html": [
              "\n",
              "\n",
              "  <div id=\"df-4365759d-131c-46b9-9ee6-39d7b6cc2e92\">\n",
              "    <div class=\"colab-df-container\">\n",
              "      <div>\n",
              "<style scoped>\n",
              "    .dataframe tbody tr th:only-of-type {\n",
              "        vertical-align: middle;\n",
              "    }\n",
              "\n",
              "    .dataframe tbody tr th {\n",
              "        vertical-align: top;\n",
              "    }\n",
              "\n",
              "    .dataframe thead th {\n",
              "        text-align: right;\n",
              "    }\n",
              "</style>\n",
              "<table border=\"1\" class=\"dataframe\">\n",
              "  <thead>\n",
              "    <tr style=\"text-align: right;\">\n",
              "      <th></th>\n",
              "      <th>pressure</th>\n",
              "      <th>평균혈압순위</th>\n",
              "      <th>성별</th>\n",
              "    </tr>\n",
              "  </thead>\n",
              "  <tbody>\n",
              "    <tr>\n",
              "      <th>0</th>\n",
              "      <td>106.8</td>\n",
              "      <td>3.0</td>\n",
              "      <td>male</td>\n",
              "    </tr>\n",
              "    <tr>\n",
              "      <th>1</th>\n",
              "      <td>100.8</td>\n",
              "      <td>10.0</td>\n",
              "      <td>male</td>\n",
              "    </tr>\n",
              "    <tr>\n",
              "      <th>2</th>\n",
              "      <td>84.5</td>\n",
              "      <td>19.0</td>\n",
              "      <td>male</td>\n",
              "    </tr>\n",
              "    <tr>\n",
              "      <th>3</th>\n",
              "      <td>104.2</td>\n",
              "      <td>6.0</td>\n",
              "      <td>male</td>\n",
              "    </tr>\n",
              "    <tr>\n",
              "      <th>4</th>\n",
              "      <td>107.0</td>\n",
              "      <td>2.0</td>\n",
              "      <td>male</td>\n",
              "    </tr>\n",
              "    <tr>\n",
              "      <th>5</th>\n",
              "      <td>83.9</td>\n",
              "      <td>21.0</td>\n",
              "      <td>male</td>\n",
              "    </tr>\n",
              "    <tr>\n",
              "      <th>6</th>\n",
              "      <td>91.2</td>\n",
              "      <td>13.5</td>\n",
              "      <td>male</td>\n",
              "    </tr>\n",
              "    <tr>\n",
              "      <th>7</th>\n",
              "      <td>103.2</td>\n",
              "      <td>7.0</td>\n",
              "      <td>male</td>\n",
              "    </tr>\n",
              "    <tr>\n",
              "      <th>8</th>\n",
              "      <td>83.0</td>\n",
              "      <td>22.0</td>\n",
              "      <td>male</td>\n",
              "    </tr>\n",
              "    <tr>\n",
              "      <th>9</th>\n",
              "      <td>101.2</td>\n",
              "      <td>9.0</td>\n",
              "      <td>male</td>\n",
              "    </tr>\n",
              "    <tr>\n",
              "      <th>10</th>\n",
              "      <td>97.1</td>\n",
              "      <td>11.0</td>\n",
              "      <td>male</td>\n",
              "    </tr>\n",
              "    <tr>\n",
              "      <th>11</th>\n",
              "      <td>90.9</td>\n",
              "      <td>15.0</td>\n",
              "      <td>male</td>\n",
              "    </tr>\n",
              "    <tr>\n",
              "      <th>12</th>\n",
              "      <td>85.2</td>\n",
              "      <td>18.0</td>\n",
              "      <td>male</td>\n",
              "    </tr>\n",
              "    <tr>\n",
              "      <th>13</th>\n",
              "      <td>106.2</td>\n",
              "      <td>4.0</td>\n",
              "      <td>male</td>\n",
              "    </tr>\n",
              "    <tr>\n",
              "      <th>14</th>\n",
              "      <td>103.1</td>\n",
              "      <td>8.0</td>\n",
              "      <td>male</td>\n",
              "    </tr>\n",
              "    <tr>\n",
              "      <th>15</th>\n",
              "      <td>91.2</td>\n",
              "      <td>13.5</td>\n",
              "      <td>male</td>\n",
              "    </tr>\n",
              "    <tr>\n",
              "      <th>16</th>\n",
              "      <td>92.7</td>\n",
              "      <td>12.0</td>\n",
              "      <td>female</td>\n",
              "    </tr>\n",
              "    <tr>\n",
              "      <th>17</th>\n",
              "      <td>89.1</td>\n",
              "      <td>16.0</td>\n",
              "      <td>female</td>\n",
              "    </tr>\n",
              "    <tr>\n",
              "      <th>18</th>\n",
              "      <td>81.1</td>\n",
              "      <td>24.0</td>\n",
              "      <td>female</td>\n",
              "    </tr>\n",
              "    <tr>\n",
              "      <th>19</th>\n",
              "      <td>80.2</td>\n",
              "      <td>25.0</td>\n",
              "      <td>female</td>\n",
              "    </tr>\n",
              "    <tr>\n",
              "      <th>20</th>\n",
              "      <td>85.3</td>\n",
              "      <td>17.0</td>\n",
              "      <td>female</td>\n",
              "    </tr>\n",
              "    <tr>\n",
              "      <th>21</th>\n",
              "      <td>82.8</td>\n",
              "      <td>23.0</td>\n",
              "      <td>female</td>\n",
              "    </tr>\n",
              "    <tr>\n",
              "      <th>22</th>\n",
              "      <td>108.8</td>\n",
              "      <td>1.0</td>\n",
              "      <td>female</td>\n",
              "    </tr>\n",
              "    <tr>\n",
              "      <th>23</th>\n",
              "      <td>84.3</td>\n",
              "      <td>20.0</td>\n",
              "      <td>female</td>\n",
              "    </tr>\n",
              "    <tr>\n",
              "      <th>24</th>\n",
              "      <td>104.9</td>\n",
              "      <td>5.0</td>\n",
              "      <td>female</td>\n",
              "    </tr>\n",
              "  </tbody>\n",
              "</table>\n",
              "</div>\n",
              "      <button class=\"colab-df-convert\" onclick=\"convertToInteractive('df-4365759d-131c-46b9-9ee6-39d7b6cc2e92')\"\n",
              "              title=\"Convert this dataframe to an interactive table.\"\n",
              "              style=\"display:none;\">\n",
              "\n",
              "  <svg xmlns=\"http://www.w3.org/2000/svg\" height=\"24px\"viewBox=\"0 0 24 24\"\n",
              "       width=\"24px\">\n",
              "    <path d=\"M0 0h24v24H0V0z\" fill=\"none\"/>\n",
              "    <path d=\"M18.56 5.44l.94 2.06.94-2.06 2.06-.94-2.06-.94-.94-2.06-.94 2.06-2.06.94zm-11 1L8.5 8.5l.94-2.06 2.06-.94-2.06-.94L8.5 2.5l-.94 2.06-2.06.94zm10 10l.94 2.06.94-2.06 2.06-.94-2.06-.94-.94-2.06-.94 2.06-2.06.94z\"/><path d=\"M17.41 7.96l-1.37-1.37c-.4-.4-.92-.59-1.43-.59-.52 0-1.04.2-1.43.59L10.3 9.45l-7.72 7.72c-.78.78-.78 2.05 0 2.83L4 21.41c.39.39.9.59 1.41.59.51 0 1.02-.2 1.41-.59l7.78-7.78 2.81-2.81c.8-.78.8-2.07 0-2.86zM5.41 20L4 18.59l7.72-7.72 1.47 1.35L5.41 20z\"/>\n",
              "  </svg>\n",
              "      </button>\n",
              "\n",
              "\n",
              "\n",
              "    <div id=\"df-043f32fe-e433-4610-a963-94009faf8a68\">\n",
              "      <button class=\"colab-df-quickchart\" onclick=\"quickchart('df-043f32fe-e433-4610-a963-94009faf8a68')\"\n",
              "              title=\"Suggest charts.\"\n",
              "              style=\"display:none;\">\n",
              "\n",
              "<svg xmlns=\"http://www.w3.org/2000/svg\" height=\"24px\"viewBox=\"0 0 24 24\"\n",
              "     width=\"24px\">\n",
              "    <g>\n",
              "        <path d=\"M19 3H5c-1.1 0-2 .9-2 2v14c0 1.1.9 2 2 2h14c1.1 0 2-.9 2-2V5c0-1.1-.9-2-2-2zM9 17H7v-7h2v7zm4 0h-2V7h2v10zm4 0h-2v-4h2v4z\"/>\n",
              "    </g>\n",
              "</svg>\n",
              "      </button>\n",
              "    </div>\n",
              "\n",
              "<style>\n",
              "  .colab-df-quickchart {\n",
              "    background-color: #E8F0FE;\n",
              "    border: none;\n",
              "    border-radius: 50%;\n",
              "    cursor: pointer;\n",
              "    display: none;\n",
              "    fill: #1967D2;\n",
              "    height: 32px;\n",
              "    padding: 0 0 0 0;\n",
              "    width: 32px;\n",
              "  }\n",
              "\n",
              "  .colab-df-quickchart:hover {\n",
              "    background-color: #E2EBFA;\n",
              "    box-shadow: 0px 1px 2px rgba(60, 64, 67, 0.3), 0px 1px 3px 1px rgba(60, 64, 67, 0.15);\n",
              "    fill: #174EA6;\n",
              "  }\n",
              "\n",
              "  [theme=dark] .colab-df-quickchart {\n",
              "    background-color: #3B4455;\n",
              "    fill: #D2E3FC;\n",
              "  }\n",
              "\n",
              "  [theme=dark] .colab-df-quickchart:hover {\n",
              "    background-color: #434B5C;\n",
              "    box-shadow: 0px 1px 3px 1px rgba(0, 0, 0, 0.15);\n",
              "    filter: drop-shadow(0px 1px 2px rgba(0, 0, 0, 0.3));\n",
              "    fill: #FFFFFF;\n",
              "  }\n",
              "</style>\n",
              "\n",
              "    <script>\n",
              "      async function quickchart(key) {\n",
              "        const containerElement = document.querySelector('#' + key);\n",
              "        const charts = await google.colab.kernel.invokeFunction(\n",
              "            'suggestCharts', [key], {});\n",
              "      }\n",
              "    </script>\n",
              "\n",
              "      <script>\n",
              "\n",
              "function displayQuickchartButton(domScope) {\n",
              "  let quickchartButtonEl =\n",
              "    domScope.querySelector('#df-043f32fe-e433-4610-a963-94009faf8a68 button.colab-df-quickchart');\n",
              "  quickchartButtonEl.style.display =\n",
              "    google.colab.kernel.accessAllowed ? 'block' : 'none';\n",
              "}\n",
              "\n",
              "        displayQuickchartButton(document);\n",
              "      </script>\n",
              "      <style>\n",
              "    .colab-df-container {\n",
              "      display:flex;\n",
              "      flex-wrap:wrap;\n",
              "      gap: 12px;\n",
              "    }\n",
              "\n",
              "    .colab-df-convert {\n",
              "      background-color: #E8F0FE;\n",
              "      border: none;\n",
              "      border-radius: 50%;\n",
              "      cursor: pointer;\n",
              "      display: none;\n",
              "      fill: #1967D2;\n",
              "      height: 32px;\n",
              "      padding: 0 0 0 0;\n",
              "      width: 32px;\n",
              "    }\n",
              "\n",
              "    .colab-df-convert:hover {\n",
              "      background-color: #E2EBFA;\n",
              "      box-shadow: 0px 1px 2px rgba(60, 64, 67, 0.3), 0px 1px 3px 1px rgba(60, 64, 67, 0.15);\n",
              "      fill: #174EA6;\n",
              "    }\n",
              "\n",
              "    [theme=dark] .colab-df-convert {\n",
              "      background-color: #3B4455;\n",
              "      fill: #D2E3FC;\n",
              "    }\n",
              "\n",
              "    [theme=dark] .colab-df-convert:hover {\n",
              "      background-color: #434B5C;\n",
              "      box-shadow: 0px 1px 3px 1px rgba(0, 0, 0, 0.15);\n",
              "      filter: drop-shadow(0px 1px 2px rgba(0, 0, 0, 0.3));\n",
              "      fill: #FFFFFF;\n",
              "    }\n",
              "  </style>\n",
              "\n",
              "      <script>\n",
              "        const buttonEl =\n",
              "          document.querySelector('#df-4365759d-131c-46b9-9ee6-39d7b6cc2e92 button.colab-df-convert');\n",
              "        buttonEl.style.display =\n",
              "          google.colab.kernel.accessAllowed ? 'block' : 'none';\n",
              "\n",
              "        async function convertToInteractive(key) {\n",
              "          const element = document.querySelector('#df-4365759d-131c-46b9-9ee6-39d7b6cc2e92');\n",
              "          const dataTable =\n",
              "            await google.colab.kernel.invokeFunction('convertToInteractive',\n",
              "                                                     [key], {});\n",
              "          if (!dataTable) return;\n",
              "\n",
              "          const docLinkHtml = 'Like what you see? Visit the ' +\n",
              "            '<a target=\"_blank\" href=https://colab.research.google.com/notebooks/data_table.ipynb>data table notebook</a>'\n",
              "            + ' to learn more about interactive tables.';\n",
              "          element.innerHTML = '';\n",
              "          dataTable['output_type'] = 'display_data';\n",
              "          await google.colab.output.renderOutput(dataTable, element);\n",
              "          const docLink = document.createElement('div');\n",
              "          docLink.innerHTML = docLinkHtml;\n",
              "          element.appendChild(docLink);\n",
              "        }\n",
              "      </script>\n",
              "    </div>\n",
              "  </div>\n"
            ]
          },
          "metadata": {},
          "execution_count": 46
        }
      ]
    },
    {
      "cell_type": "code",
      "source": [
        "mf.groupby('성별').mean()\n",
        "#혈압이 높은게 순위가 높다고 하였을 때\n",
        "#남학생의 평균 혈압순위는 11위, 여학생 평균 혈압순위는16위로 출력된 것을 볼 수 있다."
      ],
      "metadata": {
        "colab": {
          "base_uri": "https://localhost:8080/",
          "height": 144
        },
        "id": "kdY2cuDXV0hV",
        "outputId": "9e308bdf-7740-461b-ee74-5ea01e55bc46"
      },
      "execution_count": 47,
      "outputs": [
        {
          "output_type": "execute_result",
          "data": {
            "text/plain": [
              "         pressure     평균혈압순위\n",
              "성별                          \n",
              "female  89.911111  15.888889\n",
              "male    96.218750  11.375000"
            ],
            "text/html": [
              "\n",
              "\n",
              "  <div id=\"df-e82a1bb1-0b34-43e5-8ea1-e57c427e0c7f\">\n",
              "    <div class=\"colab-df-container\">\n",
              "      <div>\n",
              "<style scoped>\n",
              "    .dataframe tbody tr th:only-of-type {\n",
              "        vertical-align: middle;\n",
              "    }\n",
              "\n",
              "    .dataframe tbody tr th {\n",
              "        vertical-align: top;\n",
              "    }\n",
              "\n",
              "    .dataframe thead th {\n",
              "        text-align: right;\n",
              "    }\n",
              "</style>\n",
              "<table border=\"1\" class=\"dataframe\">\n",
              "  <thead>\n",
              "    <tr style=\"text-align: right;\">\n",
              "      <th></th>\n",
              "      <th>pressure</th>\n",
              "      <th>평균혈압순위</th>\n",
              "    </tr>\n",
              "    <tr>\n",
              "      <th>성별</th>\n",
              "      <th></th>\n",
              "      <th></th>\n",
              "    </tr>\n",
              "  </thead>\n",
              "  <tbody>\n",
              "    <tr>\n",
              "      <th>female</th>\n",
              "      <td>89.911111</td>\n",
              "      <td>15.888889</td>\n",
              "    </tr>\n",
              "    <tr>\n",
              "      <th>male</th>\n",
              "      <td>96.218750</td>\n",
              "      <td>11.375000</td>\n",
              "    </tr>\n",
              "  </tbody>\n",
              "</table>\n",
              "</div>\n",
              "      <button class=\"colab-df-convert\" onclick=\"convertToInteractive('df-e82a1bb1-0b34-43e5-8ea1-e57c427e0c7f')\"\n",
              "              title=\"Convert this dataframe to an interactive table.\"\n",
              "              style=\"display:none;\">\n",
              "\n",
              "  <svg xmlns=\"http://www.w3.org/2000/svg\" height=\"24px\"viewBox=\"0 0 24 24\"\n",
              "       width=\"24px\">\n",
              "    <path d=\"M0 0h24v24H0V0z\" fill=\"none\"/>\n",
              "    <path d=\"M18.56 5.44l.94 2.06.94-2.06 2.06-.94-2.06-.94-.94-2.06-.94 2.06-2.06.94zm-11 1L8.5 8.5l.94-2.06 2.06-.94-2.06-.94L8.5 2.5l-.94 2.06-2.06.94zm10 10l.94 2.06.94-2.06 2.06-.94-2.06-.94-.94-2.06-.94 2.06-2.06.94z\"/><path d=\"M17.41 7.96l-1.37-1.37c-.4-.4-.92-.59-1.43-.59-.52 0-1.04.2-1.43.59L10.3 9.45l-7.72 7.72c-.78.78-.78 2.05 0 2.83L4 21.41c.39.39.9.59 1.41.59.51 0 1.02-.2 1.41-.59l7.78-7.78 2.81-2.81c.8-.78.8-2.07 0-2.86zM5.41 20L4 18.59l7.72-7.72 1.47 1.35L5.41 20z\"/>\n",
              "  </svg>\n",
              "      </button>\n",
              "\n",
              "\n",
              "\n",
              "    <div id=\"df-e1108d5d-9e0d-4b5b-b172-26b2385b9d5d\">\n",
              "      <button class=\"colab-df-quickchart\" onclick=\"quickchart('df-e1108d5d-9e0d-4b5b-b172-26b2385b9d5d')\"\n",
              "              title=\"Suggest charts.\"\n",
              "              style=\"display:none;\">\n",
              "\n",
              "<svg xmlns=\"http://www.w3.org/2000/svg\" height=\"24px\"viewBox=\"0 0 24 24\"\n",
              "     width=\"24px\">\n",
              "    <g>\n",
              "        <path d=\"M19 3H5c-1.1 0-2 .9-2 2v14c0 1.1.9 2 2 2h14c1.1 0 2-.9 2-2V5c0-1.1-.9-2-2-2zM9 17H7v-7h2v7zm4 0h-2V7h2v10zm4 0h-2v-4h2v4z\"/>\n",
              "    </g>\n",
              "</svg>\n",
              "      </button>\n",
              "    </div>\n",
              "\n",
              "<style>\n",
              "  .colab-df-quickchart {\n",
              "    background-color: #E8F0FE;\n",
              "    border: none;\n",
              "    border-radius: 50%;\n",
              "    cursor: pointer;\n",
              "    display: none;\n",
              "    fill: #1967D2;\n",
              "    height: 32px;\n",
              "    padding: 0 0 0 0;\n",
              "    width: 32px;\n",
              "  }\n",
              "\n",
              "  .colab-df-quickchart:hover {\n",
              "    background-color: #E2EBFA;\n",
              "    box-shadow: 0px 1px 2px rgba(60, 64, 67, 0.3), 0px 1px 3px 1px rgba(60, 64, 67, 0.15);\n",
              "    fill: #174EA6;\n",
              "  }\n",
              "\n",
              "  [theme=dark] .colab-df-quickchart {\n",
              "    background-color: #3B4455;\n",
              "    fill: #D2E3FC;\n",
              "  }\n",
              "\n",
              "  [theme=dark] .colab-df-quickchart:hover {\n",
              "    background-color: #434B5C;\n",
              "    box-shadow: 0px 1px 3px 1px rgba(0, 0, 0, 0.15);\n",
              "    filter: drop-shadow(0px 1px 2px rgba(0, 0, 0, 0.3));\n",
              "    fill: #FFFFFF;\n",
              "  }\n",
              "</style>\n",
              "\n",
              "    <script>\n",
              "      async function quickchart(key) {\n",
              "        const containerElement = document.querySelector('#' + key);\n",
              "        const charts = await google.colab.kernel.invokeFunction(\n",
              "            'suggestCharts', [key], {});\n",
              "      }\n",
              "    </script>\n",
              "\n",
              "      <script>\n",
              "\n",
              "function displayQuickchartButton(domScope) {\n",
              "  let quickchartButtonEl =\n",
              "    domScope.querySelector('#df-e1108d5d-9e0d-4b5b-b172-26b2385b9d5d button.colab-df-quickchart');\n",
              "  quickchartButtonEl.style.display =\n",
              "    google.colab.kernel.accessAllowed ? 'block' : 'none';\n",
              "}\n",
              "\n",
              "        displayQuickchartButton(document);\n",
              "      </script>\n",
              "      <style>\n",
              "    .colab-df-container {\n",
              "      display:flex;\n",
              "      flex-wrap:wrap;\n",
              "      gap: 12px;\n",
              "    }\n",
              "\n",
              "    .colab-df-convert {\n",
              "      background-color: #E8F0FE;\n",
              "      border: none;\n",
              "      border-radius: 50%;\n",
              "      cursor: pointer;\n",
              "      display: none;\n",
              "      fill: #1967D2;\n",
              "      height: 32px;\n",
              "      padding: 0 0 0 0;\n",
              "      width: 32px;\n",
              "    }\n",
              "\n",
              "    .colab-df-convert:hover {\n",
              "      background-color: #E2EBFA;\n",
              "      box-shadow: 0px 1px 2px rgba(60, 64, 67, 0.3), 0px 1px 3px 1px rgba(60, 64, 67, 0.15);\n",
              "      fill: #174EA6;\n",
              "    }\n",
              "\n",
              "    [theme=dark] .colab-df-convert {\n",
              "      background-color: #3B4455;\n",
              "      fill: #D2E3FC;\n",
              "    }\n",
              "\n",
              "    [theme=dark] .colab-df-convert:hover {\n",
              "      background-color: #434B5C;\n",
              "      box-shadow: 0px 1px 3px 1px rgba(0, 0, 0, 0.15);\n",
              "      filter: drop-shadow(0px 1px 2px rgba(0, 0, 0, 0.3));\n",
              "      fill: #FFFFFF;\n",
              "    }\n",
              "  </style>\n",
              "\n",
              "      <script>\n",
              "        const buttonEl =\n",
              "          document.querySelector('#df-e82a1bb1-0b34-43e5-8ea1-e57c427e0c7f button.colab-df-convert');\n",
              "        buttonEl.style.display =\n",
              "          google.colab.kernel.accessAllowed ? 'block' : 'none';\n",
              "\n",
              "        async function convertToInteractive(key) {\n",
              "          const element = document.querySelector('#df-e82a1bb1-0b34-43e5-8ea1-e57c427e0c7f');\n",
              "          const dataTable =\n",
              "            await google.colab.kernel.invokeFunction('convertToInteractive',\n",
              "                                                     [key], {});\n",
              "          if (!dataTable) return;\n",
              "\n",
              "          const docLinkHtml = 'Like what you see? Visit the ' +\n",
              "            '<a target=\"_blank\" href=https://colab.research.google.com/notebooks/data_table.ipynb>data table notebook</a>'\n",
              "            + ' to learn more about interactive tables.';\n",
              "          element.innerHTML = '';\n",
              "          dataTable['output_type'] = 'display_data';\n",
              "          await google.colab.output.renderOutput(dataTable, element);\n",
              "          const docLink = document.createElement('div');\n",
              "          docLink.innerHTML = docLinkHtml;\n",
              "          element.appendChild(docLink);\n",
              "        }\n",
              "      </script>\n",
              "    </div>\n",
              "  </div>\n"
            ]
          },
          "metadata": {},
          "execution_count": 47
        }
      ]
    },
    {
      "cell_type": "markdown",
      "source": [
        "# 문제 4\n",
        ">강의 상류와 하류의 생물 다양성 점수에 차이가 있는지 검정하시오. (단, 같은 강에서 상류와 하류는 서로 독립적이지 않으며, 종속적인 관계에 있다./ 모든 검정은 유의수준 0.05하에서 진행된다.)\n",
        "- 정규성 검정을 진행하시오.\n",
        "- 귀무가설 및 연구가설을 설정하시오.\n",
        "- 통계량을 구하고 연구가설 채택 여부를 기술하시오.\n",
        "- 강의 상류 및 하류가 정규성을 가정할 때 통계검정을 진행하시오."
      ],
      "metadata": {
        "id": "h8_3LeK1X8QZ"
      }
    },
    {
      "cell_type": "code",
      "source": [
        "#해당 문제는 쌍체표본으로 이루어진 자료의 평균을 검정하므로 쌍체표본 t-test검정을 실시할 수 있다.\n",
        "#쌍체표본 t-test검정을 수행하기 위해서는 모집단의 관측값이 정규성을 만족한다는 가정이 필요하다.\n",
        "df4= pd.read_csv('https://raw.githubusercontent.com/Datamanim/datarepo/main/adp/27/river.csv')\n",
        "df4.head()"
      ],
      "metadata": {
        "colab": {
          "base_uri": "https://localhost:8080/",
          "height": 206
        },
        "id": "tP3n5QrEXeWB",
        "outputId": "fb61ae48-2fa1-4657-8f5b-19c2f6f063a7"
      },
      "execution_count": null,
      "outputs": [
        {
          "output_type": "execute_result",
          "data": {
            "text/plain": [
              "  River    up  down\n",
              "0     A  57.1  45.7\n",
              "1     B  51.6  37.2\n",
              "2     C  53.9  53.3\n",
              "3     D  59.0  54.3\n",
              "4     E  57.5  46.3"
            ],
            "text/html": [
              "\n",
              "\n",
              "  <div id=\"df-8d8ace2f-9c41-4c18-a48b-f75f4db3751e\">\n",
              "    <div class=\"colab-df-container\">\n",
              "      <div>\n",
              "<style scoped>\n",
              "    .dataframe tbody tr th:only-of-type {\n",
              "        vertical-align: middle;\n",
              "    }\n",
              "\n",
              "    .dataframe tbody tr th {\n",
              "        vertical-align: top;\n",
              "    }\n",
              "\n",
              "    .dataframe thead th {\n",
              "        text-align: right;\n",
              "    }\n",
              "</style>\n",
              "<table border=\"1\" class=\"dataframe\">\n",
              "  <thead>\n",
              "    <tr style=\"text-align: right;\">\n",
              "      <th></th>\n",
              "      <th>River</th>\n",
              "      <th>up</th>\n",
              "      <th>down</th>\n",
              "    </tr>\n",
              "  </thead>\n",
              "  <tbody>\n",
              "    <tr>\n",
              "      <th>0</th>\n",
              "      <td>A</td>\n",
              "      <td>57.1</td>\n",
              "      <td>45.7</td>\n",
              "    </tr>\n",
              "    <tr>\n",
              "      <th>1</th>\n",
              "      <td>B</td>\n",
              "      <td>51.6</td>\n",
              "      <td>37.2</td>\n",
              "    </tr>\n",
              "    <tr>\n",
              "      <th>2</th>\n",
              "      <td>C</td>\n",
              "      <td>53.9</td>\n",
              "      <td>53.3</td>\n",
              "    </tr>\n",
              "    <tr>\n",
              "      <th>3</th>\n",
              "      <td>D</td>\n",
              "      <td>59.0</td>\n",
              "      <td>54.3</td>\n",
              "    </tr>\n",
              "    <tr>\n",
              "      <th>4</th>\n",
              "      <td>E</td>\n",
              "      <td>57.5</td>\n",
              "      <td>46.3</td>\n",
              "    </tr>\n",
              "  </tbody>\n",
              "</table>\n",
              "</div>\n",
              "      <button class=\"colab-df-convert\" onclick=\"convertToInteractive('df-8d8ace2f-9c41-4c18-a48b-f75f4db3751e')\"\n",
              "              title=\"Convert this dataframe to an interactive table.\"\n",
              "              style=\"display:none;\">\n",
              "\n",
              "  <svg xmlns=\"http://www.w3.org/2000/svg\" height=\"24px\"viewBox=\"0 0 24 24\"\n",
              "       width=\"24px\">\n",
              "    <path d=\"M0 0h24v24H0V0z\" fill=\"none\"/>\n",
              "    <path d=\"M18.56 5.44l.94 2.06.94-2.06 2.06-.94-2.06-.94-.94-2.06-.94 2.06-2.06.94zm-11 1L8.5 8.5l.94-2.06 2.06-.94-2.06-.94L8.5 2.5l-.94 2.06-2.06.94zm10 10l.94 2.06.94-2.06 2.06-.94-2.06-.94-.94-2.06-.94 2.06-2.06.94z\"/><path d=\"M17.41 7.96l-1.37-1.37c-.4-.4-.92-.59-1.43-.59-.52 0-1.04.2-1.43.59L10.3 9.45l-7.72 7.72c-.78.78-.78 2.05 0 2.83L4 21.41c.39.39.9.59 1.41.59.51 0 1.02-.2 1.41-.59l7.78-7.78 2.81-2.81c.8-.78.8-2.07 0-2.86zM5.41 20L4 18.59l7.72-7.72 1.47 1.35L5.41 20z\"/>\n",
              "  </svg>\n",
              "      </button>\n",
              "\n",
              "\n",
              "\n",
              "    <div id=\"df-7339ced8-a415-4dbb-b6ed-39d8b7664393\">\n",
              "      <button class=\"colab-df-quickchart\" onclick=\"quickchart('df-7339ced8-a415-4dbb-b6ed-39d8b7664393')\"\n",
              "              title=\"Suggest charts.\"\n",
              "              style=\"display:none;\">\n",
              "\n",
              "<svg xmlns=\"http://www.w3.org/2000/svg\" height=\"24px\"viewBox=\"0 0 24 24\"\n",
              "     width=\"24px\">\n",
              "    <g>\n",
              "        <path d=\"M19 3H5c-1.1 0-2 .9-2 2v14c0 1.1.9 2 2 2h14c1.1 0 2-.9 2-2V5c0-1.1-.9-2-2-2zM9 17H7v-7h2v7zm4 0h-2V7h2v10zm4 0h-2v-4h2v4z\"/>\n",
              "    </g>\n",
              "</svg>\n",
              "      </button>\n",
              "    </div>\n",
              "\n",
              "<style>\n",
              "  .colab-df-quickchart {\n",
              "    background-color: #E8F0FE;\n",
              "    border: none;\n",
              "    border-radius: 50%;\n",
              "    cursor: pointer;\n",
              "    display: none;\n",
              "    fill: #1967D2;\n",
              "    height: 32px;\n",
              "    padding: 0 0 0 0;\n",
              "    width: 32px;\n",
              "  }\n",
              "\n",
              "  .colab-df-quickchart:hover {\n",
              "    background-color: #E2EBFA;\n",
              "    box-shadow: 0px 1px 2px rgba(60, 64, 67, 0.3), 0px 1px 3px 1px rgba(60, 64, 67, 0.15);\n",
              "    fill: #174EA6;\n",
              "  }\n",
              "\n",
              "  [theme=dark] .colab-df-quickchart {\n",
              "    background-color: #3B4455;\n",
              "    fill: #D2E3FC;\n",
              "  }\n",
              "\n",
              "  [theme=dark] .colab-df-quickchart:hover {\n",
              "    background-color: #434B5C;\n",
              "    box-shadow: 0px 1px 3px 1px rgba(0, 0, 0, 0.15);\n",
              "    filter: drop-shadow(0px 1px 2px rgba(0, 0, 0, 0.3));\n",
              "    fill: #FFFFFF;\n",
              "  }\n",
              "</style>\n",
              "\n",
              "    <script>\n",
              "      async function quickchart(key) {\n",
              "        const containerElement = document.querySelector('#' + key);\n",
              "        const charts = await google.colab.kernel.invokeFunction(\n",
              "            'suggestCharts', [key], {});\n",
              "      }\n",
              "    </script>\n",
              "\n",
              "      <script>\n",
              "\n",
              "function displayQuickchartButton(domScope) {\n",
              "  let quickchartButtonEl =\n",
              "    domScope.querySelector('#df-7339ced8-a415-4dbb-b6ed-39d8b7664393 button.colab-df-quickchart');\n",
              "  quickchartButtonEl.style.display =\n",
              "    google.colab.kernel.accessAllowed ? 'block' : 'none';\n",
              "}\n",
              "\n",
              "        displayQuickchartButton(document);\n",
              "      </script>\n",
              "      <style>\n",
              "    .colab-df-container {\n",
              "      display:flex;\n",
              "      flex-wrap:wrap;\n",
              "      gap: 12px;\n",
              "    }\n",
              "\n",
              "    .colab-df-convert {\n",
              "      background-color: #E8F0FE;\n",
              "      border: none;\n",
              "      border-radius: 50%;\n",
              "      cursor: pointer;\n",
              "      display: none;\n",
              "      fill: #1967D2;\n",
              "      height: 32px;\n",
              "      padding: 0 0 0 0;\n",
              "      width: 32px;\n",
              "    }\n",
              "\n",
              "    .colab-df-convert:hover {\n",
              "      background-color: #E2EBFA;\n",
              "      box-shadow: 0px 1px 2px rgba(60, 64, 67, 0.3), 0px 1px 3px 1px rgba(60, 64, 67, 0.15);\n",
              "      fill: #174EA6;\n",
              "    }\n",
              "\n",
              "    [theme=dark] .colab-df-convert {\n",
              "      background-color: #3B4455;\n",
              "      fill: #D2E3FC;\n",
              "    }\n",
              "\n",
              "    [theme=dark] .colab-df-convert:hover {\n",
              "      background-color: #434B5C;\n",
              "      box-shadow: 0px 1px 3px 1px rgba(0, 0, 0, 0.15);\n",
              "      filter: drop-shadow(0px 1px 2px rgba(0, 0, 0, 0.3));\n",
              "      fill: #FFFFFF;\n",
              "    }\n",
              "  </style>\n",
              "\n",
              "      <script>\n",
              "        const buttonEl =\n",
              "          document.querySelector('#df-8d8ace2f-9c41-4c18-a48b-f75f4db3751e button.colab-df-convert');\n",
              "        buttonEl.style.display =\n",
              "          google.colab.kernel.accessAllowed ? 'block' : 'none';\n",
              "\n",
              "        async function convertToInteractive(key) {\n",
              "          const element = document.querySelector('#df-8d8ace2f-9c41-4c18-a48b-f75f4db3751e');\n",
              "          const dataTable =\n",
              "            await google.colab.kernel.invokeFunction('convertToInteractive',\n",
              "                                                     [key], {});\n",
              "          if (!dataTable) return;\n",
              "\n",
              "          const docLinkHtml = 'Like what you see? Visit the ' +\n",
              "            '<a target=\"_blank\" href=https://colab.research.google.com/notebooks/data_table.ipynb>data table notebook</a>'\n",
              "            + ' to learn more about interactive tables.';\n",
              "          element.innerHTML = '';\n",
              "          dataTable['output_type'] = 'display_data';\n",
              "          await google.colab.output.renderOutput(dataTable, element);\n",
              "          const docLink = document.createElement('div');\n",
              "          docLink.innerHTML = docLinkHtml;\n",
              "          element.appendChild(docLink);\n",
              "        }\n",
              "      </script>\n",
              "    </div>\n",
              "  </div>\n"
            ]
          },
          "metadata": {},
          "execution_count": 71
        }
      ]
    },
    {
      "cell_type": "code",
      "source": [
        "#정규성 검정\n",
        "#귀무가설 : 정규성을 만족한다.\n",
        "#연구가설 : 정규성을 만족하지 않는다.\n",
        "print(stats.shapiro(df4['up']), '\\n', stats.shapiro(df4['down']))\n",
        "#상류집단은 p-value가 0.6이고 하류집단은 0.96으로\n",
        "#두 집단 모두 귀무가설을 채택하여 정규성을 만족한다."
      ],
      "metadata": {
        "colab": {
          "base_uri": "https://localhost:8080/"
        },
        "id": "AfrY5vPGYvWS",
        "outputId": "a6178552-3a21-44cd-92ab-8807b8c5322c"
      },
      "execution_count": null,
      "outputs": [
        {
          "output_type": "stream",
          "name": "stdout",
          "text": [
            "ShapiroResult(statistic=0.9635884165763855, pvalue=0.6447699666023254) \n",
            " ShapiroResult(statistic=0.9821230173110962, pvalue=0.9640804529190063)\n"
          ]
        }
      ]
    },
    {
      "cell_type": "code",
      "source": [
        "#쌍체표본t검정\n",
        "#귀무가설 : 두 모평균 사이의 차이는 없다.\n",
        "#연구가설 : 두 모평균 사이의 차이는 있다.\n",
        "stats.ttest_rel(df4['up'], df4['down'])\n",
        "#t검정 결과 p-value가 0.21로 귀무가설을 채택하여 두 모평균 사이의 차이는 없다."
      ],
      "metadata": {
        "colab": {
          "base_uri": "https://localhost:8080/"
        },
        "id": "NYvWEqdSZFyd",
        "outputId": "c764256e-35d5-4c99-c506-68c95c1f0a29"
      },
      "execution_count": null,
      "outputs": [
        {
          "output_type": "execute_result",
          "data": {
            "text/plain": [
              "TtestResult(statistic=1.2922226959983891, pvalue=0.21262429174344777, df=18)"
            ]
          },
          "metadata": {},
          "execution_count": 75
        }
      ]
    },
    {
      "cell_type": "markdown",
      "source": [
        "## Wilcoxon 부호-순위 검정\n",
        "\n",
        "### IF 정규성을 만족하지 않는다면\n",
        "- 정의 : 쌍체표본 t-검정과 유사하나 정규분포를 따르지 않거나, 표본의 수가 30개 미만일 경우 사용하는 검정\n",
        "- 방법 : 실험 전후의 차이를 구해 서열을 구하되, 부호는 살려 붙여준다. 그리고 양의 값과 음의 값을 각각 합산해 작은 값이 임계치와 비교하여 검정\n",
        "- 코드 : wilcoxon(실험전집단, 실험후집단)\n",
        "- 귀무가설 : 강의 상류와 하류 집단의 평균 다양성 점수에는 차이가 없다.\n",
        "- 연구가설 : 강의 상류와 하류 집단의 평균 다양성 점수에는 차이가 있다.\n",
        "\n"
      ],
      "metadata": {
        "id": "rNQAheRGZ4xx"
      }
    },
    {
      "cell_type": "code",
      "source": [
        "#wilcoxon 부호-순위 검정\n",
        "from scipy.stats import wilcoxon\n",
        "wilcoxon(df4['up'], df4['down'])\n",
        "# 검정통계량 64.5, p-value 가 0.241이다.\n",
        "# p-value가 0.241로 귀무가설을 채택하여 강의 상류와 하류 집단의 평균 다양성 점수에는 차이가 없음을 알 수 있다."
      ],
      "metadata": {
        "colab": {
          "base_uri": "https://localhost:8080/"
        },
        "id": "WliEt4VtZ6hb",
        "outputId": "a4a6d776-d7ad-4ceb-e541-fea056e4ddcb"
      },
      "execution_count": null,
      "outputs": [
        {
          "output_type": "execute_result",
          "data": {
            "text/plain": [
              "WilcoxonResult(statistic=64.5, pvalue=0.24125289916992188)"
            ]
          },
          "metadata": {},
          "execution_count": 78
        }
      ]
    },
    {
      "cell_type": "markdown",
      "source": [
        "# 문제 5\n",
        "\n",
        "> 공장 X,Y,Z의 평균 출하 소요시간을 여러 일자에 거쳐 측정한 데이터이다. 각 공장의 중위수의 차이가 존재하는지 확인하려 한다.(모든 검정은 유의수준 0.05하에서 진행된다.)\n",
        "- 정규성 검정을 진행하시오.\n",
        "- 귀무가설 및 연구가설을 작성하시오.\n",
        "- 검정통계량을 구하고 연구가설 채택 여부를 기술하시오.\n",
        "- 각 공장별 소요시간이 정규성을 만족한다고 할 때 등분산성 검정을 진행하시오.(levene, bartlett, fligner 중 적절한 검정방법을 사용하시오.)\n",
        "- 각 공장별 소요시간이 정규성 및 등분산성 모두를 만족한다고 할 때 각 공장별 출하 소요시간에 차이가 있는지 귀무가설 및 연구가설을 설정하고 통계검정을 진행하시오."
      ],
      "metadata": {
        "id": "BRqtOuNVbc4i"
      }
    },
    {
      "cell_type": "code",
      "source": [
        "import pandas as pd\n",
        "df5= pd.read_csv('https://raw.githubusercontent.com/Datamanim/datarepo/main/adp/25/problem5.csv',encoding='cp949')\n",
        "df5.head()"
      ],
      "metadata": {
        "colab": {
          "base_uri": "https://localhost:8080/",
          "height": 206
        },
        "id": "JEPfukyPbF9f",
        "outputId": "2b497e62-3be0-4fe0-aae6-96ef9e21f63a"
      },
      "execution_count": 2,
      "outputs": [
        {
          "output_type": "execute_result",
          "data": {
            "text/plain": [
              "   출하 소요시간 공장명  공장별 출하 소요시간 순위\n",
              "0       71   Z              11\n",
              "1       75   X              14\n",
              "2       71   X              12\n",
              "3       53   Z               1\n",
              "4       50   X               1"
            ],
            "text/html": [
              "\n",
              "\n",
              "  <div id=\"df-183289d5-d9bc-442c-b362-cb5e727a6e17\">\n",
              "    <div class=\"colab-df-container\">\n",
              "      <div>\n",
              "<style scoped>\n",
              "    .dataframe tbody tr th:only-of-type {\n",
              "        vertical-align: middle;\n",
              "    }\n",
              "\n",
              "    .dataframe tbody tr th {\n",
              "        vertical-align: top;\n",
              "    }\n",
              "\n",
              "    .dataframe thead th {\n",
              "        text-align: right;\n",
              "    }\n",
              "</style>\n",
              "<table border=\"1\" class=\"dataframe\">\n",
              "  <thead>\n",
              "    <tr style=\"text-align: right;\">\n",
              "      <th></th>\n",
              "      <th>출하 소요시간</th>\n",
              "      <th>공장명</th>\n",
              "      <th>공장별 출하 소요시간 순위</th>\n",
              "    </tr>\n",
              "  </thead>\n",
              "  <tbody>\n",
              "    <tr>\n",
              "      <th>0</th>\n",
              "      <td>71</td>\n",
              "      <td>Z</td>\n",
              "      <td>11</td>\n",
              "    </tr>\n",
              "    <tr>\n",
              "      <th>1</th>\n",
              "      <td>75</td>\n",
              "      <td>X</td>\n",
              "      <td>14</td>\n",
              "    </tr>\n",
              "    <tr>\n",
              "      <th>2</th>\n",
              "      <td>71</td>\n",
              "      <td>X</td>\n",
              "      <td>12</td>\n",
              "    </tr>\n",
              "    <tr>\n",
              "      <th>3</th>\n",
              "      <td>53</td>\n",
              "      <td>Z</td>\n",
              "      <td>1</td>\n",
              "    </tr>\n",
              "    <tr>\n",
              "      <th>4</th>\n",
              "      <td>50</td>\n",
              "      <td>X</td>\n",
              "      <td>1</td>\n",
              "    </tr>\n",
              "  </tbody>\n",
              "</table>\n",
              "</div>\n",
              "      <button class=\"colab-df-convert\" onclick=\"convertToInteractive('df-183289d5-d9bc-442c-b362-cb5e727a6e17')\"\n",
              "              title=\"Convert this dataframe to an interactive table.\"\n",
              "              style=\"display:none;\">\n",
              "\n",
              "  <svg xmlns=\"http://www.w3.org/2000/svg\" height=\"24px\"viewBox=\"0 0 24 24\"\n",
              "       width=\"24px\">\n",
              "    <path d=\"M0 0h24v24H0V0z\" fill=\"none\"/>\n",
              "    <path d=\"M18.56 5.44l.94 2.06.94-2.06 2.06-.94-2.06-.94-.94-2.06-.94 2.06-2.06.94zm-11 1L8.5 8.5l.94-2.06 2.06-.94-2.06-.94L8.5 2.5l-.94 2.06-2.06.94zm10 10l.94 2.06.94-2.06 2.06-.94-2.06-.94-.94-2.06-.94 2.06-2.06.94z\"/><path d=\"M17.41 7.96l-1.37-1.37c-.4-.4-.92-.59-1.43-.59-.52 0-1.04.2-1.43.59L10.3 9.45l-7.72 7.72c-.78.78-.78 2.05 0 2.83L4 21.41c.39.39.9.59 1.41.59.51 0 1.02-.2 1.41-.59l7.78-7.78 2.81-2.81c.8-.78.8-2.07 0-2.86zM5.41 20L4 18.59l7.72-7.72 1.47 1.35L5.41 20z\"/>\n",
              "  </svg>\n",
              "      </button>\n",
              "\n",
              "\n",
              "\n",
              "    <div id=\"df-632356e0-2885-400b-8638-1467820c2fc4\">\n",
              "      <button class=\"colab-df-quickchart\" onclick=\"quickchart('df-632356e0-2885-400b-8638-1467820c2fc4')\"\n",
              "              title=\"Suggest charts.\"\n",
              "              style=\"display:none;\">\n",
              "\n",
              "<svg xmlns=\"http://www.w3.org/2000/svg\" height=\"24px\"viewBox=\"0 0 24 24\"\n",
              "     width=\"24px\">\n",
              "    <g>\n",
              "        <path d=\"M19 3H5c-1.1 0-2 .9-2 2v14c0 1.1.9 2 2 2h14c1.1 0 2-.9 2-2V5c0-1.1-.9-2-2-2zM9 17H7v-7h2v7zm4 0h-2V7h2v10zm4 0h-2v-4h2v4z\"/>\n",
              "    </g>\n",
              "</svg>\n",
              "      </button>\n",
              "    </div>\n",
              "\n",
              "<style>\n",
              "  .colab-df-quickchart {\n",
              "    background-color: #E8F0FE;\n",
              "    border: none;\n",
              "    border-radius: 50%;\n",
              "    cursor: pointer;\n",
              "    display: none;\n",
              "    fill: #1967D2;\n",
              "    height: 32px;\n",
              "    padding: 0 0 0 0;\n",
              "    width: 32px;\n",
              "  }\n",
              "\n",
              "  .colab-df-quickchart:hover {\n",
              "    background-color: #E2EBFA;\n",
              "    box-shadow: 0px 1px 2px rgba(60, 64, 67, 0.3), 0px 1px 3px 1px rgba(60, 64, 67, 0.15);\n",
              "    fill: #174EA6;\n",
              "  }\n",
              "\n",
              "  [theme=dark] .colab-df-quickchart {\n",
              "    background-color: #3B4455;\n",
              "    fill: #D2E3FC;\n",
              "  }\n",
              "\n",
              "  [theme=dark] .colab-df-quickchart:hover {\n",
              "    background-color: #434B5C;\n",
              "    box-shadow: 0px 1px 3px 1px rgba(0, 0, 0, 0.15);\n",
              "    filter: drop-shadow(0px 1px 2px rgba(0, 0, 0, 0.3));\n",
              "    fill: #FFFFFF;\n",
              "  }\n",
              "</style>\n",
              "\n",
              "    <script>\n",
              "      async function quickchart(key) {\n",
              "        const containerElement = document.querySelector('#' + key);\n",
              "        const charts = await google.colab.kernel.invokeFunction(\n",
              "            'suggestCharts', [key], {});\n",
              "      }\n",
              "    </script>\n",
              "\n",
              "      <script>\n",
              "\n",
              "function displayQuickchartButton(domScope) {\n",
              "  let quickchartButtonEl =\n",
              "    domScope.querySelector('#df-632356e0-2885-400b-8638-1467820c2fc4 button.colab-df-quickchart');\n",
              "  quickchartButtonEl.style.display =\n",
              "    google.colab.kernel.accessAllowed ? 'block' : 'none';\n",
              "}\n",
              "\n",
              "        displayQuickchartButton(document);\n",
              "      </script>\n",
              "      <style>\n",
              "    .colab-df-container {\n",
              "      display:flex;\n",
              "      flex-wrap:wrap;\n",
              "      gap: 12px;\n",
              "    }\n",
              "\n",
              "    .colab-df-convert {\n",
              "      background-color: #E8F0FE;\n",
              "      border: none;\n",
              "      border-radius: 50%;\n",
              "      cursor: pointer;\n",
              "      display: none;\n",
              "      fill: #1967D2;\n",
              "      height: 32px;\n",
              "      padding: 0 0 0 0;\n",
              "      width: 32px;\n",
              "    }\n",
              "\n",
              "    .colab-df-convert:hover {\n",
              "      background-color: #E2EBFA;\n",
              "      box-shadow: 0px 1px 2px rgba(60, 64, 67, 0.3), 0px 1px 3px 1px rgba(60, 64, 67, 0.15);\n",
              "      fill: #174EA6;\n",
              "    }\n",
              "\n",
              "    [theme=dark] .colab-df-convert {\n",
              "      background-color: #3B4455;\n",
              "      fill: #D2E3FC;\n",
              "    }\n",
              "\n",
              "    [theme=dark] .colab-df-convert:hover {\n",
              "      background-color: #434B5C;\n",
              "      box-shadow: 0px 1px 3px 1px rgba(0, 0, 0, 0.15);\n",
              "      filter: drop-shadow(0px 1px 2px rgba(0, 0, 0, 0.3));\n",
              "      fill: #FFFFFF;\n",
              "    }\n",
              "  </style>\n",
              "\n",
              "      <script>\n",
              "        const buttonEl =\n",
              "          document.querySelector('#df-183289d5-d9bc-442c-b362-cb5e727a6e17 button.colab-df-convert');\n",
              "        buttonEl.style.display =\n",
              "          google.colab.kernel.accessAllowed ? 'block' : 'none';\n",
              "\n",
              "        async function convertToInteractive(key) {\n",
              "          const element = document.querySelector('#df-183289d5-d9bc-442c-b362-cb5e727a6e17');\n",
              "          const dataTable =\n",
              "            await google.colab.kernel.invokeFunction('convertToInteractive',\n",
              "                                                     [key], {});\n",
              "          if (!dataTable) return;\n",
              "\n",
              "          const docLinkHtml = 'Like what you see? Visit the ' +\n",
              "            '<a target=\"_blank\" href=https://colab.research.google.com/notebooks/data_table.ipynb>data table notebook</a>'\n",
              "            + ' to learn more about interactive tables.';\n",
              "          element.innerHTML = '';\n",
              "          dataTable['output_type'] = 'display_data';\n",
              "          await google.colab.output.renderOutput(dataTable, element);\n",
              "          const docLink = document.createElement('div');\n",
              "          docLink.innerHTML = docLinkHtml;\n",
              "          element.appendChild(docLink);\n",
              "        }\n",
              "      </script>\n",
              "    </div>\n",
              "  </div>\n"
            ]
          },
          "metadata": {},
          "execution_count": 2
        }
      ]
    },
    {
      "cell_type": "code",
      "source": [
        "df5.공장명.unique()"
      ],
      "metadata": {
        "colab": {
          "base_uri": "https://localhost:8080/"
        },
        "id": "eMW0WDTduH5Y",
        "outputId": "c7b6ad05-e305-4454-f6e0-cb48919e81c2"
      },
      "execution_count": 3,
      "outputs": [
        {
          "output_type": "execute_result",
          "data": {
            "text/plain": [
              "array(['Z', 'X', 'Y'], dtype=object)"
            ]
          },
          "metadata": {},
          "execution_count": 3
        }
      ]
    },
    {
      "cell_type": "code",
      "source": [
        "#해당 문제는 3개 이상의 독립 표본 집단간의 분포가 동일한지 비교하는 검정으로 일원분산분석을 시행할 수 있다.\n",
        "#다만, 세 집단의 평균이 아닌 중위수의 차이를 확인하는 것으로 일원분산분석과 유사한 Kruskal-Wallis test를 시행하는게 맞다.\n",
        "import scipy.stats as stats\n",
        "from scipy.stats import shapiro\n",
        "plant_x=df5.loc[df5.공장명=='X', '출하 소요시간']\n",
        "plant_y=df5.loc[df5.공장명=='Y', '출하 소요시간']\n",
        "plant_z=df5.loc[df5.공장명=='Z', '출하 소요시간']"
      ],
      "metadata": {
        "id": "wb_sqLnbblis"
      },
      "execution_count": 12,
      "outputs": []
    },
    {
      "cell_type": "code",
      "source": [
        "#정규성 검정\n",
        "#귀무가설 : 정규성을 따른다.\n",
        "#연구가설 : 정규성을 따르지 않는다.\n",
        "print(stats.shapiro(plant_x), '\\n',\n",
        "      stats.shapiro(plant_y), '\\n',\n",
        "      stats.shapiro(plant_z)\n",
        ")\n",
        "#shapiro 통계량에 따라 p-value를 살펴볼 떄\n",
        "#세 집단모두 유의수준인 0.05보다 크기에 귀무가설을 채택한다.\n",
        "#즉, 세 집단의 정규분포를 따름을 알 수 있다."
      ],
      "metadata": {
        "colab": {
          "base_uri": "https://localhost:8080/"
        },
        "id": "iMw-5gdPuEuA",
        "outputId": "d48f3f1f-953f-432e-bdd6-856113cf99c8"
      },
      "execution_count": 15,
      "outputs": [
        {
          "output_type": "stream",
          "name": "stdout",
          "text": [
            "ShapiroResult(statistic=0.9752241969108582, pvalue=0.9264748692512512) \n",
            " ShapiroResult(statistic=0.954872727394104, pvalue=0.6041566133499146) \n",
            " ShapiroResult(statistic=0.9721502065658569, pvalue=0.9040274024009705)\n"
          ]
        }
      ]
    },
    {
      "cell_type": "code",
      "source": [
        "#등분산성 가정 (문제5.4)\n",
        "#귀무가설 : 등분산성을 만족한다.\n",
        "#연구가설 : 등분산성을 만족하지 않는다.\n",
        "#ANOVA의 등분산은 주로 levene test를 이용한다고 한다.\n",
        "stats.levene(plant_x,plant_y ,plant_z)\n",
        "#p-value가 0.260으로 귀무가설을 채택하여 등분산성을 만족한다."
      ],
      "metadata": {
        "colab": {
          "base_uri": "https://localhost:8080/"
        },
        "id": "53gYN67o03mD",
        "outputId": "738e288c-a890-4bfd-e988-f6e19de6b519"
      },
      "execution_count": 51,
      "outputs": [
        {
          "output_type": "execute_result",
          "data": {
            "text/plain": [
              "LeveneResult(statistic=1.3941742524716658, pvalue=0.25954846310105517)"
            ]
          },
          "metadata": {},
          "execution_count": 51
        }
      ]
    },
    {
      "cell_type": "code",
      "source": [
        "#각 공장별 소요시간이 정규성 및 등분산성 모두를 만족한다고 할 때\n",
        "#각 공장별 출하 소요시간에 차이가 있는지 귀무가설 및 연구가설을 설정하고 통계검정을 진행하시오.\n",
        "#중위수를 비교하는 것에 집중하지 않고 출하 소요시간에 차이가 있는지를 본다고 하면\n",
        "#위의 세 집단이 모두 정규성과 등분산성을 만족하므로 일원분산분석을 시행할 수 있다.\n",
        "#귀무가설 : k개 집단 간 모평균에는 차이가 없다.(출하소요시간에 따른 공장명 차이는 없다.)\n",
        "#연구가설 : k개 집단 간 모평균에는 차이가 있다.(출하소요시간에 따른 공장명 차이는 있다.)\n",
        "stats.f_oneway(plant_x,plant_y ,plant_z)\n",
        "#p-value가 0.624로 귀무가설을 채택하여 출하소요시간에 따른 공장 차이는 없다고 볼 수 있다."
      ],
      "metadata": {
        "colab": {
          "base_uri": "https://localhost:8080/"
        },
        "id": "MdoVpu0O1jJD",
        "outputId": "a472bff2-b42c-4b11-93d0-930f2deb6e41"
      },
      "execution_count": 31,
      "outputs": [
        {
          "output_type": "execute_result",
          "data": {
            "text/plain": [
              "F_onewayResult(statistic=0.4766856291462346, pvalue=0.6242353005571999)"
            ]
          },
          "metadata": {},
          "execution_count": 31
        }
      ]
    },
    {
      "cell_type": "markdown",
      "source": [
        "## kruskal-Wallis test 검정\n",
        "- 정의 : 3개 이상의 독립표본집단간의 분포가 동일한지 비교하는 일원분산분석과 유사한 검정\n",
        "- 방법 : kruskal-Wallis H 통계량을 이용하여 자유도가 (표본집단의 개수 -1)인 카이제곱 분포표를 이용하여 유의성을 찾는다.\n",
        "-코드 : kruskal(집단1, 집단2, 집단3)\n",
        "- 예시 : 생산량이 가장 낮은 공장을 찾아 공장 설비 등을 보강시켜 생산량을 높이기 위해서 공장들의 철근생산량을 검정\n",
        "- 귀무가설 : 모집단의 중앙값은 같다.(k개의 집단의 분포가 모두 동일하다.)\n",
        "- 연구가설 : 모집단의 중앙값은 같지 않다. 즉, 적어도 하나의 모집단의 중앙값은 다른 집단의 중앙값과는 다르다.(k개의 집단의 분포가 모두 동일하지는 않다.)"
      ],
      "metadata": {
        "id": "f00ZgytfvsI0"
      }
    },
    {
      "cell_type": "code",
      "source": [
        "#사실, Kruskal-Wallis test은 정규성을 따르지 않아도 사용이 가능하다.\n",
        "from scipy.stats import kruskal\n",
        "kruskal(plant_x,plant_y ,plant_z)\n",
        "#검정통계량 0.722 p-value 0.697로 귀무가설을 채택한다.\n",
        "#세 공장의 출하 소요시간의 중앙값은 모두 동일하다고 볼 수 있다."
      ],
      "metadata": {
        "colab": {
          "base_uri": "https://localhost:8080/"
        },
        "id": "L9F-ZKl5uYrp",
        "outputId": "a984823a-2960-4c52-e287-092f46f08557"
      },
      "execution_count": 19,
      "outputs": [
        {
          "output_type": "execute_result",
          "data": {
            "text/plain": [
              "KruskalResult(statistic=0.7217886080379153, pvalue=0.6970526702392181)"
            ]
          },
          "metadata": {},
          "execution_count": 19
        }
      ]
    },
    {
      "cell_type": "code",
      "source": [
        "len(plant_x), len(plant_y), len(plant_z)"
      ],
      "metadata": {
        "colab": {
          "base_uri": "https://localhost:8080/"
        },
        "id": "srvAi3HOyNdc",
        "outputId": "fc6fa6f1-8936-4aec-b505-5a8228584cc4"
      },
      "execution_count": 21,
      "outputs": [
        {
          "output_type": "execute_result",
          "data": {
            "text/plain": [
              "(15, 15, 14)"
            ]
          },
          "metadata": {},
          "execution_count": 21
        }
      ]
    },
    {
      "cell_type": "code",
      "source": [
        "# 생산량 평균 순위를 출력하기 위한 코드 과정은 Mann-Whitney U검정에서 작성한 코드와 동일하다.\n",
        "df = pd.DataFrame(plant_x.append(plant_y).append(plant_z))\n",
        "df['소요시간 순위'] =df.rank(ascending=True) # 소요시간이 커질수록 순위는 낮아져야 하므로 ascending=True\n",
        "df['공장명'] = ['X']*len(plant_x) + ['Y']*len(plant_y) + ['Z']*len(plant_z)\n",
        "df.groupby(['공장명']).mean()"
      ],
      "metadata": {
        "colab": {
          "base_uri": "https://localhost:8080/",
          "height": 249
        },
        "id": "rCV3gbdCxcjS",
        "outputId": "e95e3740-9d40-461e-b083-25ef069ab7e2"
      },
      "execution_count": 28,
      "outputs": [
        {
          "output_type": "stream",
          "name": "stderr",
          "text": [
            "<ipython-input-28-cddfbf0bb203>:4: FutureWarning: The series.append method is deprecated and will be removed from pandas in a future version. Use pandas.concat instead.\n",
            "  df = pd.DataFrame(plant_x.append(plant_y).append(plant_z))\n",
            "<ipython-input-28-cddfbf0bb203>:4: FutureWarning: The series.append method is deprecated and will be removed from pandas in a future version. Use pandas.concat instead.\n",
            "  df = pd.DataFrame(plant_x.append(plant_y).append(plant_z))\n"
          ]
        },
        {
          "output_type": "execute_result",
          "data": {
            "text/plain": [
              "       출하 소요시간    소요시간 순위\n",
              "공장명                      \n",
              "X    63.733333  20.266667\n",
              "Y    66.333333  24.066667\n",
              "Z    65.500000  23.214286"
            ],
            "text/html": [
              "\n",
              "\n",
              "  <div id=\"df-eac26133-dd6b-4c6b-8cf1-ca2cee9ff861\">\n",
              "    <div class=\"colab-df-container\">\n",
              "      <div>\n",
              "<style scoped>\n",
              "    .dataframe tbody tr th:only-of-type {\n",
              "        vertical-align: middle;\n",
              "    }\n",
              "\n",
              "    .dataframe tbody tr th {\n",
              "        vertical-align: top;\n",
              "    }\n",
              "\n",
              "    .dataframe thead th {\n",
              "        text-align: right;\n",
              "    }\n",
              "</style>\n",
              "<table border=\"1\" class=\"dataframe\">\n",
              "  <thead>\n",
              "    <tr style=\"text-align: right;\">\n",
              "      <th></th>\n",
              "      <th>출하 소요시간</th>\n",
              "      <th>소요시간 순위</th>\n",
              "    </tr>\n",
              "    <tr>\n",
              "      <th>공장명</th>\n",
              "      <th></th>\n",
              "      <th></th>\n",
              "    </tr>\n",
              "  </thead>\n",
              "  <tbody>\n",
              "    <tr>\n",
              "      <th>X</th>\n",
              "      <td>63.733333</td>\n",
              "      <td>20.266667</td>\n",
              "    </tr>\n",
              "    <tr>\n",
              "      <th>Y</th>\n",
              "      <td>66.333333</td>\n",
              "      <td>24.066667</td>\n",
              "    </tr>\n",
              "    <tr>\n",
              "      <th>Z</th>\n",
              "      <td>65.500000</td>\n",
              "      <td>23.214286</td>\n",
              "    </tr>\n",
              "  </tbody>\n",
              "</table>\n",
              "</div>\n",
              "      <button class=\"colab-df-convert\" onclick=\"convertToInteractive('df-eac26133-dd6b-4c6b-8cf1-ca2cee9ff861')\"\n",
              "              title=\"Convert this dataframe to an interactive table.\"\n",
              "              style=\"display:none;\">\n",
              "\n",
              "  <svg xmlns=\"http://www.w3.org/2000/svg\" height=\"24px\"viewBox=\"0 0 24 24\"\n",
              "       width=\"24px\">\n",
              "    <path d=\"M0 0h24v24H0V0z\" fill=\"none\"/>\n",
              "    <path d=\"M18.56 5.44l.94 2.06.94-2.06 2.06-.94-2.06-.94-.94-2.06-.94 2.06-2.06.94zm-11 1L8.5 8.5l.94-2.06 2.06-.94-2.06-.94L8.5 2.5l-.94 2.06-2.06.94zm10 10l.94 2.06.94-2.06 2.06-.94-2.06-.94-.94-2.06-.94 2.06-2.06.94z\"/><path d=\"M17.41 7.96l-1.37-1.37c-.4-.4-.92-.59-1.43-.59-.52 0-1.04.2-1.43.59L10.3 9.45l-7.72 7.72c-.78.78-.78 2.05 0 2.83L4 21.41c.39.39.9.59 1.41.59.51 0 1.02-.2 1.41-.59l7.78-7.78 2.81-2.81c.8-.78.8-2.07 0-2.86zM5.41 20L4 18.59l7.72-7.72 1.47 1.35L5.41 20z\"/>\n",
              "  </svg>\n",
              "      </button>\n",
              "\n",
              "\n",
              "\n",
              "    <div id=\"df-d0ecf14c-1201-4545-ae7a-f2dd0ef76882\">\n",
              "      <button class=\"colab-df-quickchart\" onclick=\"quickchart('df-d0ecf14c-1201-4545-ae7a-f2dd0ef76882')\"\n",
              "              title=\"Suggest charts.\"\n",
              "              style=\"display:none;\">\n",
              "\n",
              "<svg xmlns=\"http://www.w3.org/2000/svg\" height=\"24px\"viewBox=\"0 0 24 24\"\n",
              "     width=\"24px\">\n",
              "    <g>\n",
              "        <path d=\"M19 3H5c-1.1 0-2 .9-2 2v14c0 1.1.9 2 2 2h14c1.1 0 2-.9 2-2V5c0-1.1-.9-2-2-2zM9 17H7v-7h2v7zm4 0h-2V7h2v10zm4 0h-2v-4h2v4z\"/>\n",
              "    </g>\n",
              "</svg>\n",
              "      </button>\n",
              "    </div>\n",
              "\n",
              "<style>\n",
              "  .colab-df-quickchart {\n",
              "    background-color: #E8F0FE;\n",
              "    border: none;\n",
              "    border-radius: 50%;\n",
              "    cursor: pointer;\n",
              "    display: none;\n",
              "    fill: #1967D2;\n",
              "    height: 32px;\n",
              "    padding: 0 0 0 0;\n",
              "    width: 32px;\n",
              "  }\n",
              "\n",
              "  .colab-df-quickchart:hover {\n",
              "    background-color: #E2EBFA;\n",
              "    box-shadow: 0px 1px 2px rgba(60, 64, 67, 0.3), 0px 1px 3px 1px rgba(60, 64, 67, 0.15);\n",
              "    fill: #174EA6;\n",
              "  }\n",
              "\n",
              "  [theme=dark] .colab-df-quickchart {\n",
              "    background-color: #3B4455;\n",
              "    fill: #D2E3FC;\n",
              "  }\n",
              "\n",
              "  [theme=dark] .colab-df-quickchart:hover {\n",
              "    background-color: #434B5C;\n",
              "    box-shadow: 0px 1px 3px 1px rgba(0, 0, 0, 0.15);\n",
              "    filter: drop-shadow(0px 1px 2px rgba(0, 0, 0, 0.3));\n",
              "    fill: #FFFFFF;\n",
              "  }\n",
              "</style>\n",
              "\n",
              "    <script>\n",
              "      async function quickchart(key) {\n",
              "        const containerElement = document.querySelector('#' + key);\n",
              "        const charts = await google.colab.kernel.invokeFunction(\n",
              "            'suggestCharts', [key], {});\n",
              "      }\n",
              "    </script>\n",
              "\n",
              "      <script>\n",
              "\n",
              "function displayQuickchartButton(domScope) {\n",
              "  let quickchartButtonEl =\n",
              "    domScope.querySelector('#df-d0ecf14c-1201-4545-ae7a-f2dd0ef76882 button.colab-df-quickchart');\n",
              "  quickchartButtonEl.style.display =\n",
              "    google.colab.kernel.accessAllowed ? 'block' : 'none';\n",
              "}\n",
              "\n",
              "        displayQuickchartButton(document);\n",
              "      </script>\n",
              "      <style>\n",
              "    .colab-df-container {\n",
              "      display:flex;\n",
              "      flex-wrap:wrap;\n",
              "      gap: 12px;\n",
              "    }\n",
              "\n",
              "    .colab-df-convert {\n",
              "      background-color: #E8F0FE;\n",
              "      border: none;\n",
              "      border-radius: 50%;\n",
              "      cursor: pointer;\n",
              "      display: none;\n",
              "      fill: #1967D2;\n",
              "      height: 32px;\n",
              "      padding: 0 0 0 0;\n",
              "      width: 32px;\n",
              "    }\n",
              "\n",
              "    .colab-df-convert:hover {\n",
              "      background-color: #E2EBFA;\n",
              "      box-shadow: 0px 1px 2px rgba(60, 64, 67, 0.3), 0px 1px 3px 1px rgba(60, 64, 67, 0.15);\n",
              "      fill: #174EA6;\n",
              "    }\n",
              "\n",
              "    [theme=dark] .colab-df-convert {\n",
              "      background-color: #3B4455;\n",
              "      fill: #D2E3FC;\n",
              "    }\n",
              "\n",
              "    [theme=dark] .colab-df-convert:hover {\n",
              "      background-color: #434B5C;\n",
              "      box-shadow: 0px 1px 3px 1px rgba(0, 0, 0, 0.15);\n",
              "      filter: drop-shadow(0px 1px 2px rgba(0, 0, 0, 0.3));\n",
              "      fill: #FFFFFF;\n",
              "    }\n",
              "  </style>\n",
              "\n",
              "      <script>\n",
              "        const buttonEl =\n",
              "          document.querySelector('#df-eac26133-dd6b-4c6b-8cf1-ca2cee9ff861 button.colab-df-convert');\n",
              "        buttonEl.style.display =\n",
              "          google.colab.kernel.accessAllowed ? 'block' : 'none';\n",
              "\n",
              "        async function convertToInteractive(key) {\n",
              "          const element = document.querySelector('#df-eac26133-dd6b-4c6b-8cf1-ca2cee9ff861');\n",
              "          const dataTable =\n",
              "            await google.colab.kernel.invokeFunction('convertToInteractive',\n",
              "                                                     [key], {});\n",
              "          if (!dataTable) return;\n",
              "\n",
              "          const docLinkHtml = 'Like what you see? Visit the ' +\n",
              "            '<a target=\"_blank\" href=https://colab.research.google.com/notebooks/data_table.ipynb>data table notebook</a>'\n",
              "            + ' to learn more about interactive tables.';\n",
              "          element.innerHTML = '';\n",
              "          dataTable['output_type'] = 'display_data';\n",
              "          await google.colab.output.renderOutput(dataTable, element);\n",
              "          const docLink = document.createElement('div');\n",
              "          docLink.innerHTML = docLinkHtml;\n",
              "          element.appendChild(docLink);\n",
              "        }\n",
              "      </script>\n",
              "    </div>\n",
              "  </div>\n"
            ]
          },
          "metadata": {},
          "execution_count": 28
        }
      ]
    },
    {
      "cell_type": "code",
      "source": [
        "df.groupby(['공장명']).median()\n",
        "#만약 세 집단의 분포가 동일하지 않았다면, 이어서 공장 간의 생산능력 현황을 파악하기 위해\n",
        "#생산량 평균 순위 또는 문제에서는 중위수 순위를 볼 수 있을 것이고,\n",
        "#중위수가 낮은 공장 Y의 생산량 보강을 위해 생산지원 방안을 모색하는 것이 필요할 수도 있다."
      ],
      "metadata": {
        "colab": {
          "base_uri": "https://localhost:8080/",
          "height": 175
        },
        "id": "153hM6TFyLsG",
        "outputId": "fbaa905a-0bc5-4ecf-dce3-abae8a65f630"
      },
      "execution_count": 29,
      "outputs": [
        {
          "output_type": "execute_result",
          "data": {
            "text/plain": [
              "     출하 소요시간  소요시간 순위\n",
              "공장명                  \n",
              "X       64.0    17.50\n",
              "Y       67.0    24.50\n",
              "Z       66.5    23.75"
            ],
            "text/html": [
              "\n",
              "\n",
              "  <div id=\"df-f6d7ef12-9051-4320-b36e-378a5381a416\">\n",
              "    <div class=\"colab-df-container\">\n",
              "      <div>\n",
              "<style scoped>\n",
              "    .dataframe tbody tr th:only-of-type {\n",
              "        vertical-align: middle;\n",
              "    }\n",
              "\n",
              "    .dataframe tbody tr th {\n",
              "        vertical-align: top;\n",
              "    }\n",
              "\n",
              "    .dataframe thead th {\n",
              "        text-align: right;\n",
              "    }\n",
              "</style>\n",
              "<table border=\"1\" class=\"dataframe\">\n",
              "  <thead>\n",
              "    <tr style=\"text-align: right;\">\n",
              "      <th></th>\n",
              "      <th>출하 소요시간</th>\n",
              "      <th>소요시간 순위</th>\n",
              "    </tr>\n",
              "    <tr>\n",
              "      <th>공장명</th>\n",
              "      <th></th>\n",
              "      <th></th>\n",
              "    </tr>\n",
              "  </thead>\n",
              "  <tbody>\n",
              "    <tr>\n",
              "      <th>X</th>\n",
              "      <td>64.0</td>\n",
              "      <td>17.50</td>\n",
              "    </tr>\n",
              "    <tr>\n",
              "      <th>Y</th>\n",
              "      <td>67.0</td>\n",
              "      <td>24.50</td>\n",
              "    </tr>\n",
              "    <tr>\n",
              "      <th>Z</th>\n",
              "      <td>66.5</td>\n",
              "      <td>23.75</td>\n",
              "    </tr>\n",
              "  </tbody>\n",
              "</table>\n",
              "</div>\n",
              "      <button class=\"colab-df-convert\" onclick=\"convertToInteractive('df-f6d7ef12-9051-4320-b36e-378a5381a416')\"\n",
              "              title=\"Convert this dataframe to an interactive table.\"\n",
              "              style=\"display:none;\">\n",
              "\n",
              "  <svg xmlns=\"http://www.w3.org/2000/svg\" height=\"24px\"viewBox=\"0 0 24 24\"\n",
              "       width=\"24px\">\n",
              "    <path d=\"M0 0h24v24H0V0z\" fill=\"none\"/>\n",
              "    <path d=\"M18.56 5.44l.94 2.06.94-2.06 2.06-.94-2.06-.94-.94-2.06-.94 2.06-2.06.94zm-11 1L8.5 8.5l.94-2.06 2.06-.94-2.06-.94L8.5 2.5l-.94 2.06-2.06.94zm10 10l.94 2.06.94-2.06 2.06-.94-2.06-.94-.94-2.06-.94 2.06-2.06.94z\"/><path d=\"M17.41 7.96l-1.37-1.37c-.4-.4-.92-.59-1.43-.59-.52 0-1.04.2-1.43.59L10.3 9.45l-7.72 7.72c-.78.78-.78 2.05 0 2.83L4 21.41c.39.39.9.59 1.41.59.51 0 1.02-.2 1.41-.59l7.78-7.78 2.81-2.81c.8-.78.8-2.07 0-2.86zM5.41 20L4 18.59l7.72-7.72 1.47 1.35L5.41 20z\"/>\n",
              "  </svg>\n",
              "      </button>\n",
              "\n",
              "\n",
              "\n",
              "    <div id=\"df-9a2b6113-ee9a-422a-a1f4-f3152de2a005\">\n",
              "      <button class=\"colab-df-quickchart\" onclick=\"quickchart('df-9a2b6113-ee9a-422a-a1f4-f3152de2a005')\"\n",
              "              title=\"Suggest charts.\"\n",
              "              style=\"display:none;\">\n",
              "\n",
              "<svg xmlns=\"http://www.w3.org/2000/svg\" height=\"24px\"viewBox=\"0 0 24 24\"\n",
              "     width=\"24px\">\n",
              "    <g>\n",
              "        <path d=\"M19 3H5c-1.1 0-2 .9-2 2v14c0 1.1.9 2 2 2h14c1.1 0 2-.9 2-2V5c0-1.1-.9-2-2-2zM9 17H7v-7h2v7zm4 0h-2V7h2v10zm4 0h-2v-4h2v4z\"/>\n",
              "    </g>\n",
              "</svg>\n",
              "      </button>\n",
              "    </div>\n",
              "\n",
              "<style>\n",
              "  .colab-df-quickchart {\n",
              "    background-color: #E8F0FE;\n",
              "    border: none;\n",
              "    border-radius: 50%;\n",
              "    cursor: pointer;\n",
              "    display: none;\n",
              "    fill: #1967D2;\n",
              "    height: 32px;\n",
              "    padding: 0 0 0 0;\n",
              "    width: 32px;\n",
              "  }\n",
              "\n",
              "  .colab-df-quickchart:hover {\n",
              "    background-color: #E2EBFA;\n",
              "    box-shadow: 0px 1px 2px rgba(60, 64, 67, 0.3), 0px 1px 3px 1px rgba(60, 64, 67, 0.15);\n",
              "    fill: #174EA6;\n",
              "  }\n",
              "\n",
              "  [theme=dark] .colab-df-quickchart {\n",
              "    background-color: #3B4455;\n",
              "    fill: #D2E3FC;\n",
              "  }\n",
              "\n",
              "  [theme=dark] .colab-df-quickchart:hover {\n",
              "    background-color: #434B5C;\n",
              "    box-shadow: 0px 1px 3px 1px rgba(0, 0, 0, 0.15);\n",
              "    filter: drop-shadow(0px 1px 2px rgba(0, 0, 0, 0.3));\n",
              "    fill: #FFFFFF;\n",
              "  }\n",
              "</style>\n",
              "\n",
              "    <script>\n",
              "      async function quickchart(key) {\n",
              "        const containerElement = document.querySelector('#' + key);\n",
              "        const charts = await google.colab.kernel.invokeFunction(\n",
              "            'suggestCharts', [key], {});\n",
              "      }\n",
              "    </script>\n",
              "\n",
              "      <script>\n",
              "\n",
              "function displayQuickchartButton(domScope) {\n",
              "  let quickchartButtonEl =\n",
              "    domScope.querySelector('#df-9a2b6113-ee9a-422a-a1f4-f3152de2a005 button.colab-df-quickchart');\n",
              "  quickchartButtonEl.style.display =\n",
              "    google.colab.kernel.accessAllowed ? 'block' : 'none';\n",
              "}\n",
              "\n",
              "        displayQuickchartButton(document);\n",
              "      </script>\n",
              "      <style>\n",
              "    .colab-df-container {\n",
              "      display:flex;\n",
              "      flex-wrap:wrap;\n",
              "      gap: 12px;\n",
              "    }\n",
              "\n",
              "    .colab-df-convert {\n",
              "      background-color: #E8F0FE;\n",
              "      border: none;\n",
              "      border-radius: 50%;\n",
              "      cursor: pointer;\n",
              "      display: none;\n",
              "      fill: #1967D2;\n",
              "      height: 32px;\n",
              "      padding: 0 0 0 0;\n",
              "      width: 32px;\n",
              "    }\n",
              "\n",
              "    .colab-df-convert:hover {\n",
              "      background-color: #E2EBFA;\n",
              "      box-shadow: 0px 1px 2px rgba(60, 64, 67, 0.3), 0px 1px 3px 1px rgba(60, 64, 67, 0.15);\n",
              "      fill: #174EA6;\n",
              "    }\n",
              "\n",
              "    [theme=dark] .colab-df-convert {\n",
              "      background-color: #3B4455;\n",
              "      fill: #D2E3FC;\n",
              "    }\n",
              "\n",
              "    [theme=dark] .colab-df-convert:hover {\n",
              "      background-color: #434B5C;\n",
              "      box-shadow: 0px 1px 3px 1px rgba(0, 0, 0, 0.15);\n",
              "      filter: drop-shadow(0px 1px 2px rgba(0, 0, 0, 0.3));\n",
              "      fill: #FFFFFF;\n",
              "    }\n",
              "  </style>\n",
              "\n",
              "      <script>\n",
              "        const buttonEl =\n",
              "          document.querySelector('#df-f6d7ef12-9051-4320-b36e-378a5381a416 button.colab-df-convert');\n",
              "        buttonEl.style.display =\n",
              "          google.colab.kernel.accessAllowed ? 'block' : 'none';\n",
              "\n",
              "        async function convertToInteractive(key) {\n",
              "          const element = document.querySelector('#df-f6d7ef12-9051-4320-b36e-378a5381a416');\n",
              "          const dataTable =\n",
              "            await google.colab.kernel.invokeFunction('convertToInteractive',\n",
              "                                                     [key], {});\n",
              "          if (!dataTable) return;\n",
              "\n",
              "          const docLinkHtml = 'Like what you see? Visit the ' +\n",
              "            '<a target=\"_blank\" href=https://colab.research.google.com/notebooks/data_table.ipynb>data table notebook</a>'\n",
              "            + ' to learn more about interactive tables.';\n",
              "          element.innerHTML = '';\n",
              "          dataTable['output_type'] = 'display_data';\n",
              "          await google.colab.output.renderOutput(dataTable, element);\n",
              "          const docLink = document.createElement('div');\n",
              "          docLink.innerHTML = docLinkHtml;\n",
              "          element.appendChild(docLink);\n",
              "        }\n",
              "      </script>\n",
              "    </div>\n",
              "  </div>\n"
            ]
          },
          "metadata": {},
          "execution_count": 29
        }
      ]
    },
    {
      "cell_type": "markdown",
      "source": [
        "## Friedman 검정\n",
        "\n",
        "### 만약 이원분산분석인데 정규분포를 따르지 않는다면\n",
        "### 만약 3개 집단 이상의 쌍체표본 집단의 분포를 비교한다면\n",
        "\n",
        "- 정의 : 1. 실험유형과 집단유형으로 구분된 2. 3개 이상의 여러집단의 서열정보를 사용하여 실험효과를 검정\n",
        "\n",
        "> 방법\n",
        "- Friedman의 검정통계량은 열의 개수(실험유형) k에 대해 k-1의 자유도를 갖는 카이제곱 분포에 근사한 값으로 실제 카이제곱 분포에 얼마나 유사한지는 총 집단 숫자에 달려있다.\n",
        "- 일반적으로는 실험유형이 4개보다 많고 집단의 숫자가 10보다 클 때 근사하게 닮게 된다.\n",
        "- n*k의 이원배치표를 구하고 각 셀의 수치를 서열정보로 분석하고 Friedman 검정통계량을 구해 카이제곱 분포표를 이용해 유의한지 검정.\n",
        "\n",
        "- 코드\n",
        "```\n",
        "from scipy.stats import friedmanchisquare\n",
        "friedmanchisquare(집단1, 집단2, 집단3, 집단4, ...)\n",
        "``'\n",
        "- 귀무가설 : 혜택(샘플증정,포인트추가,무료배송,할인배송)별 지역별(서울경기, 강원, 충청, 경상 전라) 고객의 선호도 평가에는 차이가 없다.\n",
        "- 연구가설 : 혜택별 고객의 선호도 평가에는 차이가 있다."
      ],
      "metadata": {
        "id": "l6EQfIjB36lq"
      }
    },
    {
      "cell_type": "markdown",
      "source": [
        "# 문제 6\n",
        "> 타 홈쇼핑에 비해 뒤늦게 출발한 H 홈쇼핑에서는 최근 주력 판매 품목이었던 의류/패션 상품의 매출이 급락하여 시급한 대책마련이 필요하게 되었다. 패션을 포함한 소비재 상품을 취급하는 제 2상품본부장은 최근 의류 상품의 매출부진이 비교적 값 비싼 상품을 판매했기 때문이라고 지적하였고, CRM 팀에서는 이러한 지적이 사실인지 판단하기 위해 최근 판매된 5개 의류 브랜드의 가격과 판매량을 바탕으로 Kendall의 서열상관 계수를 구하기로 하였다. 아래의 x, y는 5개 브랜드에 대한 판매가격과 실제 판매량에 대해 서열척도로 변환한 것이다.(a6 = 판매가격 서열, b6 = 실제 판매량 서열)\n",
        "- 귀무가설 및 연구가설을 작성하시오.\n",
        "- 가격과 판매량에 대해 상관성이 있는지 검정통계량을 통해 귀무가설을 채택하고 결론을 도출하시오."
      ],
      "metadata": {
        "id": "5_RDQe_30tZH"
      }
    },
    {
      "cell_type": "markdown",
      "source": [
        "## Kendall 서열상관 분석\n",
        "- 정의 : 스피어만 서열상관 분석과 같이 서열 정보를 이용한 상관성 검정 중 하나\n",
        "\n",
        "> 방법\n",
        "- 관측치의 개수(n)와 일련의 서열에 대해 그 순서가 얼마나 일관성이 있는지 나타내는 수치(s)를 통해 Kendall의 검정통계량(서열 상관 계수)을 구하여 서열상관 계술표를 애용해 유의한지 검정\n",
        "- 표본의 수가 증가하게 되면(n>=10) 정규분포에 근사하게 되므로 정규분포 식(첨부안함)을 사용해 서열상관 계수를 검정할 수 도 있다.\n",
        "\n",
        "> 코드\n",
        "- kendalltau(서열1, 서열2)\n",
        "- 이떄, 서열1과 서열2 인자는 동일한 개수의 데이터를 설정해야한다.\n",
        "\n",
        "- 귀무가설 : H 홈쇼핑의 의류브랜드 가격 서열과 판매량 서열은 연관성이 없다.\n",
        "- 연구가설 : H 홈쇼핑의 의류브랜드 가격 서열과 판매량 서열은 연관성이 있다."
      ],
      "metadata": {
        "id": "IYoaRuQZ7W4_"
      }
    },
    {
      "cell_type": "code",
      "source": [
        "a6 = [5,2,4,1,3] # 판매가격 서열\n",
        "b6 = [4,1,3,2,5] # 판매량 서열"
      ],
      "metadata": {
        "id": "E5utigAxzBYY"
      },
      "execution_count": 36,
      "outputs": []
    },
    {
      "cell_type": "code",
      "source": [
        "from scipy.stats import kendalltau\n",
        "kendalltau(a6, b6)\n",
        "#서열 상관계수는 0.400 p-value는 0.483 로 도출되어, 유의수준 0.05보다 커서 귀무가설을 채택한다.\n",
        "#H 홈쇼핑의 최근 의류 판매 브랜드의 판매 가격 서열과 판매량 서열은 서로 연관성이 없다고 해석한다.\n",
        "#즉, 제2상품본부장의 주장은 사실이 아니며, 최근 의류 판매량의 부진은 판매가격이 아닌 다른 곳에서 찾아봐야한다.\n",
        "\n",
        "#만약 상관성이 존재했다고 한다면,\n",
        "#서열 상관계수에 따라 판매가격과 판매량이 낮은 양의 상관관계를 시사함을 알 수 있을것이다.\n",
        "#즉, 판매가격이 높은 매장이 오히려 판매량 서열이 높음을 알 수 있다."
      ],
      "metadata": {
        "colab": {
          "base_uri": "https://localhost:8080/"
        },
        "id": "3G4nMPAn8lgm",
        "outputId": "09874056-d14c-48a9-8318-5fce51ede287"
      },
      "execution_count": 37,
      "outputs": [
        {
          "output_type": "execute_result",
          "data": {
            "text/plain": [
              "SignificanceResult(statistic=0.39999999999999997, pvalue=0.48333333333333334)"
            ]
          },
          "metadata": {},
          "execution_count": 37
        }
      ]
    },
    {
      "cell_type": "markdown",
      "source": [
        "## 스피어만 서열 상관 분석\n",
        "\n",
        "### IF 스피어만 서열 상관 분석을 사용한다면\n",
        "\n",
        "- 정의 : 순서형 변수의 상관관계 분석은 서열척도로 이루어진 변수들간의 상관관계를 검정하며, 주로 빈번하게 수행.\n",
        "- 예) 고객들의 구매액 기준 순위와 거래기간 기준 순위 상관관계 여부 확인\n",
        "\n",
        "> 방법\n",
        "- 두 수치형 변수의 원래의 자료 값 대신 자료 값들의 순위(rank)를 사용하여 상관계수를 구한다.\n",
        "- (1.5,10),(2.3,15)(3,13) -> (1,1) (2,3) (3,2)\n",
        "- 스피어만 서열 상관계수는 -1과 1사이의 값을 가진다.\n",
        "- 상관계수가 1이면 두 변수의 서열이 완벽하게 일치한다는 의미이며, -1값을 가질 경우 두 변수의 서열이 완전하게 반대라는 의미로 해석할 수 있다.\n",
        "\n",
        "- 귀무가설 : A 쇼핑 고객들의 1회 평균 매출액 순위와 방문빈도 순위는 연관성이 없다.\n",
        "- 연구가설 : A 쇼핑 고객들의 1회 평균 매출액 순위와 방문빈도 순위는 연관성이 있다.\n",
        "- 코드\n",
        "```\n",
        "from scipy import stats\n",
        "stats.spearmanr(df1['1회_평균매출액'], df1['방문빈도'])\n",
        "#결과 차례로 서열상관계수 , p-value\n",
        "```\n",
        "\n"
      ],
      "metadata": {
        "id": "tGI5Qx9F9nuu"
      }
    },
    {
      "cell_type": "markdown",
      "source": [
        "# 검정통계량 비교\n",
        "- t-test : t-value(t값)\n",
        "- ANOVA : F-value(F값)\n",
        "- 교차분석 : 카이제곱 통계량\n",
        "- 상관관계분석 : (피어슨) 상관계수\n",
        "- Run: Z-value(Z값)\n",
        "- Kolmogorove_Smirnov, Mann-Whitney U검정 등은 자기자신의 통계량 ex) U통계량, H통계량, 서열 상관계수"
      ],
      "metadata": {
        "id": "A13J-zXXCnoD"
      }
    },
    {
      "cell_type": "markdown",
      "source": [
        "# 등분산성 검정 비교\n",
        "> Bartlett은 표분이 정규분포를 따르는지 여부에 민감하여 데이터가 정규분포인 경우. 집단의 데이터 수가 달라도 사용 가능.\n",
        "```\n",
        "from scipy.stats import bartlett\n",
        "bartlett(x1,x2)\n",
        "```\n",
        "\n",
        "\n",
        "\n",
        "> levene 은 데이터가 정규분포를 따르지 않을 경우 또는 비모수 데이터에 대해서는 더 강건한 결과 도출하여 bartlett 보다 정확함. 셋 이상의 그룹의 평균을 비교할 수 있어 anova에서는 levene's test를 주로 사용(편차 정의시 중앙을 median으로 설정 가능)\n",
        "```\n",
        "from scipy.stats import levene\n",
        "levene(x1,x2, x3, center='median')\n",
        "```\n",
        "\n",
        "> fligner은 비모수 검정으로써 정규성을 논하기 어려울 경우. levene와 동일하지만 비모수 데이터에 더 강건하게 검정할 수 있는 방법\n",
        "```\n",
        "from scipy.stats import fligner\n",
        "fligner(x1,x2, x3, center='median' 또는 'mean')\n",
        "fligner(x1,x2, x3, center='trimmed', proportiontocut=0.05)\n",
        "```"
      ],
      "metadata": {
        "id": "39hjb4liFZdJ"
      }
    }
  ]
}