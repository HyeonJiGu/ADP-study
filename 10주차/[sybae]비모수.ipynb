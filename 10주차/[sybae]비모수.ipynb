{
 "cells": [
  {
   "cell_type": "markdown",
   "metadata": {},
   "source": [
    "# 적합도 검정"
   ]
  },
  {
   "cell_type": "markdown",
   "metadata": {},
   "source": [
    "1. 상품 a와 b가 있을 때 다음과 같은 구매 패턴이 있다고 한다.\n",
    "    - 1.1 구매 패턴으로 볼 때 두 상품이 연관이 있는지 가설을 세우고 검정하시오.\n",
    "    - 1.2 가설을 채택하시오."
   ]
  },
  {
   "cell_type": "code",
   "execution_count": 10,
   "metadata": {},
   "outputs": [
    {
     "data": {
      "text/plain": [
       "['a',\n",
       " 'a',\n",
       " 'b',\n",
       " 'b',\n",
       " 'a',\n",
       " 'a',\n",
       " 'a',\n",
       " 'a',\n",
       " 'b',\n",
       " 'b',\n",
       " 'b',\n",
       " 'b',\n",
       " 'b',\n",
       " 'a',\n",
       " 'a',\n",
       " 'b',\n",
       " 'b',\n",
       " 'a',\n",
       " 'b',\n",
       " 'b',\n",
       " '']"
      ]
     },
     "execution_count": 10,
     "metadata": {},
     "output_type": "execute_result"
    }
   ],
   "source": [
    "x = \"a a b b a a a a b b b b b a a b b a b b \".split(\" \")\n",
    "x"
   ]
  },
  {
   "cell_type": "markdown",
   "metadata": {},
   "source": [
    "2. T여행사는 최근 개발한 북극탐험 여행 피키지 상품에 대한 만족도를 조사하기 위해 40명의 참가고객들을 대상으로 설문을 응답 받았다. 100점 만점으로 평가한 고객만족도 점수는 아래(x값)과 같다. T여행사는 다양한 마케팅 가설검증을 하기에 앞서 우선 이 고객 설문 결과가 기존의 고객 만족도 설문 결과와 같이 정규분포성을 띄는지 확인하려고 한다.\n",
    "    - 2.1 귀무가설 및 대립가설을 작성하시오.\n",
    "    - 2.2 검정통계량을 도출하고 가설 채택 여부를 기술하시오.\n",
    "    - 2.3 만약 가정한 분포가 지수분포일 때의 검정통계량 및 pvalue를 도출하시오."
   ]
  },
  {
   "cell_type": "code",
   "execution_count": 38,
   "metadata": {},
   "outputs": [],
   "source": [
    "x = [88,75,79,84,68,51,70,75,88,90,92,88,63,72,94,80,78,98,81,67,85,87,79,81,85,48,79,86,53,100,87,80,80,32,60,75,62,82,40,57]"
   ]
  },
  {
   "cell_type": "markdown",
   "metadata": {},
   "source": [
    "# 동질성 검정"
   ]
  },
  {
   "cell_type": "markdown",
   "metadata": {},
   "source": [
    "3. A초등학교 남학생 16명과 여학생 9명의 혈압을 측정한 pressure.csv파일을 가지고 남녀학생의 평균 혈압에 차이가 없는지 분석하라. \n",
    "    - 3.1 유의수준 0.1하에서 정규성 검정을 진행하시오.\n",
    "    - 3.3 연구가설과 귀무가설을 설정하시오.\n",
    "    - 3.4 통계량을 구하고, 유의수준 0.05하에서 연구가설 채택 여부를 기술하시오.\n",
    "    - 3.5 만약 정규분포를 만족한다고 가정할 경우 유의수준 0.05하에서 등분산성을 검정하시오.(Bartlett, levene, fligner중 하나를 선택하고 그 이유를 작성하시오.)\n",
    "    - 3.6 정규분포 및 등분산성을 만족할 경우 남학생과 여학생의 혈압차이에 대한 통계검정을 진행하시오."
   ]
  },
  {
   "cell_type": "code",
   "execution_count": 6,
   "metadata": {},
   "outputs": [],
   "source": [
    "df3= pd.read_csv('https://raw.githubusercontent.com/Datamanim/datarepo/main/adp/26/pressure.csv')\n"
   ]
  },
  {
   "cell_type": "markdown",
   "metadata": {},
   "source": [
    "4. 강의 상류와 하류의 생물 다양성 점수에 차이가 있는지 검정하시오. (단, 같은 강에서 상류와 하류는 서로 독립적이지 않으며, 종속적인 관계에 있다./ 모든 검정은 유의수준 0.05하에서 진행된다.)\n",
    "    - 4.1 정규성 검정을 진행하시오.\n",
    "    - 4.2 귀무가설 및 연구가설을 설정하시오.\n",
    "    - 4.3 통계량을 구하고 연구가설 채택 여부를 기술하시오.\n",
    "    - 4.4 강의 상류 및 하류가 정규성을 가정할 때 통계검정을 진행하시오."
   ]
  },
  {
   "cell_type": "code",
   "execution_count": 16,
   "metadata": {},
   "outputs": [],
   "source": [
    "df4= pd.read_csv('https://raw.githubusercontent.com/Datamanim/datarepo/main/adp/27/river.csv')"
   ]
  },
  {
   "cell_type": "markdown",
   "metadata": {},
   "source": [
    "5. 공장 X,Y,Z의 평균 출하 소요시간을 여러 일자에 거쳐 측정한 데이터이다. 각 공장의 중위수의 차이가 존재하는지 확인하려 한다.(모든 검정은 유의수준 0.05하에서 진행된다.)\n",
    "    - 5.1 정규성 검정을 진행하시오.\n",
    "    - 5.2 귀무가설 및 연구가설을 작성하시오.\n",
    "    - 5.3 검정통계량을 구하고 연구가설 채택 여부를 기술하시오.\n",
    "    - 5.4 각 공장별 소요시간이 정규성을 만족한다고 할 때 등분산성 검정을 진행하시오.(levene, bartlett, fligner 중 적절한 검정방법을 사용하시오.)\n",
    "    - 5.5 각 공장별 소요시간이 정규성 및 등분산성 모두를 만족한다고 할 때 각 공장별 출하 소요시간에 차이가 있는지 귀무가설 및 연구가설을 설정하고 통계검정을 진행하시오."
   ]
  },
  {
   "cell_type": "code",
   "execution_count": 36,
   "metadata": {},
   "outputs": [],
   "source": [
    "df5= pd.read_csv('https://raw.githubusercontent.com/Datamanim/datarepo/main/adp/25/problem5.csv',encoding='cp949')"
   ]
  },
  {
   "cell_type": "markdown",
   "metadata": {},
   "source": [
    "# 상관성 검정"
   ]
  },
  {
   "cell_type": "markdown",
   "metadata": {},
   "source": [
    "6. 타 홈쇼핑에 비해 뒤늦게 출발한 H 홈쇼핑에서는 최근 주력 판매 품목이었던 의류/패션 상품의 매출이 급락하여 시급한 대책마련이 필요하게 되었다. 패션을 포함한 소비재 상품을 취급하는 제 2상품본부장은 최근 의류 상품의 매출부진이 비교적 값 비싼 상품을 판매했기 때문이라고 지적하였고, CRM 팀에서는 이러한 지적이 사실인지 판단하기 위해 최근 판매된 5개 의류 브랜드의 가격과 판매량을 바탕으로 Kendall의 서열상관 계수를 구하기로 하였다. 아래의 x, y는 5개 브랜드에 대한 판매가격과 실제 판매량에 대해 서열척도로 변환한 것이다.(x = 판매가격 서열, y = 실제 판매량 서열)\n",
    "    - 6.1 귀무가설 및 연구가설을 작성하시오.\n",
    "    - 6.2 가격과 판매량에 대해 상관성이 있는지 검정통계량을 통해 귀무가설을 채택하고 결론을 도출하시오."
   ]
  }
 ],
 "metadata": {
  "kernelspec": {
   "display_name": "base",
   "language": "python",
   "name": "python3"
  },
  "language_info": {
   "codemirror_mode": {
    "name": "ipython",
    "version": 3
   },
   "file_extension": ".py",
   "mimetype": "text/x-python",
   "name": "python",
   "nbconvert_exporter": "python",
   "pygments_lexer": "ipython3",
   "version": "3.11.3"
  },
  "orig_nbformat": 4
 },
 "nbformat": 4,
 "nbformat_minor": 2
}
