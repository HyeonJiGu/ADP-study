{
  "nbformat": 4,
  "nbformat_minor": 0,
  "metadata": {
    "colab": {
      "provenance": [],
      "toc_visible": true
    },
    "kernelspec": {
      "name": "python3",
      "display_name": "Python 3"
    },
    "language_info": {
      "name": "python"
    }
  },
  "cells": [
    {
      "cell_type": "markdown",
      "source": [
        "# CAGR 연평균 상승률\n",
        "- 연평균 상승률 = ((현재값-초기값)^(1/기간년수)-1)*100"
      ],
      "metadata": {
        "id": "jAOHX3kezWDd"
      }
    },
    {
      "cell_type": "markdown",
      "source": [
        "## 문제 1\n",
        "> 2년 전 제품 생산량이 100,000개, 1년 전 제품 생산량이 150,000개, 그 후 팩토리 기술의 상승으로 제품 생산량이 250,000개 되었을 때, 연평균 상승률의 대푯값을 구하시오. (반올림하여 소수점 아래 둘째자리까지 표기하시오.)\n"
      ],
      "metadata": {
        "id": "AAeJTYcIzF9M"
      }
    },
    {
      "cell_type": "code",
      "execution_count": null,
      "metadata": {
        "colab": {
          "base_uri": "https://localhost:8080/"
        },
        "id": "K4SGXPwEzFSC",
        "outputId": "98395e46-e209-46f1-f4a4-e53a5de2051a"
      },
      "outputs": [
        {
          "output_type": "stream",
          "name": "stdout",
          "text": [
            "연평균 상승률: 58.11\n"
          ]
        }
      ],
      "source": [
        "init = 10**5\n",
        "curr = 25*(10**4)\n",
        "period=2\n",
        "agr = ((curr/init)**(1/period)-1)*100\n",
        "print(\"연평균 상승률:\", round(agr,2))"
      ]
    },
    {
      "cell_type": "markdown",
      "source": [
        "## 문제 5\n",
        "- 연매출이 3000, 4000, 5000이었다면 연평균 몇배가 증가한 것인가?"
      ],
      "metadata": {
        "id": "8jNLWReazKYx"
      }
    },
    {
      "cell_type": "code",
      "source": [
        "import math\n",
        "init = 3000\n",
        "curr = 5000\n",
        "period=2\n",
        "agr = ((curr/init)**(1/period)-1)*100\n",
        "print(\"연평균 상승률:\", round(agr,2))"
      ],
      "metadata": {
        "colab": {
          "base_uri": "https://localhost:8080/"
        },
        "id": "Rfe1r5SczOA1",
        "outputId": "6c411f66-e683-46b4-a17b-d5c3df6a9628"
      },
      "execution_count": 26,
      "outputs": [
        {
          "output_type": "stream",
          "name": "stdout",
          "text": [
            "연평균 상승률: 29.1\n"
          ]
        }
      ]
    },
    {
      "cell_type": "markdown",
      "source": [
        "# 신뢰구간\n",
        "\n",
        "- 신뢰구간 : 표본평균±(신뢰도에 해당하는 표준오차)\n",
        "- 모분산을 모르는 경우와 알고 있는 경우의 신뢰구간을 구하는 방법이 다름\n",
        "\n",
        "> 모분산을 알고 있을 때, 모평균의 신뢰구간\n",
        "- 모분산이 iid(독립적이고 항등한 정규분포 N(µ,σ*2))\n",
        "- 샘플 크기가 30 이상인 경우에는 중심극한정리에 따라z분포로 푼다.\n",
        "- [X평균-z_유의수준(α)/2*√(모분산/표본개수) , X평균+z_유의수준(α)/2*√(모분산/표본개수)]\n",
        "\n",
        "> 모평균을 알고 있지 않을 때, 모분산의 신뢰구간\n",
        "- 모분산이 iid(독립적이고 항등한 정규분포 N(µ,σ*2))\n",
        "- [(표본크기-1)*표본분산^2/ (x_유의수준(α)/2*(n-1)), (표본크기-1)*표본분산^2/ (x_(1-(유의수준(α)/2))*(n-1))]\n",
        "\n",
        "> 모분산을 알고 있지 않을 때, 모평균의 신뢰구간\n",
        "- 모분산이 iid(독립적이고 항등한 정규분포 N(µ,σ*2))\n",
        "- 실제 표준오차를 사용하지 않기 때문에 t는 표준정규분포를 따르지 않는다.\n",
        "- 샘플 개수가 작으면 z분포 대신 t분포를 사용한다.\n",
        "- [X평균-t_유의수준(α)/2*(n-1)*√(표본분산/표본개수) , X평균+t_유의수준(α)/2*(n-1)*√(모분산/표본개수)]"
      ],
      "metadata": {
        "id": "SQa3b86Y4X7P"
      }
    },
    {
      "cell_type": "markdown",
      "source": [
        "## 문제 2\n",
        "\n",
        "- 12건의 광고 시간 측정. 평균 15.5초, 분산 3.2초 일때 90% 신뢰구간은?"
      ],
      "metadata": {
        "id": "HfgTqom06ENw"
      }
    },
    {
      "cell_type": "code",
      "source": [
        "#해당문제는 표본개수, 표본평균, 표본분산이 주어져있다.\n",
        "#샘플 수가 30이하이므로 t분포를 사용하겠다.\n",
        "import scipy.stats as stats\n",
        "import math\n",
        "\n",
        "smpl_mean = 15.5\n",
        "smpl_var = 3.2\n",
        "cnfd_lvl = 0.90\n",
        "smpl_num = 12\n",
        "\n",
        "smpl_error = math.sqrt(smpl_var/smpl_num)\n",
        "dgr = smpl_num-1\n",
        "t_value=stats.t.ppf((1+cnfd_lvl)/2, df =dgr) #(1+cnfd_lvl)/2==0.95\n",
        "\n",
        "margin_error = t_value*smpl_error\n",
        "cnfd_lower = smpl_mean - cnfd_int\n",
        "cnfd_upper = smpl_mean + cnfd_int\n",
        "print(f\"90% Confidence Interval (t-distribution): ({cnfd_lower:.2f}, {cnfd_upper:.2f})\")\n",
        "\n",
        "#z분포의 경우\n",
        "#z_value = stats.norm.ppf((1 + confidence_level) / 2)"
      ],
      "metadata": {
        "id": "Qzng4BgE4wc9",
        "colab": {
          "base_uri": "https://localhost:8080/"
        },
        "outputId": "b31c8364-52e6-446a-d51e-4af826d06214"
      },
      "execution_count": 11,
      "outputs": [
        {
          "output_type": "stream",
          "name": "stdout",
          "text": [
            "90% Confidence Interval (t-distribution): (14.57, 16.43)\n"
          ]
        }
      ]
    },
    {
      "cell_type": "markdown",
      "source": [
        "## 문제 7\n",
        "- 표본 10개의 분산이 90일 때 신뢰도 95%로 모분산의 신뢰구간을 추정하라"
      ],
      "metadata": {
        "id": "tQGvSQV-1nKN"
      }
    },
    {
      "cell_type": "code",
      "source": [
        "import scipy.stats as stats\n",
        "smpl_num = 10\n",
        "smpl_v = 90\n",
        "cnfd_lvl=0.95\n",
        "#모평균 또는 표본 평균을 알지 못함\n",
        "\n",
        "dgr= smpl_num-1\n",
        "\n",
        "#카이제곱 분포의 상한지촤 하한치 계산\n",
        "#신뢰도가 95%d이고 자유도 9인 x 값\n",
        "chi2_upper = stats.chi2.ppf((1+cnfd_lvl)/2, df=dgr)\n",
        "chi2_lower = stats.chi2.ppf((1-cnfd_lvl)/2, df=dgr)\n",
        "\n",
        "#모분산의 신뢰구간 추정\n",
        "cnfd_lower = (smpl_num-1)*smpl_v/chi2_upper\n",
        "dnfd_upper = (smpl_num-1)*smpl_v/chi2_lower\n",
        "\n",
        "print(f\"95% Confidence Interval for Population Variance: ({cnfd_lower:.2f}, {dnfd_upper:.2f})\")"
      ],
      "metadata": {
        "colab": {
          "base_uri": "https://localhost:8080/"
        },
        "id": "BQUxYDgX1qBh",
        "outputId": "1c99a4ca-4d88-48f3-97db-112ce6733b23"
      },
      "execution_count": 43,
      "outputs": [
        {
          "output_type": "stream",
          "name": "stdout",
          "text": [
            "95% Confidence Interval for Population Variance: (42.58, 299.96)\n"
          ]
        }
      ]
    },
    {
      "cell_type": "markdown",
      "source": [
        "## 문제 11\n",
        "\n",
        "- 주어진 데이터에서 신뢰구간을 구하려한다. 정규분포에서 표폰을 추출함\n",
        "- Z(0.05) = -1.65 , Z(0.025) = -1.96, T(0.05, 8) = 1.860 , T(0.025, 8) = 2.306\n",
        "1. 모분산을 모르는 경우 주어진 데이터의 95% 신뢰구간을 구하라\n",
        "2. sigma = 0.04인걸 알고 있을때의 95% 신뢰구간을 구하라.\n"
      ],
      "metadata": {
        "id": "LvrvkY7BF11h"
      }
    },
    {
      "cell_type": "code",
      "source": [
        "# 1. 모분산을 모르는 경우 주어진 데이터의 95% 신뢰구간을 구하라\n",
        "import numpy as np\n",
        "x= [3.1, 3.3, 3.5, 3.7, 3.9, 4.1, 4.3, 4.4, 4.7]\n",
        "\n",
        "#신뢰구간을 구하는데 모분산을 모르므로 t분포를 사용하곘다.\n",
        "#양쪽의 0.025씩 신뢰구간을 구할 것이므로 T(0.025, 8)를 이용하겠다.\n",
        "t_critical_025 =  2.306\n",
        "cnfd_lvl=0.95\n",
        "\n",
        "smpl_mean = np.mean(x)\n",
        "smpl_std = np.std(x, ddof=1) #ddof의 default 0 # 샘플 std를 구하므로 N-1을 한다는 뜻\n",
        "smpl_num = len(x)\n",
        "\n",
        "smpl_error = smpl_std/np.sqrt(smpl_num)\n",
        "margin_error = t_critical_025*smpl_error\n",
        "\n",
        "cnfd_lower = smpl_mean- margin_error\n",
        "cnfd_upper = smpl_mean+margin_error\n",
        "print(f\"95% Confidence Interval (unknown population variance): \"\n",
        "      f\"({cnfd_lower:.4f}, {cnfd_upper:.4f})\")"
      ],
      "metadata": {
        "colab": {
          "base_uri": "https://localhost:8080/"
        },
        "id": "NUSVImQoGDQX",
        "outputId": "788e1c74-a7c6-4962-b09e-8d2d54fc8442"
      },
      "execution_count": 61,
      "outputs": [
        {
          "output_type": "stream",
          "name": "stdout",
          "text": [
            "95% Confidence Interval (unknown population variance): (3.4777, 4.3000)\n"
          ]
        }
      ]
    },
    {
      "cell_type": "code",
      "source": [
        "# 2. 모분산이 sigma = 0.04인걸 알고 있을때의 95% 신뢰구간을 구하라.\n",
        "x= [3.1, 3.3, 3.5, 3.7, 3.9, 4.1, 4.3, 4.4, 4.7]\n",
        "\n",
        "#신뢰구간을 구하는데 모분산을 알고있으므로 z분포를 사용하겠다.\n",
        "#양쪽의 0.025씩 유의수준을 부여하여 신뢰구간을 구할 것이므로 Z(0.025) = -1.96를 이용하겠다.\n",
        "z_critical_025 = -1.96\n",
        "cnfd_lvl=0.95\n",
        "\n",
        "smpl_mean = np.mean(x)\n",
        "pp_std = 0.04\n",
        "smpl_num = len(x)\n",
        "\n",
        "smpl_error = pp_std/np.sqrt(smpl_num)\n",
        "margin_error = z_critical_025*smpl_error\n",
        "\n",
        "cnfd_lower = smpl_mean+margin_error\n",
        "cnfd_upper = smpl_mean-margin_error\n",
        "'''\n",
        "왜 부호가 여기는 +와 -순서가 바뀌었지?\n",
        "z통계량이 음수라 그런가?\n",
        "yes. 다른 문제는 0.975 또는 0.95의 통계량을 구해서 upper에는 더하고 lower에는 뺐으나\n",
        "해당 문제는 0.025를 이용해 통계량을 구하므로 부호가 반대로 되는게 정상이다.\n",
        "'''\n",
        "\n",
        "\n",
        "print(f\"95% Confidence Interval (known population standard deviation): \"\n",
        "      f\"({cnfd_lower:.4f}, {cnfd_upper:.4f})\")"
      ],
      "metadata": {
        "colab": {
          "base_uri": "https://localhost:8080/"
        },
        "id": "UU7uopzMJUWw",
        "outputId": "fc7b6326-ed92-4f8b-904e-1299f4263ea2"
      },
      "execution_count": 65,
      "outputs": [
        {
          "output_type": "stream",
          "name": "stdout",
          "text": [
            "95% Confidence Interval (known population standard deviation): (3.8628, 3.9150)\n"
          ]
        }
      ]
    },
    {
      "cell_type": "markdown",
      "source": [
        "# 표본 크기\n",
        "- 모평균(µ)의 신뢰구간= X평균±추정오차(오차한계) 를 활용\n",
        "- 추정오차 = z_유의수준(α)/2*표준오차\n",
        "- 표준오차 = 표준편차(σ)/√표본개수(n)\n",
        "- 추정오차가 d 이내가 되려면 표본크기(n)= (표준편차(σ)*z_유의수준(α)/2 /d)^2임\n",
        "\n",
        "\n",
        "- 모비율 p에 대한 신뢰구간 = X평균 ± 추정오차(오차한계)를 활용\n",
        "- 추정오차 = z_유의수준(α)/2*표준오차\n",
        "- 표준오차 = √(p햇(1-p햇)/표본개수(n))\n",
        "- 추정오차가 d 이내가 되려면 표본크기(n)= (p햇(1-p햇)*z_유의수준(α)/2 /d)^2임"
      ],
      "metadata": {
        "id": "kZ3dhDJX7v_b"
      }
    },
    {
      "cell_type": "markdown",
      "source": [
        "## 문제 3\n",
        "- 철강제품의 불량률을 조사하고자 한다. 이 때, 불량률의 90%, 추정오차한계가 5% 이내가 되기 위하여 적절한 표본의 크기 중 최소값은 얼마인가?"
      ],
      "metadata": {
        "id": "gQNhVNQYWTkB"
      }
    },
    {
      "cell_type": "code",
      "source": [
        "d = 0.05\n",
        "p = 0.9\n",
        "\n",
        "z_value = stats.norm.ppf((1+p)/2) #0.5+p/2\n",
        "\n",
        "n = math.ceil(z_value**2*p*(1-p)/d**2)\n",
        "print(f\"적절한 표본의 최소 크기(반올림하여 정수로 표기): {n}\")"
      ],
      "metadata": {
        "id": "ntsPFctMBGTD",
        "colab": {
          "base_uri": "https://localhost:8080/"
        },
        "outputId": "b25cb78c-bdba-4ff9-8950-2fc408998a44"
      },
      "execution_count": 20,
      "outputs": [
        {
          "output_type": "stream",
          "name": "stdout",
          "text": [
            "적절한 표본의 최소 크기(반올림하여 정수로 표기): 98\n"
          ]
        }
      ]
    },
    {
      "cell_type": "markdown",
      "source": [
        "# 속*시=거"
      ],
      "metadata": {
        "id": "WFiO1mPLYnJp"
      }
    },
    {
      "cell_type": "markdown",
      "source": [
        "## 문제 4\n",
        "- 서울에서 영동까지 100km/h로 가고 영동에서 서울까지 80km/h로 돌아왔을 때, 평균 속도는?"
      ],
      "metadata": {
        "id": "pJxB37HUZUjp"
      }
    },
    {
      "cell_type": "code",
      "source": [
        "#서울부터 영동까지 거리\n",
        "speed_s_y = 100\n",
        "speed_y_s = 80\n",
        "\n",
        "distance= 100 #가정\n",
        "\n",
        "hour_s_y = distance/100\n",
        "hour_y_s = distance/80\n",
        "total_hour = hour_s_y+ hour_y_s\n",
        "\n",
        "speed_mean = 2*distance/total_hour\n",
        "\n",
        "print(f\"평균 속도: {speed_mean:.2f} km/h\")"
      ],
      "metadata": {
        "colab": {
          "base_uri": "https://localhost:8080/"
        },
        "id": "CKqvv5G3Ygeo",
        "outputId": "24d0b3be-93cb-42fe-d3b2-b23373686de5"
      },
      "execution_count": 22,
      "outputs": [
        {
          "output_type": "stream",
          "name": "stdout",
          "text": [
            "평균 속도: 88.89 km/h\n"
          ]
        }
      ]
    },
    {
      "cell_type": "markdown",
      "source": [
        "# 조건부 확률\n",
        "- p(A∩B)/p(A)"
      ],
      "metadata": {
        "id": "k2PS4prMz9Dm"
      }
    },
    {
      "cell_type": "markdown",
      "source": [
        "## 문제 6\n",
        "\n",
        "- 남성, 여성의 등산, 수영에 대한 취미 선호도 빈도표(2x2)를 보고, 남성 중에서 등산을 좋아할 확률을 구하시오\n",
        "\n",
        "| |등산 | 수영|\n",
        "|---|---|---|\n",
        "|남자|  20 |  10|\n",
        "|여자 |  15 | 30 |\n"
      ],
      "metadata": {
        "id": "IbEy_5i90NZH"
      }
    },
    {
      "cell_type": "code",
      "source": [
        "#남성중에서 등산을 좋아할 확률\n",
        "#남성이면서 등산을 좋아하는 경우의 수 / 남성인 경우의 수\n",
        "round(20/30,4)"
      ],
      "metadata": {
        "colab": {
          "base_uri": "https://localhost:8080/"
        },
        "id": "zRg5qTrozArm",
        "outputId": "1a102f7b-f3e2-4925-d296-28a1b0a42691"
      },
      "execution_count": 28,
      "outputs": [
        {
          "output_type": "execute_result",
          "data": {
            "text/plain": [
              "0.6667"
            ]
          },
          "metadata": {},
          "execution_count": 28
        }
      ]
    },
    {
      "cell_type": "markdown",
      "source": [
        "## 문제 10\n",
        "- 바이러스 감염 분류표를 보고 베이지안 분류 방법을 사용해 양성으로 예측된 사람이 실제로 양성일 확률을 구하라\n",
        "\n",
        "|           |양성(실제) | 음성(실제)|\n",
        "|---|---|---|\n",
        "|양성(예측) |        370 |    10|\n",
        "|음성(예측)  |       15   | 690|\n"
      ],
      "metadata": {
        "id": "WRgdliu7FarZ"
      }
    },
    {
      "cell_type": "code",
      "source": [
        "#양성으로 예측된 사람이 양성일 확률\n",
        "#양성 예측과 실제 양성인 수 / 양성예측수\n",
        "round(370/380,4)"
      ],
      "metadata": {
        "colab": {
          "base_uri": "https://localhost:8080/"
        },
        "id": "RFAwCNI1Fk1O",
        "outputId": "e92e493c-e29b-4d3a-80bb-e1d4ca0bb26a"
      },
      "execution_count": 54,
      "outputs": [
        {
          "output_type": "execute_result",
          "data": {
            "text/plain": [
              "0.9737"
            ]
          },
          "metadata": {},
          "execution_count": 54
        }
      ]
    },
    {
      "cell_type": "markdown",
      "source": [
        "# NPV 순현재가치"
      ],
      "metadata": {
        "id": "EbERmwOpR0pi"
      }
    },
    {
      "cell_type": "markdown",
      "source": [
        "## 문제 8 # 모르겠음\n",
        "\n",
        "- 1개년 50억원, 2개년 60억원, 3개년 70억원의 예산을 가지고 NPV(순현재가치)가 가장 높아지는 안을 제시하시오\n",
        "\n",
        "||1개년|2개년| 3개년|\n",
        "|---|---|---|---|\n",
        "|1안 |  10 |  20 |   15|\n",
        "|2안  | 15  | 14  | 19|\n",
        "|3안 |  12 |  11  |  30|\n",
        "|4안  | 13 |  25 |  20|\n",
        "|5안 |  16 | 30  | 24|\n"
      ],
      "metadata": {
        "id": "OumvB58MRuLV"
      }
    },
    {
      "cell_type": "markdown",
      "source": [
        "# 독립표본\n",
        "- 두 모집단의 평균의 차이가 있는지 검정하는 것\n",
        "- t검정 과 z검정 사용\n",
        "- 표본 크기가 작고 모집단 분산이 알려져 있지 않을 때는 t-검정을 사용하며, 표본 크기가 크고 모집단 분산이 알려져 있을 때는 z-검정을 사용하는 것이 일반적인 관례\n",
        "- z = (표본집단 평균간 차이)/√(집단1분산/집단1표본개수+집단2분산/집단2표본개수)\n",
        "\n",
        "> t-검정 (Student's t-test):\n",
        "- 표본의 크기가 작을 때 (일반적으로 30 미만).\n",
        "- 모집단의 분산이 알려져 있지 않을 때.\n",
        "- 표본 평균 간의 차이를 비교할 때, 표본의 크기와 표준편차에 대한 정보를 사용하여 t-검정을 수행합니다. t-분포는 표본 크기에 따라 다양한 모양을 갖는데, 작은 표본 크기에서 더 긴 꼬리를 가지는 것이 특징입니다.\n",
        "\n",
        ">z-검정 (Z-test):\n",
        "- 표본의 크기가 크고 (일반적으로 30 이상),\n",
        "- 모집단의 분산이 알려져 있을 때.\n",
        "- 표본 평균 간의 차이를 비교할 때, 표본 크기가 충분히 크면 중심극한정리에 따라 표본 평균의 분포가 정규분포에 가까워지기 때문에 z-검정을 사용할 수 있습니다."
      ],
      "metadata": {
        "id": "OSWuOFdv5_Lf"
      }
    },
    {
      "cell_type": "markdown",
      "source": [
        "## 문제 9 # 모르겠으\n",
        "- A생산라인의 제품 평균은 5.7mm이고 표준편차는 0.03, B생산라인의 제품 평균은 5.6mm이고 표준편차는 0.04라면 5%유의수준으로 두 제품의 평균이 차이가 있는지 여부를 검정하기 Z(0.05) = 1.65\n"
      ],
      "metadata": {
        "id": "7OIrrCn66pja"
      }
    },
    {
      "cell_type": "code",
      "source": [
        "A_smpl_mean = 5.7\n",
        "A_smpl_std=0.03\n",
        "B_smpl_mean= 5.6\n",
        "B_smpl_std=0.04\n",
        "cnfd_lvl=0.95\n",
        "z_value = 1.65\n",
        "\n",
        "#해당 문제는 모집단의 분산이 알려져 있으므로 z 검정을 사용하겠다.\n",
        "#귀무가설 : A 생산라인의 평균과 B 생산라인의 평균이 차이가 없다.\n",
        "#연구가설 : A 생산라인의 평균과 B 생산라인의 평균이 차이가 있다.\n",
        "\n",
        "#len_A 와 len_B를 알지 못함\n",
        "# 두 표본의 개수가 동일하다고 가정하에 표본 개수를 구한다면\n",
        "n = (z_value**2*(A_smpl_std**2+B_smpl_std**2))/(A_smpl_mean-B_smpl_mean)**2\n",
        "print(n)"
      ],
      "metadata": {
        "colab": {
          "base_uri": "https://localhost:8080/"
        },
        "id": "EqKkTaD71fL-",
        "outputId": "12c8c865-96b9-4f3b-b80c-fd9d9005544d"
      },
      "execution_count": 47,
      "outputs": [
        {
          "output_type": "stream",
          "name": "stdout",
          "text": [
            "0.6806249999999928\n"
          ]
        }
      ]
    },
    {
      "cell_type": "markdown",
      "source": [
        "# 불량률 관리 상한선과 하한선\n",
        "- 관리 상한선(UCL)과 하한선(LCL)은 각각 평균 불량률에서 ±3 표준편차의 값으로 설정"
      ],
      "metadata": {
        "id": "U47fzua6K-eD"
      }
    },
    {
      "cell_type": "markdown",
      "source": [
        "## 문제 12\n",
        "\n",
        "- Lot별 200개에 대한 불량 제품 수량 데이터(변수 2개 - lot번호, 불량제품수)\n",
        "- 불량률 관리도에 따라 관리중심선(CL : Center Line), 관리 상한선(UCL : Upper Control Limit), 하한선(LCL : Lower Control Limit) 구하기\n",
        "관리도 시각화\n",
        "\n",
        "|iot number  |  error_case_number |\n",
        "|---|---|\n",
        "|1         |   4.5|\n",
        "|2          | 2.5|\n",
        "|3          | 2.0|\n",
        "|4      |     3.0|\n",
        "|5       |    0.5|\n"
      ],
      "metadata": {
        "id": "n89bA7y6LDmB"
      }
    },
    {
      "cell_type": "code",
      "source": [
        "import numpy as np\n",
        "error_num = np.array([4.5,2.5,2.0,3.0,0.5])\n",
        "# np.array가 list보다는 원자들을 다루는데 탁월하다. list는 list/int가 불가하나 np.array/int가 가능하다.\n",
        "\n",
        "error_rate = error_num/200\n",
        "error_rate_mean = np.mean(error_rate) # 관리중심선(CL)\n",
        "num = len(error_num)\n",
        "\n",
        "#표본 표준편차는 분모가 n이 아닌 n-1이다.\n",
        "smpl_std = np.sqrt(sum((error_rate-error_rate_mean)**2)/(num-1))\n",
        "\n",
        "#관리상한선\n",
        "cl = error_rate_mean\n",
        "ucl = error_rate_mean + 3*smpl_std\n",
        "lcl = error_rate_mean - 3*smpl_std\n",
        "\n",
        "print(f\"Center Line (CL): {cl:.2f}\")\n",
        "print(f\"Upper Control Limit (UCL): {ucl:.2f}\")\n",
        "print(f\"Lower Control Limit (LCL): {lcl:.2f}\")"
      ],
      "metadata": {
        "colab": {
          "base_uri": "https://localhost:8080/"
        },
        "id": "eq4_2izoEs_g",
        "outputId": "f0d36cb9-900c-45a3-bf31-b0132ebcfbbb"
      },
      "execution_count": 13,
      "outputs": [
        {
          "output_type": "stream",
          "name": "stdout",
          "text": [
            "Center Line (CL): 0.01\n",
            "Upper Control Limit (UCL): 0.03\n",
            "Lower Control Limit (LCL): -0.01\n"
          ]
        }
      ]
    },
    {
      "cell_type": "code",
      "source": [],
      "metadata": {
        "id": "vV9at0moN_kB"
      },
      "execution_count": null,
      "outputs": []
    }
  ]
}