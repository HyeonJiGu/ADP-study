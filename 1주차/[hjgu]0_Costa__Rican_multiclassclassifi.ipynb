{
  "nbformat": 4,
  "nbformat_minor": 0,
  "metadata": {
    "colab": {
      "provenance": []
    },
    "kernelspec": {
      "name": "python3",
      "display_name": "Python 3"
    },
    "language_info": {
      "name": "python"
    },
    "accelerator": "GPU",
    "gpuClass": "standard"
  },
  "cells": [
    {
      "cell_type": "markdown",
      "source": [
        "<코스타리카 가구 빈곤 수준 예측>\n",
        "> 목표 : 사호 복지 지원이 가장 필요한 가구 식별\n",
        "\n",
        "\n",
        "\n",
        "<컬럼 설명>\n",
        "\n",
        "> Target: 소득 수준 그룹 나타내는 변수\n",
        "- 1=극심한빈곤\n",
        "- 2=보통빈곤\n",
        "- 3= 취약가구\n",
        "- 4=비취약가구\n",
        "\n",
        "> idhogar: 각 가구에 대한 고유 식별자\n",
        "\n",
        "> parentesco1:세대주여부\n",
        "\n",
        "<주의점>\n",
        ">  가장만 점수를 매기는 데 사용된다 == 가구 단위로 빈곤을 예측\n",
        "\n",
        ">  동일한 가구의 개인이 서로 다른 레이블을 갖는 오류는 각 가구의 가장에 대한 레이블을 사용"
      ],
      "metadata": {
        "id": "z2bn-kHYABJZ"
      }
    },
    {
      "cell_type": "markdown",
      "source": [
        "##### 데이터 로드"
      ],
      "metadata": {
        "id": "4QxNB8TwOcHn"
      }
    },
    {
      "cell_type": "code",
      "execution_count": null,
      "metadata": {
        "colab": {
          "base_uri": "https://localhost:8080/"
        },
        "id": "T4dnt3Le552_",
        "outputId": "3efc4e50-0888-43cc-a0dd-e2030b59e7f2"
      },
      "outputs": [
        {
          "output_type": "stream",
          "name": "stdout",
          "text": [
            "Mounted at /content/drive\n"
          ]
        }
      ],
      "source": [
        "from google.colab import drive\n",
        "drive.mount('/content/drive')"
      ]
    },
    {
      "cell_type": "code",
      "source": [
        "file_path='./drive/MyDrive/data/'\n",
        "train_filename='train_Costa_Rican.csv'  "
      ],
      "metadata": {
        "id": "XnMbgnfJ--VV"
      },
      "execution_count": null,
      "outputs": []
    },
    {
      "cell_type": "code",
      "source": [
        "import pandas as pd\n",
        "import os\n",
        "train = pd.read_csv(os.path.join(file_path, train_filename))"
      ],
      "metadata": {
        "id": "LCMhJFdy-CKI"
      },
      "execution_count": null,
      "outputs": []
    },
    {
      "cell_type": "code",
      "source": [
        "train.info()"
      ],
      "metadata": {
        "colab": {
          "base_uri": "https://localhost:8080/"
        },
        "id": "LU6es3Lh-FbN",
        "outputId": "b685db65-37ef-4c08-a6df-abea36dd0b5c"
      },
      "execution_count": null,
      "outputs": [
        {
          "output_type": "stream",
          "name": "stdout",
          "text": [
            "<class 'pandas.core.frame.DataFrame'>\n",
            "RangeIndex: 9557 entries, 0 to 9556\n",
            "Columns: 143 entries, Id to Target\n",
            "dtypes: float64(8), int64(130), object(5)\n",
            "memory usage: 10.4+ MB\n"
          ]
        }
      ]
    },
    {
      "cell_type": "code",
      "source": [
        "train.head(2)"
      ],
      "metadata": {
        "colab": {
          "base_uri": "https://localhost:8080/",
          "height": 205
        },
        "id": "A5yigDJGGX5G",
        "outputId": "4bc14bbe-8ca1-4d33-8d73-51aa4426fe66"
      },
      "execution_count": null,
      "outputs": [
        {
          "output_type": "execute_result",
          "data": {
            "text/plain": [
              "             Id      v2a1  hacdor  rooms  hacapo  v14a  refrig  v18q  v18q1  \\\n",
              "0  ID_279628684  190000.0       0      3       0     1       1     0    NaN   \n",
              "1  ID_f29eb3ddd  135000.0       0      4       0     1       1     1    1.0   \n",
              "\n",
              "   r4h1  ...  SQBescolari  SQBage  SQBhogar_total  SQBedjefe  SQBhogar_nin  \\\n",
              "0     0  ...          100    1849               1        100             0   \n",
              "1     0  ...          144    4489               1        144             0   \n",
              "\n",
              "   SQBovercrowding  SQBdependency  SQBmeaned  agesq  Target  \n",
              "0              1.0            0.0      100.0   1849       4  \n",
              "1              1.0           64.0      144.0   4489       4  \n",
              "\n",
              "[2 rows x 143 columns]"
            ],
            "text/html": [
              "\n",
              "  <div id=\"df-f65da1aa-fcca-4819-8e22-42d97914b004\">\n",
              "    <div class=\"colab-df-container\">\n",
              "      <div>\n",
              "<style scoped>\n",
              "    .dataframe tbody tr th:only-of-type {\n",
              "        vertical-align: middle;\n",
              "    }\n",
              "\n",
              "    .dataframe tbody tr th {\n",
              "        vertical-align: top;\n",
              "    }\n",
              "\n",
              "    .dataframe thead th {\n",
              "        text-align: right;\n",
              "    }\n",
              "</style>\n",
              "<table border=\"1\" class=\"dataframe\">\n",
              "  <thead>\n",
              "    <tr style=\"text-align: right;\">\n",
              "      <th></th>\n",
              "      <th>Id</th>\n",
              "      <th>v2a1</th>\n",
              "      <th>hacdor</th>\n",
              "      <th>rooms</th>\n",
              "      <th>hacapo</th>\n",
              "      <th>v14a</th>\n",
              "      <th>refrig</th>\n",
              "      <th>v18q</th>\n",
              "      <th>v18q1</th>\n",
              "      <th>r4h1</th>\n",
              "      <th>...</th>\n",
              "      <th>SQBescolari</th>\n",
              "      <th>SQBage</th>\n",
              "      <th>SQBhogar_total</th>\n",
              "      <th>SQBedjefe</th>\n",
              "      <th>SQBhogar_nin</th>\n",
              "      <th>SQBovercrowding</th>\n",
              "      <th>SQBdependency</th>\n",
              "      <th>SQBmeaned</th>\n",
              "      <th>agesq</th>\n",
              "      <th>Target</th>\n",
              "    </tr>\n",
              "  </thead>\n",
              "  <tbody>\n",
              "    <tr>\n",
              "      <th>0</th>\n",
              "      <td>ID_279628684</td>\n",
              "      <td>190000.0</td>\n",
              "      <td>0</td>\n",
              "      <td>3</td>\n",
              "      <td>0</td>\n",
              "      <td>1</td>\n",
              "      <td>1</td>\n",
              "      <td>0</td>\n",
              "      <td>NaN</td>\n",
              "      <td>0</td>\n",
              "      <td>...</td>\n",
              "      <td>100</td>\n",
              "      <td>1849</td>\n",
              "      <td>1</td>\n",
              "      <td>100</td>\n",
              "      <td>0</td>\n",
              "      <td>1.0</td>\n",
              "      <td>0.0</td>\n",
              "      <td>100.0</td>\n",
              "      <td>1849</td>\n",
              "      <td>4</td>\n",
              "    </tr>\n",
              "    <tr>\n",
              "      <th>1</th>\n",
              "      <td>ID_f29eb3ddd</td>\n",
              "      <td>135000.0</td>\n",
              "      <td>0</td>\n",
              "      <td>4</td>\n",
              "      <td>0</td>\n",
              "      <td>1</td>\n",
              "      <td>1</td>\n",
              "      <td>1</td>\n",
              "      <td>1.0</td>\n",
              "      <td>0</td>\n",
              "      <td>...</td>\n",
              "      <td>144</td>\n",
              "      <td>4489</td>\n",
              "      <td>1</td>\n",
              "      <td>144</td>\n",
              "      <td>0</td>\n",
              "      <td>1.0</td>\n",
              "      <td>64.0</td>\n",
              "      <td>144.0</td>\n",
              "      <td>4489</td>\n",
              "      <td>4</td>\n",
              "    </tr>\n",
              "  </tbody>\n",
              "</table>\n",
              "<p>2 rows × 143 columns</p>\n",
              "</div>\n",
              "      <button class=\"colab-df-convert\" onclick=\"convertToInteractive('df-f65da1aa-fcca-4819-8e22-42d97914b004')\"\n",
              "              title=\"Convert this dataframe to an interactive table.\"\n",
              "              style=\"display:none;\">\n",
              "        \n",
              "  <svg xmlns=\"http://www.w3.org/2000/svg\" height=\"24px\"viewBox=\"0 0 24 24\"\n",
              "       width=\"24px\">\n",
              "    <path d=\"M0 0h24v24H0V0z\" fill=\"none\"/>\n",
              "    <path d=\"M18.56 5.44l.94 2.06.94-2.06 2.06-.94-2.06-.94-.94-2.06-.94 2.06-2.06.94zm-11 1L8.5 8.5l.94-2.06 2.06-.94-2.06-.94L8.5 2.5l-.94 2.06-2.06.94zm10 10l.94 2.06.94-2.06 2.06-.94-2.06-.94-.94-2.06-.94 2.06-2.06.94z\"/><path d=\"M17.41 7.96l-1.37-1.37c-.4-.4-.92-.59-1.43-.59-.52 0-1.04.2-1.43.59L10.3 9.45l-7.72 7.72c-.78.78-.78 2.05 0 2.83L4 21.41c.39.39.9.59 1.41.59.51 0 1.02-.2 1.41-.59l7.78-7.78 2.81-2.81c.8-.78.8-2.07 0-2.86zM5.41 20L4 18.59l7.72-7.72 1.47 1.35L5.41 20z\"/>\n",
              "  </svg>\n",
              "      </button>\n",
              "      \n",
              "  <style>\n",
              "    .colab-df-container {\n",
              "      display:flex;\n",
              "      flex-wrap:wrap;\n",
              "      gap: 12px;\n",
              "    }\n",
              "\n",
              "    .colab-df-convert {\n",
              "      background-color: #E8F0FE;\n",
              "      border: none;\n",
              "      border-radius: 50%;\n",
              "      cursor: pointer;\n",
              "      display: none;\n",
              "      fill: #1967D2;\n",
              "      height: 32px;\n",
              "      padding: 0 0 0 0;\n",
              "      width: 32px;\n",
              "    }\n",
              "\n",
              "    .colab-df-convert:hover {\n",
              "      background-color: #E2EBFA;\n",
              "      box-shadow: 0px 1px 2px rgba(60, 64, 67, 0.3), 0px 1px 3px 1px rgba(60, 64, 67, 0.15);\n",
              "      fill: #174EA6;\n",
              "    }\n",
              "\n",
              "    [theme=dark] .colab-df-convert {\n",
              "      background-color: #3B4455;\n",
              "      fill: #D2E3FC;\n",
              "    }\n",
              "\n",
              "    [theme=dark] .colab-df-convert:hover {\n",
              "      background-color: #434B5C;\n",
              "      box-shadow: 0px 1px 3px 1px rgba(0, 0, 0, 0.15);\n",
              "      filter: drop-shadow(0px 1px 2px rgba(0, 0, 0, 0.3));\n",
              "      fill: #FFFFFF;\n",
              "    }\n",
              "  </style>\n",
              "\n",
              "      <script>\n",
              "        const buttonEl =\n",
              "          document.querySelector('#df-f65da1aa-fcca-4819-8e22-42d97914b004 button.colab-df-convert');\n",
              "        buttonEl.style.display =\n",
              "          google.colab.kernel.accessAllowed ? 'block' : 'none';\n",
              "\n",
              "        async function convertToInteractive(key) {\n",
              "          const element = document.querySelector('#df-f65da1aa-fcca-4819-8e22-42d97914b004');\n",
              "          const dataTable =\n",
              "            await google.colab.kernel.invokeFunction('convertToInteractive',\n",
              "                                                     [key], {});\n",
              "          if (!dataTable) return;\n",
              "\n",
              "          const docLinkHtml = 'Like what you see? Visit the ' +\n",
              "            '<a target=\"_blank\" href=https://colab.research.google.com/notebooks/data_table.ipynb>data table notebook</a>'\n",
              "            + ' to learn more about interactive tables.';\n",
              "          element.innerHTML = '';\n",
              "          dataTable['output_type'] = 'display_data';\n",
              "          await google.colab.output.renderOutput(dataTable, element);\n",
              "          const docLink = document.createElement('div');\n",
              "          docLink.innerHTML = docLinkHtml;\n",
              "          element.appendChild(docLink);\n",
              "        }\n",
              "      </script>\n",
              "    </div>\n",
              "  </div>\n",
              "  "
            ]
          },
          "metadata": {},
          "execution_count": 5
        }
      ]
    },
    {
      "cell_type": "code",
      "source": [
        "train['Target'].value_counts()"
      ],
      "metadata": {
        "colab": {
          "base_uri": "https://localhost:8080/"
        },
        "id": "8mIob1JX-fqP",
        "outputId": "e119fd0f-5575-4afb-879c-83a14a805afe"
      },
      "execution_count": null,
      "outputs": [
        {
          "output_type": "execute_result",
          "data": {
            "text/plain": [
              "4    5996\n",
              "2    1597\n",
              "3    1209\n",
              "1     755\n",
              "Name: Target, dtype: int64"
            ]
          },
          "metadata": {},
          "execution_count": 6
        }
      ]
    },
    {
      "cell_type": "code",
      "source": [
        "a = train.groupby(['idhogar','parentesco1', 'Target'])['Id'].count().reset_index() # groupby 할 때 Target도 같이 넣어야지 target count 하지 않음음\n",
        "a"
      ],
      "metadata": {
        "colab": {
          "base_uri": "https://localhost:8080/",
          "height": 424
        },
        "id": "Jim1eokjMJOM",
        "outputId": "bf8a59b1-a6d5-41cb-9984-bb7e90d9761b"
      },
      "execution_count": null,
      "outputs": [
        {
          "output_type": "execute_result",
          "data": {
            "text/plain": [
              "        idhogar  parentesco1  Target  Id\n",
              "0     001ff74ca            0       4   1\n",
              "1     001ff74ca            1       4   1\n",
              "2     003123ec2            0       2   3\n",
              "3     003123ec2            1       2   1\n",
              "4     004616164            0       2   1\n",
              "...         ...          ...     ...  ..\n",
              "5625  ffae4a097            1       4   1\n",
              "5626  ffe90d46f            0       1   3\n",
              "5627  ffe90d46f            1       1   1\n",
              "5628  fff7d6be1            0       4   3\n",
              "5629  fff7d6be1            1       4   1\n",
              "\n",
              "[5630 rows x 4 columns]"
            ],
            "text/html": [
              "\n",
              "  <div id=\"df-69733986-ed0d-4dda-b489-e7cc59322548\">\n",
              "    <div class=\"colab-df-container\">\n",
              "      <div>\n",
              "<style scoped>\n",
              "    .dataframe tbody tr th:only-of-type {\n",
              "        vertical-align: middle;\n",
              "    }\n",
              "\n",
              "    .dataframe tbody tr th {\n",
              "        vertical-align: top;\n",
              "    }\n",
              "\n",
              "    .dataframe thead th {\n",
              "        text-align: right;\n",
              "    }\n",
              "</style>\n",
              "<table border=\"1\" class=\"dataframe\">\n",
              "  <thead>\n",
              "    <tr style=\"text-align: right;\">\n",
              "      <th></th>\n",
              "      <th>idhogar</th>\n",
              "      <th>parentesco1</th>\n",
              "      <th>Target</th>\n",
              "      <th>Id</th>\n",
              "    </tr>\n",
              "  </thead>\n",
              "  <tbody>\n",
              "    <tr>\n",
              "      <th>0</th>\n",
              "      <td>001ff74ca</td>\n",
              "      <td>0</td>\n",
              "      <td>4</td>\n",
              "      <td>1</td>\n",
              "    </tr>\n",
              "    <tr>\n",
              "      <th>1</th>\n",
              "      <td>001ff74ca</td>\n",
              "      <td>1</td>\n",
              "      <td>4</td>\n",
              "      <td>1</td>\n",
              "    </tr>\n",
              "    <tr>\n",
              "      <th>2</th>\n",
              "      <td>003123ec2</td>\n",
              "      <td>0</td>\n",
              "      <td>2</td>\n",
              "      <td>3</td>\n",
              "    </tr>\n",
              "    <tr>\n",
              "      <th>3</th>\n",
              "      <td>003123ec2</td>\n",
              "      <td>1</td>\n",
              "      <td>2</td>\n",
              "      <td>1</td>\n",
              "    </tr>\n",
              "    <tr>\n",
              "      <th>4</th>\n",
              "      <td>004616164</td>\n",
              "      <td>0</td>\n",
              "      <td>2</td>\n",
              "      <td>1</td>\n",
              "    </tr>\n",
              "    <tr>\n",
              "      <th>...</th>\n",
              "      <td>...</td>\n",
              "      <td>...</td>\n",
              "      <td>...</td>\n",
              "      <td>...</td>\n",
              "    </tr>\n",
              "    <tr>\n",
              "      <th>5625</th>\n",
              "      <td>ffae4a097</td>\n",
              "      <td>1</td>\n",
              "      <td>4</td>\n",
              "      <td>1</td>\n",
              "    </tr>\n",
              "    <tr>\n",
              "      <th>5626</th>\n",
              "      <td>ffe90d46f</td>\n",
              "      <td>0</td>\n",
              "      <td>1</td>\n",
              "      <td>3</td>\n",
              "    </tr>\n",
              "    <tr>\n",
              "      <th>5627</th>\n",
              "      <td>ffe90d46f</td>\n",
              "      <td>1</td>\n",
              "      <td>1</td>\n",
              "      <td>1</td>\n",
              "    </tr>\n",
              "    <tr>\n",
              "      <th>5628</th>\n",
              "      <td>fff7d6be1</td>\n",
              "      <td>0</td>\n",
              "      <td>4</td>\n",
              "      <td>3</td>\n",
              "    </tr>\n",
              "    <tr>\n",
              "      <th>5629</th>\n",
              "      <td>fff7d6be1</td>\n",
              "      <td>1</td>\n",
              "      <td>4</td>\n",
              "      <td>1</td>\n",
              "    </tr>\n",
              "  </tbody>\n",
              "</table>\n",
              "<p>5630 rows × 4 columns</p>\n",
              "</div>\n",
              "      <button class=\"colab-df-convert\" onclick=\"convertToInteractive('df-69733986-ed0d-4dda-b489-e7cc59322548')\"\n",
              "              title=\"Convert this dataframe to an interactive table.\"\n",
              "              style=\"display:none;\">\n",
              "        \n",
              "  <svg xmlns=\"http://www.w3.org/2000/svg\" height=\"24px\"viewBox=\"0 0 24 24\"\n",
              "       width=\"24px\">\n",
              "    <path d=\"M0 0h24v24H0V0z\" fill=\"none\"/>\n",
              "    <path d=\"M18.56 5.44l.94 2.06.94-2.06 2.06-.94-2.06-.94-.94-2.06-.94 2.06-2.06.94zm-11 1L8.5 8.5l.94-2.06 2.06-.94-2.06-.94L8.5 2.5l-.94 2.06-2.06.94zm10 10l.94 2.06.94-2.06 2.06-.94-2.06-.94-.94-2.06-.94 2.06-2.06.94z\"/><path d=\"M17.41 7.96l-1.37-1.37c-.4-.4-.92-.59-1.43-.59-.52 0-1.04.2-1.43.59L10.3 9.45l-7.72 7.72c-.78.78-.78 2.05 0 2.83L4 21.41c.39.39.9.59 1.41.59.51 0 1.02-.2 1.41-.59l7.78-7.78 2.81-2.81c.8-.78.8-2.07 0-2.86zM5.41 20L4 18.59l7.72-7.72 1.47 1.35L5.41 20z\"/>\n",
              "  </svg>\n",
              "      </button>\n",
              "      \n",
              "  <style>\n",
              "    .colab-df-container {\n",
              "      display:flex;\n",
              "      flex-wrap:wrap;\n",
              "      gap: 12px;\n",
              "    }\n",
              "\n",
              "    .colab-df-convert {\n",
              "      background-color: #E8F0FE;\n",
              "      border: none;\n",
              "      border-radius: 50%;\n",
              "      cursor: pointer;\n",
              "      display: none;\n",
              "      fill: #1967D2;\n",
              "      height: 32px;\n",
              "      padding: 0 0 0 0;\n",
              "      width: 32px;\n",
              "    }\n",
              "\n",
              "    .colab-df-convert:hover {\n",
              "      background-color: #E2EBFA;\n",
              "      box-shadow: 0px 1px 2px rgba(60, 64, 67, 0.3), 0px 1px 3px 1px rgba(60, 64, 67, 0.15);\n",
              "      fill: #174EA6;\n",
              "    }\n",
              "\n",
              "    [theme=dark] .colab-df-convert {\n",
              "      background-color: #3B4455;\n",
              "      fill: #D2E3FC;\n",
              "    }\n",
              "\n",
              "    [theme=dark] .colab-df-convert:hover {\n",
              "      background-color: #434B5C;\n",
              "      box-shadow: 0px 1px 3px 1px rgba(0, 0, 0, 0.15);\n",
              "      filter: drop-shadow(0px 1px 2px rgba(0, 0, 0, 0.3));\n",
              "      fill: #FFFFFF;\n",
              "    }\n",
              "  </style>\n",
              "\n",
              "      <script>\n",
              "        const buttonEl =\n",
              "          document.querySelector('#df-69733986-ed0d-4dda-b489-e7cc59322548 button.colab-df-convert');\n",
              "        buttonEl.style.display =\n",
              "          google.colab.kernel.accessAllowed ? 'block' : 'none';\n",
              "\n",
              "        async function convertToInteractive(key) {\n",
              "          const element = document.querySelector('#df-69733986-ed0d-4dda-b489-e7cc59322548');\n",
              "          const dataTable =\n",
              "            await google.colab.kernel.invokeFunction('convertToInteractive',\n",
              "                                                     [key], {});\n",
              "          if (!dataTable) return;\n",
              "\n",
              "          const docLinkHtml = 'Like what you see? Visit the ' +\n",
              "            '<a target=\"_blank\" href=https://colab.research.google.com/notebooks/data_table.ipynb>data table notebook</a>'\n",
              "            + ' to learn more about interactive tables.';\n",
              "          element.innerHTML = '';\n",
              "          dataTable['output_type'] = 'display_data';\n",
              "          await google.colab.output.renderOutput(dataTable, element);\n",
              "          const docLink = document.createElement('div');\n",
              "          docLink.innerHTML = docLinkHtml;\n",
              "          element.appendChild(docLink);\n",
              "        }\n",
              "      </script>\n",
              "    </div>\n",
              "  </div>\n",
              "  "
            ]
          },
          "metadata": {},
          "execution_count": 7
        }
      ]
    },
    {
      "cell_type": "code",
      "source": [
        "_parentesco1 = train[train['parentesco1']==1].copy()\n",
        "_parentesco0 = train[~(train['parentesco1']==1)].copy() # ~ + 1 "
      ],
      "metadata": {
        "id": "Msu8FX3DMsjn"
      },
      "execution_count": null,
      "outputs": []
    },
    {
      "cell_type": "code",
      "source": [
        "_p1_id = set(_parentesco1.idhogar.values)\n",
        "len(_p1_id)"
      ],
      "metadata": {
        "colab": {
          "base_uri": "https://localhost:8080/"
        },
        "id": "iyExha3cWcRl",
        "outputId": "26134d5c-52d0-458f-e6b5-e9d47a3e7b61"
      },
      "execution_count": null,
      "outputs": [
        {
          "output_type": "execute_result",
          "data": {
            "text/plain": [
              "2973"
            ]
          },
          "metadata": {},
          "execution_count": 9
        }
      ]
    },
    {
      "cell_type": "code",
      "source": [
        "_parentesco0['Target_v2']=_parentesco0['idhogar'].map(lambda x : True if x in _p1_id else False)\n",
        "_parentesco0['Target_v2'].value_counts()"
      ],
      "metadata": {
        "colab": {
          "base_uri": "https://localhost:8080/"
        },
        "id": "_tkwBl44W58X",
        "outputId": "092e8537-83dc-4d11-82dd-6f9d1cd9ab6d"
      },
      "execution_count": null,
      "outputs": [
        {
          "output_type": "execute_result",
          "data": {
            "text/plain": [
              "True     6561\n",
              "False      23\n",
              "Name: Target_v2, dtype: int64"
            ]
          },
          "metadata": {},
          "execution_count": 10
        }
      ]
    },
    {
      "cell_type": "code",
      "source": [
        "_parentesco0 = _parentesco0[_parentesco0['Target_v2']==True]\n",
        "len(_parentesco0)"
      ],
      "metadata": {
        "colab": {
          "base_uri": "https://localhost:8080/"
        },
        "id": "9mR243nDL06l",
        "outputId": "d797a2be-dee0-4a92-f556-9759ae87b649"
      },
      "execution_count": null,
      "outputs": [
        {
          "output_type": "execute_result",
          "data": {
            "text/plain": [
              "6561"
            ]
          },
          "metadata": {},
          "execution_count": 11
        }
      ]
    },
    {
      "cell_type": "code",
      "source": [
        "_parentesco1[_parentesco1['idhogar']=='d6c086aa3']['Target'] # map 넣기전에 먼저 실험하면 시간 단축됨됨"
      ],
      "metadata": {
        "id": "xpiYYWvOZH1G",
        "colab": {
          "base_uri": "https://localhost:8080/"
        },
        "outputId": "ad5d8373-91a0-4722-f68a-6c73c5ec677a"
      },
      "execution_count": null,
      "outputs": [
        {
          "output_type": "execute_result",
          "data": {
            "text/plain": [
              "9552    2\n",
              "Name: Target, dtype: int64"
            ]
          },
          "metadata": {},
          "execution_count": 12
        }
      ]
    },
    {
      "cell_type": "code",
      "source": [
        "_parentesco0.loc[:,'Target_v2'] = _parentesco0['idhogar'].map(lambda x :  _parentesco1[_parentesco1['idhogar']==x]['Target'].values[0]) #loc['' ]== 컬럼으로 생김김\n",
        "len(_parentesco0)"
      ],
      "metadata": {
        "colab": {
          "base_uri": "https://localhost:8080/"
        },
        "id": "pjHuS6c3YQk1",
        "outputId": "4988a06f-33c6-4f12-e132-8df4a23b8e57"
      },
      "execution_count": null,
      "outputs": [
        {
          "output_type": "execute_result",
          "data": {
            "text/plain": [
              "6561"
            ]
          },
          "metadata": {},
          "execution_count": 13
        }
      ]
    },
    {
      "cell_type": "code",
      "source": [
        "_parentesco0.tail() # map, apply 사용 후에는 head 보다는 tail 하는게 시간 단축축"
      ],
      "metadata": {
        "colab": {
          "base_uri": "https://localhost:8080/",
          "height": 300
        },
        "id": "FDCwK3xZYox-",
        "outputId": "43c339e4-cd95-42d0-8d3f-dd73e57aeb0b"
      },
      "execution_count": null,
      "outputs": [
        {
          "output_type": "execute_result",
          "data": {
            "text/plain": [
              "                Id     v2a1  hacdor  rooms  hacapo  v14a  refrig  v18q  v18q1  \\\n",
              "9550  ID_90a399a51      NaN       0      3       0     1       1     0    NaN   \n",
              "9553  ID_c94744e07  80000.0       0      6       0     1       1     0    NaN   \n",
              "9554  ID_85fc658f8  80000.0       0      6       0     1       1     0    NaN   \n",
              "9555  ID_ced540c61  80000.0       0      6       0     1       1     0    NaN   \n",
              "9556  ID_a38c64491  80000.0       0      6       0     1       1     0    NaN   \n",
              "\n",
              "      r4h1  ...  SQBage  SQBhogar_total  SQBedjefe  SQBhogar_nin  \\\n",
              "9550     0  ...    3721               4          0             0   \n",
              "9553     0  ...       4              25         81             1   \n",
              "9554     0  ...    2500              25         81             1   \n",
              "9555     0  ...     676              25         81             1   \n",
              "9556     0  ...     441              25         81             1   \n",
              "\n",
              "      SQBovercrowding  SQBdependency  SQBmeaned  agesq  Target  Target_v2  \n",
              "9550           4.0000         1.0000     9.0000   3721       2          2  \n",
              "9553           1.5625         0.0625    68.0625      4       2          2  \n",
              "9554           1.5625         0.0625    68.0625   2500       2          2  \n",
              "9555           1.5625         0.0625    68.0625    676       2          2  \n",
              "9556           1.5625         0.0625    68.0625    441       2          2  \n",
              "\n",
              "[5 rows x 144 columns]"
            ],
            "text/html": [
              "\n",
              "  <div id=\"df-85337276-f9aa-4341-8dce-8be885f469f0\">\n",
              "    <div class=\"colab-df-container\">\n",
              "      <div>\n",
              "<style scoped>\n",
              "    .dataframe tbody tr th:only-of-type {\n",
              "        vertical-align: middle;\n",
              "    }\n",
              "\n",
              "    .dataframe tbody tr th {\n",
              "        vertical-align: top;\n",
              "    }\n",
              "\n",
              "    .dataframe thead th {\n",
              "        text-align: right;\n",
              "    }\n",
              "</style>\n",
              "<table border=\"1\" class=\"dataframe\">\n",
              "  <thead>\n",
              "    <tr style=\"text-align: right;\">\n",
              "      <th></th>\n",
              "      <th>Id</th>\n",
              "      <th>v2a1</th>\n",
              "      <th>hacdor</th>\n",
              "      <th>rooms</th>\n",
              "      <th>hacapo</th>\n",
              "      <th>v14a</th>\n",
              "      <th>refrig</th>\n",
              "      <th>v18q</th>\n",
              "      <th>v18q1</th>\n",
              "      <th>r4h1</th>\n",
              "      <th>...</th>\n",
              "      <th>SQBage</th>\n",
              "      <th>SQBhogar_total</th>\n",
              "      <th>SQBedjefe</th>\n",
              "      <th>SQBhogar_nin</th>\n",
              "      <th>SQBovercrowding</th>\n",
              "      <th>SQBdependency</th>\n",
              "      <th>SQBmeaned</th>\n",
              "      <th>agesq</th>\n",
              "      <th>Target</th>\n",
              "      <th>Target_v2</th>\n",
              "    </tr>\n",
              "  </thead>\n",
              "  <tbody>\n",
              "    <tr>\n",
              "      <th>9550</th>\n",
              "      <td>ID_90a399a51</td>\n",
              "      <td>NaN</td>\n",
              "      <td>0</td>\n",
              "      <td>3</td>\n",
              "      <td>0</td>\n",
              "      <td>1</td>\n",
              "      <td>1</td>\n",
              "      <td>0</td>\n",
              "      <td>NaN</td>\n",
              "      <td>0</td>\n",
              "      <td>...</td>\n",
              "      <td>3721</td>\n",
              "      <td>4</td>\n",
              "      <td>0</td>\n",
              "      <td>0</td>\n",
              "      <td>4.0000</td>\n",
              "      <td>1.0000</td>\n",
              "      <td>9.0000</td>\n",
              "      <td>3721</td>\n",
              "      <td>2</td>\n",
              "      <td>2</td>\n",
              "    </tr>\n",
              "    <tr>\n",
              "      <th>9553</th>\n",
              "      <td>ID_c94744e07</td>\n",
              "      <td>80000.0</td>\n",
              "      <td>0</td>\n",
              "      <td>6</td>\n",
              "      <td>0</td>\n",
              "      <td>1</td>\n",
              "      <td>1</td>\n",
              "      <td>0</td>\n",
              "      <td>NaN</td>\n",
              "      <td>0</td>\n",
              "      <td>...</td>\n",
              "      <td>4</td>\n",
              "      <td>25</td>\n",
              "      <td>81</td>\n",
              "      <td>1</td>\n",
              "      <td>1.5625</td>\n",
              "      <td>0.0625</td>\n",
              "      <td>68.0625</td>\n",
              "      <td>4</td>\n",
              "      <td>2</td>\n",
              "      <td>2</td>\n",
              "    </tr>\n",
              "    <tr>\n",
              "      <th>9554</th>\n",
              "      <td>ID_85fc658f8</td>\n",
              "      <td>80000.0</td>\n",
              "      <td>0</td>\n",
              "      <td>6</td>\n",
              "      <td>0</td>\n",
              "      <td>1</td>\n",
              "      <td>1</td>\n",
              "      <td>0</td>\n",
              "      <td>NaN</td>\n",
              "      <td>0</td>\n",
              "      <td>...</td>\n",
              "      <td>2500</td>\n",
              "      <td>25</td>\n",
              "      <td>81</td>\n",
              "      <td>1</td>\n",
              "      <td>1.5625</td>\n",
              "      <td>0.0625</td>\n",
              "      <td>68.0625</td>\n",
              "      <td>2500</td>\n",
              "      <td>2</td>\n",
              "      <td>2</td>\n",
              "    </tr>\n",
              "    <tr>\n",
              "      <th>9555</th>\n",
              "      <td>ID_ced540c61</td>\n",
              "      <td>80000.0</td>\n",
              "      <td>0</td>\n",
              "      <td>6</td>\n",
              "      <td>0</td>\n",
              "      <td>1</td>\n",
              "      <td>1</td>\n",
              "      <td>0</td>\n",
              "      <td>NaN</td>\n",
              "      <td>0</td>\n",
              "      <td>...</td>\n",
              "      <td>676</td>\n",
              "      <td>25</td>\n",
              "      <td>81</td>\n",
              "      <td>1</td>\n",
              "      <td>1.5625</td>\n",
              "      <td>0.0625</td>\n",
              "      <td>68.0625</td>\n",
              "      <td>676</td>\n",
              "      <td>2</td>\n",
              "      <td>2</td>\n",
              "    </tr>\n",
              "    <tr>\n",
              "      <th>9556</th>\n",
              "      <td>ID_a38c64491</td>\n",
              "      <td>80000.0</td>\n",
              "      <td>0</td>\n",
              "      <td>6</td>\n",
              "      <td>0</td>\n",
              "      <td>1</td>\n",
              "      <td>1</td>\n",
              "      <td>0</td>\n",
              "      <td>NaN</td>\n",
              "      <td>0</td>\n",
              "      <td>...</td>\n",
              "      <td>441</td>\n",
              "      <td>25</td>\n",
              "      <td>81</td>\n",
              "      <td>1</td>\n",
              "      <td>1.5625</td>\n",
              "      <td>0.0625</td>\n",
              "      <td>68.0625</td>\n",
              "      <td>441</td>\n",
              "      <td>2</td>\n",
              "      <td>2</td>\n",
              "    </tr>\n",
              "  </tbody>\n",
              "</table>\n",
              "<p>5 rows × 144 columns</p>\n",
              "</div>\n",
              "      <button class=\"colab-df-convert\" onclick=\"convertToInteractive('df-85337276-f9aa-4341-8dce-8be885f469f0')\"\n",
              "              title=\"Convert this dataframe to an interactive table.\"\n",
              "              style=\"display:none;\">\n",
              "        \n",
              "  <svg xmlns=\"http://www.w3.org/2000/svg\" height=\"24px\"viewBox=\"0 0 24 24\"\n",
              "       width=\"24px\">\n",
              "    <path d=\"M0 0h24v24H0V0z\" fill=\"none\"/>\n",
              "    <path d=\"M18.56 5.44l.94 2.06.94-2.06 2.06-.94-2.06-.94-.94-2.06-.94 2.06-2.06.94zm-11 1L8.5 8.5l.94-2.06 2.06-.94-2.06-.94L8.5 2.5l-.94 2.06-2.06.94zm10 10l.94 2.06.94-2.06 2.06-.94-2.06-.94-.94-2.06-.94 2.06-2.06.94z\"/><path d=\"M17.41 7.96l-1.37-1.37c-.4-.4-.92-.59-1.43-.59-.52 0-1.04.2-1.43.59L10.3 9.45l-7.72 7.72c-.78.78-.78 2.05 0 2.83L4 21.41c.39.39.9.59 1.41.59.51 0 1.02-.2 1.41-.59l7.78-7.78 2.81-2.81c.8-.78.8-2.07 0-2.86zM5.41 20L4 18.59l7.72-7.72 1.47 1.35L5.41 20z\"/>\n",
              "  </svg>\n",
              "      </button>\n",
              "      \n",
              "  <style>\n",
              "    .colab-df-container {\n",
              "      display:flex;\n",
              "      flex-wrap:wrap;\n",
              "      gap: 12px;\n",
              "    }\n",
              "\n",
              "    .colab-df-convert {\n",
              "      background-color: #E8F0FE;\n",
              "      border: none;\n",
              "      border-radius: 50%;\n",
              "      cursor: pointer;\n",
              "      display: none;\n",
              "      fill: #1967D2;\n",
              "      height: 32px;\n",
              "      padding: 0 0 0 0;\n",
              "      width: 32px;\n",
              "    }\n",
              "\n",
              "    .colab-df-convert:hover {\n",
              "      background-color: #E2EBFA;\n",
              "      box-shadow: 0px 1px 2px rgba(60, 64, 67, 0.3), 0px 1px 3px 1px rgba(60, 64, 67, 0.15);\n",
              "      fill: #174EA6;\n",
              "    }\n",
              "\n",
              "    [theme=dark] .colab-df-convert {\n",
              "      background-color: #3B4455;\n",
              "      fill: #D2E3FC;\n",
              "    }\n",
              "\n",
              "    [theme=dark] .colab-df-convert:hover {\n",
              "      background-color: #434B5C;\n",
              "      box-shadow: 0px 1px 3px 1px rgba(0, 0, 0, 0.15);\n",
              "      filter: drop-shadow(0px 1px 2px rgba(0, 0, 0, 0.3));\n",
              "      fill: #FFFFFF;\n",
              "    }\n",
              "  </style>\n",
              "\n",
              "      <script>\n",
              "        const buttonEl =\n",
              "          document.querySelector('#df-85337276-f9aa-4341-8dce-8be885f469f0 button.colab-df-convert');\n",
              "        buttonEl.style.display =\n",
              "          google.colab.kernel.accessAllowed ? 'block' : 'none';\n",
              "\n",
              "        async function convertToInteractive(key) {\n",
              "          const element = document.querySelector('#df-85337276-f9aa-4341-8dce-8be885f469f0');\n",
              "          const dataTable =\n",
              "            await google.colab.kernel.invokeFunction('convertToInteractive',\n",
              "                                                     [key], {});\n",
              "          if (!dataTable) return;\n",
              "\n",
              "          const docLinkHtml = 'Like what you see? Visit the ' +\n",
              "            '<a target=\"_blank\" href=https://colab.research.google.com/notebooks/data_table.ipynb>data table notebook</a>'\n",
              "            + ' to learn more about interactive tables.';\n",
              "          element.innerHTML = '';\n",
              "          dataTable['output_type'] = 'display_data';\n",
              "          await google.colab.output.renderOutput(dataTable, element);\n",
              "          const docLink = document.createElement('div');\n",
              "          docLink.innerHTML = docLinkHtml;\n",
              "          element.appendChild(docLink);\n",
              "        }\n",
              "      </script>\n",
              "    </div>\n",
              "  </div>\n",
              "  "
            ]
          },
          "metadata": {},
          "execution_count": 14
        }
      ]
    },
    {
      "cell_type": "code",
      "source": [
        "len(_parentesco0[_parentesco0['Target']!= _parentesco0['Target_v2']])"
      ],
      "metadata": {
        "colab": {
          "base_uri": "https://localhost:8080/"
        },
        "id": "yh1G-MPPdCf9",
        "outputId": "6986d747-af26-40a2-bed1-adca85a0fe55"
      },
      "execution_count": null,
      "outputs": [
        {
          "output_type": "execute_result",
          "data": {
            "text/plain": [
              "140"
            ]
          },
          "metadata": {},
          "execution_count": 15
        }
      ]
    },
    {
      "cell_type": "code",
      "source": [
        "_parentesco0[_parentesco0['Target']!= _parentesco0['Target_v2']].head(2)# ['idhogar'] 4b6077882"
      ],
      "metadata": {
        "colab": {
          "base_uri": "https://localhost:8080/",
          "height": 205
        },
        "id": "ETeGeYjOTBLm",
        "outputId": "82f75372-556a-40e4-e73e-f4a43289d20f"
      },
      "execution_count": null,
      "outputs": [
        {
          "output_type": "execute_result",
          "data": {
            "text/plain": [
              "               Id     v2a1  hacdor  rooms  hacapo  v14a  refrig  v18q  v18q1  \\\n",
              "283  ID_17d9dcd44  60000.0       0      3       0     1       0     0    NaN   \n",
              "284  ID_e78621924  60000.0       0      3       0     1       0     0    NaN   \n",
              "\n",
              "     r4h1  ...  SQBage  SQBhogar_total  SQBedjefe  SQBhogar_nin  \\\n",
              "283     0  ...      49               9          0             4   \n",
              "284     0  ...       4               9          0             4   \n",
              "\n",
              "     SQBovercrowding  SQBdependency  SQBmeaned  agesq  Target  Target_v2  \n",
              "283              9.0            4.0       25.0     49       2          1  \n",
              "284              9.0            4.0       25.0      4       2          1  \n",
              "\n",
              "[2 rows x 144 columns]"
            ],
            "text/html": [
              "\n",
              "  <div id=\"df-6d7d84a1-b7c7-4632-843b-89ea2db9058c\">\n",
              "    <div class=\"colab-df-container\">\n",
              "      <div>\n",
              "<style scoped>\n",
              "    .dataframe tbody tr th:only-of-type {\n",
              "        vertical-align: middle;\n",
              "    }\n",
              "\n",
              "    .dataframe tbody tr th {\n",
              "        vertical-align: top;\n",
              "    }\n",
              "\n",
              "    .dataframe thead th {\n",
              "        text-align: right;\n",
              "    }\n",
              "</style>\n",
              "<table border=\"1\" class=\"dataframe\">\n",
              "  <thead>\n",
              "    <tr style=\"text-align: right;\">\n",
              "      <th></th>\n",
              "      <th>Id</th>\n",
              "      <th>v2a1</th>\n",
              "      <th>hacdor</th>\n",
              "      <th>rooms</th>\n",
              "      <th>hacapo</th>\n",
              "      <th>v14a</th>\n",
              "      <th>refrig</th>\n",
              "      <th>v18q</th>\n",
              "      <th>v18q1</th>\n",
              "      <th>r4h1</th>\n",
              "      <th>...</th>\n",
              "      <th>SQBage</th>\n",
              "      <th>SQBhogar_total</th>\n",
              "      <th>SQBedjefe</th>\n",
              "      <th>SQBhogar_nin</th>\n",
              "      <th>SQBovercrowding</th>\n",
              "      <th>SQBdependency</th>\n",
              "      <th>SQBmeaned</th>\n",
              "      <th>agesq</th>\n",
              "      <th>Target</th>\n",
              "      <th>Target_v2</th>\n",
              "    </tr>\n",
              "  </thead>\n",
              "  <tbody>\n",
              "    <tr>\n",
              "      <th>283</th>\n",
              "      <td>ID_17d9dcd44</td>\n",
              "      <td>60000.0</td>\n",
              "      <td>0</td>\n",
              "      <td>3</td>\n",
              "      <td>0</td>\n",
              "      <td>1</td>\n",
              "      <td>0</td>\n",
              "      <td>0</td>\n",
              "      <td>NaN</td>\n",
              "      <td>0</td>\n",
              "      <td>...</td>\n",
              "      <td>49</td>\n",
              "      <td>9</td>\n",
              "      <td>0</td>\n",
              "      <td>4</td>\n",
              "      <td>9.0</td>\n",
              "      <td>4.0</td>\n",
              "      <td>25.0</td>\n",
              "      <td>49</td>\n",
              "      <td>2</td>\n",
              "      <td>1</td>\n",
              "    </tr>\n",
              "    <tr>\n",
              "      <th>284</th>\n",
              "      <td>ID_e78621924</td>\n",
              "      <td>60000.0</td>\n",
              "      <td>0</td>\n",
              "      <td>3</td>\n",
              "      <td>0</td>\n",
              "      <td>1</td>\n",
              "      <td>0</td>\n",
              "      <td>0</td>\n",
              "      <td>NaN</td>\n",
              "      <td>0</td>\n",
              "      <td>...</td>\n",
              "      <td>4</td>\n",
              "      <td>9</td>\n",
              "      <td>0</td>\n",
              "      <td>4</td>\n",
              "      <td>9.0</td>\n",
              "      <td>4.0</td>\n",
              "      <td>25.0</td>\n",
              "      <td>4</td>\n",
              "      <td>2</td>\n",
              "      <td>1</td>\n",
              "    </tr>\n",
              "  </tbody>\n",
              "</table>\n",
              "<p>2 rows × 144 columns</p>\n",
              "</div>\n",
              "      <button class=\"colab-df-convert\" onclick=\"convertToInteractive('df-6d7d84a1-b7c7-4632-843b-89ea2db9058c')\"\n",
              "              title=\"Convert this dataframe to an interactive table.\"\n",
              "              style=\"display:none;\">\n",
              "        \n",
              "  <svg xmlns=\"http://www.w3.org/2000/svg\" height=\"24px\"viewBox=\"0 0 24 24\"\n",
              "       width=\"24px\">\n",
              "    <path d=\"M0 0h24v24H0V0z\" fill=\"none\"/>\n",
              "    <path d=\"M18.56 5.44l.94 2.06.94-2.06 2.06-.94-2.06-.94-.94-2.06-.94 2.06-2.06.94zm-11 1L8.5 8.5l.94-2.06 2.06-.94-2.06-.94L8.5 2.5l-.94 2.06-2.06.94zm10 10l.94 2.06.94-2.06 2.06-.94-2.06-.94-.94-2.06-.94 2.06-2.06.94z\"/><path d=\"M17.41 7.96l-1.37-1.37c-.4-.4-.92-.59-1.43-.59-.52 0-1.04.2-1.43.59L10.3 9.45l-7.72 7.72c-.78.78-.78 2.05 0 2.83L4 21.41c.39.39.9.59 1.41.59.51 0 1.02-.2 1.41-.59l7.78-7.78 2.81-2.81c.8-.78.8-2.07 0-2.86zM5.41 20L4 18.59l7.72-7.72 1.47 1.35L5.41 20z\"/>\n",
              "  </svg>\n",
              "      </button>\n",
              "      \n",
              "  <style>\n",
              "    .colab-df-container {\n",
              "      display:flex;\n",
              "      flex-wrap:wrap;\n",
              "      gap: 12px;\n",
              "    }\n",
              "\n",
              "    .colab-df-convert {\n",
              "      background-color: #E8F0FE;\n",
              "      border: none;\n",
              "      border-radius: 50%;\n",
              "      cursor: pointer;\n",
              "      display: none;\n",
              "      fill: #1967D2;\n",
              "      height: 32px;\n",
              "      padding: 0 0 0 0;\n",
              "      width: 32px;\n",
              "    }\n",
              "\n",
              "    .colab-df-convert:hover {\n",
              "      background-color: #E2EBFA;\n",
              "      box-shadow: 0px 1px 2px rgba(60, 64, 67, 0.3), 0px 1px 3px 1px rgba(60, 64, 67, 0.15);\n",
              "      fill: #174EA6;\n",
              "    }\n",
              "\n",
              "    [theme=dark] .colab-df-convert {\n",
              "      background-color: #3B4455;\n",
              "      fill: #D2E3FC;\n",
              "    }\n",
              "\n",
              "    [theme=dark] .colab-df-convert:hover {\n",
              "      background-color: #434B5C;\n",
              "      box-shadow: 0px 1px 3px 1px rgba(0, 0, 0, 0.15);\n",
              "      filter: drop-shadow(0px 1px 2px rgba(0, 0, 0, 0.3));\n",
              "      fill: #FFFFFF;\n",
              "    }\n",
              "  </style>\n",
              "\n",
              "      <script>\n",
              "        const buttonEl =\n",
              "          document.querySelector('#df-6d7d84a1-b7c7-4632-843b-89ea2db9058c button.colab-df-convert');\n",
              "        buttonEl.style.display =\n",
              "          google.colab.kernel.accessAllowed ? 'block' : 'none';\n",
              "\n",
              "        async function convertToInteractive(key) {\n",
              "          const element = document.querySelector('#df-6d7d84a1-b7c7-4632-843b-89ea2db9058c');\n",
              "          const dataTable =\n",
              "            await google.colab.kernel.invokeFunction('convertToInteractive',\n",
              "                                                     [key], {});\n",
              "          if (!dataTable) return;\n",
              "\n",
              "          const docLinkHtml = 'Like what you see? Visit the ' +\n",
              "            '<a target=\"_blank\" href=https://colab.research.google.com/notebooks/data_table.ipynb>data table notebook</a>'\n",
              "            + ' to learn more about interactive tables.';\n",
              "          element.innerHTML = '';\n",
              "          dataTable['output_type'] = 'display_data';\n",
              "          await google.colab.output.renderOutput(dataTable, element);\n",
              "          const docLink = document.createElement('div');\n",
              "          docLink.innerHTML = docLinkHtml;\n",
              "          element.appendChild(docLink);\n",
              "        }\n",
              "      </script>\n",
              "    </div>\n",
              "  </div>\n",
              "  "
            ]
          },
          "metadata": {},
          "execution_count": 16
        }
      ]
    },
    {
      "cell_type": "code",
      "source": [
        "_parentesco0.drop('Target', axis=1, inplace=True)\n",
        "_parentesco0 =_parentesco0.rename(columns={'Target_v2' : 'Target'})\n",
        "_parentesco0 = _parentesco0[_parentesco1.columns.tolist()]"
      ],
      "metadata": {
        "id": "kAoUMIpTacTI"
      },
      "execution_count": null,
      "outputs": []
    },
    {
      "cell_type": "code",
      "source": [
        "train_v2 = pd.concat([_parentesco0, _parentesco1], axis=0)"
      ],
      "metadata": {
        "id": "ha6boCiJaqK6"
      },
      "execution_count": null,
      "outputs": []
    },
    {
      "cell_type": "code",
      "source": [
        "train_v2.Target.value_counts()\n",
        "#train(old버전전)\n",
        "# 4    5996\n",
        "# 2    1597\n",
        "# 3    1209\n",
        "# 1     755"
      ],
      "metadata": {
        "colab": {
          "base_uri": "https://localhost:8080/"
        },
        "id": "gpAqh7UFeFjh",
        "outputId": "71d6519e-b2de-48e2-b1a1-dc34850db16c"
      },
      "execution_count": null,
      "outputs": [
        {
          "output_type": "execute_result",
          "data": {
            "text/plain": [
              "4    6001\n",
              "2    1558\n",
              "3    1201\n",
              "1     774\n",
              "Name: Target, dtype: int64"
            ]
          },
          "metadata": {},
          "execution_count": 19
        }
      ]
    },
    {
      "cell_type": "code",
      "source": [
        "import matplotlib.pyplot as plt\n",
        "plt.bar(train_v2.Target.value_counts().index, train_v2.Target.value_counts().values, width=0.8, bottom= None, align='center')\n",
        "plt.show()\n",
        "'''클래스 수를 고려해서 train,valid 나눠야 함함'''"
      ],
      "metadata": {
        "colab": {
          "base_uri": "https://localhost:8080/",
          "height": 448
        },
        "id": "OOppvtKVfGqw",
        "outputId": "d515c38e-775f-4bf5-f78f-31c3a625f0b3"
      },
      "execution_count": null,
      "outputs": [
        {
          "output_type": "display_data",
          "data": {
            "text/plain": [
              "<Figure size 640x480 with 1 Axes>"
            ],
            "image/png": "[encoded data removed]"
          },
          "metadata": {}
        },
        {
          "output_type": "execute_result",
          "data": {
            "text/plain": [
              "'클래스 수를 고려해서 train,valid 나눠야 함함'"
            ],
            "application/vnd.google.colaboratory.intrinsic+json": {
              "type": "string"
            }
          },
          "metadata": {},
          "execution_count": 20
        }
      ]
    },
    {
      "cell_type": "markdown",
      "source": [
        "### 전처리\n"
      ],
      "metadata": {
        "id": "xktLrTYOeTyr"
      }
    },
    {
      "cell_type": "code",
      "source": [
        "len(train_v2)"
      ],
      "metadata": {
        "colab": {
          "base_uri": "https://localhost:8080/"
        },
        "id": "8MAlso01eesk",
        "outputId": "265e03b0-6e67-43a7-ab17-b1ceddcbfd25"
      },
      "execution_count": null,
      "outputs": [
        {
          "output_type": "execute_result",
          "data": {
            "text/plain": [
              "9534"
            ]
          },
          "metadata": {},
          "execution_count": 21
        }
      ]
    },
    {
      "cell_type": "code",
      "source": [
        "back_train = train_v2.copy()"
      ],
      "metadata": {
        "id": "x374sZfexdLY"
      },
      "execution_count": null,
      "outputs": []
    },
    {
      "cell_type": "code",
      "source": [
        "train_v2.isna().sum().sort_values(ascending=False)[:10]\n",
        "#rez_Esc 학교로부터 몇년뒤\n",
        "#v18q1 가구가 소유한 태블릿 수\n",
        "#v2a1 월세"
      ],
      "metadata": {
        "colab": {
          "base_uri": "https://localhost:8080/"
        },
        "id": "MIlBfNPC_qVG",
        "outputId": "1de5a97c-c32b-42ac-a884-9046969f1dd7"
      },
      "execution_count": null,
      "outputs": [
        {
          "output_type": "execute_result",
          "data": {
            "text/plain": [
              "rez_esc         7921\n",
              "v18q1           7319\n",
              "v2a1            6843\n",
              "SQBmeaned          5\n",
              "meaneduc           5\n",
              "Id                 0\n",
              "hogar_adul         0\n",
              "parentesco10       0\n",
              "parentesco11       0\n",
              "parentesco12       0\n",
              "dtype: int64"
            ]
          },
          "metadata": {},
          "execution_count": 23
        }
      ]
    },
    {
      "cell_type": "code",
      "source": [
        "train_v2.drop(['rez_esc', 'v18q1', 'v2a1'], axis=1, inplace=True)"
      ],
      "metadata": {
        "id": "I04pNCkaekXT"
      },
      "execution_count": null,
      "outputs": []
    },
    {
      "cell_type": "code",
      "source": [
        "train_v2.info()"
      ],
      "metadata": {
        "colab": {
          "base_uri": "https://localhost:8080/"
        },
        "id": "C7xUByy-b5mg",
        "outputId": "2551a011-2a05-4aa3-ea3a-3327484e6b10"
      },
      "execution_count": null,
      "outputs": [
        {
          "output_type": "stream",
          "name": "stdout",
          "text": [
            "<class 'pandas.core.frame.DataFrame'>\n",
            "Int64Index: 9534 entries, 3 to 9552\n",
            "Columns: 140 entries, Id to Target\n",
            "dtypes: float64(5), int64(130), object(5)\n",
            "memory usage: 10.3+ MB\n"
          ]
        }
      ]
    },
    {
      "cell_type": "code",
      "source": [
        "'''왜 boxplot이 안그려지지'''\n",
        "# plt.boxplot(train_v2['meaneduc'])\n",
        "# #plt.title('SQBmeaned')\n",
        "# plt.show()\n",
        "plt.hist('meaneduc',data=train_v2)"
      ],
      "metadata": {
        "colab": {
          "base_uri": "https://localhost:8080/",
          "height": 503
        },
        "id": "HynbnDJ6e218",
        "outputId": "f70a5315-0717-465d-f3e4-765e3d5d31d3"
      },
      "execution_count": null,
      "outputs": [
        {
          "output_type": "execute_result",
          "data": {
            "text/plain": [
              "(array([6.860e+02, 2.671e+03, 3.507e+03, 1.687e+03, 7.640e+02, 1.630e+02,\n",
              "        3.200e+01, 1.400e+01, 2.000e+00, 3.000e+00]),\n",
              " array([ 0. ,  3.7,  7.4, 11.1, 14.8, 18.5, 22.2, 25.9, 29.6, 33.3, 37. ]),\n",
              " <BarContainer object of 10 artists>)"
            ]
          },
          "metadata": {},
          "execution_count": 26
        },
        {
          "output_type": "display_data",
          "data": {
            "text/plain": [
              "<Figure size 640x480 with 1 Axes>"
            ],
            "image/png": "[encoded data removed]"
          },
          "metadata": {}
        }
      ]
    },
    {
      "cell_type": "code",
      "source": [
        "# plt.boxplot(train_v2['SQBmeaned'])\n",
        "# #plt.title('SQBmeaned')\n",
        "# plt.show()\n",
        "plt.hist('SQBmeaned',data=train_v2)"
      ],
      "metadata": {
        "colab": {
          "base_uri": "https://localhost:8080/",
          "height": 522
        },
        "id": "biSXs73ugboW",
        "outputId": "fb096d2f-8855-4c0c-a2a4-1299c49baf35"
      },
      "execution_count": null,
      "outputs": [
        {
          "output_type": "execute_result",
          "data": {
            "text/plain": [
              "(array([7.194e+03, 1.939e+03, 2.780e+02, 8.000e+01, 1.900e+01, 7.000e+00,\n",
              "        7.000e+00, 2.000e+00, 0.000e+00, 3.000e+00]),\n",
              " array([   0. ,  136.9,  273.8,  410.7,  547.6,  684.5,  821.4,  958.3,\n",
              "        1095.2, 1232.1, 1369. ]),\n",
              " <BarContainer object of 10 artists>)"
            ]
          },
          "metadata": {},
          "execution_count": 27
        },
        {
          "output_type": "display_data",
          "data": {
            "text/plain": [
              "<Figure size 640x480 with 1 Axes>"
            ],
            "image/png": "[encoded data removed]"
          },
          "metadata": {}
        }
      ]
    },
    {
      "cell_type": "code",
      "source": [
        "m_mean = train_v2.meaneduc.mean()\n",
        "m_mean\n",
        "train_v2.meaneduc = train_v2.meaneduc.fillna(m_mean)\n"
      ],
      "metadata": {
        "id": "9GDwldUVg4Qd"
      },
      "execution_count": null,
      "outputs": []
    },
    {
      "cell_type": "code",
      "source": [
        "s_mode =  train_v2.SQBmeaned.value_counts().sort_values(ascending=False).index[0] # index[0]임\n",
        "train_v2.SQBmeaned = train_v2.SQBmeaned.fillna(s_mode)"
      ],
      "metadata": {
        "id": "xXnM2ZR2h4IS"
      },
      "execution_count": null,
      "outputs": []
    },
    {
      "cell_type": "code",
      "source": [
        "corr_df = train_v2.corr()\n",
        "corr_df = corr_df.apply(lambda x: round(x ,2))\n",
        "corr_df_t = corr_df['Target']\n",
        "# corr_df_t[corr_df_t>0.5]\n",
        "# corr_df_t[corr_df_t<-0.5]"
      ],
      "metadata": {
        "colab": {
          "base_uri": "https://localhost:8080/"
        },
        "id": "jiWby_ZqjvQ7",
        "outputId": "b6309162-701c-48cb-cdd9-dbf2918ba666"
      },
      "execution_count": null,
      "outputs": [
        {
          "output_type": "stream",
          "name": "stderr",
          "text": [
            "<ipython-input-30-697ec1bf3aed>:1: FutureWarning: The default value of numeric_only in DataFrame.corr is deprecated. In a future version, it will default to False. Select only valid columns or specify the value of numeric_only to silence this warning.\n",
            "  corr_df = train_v2.corr()\n"
          ]
        }
      ]
    },
    {
      "cell_type": "code",
      "source": [
        "corr_df_t.sort_values(ascending=False)[:10]"
      ],
      "metadata": {
        "colab": {
          "base_uri": "https://localhost:8080/"
        },
        "id": "JvM1FrpxKJgg",
        "outputId": "d29c5559-99fa-4f12-9e64-6389212a2518"
      },
      "execution_count": null,
      "outputs": [
        {
          "output_type": "execute_result",
          "data": {
            "text/plain": [
              "Target         1.00\n",
              "meaneduc       0.34\n",
              "escolari       0.31\n",
              "cielorazo      0.31\n",
              "SQBescolari    0.30\n",
              "eviv3          0.30\n",
              "epared3        0.29\n",
              "pisomoscer     0.28\n",
              "SQBmeaned      0.28\n",
              "etecho3        0.26\n",
              "Name: Target, dtype: float64"
            ]
          },
          "metadata": {},
          "execution_count": 34
        }
      ]
    },
    {
      "cell_type": "code",
      "source": [
        "plt.hist(corr_df_t)"
      ],
      "metadata": {
        "colab": {
          "base_uri": "https://localhost:8080/",
          "height": 503
        },
        "id": "HFflwW14laF4",
        "outputId": "5cfd74c5-3c69-4f0c-b51d-d79746a75335"
      },
      "execution_count": null,
      "outputs": [
        {
          "output_type": "execute_result",
          "data": {
            "text/plain": [
              "(array([11., 35., 52., 21., 13.,  1.,  0.,  0.,  0.,  1.]),\n",
              " array([-0.33 , -0.197, -0.064,  0.069,  0.202,  0.335,  0.468,  0.601,\n",
              "         0.734,  0.867,  1.   ]),\n",
              " <BarContainer object of 10 artists>)"
            ]
          },
          "metadata": {},
          "execution_count": 31
        },
        {
          "output_type": "display_data",
          "data": {
            "text/plain": [
              "<Figure size 640x480 with 1 Axes>"
            ],
            "image/png": "[encoded data removed]"
          },
          "metadata": {}
        }
      ]
    },
    {
      "cell_type": "code",
      "source": [
        "train_v2.select_dtypes(\"object\")\n",
        "# dependency 의존도\n",
        "# edjefe 남성 가장의 교육년수\n",
        "# edjefa 여성 가장의 학력"
      ],
      "metadata": {
        "colab": {
          "base_uri": "https://localhost:8080/",
          "height": 423
        },
        "id": "hH4hlJJcoJu9",
        "outputId": "ada57bcf-9450-41cd-8554-6972f684484a"
      },
      "execution_count": null,
      "outputs": [
        {
          "output_type": "execute_result",
          "data": {
            "text/plain": [
              "                Id    idhogar dependency edjefe edjefa\n",
              "3     ID_d671db89c  2b58d945f        yes     11     no\n",
              "4     ID_d56d6f5f5  2b58d945f        yes     11     no\n",
              "6     ID_e9e0c1100  2b58d945f        yes     11     no\n",
              "7     ID_3e04e571e  d6dae86b7        yes      9     no\n",
              "9     ID_51f52fdd2  d6dae86b7        yes      9     no\n",
              "...            ...        ...        ...    ...    ...\n",
              "9535  ID_18b0a845b  9bbf7c6ca        1.5     no      5\n",
              "9541  ID_a31274054  e87e70c06        1.5      2     no\n",
              "9545  ID_32a00a8bf  a8eeafc29  .66666669      2     no\n",
              "9551  ID_79d39dddc  212db6f6c        yes     no     no\n",
              "9552  ID_d45ae367d  d6c086aa3        .25      9     no\n",
              "\n",
              "[9534 rows x 5 columns]"
            ],
            "text/html": [
              "\n",
              "  <div id=\"df-a19b4494-673c-4abd-a896-0174fd05d45b\">\n",
              "    <div class=\"colab-df-container\">\n",
              "      <div>\n",
              "<style scoped>\n",
              "    .dataframe tbody tr th:only-of-type {\n",
              "        vertical-align: middle;\n",
              "    }\n",
              "\n",
              "    .dataframe tbody tr th {\n",
              "        vertical-align: top;\n",
              "    }\n",
              "\n",
              "    .dataframe thead th {\n",
              "        text-align: right;\n",
              "    }\n",
              "</style>\n",
              "<table border=\"1\" class=\"dataframe\">\n",
              "  <thead>\n",
              "    <tr style=\"text-align: right;\">\n",
              "      <th></th>\n",
              "      <th>Id</th>\n",
              "      <th>idhogar</th>\n",
              "      <th>dependency</th>\n",
              "      <th>edjefe</th>\n",
              "      <th>edjefa</th>\n",
              "    </tr>\n",
              "  </thead>\n",
              "  <tbody>\n",
              "    <tr>\n",
              "      <th>3</th>\n",
              "      <td>ID_d671db89c</td>\n",
              "      <td>2b58d945f</td>\n",
              "      <td>yes</td>\n",
              "      <td>11</td>\n",
              "      <td>no</td>\n",
              "    </tr>\n",
              "    <tr>\n",
              "      <th>4</th>\n",
              "      <td>ID_d56d6f5f5</td>\n",
              "      <td>2b58d945f</td>\n",
              "      <td>yes</td>\n",
              "      <td>11</td>\n",
              "      <td>no</td>\n",
              "    </tr>\n",
              "    <tr>\n",
              "      <th>6</th>\n",
              "      <td>ID_e9e0c1100</td>\n",
              "      <td>2b58d945f</td>\n",
              "      <td>yes</td>\n",
              "      <td>11</td>\n",
              "      <td>no</td>\n",
              "    </tr>\n",
              "    <tr>\n",
              "      <th>7</th>\n",
              "      <td>ID_3e04e571e</td>\n",
              "      <td>d6dae86b7</td>\n",
              "      <td>yes</td>\n",
              "      <td>9</td>\n",
              "      <td>no</td>\n",
              "    </tr>\n",
              "    <tr>\n",
              "      <th>9</th>\n",
              "      <td>ID_51f52fdd2</td>\n",
              "      <td>d6dae86b7</td>\n",
              "      <td>yes</td>\n",
              "      <td>9</td>\n",
              "      <td>no</td>\n",
              "    </tr>\n",
              "    <tr>\n",
              "      <th>...</th>\n",
              "      <td>...</td>\n",
              "      <td>...</td>\n",
              "      <td>...</td>\n",
              "      <td>...</td>\n",
              "      <td>...</td>\n",
              "    </tr>\n",
              "    <tr>\n",
              "      <th>9535</th>\n",
              "      <td>ID_18b0a845b</td>\n",
              "      <td>9bbf7c6ca</td>\n",
              "      <td>1.5</td>\n",
              "      <td>no</td>\n",
              "      <td>5</td>\n",
              "    </tr>\n",
              "    <tr>\n",
              "      <th>9541</th>\n",
              "      <td>ID_a31274054</td>\n",
              "      <td>e87e70c06</td>\n",
              "      <td>1.5</td>\n",
              "      <td>2</td>\n",
              "      <td>no</td>\n",
              "    </tr>\n",
              "    <tr>\n",
              "      <th>9545</th>\n",
              "      <td>ID_32a00a8bf</td>\n",
              "      <td>a8eeafc29</td>\n",
              "      <td>.66666669</td>\n",
              "      <td>2</td>\n",
              "      <td>no</td>\n",
              "    </tr>\n",
              "    <tr>\n",
              "      <th>9551</th>\n",
              "      <td>ID_79d39dddc</td>\n",
              "      <td>212db6f6c</td>\n",
              "      <td>yes</td>\n",
              "      <td>no</td>\n",
              "      <td>no</td>\n",
              "    </tr>\n",
              "    <tr>\n",
              "      <th>9552</th>\n",
              "      <td>ID_d45ae367d</td>\n",
              "      <td>d6c086aa3</td>\n",
              "      <td>.25</td>\n",
              "      <td>9</td>\n",
              "      <td>no</td>\n",
              "    </tr>\n",
              "  </tbody>\n",
              "</table>\n",
              "<p>9534 rows × 5 columns</p>\n",
              "</div>\n",
              "      <button class=\"colab-df-convert\" onclick=\"convertToInteractive('df-a19b4494-673c-4abd-a896-0174fd05d45b')\"\n",
              "              title=\"Convert this dataframe to an interactive table.\"\n",
              "              style=\"display:none;\">\n",
              "        \n",
              "  <svg xmlns=\"http://www.w3.org/2000/svg\" height=\"24px\"viewBox=\"0 0 24 24\"\n",
              "       width=\"24px\">\n",
              "    <path d=\"M0 0h24v24H0V0z\" fill=\"none\"/>\n",
              "    <path d=\"M18.56 5.44l.94 2.06.94-2.06 2.06-.94-2.06-.94-.94-2.06-.94 2.06-2.06.94zm-11 1L8.5 8.5l.94-2.06 2.06-.94-2.06-.94L8.5 2.5l-.94 2.06-2.06.94zm10 10l.94 2.06.94-2.06 2.06-.94-2.06-.94-.94-2.06-.94 2.06-2.06.94z\"/><path d=\"M17.41 7.96l-1.37-1.37c-.4-.4-.92-.59-1.43-.59-.52 0-1.04.2-1.43.59L10.3 9.45l-7.72 7.72c-.78.78-.78 2.05 0 2.83L4 21.41c.39.39.9.59 1.41.59.51 0 1.02-.2 1.41-.59l7.78-7.78 2.81-2.81c.8-.78.8-2.07 0-2.86zM5.41 20L4 18.59l7.72-7.72 1.47 1.35L5.41 20z\"/>\n",
              "  </svg>\n",
              "      </button>\n",
              "      \n",
              "  <style>\n",
              "    .colab-df-container {\n",
              "      display:flex;\n",
              "      flex-wrap:wrap;\n",
              "      gap: 12px;\n",
              "    }\n",
              "\n",
              "    .colab-df-convert {\n",
              "      background-color: #E8F0FE;\n",
              "      border: none;\n",
              "      border-radius: 50%;\n",
              "      cursor: pointer;\n",
              "      display: none;\n",
              "      fill: #1967D2;\n",
              "      height: 32px;\n",
              "      padding: 0 0 0 0;\n",
              "      width: 32px;\n",
              "    }\n",
              "\n",
              "    .colab-df-convert:hover {\n",
              "      background-color: #E2EBFA;\n",
              "      box-shadow: 0px 1px 2px rgba(60, 64, 67, 0.3), 0px 1px 3px 1px rgba(60, 64, 67, 0.15);\n",
              "      fill: #174EA6;\n",
              "    }\n",
              "\n",
              "    [theme=dark] .colab-df-convert {\n",
              "      background-color: #3B4455;\n",
              "      fill: #D2E3FC;\n",
              "    }\n",
              "\n",
              "    [theme=dark] .colab-df-convert:hover {\n",
              "      background-color: #434B5C;\n",
              "      box-shadow: 0px 1px 3px 1px rgba(0, 0, 0, 0.15);\n",
              "      filter: drop-shadow(0px 1px 2px rgba(0, 0, 0, 0.3));\n",
              "      fill: #FFFFFF;\n",
              "    }\n",
              "  </style>\n",
              "\n",
              "      <script>\n",
              "        const buttonEl =\n",
              "          document.querySelector('#df-a19b4494-673c-4abd-a896-0174fd05d45b button.colab-df-convert');\n",
              "        buttonEl.style.display =\n",
              "          google.colab.kernel.accessAllowed ? 'block' : 'none';\n",
              "\n",
              "        async function convertToInteractive(key) {\n",
              "          const element = document.querySelector('#df-a19b4494-673c-4abd-a896-0174fd05d45b');\n",
              "          const dataTable =\n",
              "            await google.colab.kernel.invokeFunction('convertToInteractive',\n",
              "                                                     [key], {});\n",
              "          if (!dataTable) return;\n",
              "\n",
              "          const docLinkHtml = 'Like what you see? Visit the ' +\n",
              "            '<a target=\"_blank\" href=https://colab.research.google.com/notebooks/data_table.ipynb>data table notebook</a>'\n",
              "            + ' to learn more about interactive tables.';\n",
              "          element.innerHTML = '';\n",
              "          dataTable['output_type'] = 'display_data';\n",
              "          await google.colab.output.renderOutput(dataTable, element);\n",
              "          const docLink = document.createElement('div');\n",
              "          docLink.innerHTML = docLinkHtml;\n",
              "          element.appendChild(docLink);\n",
              "        }\n",
              "      </script>\n",
              "    </div>\n",
              "  </div>\n",
              "  "
            ]
          },
          "metadata": {},
          "execution_count": 32
        }
      ]
    },
    {
      "cell_type": "code",
      "source": [
        "backuptrain = train_v2.copy() # 전처리 중간 중간간백업용 만들어놓기"
      ],
      "metadata": {
        "id": "h2EiqmflvrSl"
      },
      "execution_count": null,
      "outputs": []
    },
    {
      "cell_type": "code",
      "source": [
        "# 이상치 처리 가능한가? \n",
        "# import numpy as np\n",
        "# depend = train_v2[(train_v2['dependency']!='yes') &(train_v2['dependency']!='no')]['dependency'].astype(float)\n",
        "# qua_1, qua_3 = np.percentile(depend, [25,75])\n",
        "# iqr = qua_3 - qua_1\n",
        "# lower_whis=qua_1 -(iqr*1.5)\n",
        "# upper_whis=qua_3 +(iqr*1.5)\n",
        "# lower_whis, upper_whis"
      ],
      "metadata": {
        "id": "R-gljeh3rmB3"
      },
      "execution_count": null,
      "outputs": []
    },
    {
      "cell_type": "code",
      "source": [
        "#train_v2.dependency.max() ouput : 'yes'\n",
        "depend = train_v2[(train_v2['dependency']!='yes') &(train_v2['dependency']!='no')]['dependency'].astype(float)\n",
        "d_max = max(depend)\n",
        "d_min = min(depend)\n",
        "d_max, d_min"
      ],
      "metadata": {
        "colab": {
          "base_uri": "https://localhost:8080/"
        },
        "id": "_kzHPKMGqLVq",
        "outputId": "15f5bb59-f781-48cf-b0dc-fbc1a29f9282"
      },
      "execution_count": null,
      "outputs": [
        {
          "output_type": "execute_result",
          "data": {
            "text/plain": [
              "(8.0, 0.16666667)"
            ]
          },
          "metadata": {},
          "execution_count": 35
        }
      ]
    },
    {
      "cell_type": "code",
      "source": [
        "train_v2.dependency = train_v2.dependency.map(lambda x : d_max if x==\"yes\" else d_min if x==\"no\" else x ).astype(float)"
      ],
      "metadata": {
        "id": "3M2G_in1q11N"
      },
      "execution_count": null,
      "outputs": []
    },
    {
      "cell_type": "code",
      "source": [
        "edjefe = train_v2[(train_v2['edjefe']!='yes') &(train_v2['edjefe']!='no')]['edjefe'].astype(float)\n",
        "plt.hist(edjefe)\n",
        "e_median = edjefe.median()\n",
        "train_v2.edjefe = train_v2.edjefe.map(lambda x : e_median if x==\"yes\" else 0 if x==\"no\" else x ).astype(float)\n"
      ],
      "metadata": {
        "colab": {
          "base_uri": "https://localhost:8080/",
          "height": 430
        },
        "id": "Ubh--leGt6cT",
        "outputId": "7c07974b-7b11-476f-88e8-39ee4d559ebb"
      },
      "execution_count": null,
      "outputs": [
        {
          "output_type": "display_data",
          "data": {
            "text/plain": [
              "<Figure size 640x480 with 1 Axes>"
            ],
            "image/png": "[encoded data removed]"
          },
          "metadata": {}
        }
      ]
    },
    {
      "cell_type": "code",
      "source": [
        "edjefa = train_v2[(train_v2['edjefa']!='yes') &(train_v2['edjefa']!='no')]['edjefa'].astype(float)\n",
        "plt.hist(edjefa)\n",
        "e_median = edjefa.median()\n",
        "train_v2.edjefa = train_v2.edjefa.map(lambda x : e_median if x==\"yes\" else 0 if x==\"no\" else x ).astype(float)\n",
        "e_median"
      ],
      "metadata": {
        "colab": {
          "base_uri": "https://localhost:8080/",
          "height": 448
        },
        "id": "laAzeRyGvO7V",
        "outputId": "9d3346af-f685-42ab-e13b-1d8aa4a0396b"
      },
      "execution_count": null,
      "outputs": [
        {
          "output_type": "execute_result",
          "data": {
            "text/plain": [
              "7.0"
            ]
          },
          "metadata": {},
          "execution_count": 38
        },
        {
          "output_type": "display_data",
          "data": {
            "text/plain": [
              "<Figure size 640x480 with 1 Axes>"
            ],
            "image/png": "[encoded data removed]"
          },
          "metadata": {}
        }
      ]
    },
    {
      "cell_type": "markdown",
      "source": [
        "### 머신러닝 모델 선정정"
      ],
      "metadata": {
        "id": "ZDyYEWWVmlWq"
      }
    },
    {
      "cell_type": "code",
      "source": [
        "'''소프트맥스 회귀 다중 분류'''\n",
        "from sklearn.model_selection import train_test_split\n",
        "\n",
        "feature_columns = list(train_v2.columns.difference(['Id', 'idhogar','Target']))\n",
        "x = train_v2[feature_columns]\n",
        "y=train_v2['Target']\n",
        "\n",
        "'''층화 추출법'''\n",
        "train_x, test_x, train_y, test_y = train_test_split(x,y, stratify=y, train_size=0.7, random_state=1)\n",
        "print(train_x.shape, test_x.shape, train_y.shape, test_y.shape)"
      ],
      "metadata": {
        "colab": {
          "base_uri": "https://localhost:8080/"
        },
        "id": "r4UtLPy4j3ox",
        "outputId": "c64c6ac3-409b-46c3-9fd1-651b831f39fe"
      },
      "execution_count": null,
      "outputs": [
        {
          "output_type": "stream",
          "name": "stdout",
          "text": [
            "(6673, 137) (2861, 137) (6673,) (2861,)\n"
          ]
        }
      ]
    },
    {
      "cell_type": "markdown",
      "source": [
        "##### 1. 소프트맥스 회귀 다중 분류류"
      ],
      "metadata": {
        "id": "BfY-GlgceerA"
      }
    },
    {
      "cell_type": "code",
      "source": [
        "'''\n",
        "lbfgs약자: \"제한된 메모리 Broyden–Fletcher–Goldfarb–Shanno 알고리즘\". Scikit-Learn Library에서 제공하는 솔버 알고리즘 중 하나입니다.\n",
        "\n",
        "제한된 메모리라는 용어는 단순히 그래디언트 근사치를 암시적으로 나타내는 몇 개의 벡터만 저장한다는 의미입니다 .\n",
        "\n",
        "상대적으로 작은 데이터 세트 에서 더 잘 수렴 됩니다 .\n",
        "'''"
      ],
      "metadata": {
        "id": "rx-wp1cozJ4D"
      },
      "execution_count": null,
      "outputs": []
    },
    {
      "cell_type": "code",
      "source": [
        "from sklearn.linear_model import LogisticRegression\n",
        "\n",
        "'''scaler 하기전에는 max_iter을 더 크게 잡아도 안돌아갔었는데 스케일 조정 후 돌아감'''\n",
        "softm=LogisticRegression(multi_class='multinomial', solver='lbfgs', C=10, max_iter=5000)\n",
        "softm.fit(train_x_scal, train_y)"
      ],
      "metadata": {
        "colab": {
          "base_uri": "https://localhost:8080/",
          "height": 74
        },
        "id": "0HHGhUd4n26f",
        "outputId": "7744feb6-7455-4ea5-c261-bdc716d457ba"
      },
      "execution_count": null,
      "outputs": [
        {
          "output_type": "execute_result",
          "data": {
            "text/plain": [
              "LogisticRegression(C=10, max_iter=5000, multi_class='multinomial')"
            ],
            "text/html": [
              "<style>#sk-container-id-12 {color: black;background-color: white;}#sk-container-id-12 pre{padding: 0;}#sk-container-id-12 div.sk-toggleable {background-color: white;}#sk-container-id-12 label.sk-toggleable__label {cursor: pointer;display: block;width: 100%;margin-bottom: 0;padding: 0.3em;box-sizing: border-box;text-align: center;}#sk-container-id-12 label.sk-toggleable__label-arrow:before {content: \"▸\";float: left;margin-right: 0.25em;color: #696969;}#sk-container-id-12 label.sk-toggleable__label-arrow:hover:before {color: black;}#sk-container-id-12 div.sk-estimator:hover label.sk-toggleable__label-arrow:before {color: black;}#sk-container-id-12 div.sk-toggleable__content {max-height: 0;max-width: 0;overflow: hidden;text-align: left;background-color: #f0f8ff;}#sk-container-id-12 div.sk-toggleable__content pre {margin: 0.2em;color: black;border-radius: 0.25em;background-color: #f0f8ff;}#sk-container-id-12 input.sk-toggleable__control:checked~div.sk-toggleable__content {max-height: 200px;max-width: 100%;overflow: auto;}#sk-container-id-12 input.sk-toggleable__control:checked~label.sk-toggleable__label-arrow:before {content: \"▾\";}#sk-container-id-12 div.sk-estimator input.sk-toggleable__control:checked~label.sk-toggleable__label {background-color: #d4ebff;}#sk-container-id-12 div.sk-label input.sk-toggleable__control:checked~label.sk-toggleable__label {background-color: #d4ebff;}#sk-container-id-12 input.sk-hidden--visually {border: 0;clip: rect(1px 1px 1px 1px);clip: rect(1px, 1px, 1px, 1px);height: 1px;margin: -1px;overflow: hidden;padding: 0;position: absolute;width: 1px;}#sk-container-id-12 div.sk-estimator {font-family: monospace;background-color: #f0f8ff;border: 1px dotted black;border-radius: 0.25em;box-sizing: border-box;margin-bottom: 0.5em;}#sk-container-id-12 div.sk-estimator:hover {background-color: #d4ebff;}#sk-container-id-12 div.sk-parallel-item::after {content: \"\";width: 100%;border-bottom: 1px solid gray;flex-grow: 1;}#sk-container-id-12 div.sk-label:hover label.sk-toggleable__label {background-color: #d4ebff;}#sk-container-id-12 div.sk-serial::before {content: \"\";position: absolute;border-left: 1px solid gray;box-sizing: border-box;top: 0;bottom: 0;left: 50%;z-index: 0;}#sk-container-id-12 div.sk-serial {display: flex;flex-direction: column;align-items: center;background-color: white;padding-right: 0.2em;padding-left: 0.2em;position: relative;}#sk-container-id-12 div.sk-item {position: relative;z-index: 1;}#sk-container-id-12 div.sk-parallel {display: flex;align-items: stretch;justify-content: center;background-color: white;position: relative;}#sk-container-id-12 div.sk-item::before, #sk-container-id-12 div.sk-parallel-item::before {content: \"\";position: absolute;border-left: 1px solid gray;box-sizing: border-box;top: 0;bottom: 0;left: 50%;z-index: -1;}#sk-container-id-12 div.sk-parallel-item {display: flex;flex-direction: column;z-index: 1;position: relative;background-color: white;}#sk-container-id-12 div.sk-parallel-item:first-child::after {align-self: flex-end;width: 50%;}#sk-container-id-12 div.sk-parallel-item:last-child::after {align-self: flex-start;width: 50%;}#sk-container-id-12 div.sk-parallel-item:only-child::after {width: 0;}#sk-container-id-12 div.sk-dashed-wrapped {border: 1px dashed gray;margin: 0 0.4em 0.5em 0.4em;box-sizing: border-box;padding-bottom: 0.4em;background-color: white;}#sk-container-id-12 div.sk-label label {font-family: monospace;font-weight: bold;display: inline-block;line-height: 1.2em;}#sk-container-id-12 div.sk-label-container {text-align: center;}#sk-container-id-12 div.sk-container {/* jupyter's `normalize.less` sets `[hidden] { display: none; }` but bootstrap.min.css set `[hidden] { display: none !important; }` so we also need the `!important` here to be able to override the default hidden behavior on the sphinx rendered scikit-learn.org. See: https://github.com/scikit-learn/scikit-learn/issues/21755 */display: inline-block !important;position: relative;}#sk-container-id-12 div.sk-text-repr-fallback {display: none;}</style><div id=\"sk-container-id-12\" class=\"sk-top-container\"><div class=\"sk-text-repr-fallback\"><pre>LogisticRegression(C=10, max_iter=5000, multi_class=&#x27;multinomial&#x27;)</pre><b>In a Jupyter environment, please rerun this cell to show the HTML representation or trust the notebook. <br />On GitHub, the HTML representation is unable to render, please try loading this page with nbviewer.org.</b></div><div class=\"sk-container\" hidden><div class=\"sk-item\"><div class=\"sk-estimator sk-toggleable\"><input class=\"sk-toggleable__control sk-hidden--visually\" id=\"sk-estimator-id-12\" type=\"checkbox\" checked><label for=\"sk-estimator-id-12\" class=\"sk-toggleable__label sk-toggleable__label-arrow\">LogisticRegression</label><div class=\"sk-toggleable__content\"><pre>LogisticRegression(C=10, max_iter=5000, multi_class=&#x27;multinomial&#x27;)</pre></div></div></div></div></div>"
            ]
          },
          "metadata": {},
          "execution_count": 69
        }
      ]
    },
    {
      "cell_type": "code",
      "source": [
        "pred=softm.predict(test_x_scal)\n",
        "\n",
        "test_cm=confusion_matrix(test_y, pred)\n",
        "test_acc=accuracy_score(test_y, pred)\n",
        "test_prc=precision_score(test_y,pred, average=\"macro\" )\n",
        "test_rcll=recall_score(test_y, pred,  average=\"macro\" )\n",
        "test_f1=f1_score(test_y,pred,  average=\"macro\" )\n",
        "\n",
        "print(test_cm)\n",
        "print('\\n')\n",
        "print('정확도\\t{}%'.format(round(test_acc*100,2)))\n",
        "print('정밀도\\t{}%'.format(round(test_prc*100,2)))\n",
        "print('재현율\\t{}%'.format(round(test_rcll*100,2)))\n",
        "print('F1\\t{}%'.format(round(test_f1*100,2)))"
      ],
      "metadata": {
        "colab": {
          "base_uri": "https://localhost:8080/"
        },
        "id": "UCXTc3a_kIkR",
        "outputId": "47988768-be65-4f3c-bfb0-361b441fdc2c"
      },
      "execution_count": null,
      "outputs": [
        {
          "output_type": "stream",
          "name": "stdout",
          "text": [
            "[[  77   62    9   84]\n",
            " [  33  180   39  216]\n",
            " [  26   56   49  229]\n",
            " [  18   95   29 1659]]\n",
            "\n",
            "\n",
            "정확도\t68.68%\n",
            "정밀도\t52.63%\n",
            "재현율\t44.34%\n",
            "F1\t46.26%\n"
          ]
        }
      ]
    },
    {
      "cell_type": "markdown",
      "source": [
        "#### 2. SVM"
      ],
      "metadata": {
        "id": "PixxK5z4el_X"
      }
    },
    {
      "cell_type": "code",
      "source": [
        "'''SVM은 특성의 스케일에 민감하기 때문에 스케일 조정을 해주겠다.'''"
      ],
      "metadata": {
        "id": "PS7NbBfdelE-"
      },
      "execution_count": null,
      "outputs": []
    },
    {
      "cell_type": "code",
      "source": [
        "from sklearn.preprocessing import StandardScaler\n",
        "\n",
        "scaler = StandardScaler()\n",
        "train_x_scal = scaler.fit_transform(train_x)"
      ],
      "metadata": {
        "id": "TrlvaFCXex7b"
      },
      "execution_count": null,
      "outputs": []
    },
    {
      "cell_type": "code",
      "source": [
        "from sklearn.svm import SVC\n",
        "clf = SVC(C=0.5)\n",
        "clf.fit(train_x_scal, train_y)"
      ],
      "metadata": {
        "colab": {
          "base_uri": "https://localhost:8080/",
          "height": 74
        },
        "id": "yUiFcYWTfIfQ",
        "outputId": "e4a87505-7967-4078-ace5-7479ffffb94f"
      },
      "execution_count": null,
      "outputs": [
        {
          "output_type": "execute_result",
          "data": {
            "text/plain": [
              "SVC(C=0.5)"
            ],
            "text/html": [
              "<style>#sk-container-id-4 {color: black;background-color: white;}#sk-container-id-4 pre{padding: 0;}#sk-container-id-4 div.sk-toggleable {background-color: white;}#sk-container-id-4 label.sk-toggleable__label {cursor: pointer;display: block;width: 100%;margin-bottom: 0;padding: 0.3em;box-sizing: border-box;text-align: center;}#sk-container-id-4 label.sk-toggleable__label-arrow:before {content: \"▸\";float: left;margin-right: 0.25em;color: #696969;}#sk-container-id-4 label.sk-toggleable__label-arrow:hover:before {color: black;}#sk-container-id-4 div.sk-estimator:hover label.sk-toggleable__label-arrow:before {color: black;}#sk-container-id-4 div.sk-toggleable__content {max-height: 0;max-width: 0;overflow: hidden;text-align: left;background-color: #f0f8ff;}#sk-container-id-4 div.sk-toggleable__content pre {margin: 0.2em;color: black;border-radius: 0.25em;background-color: #f0f8ff;}#sk-container-id-4 input.sk-toggleable__control:checked~div.sk-toggleable__content {max-height: 200px;max-width: 100%;overflow: auto;}#sk-container-id-4 input.sk-toggleable__control:checked~label.sk-toggleable__label-arrow:before {content: \"▾\";}#sk-container-id-4 div.sk-estimator input.sk-toggleable__control:checked~label.sk-toggleable__label {background-color: #d4ebff;}#sk-container-id-4 div.sk-label input.sk-toggleable__control:checked~label.sk-toggleable__label {background-color: #d4ebff;}#sk-container-id-4 input.sk-hidden--visually {border: 0;clip: rect(1px 1px 1px 1px);clip: rect(1px, 1px, 1px, 1px);height: 1px;margin: -1px;overflow: hidden;padding: 0;position: absolute;width: 1px;}#sk-container-id-4 div.sk-estimator {font-family: monospace;background-color: #f0f8ff;border: 1px dotted black;border-radius: 0.25em;box-sizing: border-box;margin-bottom: 0.5em;}#sk-container-id-4 div.sk-estimator:hover {background-color: #d4ebff;}#sk-container-id-4 div.sk-parallel-item::after {content: \"\";width: 100%;border-bottom: 1px solid gray;flex-grow: 1;}#sk-container-id-4 div.sk-label:hover label.sk-toggleable__label {background-color: #d4ebff;}#sk-container-id-4 div.sk-serial::before {content: \"\";position: absolute;border-left: 1px solid gray;box-sizing: border-box;top: 0;bottom: 0;left: 50%;z-index: 0;}#sk-container-id-4 div.sk-serial {display: flex;flex-direction: column;align-items: center;background-color: white;padding-right: 0.2em;padding-left: 0.2em;position: relative;}#sk-container-id-4 div.sk-item {position: relative;z-index: 1;}#sk-container-id-4 div.sk-parallel {display: flex;align-items: stretch;justify-content: center;background-color: white;position: relative;}#sk-container-id-4 div.sk-item::before, #sk-container-id-4 div.sk-parallel-item::before {content: \"\";position: absolute;border-left: 1px solid gray;box-sizing: border-box;top: 0;bottom: 0;left: 50%;z-index: -1;}#sk-container-id-4 div.sk-parallel-item {display: flex;flex-direction: column;z-index: 1;position: relative;background-color: white;}#sk-container-id-4 div.sk-parallel-item:first-child::after {align-self: flex-end;width: 50%;}#sk-container-id-4 div.sk-parallel-item:last-child::after {align-self: flex-start;width: 50%;}#sk-container-id-4 div.sk-parallel-item:only-child::after {width: 0;}#sk-container-id-4 div.sk-dashed-wrapped {border: 1px dashed gray;margin: 0 0.4em 0.5em 0.4em;box-sizing: border-box;padding-bottom: 0.4em;background-color: white;}#sk-container-id-4 div.sk-label label {font-family: monospace;font-weight: bold;display: inline-block;line-height: 1.2em;}#sk-container-id-4 div.sk-label-container {text-align: center;}#sk-container-id-4 div.sk-container {/* jupyter's `normalize.less` sets `[hidden] { display: none; }` but bootstrap.min.css set `[hidden] { display: none !important; }` so we also need the `!important` here to be able to override the default hidden behavior on the sphinx rendered scikit-learn.org. See: https://github.com/scikit-learn/scikit-learn/issues/21755 */display: inline-block !important;position: relative;}#sk-container-id-4 div.sk-text-repr-fallback {display: none;}</style><div id=\"sk-container-id-4\" class=\"sk-top-container\"><div class=\"sk-text-repr-fallback\"><pre>SVC(C=0.5)</pre><b>In a Jupyter environment, please rerun this cell to show the HTML representation or trust the notebook. <br />On GitHub, the HTML representation is unable to render, please try loading this page with nbviewer.org.</b></div><div class=\"sk-container\" hidden><div class=\"sk-item\"><div class=\"sk-estimator sk-toggleable\"><input class=\"sk-toggleable__control sk-hidden--visually\" id=\"sk-estimator-id-4\" type=\"checkbox\" checked><label for=\"sk-estimator-id-4\" class=\"sk-toggleable__label sk-toggleable__label-arrow\">SVC</label><div class=\"sk-toggleable__content\"><pre>SVC(C=0.5)</pre></div></div></div></div></div>"
            ]
          },
          "metadata": {},
          "execution_count": 54
        }
      ]
    },
    {
      "cell_type": "code",
      "source": [
        "from sklearn.metrics import confusion_matrix, accuracy_score, precision_score, recall_score, f1_score\n",
        "test_x_scal=scaler.transform(test_x)\n",
        "pred=clf.predict(test_x_scal)\n",
        "'''macro 평균은 클래스별 f1-점수에 가중치를 주지 않는다. 클래스 크기에 상관없이 모든 클래스를 같은 비중으로 다룬다.\n",
        "\n",
        "weighted 평균은 클래스별 샘플 수로 가중치를 두어 f1-점수의 평균을 계산한다.\n",
        "\n",
        "micro 평균은 모든 클래스의 거짓 양성(FP), 거짓 음성(FN), 진짜 양성(TP)의 총 수를 헤아린 다음 정밀도, 재현율, f1-점수를 이 수치로 계산한다.\n",
        "\n",
        "​\n",
        "\n",
        "각 샘플을 똑같이 간주한다며 micr, 각 클래스를 동일한 비중으로 고려한다면 macro 평균이 좋다.'''"
      ],
      "metadata": {
        "id": "5tpQg_7IfIjO"
      },
      "execution_count": null,
      "outputs": []
    },
    {
      "cell_type": "code",
      "source": [
        "test_cm=confusion_matrix(test_y, pred)\n",
        "test_acc=accuracy_score(test_y, pred)\n",
        "test_prc=precision_score(test_y,pred, average=\"macro\" )\n",
        "test_rcll=recall_score(test_y, pred,  average=\"macro\" )\n",
        "test_f1=f1_score(test_y,pred,  average=\"macro\" )\n",
        "\n",
        "print(test_cm)\n",
        "print('\\n')\n",
        "print('정확도\\t{}%'.format(round(test_acc*100,2)))\n",
        "print('정밀도\\t{}%'.format(round(test_prc*100,2)))\n",
        "print('재현율\\t{}%'.format(round(test_rcll*100,2)))\n",
        "print('F1\\t{}%'.format(round(test_f1*100,2)))"
      ],
      "metadata": {
        "colab": {
          "base_uri": "https://localhost:8080/"
        },
        "id": "jE7uia1NfInH",
        "outputId": "0d3af8bc-1c96-476b-d52c-00ca2b3ef4bc"
      },
      "execution_count": null,
      "outputs": [
        {
          "output_type": "stream",
          "name": "stdout",
          "text": [
            "[[  66   43    0  123]\n",
            " [   1  195    0  272]\n",
            " [   1   29   40  290]\n",
            " [   0   15    0 1786]]\n",
            "\n",
            "\n",
            "정확도\t72.95%\n",
            "정밀도\t84.62%\n",
            "재현율\t45.1%\n",
            "F1\t49.9%\n"
          ]
        }
      ]
    },
    {
      "cell_type": "markdown",
      "source": [
        "#### 3. k-최근접 이웃(KNN)"
      ],
      "metadata": {
        "id": "T9WPZc9JiH8Y"
      }
    },
    {
      "cell_type": "code",
      "source": [
        "from sklearn.neighbors import KNeighborsClassifier\n",
        "\n",
        "clf=KNeighborsClassifier(n_neighbors=15, weights='uniform')\n",
        "clf.fit(train_x_scal, train_y)"
      ],
      "metadata": {
        "colab": {
          "base_uri": "https://localhost:8080/",
          "height": 74
        },
        "id": "1yufXqFOiGYK",
        "outputId": "21a5dc05-969b-4b54-e3eb-ada6fcbe7e4e"
      },
      "execution_count": null,
      "outputs": [
        {
          "output_type": "execute_result",
          "data": {
            "text/plain": [
              "KNeighborsClassifier(n_neighbors=15)"
            ],
            "text/html": [
              "<style>#sk-container-id-8 {color: black;background-color: white;}#sk-container-id-8 pre{padding: 0;}#sk-container-id-8 div.sk-toggleable {background-color: white;}#sk-container-id-8 label.sk-toggleable__label {cursor: pointer;display: block;width: 100%;margin-bottom: 0;padding: 0.3em;box-sizing: border-box;text-align: center;}#sk-container-id-8 label.sk-toggleable__label-arrow:before {content: \"▸\";float: left;margin-right: 0.25em;color: #696969;}#sk-container-id-8 label.sk-toggleable__label-arrow:hover:before {color: black;}#sk-container-id-8 div.sk-estimator:hover label.sk-toggleable__label-arrow:before {color: black;}#sk-container-id-8 div.sk-toggleable__content {max-height: 0;max-width: 0;overflow: hidden;text-align: left;background-color: #f0f8ff;}#sk-container-id-8 div.sk-toggleable__content pre {margin: 0.2em;color: black;border-radius: 0.25em;background-color: #f0f8ff;}#sk-container-id-8 input.sk-toggleable__control:checked~div.sk-toggleable__content {max-height: 200px;max-width: 100%;overflow: auto;}#sk-container-id-8 input.sk-toggleable__control:checked~label.sk-toggleable__label-arrow:before {content: \"▾\";}#sk-container-id-8 div.sk-estimator input.sk-toggleable__control:checked~label.sk-toggleable__label {background-color: #d4ebff;}#sk-container-id-8 div.sk-label input.sk-toggleable__control:checked~label.sk-toggleable__label {background-color: #d4ebff;}#sk-container-id-8 input.sk-hidden--visually {border: 0;clip: rect(1px 1px 1px 1px);clip: rect(1px, 1px, 1px, 1px);height: 1px;margin: -1px;overflow: hidden;padding: 0;position: absolute;width: 1px;}#sk-container-id-8 div.sk-estimator {font-family: monospace;background-color: #f0f8ff;border: 1px dotted black;border-radius: 0.25em;box-sizing: border-box;margin-bottom: 0.5em;}#sk-container-id-8 div.sk-estimator:hover {background-color: #d4ebff;}#sk-container-id-8 div.sk-parallel-item::after {content: \"\";width: 100%;border-bottom: 1px solid gray;flex-grow: 1;}#sk-container-id-8 div.sk-label:hover label.sk-toggleable__label {background-color: #d4ebff;}#sk-container-id-8 div.sk-serial::before {content: \"\";position: absolute;border-left: 1px solid gray;box-sizing: border-box;top: 0;bottom: 0;left: 50%;z-index: 0;}#sk-container-id-8 div.sk-serial {display: flex;flex-direction: column;align-items: center;background-color: white;padding-right: 0.2em;padding-left: 0.2em;position: relative;}#sk-container-id-8 div.sk-item {position: relative;z-index: 1;}#sk-container-id-8 div.sk-parallel {display: flex;align-items: stretch;justify-content: center;background-color: white;position: relative;}#sk-container-id-8 div.sk-item::before, #sk-container-id-8 div.sk-parallel-item::before {content: \"\";position: absolute;border-left: 1px solid gray;box-sizing: border-box;top: 0;bottom: 0;left: 50%;z-index: -1;}#sk-container-id-8 div.sk-parallel-item {display: flex;flex-direction: column;z-index: 1;position: relative;background-color: white;}#sk-container-id-8 div.sk-parallel-item:first-child::after {align-self: flex-end;width: 50%;}#sk-container-id-8 div.sk-parallel-item:last-child::after {align-self: flex-start;width: 50%;}#sk-container-id-8 div.sk-parallel-item:only-child::after {width: 0;}#sk-container-id-8 div.sk-dashed-wrapped {border: 1px dashed gray;margin: 0 0.4em 0.5em 0.4em;box-sizing: border-box;padding-bottom: 0.4em;background-color: white;}#sk-container-id-8 div.sk-label label {font-family: monospace;font-weight: bold;display: inline-block;line-height: 1.2em;}#sk-container-id-8 div.sk-label-container {text-align: center;}#sk-container-id-8 div.sk-container {/* jupyter's `normalize.less` sets `[hidden] { display: none; }` but bootstrap.min.css set `[hidden] { display: none !important; }` so we also need the `!important` here to be able to override the default hidden behavior on the sphinx rendered scikit-learn.org. See: https://github.com/scikit-learn/scikit-learn/issues/21755 */display: inline-block !important;position: relative;}#sk-container-id-8 div.sk-text-repr-fallback {display: none;}</style><div id=\"sk-container-id-8\" class=\"sk-top-container\"><div class=\"sk-text-repr-fallback\"><pre>KNeighborsClassifier(n_neighbors=15)</pre><b>In a Jupyter environment, please rerun this cell to show the HTML representation or trust the notebook. <br />On GitHub, the HTML representation is unable to render, please try loading this page with nbviewer.org.</b></div><div class=\"sk-container\" hidden><div class=\"sk-item\"><div class=\"sk-estimator sk-toggleable\"><input class=\"sk-toggleable__control sk-hidden--visually\" id=\"sk-estimator-id-8\" type=\"checkbox\" checked><label for=\"sk-estimator-id-8\" class=\"sk-toggleable__label sk-toggleable__label-arrow\">KNeighborsClassifier</label><div class=\"sk-toggleable__content\"><pre>KNeighborsClassifier(n_neighbors=15)</pre></div></div></div></div></div>"
            ]
          },
          "metadata": {},
          "execution_count": 63
        }
      ]
    },
    {
      "cell_type": "code",
      "source": [
        "pred=clf.predict(test_x_scal)\n",
        "\n",
        "test_cm=confusion_matrix(test_y, pred)\n",
        "test_acc=accuracy_score(test_y, pred)\n",
        "test_prc=precision_score(test_y,pred, average=\"macro\" )\n",
        "test_rcll=recall_score(test_y, pred,  average=\"macro\" )\n",
        "test_f1=f1_score(test_y,pred,  average=\"macro\" )\n",
        "\n",
        "print(test_cm)\n",
        "print('\\n')\n",
        "print('정확도\\t{}%'.format(round(test_acc*100,2)))\n",
        "print('정밀도\\t{}%'.format(round(test_prc*100,2)))\n",
        "print('재현율\\t{}%'.format(round(test_rcll*100,2)))\n",
        "print('F1\\t{}%'.format(round(test_f1*100,2)))\n",
        "\n",
        "\n",
        "#StandardScaler 하지 않았을때 \n",
        "# [[  35   43   10  144]\n",
        "#  [  20   96   18  334]\n",
        "#  [  12   42   21  285]\n",
        "#  [  22   97   28 1654]]\n",
        "\n",
        "\n",
        "# 정확도\t63.12%\n",
        "# 정밀도\t42.39%\n",
        "# 재현율\t33.32%\n",
        "# F1\t33.9%"
      ],
      "metadata": {
        "colab": {
          "base_uri": "https://localhost:8080/"
        },
        "id": "M_afaoCbfIqN",
        "outputId": "77ae64dc-12f8-4183-f1c6-e8f190f4455f"
      },
      "execution_count": null,
      "outputs": [
        {
          "output_type": "stream",
          "name": "stdout",
          "text": [
            "[[  62   27   12  131]\n",
            " [  12  154   25  277]\n",
            " [  12   27   60  261]\n",
            " [   2   35   20 1744]]\n",
            "\n",
            "\n",
            "정확도\t70.6%\n",
            "정밀도\t64.35%\n",
            "재현율\t43.28%\n",
            "F1\t47.5%\n"
          ]
        }
      ]
    },
    {
      "cell_type": "markdown",
      "source": [
        "#### 4. 의사결정나무"
      ],
      "metadata": {
        "id": "s_KL_qh7kDEy"
      }
    },
    {
      "cell_type": "code",
      "source": [
        "from sklearn.tree import DecisionTreeClassifier\n",
        "clf=DecisionTreeClassifier(max_depth=8)\n",
        "clf.fit(train_x, train_y)"
      ],
      "metadata": {
        "colab": {
          "base_uri": "https://localhost:8080/",
          "height": 74
        },
        "id": "uwBqEq4aj4Qq",
        "outputId": "9ec193bb-b546-43ef-d2ff-88062118b166"
      },
      "execution_count": null,
      "outputs": [
        {
          "output_type": "execute_result",
          "data": {
            "text/plain": [
              "DecisionTreeClassifier(max_depth=8)"
            ],
            "text/html": [
              "<style>#sk-container-id-22 {color: black;background-color: white;}#sk-container-id-22 pre{padding: 0;}#sk-container-id-22 div.sk-toggleable {background-color: white;}#sk-container-id-22 label.sk-toggleable__label {cursor: pointer;display: block;width: 100%;margin-bottom: 0;padding: 0.3em;box-sizing: border-box;text-align: center;}#sk-container-id-22 label.sk-toggleable__label-arrow:before {content: \"▸\";float: left;margin-right: 0.25em;color: #696969;}#sk-container-id-22 label.sk-toggleable__label-arrow:hover:before {color: black;}#sk-container-id-22 div.sk-estimator:hover label.sk-toggleable__label-arrow:before {color: black;}#sk-container-id-22 div.sk-toggleable__content {max-height: 0;max-width: 0;overflow: hidden;text-align: left;background-color: #f0f8ff;}#sk-container-id-22 div.sk-toggleable__content pre {margin: 0.2em;color: black;border-radius: 0.25em;background-color: #f0f8ff;}#sk-container-id-22 input.sk-toggleable__control:checked~div.sk-toggleable__content {max-height: 200px;max-width: 100%;overflow: auto;}#sk-container-id-22 input.sk-toggleable__control:checked~label.sk-toggleable__label-arrow:before {content: \"▾\";}#sk-container-id-22 div.sk-estimator input.sk-toggleable__control:checked~label.sk-toggleable__label {background-color: #d4ebff;}#sk-container-id-22 div.sk-label input.sk-toggleable__control:checked~label.sk-toggleable__label {background-color: #d4ebff;}#sk-container-id-22 input.sk-hidden--visually {border: 0;clip: rect(1px 1px 1px 1px);clip: rect(1px, 1px, 1px, 1px);height: 1px;margin: -1px;overflow: hidden;padding: 0;position: absolute;width: 1px;}#sk-container-id-22 div.sk-estimator {font-family: monospace;background-color: #f0f8ff;border: 1px dotted black;border-radius: 0.25em;box-sizing: border-box;margin-bottom: 0.5em;}#sk-container-id-22 div.sk-estimator:hover {background-color: #d4ebff;}#sk-container-id-22 div.sk-parallel-item::after {content: \"\";width: 100%;border-bottom: 1px solid gray;flex-grow: 1;}#sk-container-id-22 div.sk-label:hover label.sk-toggleable__label {background-color: #d4ebff;}#sk-container-id-22 div.sk-serial::before {content: \"\";position: absolute;border-left: 1px solid gray;box-sizing: border-box;top: 0;bottom: 0;left: 50%;z-index: 0;}#sk-container-id-22 div.sk-serial {display: flex;flex-direction: column;align-items: center;background-color: white;padding-right: 0.2em;padding-left: 0.2em;position: relative;}#sk-container-id-22 div.sk-item {position: relative;z-index: 1;}#sk-container-id-22 div.sk-parallel {display: flex;align-items: stretch;justify-content: center;background-color: white;position: relative;}#sk-container-id-22 div.sk-item::before, #sk-container-id-22 div.sk-parallel-item::before {content: \"\";position: absolute;border-left: 1px solid gray;box-sizing: border-box;top: 0;bottom: 0;left: 50%;z-index: -1;}#sk-container-id-22 div.sk-parallel-item {display: flex;flex-direction: column;z-index: 1;position: relative;background-color: white;}#sk-container-id-22 div.sk-parallel-item:first-child::after {align-self: flex-end;width: 50%;}#sk-container-id-22 div.sk-parallel-item:last-child::after {align-self: flex-start;width: 50%;}#sk-container-id-22 div.sk-parallel-item:only-child::after {width: 0;}#sk-container-id-22 div.sk-dashed-wrapped {border: 1px dashed gray;margin: 0 0.4em 0.5em 0.4em;box-sizing: border-box;padding-bottom: 0.4em;background-color: white;}#sk-container-id-22 div.sk-label label {font-family: monospace;font-weight: bold;display: inline-block;line-height: 1.2em;}#sk-container-id-22 div.sk-label-container {text-align: center;}#sk-container-id-22 div.sk-container {/* jupyter's `normalize.less` sets `[hidden] { display: none; }` but bootstrap.min.css set `[hidden] { display: none !important; }` so we also need the `!important` here to be able to override the default hidden behavior on the sphinx rendered scikit-learn.org. See: https://github.com/scikit-learn/scikit-learn/issues/21755 */display: inline-block !important;position: relative;}#sk-container-id-22 div.sk-text-repr-fallback {display: none;}</style><div id=\"sk-container-id-22\" class=\"sk-top-container\"><div class=\"sk-text-repr-fallback\"><pre>DecisionTreeClassifier(max_depth=8)</pre><b>In a Jupyter environment, please rerun this cell to show the HTML representation or trust the notebook. <br />On GitHub, the HTML representation is unable to render, please try loading this page with nbviewer.org.</b></div><div class=\"sk-container\" hidden><div class=\"sk-item\"><div class=\"sk-estimator sk-toggleable\"><input class=\"sk-toggleable__control sk-hidden--visually\" id=\"sk-estimator-id-22\" type=\"checkbox\" checked><label for=\"sk-estimator-id-22\" class=\"sk-toggleable__label sk-toggleable__label-arrow\">DecisionTreeClassifier</label><div class=\"sk-toggleable__content\"><pre>DecisionTreeClassifier(max_depth=8)</pre></div></div></div></div></div>"
            ]
          },
          "metadata": {},
          "execution_count": 96
        }
      ]
    },
    {
      "cell_type": "code",
      "source": [
        "pred=clf.predict(test_x)\n",
        "\n",
        "test_cm=confusion_matrix(test_y, pred)\n",
        "test_acc=accuracy_score(test_y, pred)\n",
        "test_prc=precision_score(test_y,pred, average=\"macro\" )\n",
        "test_rcll=recall_score(test_y, pred,  average=\"macro\" )\n",
        "test_f1=f1_score(test_y,pred,  average=\"macro\" )\n",
        "\n",
        "print(test_cm)\n",
        "print('\\n')\n",
        "print('정확도\\t{}%'.format(round(test_acc*100,2)))\n",
        "print('정밀도\\t{}%'.format(round(test_prc*100,2)))\n",
        "print('재현율\\t{}%'.format(round(test_rcll*100,2)))\n",
        "print('F1\\t{}%'.format(round(test_f1*100,2)))\n",
        "\n",
        "'''scaler 하기 전 후가 동일함\n",
        "트리 깊이를 5->8로 옮기니, f1score 기준 40%에서 55% 가까이로 오름름''"
      ],
      "metadata": {
        "colab": {
          "base_uri": "https://localhost:8080/",
          "height": 218
        },
        "id": "u4CNcJNdlV5E",
        "outputId": "fcc1e762-76dd-4cd9-ad48-ce53c26d2534"
      },
      "execution_count": null,
      "outputs": [
        {
          "output_type": "stream",
          "name": "stdout",
          "text": [
            "[[  82   57    5   88]\n",
            " [  28  228   15  197]\n",
            " [  12   62   97  189]\n",
            " [  24   81   14 1682]]\n",
            "\n",
            "\n",
            "정확도\t73.02%\n",
            "정밀도\t65.37%\n",
            "재현율\t51.1%\n",
            "F1\t54.7%\n"
          ]
        },
        {
          "output_type": "execute_result",
          "data": {
            "text/plain": [
              "'scaler 하기 전 후가 동일함'"
            ],
            "application/vnd.google.colaboratory.intrinsic+json": {
              "type": "string"
            }
          },
          "metadata": {},
          "execution_count": 97
        }
      ]
    },
    {
      "cell_type": "code",
      "source": [
        "importances=clf.feature_importances_\n",
        "column_nm=pd.DataFrame(x.columns)\n",
        "feature_importances = pd.concat([column_nm,\n",
        "                                 pd.DataFrame(importances)],\n",
        "                                axis=1)\n",
        "feature_importances.columns=['feature_nm', 'importances']"
      ],
      "metadata": {
        "colab": {
          "base_uri": "https://localhost:8080/",
          "height": 423
        },
        "id": "z4grNfbsmwLK",
        "outputId": "da61c75b-4e09-477b-df3b-b659d8332870"
      },
      "execution_count": null,
      "outputs": [
        {
          "output_type": "execute_result",
          "data": {
            "text/plain": [
              "        feature_nm  importances\n",
              "0           SQBage     0.001225\n",
              "1    SQBdependency     0.058150\n",
              "2        SQBedjefe     0.025026\n",
              "3      SQBescolari     0.000000\n",
              "4     SQBhogar_nin     0.093410\n",
              "..             ...          ...\n",
              "132      tipovivi3     0.004274\n",
              "133      tipovivi4     0.001372\n",
              "134      tipovivi5     0.006545\n",
              "135           v14a     0.000000\n",
              "136           v18q     0.035135\n",
              "\n",
              "[137 rows x 2 columns]"
            ],
            "text/html": [
              "\n",
              "  <div id=\"df-77411203-0c09-4f33-ab5d-568997c49825\">\n",
              "    <div class=\"colab-df-container\">\n",
              "      <div>\n",
              "<style scoped>\n",
              "    .dataframe tbody tr th:only-of-type {\n",
              "        vertical-align: middle;\n",
              "    }\n",
              "\n",
              "    .dataframe tbody tr th {\n",
              "        vertical-align: top;\n",
              "    }\n",
              "\n",
              "    .dataframe thead th {\n",
              "        text-align: right;\n",
              "    }\n",
              "</style>\n",
              "<table border=\"1\" class=\"dataframe\">\n",
              "  <thead>\n",
              "    <tr style=\"text-align: right;\">\n",
              "      <th></th>\n",
              "      <th>feature_nm</th>\n",
              "      <th>importances</th>\n",
              "    </tr>\n",
              "  </thead>\n",
              "  <tbody>\n",
              "    <tr>\n",
              "      <th>0</th>\n",
              "      <td>SQBage</td>\n",
              "      <td>0.001225</td>\n",
              "    </tr>\n",
              "    <tr>\n",
              "      <th>1</th>\n",
              "      <td>SQBdependency</td>\n",
              "      <td>0.058150</td>\n",
              "    </tr>\n",
              "    <tr>\n",
              "      <th>2</th>\n",
              "      <td>SQBedjefe</td>\n",
              "      <td>0.025026</td>\n",
              "    </tr>\n",
              "    <tr>\n",
              "      <th>3</th>\n",
              "      <td>SQBescolari</td>\n",
              "      <td>0.000000</td>\n",
              "    </tr>\n",
              "    <tr>\n",
              "      <th>4</th>\n",
              "      <td>SQBhogar_nin</td>\n",
              "      <td>0.093410</td>\n",
              "    </tr>\n",
              "    <tr>\n",
              "      <th>...</th>\n",
              "      <td>...</td>\n",
              "      <td>...</td>\n",
              "    </tr>\n",
              "    <tr>\n",
              "      <th>132</th>\n",
              "      <td>tipovivi3</td>\n",
              "      <td>0.004274</td>\n",
              "    </tr>\n",
              "    <tr>\n",
              "      <th>133</th>\n",
              "      <td>tipovivi4</td>\n",
              "      <td>0.001372</td>\n",
              "    </tr>\n",
              "    <tr>\n",
              "      <th>134</th>\n",
              "      <td>tipovivi5</td>\n",
              "      <td>0.006545</td>\n",
              "    </tr>\n",
              "    <tr>\n",
              "      <th>135</th>\n",
              "      <td>v14a</td>\n",
              "      <td>0.000000</td>\n",
              "    </tr>\n",
              "    <tr>\n",
              "      <th>136</th>\n",
              "      <td>v18q</td>\n",
              "      <td>0.035135</td>\n",
              "    </tr>\n",
              "  </tbody>\n",
              "</table>\n",
              "<p>137 rows × 2 columns</p>\n",
              "</div>\n",
              "      <button class=\"colab-df-convert\" onclick=\"convertToInteractive('df-77411203-0c09-4f33-ab5d-568997c49825')\"\n",
              "              title=\"Convert this dataframe to an interactive table.\"\n",
              "              style=\"display:none;\">\n",
              "        \n",
              "  <svg xmlns=\"http://www.w3.org/2000/svg\" height=\"24px\"viewBox=\"0 0 24 24\"\n",
              "       width=\"24px\">\n",
              "    <path d=\"M0 0h24v24H0V0z\" fill=\"none\"/>\n",
              "    <path d=\"M18.56 5.44l.94 2.06.94-2.06 2.06-.94-2.06-.94-.94-2.06-.94 2.06-2.06.94zm-11 1L8.5 8.5l.94-2.06 2.06-.94-2.06-.94L8.5 2.5l-.94 2.06-2.06.94zm10 10l.94 2.06.94-2.06 2.06-.94-2.06-.94-.94-2.06-.94 2.06-2.06.94z\"/><path d=\"M17.41 7.96l-1.37-1.37c-.4-.4-.92-.59-1.43-.59-.52 0-1.04.2-1.43.59L10.3 9.45l-7.72 7.72c-.78.78-.78 2.05 0 2.83L4 21.41c.39.39.9.59 1.41.59.51 0 1.02-.2 1.41-.59l7.78-7.78 2.81-2.81c.8-.78.8-2.07 0-2.86zM5.41 20L4 18.59l7.72-7.72 1.47 1.35L5.41 20z\"/>\n",
              "  </svg>\n",
              "      </button>\n",
              "      \n",
              "  <style>\n",
              "    .colab-df-container {\n",
              "      display:flex;\n",
              "      flex-wrap:wrap;\n",
              "      gap: 12px;\n",
              "    }\n",
              "\n",
              "    .colab-df-convert {\n",
              "      background-color: #E8F0FE;\n",
              "      border: none;\n",
              "      border-radius: 50%;\n",
              "      cursor: pointer;\n",
              "      display: none;\n",
              "      fill: #1967D2;\n",
              "      height: 32px;\n",
              "      padding: 0 0 0 0;\n",
              "      width: 32px;\n",
              "    }\n",
              "\n",
              "    .colab-df-convert:hover {\n",
              "      background-color: #E2EBFA;\n",
              "      box-shadow: 0px 1px 2px rgba(60, 64, 67, 0.3), 0px 1px 3px 1px rgba(60, 64, 67, 0.15);\n",
              "      fill: #174EA6;\n",
              "    }\n",
              "\n",
              "    [theme=dark] .colab-df-convert {\n",
              "      background-color: #3B4455;\n",
              "      fill: #D2E3FC;\n",
              "    }\n",
              "\n",
              "    [theme=dark] .colab-df-convert:hover {\n",
              "      background-color: #434B5C;\n",
              "      box-shadow: 0px 1px 3px 1px rgba(0, 0, 0, 0.15);\n",
              "      filter: drop-shadow(0px 1px 2px rgba(0, 0, 0, 0.3));\n",
              "      fill: #FFFFFF;\n",
              "    }\n",
              "  </style>\n",
              "\n",
              "      <script>\n",
              "        const buttonEl =\n",
              "          document.querySelector('#df-77411203-0c09-4f33-ab5d-568997c49825 button.colab-df-convert');\n",
              "        buttonEl.style.display =\n",
              "          google.colab.kernel.accessAllowed ? 'block' : 'none';\n",
              "\n",
              "        async function convertToInteractive(key) {\n",
              "          const element = document.querySelector('#df-77411203-0c09-4f33-ab5d-568997c49825');\n",
              "          const dataTable =\n",
              "            await google.colab.kernel.invokeFunction('convertToInteractive',\n",
              "                                                     [key], {});\n",
              "          if (!dataTable) return;\n",
              "\n",
              "          const docLinkHtml = 'Like what you see? Visit the ' +\n",
              "            '<a target=\"_blank\" href=https://colab.research.google.com/notebooks/data_table.ipynb>data table notebook</a>'\n",
              "            + ' to learn more about interactive tables.';\n",
              "          element.innerHTML = '';\n",
              "          dataTable['output_type'] = 'display_data';\n",
              "          await google.colab.output.renderOutput(dataTable, element);\n",
              "          const docLink = document.createElement('div');\n",
              "          docLink.innerHTML = docLinkHtml;\n",
              "          element.appendChild(docLink);\n",
              "        }\n",
              "      </script>\n",
              "    </div>\n",
              "  </div>\n",
              "  "
            ]
          },
          "metadata": {},
          "execution_count": 98
        }
      ]
    },
    {
      "cell_type": "code",
      "source": [
        "feature_importances.sort_values(by='importances' ,ascending=False)[:7]\n",
        "c"
      ],
      "metadata": {
        "colab": {
          "base_uri": "https://localhost:8080/",
          "height": 269
        },
        "id": "jixenBvKnpmk",
        "outputId": "1567ff87-9aa6-4b52-e38f-18009b306176"
      },
      "execution_count": null,
      "outputs": [
        {
          "output_type": "execute_result",
          "data": {
            "text/plain": [
              "        feature_nm  importances\n",
              "74        meaneduc     0.213060\n",
              "4     SQBhogar_nin     0.093410\n",
              "1    SQBdependency     0.058150\n",
              "136           v18q     0.035135\n",
              "106   qmobilephone     0.032492\n",
              "108           r4h2     0.032142\n",
              "16       cielorazo     0.027297"
            ],
            "text/html": [
              "\n",
              "  <div id=\"df-fed8c413-be07-4679-bb8e-9a7a7d1b2af3\">\n",
              "    <div class=\"colab-df-container\">\n",
              "      <div>\n",
              "<style scoped>\n",
              "    .dataframe tbody tr th:only-of-type {\n",
              "        vertical-align: middle;\n",
              "    }\n",
              "\n",
              "    .dataframe tbody tr th {\n",
              "        vertical-align: top;\n",
              "    }\n",
              "\n",
              "    .dataframe thead th {\n",
              "        text-align: right;\n",
              "    }\n",
              "</style>\n",
              "<table border=\"1\" class=\"dataframe\">\n",
              "  <thead>\n",
              "    <tr style=\"text-align: right;\">\n",
              "      <th></th>\n",
              "      <th>feature_nm</th>\n",
              "      <th>importances</th>\n",
              "    </tr>\n",
              "  </thead>\n",
              "  <tbody>\n",
              "    <tr>\n",
              "      <th>74</th>\n",
              "      <td>meaneduc</td>\n",
              "      <td>0.213060</td>\n",
              "    </tr>\n",
              "    <tr>\n",
              "      <th>4</th>\n",
              "      <td>SQBhogar_nin</td>\n",
              "      <td>0.093410</td>\n",
              "    </tr>\n",
              "    <tr>\n",
              "      <th>1</th>\n",
              "      <td>SQBdependency</td>\n",
              "      <td>0.058150</td>\n",
              "    </tr>\n",
              "    <tr>\n",
              "      <th>136</th>\n",
              "      <td>v18q</td>\n",
              "      <td>0.035135</td>\n",
              "    </tr>\n",
              "    <tr>\n",
              "      <th>106</th>\n",
              "      <td>qmobilephone</td>\n",
              "      <td>0.032492</td>\n",
              "    </tr>\n",
              "    <tr>\n",
              "      <th>108</th>\n",
              "      <td>r4h2</td>\n",
              "      <td>0.032142</td>\n",
              "    </tr>\n",
              "    <tr>\n",
              "      <th>16</th>\n",
              "      <td>cielorazo</td>\n",
              "      <td>0.027297</td>\n",
              "    </tr>\n",
              "  </tbody>\n",
              "</table>\n",
              "</div>\n",
              "      <button class=\"colab-df-convert\" onclick=\"convertToInteractive('df-fed8c413-be07-4679-bb8e-9a7a7d1b2af3')\"\n",
              "              title=\"Convert this dataframe to an interactive table.\"\n",
              "              style=\"display:none;\">\n",
              "        \n",
              "  <svg xmlns=\"http://www.w3.org/2000/svg\" height=\"24px\"viewBox=\"0 0 24 24\"\n",
              "       width=\"24px\">\n",
              "    <path d=\"M0 0h24v24H0V0z\" fill=\"none\"/>\n",
              "    <path d=\"M18.56 5.44l.94 2.06.94-2.06 2.06-.94-2.06-.94-.94-2.06-.94 2.06-2.06.94zm-11 1L8.5 8.5l.94-2.06 2.06-.94-2.06-.94L8.5 2.5l-.94 2.06-2.06.94zm10 10l.94 2.06.94-2.06 2.06-.94-2.06-.94-.94-2.06-.94 2.06-2.06.94z\"/><path d=\"M17.41 7.96l-1.37-1.37c-.4-.4-.92-.59-1.43-.59-.52 0-1.04.2-1.43.59L10.3 9.45l-7.72 7.72c-.78.78-.78 2.05 0 2.83L4 21.41c.39.39.9.59 1.41.59.51 0 1.02-.2 1.41-.59l7.78-7.78 2.81-2.81c.8-.78.8-2.07 0-2.86zM5.41 20L4 18.59l7.72-7.72 1.47 1.35L5.41 20z\"/>\n",
              "  </svg>\n",
              "      </button>\n",
              "      \n",
              "  <style>\n",
              "    .colab-df-container {\n",
              "      display:flex;\n",
              "      flex-wrap:wrap;\n",
              "      gap: 12px;\n",
              "    }\n",
              "\n",
              "    .colab-df-convert {\n",
              "      background-color: #E8F0FE;\n",
              "      border: none;\n",
              "      border-radius: 50%;\n",
              "      cursor: pointer;\n",
              "      display: none;\n",
              "      fill: #1967D2;\n",
              "      height: 32px;\n",
              "      padding: 0 0 0 0;\n",
              "      width: 32px;\n",
              "    }\n",
              "\n",
              "    .colab-df-convert:hover {\n",
              "      background-color: #E2EBFA;\n",
              "      box-shadow: 0px 1px 2px rgba(60, 64, 67, 0.3), 0px 1px 3px 1px rgba(60, 64, 67, 0.15);\n",
              "      fill: #174EA6;\n",
              "    }\n",
              "\n",
              "    [theme=dark] .colab-df-convert {\n",
              "      background-color: #3B4455;\n",
              "      fill: #D2E3FC;\n",
              "    }\n",
              "\n",
              "    [theme=dark] .colab-df-convert:hover {\n",
              "      background-color: #434B5C;\n",
              "      box-shadow: 0px 1px 3px 1px rgba(0, 0, 0, 0.15);\n",
              "      filter: drop-shadow(0px 1px 2px rgba(0, 0, 0, 0.3));\n",
              "      fill: #FFFFFF;\n",
              "    }\n",
              "  </style>\n",
              "\n",
              "      <script>\n",
              "        const buttonEl =\n",
              "          document.querySelector('#df-fed8c413-be07-4679-bb8e-9a7a7d1b2af3 button.colab-df-convert');\n",
              "        buttonEl.style.display =\n",
              "          google.colab.kernel.accessAllowed ? 'block' : 'none';\n",
              "\n",
              "        async function convertToInteractive(key) {\n",
              "          const element = document.querySelector('#df-fed8c413-be07-4679-bb8e-9a7a7d1b2af3');\n",
              "          const dataTable =\n",
              "            await google.colab.kernel.invokeFunction('convertToInteractive',\n",
              "                                                     [key], {});\n",
              "          if (!dataTable) return;\n",
              "\n",
              "          const docLinkHtml = 'Like what you see? Visit the ' +\n",
              "            '<a target=\"_blank\" href=https://colab.research.google.com/notebooks/data_table.ipynb>data table notebook</a>'\n",
              "            + ' to learn more about interactive tables.';\n",
              "          element.innerHTML = '';\n",
              "          dataTable['output_type'] = 'display_data';\n",
              "          await google.colab.output.renderOutput(dataTable, element);\n",
              "          const docLink = document.createElement('div');\n",
              "          docLink.innerHTML = docLinkHtml;\n",
              "          element.appendChild(docLink);\n",
              "        }\n",
              "      </script>\n",
              "    </div>\n",
              "  </div>\n",
              "  "
            ]
          },
          "metadata": {},
          "execution_count": 101
        }
      ]
    },
    {
      "cell_type": "code",
      "source": [
        "# import matplotlib.pyplot as pyplot\n",
        "# #from sklearn.metrics import plot_roc_curve, roc_auc_score\n",
        "# from sklearn.metrics import roc_auc_score\n",
        "# #plot_roc_curve(clf, x_test, y_test)\n",
        "# #plt.show()\n",
        "# R_A_score=roc_auc_score(test_y, clf.predict_proba(test_x)[:,1])\n",
        "'''roc curve는 binary에서 가능한듯 ValueError: multi_class must be in ('ovo', 'ovr')'''"
      ],
      "metadata": {
        "id": "xM72qZY3l6rf"
      },
      "execution_count": null,
      "outputs": []
    },
    {
      "cell_type": "markdown",
      "source": [
        "#### 5. DNN"
      ],
      "metadata": {
        "id": "rXB86gX0qOZA"
      }
    },
    {
      "cell_type": "code",
      "source": [
        "'''# 라벨 인코딩\n",
        "e = LabelEncoder()\n",
        "e.fit(Y_obj)\n",
        "Y = e.transform(Y_obj)\n",
        "\n",
        "# 원-핫 인코딩\n",
        "Y_encoded = np_utils.to_categorical(Y)'''"
      ],
      "metadata": {
        "id": "hBG2T85mr5gE"
      },
      "execution_count": null,
      "outputs": []
    },
    {
      "cell_type": "code",
      "source": [
        "train_x.shape"
      ],
      "metadata": {
        "colab": {
          "base_uri": "https://localhost:8080/"
        },
        "id": "Ycm48DCQsMtR",
        "outputId": "887ee71c-b465-4932-f5d0-59124e43bfb7"
      },
      "execution_count": null,
      "outputs": [
        {
          "output_type": "execute_result",
          "data": {
            "text/plain": [
              "(6673, 137)"
            ]
          },
          "metadata": {},
          "execution_count": 102
        }
      ]
    },
    {
      "cell_type": "code",
      "source": [
        "train_y.value_counts()\n"
      ],
      "metadata": {
        "id": "f_zOfnuOtp6V"
      },
      "execution_count": null,
      "outputs": []
    },
    {
      "cell_type": "code",
      "source": [
        "import numpy\n",
        "import tensorflow as tf\n",
        "from tensorflow import keras\n",
        "# from sklearn.preprocessing import LabelEncoder\n",
        "from keras.models import Sequential\n",
        "from keras.layers.core import Dense\n",
        "from keras.utils import np_utils\n",
        "\n",
        "#seed 설정\n",
        "seed = 0\n",
        "numpy.random.seed(seed)\n",
        "# tf.set_random_seed(seed)\n",
        "\n",
        "\n",
        "# 라벨 인코딩\n",
        "# e = LabelEncoder()\n",
        "# e.fit(Y_obj)\n",
        "# Y = e.transform(Y_obj)\n",
        "\n",
        "# 원-핫 인코딩\n",
        "train_y_v2 = train_y.map({4:3, 3:2, 2:1, 1:0}) # 0,1,2,3,\n",
        "Y_encoded = np_utils.to_categorical(train_y_v2)\n",
        "\n",
        "\n",
        "model = Sequential()\n",
        "model.add(Dense(16, activation='relu', input_shape=(137,)))\n",
        "model.add(Dense(16, activation='relu'))\n",
        "model.add(Dense(4, activation='softmax'))\n",
        "\n",
        "# model compile9Rrng\n",
        "model.compile(loss=\"categorical_crossentropy\", optimizer=\"adam\", metrics=['accuracy'])\n",
        "\n",
        "model.fit(train_x, Y_encoded, epochs=30, batch_size = 5) # 원핫인코딩\n",
        "\n",
        "print('\\n Accuracy: %.4f' % (model.evaluate(train_x, Y_encoded)[1]))"
      ],
      "metadata": {
        "id": "n5T2HDEgoUS3",
        "colab": {
          "base_uri": "https://localhost:8080/"
        },
        "outputId": "7173518f-b2e2-4701-df90-94b8989e7536"
      },
      "execution_count": null,
      "outputs": [
        {
          "output_type": "stream",
          "name": "stdout",
          "text": [
            "Epoch 1/30\n",
            "1335/1335 [==============================] - 6s 3ms/step - loss: 3.8267 - accuracy: 0.5504\n",
            "Epoch 2/30\n",
            "1335/1335 [==============================] - 4s 3ms/step - loss: 2.3232 - accuracy: 0.5793\n",
            "Epoch 3/30\n",
            "1335/1335 [==============================] - 5s 4ms/step - loss: 1.9072 - accuracy: 0.5972\n",
            "Epoch 4/30\n",
            "1335/1335 [==============================] - 4s 3ms/step - loss: 1.7622 - accuracy: 0.6087\n",
            "Epoch 5/30\n",
            "1335/1335 [==============================] - 4s 3ms/step - loss: 1.6523 - accuracy: 0.6047\n",
            "Epoch 6/30\n",
            "1335/1335 [==============================] - 5s 4ms/step - loss: 1.3638 - accuracy: 0.6117\n",
            "Epoch 7/30\n",
            "1335/1335 [==============================] - 5s 4ms/step - loss: 1.4096 - accuracy: 0.6159\n",
            "Epoch 8/30\n",
            "1335/1335 [==============================] - 4s 3ms/step - loss: 1.2276 - accuracy: 0.6192\n",
            "Epoch 9/30\n",
            "1335/1335 [==============================] - 5s 4ms/step - loss: 1.0917 - accuracy: 0.6311\n",
            "Epoch 10/30\n",
            "1335/1335 [==============================] - 4s 3ms/step - loss: 1.0464 - accuracy: 0.6393\n",
            "Epoch 11/30\n",
            "1335/1335 [==============================] - 4s 3ms/step - loss: 0.9762 - accuracy: 0.6420\n",
            "Epoch 12/30\n",
            "1335/1335 [==============================] - 5s 4ms/step - loss: 0.9055 - accuracy: 0.6511\n",
            "Epoch 13/30\n",
            "1335/1335 [==============================] - 5s 3ms/step - loss: 0.8981 - accuracy: 0.6537\n",
            "Epoch 14/30\n",
            "1335/1335 [==============================] - 4s 3ms/step - loss: 0.8935 - accuracy: 0.6559\n",
            "Epoch 15/30\n",
            "1335/1335 [==============================] - 5s 4ms/step - loss: 0.8955 - accuracy: 0.6556\n",
            "Epoch 16/30\n",
            "1335/1335 [==============================] - 5s 3ms/step - loss: 0.8701 - accuracy: 0.6607\n",
            "Epoch 17/30\n",
            "1335/1335 [==============================] - 5s 3ms/step - loss: 0.8765 - accuracy: 0.6613\n",
            "Epoch 18/30\n",
            "1335/1335 [==============================] - 6s 5ms/step - loss: 0.8618 - accuracy: 0.6664\n",
            "Epoch 19/30\n",
            "1335/1335 [==============================] - 4s 3ms/step - loss: 0.8611 - accuracy: 0.6657\n",
            "Epoch 20/30\n",
            "1335/1335 [==============================] - 4s 3ms/step - loss: 0.8627 - accuracy: 0.6687\n",
            "Epoch 21/30\n",
            "1335/1335 [==============================] - 5s 4ms/step - loss: 0.8515 - accuracy: 0.6661\n",
            "Epoch 22/30\n",
            "1335/1335 [==============================] - 4s 3ms/step - loss: 0.8473 - accuracy: 0.6693\n",
            "Epoch 23/30\n",
            "1335/1335 [==============================] - 4s 3ms/step - loss: 0.8531 - accuracy: 0.6696\n",
            "Epoch 24/30\n",
            "1335/1335 [==============================] - 5s 3ms/step - loss: 0.8489 - accuracy: 0.6687\n",
            "Epoch 25/30\n",
            "1335/1335 [==============================] - 5s 4ms/step - loss: 0.8358 - accuracy: 0.6696\n",
            "Epoch 26/30\n",
            "1335/1335 [==============================] - 4s 3ms/step - loss: 0.8295 - accuracy: 0.6750\n",
            "Epoch 27/30\n",
            "1335/1335 [==============================] - 4s 3ms/step - loss: 0.8349 - accuracy: 0.6697\n",
            "Epoch 28/30\n",
            "1335/1335 [==============================] - 5s 4ms/step - loss: 0.8306 - accuracy: 0.6753\n",
            "Epoch 29/30\n",
            "1335/1335 [==============================] - 4s 3ms/step - loss: 0.8316 - accuracy: 0.6747\n",
            "Epoch 30/30\n",
            "1335/1335 [==============================] - 4s 3ms/step - loss: 0.8310 - accuracy: 0.6768\n",
            "209/209 [==============================] - 1s 4ms/step - loss: 0.8330 - accuracy: 0.6762\n",
            "\n",
            " Accuracy: 0.6762\n"
          ]
        }
      ]
    },
    {
      "cell_type": "code",
      "source": [],
      "metadata": {
        "id": "ACV6s5rGqNf_"
      },
      "execution_count": null,
      "outputs": []
    }
  ]
}