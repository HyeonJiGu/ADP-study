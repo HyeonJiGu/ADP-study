{
  "nbformat": 4,
  "nbformat_minor": 0,
  "metadata": {
    "colab": {
      "provenance": [],
      "toc_visible": true
    },
    "kernelspec": {
      "name": "python3",
      "display_name": "Python 3"
    },
    "language_info": {
      "name": "python"
    },
    "accelerator": "GPU",
    "gpuClass": "standard"
  },
  "cells": [
    {
      "cell_type": "markdown",
      "source": [
        "<코스타리카 가구 빈곤 수준 예측>\n",
        "> 목표 : 사호 복지 지원이 가장 필요한 가구 식별\n",
        "\n",
        "\n",
        "\n",
        "<컬럼 설명>\n",
        "\n",
        "> Target: 소득 수준 그룹 나타내는 변수\n",
        "- 1=극심한빈곤\n",
        "- 2=보통빈곤\n",
        "- 3= 취약가구\n",
        "- 4=비취약가구\n",
        "\n",
        "> idhogar: 각 가구에 대한 고유 식별자\n",
        "\n",
        "> parentesco1:세대주여부\n",
        "\n",
        "<주의점>\n",
        ">  가장만 점수를 매기는 데 사용된다 == 가구 단위로 빈곤을 예측\n",
        "\n",
        ">  동일한 가구의 개인이 서로 다른 레이블을 갖는 오류는 각 가구의 가장에 대한 레이블을 사용"
      ],
      "metadata": {
        "id": "z2bn-kHYABJZ"
      }
    },
    {
      "cell_type": "markdown",
      "source": [
        "##### 데이터 로드"
      ],
      "metadata": {
        "id": "4QxNB8TwOcHn"
      }
    },
    {
      "cell_type": "code",
      "execution_count": null,
      "metadata": {
        "colab": {
          "base_uri": "https://localhost:8080/"
        },
        "id": "T4dnt3Le552_",
        "outputId": "b490b6ea-d59d-411f-a6c3-8f35e26320e1"
      },
      "outputs": [
        {
          "output_type": "stream",
          "name": "stdout",
          "text": [
            "Mounted at /content/drive\n"
          ]
        }
      ],
      "source": [
        "from google.colab import drive\n",
        "drive.mount('/content/drive')"
      ]
    },
    {
      "cell_type": "code",
      "source": [
        "file_path='./drive/MyDrive/data/'\n",
        "train_filename='train_Costa_Rican.csv'  "
      ],
      "metadata": {
        "id": "XnMbgnfJ--VV"
      },
      "execution_count": null,
      "outputs": []
    },
    {
      "cell_type": "code",
      "source": [
        "import pandas as pd\n",
        "import os\n",
        "train = pd.read_csv(os.path.join(file_path, train_filename))"
      ],
      "metadata": {
        "id": "LCMhJFdy-CKI"
      },
      "execution_count": null,
      "outputs": []
    },
    {
      "cell_type": "code",
      "source": [
        "train.info()"
      ],
      "metadata": {
        "colab": {
          "base_uri": "https://localhost:8080/"
        },
        "id": "LU6es3Lh-FbN",
        "outputId": "ff78772d-d298-4d52-98d9-eeabd46a2df2"
      },
      "execution_count": null,
      "outputs": [
        {
          "output_type": "stream",
          "name": "stdout",
          "text": [
            "<class 'pandas.core.frame.DataFrame'>\n",
            "RangeIndex: 9557 entries, 0 to 9556\n",
            "Columns: 143 entries, Id to Target\n",
            "dtypes: float64(8), int64(130), object(5)\n",
            "memory usage: 10.4+ MB\n"
          ]
        }
      ]
    },
    {
      "cell_type": "code",
      "source": [
        "train.head(2)"
      ],
      "metadata": {
        "colab": {
          "base_uri": "https://localhost:8080/",
          "height": 205
        },
        "id": "A5yigDJGGX5G",
        "outputId": "ec667d50-ffd8-4624-b362-56211543deb3"
      },
      "execution_count": null,
      "outputs": [
        {
          "output_type": "execute_result",
          "data": {
            "text/plain": [
              "             Id      v2a1  hacdor  rooms  hacapo  v14a  refrig  v18q  v18q1  \\\n",
              "0  ID_279628684  190000.0       0      3       0     1       1     0    NaN   \n",
              "1  ID_f29eb3ddd  135000.0       0      4       0     1       1     1    1.0   \n",
              "\n",
              "   r4h1  ...  SQBescolari  SQBage  SQBhogar_total  SQBedjefe  SQBhogar_nin  \\\n",
              "0     0  ...          100    1849               1        100             0   \n",
              "1     0  ...          144    4489               1        144             0   \n",
              "\n",
              "   SQBovercrowding  SQBdependency  SQBmeaned  agesq  Target  \n",
              "0              1.0            0.0      100.0   1849       4  \n",
              "1              1.0           64.0      144.0   4489       4  \n",
              "\n",
              "[2 rows x 143 columns]"
            ],
            "text/html": [
              "\n",
              "  <div id=\"df-bf8d7a63-1614-454c-ae91-aa0c024c9aaf\">\n",
              "    <div class=\"colab-df-container\">\n",
              "      <div>\n",
              "<style scoped>\n",
              "    .dataframe tbody tr th:only-of-type {\n",
              "        vertical-align: middle;\n",
              "    }\n",
              "\n",
              "    .dataframe tbody tr th {\n",
              "        vertical-align: top;\n",
              "    }\n",
              "\n",
              "    .dataframe thead th {\n",
              "        text-align: right;\n",
              "    }\n",
              "</style>\n",
              "<table border=\"1\" class=\"dataframe\">\n",
              "  <thead>\n",
              "    <tr style=\"text-align: right;\">\n",
              "      <th></th>\n",
              "      <th>Id</th>\n",
              "      <th>v2a1</th>\n",
              "      <th>hacdor</th>\n",
              "      <th>rooms</th>\n",
              "      <th>hacapo</th>\n",
              "      <th>v14a</th>\n",
              "      <th>refrig</th>\n",
              "      <th>v18q</th>\n",
              "      <th>v18q1</th>\n",
              "      <th>r4h1</th>\n",
              "      <th>...</th>\n",
              "      <th>SQBescolari</th>\n",
              "      <th>SQBage</th>\n",
              "      <th>SQBhogar_total</th>\n",
              "      <th>SQBedjefe</th>\n",
              "      <th>SQBhogar_nin</th>\n",
              "      <th>SQBovercrowding</th>\n",
              "      <th>SQBdependency</th>\n",
              "      <th>SQBmeaned</th>\n",
              "      <th>agesq</th>\n",
              "      <th>Target</th>\n",
              "    </tr>\n",
              "  </thead>\n",
              "  <tbody>\n",
              "    <tr>\n",
              "      <th>0</th>\n",
              "      <td>ID_279628684</td>\n",
              "      <td>190000.0</td>\n",
              "      <td>0</td>\n",
              "      <td>3</td>\n",
              "      <td>0</td>\n",
              "      <td>1</td>\n",
              "      <td>1</td>\n",
              "      <td>0</td>\n",
              "      <td>NaN</td>\n",
              "      <td>0</td>\n",
              "      <td>...</td>\n",
              "      <td>100</td>\n",
              "      <td>1849</td>\n",
              "      <td>1</td>\n",
              "      <td>100</td>\n",
              "      <td>0</td>\n",
              "      <td>1.0</td>\n",
              "      <td>0.0</td>\n",
              "      <td>100.0</td>\n",
              "      <td>1849</td>\n",
              "      <td>4</td>\n",
              "    </tr>\n",
              "    <tr>\n",
              "      <th>1</th>\n",
              "      <td>ID_f29eb3ddd</td>\n",
              "      <td>135000.0</td>\n",
              "      <td>0</td>\n",
              "      <td>4</td>\n",
              "      <td>0</td>\n",
              "      <td>1</td>\n",
              "      <td>1</td>\n",
              "      <td>1</td>\n",
              "      <td>1.0</td>\n",
              "      <td>0</td>\n",
              "      <td>...</td>\n",
              "      <td>144</td>\n",
              "      <td>4489</td>\n",
              "      <td>1</td>\n",
              "      <td>144</td>\n",
              "      <td>0</td>\n",
              "      <td>1.0</td>\n",
              "      <td>64.0</td>\n",
              "      <td>144.0</td>\n",
              "      <td>4489</td>\n",
              "      <td>4</td>\n",
              "    </tr>\n",
              "  </tbody>\n",
              "</table>\n",
              "<p>2 rows × 143 columns</p>\n",
              "</div>\n",
              "      <button class=\"colab-df-convert\" onclick=\"convertToInteractive('df-bf8d7a63-1614-454c-ae91-aa0c024c9aaf')\"\n",
              "              title=\"Convert this dataframe to an interactive table.\"\n",
              "              style=\"display:none;\">\n",
              "        \n",
              "  <svg xmlns=\"http://www.w3.org/2000/svg\" height=\"24px\"viewBox=\"0 0 24 24\"\n",
              "       width=\"24px\">\n",
              "    <path d=\"M0 0h24v24H0V0z\" fill=\"none\"/>\n",
              "    <path d=\"M18.56 5.44l.94 2.06.94-2.06 2.06-.94-2.06-.94-.94-2.06-.94 2.06-2.06.94zm-11 1L8.5 8.5l.94-2.06 2.06-.94-2.06-.94L8.5 2.5l-.94 2.06-2.06.94zm10 10l.94 2.06.94-2.06 2.06-.94-2.06-.94-.94-2.06-.94 2.06-2.06.94z\"/><path d=\"M17.41 7.96l-1.37-1.37c-.4-.4-.92-.59-1.43-.59-.52 0-1.04.2-1.43.59L10.3 9.45l-7.72 7.72c-.78.78-.78 2.05 0 2.83L4 21.41c.39.39.9.59 1.41.59.51 0 1.02-.2 1.41-.59l7.78-7.78 2.81-2.81c.8-.78.8-2.07 0-2.86zM5.41 20L4 18.59l7.72-7.72 1.47 1.35L5.41 20z\"/>\n",
              "  </svg>\n",
              "      </button>\n",
              "      \n",
              "  <style>\n",
              "    .colab-df-container {\n",
              "      display:flex;\n",
              "      flex-wrap:wrap;\n",
              "      gap: 12px;\n",
              "    }\n",
              "\n",
              "    .colab-df-convert {\n",
              "      background-color: #E8F0FE;\n",
              "      border: none;\n",
              "      border-radius: 50%;\n",
              "      cursor: pointer;\n",
              "      display: none;\n",
              "      fill: #1967D2;\n",
              "      height: 32px;\n",
              "      padding: 0 0 0 0;\n",
              "      width: 32px;\n",
              "    }\n",
              "\n",
              "    .colab-df-convert:hover {\n",
              "      background-color: #E2EBFA;\n",
              "      box-shadow: 0px 1px 2px rgba(60, 64, 67, 0.3), 0px 1px 3px 1px rgba(60, 64, 67, 0.15);\n",
              "      fill: #174EA6;\n",
              "    }\n",
              "\n",
              "    [theme=dark] .colab-df-convert {\n",
              "      background-color: #3B4455;\n",
              "      fill: #D2E3FC;\n",
              "    }\n",
              "\n",
              "    [theme=dark] .colab-df-convert:hover {\n",
              "      background-color: #434B5C;\n",
              "      box-shadow: 0px 1px 3px 1px rgba(0, 0, 0, 0.15);\n",
              "      filter: drop-shadow(0px 1px 2px rgba(0, 0, 0, 0.3));\n",
              "      fill: #FFFFFF;\n",
              "    }\n",
              "  </style>\n",
              "\n",
              "      <script>\n",
              "        const buttonEl =\n",
              "          document.querySelector('#df-bf8d7a63-1614-454c-ae91-aa0c024c9aaf button.colab-df-convert');\n",
              "        buttonEl.style.display =\n",
              "          google.colab.kernel.accessAllowed ? 'block' : 'none';\n",
              "\n",
              "        async function convertToInteractive(key) {\n",
              "          const element = document.querySelector('#df-bf8d7a63-1614-454c-ae91-aa0c024c9aaf');\n",
              "          const dataTable =\n",
              "            await google.colab.kernel.invokeFunction('convertToInteractive',\n",
              "                                                     [key], {});\n",
              "          if (!dataTable) return;\n",
              "\n",
              "          const docLinkHtml = 'Like what you see? Visit the ' +\n",
              "            '<a target=\"_blank\" href=https://colab.research.google.com/notebooks/data_table.ipynb>data table notebook</a>'\n",
              "            + ' to learn more about interactive tables.';\n",
              "          element.innerHTML = '';\n",
              "          dataTable['output_type'] = 'display_data';\n",
              "          await google.colab.output.renderOutput(dataTable, element);\n",
              "          const docLink = document.createElement('div');\n",
              "          docLink.innerHTML = docLinkHtml;\n",
              "          element.appendChild(docLink);\n",
              "        }\n",
              "      </script>\n",
              "    </div>\n",
              "  </div>\n",
              "  "
            ]
          },
          "metadata": {},
          "execution_count": 5
        }
      ]
    },
    {
      "cell_type": "code",
      "source": [
        "train['Target'].value_counts()"
      ],
      "metadata": {
        "colab": {
          "base_uri": "https://localhost:8080/"
        },
        "id": "8mIob1JX-fqP",
        "outputId": "d2337575-ef1b-48ce-bc4b-9e23632d43e8"
      },
      "execution_count": null,
      "outputs": [
        {
          "output_type": "execute_result",
          "data": {
            "text/plain": [
              "4    5996\n",
              "2    1597\n",
              "3    1209\n",
              "1     755\n",
              "Name: Target, dtype: int64"
            ]
          },
          "metadata": {},
          "execution_count": 6
        }
      ]
    },
    {
      "cell_type": "code",
      "source": [
        "a = train.groupby(['idhogar','parentesco1', 'Target'])['Id'].count().reset_index() # groupby 할 때 Target도 같이 넣어야지 target count 하지 않음음\n",
        "a"
      ],
      "metadata": {
        "colab": {
          "base_uri": "https://localhost:8080/",
          "height": 424
        },
        "id": "Jim1eokjMJOM",
        "outputId": "ec2b2ecd-588d-467b-fbe2-e9e489828ec2"
      },
      "execution_count": null,
      "outputs": [
        {
          "output_type": "execute_result",
          "data": {
            "text/plain": [
              "        idhogar  parentesco1  Target  Id\n",
              "0     001ff74ca            0       4   1\n",
              "1     001ff74ca            1       4   1\n",
              "2     003123ec2            0       2   3\n",
              "3     003123ec2            1       2   1\n",
              "4     004616164            0       2   1\n",
              "...         ...          ...     ...  ..\n",
              "5625  ffae4a097            1       4   1\n",
              "5626  ffe90d46f            0       1   3\n",
              "5627  ffe90d46f            1       1   1\n",
              "5628  fff7d6be1            0       4   3\n",
              "5629  fff7d6be1            1       4   1\n",
              "\n",
              "[5630 rows x 4 columns]"
            ],
            "text/html": [
              "\n",
              "  <div id=\"df-f11e3b09-215d-4d30-b710-a36e9a902232\">\n",
              "    <div class=\"colab-df-container\">\n",
              "      <div>\n",
              "<style scoped>\n",
              "    .dataframe tbody tr th:only-of-type {\n",
              "        vertical-align: middle;\n",
              "    }\n",
              "\n",
              "    .dataframe tbody tr th {\n",
              "        vertical-align: top;\n",
              "    }\n",
              "\n",
              "    .dataframe thead th {\n",
              "        text-align: right;\n",
              "    }\n",
              "</style>\n",
              "<table border=\"1\" class=\"dataframe\">\n",
              "  <thead>\n",
              "    <tr style=\"text-align: right;\">\n",
              "      <th></th>\n",
              "      <th>idhogar</th>\n",
              "      <th>parentesco1</th>\n",
              "      <th>Target</th>\n",
              "      <th>Id</th>\n",
              "    </tr>\n",
              "  </thead>\n",
              "  <tbody>\n",
              "    <tr>\n",
              "      <th>0</th>\n",
              "      <td>001ff74ca</td>\n",
              "      <td>0</td>\n",
              "      <td>4</td>\n",
              "      <td>1</td>\n",
              "    </tr>\n",
              "    <tr>\n",
              "      <th>1</th>\n",
              "      <td>001ff74ca</td>\n",
              "      <td>1</td>\n",
              "      <td>4</td>\n",
              "      <td>1</td>\n",
              "    </tr>\n",
              "    <tr>\n",
              "      <th>2</th>\n",
              "      <td>003123ec2</td>\n",
              "      <td>0</td>\n",
              "      <td>2</td>\n",
              "      <td>3</td>\n",
              "    </tr>\n",
              "    <tr>\n",
              "      <th>3</th>\n",
              "      <td>003123ec2</td>\n",
              "      <td>1</td>\n",
              "      <td>2</td>\n",
              "      <td>1</td>\n",
              "    </tr>\n",
              "    <tr>\n",
              "      <th>4</th>\n",
              "      <td>004616164</td>\n",
              "      <td>0</td>\n",
              "      <td>2</td>\n",
              "      <td>1</td>\n",
              "    </tr>\n",
              "    <tr>\n",
              "      <th>...</th>\n",
              "      <td>...</td>\n",
              "      <td>...</td>\n",
              "      <td>...</td>\n",
              "      <td>...</td>\n",
              "    </tr>\n",
              "    <tr>\n",
              "      <th>5625</th>\n",
              "      <td>ffae4a097</td>\n",
              "      <td>1</td>\n",
              "      <td>4</td>\n",
              "      <td>1</td>\n",
              "    </tr>\n",
              "    <tr>\n",
              "      <th>5626</th>\n",
              "      <td>ffe90d46f</td>\n",
              "      <td>0</td>\n",
              "      <td>1</td>\n",
              "      <td>3</td>\n",
              "    </tr>\n",
              "    <tr>\n",
              "      <th>5627</th>\n",
              "      <td>ffe90d46f</td>\n",
              "      <td>1</td>\n",
              "      <td>1</td>\n",
              "      <td>1</td>\n",
              "    </tr>\n",
              "    <tr>\n",
              "      <th>5628</th>\n",
              "      <td>fff7d6be1</td>\n",
              "      <td>0</td>\n",
              "      <td>4</td>\n",
              "      <td>3</td>\n",
              "    </tr>\n",
              "    <tr>\n",
              "      <th>5629</th>\n",
              "      <td>fff7d6be1</td>\n",
              "      <td>1</td>\n",
              "      <td>4</td>\n",
              "      <td>1</td>\n",
              "    </tr>\n",
              "  </tbody>\n",
              "</table>\n",
              "<p>5630 rows × 4 columns</p>\n",
              "</div>\n",
              "      <button class=\"colab-df-convert\" onclick=\"convertToInteractive('df-f11e3b09-215d-4d30-b710-a36e9a902232')\"\n",
              "              title=\"Convert this dataframe to an interactive table.\"\n",
              "              style=\"display:none;\">\n",
              "        \n",
              "  <svg xmlns=\"http://www.w3.org/2000/svg\" height=\"24px\"viewBox=\"0 0 24 24\"\n",
              "       width=\"24px\">\n",
              "    <path d=\"M0 0h24v24H0V0z\" fill=\"none\"/>\n",
              "    <path d=\"M18.56 5.44l.94 2.06.94-2.06 2.06-.94-2.06-.94-.94-2.06-.94 2.06-2.06.94zm-11 1L8.5 8.5l.94-2.06 2.06-.94-2.06-.94L8.5 2.5l-.94 2.06-2.06.94zm10 10l.94 2.06.94-2.06 2.06-.94-2.06-.94-.94-2.06-.94 2.06-2.06.94z\"/><path d=\"M17.41 7.96l-1.37-1.37c-.4-.4-.92-.59-1.43-.59-.52 0-1.04.2-1.43.59L10.3 9.45l-7.72 7.72c-.78.78-.78 2.05 0 2.83L4 21.41c.39.39.9.59 1.41.59.51 0 1.02-.2 1.41-.59l7.78-7.78 2.81-2.81c.8-.78.8-2.07 0-2.86zM5.41 20L4 18.59l7.72-7.72 1.47 1.35L5.41 20z\"/>\n",
              "  </svg>\n",
              "      </button>\n",
              "      \n",
              "  <style>\n",
              "    .colab-df-container {\n",
              "      display:flex;\n",
              "      flex-wrap:wrap;\n",
              "      gap: 12px;\n",
              "    }\n",
              "\n",
              "    .colab-df-convert {\n",
              "      background-color: #E8F0FE;\n",
              "      border: none;\n",
              "      border-radius: 50%;\n",
              "      cursor: pointer;\n",
              "      display: none;\n",
              "      fill: #1967D2;\n",
              "      height: 32px;\n",
              "      padding: 0 0 0 0;\n",
              "      width: 32px;\n",
              "    }\n",
              "\n",
              "    .colab-df-convert:hover {\n",
              "      background-color: #E2EBFA;\n",
              "      box-shadow: 0px 1px 2px rgba(60, 64, 67, 0.3), 0px 1px 3px 1px rgba(60, 64, 67, 0.15);\n",
              "      fill: #174EA6;\n",
              "    }\n",
              "\n",
              "    [theme=dark] .colab-df-convert {\n",
              "      background-color: #3B4455;\n",
              "      fill: #D2E3FC;\n",
              "    }\n",
              "\n",
              "    [theme=dark] .colab-df-convert:hover {\n",
              "      background-color: #434B5C;\n",
              "      box-shadow: 0px 1px 3px 1px rgba(0, 0, 0, 0.15);\n",
              "      filter: drop-shadow(0px 1px 2px rgba(0, 0, 0, 0.3));\n",
              "      fill: #FFFFFF;\n",
              "    }\n",
              "  </style>\n",
              "\n",
              "      <script>\n",
              "        const buttonEl =\n",
              "          document.querySelector('#df-f11e3b09-215d-4d30-b710-a36e9a902232 button.colab-df-convert');\n",
              "        buttonEl.style.display =\n",
              "          google.colab.kernel.accessAllowed ? 'block' : 'none';\n",
              "\n",
              "        async function convertToInteractive(key) {\n",
              "          const element = document.querySelector('#df-f11e3b09-215d-4d30-b710-a36e9a902232');\n",
              "          const dataTable =\n",
              "            await google.colab.kernel.invokeFunction('convertToInteractive',\n",
              "                                                     [key], {});\n",
              "          if (!dataTable) return;\n",
              "\n",
              "          const docLinkHtml = 'Like what you see? Visit the ' +\n",
              "            '<a target=\"_blank\" href=https://colab.research.google.com/notebooks/data_table.ipynb>data table notebook</a>'\n",
              "            + ' to learn more about interactive tables.';\n",
              "          element.innerHTML = '';\n",
              "          dataTable['output_type'] = 'display_data';\n",
              "          await google.colab.output.renderOutput(dataTable, element);\n",
              "          const docLink = document.createElement('div');\n",
              "          docLink.innerHTML = docLinkHtml;\n",
              "          element.appendChild(docLink);\n",
              "        }\n",
              "      </script>\n",
              "    </div>\n",
              "  </div>\n",
              "  "
            ]
          },
          "metadata": {},
          "execution_count": 7
        }
      ]
    },
    {
      "cell_type": "code",
      "source": [
        "_parentesco1 = train[train['parentesco1']==1].copy()\n",
        "_parentesco0 = train[~(train['parentesco1']==1)].copy() # ~ + 1 "
      ],
      "metadata": {
        "id": "Msu8FX3DMsjn"
      },
      "execution_count": null,
      "outputs": []
    },
    {
      "cell_type": "code",
      "source": [
        "_p1_id = set(_parentesco1.idhogar.values)\n",
        "len(_p1_id)"
      ],
      "metadata": {
        "colab": {
          "base_uri": "https://localhost:8080/"
        },
        "id": "iyExha3cWcRl",
        "outputId": "47ac5e22-440c-44cb-f50c-89dcd028536c"
      },
      "execution_count": null,
      "outputs": [
        {
          "output_type": "execute_result",
          "data": {
            "text/plain": [
              "2973"
            ]
          },
          "metadata": {},
          "execution_count": 9
        }
      ]
    },
    {
      "cell_type": "code",
      "source": [
        "_parentesco0['Target_v2']=_parentesco0['idhogar'].map(lambda x : True if x in _p1_id else False)\n",
        "_parentesco0['Target_v2'].value_counts()"
      ],
      "metadata": {
        "colab": {
          "base_uri": "https://localhost:8080/"
        },
        "id": "_tkwBl44W58X",
        "outputId": "10a66439-2a72-4c3b-de27-412890bc85a8"
      },
      "execution_count": null,
      "outputs": [
        {
          "output_type": "execute_result",
          "data": {
            "text/plain": [
              "True     6561\n",
              "False      23\n",
              "Name: Target_v2, dtype: int64"
            ]
          },
          "metadata": {},
          "execution_count": 10
        }
      ]
    },
    {
      "cell_type": "code",
      "source": [
        "_parentesco0 = _parentesco0[_parentesco0['Target_v2']==True]\n",
        "len(_parentesco0)"
      ],
      "metadata": {
        "colab": {
          "base_uri": "https://localhost:8080/"
        },
        "id": "9mR243nDL06l",
        "outputId": "32173e21-0476-4d8d-8b82-d1d1c12bc284"
      },
      "execution_count": null,
      "outputs": [
        {
          "output_type": "execute_result",
          "data": {
            "text/plain": [
              "6561"
            ]
          },
          "metadata": {},
          "execution_count": 11
        }
      ]
    },
    {
      "cell_type": "code",
      "source": [
        "_parentesco1[_parentesco1['idhogar']=='d6c086aa3']['Target'] # map 넣기전에 먼저 실험하면 시간 단축됨됨"
      ],
      "metadata": {
        "id": "xpiYYWvOZH1G",
        "colab": {
          "base_uri": "https://localhost:8080/"
        },
        "outputId": "700e783d-f8e8-47fc-c48c-9df32993c7e7"
      },
      "execution_count": null,
      "outputs": [
        {
          "output_type": "execute_result",
          "data": {
            "text/plain": [
              "9552    2\n",
              "Name: Target, dtype: int64"
            ]
          },
          "metadata": {},
          "execution_count": 12
        }
      ]
    },
    {
      "cell_type": "code",
      "source": [
        "_parentesco0.loc[:,'Target_v2'] = _parentesco0['idhogar'].map(lambda x :  _parentesco1[_parentesco1['idhogar']==x]['Target'].values[0]) #loc['' ]== 컬럼으로 생김김\n",
        "len(_parentesco0)"
      ],
      "metadata": {
        "colab": {
          "base_uri": "https://localhost:8080/"
        },
        "id": "pjHuS6c3YQk1",
        "outputId": "20801e8c-579c-4763-af5d-6f1a3de504e7"
      },
      "execution_count": null,
      "outputs": [
        {
          "output_type": "execute_result",
          "data": {
            "text/plain": [
              "6561"
            ]
          },
          "metadata": {},
          "execution_count": 13
        }
      ]
    },
    {
      "cell_type": "code",
      "source": [
        "_parentesco0.tail() # map, apply 사용 후에는 head 보다는 tail 하는게 시간 단축축"
      ],
      "metadata": {
        "colab": {
          "base_uri": "https://localhost:8080/",
          "height": 300
        },
        "id": "FDCwK3xZYox-",
        "outputId": "b8d5184c-8307-4609-9347-952d5707c0fd"
      },
      "execution_count": null,
      "outputs": [
        {
          "output_type": "execute_result",
          "data": {
            "text/plain": [
              "                Id     v2a1  hacdor  rooms  hacapo  v14a  refrig  v18q  v18q1  \\\n",
              "9550  ID_90a399a51      NaN       0      3       0     1       1     0    NaN   \n",
              "9553  ID_c94744e07  80000.0       0      6       0     1       1     0    NaN   \n",
              "9554  ID_85fc658f8  80000.0       0      6       0     1       1     0    NaN   \n",
              "9555  ID_ced540c61  80000.0       0      6       0     1       1     0    NaN   \n",
              "9556  ID_a38c64491  80000.0       0      6       0     1       1     0    NaN   \n",
              "\n",
              "      r4h1  ...  SQBage  SQBhogar_total  SQBedjefe  SQBhogar_nin  \\\n",
              "9550     0  ...    3721               4          0             0   \n",
              "9553     0  ...       4              25         81             1   \n",
              "9554     0  ...    2500              25         81             1   \n",
              "9555     0  ...     676              25         81             1   \n",
              "9556     0  ...     441              25         81             1   \n",
              "\n",
              "      SQBovercrowding  SQBdependency  SQBmeaned  agesq  Target  Target_v2  \n",
              "9550           4.0000         1.0000     9.0000   3721       2          2  \n",
              "9553           1.5625         0.0625    68.0625      4       2          2  \n",
              "9554           1.5625         0.0625    68.0625   2500       2          2  \n",
              "9555           1.5625         0.0625    68.0625    676       2          2  \n",
              "9556           1.5625         0.0625    68.0625    441       2          2  \n",
              "\n",
              "[5 rows x 144 columns]"
            ],
            "text/html": [
              "\n",
              "  <div id=\"df-8eae9e09-c8c7-4a76-8fd2-e0885b185316\">\n",
              "    <div class=\"colab-df-container\">\n",
              "      <div>\n",
              "<style scoped>\n",
              "    .dataframe tbody tr th:only-of-type {\n",
              "        vertical-align: middle;\n",
              "    }\n",
              "\n",
              "    .dataframe tbody tr th {\n",
              "        vertical-align: top;\n",
              "    }\n",
              "\n",
              "    .dataframe thead th {\n",
              "        text-align: right;\n",
              "    }\n",
              "</style>\n",
              "<table border=\"1\" class=\"dataframe\">\n",
              "  <thead>\n",
              "    <tr style=\"text-align: right;\">\n",
              "      <th></th>\n",
              "      <th>Id</th>\n",
              "      <th>v2a1</th>\n",
              "      <th>hacdor</th>\n",
              "      <th>rooms</th>\n",
              "      <th>hacapo</th>\n",
              "      <th>v14a</th>\n",
              "      <th>refrig</th>\n",
              "      <th>v18q</th>\n",
              "      <th>v18q1</th>\n",
              "      <th>r4h1</th>\n",
              "      <th>...</th>\n",
              "      <th>SQBage</th>\n",
              "      <th>SQBhogar_total</th>\n",
              "      <th>SQBedjefe</th>\n",
              "      <th>SQBhogar_nin</th>\n",
              "      <th>SQBovercrowding</th>\n",
              "      <th>SQBdependency</th>\n",
              "      <th>SQBmeaned</th>\n",
              "      <th>agesq</th>\n",
              "      <th>Target</th>\n",
              "      <th>Target_v2</th>\n",
              "    </tr>\n",
              "  </thead>\n",
              "  <tbody>\n",
              "    <tr>\n",
              "      <th>9550</th>\n",
              "      <td>ID_90a399a51</td>\n",
              "      <td>NaN</td>\n",
              "      <td>0</td>\n",
              "      <td>3</td>\n",
              "      <td>0</td>\n",
              "      <td>1</td>\n",
              "      <td>1</td>\n",
              "      <td>0</td>\n",
              "      <td>NaN</td>\n",
              "      <td>0</td>\n",
              "      <td>...</td>\n",
              "      <td>3721</td>\n",
              "      <td>4</td>\n",
              "      <td>0</td>\n",
              "      <td>0</td>\n",
              "      <td>4.0000</td>\n",
              "      <td>1.0000</td>\n",
              "      <td>9.0000</td>\n",
              "      <td>3721</td>\n",
              "      <td>2</td>\n",
              "      <td>2</td>\n",
              "    </tr>\n",
              "    <tr>\n",
              "      <th>9553</th>\n",
              "      <td>ID_c94744e07</td>\n",
              "      <td>80000.0</td>\n",
              "      <td>0</td>\n",
              "      <td>6</td>\n",
              "      <td>0</td>\n",
              "      <td>1</td>\n",
              "      <td>1</td>\n",
              "      <td>0</td>\n",
              "      <td>NaN</td>\n",
              "      <td>0</td>\n",
              "      <td>...</td>\n",
              "      <td>4</td>\n",
              "      <td>25</td>\n",
              "      <td>81</td>\n",
              "      <td>1</td>\n",
              "      <td>1.5625</td>\n",
              "      <td>0.0625</td>\n",
              "      <td>68.0625</td>\n",
              "      <td>4</td>\n",
              "      <td>2</td>\n",
              "      <td>2</td>\n",
              "    </tr>\n",
              "    <tr>\n",
              "      <th>9554</th>\n",
              "      <td>ID_85fc658f8</td>\n",
              "      <td>80000.0</td>\n",
              "      <td>0</td>\n",
              "      <td>6</td>\n",
              "      <td>0</td>\n",
              "      <td>1</td>\n",
              "      <td>1</td>\n",
              "      <td>0</td>\n",
              "      <td>NaN</td>\n",
              "      <td>0</td>\n",
              "      <td>...</td>\n",
              "      <td>2500</td>\n",
              "      <td>25</td>\n",
              "      <td>81</td>\n",
              "      <td>1</td>\n",
              "      <td>1.5625</td>\n",
              "      <td>0.0625</td>\n",
              "      <td>68.0625</td>\n",
              "      <td>2500</td>\n",
              "      <td>2</td>\n",
              "      <td>2</td>\n",
              "    </tr>\n",
              "    <tr>\n",
              "      <th>9555</th>\n",
              "      <td>ID_ced540c61</td>\n",
              "      <td>80000.0</td>\n",
              "      <td>0</td>\n",
              "      <td>6</td>\n",
              "      <td>0</td>\n",
              "      <td>1</td>\n",
              "      <td>1</td>\n",
              "      <td>0</td>\n",
              "      <td>NaN</td>\n",
              "      <td>0</td>\n",
              "      <td>...</td>\n",
              "      <td>676</td>\n",
              "      <td>25</td>\n",
              "      <td>81</td>\n",
              "      <td>1</td>\n",
              "      <td>1.5625</td>\n",
              "      <td>0.0625</td>\n",
              "      <td>68.0625</td>\n",
              "      <td>676</td>\n",
              "      <td>2</td>\n",
              "      <td>2</td>\n",
              "    </tr>\n",
              "    <tr>\n",
              "      <th>9556</th>\n",
              "      <td>ID_a38c64491</td>\n",
              "      <td>80000.0</td>\n",
              "      <td>0</td>\n",
              "      <td>6</td>\n",
              "      <td>0</td>\n",
              "      <td>1</td>\n",
              "      <td>1</td>\n",
              "      <td>0</td>\n",
              "      <td>NaN</td>\n",
              "      <td>0</td>\n",
              "      <td>...</td>\n",
              "      <td>441</td>\n",
              "      <td>25</td>\n",
              "      <td>81</td>\n",
              "      <td>1</td>\n",
              "      <td>1.5625</td>\n",
              "      <td>0.0625</td>\n",
              "      <td>68.0625</td>\n",
              "      <td>441</td>\n",
              "      <td>2</td>\n",
              "      <td>2</td>\n",
              "    </tr>\n",
              "  </tbody>\n",
              "</table>\n",
              "<p>5 rows × 144 columns</p>\n",
              "</div>\n",
              "      <button class=\"colab-df-convert\" onclick=\"convertToInteractive('df-8eae9e09-c8c7-4a76-8fd2-e0885b185316')\"\n",
              "              title=\"Convert this dataframe to an interactive table.\"\n",
              "              style=\"display:none;\">\n",
              "        \n",
              "  <svg xmlns=\"http://www.w3.org/2000/svg\" height=\"24px\"viewBox=\"0 0 24 24\"\n",
              "       width=\"24px\">\n",
              "    <path d=\"M0 0h24v24H0V0z\" fill=\"none\"/>\n",
              "    <path d=\"M18.56 5.44l.94 2.06.94-2.06 2.06-.94-2.06-.94-.94-2.06-.94 2.06-2.06.94zm-11 1L8.5 8.5l.94-2.06 2.06-.94-2.06-.94L8.5 2.5l-.94 2.06-2.06.94zm10 10l.94 2.06.94-2.06 2.06-.94-2.06-.94-.94-2.06-.94 2.06-2.06.94z\"/><path d=\"M17.41 7.96l-1.37-1.37c-.4-.4-.92-.59-1.43-.59-.52 0-1.04.2-1.43.59L10.3 9.45l-7.72 7.72c-.78.78-.78 2.05 0 2.83L4 21.41c.39.39.9.59 1.41.59.51 0 1.02-.2 1.41-.59l7.78-7.78 2.81-2.81c.8-.78.8-2.07 0-2.86zM5.41 20L4 18.59l7.72-7.72 1.47 1.35L5.41 20z\"/>\n",
              "  </svg>\n",
              "      </button>\n",
              "      \n",
              "  <style>\n",
              "    .colab-df-container {\n",
              "      display:flex;\n",
              "      flex-wrap:wrap;\n",
              "      gap: 12px;\n",
              "    }\n",
              "\n",
              "    .colab-df-convert {\n",
              "      background-color: #E8F0FE;\n",
              "      border: none;\n",
              "      border-radius: 50%;\n",
              "      cursor: pointer;\n",
              "      display: none;\n",
              "      fill: #1967D2;\n",
              "      height: 32px;\n",
              "      padding: 0 0 0 0;\n",
              "      width: 32px;\n",
              "    }\n",
              "\n",
              "    .colab-df-convert:hover {\n",
              "      background-color: #E2EBFA;\n",
              "      box-shadow: 0px 1px 2px rgba(60, 64, 67, 0.3), 0px 1px 3px 1px rgba(60, 64, 67, 0.15);\n",
              "      fill: #174EA6;\n",
              "    }\n",
              "\n",
              "    [theme=dark] .colab-df-convert {\n",
              "      background-color: #3B4455;\n",
              "      fill: #D2E3FC;\n",
              "    }\n",
              "\n",
              "    [theme=dark] .colab-df-convert:hover {\n",
              "      background-color: #434B5C;\n",
              "      box-shadow: 0px 1px 3px 1px rgba(0, 0, 0, 0.15);\n",
              "      filter: drop-shadow(0px 1px 2px rgba(0, 0, 0, 0.3));\n",
              "      fill: #FFFFFF;\n",
              "    }\n",
              "  </style>\n",
              "\n",
              "      <script>\n",
              "        const buttonEl =\n",
              "          document.querySelector('#df-8eae9e09-c8c7-4a76-8fd2-e0885b185316 button.colab-df-convert');\n",
              "        buttonEl.style.display =\n",
              "          google.colab.kernel.accessAllowed ? 'block' : 'none';\n",
              "\n",
              "        async function convertToInteractive(key) {\n",
              "          const element = document.querySelector('#df-8eae9e09-c8c7-4a76-8fd2-e0885b185316');\n",
              "          const dataTable =\n",
              "            await google.colab.kernel.invokeFunction('convertToInteractive',\n",
              "                                                     [key], {});\n",
              "          if (!dataTable) return;\n",
              "\n",
              "          const docLinkHtml = 'Like what you see? Visit the ' +\n",
              "            '<a target=\"_blank\" href=https://colab.research.google.com/notebooks/data_table.ipynb>data table notebook</a>'\n",
              "            + ' to learn more about interactive tables.';\n",
              "          element.innerHTML = '';\n",
              "          dataTable['output_type'] = 'display_data';\n",
              "          await google.colab.output.renderOutput(dataTable, element);\n",
              "          const docLink = document.createElement('div');\n",
              "          docLink.innerHTML = docLinkHtml;\n",
              "          element.appendChild(docLink);\n",
              "        }\n",
              "      </script>\n",
              "    </div>\n",
              "  </div>\n",
              "  "
            ]
          },
          "metadata": {},
          "execution_count": 14
        }
      ]
    },
    {
      "cell_type": "code",
      "source": [
        "len(_parentesco0[_parentesco0['Target']!= _parentesco0['Target_v2']])"
      ],
      "metadata": {
        "colab": {
          "base_uri": "https://localhost:8080/"
        },
        "id": "yh1G-MPPdCf9",
        "outputId": "a97d8a3c-45f3-4ed3-8b93-9c26eb26261a"
      },
      "execution_count": null,
      "outputs": [
        {
          "output_type": "execute_result",
          "data": {
            "text/plain": [
              "140"
            ]
          },
          "metadata": {},
          "execution_count": 15
        }
      ]
    },
    {
      "cell_type": "code",
      "source": [
        "_parentesco0[_parentesco0['Target']!= _parentesco0['Target_v2']].head(2)# ['idhogar'] 4b6077882"
      ],
      "metadata": {
        "colab": {
          "base_uri": "https://localhost:8080/",
          "height": 205
        },
        "id": "ETeGeYjOTBLm",
        "outputId": "03bc77e5-6441-4bf6-83b3-1689fdadb070"
      },
      "execution_count": null,
      "outputs": [
        {
          "output_type": "execute_result",
          "data": {
            "text/plain": [
              "               Id     v2a1  hacdor  rooms  hacapo  v14a  refrig  v18q  v18q1  \\\n",
              "283  ID_17d9dcd44  60000.0       0      3       0     1       0     0    NaN   \n",
              "284  ID_e78621924  60000.0       0      3       0     1       0     0    NaN   \n",
              "\n",
              "     r4h1  ...  SQBage  SQBhogar_total  SQBedjefe  SQBhogar_nin  \\\n",
              "283     0  ...      49               9          0             4   \n",
              "284     0  ...       4               9          0             4   \n",
              "\n",
              "     SQBovercrowding  SQBdependency  SQBmeaned  agesq  Target  Target_v2  \n",
              "283              9.0            4.0       25.0     49       2          1  \n",
              "284              9.0            4.0       25.0      4       2          1  \n",
              "\n",
              "[2 rows x 144 columns]"
            ],
            "text/html": [
              "\n",
              "  <div id=\"df-c4984d13-ecfb-47de-bce3-2b6fdbcf6eda\">\n",
              "    <div class=\"colab-df-container\">\n",
              "      <div>\n",
              "<style scoped>\n",
              "    .dataframe tbody tr th:only-of-type {\n",
              "        vertical-align: middle;\n",
              "    }\n",
              "\n",
              "    .dataframe tbody tr th {\n",
              "        vertical-align: top;\n",
              "    }\n",
              "\n",
              "    .dataframe thead th {\n",
              "        text-align: right;\n",
              "    }\n",
              "</style>\n",
              "<table border=\"1\" class=\"dataframe\">\n",
              "  <thead>\n",
              "    <tr style=\"text-align: right;\">\n",
              "      <th></th>\n",
              "      <th>Id</th>\n",
              "      <th>v2a1</th>\n",
              "      <th>hacdor</th>\n",
              "      <th>rooms</th>\n",
              "      <th>hacapo</th>\n",
              "      <th>v14a</th>\n",
              "      <th>refrig</th>\n",
              "      <th>v18q</th>\n",
              "      <th>v18q1</th>\n",
              "      <th>r4h1</th>\n",
              "      <th>...</th>\n",
              "      <th>SQBage</th>\n",
              "      <th>SQBhogar_total</th>\n",
              "      <th>SQBedjefe</th>\n",
              "      <th>SQBhogar_nin</th>\n",
              "      <th>SQBovercrowding</th>\n",
              "      <th>SQBdependency</th>\n",
              "      <th>SQBmeaned</th>\n",
              "      <th>agesq</th>\n",
              "      <th>Target</th>\n",
              "      <th>Target_v2</th>\n",
              "    </tr>\n",
              "  </thead>\n",
              "  <tbody>\n",
              "    <tr>\n",
              "      <th>283</th>\n",
              "      <td>ID_17d9dcd44</td>\n",
              "      <td>60000.0</td>\n",
              "      <td>0</td>\n",
              "      <td>3</td>\n",
              "      <td>0</td>\n",
              "      <td>1</td>\n",
              "      <td>0</td>\n",
              "      <td>0</td>\n",
              "      <td>NaN</td>\n",
              "      <td>0</td>\n",
              "      <td>...</td>\n",
              "      <td>49</td>\n",
              "      <td>9</td>\n",
              "      <td>0</td>\n",
              "      <td>4</td>\n",
              "      <td>9.0</td>\n",
              "      <td>4.0</td>\n",
              "      <td>25.0</td>\n",
              "      <td>49</td>\n",
              "      <td>2</td>\n",
              "      <td>1</td>\n",
              "    </tr>\n",
              "    <tr>\n",
              "      <th>284</th>\n",
              "      <td>ID_e78621924</td>\n",
              "      <td>60000.0</td>\n",
              "      <td>0</td>\n",
              "      <td>3</td>\n",
              "      <td>0</td>\n",
              "      <td>1</td>\n",
              "      <td>0</td>\n",
              "      <td>0</td>\n",
              "      <td>NaN</td>\n",
              "      <td>0</td>\n",
              "      <td>...</td>\n",
              "      <td>4</td>\n",
              "      <td>9</td>\n",
              "      <td>0</td>\n",
              "      <td>4</td>\n",
              "      <td>9.0</td>\n",
              "      <td>4.0</td>\n",
              "      <td>25.0</td>\n",
              "      <td>4</td>\n",
              "      <td>2</td>\n",
              "      <td>1</td>\n",
              "    </tr>\n",
              "  </tbody>\n",
              "</table>\n",
              "<p>2 rows × 144 columns</p>\n",
              "</div>\n",
              "      <button class=\"colab-df-convert\" onclick=\"convertToInteractive('df-c4984d13-ecfb-47de-bce3-2b6fdbcf6eda')\"\n",
              "              title=\"Convert this dataframe to an interactive table.\"\n",
              "              style=\"display:none;\">\n",
              "        \n",
              "  <svg xmlns=\"http://www.w3.org/2000/svg\" height=\"24px\"viewBox=\"0 0 24 24\"\n",
              "       width=\"24px\">\n",
              "    <path d=\"M0 0h24v24H0V0z\" fill=\"none\"/>\n",
              "    <path d=\"M18.56 5.44l.94 2.06.94-2.06 2.06-.94-2.06-.94-.94-2.06-.94 2.06-2.06.94zm-11 1L8.5 8.5l.94-2.06 2.06-.94-2.06-.94L8.5 2.5l-.94 2.06-2.06.94zm10 10l.94 2.06.94-2.06 2.06-.94-2.06-.94-.94-2.06-.94 2.06-2.06.94z\"/><path d=\"M17.41 7.96l-1.37-1.37c-.4-.4-.92-.59-1.43-.59-.52 0-1.04.2-1.43.59L10.3 9.45l-7.72 7.72c-.78.78-.78 2.05 0 2.83L4 21.41c.39.39.9.59 1.41.59.51 0 1.02-.2 1.41-.59l7.78-7.78 2.81-2.81c.8-.78.8-2.07 0-2.86zM5.41 20L4 18.59l7.72-7.72 1.47 1.35L5.41 20z\"/>\n",
              "  </svg>\n",
              "      </button>\n",
              "      \n",
              "  <style>\n",
              "    .colab-df-container {\n",
              "      display:flex;\n",
              "      flex-wrap:wrap;\n",
              "      gap: 12px;\n",
              "    }\n",
              "\n",
              "    .colab-df-convert {\n",
              "      background-color: #E8F0FE;\n",
              "      border: none;\n",
              "      border-radius: 50%;\n",
              "      cursor: pointer;\n",
              "      display: none;\n",
              "      fill: #1967D2;\n",
              "      height: 32px;\n",
              "      padding: 0 0 0 0;\n",
              "      width: 32px;\n",
              "    }\n",
              "\n",
              "    .colab-df-convert:hover {\n",
              "      background-color: #E2EBFA;\n",
              "      box-shadow: 0px 1px 2px rgba(60, 64, 67, 0.3), 0px 1px 3px 1px rgba(60, 64, 67, 0.15);\n",
              "      fill: #174EA6;\n",
              "    }\n",
              "\n",
              "    [theme=dark] .colab-df-convert {\n",
              "      background-color: #3B4455;\n",
              "      fill: #D2E3FC;\n",
              "    }\n",
              "\n",
              "    [theme=dark] .colab-df-convert:hover {\n",
              "      background-color: #434B5C;\n",
              "      box-shadow: 0px 1px 3px 1px rgba(0, 0, 0, 0.15);\n",
              "      filter: drop-shadow(0px 1px 2px rgba(0, 0, 0, 0.3));\n",
              "      fill: #FFFFFF;\n",
              "    }\n",
              "  </style>\n",
              "\n",
              "      <script>\n",
              "        const buttonEl =\n",
              "          document.querySelector('#df-c4984d13-ecfb-47de-bce3-2b6fdbcf6eda button.colab-df-convert');\n",
              "        buttonEl.style.display =\n",
              "          google.colab.kernel.accessAllowed ? 'block' : 'none';\n",
              "\n",
              "        async function convertToInteractive(key) {\n",
              "          const element = document.querySelector('#df-c4984d13-ecfb-47de-bce3-2b6fdbcf6eda');\n",
              "          const dataTable =\n",
              "            await google.colab.kernel.invokeFunction('convertToInteractive',\n",
              "                                                     [key], {});\n",
              "          if (!dataTable) return;\n",
              "\n",
              "          const docLinkHtml = 'Like what you see? Visit the ' +\n",
              "            '<a target=\"_blank\" href=https://colab.research.google.com/notebooks/data_table.ipynb>data table notebook</a>'\n",
              "            + ' to learn more about interactive tables.';\n",
              "          element.innerHTML = '';\n",
              "          dataTable['output_type'] = 'display_data';\n",
              "          await google.colab.output.renderOutput(dataTable, element);\n",
              "          const docLink = document.createElement('div');\n",
              "          docLink.innerHTML = docLinkHtml;\n",
              "          element.appendChild(docLink);\n",
              "        }\n",
              "      </script>\n",
              "    </div>\n",
              "  </div>\n",
              "  "
            ]
          },
          "metadata": {},
          "execution_count": 16
        }
      ]
    },
    {
      "cell_type": "code",
      "source": [
        "_parentesco0.drop('Target', axis=1, inplace=True)\n",
        "_parentesco0 =_parentesco0.rename(columns={'Target_v2' : 'Target'})\n",
        "_parentesco0 = _parentesco0[_parentesco1.columns.tolist()]"
      ],
      "metadata": {
        "id": "kAoUMIpTacTI"
      },
      "execution_count": null,
      "outputs": []
    },
    {
      "cell_type": "code",
      "source": [
        "train_v2 = pd.concat([_parentesco0, _parentesco1], axis=0)"
      ],
      "metadata": {
        "id": "ha6boCiJaqK6"
      },
      "execution_count": null,
      "outputs": []
    },
    {
      "cell_type": "code",
      "source": [
        "train_v2.Target.value_counts()\n",
        "#train(old버전전)\n",
        "# 4    5996\n",
        "# 2    1597\n",
        "# 3    1209\n",
        "# 1     755"
      ],
      "metadata": {
        "colab": {
          "base_uri": "https://localhost:8080/"
        },
        "id": "gpAqh7UFeFjh",
        "outputId": "3db87be5-96ae-480e-de72-0c4185c2d301"
      },
      "execution_count": null,
      "outputs": [
        {
          "output_type": "execute_result",
          "data": {
            "text/plain": [
              "4    6001\n",
              "2    1558\n",
              "3    1201\n",
              "1     774\n",
              "Name: Target, dtype: int64"
            ]
          },
          "metadata": {},
          "execution_count": 19
        }
      ]
    },
    {
      "cell_type": "code",
      "source": [
        "import matplotlib.pyplot as plt\n",
        "plt.bar(train_v2.Target.value_counts().index, train_v2.Target.value_counts().values, width=0.8, bottom= None, align='center')\n",
        "plt.show()\n",
        "'''클래스 수를 고려해서 train,valid 나눠야 함함'''"
      ],
      "metadata": {
        "colab": {
          "base_uri": "https://localhost:8080/",
          "height": 448
        },
        "id": "OOppvtKVfGqw",
        "outputId": "7fa332fe-e6db-4f86-cc33-c35d3a227824"
      },
      "execution_count": null,
      "outputs": [
        {
          "output_type": "display_data",
          "data": {
            "text/plain": [
              "<Figure size 640x480 with 1 Axes>"
            ],
            "image/png": "[encoded data removed]"
          },
          "metadata": {}
        },
        {
          "output_type": "execute_result",
          "data": {
            "text/plain": [
              "'클래스 수를 고려해서 train,valid 나눠야 함함'"
            ],
            "application/vnd.google.colaboratory.intrinsic+json": {
              "type": "string"
            }
          },
          "metadata": {},
          "execution_count": 20
        }
      ]
    },
    {
      "cell_type": "markdown",
      "source": [
        "### 전처리\n"
      ],
      "metadata": {
        "id": "xktLrTYOeTyr"
      }
    },
    {
      "cell_type": "code",
      "source": [
        "len(train_v2)"
      ],
      "metadata": {
        "colab": {
          "base_uri": "https://localhost:8080/"
        },
        "id": "8MAlso01eesk",
        "outputId": "557fa9a3-b150-4b2e-e6c4-3449795371f5"
      },
      "execution_count": null,
      "outputs": [
        {
          "output_type": "execute_result",
          "data": {
            "text/plain": [
              "9534"
            ]
          },
          "metadata": {},
          "execution_count": 21
        }
      ]
    },
    {
      "cell_type": "code",
      "source": [
        "back_train = train_v2.copy()"
      ],
      "metadata": {
        "id": "x374sZfexdLY"
      },
      "execution_count": null,
      "outputs": []
    },
    {
      "cell_type": "code",
      "source": [
        "train_v2.isna().sum().sort_values(ascending=False)[:10]\n",
        "#rez_Esc 학교로부터 몇년뒤\n",
        "#v18q1 가구가 소유한 태블릿 수\n",
        "#v2a1 월세"
      ],
      "metadata": {
        "colab": {
          "base_uri": "https://localhost:8080/"
        },
        "id": "MIlBfNPC_qVG",
        "outputId": "85963eee-0275-4523-9e73-84cfb7ae5ed7"
      },
      "execution_count": null,
      "outputs": [
        {
          "output_type": "execute_result",
          "data": {
            "text/plain": [
              "rez_esc         7921\n",
              "v18q1           7319\n",
              "v2a1            6843\n",
              "SQBmeaned          5\n",
              "meaneduc           5\n",
              "Id                 0\n",
              "hogar_adul         0\n",
              "parentesco10       0\n",
              "parentesco11       0\n",
              "parentesco12       0\n",
              "dtype: int64"
            ]
          },
          "metadata": {},
          "execution_count": 23
        }
      ]
    },
    {
      "cell_type": "code",
      "source": [
        "train_v2.drop(['rez_esc', 'v18q1', 'v2a1'], axis=1, inplace=True)"
      ],
      "metadata": {
        "id": "I04pNCkaekXT"
      },
      "execution_count": null,
      "outputs": []
    },
    {
      "cell_type": "code",
      "source": [
        "train_v2.info()"
      ],
      "metadata": {
        "colab": {
          "base_uri": "https://localhost:8080/"
        },
        "id": "C7xUByy-b5mg",
        "outputId": "84f7d203-2e0c-4e2c-d668-129ddbb2de2e"
      },
      "execution_count": null,
      "outputs": [
        {
          "output_type": "stream",
          "name": "stdout",
          "text": [
            "<class 'pandas.core.frame.DataFrame'>\n",
            "Int64Index: 9534 entries, 3 to 9552\n",
            "Columns: 140 entries, Id to Target\n",
            "dtypes: float64(5), int64(130), object(5)\n",
            "memory usage: 10.3+ MB\n"
          ]
        }
      ]
    },
    {
      "cell_type": "code",
      "source": [
        "'''왜 boxplot이 안그려지지'''\n",
        "# plt.boxplot(train_v2['meaneduc'])\n",
        "# #plt.title('SQBmeaned')\n",
        "# plt.show()\n",
        "plt.hist('meaneduc',data=train_v2)"
      ],
      "metadata": {
        "colab": {
          "base_uri": "https://localhost:8080/",
          "height": 503
        },
        "id": "HynbnDJ6e218",
        "outputId": "759ac88e-d889-4334-92b8-900a45cc7d2f"
      },
      "execution_count": null,
      "outputs": [
        {
          "output_type": "execute_result",
          "data": {
            "text/plain": [
              "(array([6.860e+02, 2.671e+03, 3.507e+03, 1.687e+03, 7.640e+02, 1.630e+02,\n",
              "        3.200e+01, 1.400e+01, 2.000e+00, 3.000e+00]),\n",
              " array([ 0. ,  3.7,  7.4, 11.1, 14.8, 18.5, 22.2, 25.9, 29.6, 33.3, 37. ]),\n",
              " <BarContainer object of 10 artists>)"
            ]
          },
          "metadata": {},
          "execution_count": 26
        },
        {
          "output_type": "display_data",
          "data": {
            "text/plain": [
              "<Figure size 640x480 with 1 Axes>"
            ],
            "image/png": "[encoded data removed]"
          },
          "metadata": {}
        }
      ]
    },
    {
      "cell_type": "code",
      "source": [
        "# plt.boxplot(train_v2['SQBmeaned'])\n",
        "# #plt.title('SQBmeaned')\n",
        "# plt.show()\n",
        "plt.hist('SQBmeaned',data=train_v2)"
      ],
      "metadata": {
        "colab": {
          "base_uri": "https://localhost:8080/",
          "height": 522
        },
        "id": "biSXs73ugboW",
        "outputId": "a6cf0d92-3d8a-4fe6-a7db-56dac763697a"
      },
      "execution_count": null,
      "outputs": [
        {
          "output_type": "execute_result",
          "data": {
            "text/plain": [
              "(array([7.194e+03, 1.939e+03, 2.780e+02, 8.000e+01, 1.900e+01, 7.000e+00,\n",
              "        7.000e+00, 2.000e+00, 0.000e+00, 3.000e+00]),\n",
              " array([   0. ,  136.9,  273.8,  410.7,  547.6,  684.5,  821.4,  958.3,\n",
              "        1095.2, 1232.1, 1369. ]),\n",
              " <BarContainer object of 10 artists>)"
            ]
          },
          "metadata": {},
          "execution_count": 27
        },
        {
          "output_type": "display_data",
          "data": {
            "text/plain": [
              "<Figure size 640x480 with 1 Axes>"
            ],
            "image/png": "[encoded data removed]"
          },
          "metadata": {}
        }
      ]
    },
    {
      "cell_type": "code",
      "source": [
        "m_mean = train_v2.meaneduc.mean()\n",
        "m_mean\n",
        "train_v2.meaneduc = train_v2.meaneduc.fillna(m_mean)\n"
      ],
      "metadata": {
        "id": "9GDwldUVg4Qd"
      },
      "execution_count": null,
      "outputs": []
    },
    {
      "cell_type": "code",
      "source": [
        "s_mode =  train_v2.SQBmeaned.value_counts().sort_values(ascending=False).index[0] # index[0]임\n",
        "train_v2.SQBmeaned = train_v2.SQBmeaned.fillna(s_mode)"
      ],
      "metadata": {
        "id": "xXnM2ZR2h4IS"
      },
      "execution_count": null,
      "outputs": []
    },
    {
      "cell_type": "code",
      "source": [
        "corr_df = train_v2.corr()\n",
        "corr_df = corr_df.apply(lambda x: round(x ,2))\n",
        "corr_df_t = corr_df['Target']\n",
        "# corr_df_t[corr_df_t>0.5]\n",
        "# corr_df_t[corr_df_t<-0.5]"
      ],
      "metadata": {
        "colab": {
          "base_uri": "https://localhost:8080/"
        },
        "id": "jiWby_ZqjvQ7",
        "outputId": "0b8c36b3-99af-4753-bc44-1d7eabbed922"
      },
      "execution_count": null,
      "outputs": [
        {
          "output_type": "stream",
          "name": "stderr",
          "text": [
            "<ipython-input-30-697ec1bf3aed>:1: FutureWarning: The default value of numeric_only in DataFrame.corr is deprecated. In a future version, it will default to False. Select only valid columns or specify the value of numeric_only to silence this warning.\n",
            "  corr_df = train_v2.corr()\n"
          ]
        }
      ]
    },
    {
      "cell_type": "code",
      "source": [
        "corr_df_t.sort_values(ascending=False)[:10]"
      ],
      "metadata": {
        "colab": {
          "base_uri": "https://localhost:8080/"
        },
        "id": "JvM1FrpxKJgg",
        "outputId": "12bfb868-b08e-43d1-f759-3c9a6dea45bc"
      },
      "execution_count": null,
      "outputs": [
        {
          "output_type": "execute_result",
          "data": {
            "text/plain": [
              "Target         1.00\n",
              "meaneduc       0.34\n",
              "escolari       0.31\n",
              "cielorazo      0.31\n",
              "SQBescolari    0.30\n",
              "eviv3          0.30\n",
              "epared3        0.29\n",
              "pisomoscer     0.28\n",
              "SQBmeaned      0.28\n",
              "etecho3        0.26\n",
              "Name: Target, dtype: float64"
            ]
          },
          "metadata": {},
          "execution_count": 31
        }
      ]
    },
    {
      "cell_type": "code",
      "source": [
        "plt.hist(corr_df_t)"
      ],
      "metadata": {
        "colab": {
          "base_uri": "https://localhost:8080/",
          "height": 503
        },
        "id": "HFflwW14laF4",
        "outputId": "278aa3ec-b263-4cc8-8d3b-7a4025df669a"
      },
      "execution_count": null,
      "outputs": [
        {
          "output_type": "execute_result",
          "data": {
            "text/plain": [
              "(array([11., 35., 52., 21., 13.,  1.,  0.,  0.,  0.,  1.]),\n",
              " array([-0.33 , -0.197, -0.064,  0.069,  0.202,  0.335,  0.468,  0.601,\n",
              "         0.734,  0.867,  1.   ]),\n",
              " <BarContainer object of 10 artists>)"
            ]
          },
          "metadata": {},
          "execution_count": 32
        },
        {
          "output_type": "display_data",
          "data": {
            "text/plain": [
              "<Figure size 640x480 with 1 Axes>"
            ],
            "image/png": "[encoded data removed]"
          },
          "metadata": {}
        }
      ]
    },
    {
      "cell_type": "code",
      "source": [
        "train_v2.select_dtypes(\"object\")\n",
        "# dependency 의존도\n",
        "# edjefe 남성 가장의 교육년수\n",
        "# edjefa 여성 가장의 학력"
      ],
      "metadata": {
        "colab": {
          "base_uri": "https://localhost:8080/",
          "height": 424
        },
        "id": "hH4hlJJcoJu9",
        "outputId": "bd773470-e3eb-493c-e8c4-dcc588511699"
      },
      "execution_count": null,
      "outputs": [
        {
          "output_type": "execute_result",
          "data": {
            "text/plain": [
              "                Id    idhogar dependency edjefe edjefa\n",
              "3     ID_d671db89c  2b58d945f        yes     11     no\n",
              "4     ID_d56d6f5f5  2b58d945f        yes     11     no\n",
              "6     ID_e9e0c1100  2b58d945f        yes     11     no\n",
              "7     ID_3e04e571e  d6dae86b7        yes      9     no\n",
              "9     ID_51f52fdd2  d6dae86b7        yes      9     no\n",
              "...            ...        ...        ...    ...    ...\n",
              "9535  ID_18b0a845b  9bbf7c6ca        1.5     no      5\n",
              "9541  ID_a31274054  e87e70c06        1.5      2     no\n",
              "9545  ID_32a00a8bf  a8eeafc29  .66666669      2     no\n",
              "9551  ID_79d39dddc  212db6f6c        yes     no     no\n",
              "9552  ID_d45ae367d  d6c086aa3        .25      9     no\n",
              "\n",
              "[9534 rows x 5 columns]"
            ],
            "text/html": [
              "\n",
              "  <div id=\"df-4ef3e23a-ea30-4670-8102-bd4756dcdb17\">\n",
              "    <div class=\"colab-df-container\">\n",
              "      <div>\n",
              "<style scoped>\n",
              "    .dataframe tbody tr th:only-of-type {\n",
              "        vertical-align: middle;\n",
              "    }\n",
              "\n",
              "    .dataframe tbody tr th {\n",
              "        vertical-align: top;\n",
              "    }\n",
              "\n",
              "    .dataframe thead th {\n",
              "        text-align: right;\n",
              "    }\n",
              "</style>\n",
              "<table border=\"1\" class=\"dataframe\">\n",
              "  <thead>\n",
              "    <tr style=\"text-align: right;\">\n",
              "      <th></th>\n",
              "      <th>Id</th>\n",
              "      <th>idhogar</th>\n",
              "      <th>dependency</th>\n",
              "      <th>edjefe</th>\n",
              "      <th>edjefa</th>\n",
              "    </tr>\n",
              "  </thead>\n",
              "  <tbody>\n",
              "    <tr>\n",
              "      <th>3</th>\n",
              "      <td>ID_d671db89c</td>\n",
              "      <td>2b58d945f</td>\n",
              "      <td>yes</td>\n",
              "      <td>11</td>\n",
              "      <td>no</td>\n",
              "    </tr>\n",
              "    <tr>\n",
              "      <th>4</th>\n",
              "      <td>ID_d56d6f5f5</td>\n",
              "      <td>2b58d945f</td>\n",
              "      <td>yes</td>\n",
              "      <td>11</td>\n",
              "      <td>no</td>\n",
              "    </tr>\n",
              "    <tr>\n",
              "      <th>6</th>\n",
              "      <td>ID_e9e0c1100</td>\n",
              "      <td>2b58d945f</td>\n",
              "      <td>yes</td>\n",
              "      <td>11</td>\n",
              "      <td>no</td>\n",
              "    </tr>\n",
              "    <tr>\n",
              "      <th>7</th>\n",
              "      <td>ID_3e04e571e</td>\n",
              "      <td>d6dae86b7</td>\n",
              "      <td>yes</td>\n",
              "      <td>9</td>\n",
              "      <td>no</td>\n",
              "    </tr>\n",
              "    <tr>\n",
              "      <th>9</th>\n",
              "      <td>ID_51f52fdd2</td>\n",
              "      <td>d6dae86b7</td>\n",
              "      <td>yes</td>\n",
              "      <td>9</td>\n",
              "      <td>no</td>\n",
              "    </tr>\n",
              "    <tr>\n",
              "      <th>...</th>\n",
              "      <td>...</td>\n",
              "      <td>...</td>\n",
              "      <td>...</td>\n",
              "      <td>...</td>\n",
              "      <td>...</td>\n",
              "    </tr>\n",
              "    <tr>\n",
              "      <th>9535</th>\n",
              "      <td>ID_18b0a845b</td>\n",
              "      <td>9bbf7c6ca</td>\n",
              "      <td>1.5</td>\n",
              "      <td>no</td>\n",
              "      <td>5</td>\n",
              "    </tr>\n",
              "    <tr>\n",
              "      <th>9541</th>\n",
              "      <td>ID_a31274054</td>\n",
              "      <td>e87e70c06</td>\n",
              "      <td>1.5</td>\n",
              "      <td>2</td>\n",
              "      <td>no</td>\n",
              "    </tr>\n",
              "    <tr>\n",
              "      <th>9545</th>\n",
              "      <td>ID_32a00a8bf</td>\n",
              "      <td>a8eeafc29</td>\n",
              "      <td>.66666669</td>\n",
              "      <td>2</td>\n",
              "      <td>no</td>\n",
              "    </tr>\n",
              "    <tr>\n",
              "      <th>9551</th>\n",
              "      <td>ID_79d39dddc</td>\n",
              "      <td>212db6f6c</td>\n",
              "      <td>yes</td>\n",
              "      <td>no</td>\n",
              "      <td>no</td>\n",
              "    </tr>\n",
              "    <tr>\n",
              "      <th>9552</th>\n",
              "      <td>ID_d45ae367d</td>\n",
              "      <td>d6c086aa3</td>\n",
              "      <td>.25</td>\n",
              "      <td>9</td>\n",
              "      <td>no</td>\n",
              "    </tr>\n",
              "  </tbody>\n",
              "</table>\n",
              "<p>9534 rows × 5 columns</p>\n",
              "</div>\n",
              "      <button class=\"colab-df-convert\" onclick=\"convertToInteractive('df-4ef3e23a-ea30-4670-8102-bd4756dcdb17')\"\n",
              "              title=\"Convert this dataframe to an interactive table.\"\n",
              "              style=\"display:none;\">\n",
              "        \n",
              "  <svg xmlns=\"http://www.w3.org/2000/svg\" height=\"24px\"viewBox=\"0 0 24 24\"\n",
              "       width=\"24px\">\n",
              "    <path d=\"M0 0h24v24H0V0z\" fill=\"none\"/>\n",
              "    <path d=\"M18.56 5.44l.94 2.06.94-2.06 2.06-.94-2.06-.94-.94-2.06-.94 2.06-2.06.94zm-11 1L8.5 8.5l.94-2.06 2.06-.94-2.06-.94L8.5 2.5l-.94 2.06-2.06.94zm10 10l.94 2.06.94-2.06 2.06-.94-2.06-.94-.94-2.06-.94 2.06-2.06.94z\"/><path d=\"M17.41 7.96l-1.37-1.37c-.4-.4-.92-.59-1.43-.59-.52 0-1.04.2-1.43.59L10.3 9.45l-7.72 7.72c-.78.78-.78 2.05 0 2.83L4 21.41c.39.39.9.59 1.41.59.51 0 1.02-.2 1.41-.59l7.78-7.78 2.81-2.81c.8-.78.8-2.07 0-2.86zM5.41 20L4 18.59l7.72-7.72 1.47 1.35L5.41 20z\"/>\n",
              "  </svg>\n",
              "      </button>\n",
              "      \n",
              "  <style>\n",
              "    .colab-df-container {\n",
              "      display:flex;\n",
              "      flex-wrap:wrap;\n",
              "      gap: 12px;\n",
              "    }\n",
              "\n",
              "    .colab-df-convert {\n",
              "      background-color: #E8F0FE;\n",
              "      border: none;\n",
              "      border-radius: 50%;\n",
              "      cursor: pointer;\n",
              "      display: none;\n",
              "      fill: #1967D2;\n",
              "      height: 32px;\n",
              "      padding: 0 0 0 0;\n",
              "      width: 32px;\n",
              "    }\n",
              "\n",
              "    .colab-df-convert:hover {\n",
              "      background-color: #E2EBFA;\n",
              "      box-shadow: 0px 1px 2px rgba(60, 64, 67, 0.3), 0px 1px 3px 1px rgba(60, 64, 67, 0.15);\n",
              "      fill: #174EA6;\n",
              "    }\n",
              "\n",
              "    [theme=dark] .colab-df-convert {\n",
              "      background-color: #3B4455;\n",
              "      fill: #D2E3FC;\n",
              "    }\n",
              "\n",
              "    [theme=dark] .colab-df-convert:hover {\n",
              "      background-color: #434B5C;\n",
              "      box-shadow: 0px 1px 3px 1px rgba(0, 0, 0, 0.15);\n",
              "      filter: drop-shadow(0px 1px 2px rgba(0, 0, 0, 0.3));\n",
              "      fill: #FFFFFF;\n",
              "    }\n",
              "  </style>\n",
              "\n",
              "      <script>\n",
              "        const buttonEl =\n",
              "          document.querySelector('#df-4ef3e23a-ea30-4670-8102-bd4756dcdb17 button.colab-df-convert');\n",
              "        buttonEl.style.display =\n",
              "          google.colab.kernel.accessAllowed ? 'block' : 'none';\n",
              "\n",
              "        async function convertToInteractive(key) {\n",
              "          const element = document.querySelector('#df-4ef3e23a-ea30-4670-8102-bd4756dcdb17');\n",
              "          const dataTable =\n",
              "            await google.colab.kernel.invokeFunction('convertToInteractive',\n",
              "                                                     [key], {});\n",
              "          if (!dataTable) return;\n",
              "\n",
              "          const docLinkHtml = 'Like what you see? Visit the ' +\n",
              "            '<a target=\"_blank\" href=https://colab.research.google.com/notebooks/data_table.ipynb>data table notebook</a>'\n",
              "            + ' to learn more about interactive tables.';\n",
              "          element.innerHTML = '';\n",
              "          dataTable['output_type'] = 'display_data';\n",
              "          await google.colab.output.renderOutput(dataTable, element);\n",
              "          const docLink = document.createElement('div');\n",
              "          docLink.innerHTML = docLinkHtml;\n",
              "          element.appendChild(docLink);\n",
              "        }\n",
              "      </script>\n",
              "    </div>\n",
              "  </div>\n",
              "  "
            ]
          },
          "metadata": {},
          "execution_count": 33
        }
      ]
    },
    {
      "cell_type": "code",
      "source": [
        "backuptrain = train_v2.copy() # 전처리 중간 중간간백업용 만들어놓기"
      ],
      "metadata": {
        "id": "h2EiqmflvrSl"
      },
      "execution_count": null,
      "outputs": []
    },
    {
      "cell_type": "code",
      "source": [
        "# 이상치 처리 가능한가? \n",
        "# import numpy as np\n",
        "# depend = train_v2[(train_v2['dependency']!='yes') &(train_v2['dependency']!='no')]['dependency'].astype(float)\n",
        "# qua_1, qua_3 = np.percentile(depend, [25,75])\n",
        "# iqr = qua_3 - qua_1\n",
        "# lower_whis=qua_1 -(iqr*1.5)\n",
        "# upper_whis=qua_3 +(iqr*1.5)\n",
        "# lower_whis, upper_whis"
      ],
      "metadata": {
        "id": "R-gljeh3rmB3"
      },
      "execution_count": null,
      "outputs": []
    },
    {
      "cell_type": "code",
      "source": [
        "#train_v2.dependency.max() ouput : 'yes'\n",
        "depend = train_v2[(train_v2['dependency']!='yes') &(train_v2['dependency']!='no')]['dependency'].astype(float)\n",
        "d_max = max(depend)\n",
        "d_min = min(depend)\n",
        "d_max, d_min"
      ],
      "metadata": {
        "colab": {
          "base_uri": "https://localhost:8080/"
        },
        "id": "_kzHPKMGqLVq",
        "outputId": "3ca2a9af-b3e2-43fd-d749-c01c3d57a27c"
      },
      "execution_count": null,
      "outputs": [
        {
          "output_type": "execute_result",
          "data": {
            "text/plain": [
              "(8.0, 0.16666667)"
            ]
          },
          "metadata": {},
          "execution_count": 36
        }
      ]
    },
    {
      "cell_type": "code",
      "source": [
        "train_v2.dependency = train_v2.dependency.map(lambda x : d_max if x==\"yes\" else d_min if x==\"no\" else x ).astype(float)"
      ],
      "metadata": {
        "id": "3M2G_in1q11N"
      },
      "execution_count": null,
      "outputs": []
    },
    {
      "cell_type": "code",
      "source": [
        "edjefe = train_v2[(train_v2['edjefe']!='yes') &(train_v2['edjefe']!='no')]['edjefe'].astype(float)\n",
        "plt.hist(edjefe)\n",
        "e_median = edjefe.median()\n",
        "train_v2.edjefe = train_v2.edjefe.map(lambda x : e_median if x==\"yes\" else 0 if x==\"no\" else x ).astype(float)\n"
      ],
      "metadata": {
        "colab": {
          "base_uri": "https://localhost:8080/",
          "height": 430
        },
        "id": "Ubh--leGt6cT",
        "outputId": "701b916c-7ebb-49e5-e414-6aa114f05c00"
      },
      "execution_count": null,
      "outputs": [
        {
          "output_type": "display_data",
          "data": {
            "text/plain": [
              "<Figure size 640x480 with 1 Axes>"
            ],
            "image/png": "[encoded data removed]"
          },
          "metadata": {}
        }
      ]
    },
    {
      "cell_type": "code",
      "source": [
        "edjefa = train_v2[(train_v2['edjefa']!='yes') &(train_v2['edjefa']!='no')]['edjefa'].astype(float)\n",
        "plt.hist(edjefa)\n",
        "e_median = edjefa.median()\n",
        "train_v2.edjefa = train_v2.edjefa.map(lambda x : e_median if x==\"yes\" else 0 if x==\"no\" else x ).astype(float)\n",
        "e_median"
      ],
      "metadata": {
        "colab": {
          "base_uri": "https://localhost:8080/",
          "height": 448
        },
        "id": "laAzeRyGvO7V",
        "outputId": "ab222f6d-4820-49a6-ae48-646a64b634ea"
      },
      "execution_count": null,
      "outputs": [
        {
          "output_type": "execute_result",
          "data": {
            "text/plain": [
              "7.0"
            ]
          },
          "metadata": {},
          "execution_count": 39
        },
        {
          "output_type": "display_data",
          "data": {
            "text/plain": [
              "<Figure size 640x480 with 1 Axes>"
            ],
            "image/png": "[encoded data removed]"
          },
          "metadata": {}
        }
      ]
    },
    {
      "cell_type": "markdown",
      "source": [
        "### 머신러닝 모델 선정정"
      ],
      "metadata": {
        "id": "ZDyYEWWVmlWq"
      }
    },
    {
      "cell_type": "code",
      "source": [
        "'''소프트맥스 회귀 다중 분류'''\n",
        "from sklearn.model_selection import train_test_split\n",
        "\n",
        "feature_columns = list(train_v2.columns.difference(['Id', 'idhogar','Target']))\n",
        "x = train_v2[feature_columns]\n",
        "y=train_v2['Target']\n",
        "\n",
        "'''층화 추출법'''\n",
        "train_x, test_x, train_y, test_y = train_test_split(x,y, stratify=y, train_size=0.7, random_state=1)\n",
        "print(train_x.shape, test_x.shape, train_y.shape, test_y.shape)"
      ],
      "metadata": {
        "colab": {
          "base_uri": "https://localhost:8080/"
        },
        "id": "r4UtLPy4j3ox",
        "outputId": "eb1c64c9-d5ec-4979-cb00-e3ef47926e58"
      },
      "execution_count": null,
      "outputs": [
        {
          "output_type": "stream",
          "name": "stdout",
          "text": [
            "(6673, 137) (2861, 137) (6673,) (2861,)\n"
          ]
        }
      ]
    },
    {
      "cell_type": "markdown",
      "source": [
        "##### 1. 소프트맥스 회귀 다중 분류류"
      ],
      "metadata": {
        "id": "BfY-GlgceerA"
      }
    },
    {
      "cell_type": "code",
      "source": [
        "from sklearn.preprocessing import StandardScaler\n",
        "\n",
        "scaler = StandardScaler()\n",
        "train_x_scal = scaler.fit_transform(train_x)"
      ],
      "metadata": {
        "id": "TrlvaFCXex7b"
      },
      "execution_count": null,
      "outputs": []
    },
    {
      "cell_type": "code",
      "source": [
        "'''\n",
        "lbfgs약자: \"제한된 메모리 Broyden–Fletcher–Goldfarb–Shanno 알고리즘\". Scikit-Learn Library에서 제공하는 솔버 알고리즘 중 하나입니다.\n",
        "\n",
        "제한된 메모리라는 용어는 단순히 그래디언트 근사치를 암시적으로 나타내는 몇 개의 벡터만 저장한다는 의미입니다 .\n",
        "\n",
        "상대적으로 작은 데이터 세트 에서 더 잘 수렴 됩니다 .\n",
        "'''"
      ],
      "metadata": {
        "id": "rx-wp1cozJ4D",
        "colab": {
          "base_uri": "https://localhost:8080/",
          "height": 54
        },
        "outputId": "9259ab4a-3782-4f9c-cd49-bb21e8f226bc"
      },
      "execution_count": null,
      "outputs": [
        {
          "output_type": "execute_result",
          "data": {
            "text/plain": [
              "'\\nlbfgs약자: \"제한된 메모리 Broyden–Fletcher–Goldfarb–Shanno 알고리즘\". Scikit-Learn Library에서 제공하는 솔버 알고리즘 중 하나입니다.\\n\\n제한된 메모리라는 용어는 단순히 그래디언트 근사치를 암시적으로 나타내는 몇 개의 벡터만 저장한다는 의미입니다 .\\n\\n상대적으로 작은 데이터 세트 에서 더 잘 수렴 됩니다 .\\n'"
            ],
            "application/vnd.google.colaboratory.intrinsic+json": {
              "type": "string"
            }
          },
          "metadata": {},
          "execution_count": 42
        }
      ]
    },
    {
      "cell_type": "code",
      "source": [
        "from sklearn.linear_model import LogisticRegression\n",
        "\n",
        "'''scaler 하기전에는 max_iter을 더 크게 잡아도 안돌아갔었는데 스케일 조정 후 돌아감'''\n",
        "softm=LogisticRegression(multi_class='multinomial', solver='lbfgs', C=10, max_iter=5000)\n",
        "softm.fit(train_x_scal, train_y)"
      ],
      "metadata": {
        "colab": {
          "base_uri": "https://localhost:8080/",
          "height": 75
        },
        "id": "0HHGhUd4n26f",
        "outputId": "957678f1-aaa5-4f13-d101-5bfe84a7ae73"
      },
      "execution_count": null,
      "outputs": [
        {
          "output_type": "execute_result",
          "data": {
            "text/plain": [
              "LogisticRegression(C=10, max_iter=5000, multi_class='multinomial')"
            ],
            "text/html": [
              "<style>#sk-container-id-1 {color: black;background-color: white;}#sk-container-id-1 pre{padding: 0;}#sk-container-id-1 div.sk-toggleable {background-color: white;}#sk-container-id-1 label.sk-toggleable__label {cursor: pointer;display: block;width: 100%;margin-bottom: 0;padding: 0.3em;box-sizing: border-box;text-align: center;}#sk-container-id-1 label.sk-toggleable__label-arrow:before {content: \"▸\";float: left;margin-right: 0.25em;color: #696969;}#sk-container-id-1 label.sk-toggleable__label-arrow:hover:before {color: black;}#sk-container-id-1 div.sk-estimator:hover label.sk-toggleable__label-arrow:before {color: black;}#sk-container-id-1 div.sk-toggleable__content {max-height: 0;max-width: 0;overflow: hidden;text-align: left;background-color: #f0f8ff;}#sk-container-id-1 div.sk-toggleable__content pre {margin: 0.2em;color: black;border-radius: 0.25em;background-color: #f0f8ff;}#sk-container-id-1 input.sk-toggleable__control:checked~div.sk-toggleable__content {max-height: 200px;max-width: 100%;overflow: auto;}#sk-container-id-1 input.sk-toggleable__control:checked~label.sk-toggleable__label-arrow:before {content: \"▾\";}#sk-container-id-1 div.sk-estimator input.sk-toggleable__control:checked~label.sk-toggleable__label {background-color: #d4ebff;}#sk-container-id-1 div.sk-label input.sk-toggleable__control:checked~label.sk-toggleable__label {background-color: #d4ebff;}#sk-container-id-1 input.sk-hidden--visually {border: 0;clip: rect(1px 1px 1px 1px);clip: rect(1px, 1px, 1px, 1px);height: 1px;margin: -1px;overflow: hidden;padding: 0;position: absolute;width: 1px;}#sk-container-id-1 div.sk-estimator {font-family: monospace;background-color: #f0f8ff;border: 1px dotted black;border-radius: 0.25em;box-sizing: border-box;margin-bottom: 0.5em;}#sk-container-id-1 div.sk-estimator:hover {background-color: #d4ebff;}#sk-container-id-1 div.sk-parallel-item::after {content: \"\";width: 100%;border-bottom: 1px solid gray;flex-grow: 1;}#sk-container-id-1 div.sk-label:hover label.sk-toggleable__label {background-color: #d4ebff;}#sk-container-id-1 div.sk-serial::before {content: \"\";position: absolute;border-left: 1px solid gray;box-sizing: border-box;top: 0;bottom: 0;left: 50%;z-index: 0;}#sk-container-id-1 div.sk-serial {display: flex;flex-direction: column;align-items: center;background-color: white;padding-right: 0.2em;padding-left: 0.2em;position: relative;}#sk-container-id-1 div.sk-item {position: relative;z-index: 1;}#sk-container-id-1 div.sk-parallel {display: flex;align-items: stretch;justify-content: center;background-color: white;position: relative;}#sk-container-id-1 div.sk-item::before, #sk-container-id-1 div.sk-parallel-item::before {content: \"\";position: absolute;border-left: 1px solid gray;box-sizing: border-box;top: 0;bottom: 0;left: 50%;z-index: -1;}#sk-container-id-1 div.sk-parallel-item {display: flex;flex-direction: column;z-index: 1;position: relative;background-color: white;}#sk-container-id-1 div.sk-parallel-item:first-child::after {align-self: flex-end;width: 50%;}#sk-container-id-1 div.sk-parallel-item:last-child::after {align-self: flex-start;width: 50%;}#sk-container-id-1 div.sk-parallel-item:only-child::after {width: 0;}#sk-container-id-1 div.sk-dashed-wrapped {border: 1px dashed gray;margin: 0 0.4em 0.5em 0.4em;box-sizing: border-box;padding-bottom: 0.4em;background-color: white;}#sk-container-id-1 div.sk-label label {font-family: monospace;font-weight: bold;display: inline-block;line-height: 1.2em;}#sk-container-id-1 div.sk-label-container {text-align: center;}#sk-container-id-1 div.sk-container {/* jupyter's `normalize.less` sets `[hidden] { display: none; }` but bootstrap.min.css set `[hidden] { display: none !important; }` so we also need the `!important` here to be able to override the default hidden behavior on the sphinx rendered scikit-learn.org. See: https://github.com/scikit-learn/scikit-learn/issues/21755 */display: inline-block !important;position: relative;}#sk-container-id-1 div.sk-text-repr-fallback {display: none;}</style><div id=\"sk-container-id-1\" class=\"sk-top-container\"><div class=\"sk-text-repr-fallback\"><pre>LogisticRegression(C=10, max_iter=5000, multi_class=&#x27;multinomial&#x27;)</pre><b>In a Jupyter environment, please rerun this cell to show the HTML representation or trust the notebook. <br />On GitHub, the HTML representation is unable to render, please try loading this page with nbviewer.org.</b></div><div class=\"sk-container\" hidden><div class=\"sk-item\"><div class=\"sk-estimator sk-toggleable\"><input class=\"sk-toggleable__control sk-hidden--visually\" id=\"sk-estimator-id-1\" type=\"checkbox\" checked><label for=\"sk-estimator-id-1\" class=\"sk-toggleable__label sk-toggleable__label-arrow\">LogisticRegression</label><div class=\"sk-toggleable__content\"><pre>LogisticRegression(C=10, max_iter=5000, multi_class=&#x27;multinomial&#x27;)</pre></div></div></div></div></div>"
            ]
          },
          "metadata": {},
          "execution_count": 43
        }
      ]
    },
    {
      "cell_type": "code",
      "source": [
        "from sklearn.metrics import confusion_matrix, accuracy_score, precision_score, recall_score, f1_score\n",
        "test_x_scal=scaler.transform(test_x)\n",
        "pred=softm.predict(test_x_scal)\n",
        "\n",
        "test_cm=confusion_matrix(test_y, pred)\n",
        "test_acc=accuracy_score(test_y, pred)\n",
        "test_prc=precision_score(test_y,pred, average=\"macro\" )\n",
        "test_rcll=recall_score(test_y, pred,  average=\"macro\" )\n",
        "test_f1=f1_score(test_y,pred,  average=\"macro\" )\n",
        "\n",
        "print(test_cm)\n",
        "print('\\n')\n",
        "print('정확도\\t{}%'.format(round(test_acc*100,2)))\n",
        "print('정밀도\\t{}%'.format(round(test_prc*100,2)))\n",
        "print('재현율\\t{}%'.format(round(test_rcll*100,2)))\n",
        "print('F1\\t{}%'.format(round(test_f1*100,2)))"
      ],
      "metadata": {
        "colab": {
          "base_uri": "https://localhost:8080/"
        },
        "id": "UCXTc3a_kIkR",
        "outputId": "88b1421a-5544-4f0f-bed7-b273d42baac3"
      },
      "execution_count": null,
      "outputs": [
        {
          "output_type": "stream",
          "name": "stdout",
          "text": [
            "[[  76   63    9   84]\n",
            " [  33  179   40  216]\n",
            " [  26   56   49  229]\n",
            " [  18   95   29 1659]]\n",
            "\n",
            "\n",
            "정확도\t68.61%\n",
            "정밀도\t52.41%\n",
            "재현율\t44.18%\n",
            "F1\t46.09%\n"
          ]
        }
      ]
    },
    {
      "cell_type": "markdown",
      "source": [
        "#### 2. SVM"
      ],
      "metadata": {
        "id": "PixxK5z4el_X"
      }
    },
    {
      "cell_type": "code",
      "source": [
        "'''SVM은 특성의 스케일에 민감하기 때문에 스케일 조정을 해주겠다.'''"
      ],
      "metadata": {
        "id": "PS7NbBfdelE-",
        "colab": {
          "base_uri": "https://localhost:8080/",
          "height": 35
        },
        "outputId": "b9666784-8a0e-4a1f-d95c-f2b1061f8651"
      },
      "execution_count": null,
      "outputs": [
        {
          "output_type": "execute_result",
          "data": {
            "text/plain": [
              "'SVM은 특성의 스케일에 민감하기 때문에 스케일 조정을 해주겠다.'"
            ],
            "application/vnd.google.colaboratory.intrinsic+json": {
              "type": "string"
            }
          },
          "metadata": {},
          "execution_count": 47
        }
      ]
    },
    {
      "cell_type": "code",
      "source": [
        "from sklearn.svm import SVC\n",
        "clf = SVC(C=0.5)\n",
        "clf.fit(train_x_scal, train_y)"
      ],
      "metadata": {
        "colab": {
          "base_uri": "https://localhost:8080/",
          "height": 75
        },
        "id": "yUiFcYWTfIfQ",
        "outputId": "0545a5d0-15d7-415f-c487-b714ab2b80ea"
      },
      "execution_count": null,
      "outputs": [
        {
          "output_type": "execute_result",
          "data": {
            "text/plain": [
              "SVC(C=0.5)"
            ],
            "text/html": [
              "<style>#sk-container-id-2 {color: black;background-color: white;}#sk-container-id-2 pre{padding: 0;}#sk-container-id-2 div.sk-toggleable {background-color: white;}#sk-container-id-2 label.sk-toggleable__label {cursor: pointer;display: block;width: 100%;margin-bottom: 0;padding: 0.3em;box-sizing: border-box;text-align: center;}#sk-container-id-2 label.sk-toggleable__label-arrow:before {content: \"▸\";float: left;margin-right: 0.25em;color: #696969;}#sk-container-id-2 label.sk-toggleable__label-arrow:hover:before {color: black;}#sk-container-id-2 div.sk-estimator:hover label.sk-toggleable__label-arrow:before {color: black;}#sk-container-id-2 div.sk-toggleable__content {max-height: 0;max-width: 0;overflow: hidden;text-align: left;background-color: #f0f8ff;}#sk-container-id-2 div.sk-toggleable__content pre {margin: 0.2em;color: black;border-radius: 0.25em;background-color: #f0f8ff;}#sk-container-id-2 input.sk-toggleable__control:checked~div.sk-toggleable__content {max-height: 200px;max-width: 100%;overflow: auto;}#sk-container-id-2 input.sk-toggleable__control:checked~label.sk-toggleable__label-arrow:before {content: \"▾\";}#sk-container-id-2 div.sk-estimator input.sk-toggleable__control:checked~label.sk-toggleable__label {background-color: #d4ebff;}#sk-container-id-2 div.sk-label input.sk-toggleable__control:checked~label.sk-toggleable__label {background-color: #d4ebff;}#sk-container-id-2 input.sk-hidden--visually {border: 0;clip: rect(1px 1px 1px 1px);clip: rect(1px, 1px, 1px, 1px);height: 1px;margin: -1px;overflow: hidden;padding: 0;position: absolute;width: 1px;}#sk-container-id-2 div.sk-estimator {font-family: monospace;background-color: #f0f8ff;border: 1px dotted black;border-radius: 0.25em;box-sizing: border-box;margin-bottom: 0.5em;}#sk-container-id-2 div.sk-estimator:hover {background-color: #d4ebff;}#sk-container-id-2 div.sk-parallel-item::after {content: \"\";width: 100%;border-bottom: 1px solid gray;flex-grow: 1;}#sk-container-id-2 div.sk-label:hover label.sk-toggleable__label {background-color: #d4ebff;}#sk-container-id-2 div.sk-serial::before {content: \"\";position: absolute;border-left: 1px solid gray;box-sizing: border-box;top: 0;bottom: 0;left: 50%;z-index: 0;}#sk-container-id-2 div.sk-serial {display: flex;flex-direction: column;align-items: center;background-color: white;padding-right: 0.2em;padding-left: 0.2em;position: relative;}#sk-container-id-2 div.sk-item {position: relative;z-index: 1;}#sk-container-id-2 div.sk-parallel {display: flex;align-items: stretch;justify-content: center;background-color: white;position: relative;}#sk-container-id-2 div.sk-item::before, #sk-container-id-2 div.sk-parallel-item::before {content: \"\";position: absolute;border-left: 1px solid gray;box-sizing: border-box;top: 0;bottom: 0;left: 50%;z-index: -1;}#sk-container-id-2 div.sk-parallel-item {display: flex;flex-direction: column;z-index: 1;position: relative;background-color: white;}#sk-container-id-2 div.sk-parallel-item:first-child::after {align-self: flex-end;width: 50%;}#sk-container-id-2 div.sk-parallel-item:last-child::after {align-self: flex-start;width: 50%;}#sk-container-id-2 div.sk-parallel-item:only-child::after {width: 0;}#sk-container-id-2 div.sk-dashed-wrapped {border: 1px dashed gray;margin: 0 0.4em 0.5em 0.4em;box-sizing: border-box;padding-bottom: 0.4em;background-color: white;}#sk-container-id-2 div.sk-label label {font-family: monospace;font-weight: bold;display: inline-block;line-height: 1.2em;}#sk-container-id-2 div.sk-label-container {text-align: center;}#sk-container-id-2 div.sk-container {/* jupyter's `normalize.less` sets `[hidden] { display: none; }` but bootstrap.min.css set `[hidden] { display: none !important; }` so we also need the `!important` here to be able to override the default hidden behavior on the sphinx rendered scikit-learn.org. See: https://github.com/scikit-learn/scikit-learn/issues/21755 */display: inline-block !important;position: relative;}#sk-container-id-2 div.sk-text-repr-fallback {display: none;}</style><div id=\"sk-container-id-2\" class=\"sk-top-container\"><div class=\"sk-text-repr-fallback\"><pre>SVC(C=0.5)</pre><b>In a Jupyter environment, please rerun this cell to show the HTML representation or trust the notebook. <br />On GitHub, the HTML representation is unable to render, please try loading this page with nbviewer.org.</b></div><div class=\"sk-container\" hidden><div class=\"sk-item\"><div class=\"sk-estimator sk-toggleable\"><input class=\"sk-toggleable__control sk-hidden--visually\" id=\"sk-estimator-id-2\" type=\"checkbox\" checked><label for=\"sk-estimator-id-2\" class=\"sk-toggleable__label sk-toggleable__label-arrow\">SVC</label><div class=\"sk-toggleable__content\"><pre>SVC(C=0.5)</pre></div></div></div></div></div>"
            ]
          },
          "metadata": {},
          "execution_count": 48
        }
      ]
    },
    {
      "cell_type": "code",
      "source": [
        "pred=clf.predict(test_x_scal)\n",
        "'''macro 평균은 클래스별 f1-점수에 가중치를 주지 않는다. 클래스 크기에 상관없이 모든 클래스를 같은 비중으로 다룬다.\n",
        "\n",
        "weighted 평균은 클래스별 샘플 수로 가중치를 두어 f1-점수의 평균을 계산한다.\n",
        "\n",
        "micro 평균은 모든 클래스의 거짓 양성(FP), 거짓 음성(FN), 진짜 양성(TP)의 총 수를 헤아린 다음 정밀도, 재현율, f1-점수를 이 수치로 계산한다.\n",
        "\n",
        "​\n",
        "\n",
        "각 샘플을 똑같이 간주한다며 micr, 각 클래스를 동일한 비중으로 고려한다면 macro 평균이 좋다.'''"
      ],
      "metadata": {
        "id": "5tpQg_7IfIjO",
        "colab": {
          "base_uri": "https://localhost:8080/",
          "height": 72
        },
        "outputId": "76675f6d-c0b9-4b9d-b9c8-e446baf48d78"
      },
      "execution_count": null,
      "outputs": [
        {
          "output_type": "execute_result",
          "data": {
            "text/plain": [
              "'macro 평균은 클래스별 f1-점수에 가중치를 주지 않는다. 클래스 크기에 상관없이 모든 클래스를 같은 비중으로 다룬다.\\n\\nweighted 평균은 클래스별 샘플 수로 가중치를 두어 f1-점수의 평균을 계산한다.\\n\\nmicro 평균은 모든 클래스의 거짓 양성(FP), 거짓 음성(FN), 진짜 양성(TP)의 총 수를 헤아린 다음 정밀도, 재현율, f1-점수를 이 수치로 계산한다.\\n\\n\\u200b\\n\\n각 샘플을 똑같이 간주한다며 micr, 각 클래스를 동일한 비중으로 고려한다면 macro 평균이 좋다.'"
            ],
            "application/vnd.google.colaboratory.intrinsic+json": {
              "type": "string"
            }
          },
          "metadata": {},
          "execution_count": 49
        }
      ]
    },
    {
      "cell_type": "code",
      "source": [
        "test_cm=confusion_matrix(test_y, pred)\n",
        "test_acc=accuracy_score(test_y, pred)\n",
        "test_prc=precision_score(test_y,pred, average=\"macro\" )\n",
        "test_rcll=recall_score(test_y, pred,  average=\"macro\" )\n",
        "test_f1=f1_score(test_y,pred,  average=\"macro\" )\n",
        "\n",
        "print(test_cm)\n",
        "print('\\n')\n",
        "print('정확도\\t{}%'.format(round(test_acc*100,2)))\n",
        "print('정밀도\\t{}%'.format(round(test_prc*100,2)))\n",
        "print('재현율\\t{}%'.format(round(test_rcll*100,2)))\n",
        "print('F1\\t{}%'.format(round(test_f1*100,2)))"
      ],
      "metadata": {
        "colab": {
          "base_uri": "https://localhost:8080/"
        },
        "id": "jE7uia1NfInH",
        "outputId": "98651503-e230-4145-c76e-6933f3533fb4"
      },
      "execution_count": null,
      "outputs": [
        {
          "output_type": "stream",
          "name": "stdout",
          "text": [
            "[[  66   43    0  123]\n",
            " [   1  195    0  272]\n",
            " [   1   29   40  290]\n",
            " [   0   15    0 1786]]\n",
            "\n",
            "\n",
            "정확도\t72.95%\n",
            "정밀도\t84.62%\n",
            "재현율\t45.1%\n",
            "F1\t49.9%\n"
          ]
        }
      ]
    },
    {
      "cell_type": "markdown",
      "source": [
        "#### 3. k-최근접 이웃(KNN)"
      ],
      "metadata": {
        "id": "T9WPZc9JiH8Y"
      }
    },
    {
      "cell_type": "code",
      "source": [
        "from sklearn.neighbors import KNeighborsClassifier\n",
        "\n",
        "clf=KNeighborsClassifier(n_neighbors=15, weights='uniform')\n",
        "clf.fit(train_x_scal, train_y)"
      ],
      "metadata": {
        "colab": {
          "base_uri": "https://localhost:8080/",
          "height": 75
        },
        "id": "1yufXqFOiGYK",
        "outputId": "d5f0957c-9acd-4bcb-cbcd-17ed7ffcc79b"
      },
      "execution_count": null,
      "outputs": [
        {
          "output_type": "execute_result",
          "data": {
            "text/plain": [
              "KNeighborsClassifier(n_neighbors=15)"
            ],
            "text/html": [
              "<style>#sk-container-id-3 {color: black;background-color: white;}#sk-container-id-3 pre{padding: 0;}#sk-container-id-3 div.sk-toggleable {background-color: white;}#sk-container-id-3 label.sk-toggleable__label {cursor: pointer;display: block;width: 100%;margin-bottom: 0;padding: 0.3em;box-sizing: border-box;text-align: center;}#sk-container-id-3 label.sk-toggleable__label-arrow:before {content: \"▸\";float: left;margin-right: 0.25em;color: #696969;}#sk-container-id-3 label.sk-toggleable__label-arrow:hover:before {color: black;}#sk-container-id-3 div.sk-estimator:hover label.sk-toggleable__label-arrow:before {color: black;}#sk-container-id-3 div.sk-toggleable__content {max-height: 0;max-width: 0;overflow: hidden;text-align: left;background-color: #f0f8ff;}#sk-container-id-3 div.sk-toggleable__content pre {margin: 0.2em;color: black;border-radius: 0.25em;background-color: #f0f8ff;}#sk-container-id-3 input.sk-toggleable__control:checked~div.sk-toggleable__content {max-height: 200px;max-width: 100%;overflow: auto;}#sk-container-id-3 input.sk-toggleable__control:checked~label.sk-toggleable__label-arrow:before {content: \"▾\";}#sk-container-id-3 div.sk-estimator input.sk-toggleable__control:checked~label.sk-toggleable__label {background-color: #d4ebff;}#sk-container-id-3 div.sk-label input.sk-toggleable__control:checked~label.sk-toggleable__label {background-color: #d4ebff;}#sk-container-id-3 input.sk-hidden--visually {border: 0;clip: rect(1px 1px 1px 1px);clip: rect(1px, 1px, 1px, 1px);height: 1px;margin: -1px;overflow: hidden;padding: 0;position: absolute;width: 1px;}#sk-container-id-3 div.sk-estimator {font-family: monospace;background-color: #f0f8ff;border: 1px dotted black;border-radius: 0.25em;box-sizing: border-box;margin-bottom: 0.5em;}#sk-container-id-3 div.sk-estimator:hover {background-color: #d4ebff;}#sk-container-id-3 div.sk-parallel-item::after {content: \"\";width: 100%;border-bottom: 1px solid gray;flex-grow: 1;}#sk-container-id-3 div.sk-label:hover label.sk-toggleable__label {background-color: #d4ebff;}#sk-container-id-3 div.sk-serial::before {content: \"\";position: absolute;border-left: 1px solid gray;box-sizing: border-box;top: 0;bottom: 0;left: 50%;z-index: 0;}#sk-container-id-3 div.sk-serial {display: flex;flex-direction: column;align-items: center;background-color: white;padding-right: 0.2em;padding-left: 0.2em;position: relative;}#sk-container-id-3 div.sk-item {position: relative;z-index: 1;}#sk-container-id-3 div.sk-parallel {display: flex;align-items: stretch;justify-content: center;background-color: white;position: relative;}#sk-container-id-3 div.sk-item::before, #sk-container-id-3 div.sk-parallel-item::before {content: \"\";position: absolute;border-left: 1px solid gray;box-sizing: border-box;top: 0;bottom: 0;left: 50%;z-index: -1;}#sk-container-id-3 div.sk-parallel-item {display: flex;flex-direction: column;z-index: 1;position: relative;background-color: white;}#sk-container-id-3 div.sk-parallel-item:first-child::after {align-self: flex-end;width: 50%;}#sk-container-id-3 div.sk-parallel-item:last-child::after {align-self: flex-start;width: 50%;}#sk-container-id-3 div.sk-parallel-item:only-child::after {width: 0;}#sk-container-id-3 div.sk-dashed-wrapped {border: 1px dashed gray;margin: 0 0.4em 0.5em 0.4em;box-sizing: border-box;padding-bottom: 0.4em;background-color: white;}#sk-container-id-3 div.sk-label label {font-family: monospace;font-weight: bold;display: inline-block;line-height: 1.2em;}#sk-container-id-3 div.sk-label-container {text-align: center;}#sk-container-id-3 div.sk-container {/* jupyter's `normalize.less` sets `[hidden] { display: none; }` but bootstrap.min.css set `[hidden] { display: none !important; }` so we also need the `!important` here to be able to override the default hidden behavior on the sphinx rendered scikit-learn.org. See: https://github.com/scikit-learn/scikit-learn/issues/21755 */display: inline-block !important;position: relative;}#sk-container-id-3 div.sk-text-repr-fallback {display: none;}</style><div id=\"sk-container-id-3\" class=\"sk-top-container\"><div class=\"sk-text-repr-fallback\"><pre>KNeighborsClassifier(n_neighbors=15)</pre><b>In a Jupyter environment, please rerun this cell to show the HTML representation or trust the notebook. <br />On GitHub, the HTML representation is unable to render, please try loading this page with nbviewer.org.</b></div><div class=\"sk-container\" hidden><div class=\"sk-item\"><div class=\"sk-estimator sk-toggleable\"><input class=\"sk-toggleable__control sk-hidden--visually\" id=\"sk-estimator-id-3\" type=\"checkbox\" checked><label for=\"sk-estimator-id-3\" class=\"sk-toggleable__label sk-toggleable__label-arrow\">KNeighborsClassifier</label><div class=\"sk-toggleable__content\"><pre>KNeighborsClassifier(n_neighbors=15)</pre></div></div></div></div></div>"
            ]
          },
          "metadata": {},
          "execution_count": 51
        }
      ]
    },
    {
      "cell_type": "code",
      "source": [
        "pred=clf.predict(test_x_scal)\n",
        "\n",
        "test_cm=confusion_matrix(test_y, pred)\n",
        "test_acc=accuracy_score(test_y, pred)\n",
        "test_prc=precision_score(test_y,pred, average=\"macro\" )\n",
        "test_rcll=recall_score(test_y, pred,  average=\"macro\" )\n",
        "test_f1=f1_score(test_y,pred,  average=\"macro\" )\n",
        "\n",
        "print(test_cm)\n",
        "print('\\n')\n",
        "print('정확도\\t{}%'.format(round(test_acc*100,2)))\n",
        "print('정밀도\\t{}%'.format(round(test_prc*100,2)))\n",
        "print('재현율\\t{}%'.format(round(test_rcll*100,2)))\n",
        "print('F1\\t{}%'.format(round(test_f1*100,2)))\n",
        "\n",
        "\n",
        "#StandardScaler 하지 않았을때 \n",
        "# [[  35   43   10  144]\n",
        "#  [  20   96   18  334]\n",
        "#  [  12   42   21  285]\n",
        "#  [  22   97   28 1654]]\n",
        "\n",
        "\n",
        "# 정확도\t63.12%\n",
        "# 정밀도\t42.39%\n",
        "# 재현율\t33.32%\n",
        "# F1\t33.9%"
      ],
      "metadata": {
        "colab": {
          "base_uri": "https://localhost:8080/"
        },
        "id": "M_afaoCbfIqN",
        "outputId": "aea30f66-5d9c-4559-c5a9-c916a89f5d82"
      },
      "execution_count": null,
      "outputs": [
        {
          "output_type": "stream",
          "name": "stdout",
          "text": [
            "[[  62   27   12  131]\n",
            " [  12  154   25  277]\n",
            " [  12   27   60  261]\n",
            " [   2   35   20 1744]]\n",
            "\n",
            "\n",
            "정확도\t70.6%\n",
            "정밀도\t64.35%\n",
            "재현율\t43.28%\n",
            "F1\t47.5%\n"
          ]
        }
      ]
    },
    {
      "cell_type": "markdown",
      "source": [
        "#### 4. 의사결정나무"
      ],
      "metadata": {
        "id": "s_KL_qh7kDEy"
      }
    },
    {
      "cell_type": "code",
      "source": [
        "from sklearn.tree import DecisionTreeClassifier\n",
        "clf=DecisionTreeClassifier(max_depth=8)\n",
        "clf.fit(train_x, train_y)"
      ],
      "metadata": {
        "colab": {
          "base_uri": "https://localhost:8080/",
          "height": 75
        },
        "id": "uwBqEq4aj4Qq",
        "outputId": "252e5777-ed0a-4f92-e63a-a464e875f127"
      },
      "execution_count": null,
      "outputs": [
        {
          "output_type": "execute_result",
          "data": {
            "text/plain": [
              "DecisionTreeClassifier(max_depth=8)"
            ],
            "text/html": [
              "<style>#sk-container-id-4 {color: black;background-color: white;}#sk-container-id-4 pre{padding: 0;}#sk-container-id-4 div.sk-toggleable {background-color: white;}#sk-container-id-4 label.sk-toggleable__label {cursor: pointer;display: block;width: 100%;margin-bottom: 0;padding: 0.3em;box-sizing: border-box;text-align: center;}#sk-container-id-4 label.sk-toggleable__label-arrow:before {content: \"▸\";float: left;margin-right: 0.25em;color: #696969;}#sk-container-id-4 label.sk-toggleable__label-arrow:hover:before {color: black;}#sk-container-id-4 div.sk-estimator:hover label.sk-toggleable__label-arrow:before {color: black;}#sk-container-id-4 div.sk-toggleable__content {max-height: 0;max-width: 0;overflow: hidden;text-align: left;background-color: #f0f8ff;}#sk-container-id-4 div.sk-toggleable__content pre {margin: 0.2em;color: black;border-radius: 0.25em;background-color: #f0f8ff;}#sk-container-id-4 input.sk-toggleable__control:checked~div.sk-toggleable__content {max-height: 200px;max-width: 100%;overflow: auto;}#sk-container-id-4 input.sk-toggleable__control:checked~label.sk-toggleable__label-arrow:before {content: \"▾\";}#sk-container-id-4 div.sk-estimator input.sk-toggleable__control:checked~label.sk-toggleable__label {background-color: #d4ebff;}#sk-container-id-4 div.sk-label input.sk-toggleable__control:checked~label.sk-toggleable__label {background-color: #d4ebff;}#sk-container-id-4 input.sk-hidden--visually {border: 0;clip: rect(1px 1px 1px 1px);clip: rect(1px, 1px, 1px, 1px);height: 1px;margin: -1px;overflow: hidden;padding: 0;position: absolute;width: 1px;}#sk-container-id-4 div.sk-estimator {font-family: monospace;background-color: #f0f8ff;border: 1px dotted black;border-radius: 0.25em;box-sizing: border-box;margin-bottom: 0.5em;}#sk-container-id-4 div.sk-estimator:hover {background-color: #d4ebff;}#sk-container-id-4 div.sk-parallel-item::after {content: \"\";width: 100%;border-bottom: 1px solid gray;flex-grow: 1;}#sk-container-id-4 div.sk-label:hover label.sk-toggleable__label {background-color: #d4ebff;}#sk-container-id-4 div.sk-serial::before {content: \"\";position: absolute;border-left: 1px solid gray;box-sizing: border-box;top: 0;bottom: 0;left: 50%;z-index: 0;}#sk-container-id-4 div.sk-serial {display: flex;flex-direction: column;align-items: center;background-color: white;padding-right: 0.2em;padding-left: 0.2em;position: relative;}#sk-container-id-4 div.sk-item {position: relative;z-index: 1;}#sk-container-id-4 div.sk-parallel {display: flex;align-items: stretch;justify-content: center;background-color: white;position: relative;}#sk-container-id-4 div.sk-item::before, #sk-container-id-4 div.sk-parallel-item::before {content: \"\";position: absolute;border-left: 1px solid gray;box-sizing: border-box;top: 0;bottom: 0;left: 50%;z-index: -1;}#sk-container-id-4 div.sk-parallel-item {display: flex;flex-direction: column;z-index: 1;position: relative;background-color: white;}#sk-container-id-4 div.sk-parallel-item:first-child::after {align-self: flex-end;width: 50%;}#sk-container-id-4 div.sk-parallel-item:last-child::after {align-self: flex-start;width: 50%;}#sk-container-id-4 div.sk-parallel-item:only-child::after {width: 0;}#sk-container-id-4 div.sk-dashed-wrapped {border: 1px dashed gray;margin: 0 0.4em 0.5em 0.4em;box-sizing: border-box;padding-bottom: 0.4em;background-color: white;}#sk-container-id-4 div.sk-label label {font-family: monospace;font-weight: bold;display: inline-block;line-height: 1.2em;}#sk-container-id-4 div.sk-label-container {text-align: center;}#sk-container-id-4 div.sk-container {/* jupyter's `normalize.less` sets `[hidden] { display: none; }` but bootstrap.min.css set `[hidden] { display: none !important; }` so we also need the `!important` here to be able to override the default hidden behavior on the sphinx rendered scikit-learn.org. See: https://github.com/scikit-learn/scikit-learn/issues/21755 */display: inline-block !important;position: relative;}#sk-container-id-4 div.sk-text-repr-fallback {display: none;}</style><div id=\"sk-container-id-4\" class=\"sk-top-container\"><div class=\"sk-text-repr-fallback\"><pre>DecisionTreeClassifier(max_depth=8)</pre><b>In a Jupyter environment, please rerun this cell to show the HTML representation or trust the notebook. <br />On GitHub, the HTML representation is unable to render, please try loading this page with nbviewer.org.</b></div><div class=\"sk-container\" hidden><div class=\"sk-item\"><div class=\"sk-estimator sk-toggleable\"><input class=\"sk-toggleable__control sk-hidden--visually\" id=\"sk-estimator-id-4\" type=\"checkbox\" checked><label for=\"sk-estimator-id-4\" class=\"sk-toggleable__label sk-toggleable__label-arrow\">DecisionTreeClassifier</label><div class=\"sk-toggleable__content\"><pre>DecisionTreeClassifier(max_depth=8)</pre></div></div></div></div></div>"
            ]
          },
          "metadata": {},
          "execution_count": 53
        }
      ]
    },
    {
      "cell_type": "code",
      "source": [
        "pred=clf.predict(test_x)\n",
        "\n",
        "test_cm=confusion_matrix(test_y, pred)\n",
        "test_acc=accuracy_score(test_y, pred)\n",
        "test_prc=precision_score(test_y,pred, average=\"macro\" )\n",
        "test_rcll=recall_score(test_y, pred,  average=\"macro\" )\n",
        "test_f1=f1_score(test_y,pred,  average=\"macro\" )\n",
        "\n",
        "print(test_cm)\n",
        "print('\\n')\n",
        "print('정확도\\t{}%'.format(round(test_acc*100,2)))\n",
        "print('정밀도\\t{}%'.format(round(test_prc*100,2)))\n",
        "print('재현율\\t{}%'.format(round(test_rcll*100,2)))\n",
        "print('F1\\t{}%'.format(round(test_f1*100,2)))\n",
        "\n",
        "'''scaler 하기 전 후가 동일함\n",
        "트리 깊이를 5->8로 옮기니, f1score 기준 40%에서 55% 가까이로 오름름'''"
      ],
      "metadata": {
        "colab": {
          "base_uri": "https://localhost:8080/",
          "height": 219
        },
        "id": "u4CNcJNdlV5E",
        "outputId": "43830e17-7520-408b-acf9-e26cdac35e64"
      },
      "execution_count": null,
      "outputs": [
        {
          "output_type": "stream",
          "name": "stdout",
          "text": [
            "[[  82   56    6   88]\n",
            " [  28  227   16  197]\n",
            " [  12   62   97  189]\n",
            " [  24   83   13 1681]]\n",
            "\n",
            "\n",
            "정확도\t72.95%\n",
            "정밀도\t65.17%\n",
            "재현율\t51.03%\n",
            "F1\t54.62%\n"
          ]
        },
        {
          "output_type": "execute_result",
          "data": {
            "text/plain": [
              "'scaler 하기 전 후가 동일함\\n트리 깊이를 5->8로 옮기니, f1score 기준 40%에서 55% 가까이로 오름름'"
            ],
            "application/vnd.google.colaboratory.intrinsic+json": {
              "type": "string"
            }
          },
          "metadata": {},
          "execution_count": 54
        }
      ]
    },
    {
      "cell_type": "code",
      "source": [
        "importances=clf.feature_importances_\n",
        "column_nm=pd.DataFrame(x.columns)\n",
        "feature_importances = pd.concat([column_nm,\n",
        "                                 pd.DataFrame(importances)],\n",
        "                                axis=1)\n",
        "feature_importances.columns=['feature_nm', 'importances']"
      ],
      "metadata": {
        "id": "z4grNfbsmwLK"
      },
      "execution_count": null,
      "outputs": []
    },
    {
      "cell_type": "code",
      "source": [
        "feature_importances.sort_values(by='importances' ,ascending=False)[:10]"
      ],
      "metadata": {
        "colab": {
          "base_uri": "https://localhost:8080/",
          "height": 363
        },
        "id": "jixenBvKnpmk",
        "outputId": "929f62cf-9089-4377-8c0b-57b2dd995e2f"
      },
      "execution_count": null,
      "outputs": [
        {
          "output_type": "execute_result",
          "data": {
            "text/plain": [
              "       feature_nm  importances\n",
              "74       meaneduc     0.219011\n",
              "4    SQBhogar_nin     0.087381\n",
              "19     dependency     0.042863\n",
              "136          v18q     0.035123\n",
              "54     hogar_adul     0.030524\n",
              "112          r4m3     0.028182\n",
              "109          r4h3     0.027323\n",
              "113          r4t1     0.026751\n",
              "108          r4h2     0.026265\n",
              "100    pisomoscer     0.025838"
            ],
            "text/html": [
              "\n",
              "  <div id=\"df-0dc7ed52-3e00-472b-a6ce-d24e862c4810\">\n",
              "    <div class=\"colab-df-container\">\n",
              "      <div>\n",
              "<style scoped>\n",
              "    .dataframe tbody tr th:only-of-type {\n",
              "        vertical-align: middle;\n",
              "    }\n",
              "\n",
              "    .dataframe tbody tr th {\n",
              "        vertical-align: top;\n",
              "    }\n",
              "\n",
              "    .dataframe thead th {\n",
              "        text-align: right;\n",
              "    }\n",
              "</style>\n",
              "<table border=\"1\" class=\"dataframe\">\n",
              "  <thead>\n",
              "    <tr style=\"text-align: right;\">\n",
              "      <th></th>\n",
              "      <th>feature_nm</th>\n",
              "      <th>importances</th>\n",
              "    </tr>\n",
              "  </thead>\n",
              "  <tbody>\n",
              "    <tr>\n",
              "      <th>74</th>\n",
              "      <td>meaneduc</td>\n",
              "      <td>0.219011</td>\n",
              "    </tr>\n",
              "    <tr>\n",
              "      <th>4</th>\n",
              "      <td>SQBhogar_nin</td>\n",
              "      <td>0.087381</td>\n",
              "    </tr>\n",
              "    <tr>\n",
              "      <th>19</th>\n",
              "      <td>dependency</td>\n",
              "      <td>0.042863</td>\n",
              "    </tr>\n",
              "    <tr>\n",
              "      <th>136</th>\n",
              "      <td>v18q</td>\n",
              "      <td>0.035123</td>\n",
              "    </tr>\n",
              "    <tr>\n",
              "      <th>54</th>\n",
              "      <td>hogar_adul</td>\n",
              "      <td>0.030524</td>\n",
              "    </tr>\n",
              "    <tr>\n",
              "      <th>112</th>\n",
              "      <td>r4m3</td>\n",
              "      <td>0.028182</td>\n",
              "    </tr>\n",
              "    <tr>\n",
              "      <th>109</th>\n",
              "      <td>r4h3</td>\n",
              "      <td>0.027323</td>\n",
              "    </tr>\n",
              "    <tr>\n",
              "      <th>113</th>\n",
              "      <td>r4t1</td>\n",
              "      <td>0.026751</td>\n",
              "    </tr>\n",
              "    <tr>\n",
              "      <th>108</th>\n",
              "      <td>r4h2</td>\n",
              "      <td>0.026265</td>\n",
              "    </tr>\n",
              "    <tr>\n",
              "      <th>100</th>\n",
              "      <td>pisomoscer</td>\n",
              "      <td>0.025838</td>\n",
              "    </tr>\n",
              "  </tbody>\n",
              "</table>\n",
              "</div>\n",
              "      <button class=\"colab-df-convert\" onclick=\"convertToInteractive('df-0dc7ed52-3e00-472b-a6ce-d24e862c4810')\"\n",
              "              title=\"Convert this dataframe to an interactive table.\"\n",
              "              style=\"display:none;\">\n",
              "        \n",
              "  <svg xmlns=\"http://www.w3.org/2000/svg\" height=\"24px\"viewBox=\"0 0 24 24\"\n",
              "       width=\"24px\">\n",
              "    <path d=\"M0 0h24v24H0V0z\" fill=\"none\"/>\n",
              "    <path d=\"M18.56 5.44l.94 2.06.94-2.06 2.06-.94-2.06-.94-.94-2.06-.94 2.06-2.06.94zm-11 1L8.5 8.5l.94-2.06 2.06-.94-2.06-.94L8.5 2.5l-.94 2.06-2.06.94zm10 10l.94 2.06.94-2.06 2.06-.94-2.06-.94-.94-2.06-.94 2.06-2.06.94z\"/><path d=\"M17.41 7.96l-1.37-1.37c-.4-.4-.92-.59-1.43-.59-.52 0-1.04.2-1.43.59L10.3 9.45l-7.72 7.72c-.78.78-.78 2.05 0 2.83L4 21.41c.39.39.9.59 1.41.59.51 0 1.02-.2 1.41-.59l7.78-7.78 2.81-2.81c.8-.78.8-2.07 0-2.86zM5.41 20L4 18.59l7.72-7.72 1.47 1.35L5.41 20z\"/>\n",
              "  </svg>\n",
              "      </button>\n",
              "      \n",
              "  <style>\n",
              "    .colab-df-container {\n",
              "      display:flex;\n",
              "      flex-wrap:wrap;\n",
              "      gap: 12px;\n",
              "    }\n",
              "\n",
              "    .colab-df-convert {\n",
              "      background-color: #E8F0FE;\n",
              "      border: none;\n",
              "      border-radius: 50%;\n",
              "      cursor: pointer;\n",
              "      display: none;\n",
              "      fill: #1967D2;\n",
              "      height: 32px;\n",
              "      padding: 0 0 0 0;\n",
              "      width: 32px;\n",
              "    }\n",
              "\n",
              "    .colab-df-convert:hover {\n",
              "      background-color: #E2EBFA;\n",
              "      box-shadow: 0px 1px 2px rgba(60, 64, 67, 0.3), 0px 1px 3px 1px rgba(60, 64, 67, 0.15);\n",
              "      fill: #174EA6;\n",
              "    }\n",
              "\n",
              "    [theme=dark] .colab-df-convert {\n",
              "      background-color: #3B4455;\n",
              "      fill: #D2E3FC;\n",
              "    }\n",
              "\n",
              "    [theme=dark] .colab-df-convert:hover {\n",
              "      background-color: #434B5C;\n",
              "      box-shadow: 0px 1px 3px 1px rgba(0, 0, 0, 0.15);\n",
              "      filter: drop-shadow(0px 1px 2px rgba(0, 0, 0, 0.3));\n",
              "      fill: #FFFFFF;\n",
              "    }\n",
              "  </style>\n",
              "\n",
              "      <script>\n",
              "        const buttonEl =\n",
              "          document.querySelector('#df-0dc7ed52-3e00-472b-a6ce-d24e862c4810 button.colab-df-convert');\n",
              "        buttonEl.style.display =\n",
              "          google.colab.kernel.accessAllowed ? 'block' : 'none';\n",
              "\n",
              "        async function convertToInteractive(key) {\n",
              "          const element = document.querySelector('#df-0dc7ed52-3e00-472b-a6ce-d24e862c4810');\n",
              "          const dataTable =\n",
              "            await google.colab.kernel.invokeFunction('convertToInteractive',\n",
              "                                                     [key], {});\n",
              "          if (!dataTable) return;\n",
              "\n",
              "          const docLinkHtml = 'Like what you see? Visit the ' +\n",
              "            '<a target=\"_blank\" href=https://colab.research.google.com/notebooks/data_table.ipynb>data table notebook</a>'\n",
              "            + ' to learn more about interactive tables.';\n",
              "          element.innerHTML = '';\n",
              "          dataTable['output_type'] = 'display_data';\n",
              "          await google.colab.output.renderOutput(dataTable, element);\n",
              "          const docLink = document.createElement('div');\n",
              "          docLink.innerHTML = docLinkHtml;\n",
              "          element.appendChild(docLink);\n",
              "        }\n",
              "      </script>\n",
              "    </div>\n",
              "  </div>\n",
              "  "
            ]
          },
          "metadata": {},
          "execution_count": 56
        }
      ]
    },
    {
      "cell_type": "code",
      "source": [
        "# import matplotlib.pyplot as pyplot\n",
        "# #from sklearn.metrics import plot_roc_curve, roc_auc_score\n",
        "# from sklearn.metrics import roc_auc_score\n",
        "# #plot_roc_curve(clf, x_test, y_test)\n",
        "# #plt.show()\n",
        "# R_A_score=roc_auc_score(test_y, clf.predict_proba(test_x)[:,1])\n",
        "'''roc curve는 binary에서 가능한듯 ValueError: multi_class must be in ('ovo', 'ovr')'''"
      ],
      "metadata": {
        "id": "xM72qZY3l6rf",
        "colab": {
          "base_uri": "https://localhost:8080/",
          "height": 35
        },
        "outputId": "7c3c740a-086e-4c39-f8c4-351e9107ca05"
      },
      "execution_count": null,
      "outputs": [
        {
          "output_type": "execute_result",
          "data": {
            "text/plain": [
              "\"roc curve는 binary에서 가능한듯 ValueError: multi_class must be in ('ovo', 'ovr')\""
            ],
            "application/vnd.google.colaboratory.intrinsic+json": {
              "type": "string"
            }
          },
          "metadata": {},
          "execution_count": 57
        }
      ]
    },
    {
      "cell_type": "markdown",
      "source": [
        "#### 5. DNN"
      ],
      "metadata": {
        "id": "rXB86gX0qOZA"
      }
    },
    {
      "cell_type": "code",
      "source": [
        "'''# 라벨 인코딩\n",
        "e = LabelEncoder()\n",
        "e.fit(Y_obj)\n",
        "Y = e.transform(Y_obj)\n",
        "\n",
        "# 원-핫 인코딩\n",
        "Y_encoded = np_utils.to_categorical(Y)'''"
      ],
      "metadata": {
        "id": "hBG2T85mr5gE",
        "colab": {
          "base_uri": "https://localhost:8080/",
          "height": 35
        },
        "outputId": "4afdb278-07e0-49f5-a6b9-0ec1286d0d0c"
      },
      "execution_count": null,
      "outputs": [
        {
          "output_type": "execute_result",
          "data": {
            "text/plain": [
              "'# 라벨 인코딩\\ne = LabelEncoder()\\ne.fit(Y_obj)\\nY = e.transform(Y_obj)\\n\\n# 원-핫 인코딩\\nY_encoded = np_utils.to_categorical(Y)'"
            ],
            "application/vnd.google.colaboratory.intrinsic+json": {
              "type": "string"
            }
          },
          "metadata": {},
          "execution_count": 58
        }
      ]
    },
    {
      "cell_type": "code",
      "source": [
        "train_x.shape"
      ],
      "metadata": {
        "colab": {
          "base_uri": "https://localhost:8080/"
        },
        "id": "Ycm48DCQsMtR",
        "outputId": "619b0831-7102-4f9b-a5fa-b629d744f6e1"
      },
      "execution_count": null,
      "outputs": [
        {
          "output_type": "execute_result",
          "data": {
            "text/plain": [
              "(6673, 137)"
            ]
          },
          "metadata": {},
          "execution_count": 59
        }
      ]
    },
    {
      "cell_type": "code",
      "source": [
        "train_y.value_counts()\n"
      ],
      "metadata": {
        "id": "f_zOfnuOtp6V",
        "colab": {
          "base_uri": "https://localhost:8080/"
        },
        "outputId": "8aa8cb4c-fb45-475a-e287-210fc207c8d7"
      },
      "execution_count": null,
      "outputs": [
        {
          "output_type": "execute_result",
          "data": {
            "text/plain": [
              "4    4200\n",
              "2    1090\n",
              "3     841\n",
              "1     542\n",
              "Name: Target, dtype: int64"
            ]
          },
          "metadata": {},
          "execution_count": 60
        }
      ]
    },
    {
      "cell_type": "code",
      "source": [
        "import numpy\n",
        "import tensorflow as tf\n",
        "from tensorflow import keras\n",
        "# from sklearn.preprocessing import LabelEncoder\n",
        "from keras.models import Sequential\n",
        "from keras.layers.core import Dense\n",
        "from keras.utils import np_utils\n",
        "\n",
        "#seed 설정\n",
        "seed = 0\n",
        "numpy.random.seed(seed)\n",
        "# tf.set_random_seed(seed)\n",
        "\n",
        "\n",
        "# 라벨 인코딩\n",
        "# e = LabelEncoder()\n",
        "# e.fit(Y_obj)\n",
        "# Y = e.transform(Y_obj)\n",
        "\n",
        "# 원-핫 인코딩\n",
        "train_y_v2 = train_y.map({4:3, 3:2, 2:1, 1:0}) # 0,1,2,3,\n",
        "Y_encoded = np_utils.to_categorical(train_y_v2)\n",
        "\n",
        "\n",
        "model = Sequential()\n",
        "model.add(Dense(16, activation='relu', input_shape=(137,)))\n",
        "model.add(Dense(16, activation='relu'))\n",
        "model.add(Dense(4, activation='softmax'))\n",
        "\n",
        "# model compile9Rrng\n",
        "model.compile(loss=\"categorical_crossentropy\", optimizer=\"adam\", metrics=['accuracy'])\n",
        "\n",
        "model.fit(train_x, Y_encoded, epochs=30, batch_size = 5) # 원핫인코딩\n",
        "\n",
        "print('\\n Accuracy: %.4f' % (model.evaluate(train_x, Y_encoded)[1]))"
      ],
      "metadata": {
        "id": "n5T2HDEgoUS3",
        "colab": {
          "base_uri": "https://localhost:8080/"
        },
        "outputId": "5dba948e-cf2a-468d-8c1a-f66a06a4aca5"
      },
      "execution_count": null,
      "outputs": [
        {
          "output_type": "stream",
          "name": "stdout",
          "text": [
            "Epoch 1/30\n",
            "1335/1335 [==============================] - 10s 3ms/step - loss: 3.7672 - accuracy: 0.5657\n",
            "Epoch 2/30\n",
            "1335/1335 [==============================] - 4s 3ms/step - loss: 1.6843 - accuracy: 0.6020\n",
            "Epoch 3/30\n",
            "1335/1335 [==============================] - 5s 4ms/step - loss: 1.7142 - accuracy: 0.6014\n",
            "Epoch 4/30\n",
            "1335/1335 [==============================] - 4s 3ms/step - loss: 1.4256 - accuracy: 0.6128\n",
            "Epoch 5/30\n",
            "1335/1335 [==============================] - 4s 3ms/step - loss: 1.1973 - accuracy: 0.6255\n",
            "Epoch 6/30\n",
            "1335/1335 [==============================] - 5s 4ms/step - loss: 1.0883 - accuracy: 0.6339\n",
            "Epoch 7/30\n",
            "1335/1335 [==============================] - 4s 3ms/step - loss: 0.9853 - accuracy: 0.6471\n",
            "Epoch 8/30\n",
            "1335/1335 [==============================] - 4s 3ms/step - loss: 0.9341 - accuracy: 0.6489\n",
            "Epoch 9/30\n",
            "1335/1335 [==============================] - 5s 4ms/step - loss: 0.9066 - accuracy: 0.6522\n",
            "Epoch 10/30\n",
            "1335/1335 [==============================] - 4s 3ms/step - loss: 0.9115 - accuracy: 0.6472\n",
            "Epoch 11/30\n",
            "1335/1335 [==============================] - 4s 3ms/step - loss: 0.8811 - accuracy: 0.6582\n",
            "Epoch 12/30\n",
            "1335/1335 [==============================] - 5s 4ms/step - loss: 0.8706 - accuracy: 0.6601\n",
            "Epoch 13/30\n",
            "1335/1335 [==============================] - 4s 3ms/step - loss: 0.8580 - accuracy: 0.6606\n",
            "Epoch 14/30\n",
            "1335/1335 [==============================] - 4s 3ms/step - loss: 0.8549 - accuracy: 0.6627\n",
            "Epoch 15/30\n",
            "1335/1335 [==============================] - 5s 4ms/step - loss: 0.8575 - accuracy: 0.6636\n",
            "Epoch 16/30\n",
            "1335/1335 [==============================] - 5s 4ms/step - loss: 0.8511 - accuracy: 0.6607\n",
            "Epoch 17/30\n",
            "1335/1335 [==============================] - 4s 3ms/step - loss: 0.8497 - accuracy: 0.6649\n",
            "Epoch 18/30\n",
            "1335/1335 [==============================] - 7s 5ms/step - loss: 0.8367 - accuracy: 0.6699\n",
            "Epoch 19/30\n",
            "1335/1335 [==============================] - 5s 4ms/step - loss: 0.8356 - accuracy: 0.6676\n",
            "Epoch 20/30\n",
            "1335/1335 [==============================] - 4s 3ms/step - loss: 0.8372 - accuracy: 0.6721\n",
            "Epoch 21/30\n",
            "1335/1335 [==============================] - 5s 4ms/step - loss: 0.8348 - accuracy: 0.6696\n",
            "Epoch 22/30\n",
            "1335/1335 [==============================] - 4s 3ms/step - loss: 0.8285 - accuracy: 0.6796\n",
            "Epoch 23/30\n",
            "1335/1335 [==============================] - 4s 3ms/step - loss: 0.8222 - accuracy: 0.6751\n",
            "Epoch 24/30\n",
            "1335/1335 [==============================] - 5s 4ms/step - loss: 0.8228 - accuracy: 0.6781\n",
            "Epoch 25/30\n",
            "1335/1335 [==============================] - 4s 3ms/step - loss: 0.8226 - accuracy: 0.6828\n",
            "Epoch 26/30\n",
            "1335/1335 [==============================] - 4s 3ms/step - loss: 0.8103 - accuracy: 0.6859\n",
            "Epoch 27/30\n",
            "1335/1335 [==============================] - 5s 4ms/step - loss: 0.8276 - accuracy: 0.6729\n",
            "Epoch 28/30\n",
            "1335/1335 [==============================] - 4s 3ms/step - loss: 0.8068 - accuracy: 0.6860\n",
            "Epoch 29/30\n",
            "1335/1335 [==============================] - 4s 3ms/step - loss: 0.8163 - accuracy: 0.6835\n",
            "Epoch 30/30\n",
            "1335/1335 [==============================] - 4s 3ms/step - loss: 0.8047 - accuracy: 0.6856\n",
            "209/209 [==============================] - 1s 2ms/step - loss: 0.8070 - accuracy: 0.6835\n",
            "\n",
            " Accuracy: 0.6835\n"
          ]
        }
      ]
    },
    {
      "cell_type": "markdown",
      "source": [
        "## 앙상블"
      ],
      "metadata": {
        "id": "7Wr5JqvPDcbA"
      }
    },
    {
      "cell_type": "code",
      "source": [
        "import seaborn as sns\n",
        "train_y_v3 = pd.DataFrame(train_y)\n",
        "sns.countplot(x='Target', data=train_y_v3)"
      ],
      "metadata": {
        "colab": {
          "base_uri": "https://localhost:8080/",
          "height": 467
        },
        "id": "1iCXlDNdDbN5",
        "outputId": "cdd01b78-3a63-4f7d-90c2-fd65ce064d1c"
      },
      "execution_count": null,
      "outputs": [
        {
          "output_type": "execute_result",
          "data": {
            "text/plain": [
              "<Axes: xlabel='Target', ylabel='count'>"
            ]
          },
          "metadata": {},
          "execution_count": 62
        },
        {
          "output_type": "display_data",
          "data": {
            "text/plain": [
              "<Figure size 640x480 with 1 Axes>"
            ],
            "image/png": "[encoded data removed]"
          },
          "metadata": {}
        }
      ]
    },
    {
      "cell_type": "code",
      "source": [
        "sns.relplot(x='meaneduc', y='SQBmeaned', hue='Target', data=train_v2)# meaneduc을 제곱한 항이 SQBmeaned"
      ],
      "metadata": {
        "id": "ACV6s5rGqNf_",
        "colab": {
          "base_uri": "https://localhost:8080/",
          "height": 524
        },
        "outputId": "f6e829dc-b379-4be1-dd18-24370696a71f"
      },
      "execution_count": null,
      "outputs": [
        {
          "output_type": "execute_result",
          "data": {
            "text/plain": [
              "<seaborn.axisgrid.FacetGrid at 0x7f28004be7d0>"
            ]
          },
          "metadata": {},
          "execution_count": 63
        },
        {
          "output_type": "display_data",
          "data": {
            "text/plain": [
              "<Figure size 558.875x500 with 1 Axes>"
            ],
            "image/png": "[encoded data removed]"
          },
          "metadata": {}
        }
      ]
    },
    {
      "cell_type": "code",
      "source": [
        "from sklearn.tree import DecisionTreeClassifier\n",
        "from sklearn.ensemble import BaggingClassifier\n",
        "clf=BaggingClassifier(estimator=DecisionTreeClassifier()) #ood_score 인자?\n",
        "pred = clf.fit(train_x_scal, train_y).predict(test_x_scal)\n",
        "print(\"Accuracy Score : \", clf.score(test_x_scal, test_y))\n",
        "\n",
        "# /usr/local/lib/python3.10/dist-packages/sklearn/ensemble/_base.py:166: FutureWarning: `base_estimator` was renamed to `estimator` in version 1.2 and will be removed in 1.4.\n",
        "#   warnings.warn("
      ],
      "metadata": {
        "colab": {
          "base_uri": "https://localhost:8080/"
        },
        "id": "P3fE9js9E10Z",
        "outputId": "841b2a8f-1159-4a3f-89ab-47bf3a7da61d"
      },
      "execution_count": null,
      "outputs": [
        {
          "output_type": "stream",
          "name": "stdout",
          "text": [
            "Accuracy Score :  0.9402306885704299\n"
          ]
        }
      ]
    },
    {
      "cell_type": "code",
      "source": [
        "from sklearn.metrics import confusion_matrix\n",
        "pd.DataFrame(confusion_matrix(test_y, pred),\n",
        "                index = ['G \"1\"', 'GT \"2\"', 'GT \"3\"', 'GT \"4\"'],\n",
        "             columns=['Pred\"1\"','Pred\"2\"', 'Pred\"3\"', 'Pred\"4\"'])"
      ],
      "metadata": {
        "colab": {
          "base_uri": "https://localhost:8080/",
          "height": 175
        },
        "id": "DiO_2jyNJw5i",
        "outputId": "652e92f4-f733-4593-acb8-676d9e1a14eb"
      },
      "execution_count": null,
      "outputs": [
        {
          "output_type": "execute_result",
          "data": {
            "text/plain": [
              "        Pred\"1\"  Pred\"2\"  Pred\"3\"  Pred\"4\"\n",
              "G \"1\"       203        6        3       20\n",
              "GT \"2\"        4      416       10       38\n",
              "GT \"3\"        4        4      310       42\n",
              "GT \"4\"        5       24       11     1761"
            ],
            "text/html": [
              "\n",
              "  <div id=\"df-cd5d9981-cf77-4f2b-9d2c-29ddf0e46aaf\">\n",
              "    <div class=\"colab-df-container\">\n",
              "      <div>\n",
              "<style scoped>\n",
              "    .dataframe tbody tr th:only-of-type {\n",
              "        vertical-align: middle;\n",
              "    }\n",
              "\n",
              "    .dataframe tbody tr th {\n",
              "        vertical-align: top;\n",
              "    }\n",
              "\n",
              "    .dataframe thead th {\n",
              "        text-align: right;\n",
              "    }\n",
              "</style>\n",
              "<table border=\"1\" class=\"dataframe\">\n",
              "  <thead>\n",
              "    <tr style=\"text-align: right;\">\n",
              "      <th></th>\n",
              "      <th>Pred\"1\"</th>\n",
              "      <th>Pred\"2\"</th>\n",
              "      <th>Pred\"3\"</th>\n",
              "      <th>Pred\"4\"</th>\n",
              "    </tr>\n",
              "  </thead>\n",
              "  <tbody>\n",
              "    <tr>\n",
              "      <th>G \"1\"</th>\n",
              "      <td>203</td>\n",
              "      <td>6</td>\n",
              "      <td>3</td>\n",
              "      <td>20</td>\n",
              "    </tr>\n",
              "    <tr>\n",
              "      <th>GT \"2\"</th>\n",
              "      <td>4</td>\n",
              "      <td>416</td>\n",
              "      <td>10</td>\n",
              "      <td>38</td>\n",
              "    </tr>\n",
              "    <tr>\n",
              "      <th>GT \"3\"</th>\n",
              "      <td>4</td>\n",
              "      <td>4</td>\n",
              "      <td>310</td>\n",
              "      <td>42</td>\n",
              "    </tr>\n",
              "    <tr>\n",
              "      <th>GT \"4\"</th>\n",
              "      <td>5</td>\n",
              "      <td>24</td>\n",
              "      <td>11</td>\n",
              "      <td>1761</td>\n",
              "    </tr>\n",
              "  </tbody>\n",
              "</table>\n",
              "</div>\n",
              "      <button class=\"colab-df-convert\" onclick=\"convertToInteractive('df-cd5d9981-cf77-4f2b-9d2c-29ddf0e46aaf')\"\n",
              "              title=\"Convert this dataframe to an interactive table.\"\n",
              "              style=\"display:none;\">\n",
              "        \n",
              "  <svg xmlns=\"http://www.w3.org/2000/svg\" height=\"24px\"viewBox=\"0 0 24 24\"\n",
              "       width=\"24px\">\n",
              "    <path d=\"M0 0h24v24H0V0z\" fill=\"none\"/>\n",
              "    <path d=\"M18.56 5.44l.94 2.06.94-2.06 2.06-.94-2.06-.94-.94-2.06-.94 2.06-2.06.94zm-11 1L8.5 8.5l.94-2.06 2.06-.94-2.06-.94L8.5 2.5l-.94 2.06-2.06.94zm10 10l.94 2.06.94-2.06 2.06-.94-2.06-.94-.94-2.06-.94 2.06-2.06.94z\"/><path d=\"M17.41 7.96l-1.37-1.37c-.4-.4-.92-.59-1.43-.59-.52 0-1.04.2-1.43.59L10.3 9.45l-7.72 7.72c-.78.78-.78 2.05 0 2.83L4 21.41c.39.39.9.59 1.41.59.51 0 1.02-.2 1.41-.59l7.78-7.78 2.81-2.81c.8-.78.8-2.07 0-2.86zM5.41 20L4 18.59l7.72-7.72 1.47 1.35L5.41 20z\"/>\n",
              "  </svg>\n",
              "      </button>\n",
              "      \n",
              "  <style>\n",
              "    .colab-df-container {\n",
              "      display:flex;\n",
              "      flex-wrap:wrap;\n",
              "      gap: 12px;\n",
              "    }\n",
              "\n",
              "    .colab-df-convert {\n",
              "      background-color: #E8F0FE;\n",
              "      border: none;\n",
              "      border-radius: 50%;\n",
              "      cursor: pointer;\n",
              "      display: none;\n",
              "      fill: #1967D2;\n",
              "      height: 32px;\n",
              "      padding: 0 0 0 0;\n",
              "      width: 32px;\n",
              "    }\n",
              "\n",
              "    .colab-df-convert:hover {\n",
              "      background-color: #E2EBFA;\n",
              "      box-shadow: 0px 1px 2px rgba(60, 64, 67, 0.3), 0px 1px 3px 1px rgba(60, 64, 67, 0.15);\n",
              "      fill: #174EA6;\n",
              "    }\n",
              "\n",
              "    [theme=dark] .colab-df-convert {\n",
              "      background-color: #3B4455;\n",
              "      fill: #D2E3FC;\n",
              "    }\n",
              "\n",
              "    [theme=dark] .colab-df-convert:hover {\n",
              "      background-color: #434B5C;\n",
              "      box-shadow: 0px 1px 3px 1px rgba(0, 0, 0, 0.15);\n",
              "      filter: drop-shadow(0px 1px 2px rgba(0, 0, 0, 0.3));\n",
              "      fill: #FFFFFF;\n",
              "    }\n",
              "  </style>\n",
              "\n",
              "      <script>\n",
              "        const buttonEl =\n",
              "          document.querySelector('#df-cd5d9981-cf77-4f2b-9d2c-29ddf0e46aaf button.colab-df-convert');\n",
              "        buttonEl.style.display =\n",
              "          google.colab.kernel.accessAllowed ? 'block' : 'none';\n",
              "\n",
              "        async function convertToInteractive(key) {\n",
              "          const element = document.querySelector('#df-cd5d9981-cf77-4f2b-9d2c-29ddf0e46aaf');\n",
              "          const dataTable =\n",
              "            await google.colab.kernel.invokeFunction('convertToInteractive',\n",
              "                                                     [key], {});\n",
              "          if (!dataTable) return;\n",
              "\n",
              "          const docLinkHtml = 'Like what you see? Visit the ' +\n",
              "            '<a target=\"_blank\" href=https://colab.research.google.com/notebooks/data_table.ipynb>data table notebook</a>'\n",
              "            + ' to learn more about interactive tables.';\n",
              "          element.innerHTML = '';\n",
              "          dataTable['output_type'] = 'display_data';\n",
              "          await google.colab.output.renderOutput(dataTable, element);\n",
              "          const docLink = document.createElement('div');\n",
              "          docLink.innerHTML = docLinkHtml;\n",
              "          element.appendChild(docLink);\n",
              "        }\n",
              "      </script>\n",
              "    </div>\n",
              "  </div>\n",
              "  "
            ]
          },
          "metadata": {},
          "execution_count": 74
        }
      ]
    },
    {
      "cell_type": "code",
      "source": [
        "test_cm=confusion_matrix(test_y, pred)\n",
        "test_acc=accuracy_score(test_y, pred)\n",
        "test_prc=precision_score(test_y,pred, average=\"macro\" )\n",
        "test_rcll=recall_score(test_y, pred,  average=\"macro\" )\n",
        "test_f1=f1_score(test_y,pred,  average=\"macro\" )\n",
        "\n",
        "print(test_cm)\n",
        "print('\\n')\n",
        "print('정확도\\t{}%'.format(round(test_acc*100,2)))\n",
        "print('정밀도\\t{}%'.format(round(test_prc*100,2)))\n",
        "print('재현율\\t{}%'.format(round(test_rcll*100,2)))\n",
        "print('F1\\t{}%'.format(round(test_f1*100,2)))"
      ],
      "metadata": {
        "colab": {
          "base_uri": "https://localhost:8080/"
        },
        "id": "m9lP0hhqSwJP",
        "outputId": "9f0a5b7a-7458-4a55-bf12-973916c00d0c"
      },
      "execution_count": null,
      "outputs": [
        {
          "output_type": "stream",
          "name": "stdout",
          "text": [
            "[[ 203    6    3   20]\n",
            " [   4  416   10   38]\n",
            " [   4    4  310   42]\n",
            " [   5   24   11 1761]]\n",
            "\n",
            "\n",
            "정확도\t94.02%\n",
            "정밀도\t93.47%\n",
            "재현율\t90.07%\n",
            "F1\t91.69%\n"
          ]
        }
      ]
    },
    {
      "cell_type": "markdown",
      "source": [
        "## 부스팅 중 adaboost"
      ],
      "metadata": {
        "id": "SQODxUCxK0KZ"
      }
    },
    {
      "cell_type": "code",
      "source": [
        "from sklearn.ensemble import AdaBoostClassifier\n",
        "clf = AdaBoostClassifier(estimator=None)\n",
        "pred = clf.fit(train_x_scal, train_y).predict(test_x_scal)\n",
        "print(\"Accuracy : \", clf.score(test_x_scal, test_y))  #왜이렇게 생겼지?"
      ],
      "metadata": {
        "colab": {
          "base_uri": "https://localhost:8080/",
          "height": 229
        },
        "id": "gVDPX1EaFU-d",
        "outputId": "49c18c32-3bce-470a-a3bf-1252123136be"
      },
      "execution_count": null,
      "outputs": [
        {
          "output_type": "error",
          "ename": "NameError",
          "evalue": "ignored",
          "traceback": [
            "\u001b[0;31m---------------------------------------------------------------------------\u001b[0m",
            "\u001b[0;31mNameError\u001b[0m                                 Traceback (most recent call last)",
            "\u001b[0;32m<ipython-input-1-875617ae96a6>\u001b[0m in \u001b[0;36m<cell line: 3>\u001b[0;34m()\u001b[0m\n\u001b[1;32m      1\u001b[0m \u001b[0;32mfrom\u001b[0m \u001b[0msklearn\u001b[0m\u001b[0;34m.\u001b[0m\u001b[0mensemble\u001b[0m \u001b[0;32mimport\u001b[0m \u001b[0mAdaBoostClassifier\u001b[0m\u001b[0;34m\u001b[0m\u001b[0;34m\u001b[0m\u001b[0m\n\u001b[1;32m      2\u001b[0m \u001b[0mclf\u001b[0m \u001b[0;34m=\u001b[0m \u001b[0mAdaBoostClassifier\u001b[0m\u001b[0;34m(\u001b[0m\u001b[0mestimator\u001b[0m\u001b[0;34m=\u001b[0m\u001b[0;32mNone\u001b[0m\u001b[0;34m)\u001b[0m\u001b[0;34m\u001b[0m\u001b[0;34m\u001b[0m\u001b[0m\n\u001b[0;32m----> 3\u001b[0;31m \u001b[0mpred\u001b[0m \u001b[0;34m=\u001b[0m \u001b[0mclf\u001b[0m\u001b[0;34m.\u001b[0m\u001b[0mfit\u001b[0m\u001b[0;34m(\u001b[0m\u001b[0mtrain_x_scal\u001b[0m\u001b[0;34m,\u001b[0m \u001b[0mtrain_y\u001b[0m\u001b[0;34m)\u001b[0m\u001b[0;34m.\u001b[0m\u001b[0mpredict\u001b[0m\u001b[0;34m(\u001b[0m\u001b[0mtest_x_scal\u001b[0m\u001b[0;34m)\u001b[0m\u001b[0;34m\u001b[0m\u001b[0;34m\u001b[0m\u001b[0m\n\u001b[0m\u001b[1;32m      4\u001b[0m \u001b[0mprint\u001b[0m\u001b[0;34m(\u001b[0m\u001b[0;34m\"Accuracy : \"\u001b[0m\u001b[0;34m,\u001b[0m \u001b[0mclf\u001b[0m\u001b[0;34m.\u001b[0m\u001b[0mscore\u001b[0m\u001b[0;34m(\u001b[0m\u001b[0mtest_x_scal\u001b[0m\u001b[0;34m,\u001b[0m \u001b[0mtest_y\u001b[0m\u001b[0;34m)\u001b[0m\u001b[0;34m)\u001b[0m  \u001b[0;31m#왜이렇게 생겼지?\u001b[0m\u001b[0;34m\u001b[0m\u001b[0;34m\u001b[0m\u001b[0m\n",
            "\u001b[0;31mNameError\u001b[0m: name 'train_x_scal' is not defined"
          ]
        }
      ]
    },
    {
      "cell_type": "code",
      "source": [
        "from sklearn.ensemble import AdaBoostClassifier\n",
        "AdaBoostClassifier?"
      ],
      "metadata": {
        "id": "7MFKr0IcLx_k"
      },
      "execution_count": null,
      "outputs": []
    },
    {
      "cell_type": "code",
      "source": [
        "test_cm=confusion_matrix(test_y, pred)\n",
        "test_acc=accuracy_score(test_y, pred)\n",
        "test_prc=precision_score(test_y,pred, average=\"macro\" )\n",
        "test_rcll=recall_score(test_y, pred,  average=\"macro\" )\n",
        "test_f1=f1_score(test_y,pred,  average=\"macro\" )\n",
        "\n",
        "print(test_cm)\n",
        "print('\\n')\n",
        "print('정확도\\t{}%'.format(round(test_acc*100,2)))\n",
        "print('정밀도\\t{}%'.format(round(test_prc*100,2)))\n",
        "print('재현율\\t{}%'.format(round(test_rcll*100,2)))\n",
        "print('F1\\t{}%'.format(round(test_f1*100,2)))"
      ],
      "metadata": {
        "colab": {
          "base_uri": "https://localhost:8080/"
        },
        "id": "hqMBbuBUI3H7",
        "outputId": "b1a9fa12-5462-47dd-f80e-e308efcc0a65"
      },
      "execution_count": null,
      "outputs": [
        {
          "output_type": "stream",
          "name": "stdout",
          "text": [
            "[[  72   74    5   81]\n",
            " [  54  158   20  236]\n",
            " [  14   73   36  237]\n",
            " [  37  118   21 1625]]\n",
            "\n",
            "\n",
            "정확도\t66.1%\n",
            "정밀도\t49.13%\n",
            "재현율\t41.26%\n",
            "F1\t42.16%\n"
          ]
        }
      ]
    },
    {
      "cell_type": "markdown",
      "source": [
        "## 랜덤포레스트"
      ],
      "metadata": {
        "id": "aKPEVP2UNlsj"
      }
    },
    {
      "cell_type": "code",
      "source": [
        ", RandomForestClassifier\n",
        "from sklearn.ensemble import RandomForestClassifier\n",
        "clf = RandomForestClassifier(n_estimators=100, min_samples_split=5)\n",
        "pred = clf.fit(train_x_scal, train_y).predict(test_x_scal)\n",
        "print(\"Accuracy:\", clf.score(test_x_scal, test_y))"
      ],
      "metadata": {
        "colab": {
          "base_uri": "https://localhost:8080/"
        },
        "id": "9nDVNUDYI8qX",
        "outputId": "7c54c6b6-59cf-4656-f7f1-76ba320cc5df"
      },
      "execution_count": null,
      "outputs": [
        {
          "output_type": "stream",
          "name": "stdout",
          "text": [
            "Accuracy: 0.9094722125131073\n"
          ]
        }
      ]
    },
    {
      "cell_type": "code",
      "source": [
        "\n",
        "test_cm=confusion_matrix(test_y, pred)\n",
        "test_acc=accuracy_score(test_y, pred)\n",
        "test_prc=precision_score(test_y,pred, average=\"macro\" )\n",
        "test_rcll=recall_score(test_y, pred,  average=\"macro\" )\n",
        "test_f1=f1_score(test_y,pred,  average=\"macro\" )\n",
        "\n",
        "print(test_cm)\n",
        "print('\\n')\n",
        "print('정확도\\t{}%'.format(round(test_acc*100,2)))\n",
        "print('정밀도\\t{}%'.format(round(test_prc*100,2)))\n",
        "print('재현율\\t{}%'.format(round(test_rcll*100,2)))\n",
        "print('F1\\t{}%'.format(round(test_f1*100,2)))"
      ],
      "metadata": {
        "colab": {
          "base_uri": "https://localhost:8080/"
        },
        "id": "uBtntZNqOLw4",
        "outputId": "1ef4023d-45f3-4f83-e335-f230ddd5b923"
      },
      "execution_count": null,
      "outputs": [
        {
          "output_type": "stream",
          "name": "stdout",
          "text": [
            "[[ 182    1    0   49]\n",
            " [   0  367    3   98]\n",
            " [   2    4  257   97]\n",
            " [   2    1    2 1796]]\n",
            "\n",
            "\n",
            "정확도\t90.95%\n",
            "정밀도\t95.59%\n",
            "재현율\t81.99%\n",
            "F1\t87.63%\n"
          ]
        }
      ]
    },
    {
      "cell_type": "code",
      "source": [
        "importances = clf.feature_importances_\n",
        "importances # 컬럼 순서가 어떻게 되"
      ],
      "metadata": {
        "colab": {
          "base_uri": "https://localhost:8080/"
        },
        "id": "f0OlYMGpOf52",
        "outputId": "d7bf3ba7-0a02-408a-eded-7f4f3b470c7e"
      },
      "execution_count": null,
      "outputs": [
        {
          "output_type": "execute_result",
          "data": {
            "text/plain": [
              "array([1.50827922e-02, 3.23969466e-02, 2.24184738e-02, 1.62006194e-02,\n",
              "       2.09072518e-02, 1.06695140e-02, 5.30395638e-02, 2.76727714e-02,\n",
              "       2.08063537e-03, 2.36673068e-03, 4.18133921e-04, 1.50333909e-02,\n",
              "       1.62169787e-02, 6.68113658e-03, 6.74528576e-03, 1.24885403e-02,\n",
              "       1.76487091e-02, 2.64397859e-03, 4.24189898e-03, 2.69794534e-02,\n",
              "       2.46826078e-03, 1.55331831e-02, 2.14012875e-02, 4.86655339e-03,\n",
              "       1.97443785e-03, 4.32644759e-03, 2.67678383e-04, 0.00000000e+00,\n",
              "       1.21899508e-05, 3.63696235e-04, 7.47944224e-03, 7.34979747e-03,\n",
              "       4.23785502e-03, 4.82116066e-03, 6.83053668e-03, 9.39456532e-03,\n",
              "       1.33585397e-02, 1.02673069e-03, 2.61292198e-03, 2.91891839e-03,\n",
              "       7.81717611e-04, 1.90580542e-03, 1.05617027e-03, 2.29805762e-03,\n",
              "       6.87380928e-03, 6.99751225e-03, 8.45059019e-03, 5.26741971e-03,\n",
              "       6.60786153e-03, 1.44554475e-02, 1.94602273e-03, 1.30617363e-03,\n",
              "       2.32771393e-03, 1.02134897e-02, 1.39431965e-02, 6.32914949e-03,\n",
              "       1.94491845e-02, 1.03430271e-02, 1.46949985e-03, 2.26203894e-03,\n",
              "       1.92101156e-03, 1.92132621e-03, 1.26961667e-03, 8.17982170e-04,\n",
              "       4.24977180e-04, 2.64305058e-03, 3.05045900e-05, 7.60343301e-03,\n",
              "       3.85152278e-03, 5.84113739e-03, 5.79960981e-03, 6.51006092e-03,\n",
              "       3.72402376e-03, 1.97224574e-03, 5.68509103e-02, 2.77074582e-03,\n",
              "       1.81781311e-04, 2.45830832e-02, 1.32282028e-02, 5.97139142e-04,\n",
              "       1.50653627e-04, 5.78696244e-03, 1.15429927e-04, 7.05467682e-03,\n",
              "       7.16280794e-04, 5.38097160e-03, 1.81745301e-03, 2.24301605e-04,\n",
              "       5.39915568e-04, 3.37063871e-04, 1.58589495e-03, 2.02854763e-03,\n",
              "       4.66286453e-04, 3.56267186e-04, 1.13749310e-03, 2.57903070e-04,\n",
              "       1.06705140e-04, 5.99157528e-04, 6.93010016e-03, 4.76577937e-03,\n",
              "       1.20987734e-02, 1.97154624e-05, 9.72565262e-04, 0.00000000e+00,\n",
              "       7.45274207e-05, 4.09671597e-03, 2.40235517e-02, 1.07681332e-02,\n",
              "       1.59268020e-02, 1.38580316e-02, 1.11278624e-02, 1.30307029e-02,\n",
              "       1.58072686e-02, 1.59578670e-02, 1.50605121e-02, 1.06098934e-02,\n",
              "       4.05179340e-03, 1.92242353e-02, 5.52529492e-04, 5.13665364e-03,\n",
              "       5.57892738e-03, 1.64438755e-03, 3.02396949e-04, 1.10241008e-02,\n",
              "       1.25787297e-02, 2.52580371e-04, 1.00255035e-03, 0.00000000e+00,\n",
              "       1.49135148e-03, 7.13672480e-03, 6.87663515e-03, 3.54166189e-03,\n",
              "       6.11849401e-03, 1.72738659e-03, 5.44100151e-03, 5.35854799e-04,\n",
              "       1.19879773e-02])"
            ]
          },
          "metadata": {},
          "execution_count": 71
        }
      ]
    },
    {
      "cell_type": "code",
      "source": [],
      "metadata": {
        "id": "1F1P4GYzPiBg"
      },
      "execution_count": null,
      "outputs": []
    }
  ]
}